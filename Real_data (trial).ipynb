{
  "nbformat": 4,
  "nbformat_minor": 0,
  "metadata": {
    "colab": {
      "name": "Real_data",
      "provenance": [],
      "collapsed_sections": [
        "jXEeZgvXXVIx",
        "rIHvGzeuYOcz",
        "47bVv_TpbtBv",
        "bQtLUT9fb2bX",
        "v35R2gDBr-WE",
        "gGbH5-K7i3Pj",
        "22lWlhavptAK",
        "T6DuCk56px62"
      ]
    },
    "kernelspec": {
      "display_name": "Python 3",
      "name": "python3"
    },
    "language_info": {
      "name": "python"
    }
  },
  "cells": [
    {
      "cell_type": "code",
      "metadata": {
        "colab": {
          "base_uri": "https://localhost:8080/"
        },
        "id": "UZDcBxSUAKDU",
        "outputId": "4da52db1-818b-4b34-8c32-1e24d9069956"
      },
      "source": [
        "from google.colab import drive\n",
        "drive.mount(\"/content/drive\")"
      ],
      "execution_count": 2767,
      "outputs": [
        {
          "output_type": "stream",
          "text": [
            "Drive already mounted at /content/drive; to attempt to forcibly remount, call drive.mount(\"/content/drive\", force_remount=True).\n"
          ],
          "name": "stdout"
        }
      ]
    },
    {
      "cell_type": "markdown",
      "metadata": {
        "id": "fdP8ntTlQX_z"
      },
      "source": [
        ""
      ]
    },
    {
      "cell_type": "code",
      "metadata": {
        "colab": {
          "base_uri": "https://localhost:8080/"
        },
        "id": "BlGL47K7AVRx",
        "outputId": "e2699ad9-4a4b-4717-9dc0-d88dfa0500f6"
      },
      "source": [
        "!pip install scikit-plot"
      ],
      "execution_count": 2768,
      "outputs": [
        {
          "output_type": "stream",
          "text": [
            "Requirement already satisfied: scikit-plot in /usr/local/lib/python3.7/dist-packages (0.3.7)\n",
            "Requirement already satisfied: scipy>=0.9 in /usr/local/lib/python3.7/dist-packages (from scikit-plot) (1.4.1)\n",
            "Requirement already satisfied: joblib>=0.10 in /usr/local/lib/python3.7/dist-packages (from scikit-plot) (1.0.1)\n",
            "Requirement already satisfied: matplotlib>=1.4.0 in /usr/local/lib/python3.7/dist-packages (from scikit-plot) (3.2.2)\n",
            "Requirement already satisfied: scikit-learn>=0.18 in /usr/local/lib/python3.7/dist-packages (from scikit-plot) (0.22.2.post1)\n",
            "Requirement already satisfied: numpy>=1.13.3 in /usr/local/lib/python3.7/dist-packages (from scipy>=0.9->scikit-plot) (1.19.5)\n",
            "Requirement already satisfied: kiwisolver>=1.0.1 in /usr/local/lib/python3.7/dist-packages (from matplotlib>=1.4.0->scikit-plot) (1.3.1)\n",
            "Requirement already satisfied: pyparsing!=2.0.4,!=2.1.2,!=2.1.6,>=2.0.1 in /usr/local/lib/python3.7/dist-packages (from matplotlib>=1.4.0->scikit-plot) (2.4.7)\n",
            "Requirement already satisfied: python-dateutil>=2.1 in /usr/local/lib/python3.7/dist-packages (from matplotlib>=1.4.0->scikit-plot) (2.8.1)\n",
            "Requirement already satisfied: cycler>=0.10 in /usr/local/lib/python3.7/dist-packages (from matplotlib>=1.4.0->scikit-plot) (0.10.0)\n",
            "Requirement already satisfied: six>=1.5 in /usr/local/lib/python3.7/dist-packages (from python-dateutil>=2.1->matplotlib>=1.4.0->scikit-plot) (1.15.0)\n"
          ],
          "name": "stdout"
        }
      ]
    },
    {
      "cell_type": "markdown",
      "metadata": {
        "id": "Dsk2HaEzQZqT"
      },
      "source": [
        "**Import the Packages**"
      ]
    },
    {
      "cell_type": "code",
      "metadata": {
        "id": "YIWFfrjzAVUj"
      },
      "source": [
        "import pandas as pd\n",
        "import numpy as np\n",
        "from sklearn import tree,svm\n",
        "from sklearn.model_selection import train_test_split, GridSearchCV\n",
        "from sklearn.tree import DecisionTreeClassifier\n",
        "from matplotlib import pyplot as plt\n",
        "import seaborn as sns\n",
        "import graphviz\n",
        "from sklearn.tree import export_graphviz\n",
        "from sklearn.metrics import classification_report, confusion_matrix, accuracy_score,roc_curve,auc,recall_score,precision_score\n",
        "from sklearn.ensemble import RandomForestClassifier\n",
        "import scikitplot as skplt\n",
        "%matplotlib inline"
      ],
      "execution_count": 2769,
      "outputs": []
    },
    {
      "cell_type": "markdown",
      "metadata": {
        "id": "J9vmdyEgQmd0"
      },
      "source": [
        "#**Read the file**"
      ]
    },
    {
      "cell_type": "code",
      "metadata": {
        "id": "mt9_SecpAVXW"
      },
      "source": [
        "data=pd.read_csv(\"/content/drive/MyDrive/Dataset/Project_Data.csv\")"
      ],
      "execution_count": 2770,
      "outputs": []
    },
    {
      "cell_type": "code",
      "metadata": {
        "colab": {
          "base_uri": "https://localhost:8080/",
          "height": 1000
        },
        "id": "lp8snJS7AVaV",
        "outputId": "2c659727-b936-4831-b5e2-c3e41ec92523"
      },
      "source": [
        "data"
      ],
      "execution_count": 2771,
      "outputs": [
        {
          "output_type": "execute_result",
          "data": {
            "text/html": [
              "<div>\n",
              "<style scoped>\n",
              "    .dataframe tbody tr th:only-of-type {\n",
              "        vertical-align: middle;\n",
              "    }\n",
              "\n",
              "    .dataframe tbody tr th {\n",
              "        vertical-align: top;\n",
              "    }\n",
              "\n",
              "    .dataframe thead th {\n",
              "        text-align: right;\n",
              "    }\n",
              "</style>\n",
              "<table border=\"1\" class=\"dataframe\">\n",
              "  <thead>\n",
              "    <tr style=\"text-align: right;\">\n",
              "      <th></th>\n",
              "      <th>Timestamp</th>\n",
              "      <th>Do you use  Video Streaming Platforms?</th>\n",
              "      <th>What is your Age?</th>\n",
              "      <th>How frequently you watch or stream online platforms?</th>\n",
              "      <th>What do you watch most on Video Streaming Platforms?</th>\n",
              "      <th>On what basis you frequently choose to watch on the Streaming Platforms?</th>\n",
              "      <th>Which of the following Subscription Based Video Streaming Platform do you currently use?</th>\n",
              "      <th>On what basis do you subscribe any of the above Platforms?</th>\n",
              "      <th>How long you are using these Video Streaming Platforms?</th>\n",
              "      <th>On scale of 5,Can you rate the Netflix? [Original Web Series]</th>\n",
              "      <th>On scale of 5,Can you rate the Netflix? [Movies]</th>\n",
              "      <th>On scale of 5,Can you rate the Netflix? [Documentaries]</th>\n",
              "      <th>On scale of 5,Can you rate the Netflix? [Others]</th>\n",
              "      <th>On scale of 5,Can you rate the Prime? [Original Web Series]</th>\n",
              "      <th>On scale of 5,Can you rate the Prime? [Movies]</th>\n",
              "      <th>On scale of 5,Can you rate the Prime? [Documentaries]</th>\n",
              "      <th>On scale of 5,Can you rate the Prime? [Sports and News]</th>\n",
              "      <th>On scale of 5,Can you rate the Hotstar? [Original Web Series]</th>\n",
              "      <th>On scale of 5,Can you rate the Hotstar? [Movies]</th>\n",
              "      <th>On scale of 5,Can you rate the Hotstar? [Documentaries]</th>\n",
              "      <th>On scale of 5,Can you rate the Hotstar? [Sports and News]</th>\n",
              "      <th>Have you watch or familiar with these original Web Series of Netflix?</th>\n",
              "      <th>Have you watch or familiar with these original Web Series of Prime?</th>\n",
              "      <th>Have you watch or familiar with these original Web Series of Hotstar?</th>\n",
              "      <th>From where did you get the idea of these Web Series?</th>\n",
              "      <th>Choose the features which you think is essential on your streaming platforms.</th>\n",
              "      <th>How was your overall experience of video streaming platform according to Original Series?</th>\n",
              "      <th>suggestions for the improvement of video streaming platforms?</th>\n",
              "    </tr>\n",
              "  </thead>\n",
              "  <tbody>\n",
              "    <tr>\n",
              "      <th>0</th>\n",
              "      <td>5/8/2021 13:40:40</td>\n",
              "      <td>Yes</td>\n",
              "      <td>18-30</td>\n",
              "      <td>Daily</td>\n",
              "      <td>All of the above</td>\n",
              "      <td>All of the above</td>\n",
              "      <td>Prime</td>\n",
              "      <td>Original Web Series</td>\n",
              "      <td>More than 2 Year</td>\n",
              "      <td>4</td>\n",
              "      <td>4</td>\n",
              "      <td>4</td>\n",
              "      <td>3</td>\n",
              "      <td>5</td>\n",
              "      <td>5</td>\n",
              "      <td>5</td>\n",
              "      <td>5</td>\n",
              "      <td>3</td>\n",
              "      <td>2</td>\n",
              "      <td>2</td>\n",
              "      <td>2</td>\n",
              "      <td>Sacred Games, 13 Reason Why, Money Heist</td>\n",
              "      <td>All of the above</td>\n",
              "      <td>None</td>\n",
              "      <td>All of the above</td>\n",
              "      <td>Search Option</td>\n",
              "      <td>Good</td>\n",
              "      <td>Remove Ads/Limit Ads duration</td>\n",
              "    </tr>\n",
              "    <tr>\n",
              "      <th>1</th>\n",
              "      <td>5/8/2021 13:44:41</td>\n",
              "      <td>Yes</td>\n",
              "      <td>18-30</td>\n",
              "      <td>Once or twice in a week</td>\n",
              "      <td>Original Web Series</td>\n",
              "      <td>Story</td>\n",
              "      <td>Netflix</td>\n",
              "      <td>Original Web Series</td>\n",
              "      <td>Between 1 and 2 Year</td>\n",
              "      <td>5</td>\n",
              "      <td>5</td>\n",
              "      <td>5</td>\n",
              "      <td>5</td>\n",
              "      <td>4</td>\n",
              "      <td>4</td>\n",
              "      <td>3</td>\n",
              "      <td>1</td>\n",
              "      <td>3</td>\n",
              "      <td>2</td>\n",
              "      <td>1</td>\n",
              "      <td>1</td>\n",
              "      <td>All of the Above</td>\n",
              "      <td>Mirzapur</td>\n",
              "      <td>None</td>\n",
              "      <td>Social Media</td>\n",
              "      <td>Search Option</td>\n",
              "      <td>Good</td>\n",
              "      <td>Decrease Subscription Price</td>\n",
              "    </tr>\n",
              "    <tr>\n",
              "      <th>2</th>\n",
              "      <td>5/8/2021 13:44:51</td>\n",
              "      <td>Yes</td>\n",
              "      <td>18-30</td>\n",
              "      <td>Once or twice in a week</td>\n",
              "      <td>Movies</td>\n",
              "      <td>Story</td>\n",
              "      <td>Hotstar</td>\n",
              "      <td>All of the above</td>\n",
              "      <td>Between 1 and 2 Year</td>\n",
              "      <td>5</td>\n",
              "      <td>4</td>\n",
              "      <td>4</td>\n",
              "      <td>4</td>\n",
              "      <td>4</td>\n",
              "      <td>3</td>\n",
              "      <td>4</td>\n",
              "      <td>4</td>\n",
              "      <td>4</td>\n",
              "      <td>5</td>\n",
              "      <td>4</td>\n",
              "      <td>5</td>\n",
              "      <td>Sacred Games, Money Heist</td>\n",
              "      <td>Mirzapur, Tandav</td>\n",
              "      <td>Criminal Justice, Arya</td>\n",
              "      <td>All of the above</td>\n",
              "      <td>Recommendation</td>\n",
              "      <td>Excellent</td>\n",
              "      <td>Remove Ads/Limit Ads duration</td>\n",
              "    </tr>\n",
              "    <tr>\n",
              "      <th>3</th>\n",
              "      <td>5/8/2021 13:49:19</td>\n",
              "      <td>Yes</td>\n",
              "      <td>31-50</td>\n",
              "      <td>Monthly</td>\n",
              "      <td>Movies, Documentaries, Sports and News</td>\n",
              "      <td>All of the above</td>\n",
              "      <td>Hotstar</td>\n",
              "      <td>Sports and News</td>\n",
              "      <td>Between 1 and 2 Year</td>\n",
              "      <td>1</td>\n",
              "      <td>1</td>\n",
              "      <td>1</td>\n",
              "      <td>1</td>\n",
              "      <td>1</td>\n",
              "      <td>1</td>\n",
              "      <td>1</td>\n",
              "      <td>1</td>\n",
              "      <td>4</td>\n",
              "      <td>4</td>\n",
              "      <td>5</td>\n",
              "      <td>5</td>\n",
              "      <td>None</td>\n",
              "      <td>None</td>\n",
              "      <td>All of the above</td>\n",
              "      <td>Television</td>\n",
              "      <td>Ease of use</td>\n",
              "      <td>Good</td>\n",
              "      <td>Availability in Languages</td>\n",
              "    </tr>\n",
              "    <tr>\n",
              "      <th>4</th>\n",
              "      <td>5/8/2021 14:39:38</td>\n",
              "      <td>Yes</td>\n",
              "      <td>18-30</td>\n",
              "      <td>Once or twice in a week</td>\n",
              "      <td>Movies</td>\n",
              "      <td>All of the above</td>\n",
              "      <td>All of the above</td>\n",
              "      <td>All of the above</td>\n",
              "      <td>More than 2 Year</td>\n",
              "      <td>3</td>\n",
              "      <td>4</td>\n",
              "      <td>2</td>\n",
              "      <td>1</td>\n",
              "      <td>4</td>\n",
              "      <td>5</td>\n",
              "      <td>4</td>\n",
              "      <td>4</td>\n",
              "      <td>3</td>\n",
              "      <td>3</td>\n",
              "      <td>3</td>\n",
              "      <td>3</td>\n",
              "      <td>Sacred Games, 13 Reason Why</td>\n",
              "      <td>All of the above</td>\n",
              "      <td>Speacial OPS</td>\n",
              "      <td>All of the above</td>\n",
              "      <td>All of the above</td>\n",
              "      <td>Good</td>\n",
              "      <td>Remove Ads/Limit Ads duration</td>\n",
              "    </tr>\n",
              "    <tr>\n",
              "      <th>...</th>\n",
              "      <td>...</td>\n",
              "      <td>...</td>\n",
              "      <td>...</td>\n",
              "      <td>...</td>\n",
              "      <td>...</td>\n",
              "      <td>...</td>\n",
              "      <td>...</td>\n",
              "      <td>...</td>\n",
              "      <td>...</td>\n",
              "      <td>...</td>\n",
              "      <td>...</td>\n",
              "      <td>...</td>\n",
              "      <td>...</td>\n",
              "      <td>...</td>\n",
              "      <td>...</td>\n",
              "      <td>...</td>\n",
              "      <td>...</td>\n",
              "      <td>...</td>\n",
              "      <td>...</td>\n",
              "      <td>...</td>\n",
              "      <td>...</td>\n",
              "      <td>...</td>\n",
              "      <td>...</td>\n",
              "      <td>...</td>\n",
              "      <td>...</td>\n",
              "      <td>...</td>\n",
              "      <td>...</td>\n",
              "      <td>...</td>\n",
              "    </tr>\n",
              "    <tr>\n",
              "      <th>245</th>\n",
              "      <td>5/20/2021 23:23:40</td>\n",
              "      <td>Yes</td>\n",
              "      <td>Less than 18</td>\n",
              "      <td>Monthly</td>\n",
              "      <td>Original Web Series, Movies</td>\n",
              "      <td>Story, Director</td>\n",
              "      <td>Netflix</td>\n",
              "      <td>All of the above</td>\n",
              "      <td>More than 2 Year</td>\n",
              "      <td>4</td>\n",
              "      <td>5</td>\n",
              "      <td>4</td>\n",
              "      <td>4</td>\n",
              "      <td>5</td>\n",
              "      <td>4</td>\n",
              "      <td>4</td>\n",
              "      <td>5</td>\n",
              "      <td>5</td>\n",
              "      <td>4</td>\n",
              "      <td>4</td>\n",
              "      <td>5</td>\n",
              "      <td>All of the Above</td>\n",
              "      <td>All of the above</td>\n",
              "      <td>All of the above</td>\n",
              "      <td>All of the above</td>\n",
              "      <td>All of the above</td>\n",
              "      <td>Good</td>\n",
              "      <td>Availability in Languages</td>\n",
              "    </tr>\n",
              "    <tr>\n",
              "      <th>246</th>\n",
              "      <td>5/20/2021 23:24:20</td>\n",
              "      <td>Yes</td>\n",
              "      <td>31-50</td>\n",
              "      <td>Monthly</td>\n",
              "      <td>Movies</td>\n",
              "      <td>Director</td>\n",
              "      <td>Netflix</td>\n",
              "      <td>Movies</td>\n",
              "      <td>Between 1 and 2 Year</td>\n",
              "      <td>5</td>\n",
              "      <td>4</td>\n",
              "      <td>4</td>\n",
              "      <td>4</td>\n",
              "      <td>5</td>\n",
              "      <td>5</td>\n",
              "      <td>4</td>\n",
              "      <td>4</td>\n",
              "      <td>5</td>\n",
              "      <td>5</td>\n",
              "      <td>4</td>\n",
              "      <td>4</td>\n",
              "      <td>The Witcher, Money Heist</td>\n",
              "      <td>Mirzapur, Tandav</td>\n",
              "      <td>Hostages, Arya</td>\n",
              "      <td>Television</td>\n",
              "      <td>All of the above</td>\n",
              "      <td>Excellent</td>\n",
              "      <td>Improvement in Story ,Casting</td>\n",
              "    </tr>\n",
              "    <tr>\n",
              "      <th>247</th>\n",
              "      <td>5/20/2021 23:25:03</td>\n",
              "      <td>Yes</td>\n",
              "      <td>18-30</td>\n",
              "      <td>Once or twice in a week</td>\n",
              "      <td>Movies, Sports and News</td>\n",
              "      <td>Story, Director</td>\n",
              "      <td>Prime</td>\n",
              "      <td>Movies</td>\n",
              "      <td>Less than 1 Year</td>\n",
              "      <td>5</td>\n",
              "      <td>4</td>\n",
              "      <td>4</td>\n",
              "      <td>3</td>\n",
              "      <td>5</td>\n",
              "      <td>4</td>\n",
              "      <td>4</td>\n",
              "      <td>4</td>\n",
              "      <td>5</td>\n",
              "      <td>4</td>\n",
              "      <td>4</td>\n",
              "      <td>5</td>\n",
              "      <td>Sacred Games, Money Heist</td>\n",
              "      <td>Mirzapur, Breath into the shadow</td>\n",
              "      <td>Hostages, Arya</td>\n",
              "      <td>Television</td>\n",
              "      <td>Ease of use</td>\n",
              "      <td>Good</td>\n",
              "      <td>Remove Ads/Limit Ads duration</td>\n",
              "    </tr>\n",
              "    <tr>\n",
              "      <th>248</th>\n",
              "      <td>5/20/2021 23:25:47</td>\n",
              "      <td>Yes</td>\n",
              "      <td>18-30</td>\n",
              "      <td>Once or twice in a week</td>\n",
              "      <td>Movies, Sports and News</td>\n",
              "      <td>Director</td>\n",
              "      <td>Prime</td>\n",
              "      <td>Movies</td>\n",
              "      <td>Less than 1 Year</td>\n",
              "      <td>5</td>\n",
              "      <td>4</td>\n",
              "      <td>4</td>\n",
              "      <td>3</td>\n",
              "      <td>5</td>\n",
              "      <td>4</td>\n",
              "      <td>4</td>\n",
              "      <td>4</td>\n",
              "      <td>5</td>\n",
              "      <td>4</td>\n",
              "      <td>4</td>\n",
              "      <td>5</td>\n",
              "      <td>Sacred Games, The Witcher</td>\n",
              "      <td>Mirzapur, Made in heaven</td>\n",
              "      <td>Criminal Justice</td>\n",
              "      <td>Television</td>\n",
              "      <td>Recommendation</td>\n",
              "      <td>Excellent</td>\n",
              "      <td>Decrease Subscription Price</td>\n",
              "    </tr>\n",
              "    <tr>\n",
              "      <th>249</th>\n",
              "      <td>5/20/2021 23:26:24</td>\n",
              "      <td>Yes</td>\n",
              "      <td>31-50</td>\n",
              "      <td>Monthly</td>\n",
              "      <td>All of the above</td>\n",
              "      <td>All of the above</td>\n",
              "      <td>All of the above</td>\n",
              "      <td>All of the above</td>\n",
              "      <td>Between 1 and 2 Year</td>\n",
              "      <td>5</td>\n",
              "      <td>4</td>\n",
              "      <td>4</td>\n",
              "      <td>3</td>\n",
              "      <td>5</td>\n",
              "      <td>4</td>\n",
              "      <td>4</td>\n",
              "      <td>5</td>\n",
              "      <td>5</td>\n",
              "      <td>4</td>\n",
              "      <td>3</td>\n",
              "      <td>4</td>\n",
              "      <td>All of the Above</td>\n",
              "      <td>All of the above</td>\n",
              "      <td>All of the above</td>\n",
              "      <td>All of the above</td>\n",
              "      <td>Ease of use</td>\n",
              "      <td>Excellent</td>\n",
              "      <td>Availability in Languages</td>\n",
              "    </tr>\n",
              "  </tbody>\n",
              "</table>\n",
              "<p>250 rows × 28 columns</p>\n",
              "</div>"
            ],
            "text/plain": [
              "              Timestamp  ... suggestions for the improvement of video streaming platforms? \n",
              "0     5/8/2021 13:40:40  ...                      Remove Ads/Limit Ads duration            \n",
              "1     5/8/2021 13:44:41  ...                        Decrease Subscription Price            \n",
              "2     5/8/2021 13:44:51  ...                      Remove Ads/Limit Ads duration            \n",
              "3     5/8/2021 13:49:19  ...                          Availability in Languages            \n",
              "4     5/8/2021 14:39:38  ...                      Remove Ads/Limit Ads duration            \n",
              "..                  ...  ...                                                ...            \n",
              "245  5/20/2021 23:23:40  ...                          Availability in Languages            \n",
              "246  5/20/2021 23:24:20  ...                      Improvement in Story ,Casting            \n",
              "247  5/20/2021 23:25:03  ...                      Remove Ads/Limit Ads duration            \n",
              "248  5/20/2021 23:25:47  ...                        Decrease Subscription Price            \n",
              "249  5/20/2021 23:26:24  ...                          Availability in Languages            \n",
              "\n",
              "[250 rows x 28 columns]"
            ]
          },
          "metadata": {
            "tags": []
          },
          "execution_count": 2771
        }
      ]
    },
    {
      "cell_type": "code",
      "metadata": {
        "colab": {
          "base_uri": "https://localhost:8080/"
        },
        "id": "MDQ10pf1AVdR",
        "outputId": "e4f05312-ca72-4469-f175-98fbcf41a634"
      },
      "source": [
        "data.columns"
      ],
      "execution_count": 2772,
      "outputs": [
        {
          "output_type": "execute_result",
          "data": {
            "text/plain": [
              "Index(['Timestamp', 'Do you use  Video Streaming Platforms?',\n",
              "       'What is your Age?',\n",
              "       'How frequently you watch or stream online platforms?',\n",
              "       'What do you watch most on Video Streaming Platforms?',\n",
              "       'On what basis you frequently choose to watch on the Streaming Platforms?',\n",
              "       'Which of the following Subscription Based Video Streaming Platform do you currently use?',\n",
              "       'On what basis do you subscribe any of the above Platforms?',\n",
              "       'How long you are using these Video Streaming Platforms?',\n",
              "       'On scale of 5,Can you rate the Netflix? [Original Web Series]',\n",
              "       'On scale of 5,Can you rate the Netflix? [Movies]',\n",
              "       'On scale of 5,Can you rate the Netflix? [Documentaries]',\n",
              "       'On scale of 5,Can you rate the Netflix? [Others]',\n",
              "       'On scale of 5,Can you rate the Prime? [Original Web Series]',\n",
              "       'On scale of 5,Can you rate the Prime? [Movies]',\n",
              "       'On scale of 5,Can you rate the Prime? [Documentaries]',\n",
              "       'On scale of 5,Can you rate the Prime? [Sports and News]',\n",
              "       'On scale of 5,Can you rate the Hotstar? [Original Web Series]',\n",
              "       'On scale of 5,Can you rate the Hotstar? [Movies]',\n",
              "       'On scale of 5,Can you rate the Hotstar? [Documentaries]',\n",
              "       'On scale of 5,Can you rate the Hotstar? [Sports and News]',\n",
              "       'Have you watch or familiar with these original Web Series of Netflix?',\n",
              "       'Have you watch or familiar with these original Web Series of Prime?',\n",
              "       'Have you watch or familiar with these original Web Series of Hotstar?',\n",
              "       'From where did you get the idea of these Web Series?',\n",
              "       'Choose the features which you think is essential on your streaming platforms.',\n",
              "       'How was your overall experience of video streaming platform according to Original Series?',\n",
              "       'suggestions for the improvement of video streaming platforms? '],\n",
              "      dtype='object')"
            ]
          },
          "metadata": {
            "tags": []
          },
          "execution_count": 2772
        }
      ]
    },
    {
      "cell_type": "markdown",
      "metadata": {
        "id": "tVfZ8HnuCzVA"
      },
      "source": [
        "#**Change the Column name of the dataset.**"
      ]
    },
    {
      "cell_type": "code",
      "metadata": {
        "id": "54f0yoKQAVgG"
      },
      "source": [
        "data.rename(columns ={\n",
        "        'Do you use  Video Streaming Platforms?':'Video Streaming Platform(Y/N)',\n",
        "        'What is your Age?':'Age',\n",
        "        'How frequently you watch or stream online platforms?':'Frequency',\n",
        "       'What do you watch most on Video Streaming Platforms?':'Most_watched',\n",
        "       'On what basis you frequently choose to watch on the Streaming Platforms?':'Selection',\n",
        "       'Which of the following Subscription Based Video Streaming Platform do you currently use?':'Platforms',\n",
        "       'On what basis do you subscribe any of the above Platforms?':'Subscription',\n",
        "       'How long you are using these Video Streaming Platforms?':'Duration',\n",
        "       'On scale of 5,Can you rate the Netflix? [Original Web Series]':'Netflix_Rating_Og',\n",
        "       'On scale of 5,Can you rate the Netflix? [Movies]':'Netflix_Rating_movie',\n",
        "       'On scale of 5,Can you rate the Netflix? [Documentaries]':'Netflix_Rating_documentry',\n",
        "       'On scale of 5,Can you rate the Netflix? [Others]':'Netflix_Rating_others',\n",
        "       'On scale of 5,Can you rate the Prime? [Original Web Series]':'Prime_Rating_Og',\n",
        "       'On scale of 5,Can you rate the Prime? [Movies]':'Prime_Rating_movie',\n",
        "       'On scale of 5,Can you rate the Prime? [Documentaries]':'Prime_Rating_documentry',\n",
        "       'On scale of 5,Can you rate the Prime? [Sports and News]':'Prime_Rating_others',\n",
        "       'On scale of 5,Can you rate the Hotstar? [Original Web Series]':'Hotstar_Rating_Og',\n",
        "       'On scale of 5,Can you rate the Hotstar? [Movies]':'Hotstar_Rating_movie',\n",
        "       'On scale of 5,Can you rate the Hotstar? [Documentaries]':'Hotstar_Rating_documentry',\n",
        "       'On scale of 5,Can you rate the Hotstar? [Sports and News]':'Hotstar_Rating_sports',\n",
        "       'Have you watch or familiar with these original Web Series of Netflix?':'Netflix_OgSeries',\n",
        "       'Have you watch or familiar with these original Web Series of Prime?':'Prime_OgSeries',\n",
        "       'Have you watch or familiar with these original Web Series of Hotstar?':'Hotstar_OgSeries',\n",
        "       'From where did you get the idea of these Web Series?':'Advertisment',\n",
        "       'Choose the features which you think is essential on your streaming platforms.':'Features',\n",
        "       'How was your overall experience of video streaming platform according to Original Series?':'Overall_Rating',\n",
        "       'suggestions for the improvement of video streaming platforms? ':'Suggestion'},inplace=True\n",
        "                )"
      ],
      "execution_count": 2773,
      "outputs": []
    },
    {
      "cell_type": "code",
      "metadata": {
        "colab": {
          "base_uri": "https://localhost:8080/"
        },
        "id": "OovDIBUoAVjA",
        "outputId": "02737a3a-542f-4191-ca04-99cea46f67f7"
      },
      "source": [
        "data.columns"
      ],
      "execution_count": 2774,
      "outputs": [
        {
          "output_type": "execute_result",
          "data": {
            "text/plain": [
              "Index(['Timestamp', 'Video Streaming Platform(Y/N)', 'Age', 'Frequency',\n",
              "       'Most_watched', 'Selection', 'Platforms', 'Subscription', 'Duration',\n",
              "       'Netflix_Rating_Og', 'Netflix_Rating_movie',\n",
              "       'Netflix_Rating_documentry', 'Netflix_Rating_others', 'Prime_Rating_Og',\n",
              "       'Prime_Rating_movie', 'Prime_Rating_documentry', 'Prime_Rating_others',\n",
              "       'Hotstar_Rating_Og', 'Hotstar_Rating_movie',\n",
              "       'Hotstar_Rating_documentry', 'Hotstar_Rating_sports',\n",
              "       'Netflix_OgSeries', 'Prime_OgSeries', 'Hotstar_OgSeries',\n",
              "       'Advertisment', 'Features', 'Overall_Rating', 'Suggestion'],\n",
              "      dtype='object')"
            ]
          },
          "metadata": {
            "tags": []
          },
          "execution_count": 2774
        }
      ]
    },
    {
      "cell_type": "markdown",
      "metadata": {
        "id": "Cne_7QouQ9FD"
      },
      "source": [
        "**display the number of rows and columns**"
      ]
    },
    {
      "cell_type": "code",
      "metadata": {
        "colab": {
          "base_uri": "https://localhost:8080/"
        },
        "id": "N1MMe0wzAVl2",
        "outputId": "4d5350c7-1c86-4acf-9f8c-b3a255e41cac"
      },
      "source": [
        "data.shape"
      ],
      "execution_count": 2775,
      "outputs": [
        {
          "output_type": "execute_result",
          "data": {
            "text/plain": [
              "(250, 28)"
            ]
          },
          "metadata": {
            "tags": []
          },
          "execution_count": 2775
        }
      ]
    },
    {
      "cell_type": "markdown",
      "metadata": {
        "id": "SHhv135wRGqC"
      },
      "source": [
        "#**display the data type of data**"
      ]
    },
    {
      "cell_type": "code",
      "metadata": {
        "colab": {
          "base_uri": "https://localhost:8080/"
        },
        "id": "ysxIyz8NAVon",
        "outputId": "7657ba49-de21-4f2a-bf10-e978bc6ce45f"
      },
      "source": [
        "data.dtypes"
      ],
      "execution_count": 2776,
      "outputs": [
        {
          "output_type": "execute_result",
          "data": {
            "text/plain": [
              "Timestamp                        object\n",
              "Video Streaming Platform(Y/N)    object\n",
              "Age                              object\n",
              "Frequency                        object\n",
              "Most_watched                     object\n",
              "Selection                        object\n",
              "Platforms                        object\n",
              "Subscription                     object\n",
              "Duration                         object\n",
              "Netflix_Rating_Og                 int64\n",
              "Netflix_Rating_movie              int64\n",
              "Netflix_Rating_documentry         int64\n",
              "Netflix_Rating_others             int64\n",
              "Prime_Rating_Og                   int64\n",
              "Prime_Rating_movie                int64\n",
              "Prime_Rating_documentry           int64\n",
              "Prime_Rating_others               int64\n",
              "Hotstar_Rating_Og                 int64\n",
              "Hotstar_Rating_movie              int64\n",
              "Hotstar_Rating_documentry         int64\n",
              "Hotstar_Rating_sports             int64\n",
              "Netflix_OgSeries                 object\n",
              "Prime_OgSeries                   object\n",
              "Hotstar_OgSeries                 object\n",
              "Advertisment                     object\n",
              "Features                         object\n",
              "Overall_Rating                   object\n",
              "Suggestion                       object\n",
              "dtype: object"
            ]
          },
          "metadata": {
            "tags": []
          },
          "execution_count": 2776
        }
      ]
    },
    {
      "cell_type": "code",
      "metadata": {
        "id": "nhN2d3fiYMt5"
      },
      "source": [
        ""
      ],
      "execution_count": 2776,
      "outputs": []
    },
    {
      "cell_type": "code",
      "metadata": {
        "colab": {
          "base_uri": "https://localhost:8080/"
        },
        "id": "KTz5gKupAVrY",
        "outputId": "4bce3596-c25e-4fb3-c57a-cf1c2869ff8b"
      },
      "source": [
        "data.info()"
      ],
      "execution_count": 2777,
      "outputs": [
        {
          "output_type": "stream",
          "text": [
            "<class 'pandas.core.frame.DataFrame'>\n",
            "RangeIndex: 250 entries, 0 to 249\n",
            "Data columns (total 28 columns):\n",
            " #   Column                         Non-Null Count  Dtype \n",
            "---  ------                         --------------  ----- \n",
            " 0   Timestamp                      250 non-null    object\n",
            " 1   Video Streaming Platform(Y/N)  250 non-null    object\n",
            " 2   Age                            250 non-null    object\n",
            " 3   Frequency                      250 non-null    object\n",
            " 4   Most_watched                   250 non-null    object\n",
            " 5   Selection                      250 non-null    object\n",
            " 6   Platforms                      250 non-null    object\n",
            " 7   Subscription                   250 non-null    object\n",
            " 8   Duration                       250 non-null    object\n",
            " 9   Netflix_Rating_Og              250 non-null    int64 \n",
            " 10  Netflix_Rating_movie           250 non-null    int64 \n",
            " 11  Netflix_Rating_documentry      250 non-null    int64 \n",
            " 12  Netflix_Rating_others          250 non-null    int64 \n",
            " 13  Prime_Rating_Og                250 non-null    int64 \n",
            " 14  Prime_Rating_movie             250 non-null    int64 \n",
            " 15  Prime_Rating_documentry        250 non-null    int64 \n",
            " 16  Prime_Rating_others            250 non-null    int64 \n",
            " 17  Hotstar_Rating_Og              250 non-null    int64 \n",
            " 18  Hotstar_Rating_movie           250 non-null    int64 \n",
            " 19  Hotstar_Rating_documentry      250 non-null    int64 \n",
            " 20  Hotstar_Rating_sports          250 non-null    int64 \n",
            " 21  Netflix_OgSeries               250 non-null    object\n",
            " 22  Prime_OgSeries                 250 non-null    object\n",
            " 23  Hotstar_OgSeries               250 non-null    object\n",
            " 24  Advertisment                   250 non-null    object\n",
            " 25  Features                       250 non-null    object\n",
            " 26  Overall_Rating                 250 non-null    object\n",
            " 27  Suggestion                     250 non-null    object\n",
            "dtypes: int64(12), object(16)\n",
            "memory usage: 54.8+ KB\n"
          ],
          "name": "stdout"
        }
      ]
    },
    {
      "cell_type": "code",
      "metadata": {
        "colab": {
          "base_uri": "https://localhost:8080/",
          "height": 441
        },
        "id": "m-L6PVo5AVuM",
        "outputId": "6c8a76ac-2031-4745-a52f-89cd9dad25fe"
      },
      "source": [
        "data.corr()"
      ],
      "execution_count": 2778,
      "outputs": [
        {
          "output_type": "execute_result",
          "data": {
            "text/html": [
              "<div>\n",
              "<style scoped>\n",
              "    .dataframe tbody tr th:only-of-type {\n",
              "        vertical-align: middle;\n",
              "    }\n",
              "\n",
              "    .dataframe tbody tr th {\n",
              "        vertical-align: top;\n",
              "    }\n",
              "\n",
              "    .dataframe thead th {\n",
              "        text-align: right;\n",
              "    }\n",
              "</style>\n",
              "<table border=\"1\" class=\"dataframe\">\n",
              "  <thead>\n",
              "    <tr style=\"text-align: right;\">\n",
              "      <th></th>\n",
              "      <th>Netflix_Rating_Og</th>\n",
              "      <th>Netflix_Rating_movie</th>\n",
              "      <th>Netflix_Rating_documentry</th>\n",
              "      <th>Netflix_Rating_others</th>\n",
              "      <th>Prime_Rating_Og</th>\n",
              "      <th>Prime_Rating_movie</th>\n",
              "      <th>Prime_Rating_documentry</th>\n",
              "      <th>Prime_Rating_others</th>\n",
              "      <th>Hotstar_Rating_Og</th>\n",
              "      <th>Hotstar_Rating_movie</th>\n",
              "      <th>Hotstar_Rating_documentry</th>\n",
              "      <th>Hotstar_Rating_sports</th>\n",
              "    </tr>\n",
              "  </thead>\n",
              "  <tbody>\n",
              "    <tr>\n",
              "      <th>Netflix_Rating_Og</th>\n",
              "      <td>1.000000</td>\n",
              "      <td>0.700059</td>\n",
              "      <td>0.594544</td>\n",
              "      <td>0.490165</td>\n",
              "      <td>0.641548</td>\n",
              "      <td>0.594505</td>\n",
              "      <td>0.435841</td>\n",
              "      <td>0.409887</td>\n",
              "      <td>0.595869</td>\n",
              "      <td>0.460879</td>\n",
              "      <td>0.267590</td>\n",
              "      <td>0.310622</td>\n",
              "    </tr>\n",
              "    <tr>\n",
              "      <th>Netflix_Rating_movie</th>\n",
              "      <td>0.700059</td>\n",
              "      <td>1.000000</td>\n",
              "      <td>0.498765</td>\n",
              "      <td>0.503326</td>\n",
              "      <td>0.528972</td>\n",
              "      <td>0.526944</td>\n",
              "      <td>0.312396</td>\n",
              "      <td>0.432535</td>\n",
              "      <td>0.503144</td>\n",
              "      <td>0.450504</td>\n",
              "      <td>0.244023</td>\n",
              "      <td>0.289490</td>\n",
              "    </tr>\n",
              "    <tr>\n",
              "      <th>Netflix_Rating_documentry</th>\n",
              "      <td>0.594544</td>\n",
              "      <td>0.498765</td>\n",
              "      <td>1.000000</td>\n",
              "      <td>0.651086</td>\n",
              "      <td>0.491358</td>\n",
              "      <td>0.508193</td>\n",
              "      <td>0.563045</td>\n",
              "      <td>0.422858</td>\n",
              "      <td>0.563753</td>\n",
              "      <td>0.542319</td>\n",
              "      <td>0.346399</td>\n",
              "      <td>0.381470</td>\n",
              "    </tr>\n",
              "    <tr>\n",
              "      <th>Netflix_Rating_others</th>\n",
              "      <td>0.490165</td>\n",
              "      <td>0.503326</td>\n",
              "      <td>0.651086</td>\n",
              "      <td>1.000000</td>\n",
              "      <td>0.411768</td>\n",
              "      <td>0.324026</td>\n",
              "      <td>0.362678</td>\n",
              "      <td>0.581964</td>\n",
              "      <td>0.534613</td>\n",
              "      <td>0.455612</td>\n",
              "      <td>0.354062</td>\n",
              "      <td>0.218042</td>\n",
              "    </tr>\n",
              "    <tr>\n",
              "      <th>Prime_Rating_Og</th>\n",
              "      <td>0.641548</td>\n",
              "      <td>0.528972</td>\n",
              "      <td>0.491358</td>\n",
              "      <td>0.411768</td>\n",
              "      <td>1.000000</td>\n",
              "      <td>0.725312</td>\n",
              "      <td>0.617707</td>\n",
              "      <td>0.522822</td>\n",
              "      <td>0.596357</td>\n",
              "      <td>0.478894</td>\n",
              "      <td>0.256065</td>\n",
              "      <td>0.316907</td>\n",
              "    </tr>\n",
              "    <tr>\n",
              "      <th>Prime_Rating_movie</th>\n",
              "      <td>0.594505</td>\n",
              "      <td>0.526944</td>\n",
              "      <td>0.508193</td>\n",
              "      <td>0.324026</td>\n",
              "      <td>0.725312</td>\n",
              "      <td>1.000000</td>\n",
              "      <td>0.591898</td>\n",
              "      <td>0.420470</td>\n",
              "      <td>0.482243</td>\n",
              "      <td>0.545204</td>\n",
              "      <td>0.283144</td>\n",
              "      <td>0.405522</td>\n",
              "    </tr>\n",
              "    <tr>\n",
              "      <th>Prime_Rating_documentry</th>\n",
              "      <td>0.435841</td>\n",
              "      <td>0.312396</td>\n",
              "      <td>0.563045</td>\n",
              "      <td>0.362678</td>\n",
              "      <td>0.617707</td>\n",
              "      <td>0.591898</td>\n",
              "      <td>1.000000</td>\n",
              "      <td>0.581178</td>\n",
              "      <td>0.529110</td>\n",
              "      <td>0.503590</td>\n",
              "      <td>0.391998</td>\n",
              "      <td>0.406669</td>\n",
              "    </tr>\n",
              "    <tr>\n",
              "      <th>Prime_Rating_others</th>\n",
              "      <td>0.409887</td>\n",
              "      <td>0.432535</td>\n",
              "      <td>0.422858</td>\n",
              "      <td>0.581964</td>\n",
              "      <td>0.522822</td>\n",
              "      <td>0.420470</td>\n",
              "      <td>0.581178</td>\n",
              "      <td>1.000000</td>\n",
              "      <td>0.614797</td>\n",
              "      <td>0.500543</td>\n",
              "      <td>0.383990</td>\n",
              "      <td>0.230451</td>\n",
              "    </tr>\n",
              "    <tr>\n",
              "      <th>Hotstar_Rating_Og</th>\n",
              "      <td>0.595869</td>\n",
              "      <td>0.503144</td>\n",
              "      <td>0.563753</td>\n",
              "      <td>0.534613</td>\n",
              "      <td>0.596357</td>\n",
              "      <td>0.482243</td>\n",
              "      <td>0.529110</td>\n",
              "      <td>0.614797</td>\n",
              "      <td>1.000000</td>\n",
              "      <td>0.751668</td>\n",
              "      <td>0.568944</td>\n",
              "      <td>0.412144</td>\n",
              "    </tr>\n",
              "    <tr>\n",
              "      <th>Hotstar_Rating_movie</th>\n",
              "      <td>0.460879</td>\n",
              "      <td>0.450504</td>\n",
              "      <td>0.542319</td>\n",
              "      <td>0.455612</td>\n",
              "      <td>0.478894</td>\n",
              "      <td>0.545204</td>\n",
              "      <td>0.503590</td>\n",
              "      <td>0.500543</td>\n",
              "      <td>0.751668</td>\n",
              "      <td>1.000000</td>\n",
              "      <td>0.575959</td>\n",
              "      <td>0.543472</td>\n",
              "    </tr>\n",
              "    <tr>\n",
              "      <th>Hotstar_Rating_documentry</th>\n",
              "      <td>0.267590</td>\n",
              "      <td>0.244023</td>\n",
              "      <td>0.346399</td>\n",
              "      <td>0.354062</td>\n",
              "      <td>0.256065</td>\n",
              "      <td>0.283144</td>\n",
              "      <td>0.391998</td>\n",
              "      <td>0.383990</td>\n",
              "      <td>0.568944</td>\n",
              "      <td>0.575959</td>\n",
              "      <td>1.000000</td>\n",
              "      <td>0.528857</td>\n",
              "    </tr>\n",
              "    <tr>\n",
              "      <th>Hotstar_Rating_sports</th>\n",
              "      <td>0.310622</td>\n",
              "      <td>0.289490</td>\n",
              "      <td>0.381470</td>\n",
              "      <td>0.218042</td>\n",
              "      <td>0.316907</td>\n",
              "      <td>0.405522</td>\n",
              "      <td>0.406669</td>\n",
              "      <td>0.230451</td>\n",
              "      <td>0.412144</td>\n",
              "      <td>0.543472</td>\n",
              "      <td>0.528857</td>\n",
              "      <td>1.000000</td>\n",
              "    </tr>\n",
              "  </tbody>\n",
              "</table>\n",
              "</div>"
            ],
            "text/plain": [
              "                           Netflix_Rating_Og  ...  Hotstar_Rating_sports\n",
              "Netflix_Rating_Og                   1.000000  ...               0.310622\n",
              "Netflix_Rating_movie                0.700059  ...               0.289490\n",
              "Netflix_Rating_documentry           0.594544  ...               0.381470\n",
              "Netflix_Rating_others               0.490165  ...               0.218042\n",
              "Prime_Rating_Og                     0.641548  ...               0.316907\n",
              "Prime_Rating_movie                  0.594505  ...               0.405522\n",
              "Prime_Rating_documentry             0.435841  ...               0.406669\n",
              "Prime_Rating_others                 0.409887  ...               0.230451\n",
              "Hotstar_Rating_Og                   0.595869  ...               0.412144\n",
              "Hotstar_Rating_movie                0.460879  ...               0.543472\n",
              "Hotstar_Rating_documentry           0.267590  ...               0.528857\n",
              "Hotstar_Rating_sports               0.310622  ...               1.000000\n",
              "\n",
              "[12 rows x 12 columns]"
            ]
          },
          "metadata": {
            "tags": []
          },
          "execution_count": 2778
        }
      ]
    },
    {
      "cell_type": "markdown",
      "metadata": {
        "id": "XvZq-jbVRV_t"
      },
      "source": [
        "#**display the last 20 rows of the data**"
      ]
    },
    {
      "cell_type": "code",
      "metadata": {
        "colab": {
          "base_uri": "https://localhost:8080/",
          "height": 1000
        },
        "id": "H30EUayCAVxI",
        "outputId": "312f36e9-8381-4121-b6b9-4656c80eba86"
      },
      "source": [
        "data.tail(20)"
      ],
      "execution_count": 2779,
      "outputs": [
        {
          "output_type": "execute_result",
          "data": {
            "text/html": [
              "<div>\n",
              "<style scoped>\n",
              "    .dataframe tbody tr th:only-of-type {\n",
              "        vertical-align: middle;\n",
              "    }\n",
              "\n",
              "    .dataframe tbody tr th {\n",
              "        vertical-align: top;\n",
              "    }\n",
              "\n",
              "    .dataframe thead th {\n",
              "        text-align: right;\n",
              "    }\n",
              "</style>\n",
              "<table border=\"1\" class=\"dataframe\">\n",
              "  <thead>\n",
              "    <tr style=\"text-align: right;\">\n",
              "      <th></th>\n",
              "      <th>Timestamp</th>\n",
              "      <th>Video Streaming Platform(Y/N)</th>\n",
              "      <th>Age</th>\n",
              "      <th>Frequency</th>\n",
              "      <th>Most_watched</th>\n",
              "      <th>Selection</th>\n",
              "      <th>Platforms</th>\n",
              "      <th>Subscription</th>\n",
              "      <th>Duration</th>\n",
              "      <th>Netflix_Rating_Og</th>\n",
              "      <th>Netflix_Rating_movie</th>\n",
              "      <th>Netflix_Rating_documentry</th>\n",
              "      <th>Netflix_Rating_others</th>\n",
              "      <th>Prime_Rating_Og</th>\n",
              "      <th>Prime_Rating_movie</th>\n",
              "      <th>Prime_Rating_documentry</th>\n",
              "      <th>Prime_Rating_others</th>\n",
              "      <th>Hotstar_Rating_Og</th>\n",
              "      <th>Hotstar_Rating_movie</th>\n",
              "      <th>Hotstar_Rating_documentry</th>\n",
              "      <th>Hotstar_Rating_sports</th>\n",
              "      <th>Netflix_OgSeries</th>\n",
              "      <th>Prime_OgSeries</th>\n",
              "      <th>Hotstar_OgSeries</th>\n",
              "      <th>Advertisment</th>\n",
              "      <th>Features</th>\n",
              "      <th>Overall_Rating</th>\n",
              "      <th>Suggestion</th>\n",
              "    </tr>\n",
              "  </thead>\n",
              "  <tbody>\n",
              "    <tr>\n",
              "      <th>230</th>\n",
              "      <td>5/19/2021 21:53:56</td>\n",
              "      <td>Yes</td>\n",
              "      <td>18-30</td>\n",
              "      <td>Monthly</td>\n",
              "      <td>All of the above</td>\n",
              "      <td>All of the above</td>\n",
              "      <td>All of the above</td>\n",
              "      <td>All of the above</td>\n",
              "      <td>More than 2 Year</td>\n",
              "      <td>5</td>\n",
              "      <td>4</td>\n",
              "      <td>4</td>\n",
              "      <td>3</td>\n",
              "      <td>5</td>\n",
              "      <td>4</td>\n",
              "      <td>3</td>\n",
              "      <td>4</td>\n",
              "      <td>5</td>\n",
              "      <td>4</td>\n",
              "      <td>3</td>\n",
              "      <td>5</td>\n",
              "      <td>All of the Above</td>\n",
              "      <td>All of the above</td>\n",
              "      <td>All of the above</td>\n",
              "      <td>Family/Friends Recommendation</td>\n",
              "      <td>Recommendation</td>\n",
              "      <td>Good</td>\n",
              "      <td>Availability in Languages</td>\n",
              "    </tr>\n",
              "    <tr>\n",
              "      <th>231</th>\n",
              "      <td>5/19/2021 21:54:36</td>\n",
              "      <td>Yes</td>\n",
              "      <td>18-30</td>\n",
              "      <td>Monthly</td>\n",
              "      <td>All of the above</td>\n",
              "      <td>All of the above</td>\n",
              "      <td>All of the above</td>\n",
              "      <td>All of the above</td>\n",
              "      <td>More than 2 Year</td>\n",
              "      <td>5</td>\n",
              "      <td>5</td>\n",
              "      <td>4</td>\n",
              "      <td>3</td>\n",
              "      <td>5</td>\n",
              "      <td>4</td>\n",
              "      <td>4</td>\n",
              "      <td>5</td>\n",
              "      <td>5</td>\n",
              "      <td>4</td>\n",
              "      <td>4</td>\n",
              "      <td>3</td>\n",
              "      <td>All of the Above</td>\n",
              "      <td>All of the above</td>\n",
              "      <td>All of the above</td>\n",
              "      <td>All of the above</td>\n",
              "      <td>All of the above</td>\n",
              "      <td>Excellent</td>\n",
              "      <td>Decrease Subscription Price</td>\n",
              "    </tr>\n",
              "    <tr>\n",
              "      <th>232</th>\n",
              "      <td>5/19/2021 21:54:47</td>\n",
              "      <td>Yes</td>\n",
              "      <td>18-30</td>\n",
              "      <td>Daily</td>\n",
              "      <td>Original Web Series, Movies</td>\n",
              "      <td>All of the above</td>\n",
              "      <td>Netflix</td>\n",
              "      <td>Original Web Series</td>\n",
              "      <td>More than 2 Year</td>\n",
              "      <td>5</td>\n",
              "      <td>5</td>\n",
              "      <td>5</td>\n",
              "      <td>3</td>\n",
              "      <td>4</td>\n",
              "      <td>5</td>\n",
              "      <td>4</td>\n",
              "      <td>3</td>\n",
              "      <td>4</td>\n",
              "      <td>5</td>\n",
              "      <td>3</td>\n",
              "      <td>4</td>\n",
              "      <td>All of the Above</td>\n",
              "      <td>None</td>\n",
              "      <td>None</td>\n",
              "      <td>Social Media</td>\n",
              "      <td>Search Option</td>\n",
              "      <td>Good</td>\n",
              "      <td>Decrease Subscription Price</td>\n",
              "    </tr>\n",
              "    <tr>\n",
              "      <th>233</th>\n",
              "      <td>5/19/2021 21:57:57</td>\n",
              "      <td>Yes</td>\n",
              "      <td>18-30</td>\n",
              "      <td>Once or twice in a week</td>\n",
              "      <td>Movies</td>\n",
              "      <td>Story</td>\n",
              "      <td>Prime</td>\n",
              "      <td>Original Web Series</td>\n",
              "      <td>More than 2 Year</td>\n",
              "      <td>5</td>\n",
              "      <td>4</td>\n",
              "      <td>5</td>\n",
              "      <td>4</td>\n",
              "      <td>5</td>\n",
              "      <td>5</td>\n",
              "      <td>4</td>\n",
              "      <td>3</td>\n",
              "      <td>3</td>\n",
              "      <td>4</td>\n",
              "      <td>4</td>\n",
              "      <td>5</td>\n",
              "      <td>None</td>\n",
              "      <td>Breath into the shadow</td>\n",
              "      <td>None</td>\n",
              "      <td>Social Media</td>\n",
              "      <td>Recommendation</td>\n",
              "      <td>Excellent</td>\n",
              "      <td>Improvement in Story ,Casting</td>\n",
              "    </tr>\n",
              "    <tr>\n",
              "      <th>234</th>\n",
              "      <td>5/19/2021 23:15:29</td>\n",
              "      <td>Yes</td>\n",
              "      <td>Less than 18</td>\n",
              "      <td>Daily</td>\n",
              "      <td>Movies</td>\n",
              "      <td>Story</td>\n",
              "      <td>Hotstar</td>\n",
              "      <td>Movies</td>\n",
              "      <td>Between 1 and 2 Year</td>\n",
              "      <td>3</td>\n",
              "      <td>1</td>\n",
              "      <td>3</td>\n",
              "      <td>3</td>\n",
              "      <td>3</td>\n",
              "      <td>1</td>\n",
              "      <td>3</td>\n",
              "      <td>1</td>\n",
              "      <td>2</td>\n",
              "      <td>1</td>\n",
              "      <td>3</td>\n",
              "      <td>1</td>\n",
              "      <td>None</td>\n",
              "      <td>Tandav</td>\n",
              "      <td>All of the above</td>\n",
              "      <td>Family/Friends Recommendation</td>\n",
              "      <td>Recommendation</td>\n",
              "      <td>Good</td>\n",
              "      <td>Remove Ads/Limit Ads duration</td>\n",
              "    </tr>\n",
              "    <tr>\n",
              "      <th>235</th>\n",
              "      <td>5/19/2021 23:18:26</td>\n",
              "      <td>Yes</td>\n",
              "      <td>31-50</td>\n",
              "      <td>Once or twice in a week</td>\n",
              "      <td>All of the above</td>\n",
              "      <td>Story</td>\n",
              "      <td>Prime</td>\n",
              "      <td>Original Web Series</td>\n",
              "      <td>Between 1 and 2 Year</td>\n",
              "      <td>1</td>\n",
              "      <td>2</td>\n",
              "      <td>2</td>\n",
              "      <td>3</td>\n",
              "      <td>1</td>\n",
              "      <td>1</td>\n",
              "      <td>3</td>\n",
              "      <td>3</td>\n",
              "      <td>1</td>\n",
              "      <td>1</td>\n",
              "      <td>3</td>\n",
              "      <td>1</td>\n",
              "      <td>None</td>\n",
              "      <td>All of the above</td>\n",
              "      <td>All of the above</td>\n",
              "      <td>Family/Friends Recommendation</td>\n",
              "      <td>Recommendation</td>\n",
              "      <td>Fair</td>\n",
              "      <td>Improvement in Story ,Casting</td>\n",
              "    </tr>\n",
              "    <tr>\n",
              "      <th>236</th>\n",
              "      <td>5/19/2021 23:31:14</td>\n",
              "      <td>Yes</td>\n",
              "      <td>31-50</td>\n",
              "      <td>Once or twice in a week</td>\n",
              "      <td>Movies, Sports and News</td>\n",
              "      <td>Story</td>\n",
              "      <td>All of the above</td>\n",
              "      <td>All of the above</td>\n",
              "      <td>Between 1 and 2 Year</td>\n",
              "      <td>1</td>\n",
              "      <td>1</td>\n",
              "      <td>2</td>\n",
              "      <td>2</td>\n",
              "      <td>2</td>\n",
              "      <td>1</td>\n",
              "      <td>2</td>\n",
              "      <td>1</td>\n",
              "      <td>1</td>\n",
              "      <td>1</td>\n",
              "      <td>3</td>\n",
              "      <td>1</td>\n",
              "      <td>13 Reason Why</td>\n",
              "      <td>Mirzapur, Tandav</td>\n",
              "      <td>Speacial OPS, Arya</td>\n",
              "      <td>Television</td>\n",
              "      <td>Search Option</td>\n",
              "      <td>Fair</td>\n",
              "      <td>Improvement in Story ,Casting</td>\n",
              "    </tr>\n",
              "    <tr>\n",
              "      <th>237</th>\n",
              "      <td>5/20/2021 10:48:23</td>\n",
              "      <td>Yes</td>\n",
              "      <td>18-30</td>\n",
              "      <td>Daily</td>\n",
              "      <td>Original Web Series</td>\n",
              "      <td>All of the above</td>\n",
              "      <td>Netflix</td>\n",
              "      <td>Original Web Series</td>\n",
              "      <td>More than 2 Year</td>\n",
              "      <td>5</td>\n",
              "      <td>5</td>\n",
              "      <td>4</td>\n",
              "      <td>3</td>\n",
              "      <td>3</td>\n",
              "      <td>4</td>\n",
              "      <td>1</td>\n",
              "      <td>1</td>\n",
              "      <td>1</td>\n",
              "      <td>2</td>\n",
              "      <td>3</td>\n",
              "      <td>3</td>\n",
              "      <td>All of the Above</td>\n",
              "      <td>Mirzapur</td>\n",
              "      <td>None</td>\n",
              "      <td>All of the above</td>\n",
              "      <td>Search Option</td>\n",
              "      <td>Excellent</td>\n",
              "      <td>Decrease Subscription Price</td>\n",
              "    </tr>\n",
              "    <tr>\n",
              "      <th>238</th>\n",
              "      <td>5/20/2021 10:49:17</td>\n",
              "      <td>Yes</td>\n",
              "      <td>31-50</td>\n",
              "      <td>Once or twice in a week</td>\n",
              "      <td>Movies, Documentaries, Sports and News</td>\n",
              "      <td>All of the above</td>\n",
              "      <td>Hotstar</td>\n",
              "      <td>Sports and News</td>\n",
              "      <td>Less than 1 Year</td>\n",
              "      <td>1</td>\n",
              "      <td>1</td>\n",
              "      <td>1</td>\n",
              "      <td>1</td>\n",
              "      <td>1</td>\n",
              "      <td>1</td>\n",
              "      <td>2</td>\n",
              "      <td>2</td>\n",
              "      <td>1</td>\n",
              "      <td>1</td>\n",
              "      <td>4</td>\n",
              "      <td>5</td>\n",
              "      <td>None</td>\n",
              "      <td>None</td>\n",
              "      <td>None</td>\n",
              "      <td>Television</td>\n",
              "      <td>Ease of use</td>\n",
              "      <td>Excellent</td>\n",
              "      <td>Availability in Languages</td>\n",
              "    </tr>\n",
              "    <tr>\n",
              "      <th>239</th>\n",
              "      <td>5/20/2021 11:04:45</td>\n",
              "      <td>Yes</td>\n",
              "      <td>18-30</td>\n",
              "      <td>Daily</td>\n",
              "      <td>Original Web Series, Movies</td>\n",
              "      <td>All of the above</td>\n",
              "      <td>Netflix</td>\n",
              "      <td>Original Web Series</td>\n",
              "      <td>Less than 1 Year</td>\n",
              "      <td>5</td>\n",
              "      <td>4</td>\n",
              "      <td>5</td>\n",
              "      <td>3</td>\n",
              "      <td>4</td>\n",
              "      <td>5</td>\n",
              "      <td>5</td>\n",
              "      <td>4</td>\n",
              "      <td>3</td>\n",
              "      <td>4</td>\n",
              "      <td>3</td>\n",
              "      <td>5</td>\n",
              "      <td>All of the Above</td>\n",
              "      <td>None</td>\n",
              "      <td>None</td>\n",
              "      <td>Social Media</td>\n",
              "      <td>Recommendation</td>\n",
              "      <td>Excellent</td>\n",
              "      <td>Decrease Subscription Price</td>\n",
              "    </tr>\n",
              "    <tr>\n",
              "      <th>240</th>\n",
              "      <td>5/20/2021 11:07:15</td>\n",
              "      <td>Yes</td>\n",
              "      <td>31-50</td>\n",
              "      <td>Daily</td>\n",
              "      <td>All of the above</td>\n",
              "      <td>Story, Director</td>\n",
              "      <td>All of the above</td>\n",
              "      <td>Original Web Series</td>\n",
              "      <td>Between 1 and 2 Year</td>\n",
              "      <td>4</td>\n",
              "      <td>5</td>\n",
              "      <td>5</td>\n",
              "      <td>3</td>\n",
              "      <td>4</td>\n",
              "      <td>5</td>\n",
              "      <td>3</td>\n",
              "      <td>3</td>\n",
              "      <td>3</td>\n",
              "      <td>5</td>\n",
              "      <td>4</td>\n",
              "      <td>5</td>\n",
              "      <td>Sacred Games, Money Heist</td>\n",
              "      <td>Mirzapur, Tandav</td>\n",
              "      <td>Hostages, Criminal Justice</td>\n",
              "      <td>All of the above</td>\n",
              "      <td>Recommendation</td>\n",
              "      <td>Excellent</td>\n",
              "      <td>Availability in Languages</td>\n",
              "    </tr>\n",
              "    <tr>\n",
              "      <th>241</th>\n",
              "      <td>5/20/2021 11:13:54</td>\n",
              "      <td>Yes</td>\n",
              "      <td>18-30</td>\n",
              "      <td>Daily</td>\n",
              "      <td>Movies</td>\n",
              "      <td>Cast, Story</td>\n",
              "      <td>Prime</td>\n",
              "      <td>Original Web Series</td>\n",
              "      <td>Less than 1 Year</td>\n",
              "      <td>5</td>\n",
              "      <td>5</td>\n",
              "      <td>5</td>\n",
              "      <td>4</td>\n",
              "      <td>5</td>\n",
              "      <td>4</td>\n",
              "      <td>4</td>\n",
              "      <td>3</td>\n",
              "      <td>5</td>\n",
              "      <td>4</td>\n",
              "      <td>5</td>\n",
              "      <td>5</td>\n",
              "      <td>None</td>\n",
              "      <td>All of the above</td>\n",
              "      <td>None</td>\n",
              "      <td>Social Media</td>\n",
              "      <td>All of the above</td>\n",
              "      <td>Excellent</td>\n",
              "      <td>Availability in Languages</td>\n",
              "    </tr>\n",
              "    <tr>\n",
              "      <th>242</th>\n",
              "      <td>5/20/2021 11:50:41</td>\n",
              "      <td>Yes</td>\n",
              "      <td>More than 50</td>\n",
              "      <td>Once or twice in a week</td>\n",
              "      <td>Movies</td>\n",
              "      <td>Story</td>\n",
              "      <td>Prime</td>\n",
              "      <td>Movies</td>\n",
              "      <td>Less than 1 Year</td>\n",
              "      <td>3</td>\n",
              "      <td>1</td>\n",
              "      <td>3</td>\n",
              "      <td>3</td>\n",
              "      <td>3</td>\n",
              "      <td>1</td>\n",
              "      <td>3</td>\n",
              "      <td>3</td>\n",
              "      <td>3</td>\n",
              "      <td>1</td>\n",
              "      <td>3</td>\n",
              "      <td>1</td>\n",
              "      <td>None</td>\n",
              "      <td>None</td>\n",
              "      <td>All of the above</td>\n",
              "      <td>Television</td>\n",
              "      <td>Ease of use</td>\n",
              "      <td>Fair</td>\n",
              "      <td>Improvement in Story ,Casting</td>\n",
              "    </tr>\n",
              "    <tr>\n",
              "      <th>243</th>\n",
              "      <td>5/20/2021 11:52:06</td>\n",
              "      <td>Yes</td>\n",
              "      <td>18-30</td>\n",
              "      <td>Daily</td>\n",
              "      <td>Original Web Series</td>\n",
              "      <td>Story</td>\n",
              "      <td>Netflix</td>\n",
              "      <td>Original Web Series</td>\n",
              "      <td>Between 1 and 2 Year</td>\n",
              "      <td>1</td>\n",
              "      <td>2</td>\n",
              "      <td>2</td>\n",
              "      <td>2</td>\n",
              "      <td>1</td>\n",
              "      <td>2</td>\n",
              "      <td>2</td>\n",
              "      <td>2</td>\n",
              "      <td>1</td>\n",
              "      <td>2</td>\n",
              "      <td>2</td>\n",
              "      <td>2</td>\n",
              "      <td>All of the Above</td>\n",
              "      <td>Tandav</td>\n",
              "      <td>Arya</td>\n",
              "      <td>Family/Friends Recommendation</td>\n",
              "      <td>All of the above</td>\n",
              "      <td>Fair</td>\n",
              "      <td>Remove Ads/Limit Ads duration</td>\n",
              "    </tr>\n",
              "    <tr>\n",
              "      <th>244</th>\n",
              "      <td>5/20/2021 11:53:49</td>\n",
              "      <td>Yes</td>\n",
              "      <td>31-50</td>\n",
              "      <td>Monthly</td>\n",
              "      <td>Movies, Sports and News</td>\n",
              "      <td>Story</td>\n",
              "      <td>Hotstar</td>\n",
              "      <td>Movies</td>\n",
              "      <td>Less than 1 Year</td>\n",
              "      <td>1</td>\n",
              "      <td>2</td>\n",
              "      <td>2</td>\n",
              "      <td>2</td>\n",
              "      <td>1</td>\n",
              "      <td>1</td>\n",
              "      <td>2</td>\n",
              "      <td>2</td>\n",
              "      <td>1</td>\n",
              "      <td>2</td>\n",
              "      <td>2</td>\n",
              "      <td>2</td>\n",
              "      <td>Money Heist</td>\n",
              "      <td>All of the above</td>\n",
              "      <td>All of the above</td>\n",
              "      <td>All of the above</td>\n",
              "      <td>All of the above</td>\n",
              "      <td>Excellent</td>\n",
              "      <td>All of the above</td>\n",
              "    </tr>\n",
              "    <tr>\n",
              "      <th>245</th>\n",
              "      <td>5/20/2021 23:23:40</td>\n",
              "      <td>Yes</td>\n",
              "      <td>Less than 18</td>\n",
              "      <td>Monthly</td>\n",
              "      <td>Original Web Series, Movies</td>\n",
              "      <td>Story, Director</td>\n",
              "      <td>Netflix</td>\n",
              "      <td>All of the above</td>\n",
              "      <td>More than 2 Year</td>\n",
              "      <td>4</td>\n",
              "      <td>5</td>\n",
              "      <td>4</td>\n",
              "      <td>4</td>\n",
              "      <td>5</td>\n",
              "      <td>4</td>\n",
              "      <td>4</td>\n",
              "      <td>5</td>\n",
              "      <td>5</td>\n",
              "      <td>4</td>\n",
              "      <td>4</td>\n",
              "      <td>5</td>\n",
              "      <td>All of the Above</td>\n",
              "      <td>All of the above</td>\n",
              "      <td>All of the above</td>\n",
              "      <td>All of the above</td>\n",
              "      <td>All of the above</td>\n",
              "      <td>Good</td>\n",
              "      <td>Availability in Languages</td>\n",
              "    </tr>\n",
              "    <tr>\n",
              "      <th>246</th>\n",
              "      <td>5/20/2021 23:24:20</td>\n",
              "      <td>Yes</td>\n",
              "      <td>31-50</td>\n",
              "      <td>Monthly</td>\n",
              "      <td>Movies</td>\n",
              "      <td>Director</td>\n",
              "      <td>Netflix</td>\n",
              "      <td>Movies</td>\n",
              "      <td>Between 1 and 2 Year</td>\n",
              "      <td>5</td>\n",
              "      <td>4</td>\n",
              "      <td>4</td>\n",
              "      <td>4</td>\n",
              "      <td>5</td>\n",
              "      <td>5</td>\n",
              "      <td>4</td>\n",
              "      <td>4</td>\n",
              "      <td>5</td>\n",
              "      <td>5</td>\n",
              "      <td>4</td>\n",
              "      <td>4</td>\n",
              "      <td>The Witcher, Money Heist</td>\n",
              "      <td>Mirzapur, Tandav</td>\n",
              "      <td>Hostages, Arya</td>\n",
              "      <td>Television</td>\n",
              "      <td>All of the above</td>\n",
              "      <td>Excellent</td>\n",
              "      <td>Improvement in Story ,Casting</td>\n",
              "    </tr>\n",
              "    <tr>\n",
              "      <th>247</th>\n",
              "      <td>5/20/2021 23:25:03</td>\n",
              "      <td>Yes</td>\n",
              "      <td>18-30</td>\n",
              "      <td>Once or twice in a week</td>\n",
              "      <td>Movies, Sports and News</td>\n",
              "      <td>Story, Director</td>\n",
              "      <td>Prime</td>\n",
              "      <td>Movies</td>\n",
              "      <td>Less than 1 Year</td>\n",
              "      <td>5</td>\n",
              "      <td>4</td>\n",
              "      <td>4</td>\n",
              "      <td>3</td>\n",
              "      <td>5</td>\n",
              "      <td>4</td>\n",
              "      <td>4</td>\n",
              "      <td>4</td>\n",
              "      <td>5</td>\n",
              "      <td>4</td>\n",
              "      <td>4</td>\n",
              "      <td>5</td>\n",
              "      <td>Sacred Games, Money Heist</td>\n",
              "      <td>Mirzapur, Breath into the shadow</td>\n",
              "      <td>Hostages, Arya</td>\n",
              "      <td>Television</td>\n",
              "      <td>Ease of use</td>\n",
              "      <td>Good</td>\n",
              "      <td>Remove Ads/Limit Ads duration</td>\n",
              "    </tr>\n",
              "    <tr>\n",
              "      <th>248</th>\n",
              "      <td>5/20/2021 23:25:47</td>\n",
              "      <td>Yes</td>\n",
              "      <td>18-30</td>\n",
              "      <td>Once or twice in a week</td>\n",
              "      <td>Movies, Sports and News</td>\n",
              "      <td>Director</td>\n",
              "      <td>Prime</td>\n",
              "      <td>Movies</td>\n",
              "      <td>Less than 1 Year</td>\n",
              "      <td>5</td>\n",
              "      <td>4</td>\n",
              "      <td>4</td>\n",
              "      <td>3</td>\n",
              "      <td>5</td>\n",
              "      <td>4</td>\n",
              "      <td>4</td>\n",
              "      <td>4</td>\n",
              "      <td>5</td>\n",
              "      <td>4</td>\n",
              "      <td>4</td>\n",
              "      <td>5</td>\n",
              "      <td>Sacred Games, The Witcher</td>\n",
              "      <td>Mirzapur, Made in heaven</td>\n",
              "      <td>Criminal Justice</td>\n",
              "      <td>Television</td>\n",
              "      <td>Recommendation</td>\n",
              "      <td>Excellent</td>\n",
              "      <td>Decrease Subscription Price</td>\n",
              "    </tr>\n",
              "    <tr>\n",
              "      <th>249</th>\n",
              "      <td>5/20/2021 23:26:24</td>\n",
              "      <td>Yes</td>\n",
              "      <td>31-50</td>\n",
              "      <td>Monthly</td>\n",
              "      <td>All of the above</td>\n",
              "      <td>All of the above</td>\n",
              "      <td>All of the above</td>\n",
              "      <td>All of the above</td>\n",
              "      <td>Between 1 and 2 Year</td>\n",
              "      <td>5</td>\n",
              "      <td>4</td>\n",
              "      <td>4</td>\n",
              "      <td>3</td>\n",
              "      <td>5</td>\n",
              "      <td>4</td>\n",
              "      <td>4</td>\n",
              "      <td>5</td>\n",
              "      <td>5</td>\n",
              "      <td>4</td>\n",
              "      <td>3</td>\n",
              "      <td>4</td>\n",
              "      <td>All of the Above</td>\n",
              "      <td>All of the above</td>\n",
              "      <td>All of the above</td>\n",
              "      <td>All of the above</td>\n",
              "      <td>Ease of use</td>\n",
              "      <td>Excellent</td>\n",
              "      <td>Availability in Languages</td>\n",
              "    </tr>\n",
              "  </tbody>\n",
              "</table>\n",
              "</div>"
            ],
            "text/plain": [
              "              Timestamp  ...                     Suggestion\n",
              "230  5/19/2021 21:53:56  ...      Availability in Languages\n",
              "231  5/19/2021 21:54:36  ...    Decrease Subscription Price\n",
              "232  5/19/2021 21:54:47  ...    Decrease Subscription Price\n",
              "233  5/19/2021 21:57:57  ...  Improvement in Story ,Casting\n",
              "234  5/19/2021 23:15:29  ...  Remove Ads/Limit Ads duration\n",
              "235  5/19/2021 23:18:26  ...  Improvement in Story ,Casting\n",
              "236  5/19/2021 23:31:14  ...  Improvement in Story ,Casting\n",
              "237  5/20/2021 10:48:23  ...    Decrease Subscription Price\n",
              "238  5/20/2021 10:49:17  ...      Availability in Languages\n",
              "239  5/20/2021 11:04:45  ...    Decrease Subscription Price\n",
              "240  5/20/2021 11:07:15  ...      Availability in Languages\n",
              "241  5/20/2021 11:13:54  ...      Availability in Languages\n",
              "242  5/20/2021 11:50:41  ...  Improvement in Story ,Casting\n",
              "243  5/20/2021 11:52:06  ...  Remove Ads/Limit Ads duration\n",
              "244  5/20/2021 11:53:49  ...               All of the above\n",
              "245  5/20/2021 23:23:40  ...      Availability in Languages\n",
              "246  5/20/2021 23:24:20  ...  Improvement in Story ,Casting\n",
              "247  5/20/2021 23:25:03  ...  Remove Ads/Limit Ads duration\n",
              "248  5/20/2021 23:25:47  ...    Decrease Subscription Price\n",
              "249  5/20/2021 23:26:24  ...      Availability in Languages\n",
              "\n",
              "[20 rows x 28 columns]"
            ]
          },
          "metadata": {
            "tags": []
          },
          "execution_count": 2779
        }
      ]
    },
    {
      "cell_type": "markdown",
      "metadata": {
        "id": "ytmrx_6BRckG"
      },
      "source": [
        "#**checking duplicate values in data**"
      ]
    },
    {
      "cell_type": "code",
      "metadata": {
        "colab": {
          "base_uri": "https://localhost:8080/",
          "height": 103
        },
        "id": "r6nHZ6PSAV0K",
        "outputId": "2b54efef-c1ed-43f3-829d-fe6c95c9c48e"
      },
      "source": [
        "duplicate=data[data.duplicated()]\n",
        "duplicate"
      ],
      "execution_count": 2780,
      "outputs": [
        {
          "output_type": "execute_result",
          "data": {
            "text/html": [
              "<div>\n",
              "<style scoped>\n",
              "    .dataframe tbody tr th:only-of-type {\n",
              "        vertical-align: middle;\n",
              "    }\n",
              "\n",
              "    .dataframe tbody tr th {\n",
              "        vertical-align: top;\n",
              "    }\n",
              "\n",
              "    .dataframe thead th {\n",
              "        text-align: right;\n",
              "    }\n",
              "</style>\n",
              "<table border=\"1\" class=\"dataframe\">\n",
              "  <thead>\n",
              "    <tr style=\"text-align: right;\">\n",
              "      <th></th>\n",
              "      <th>Timestamp</th>\n",
              "      <th>Video Streaming Platform(Y/N)</th>\n",
              "      <th>Age</th>\n",
              "      <th>Frequency</th>\n",
              "      <th>Most_watched</th>\n",
              "      <th>Selection</th>\n",
              "      <th>Platforms</th>\n",
              "      <th>Subscription</th>\n",
              "      <th>Duration</th>\n",
              "      <th>Netflix_Rating_Og</th>\n",
              "      <th>Netflix_Rating_movie</th>\n",
              "      <th>Netflix_Rating_documentry</th>\n",
              "      <th>Netflix_Rating_others</th>\n",
              "      <th>Prime_Rating_Og</th>\n",
              "      <th>Prime_Rating_movie</th>\n",
              "      <th>Prime_Rating_documentry</th>\n",
              "      <th>Prime_Rating_others</th>\n",
              "      <th>Hotstar_Rating_Og</th>\n",
              "      <th>Hotstar_Rating_movie</th>\n",
              "      <th>Hotstar_Rating_documentry</th>\n",
              "      <th>Hotstar_Rating_sports</th>\n",
              "      <th>Netflix_OgSeries</th>\n",
              "      <th>Prime_OgSeries</th>\n",
              "      <th>Hotstar_OgSeries</th>\n",
              "      <th>Advertisment</th>\n",
              "      <th>Features</th>\n",
              "      <th>Overall_Rating</th>\n",
              "      <th>Suggestion</th>\n",
              "    </tr>\n",
              "  </thead>\n",
              "  <tbody>\n",
              "  </tbody>\n",
              "</table>\n",
              "</div>"
            ],
            "text/plain": [
              "Empty DataFrame\n",
              "Columns: [Timestamp, Video Streaming Platform(Y/N), Age, Frequency, Most_watched, Selection, Platforms, Subscription, Duration, Netflix_Rating_Og, Netflix_Rating_movie, Netflix_Rating_documentry, Netflix_Rating_others, Prime_Rating_Og, Prime_Rating_movie, Prime_Rating_documentry, Prime_Rating_others, Hotstar_Rating_Og, Hotstar_Rating_movie, Hotstar_Rating_documentry, Hotstar_Rating_sports, Netflix_OgSeries, Prime_OgSeries, Hotstar_OgSeries, Advertisment, Features, Overall_Rating, Suggestion]\n",
              "Index: []"
            ]
          },
          "metadata": {
            "tags": []
          },
          "execution_count": 2780
        }
      ]
    },
    {
      "cell_type": "code",
      "metadata": {
        "colab": {
          "base_uri": "https://localhost:8080/"
        },
        "id": "8TSdDBpJAV22",
        "outputId": "33903999-da47-4364-cbba-9e3d8bef55d8"
      },
      "source": [
        "data.duplicated().sum()"
      ],
      "execution_count": 2781,
      "outputs": [
        {
          "output_type": "execute_result",
          "data": {
            "text/plain": [
              "0"
            ]
          },
          "metadata": {
            "tags": []
          },
          "execution_count": 2781
        }
      ]
    },
    {
      "cell_type": "markdown",
      "metadata": {
        "id": "K5kuWqrfRkgD"
      },
      "source": [
        "#**checking null values of data**"
      ]
    },
    {
      "cell_type": "code",
      "metadata": {
        "colab": {
          "base_uri": "https://localhost:8080/",
          "height": 473
        },
        "id": "rRL8kcWPAV6G",
        "outputId": "facdee91-616b-4bc3-8df4-1aaa694938e7"
      },
      "source": [
        "data.isnull()"
      ],
      "execution_count": 2782,
      "outputs": [
        {
          "output_type": "execute_result",
          "data": {
            "text/html": [
              "<div>\n",
              "<style scoped>\n",
              "    .dataframe tbody tr th:only-of-type {\n",
              "        vertical-align: middle;\n",
              "    }\n",
              "\n",
              "    .dataframe tbody tr th {\n",
              "        vertical-align: top;\n",
              "    }\n",
              "\n",
              "    .dataframe thead th {\n",
              "        text-align: right;\n",
              "    }\n",
              "</style>\n",
              "<table border=\"1\" class=\"dataframe\">\n",
              "  <thead>\n",
              "    <tr style=\"text-align: right;\">\n",
              "      <th></th>\n",
              "      <th>Timestamp</th>\n",
              "      <th>Video Streaming Platform(Y/N)</th>\n",
              "      <th>Age</th>\n",
              "      <th>Frequency</th>\n",
              "      <th>Most_watched</th>\n",
              "      <th>Selection</th>\n",
              "      <th>Platforms</th>\n",
              "      <th>Subscription</th>\n",
              "      <th>Duration</th>\n",
              "      <th>Netflix_Rating_Og</th>\n",
              "      <th>Netflix_Rating_movie</th>\n",
              "      <th>Netflix_Rating_documentry</th>\n",
              "      <th>Netflix_Rating_others</th>\n",
              "      <th>Prime_Rating_Og</th>\n",
              "      <th>Prime_Rating_movie</th>\n",
              "      <th>Prime_Rating_documentry</th>\n",
              "      <th>Prime_Rating_others</th>\n",
              "      <th>Hotstar_Rating_Og</th>\n",
              "      <th>Hotstar_Rating_movie</th>\n",
              "      <th>Hotstar_Rating_documentry</th>\n",
              "      <th>Hotstar_Rating_sports</th>\n",
              "      <th>Netflix_OgSeries</th>\n",
              "      <th>Prime_OgSeries</th>\n",
              "      <th>Hotstar_OgSeries</th>\n",
              "      <th>Advertisment</th>\n",
              "      <th>Features</th>\n",
              "      <th>Overall_Rating</th>\n",
              "      <th>Suggestion</th>\n",
              "    </tr>\n",
              "  </thead>\n",
              "  <tbody>\n",
              "    <tr>\n",
              "      <th>0</th>\n",
              "      <td>False</td>\n",
              "      <td>False</td>\n",
              "      <td>False</td>\n",
              "      <td>False</td>\n",
              "      <td>False</td>\n",
              "      <td>False</td>\n",
              "      <td>False</td>\n",
              "      <td>False</td>\n",
              "      <td>False</td>\n",
              "      <td>False</td>\n",
              "      <td>False</td>\n",
              "      <td>False</td>\n",
              "      <td>False</td>\n",
              "      <td>False</td>\n",
              "      <td>False</td>\n",
              "      <td>False</td>\n",
              "      <td>False</td>\n",
              "      <td>False</td>\n",
              "      <td>False</td>\n",
              "      <td>False</td>\n",
              "      <td>False</td>\n",
              "      <td>False</td>\n",
              "      <td>False</td>\n",
              "      <td>False</td>\n",
              "      <td>False</td>\n",
              "      <td>False</td>\n",
              "      <td>False</td>\n",
              "      <td>False</td>\n",
              "    </tr>\n",
              "    <tr>\n",
              "      <th>1</th>\n",
              "      <td>False</td>\n",
              "      <td>False</td>\n",
              "      <td>False</td>\n",
              "      <td>False</td>\n",
              "      <td>False</td>\n",
              "      <td>False</td>\n",
              "      <td>False</td>\n",
              "      <td>False</td>\n",
              "      <td>False</td>\n",
              "      <td>False</td>\n",
              "      <td>False</td>\n",
              "      <td>False</td>\n",
              "      <td>False</td>\n",
              "      <td>False</td>\n",
              "      <td>False</td>\n",
              "      <td>False</td>\n",
              "      <td>False</td>\n",
              "      <td>False</td>\n",
              "      <td>False</td>\n",
              "      <td>False</td>\n",
              "      <td>False</td>\n",
              "      <td>False</td>\n",
              "      <td>False</td>\n",
              "      <td>False</td>\n",
              "      <td>False</td>\n",
              "      <td>False</td>\n",
              "      <td>False</td>\n",
              "      <td>False</td>\n",
              "    </tr>\n",
              "    <tr>\n",
              "      <th>2</th>\n",
              "      <td>False</td>\n",
              "      <td>False</td>\n",
              "      <td>False</td>\n",
              "      <td>False</td>\n",
              "      <td>False</td>\n",
              "      <td>False</td>\n",
              "      <td>False</td>\n",
              "      <td>False</td>\n",
              "      <td>False</td>\n",
              "      <td>False</td>\n",
              "      <td>False</td>\n",
              "      <td>False</td>\n",
              "      <td>False</td>\n",
              "      <td>False</td>\n",
              "      <td>False</td>\n",
              "      <td>False</td>\n",
              "      <td>False</td>\n",
              "      <td>False</td>\n",
              "      <td>False</td>\n",
              "      <td>False</td>\n",
              "      <td>False</td>\n",
              "      <td>False</td>\n",
              "      <td>False</td>\n",
              "      <td>False</td>\n",
              "      <td>False</td>\n",
              "      <td>False</td>\n",
              "      <td>False</td>\n",
              "      <td>False</td>\n",
              "    </tr>\n",
              "    <tr>\n",
              "      <th>3</th>\n",
              "      <td>False</td>\n",
              "      <td>False</td>\n",
              "      <td>False</td>\n",
              "      <td>False</td>\n",
              "      <td>False</td>\n",
              "      <td>False</td>\n",
              "      <td>False</td>\n",
              "      <td>False</td>\n",
              "      <td>False</td>\n",
              "      <td>False</td>\n",
              "      <td>False</td>\n",
              "      <td>False</td>\n",
              "      <td>False</td>\n",
              "      <td>False</td>\n",
              "      <td>False</td>\n",
              "      <td>False</td>\n",
              "      <td>False</td>\n",
              "      <td>False</td>\n",
              "      <td>False</td>\n",
              "      <td>False</td>\n",
              "      <td>False</td>\n",
              "      <td>False</td>\n",
              "      <td>False</td>\n",
              "      <td>False</td>\n",
              "      <td>False</td>\n",
              "      <td>False</td>\n",
              "      <td>False</td>\n",
              "      <td>False</td>\n",
              "    </tr>\n",
              "    <tr>\n",
              "      <th>4</th>\n",
              "      <td>False</td>\n",
              "      <td>False</td>\n",
              "      <td>False</td>\n",
              "      <td>False</td>\n",
              "      <td>False</td>\n",
              "      <td>False</td>\n",
              "      <td>False</td>\n",
              "      <td>False</td>\n",
              "      <td>False</td>\n",
              "      <td>False</td>\n",
              "      <td>False</td>\n",
              "      <td>False</td>\n",
              "      <td>False</td>\n",
              "      <td>False</td>\n",
              "      <td>False</td>\n",
              "      <td>False</td>\n",
              "      <td>False</td>\n",
              "      <td>False</td>\n",
              "      <td>False</td>\n",
              "      <td>False</td>\n",
              "      <td>False</td>\n",
              "      <td>False</td>\n",
              "      <td>False</td>\n",
              "      <td>False</td>\n",
              "      <td>False</td>\n",
              "      <td>False</td>\n",
              "      <td>False</td>\n",
              "      <td>False</td>\n",
              "    </tr>\n",
              "    <tr>\n",
              "      <th>...</th>\n",
              "      <td>...</td>\n",
              "      <td>...</td>\n",
              "      <td>...</td>\n",
              "      <td>...</td>\n",
              "      <td>...</td>\n",
              "      <td>...</td>\n",
              "      <td>...</td>\n",
              "      <td>...</td>\n",
              "      <td>...</td>\n",
              "      <td>...</td>\n",
              "      <td>...</td>\n",
              "      <td>...</td>\n",
              "      <td>...</td>\n",
              "      <td>...</td>\n",
              "      <td>...</td>\n",
              "      <td>...</td>\n",
              "      <td>...</td>\n",
              "      <td>...</td>\n",
              "      <td>...</td>\n",
              "      <td>...</td>\n",
              "      <td>...</td>\n",
              "      <td>...</td>\n",
              "      <td>...</td>\n",
              "      <td>...</td>\n",
              "      <td>...</td>\n",
              "      <td>...</td>\n",
              "      <td>...</td>\n",
              "      <td>...</td>\n",
              "    </tr>\n",
              "    <tr>\n",
              "      <th>245</th>\n",
              "      <td>False</td>\n",
              "      <td>False</td>\n",
              "      <td>False</td>\n",
              "      <td>False</td>\n",
              "      <td>False</td>\n",
              "      <td>False</td>\n",
              "      <td>False</td>\n",
              "      <td>False</td>\n",
              "      <td>False</td>\n",
              "      <td>False</td>\n",
              "      <td>False</td>\n",
              "      <td>False</td>\n",
              "      <td>False</td>\n",
              "      <td>False</td>\n",
              "      <td>False</td>\n",
              "      <td>False</td>\n",
              "      <td>False</td>\n",
              "      <td>False</td>\n",
              "      <td>False</td>\n",
              "      <td>False</td>\n",
              "      <td>False</td>\n",
              "      <td>False</td>\n",
              "      <td>False</td>\n",
              "      <td>False</td>\n",
              "      <td>False</td>\n",
              "      <td>False</td>\n",
              "      <td>False</td>\n",
              "      <td>False</td>\n",
              "    </tr>\n",
              "    <tr>\n",
              "      <th>246</th>\n",
              "      <td>False</td>\n",
              "      <td>False</td>\n",
              "      <td>False</td>\n",
              "      <td>False</td>\n",
              "      <td>False</td>\n",
              "      <td>False</td>\n",
              "      <td>False</td>\n",
              "      <td>False</td>\n",
              "      <td>False</td>\n",
              "      <td>False</td>\n",
              "      <td>False</td>\n",
              "      <td>False</td>\n",
              "      <td>False</td>\n",
              "      <td>False</td>\n",
              "      <td>False</td>\n",
              "      <td>False</td>\n",
              "      <td>False</td>\n",
              "      <td>False</td>\n",
              "      <td>False</td>\n",
              "      <td>False</td>\n",
              "      <td>False</td>\n",
              "      <td>False</td>\n",
              "      <td>False</td>\n",
              "      <td>False</td>\n",
              "      <td>False</td>\n",
              "      <td>False</td>\n",
              "      <td>False</td>\n",
              "      <td>False</td>\n",
              "    </tr>\n",
              "    <tr>\n",
              "      <th>247</th>\n",
              "      <td>False</td>\n",
              "      <td>False</td>\n",
              "      <td>False</td>\n",
              "      <td>False</td>\n",
              "      <td>False</td>\n",
              "      <td>False</td>\n",
              "      <td>False</td>\n",
              "      <td>False</td>\n",
              "      <td>False</td>\n",
              "      <td>False</td>\n",
              "      <td>False</td>\n",
              "      <td>False</td>\n",
              "      <td>False</td>\n",
              "      <td>False</td>\n",
              "      <td>False</td>\n",
              "      <td>False</td>\n",
              "      <td>False</td>\n",
              "      <td>False</td>\n",
              "      <td>False</td>\n",
              "      <td>False</td>\n",
              "      <td>False</td>\n",
              "      <td>False</td>\n",
              "      <td>False</td>\n",
              "      <td>False</td>\n",
              "      <td>False</td>\n",
              "      <td>False</td>\n",
              "      <td>False</td>\n",
              "      <td>False</td>\n",
              "    </tr>\n",
              "    <tr>\n",
              "      <th>248</th>\n",
              "      <td>False</td>\n",
              "      <td>False</td>\n",
              "      <td>False</td>\n",
              "      <td>False</td>\n",
              "      <td>False</td>\n",
              "      <td>False</td>\n",
              "      <td>False</td>\n",
              "      <td>False</td>\n",
              "      <td>False</td>\n",
              "      <td>False</td>\n",
              "      <td>False</td>\n",
              "      <td>False</td>\n",
              "      <td>False</td>\n",
              "      <td>False</td>\n",
              "      <td>False</td>\n",
              "      <td>False</td>\n",
              "      <td>False</td>\n",
              "      <td>False</td>\n",
              "      <td>False</td>\n",
              "      <td>False</td>\n",
              "      <td>False</td>\n",
              "      <td>False</td>\n",
              "      <td>False</td>\n",
              "      <td>False</td>\n",
              "      <td>False</td>\n",
              "      <td>False</td>\n",
              "      <td>False</td>\n",
              "      <td>False</td>\n",
              "    </tr>\n",
              "    <tr>\n",
              "      <th>249</th>\n",
              "      <td>False</td>\n",
              "      <td>False</td>\n",
              "      <td>False</td>\n",
              "      <td>False</td>\n",
              "      <td>False</td>\n",
              "      <td>False</td>\n",
              "      <td>False</td>\n",
              "      <td>False</td>\n",
              "      <td>False</td>\n",
              "      <td>False</td>\n",
              "      <td>False</td>\n",
              "      <td>False</td>\n",
              "      <td>False</td>\n",
              "      <td>False</td>\n",
              "      <td>False</td>\n",
              "      <td>False</td>\n",
              "      <td>False</td>\n",
              "      <td>False</td>\n",
              "      <td>False</td>\n",
              "      <td>False</td>\n",
              "      <td>False</td>\n",
              "      <td>False</td>\n",
              "      <td>False</td>\n",
              "      <td>False</td>\n",
              "      <td>False</td>\n",
              "      <td>False</td>\n",
              "      <td>False</td>\n",
              "      <td>False</td>\n",
              "    </tr>\n",
              "  </tbody>\n",
              "</table>\n",
              "<p>250 rows × 28 columns</p>\n",
              "</div>"
            ],
            "text/plain": [
              "     Timestamp  Video Streaming Platform(Y/N)  ...  Overall_Rating  Suggestion\n",
              "0        False                          False  ...           False       False\n",
              "1        False                          False  ...           False       False\n",
              "2        False                          False  ...           False       False\n",
              "3        False                          False  ...           False       False\n",
              "4        False                          False  ...           False       False\n",
              "..         ...                            ...  ...             ...         ...\n",
              "245      False                          False  ...           False       False\n",
              "246      False                          False  ...           False       False\n",
              "247      False                          False  ...           False       False\n",
              "248      False                          False  ...           False       False\n",
              "249      False                          False  ...           False       False\n",
              "\n",
              "[250 rows x 28 columns]"
            ]
          },
          "metadata": {
            "tags": []
          },
          "execution_count": 2782
        }
      ]
    },
    {
      "cell_type": "code",
      "metadata": {
        "colab": {
          "base_uri": "https://localhost:8080/"
        },
        "id": "wJZJdIlKAV9F",
        "outputId": "df5e3fe6-cfed-44f4-f4e6-2d0d186f329e"
      },
      "source": [
        "data.isnull().sum()"
      ],
      "execution_count": 2783,
      "outputs": [
        {
          "output_type": "execute_result",
          "data": {
            "text/plain": [
              "Timestamp                        0\n",
              "Video Streaming Platform(Y/N)    0\n",
              "Age                              0\n",
              "Frequency                        0\n",
              "Most_watched                     0\n",
              "Selection                        0\n",
              "Platforms                        0\n",
              "Subscription                     0\n",
              "Duration                         0\n",
              "Netflix_Rating_Og                0\n",
              "Netflix_Rating_movie             0\n",
              "Netflix_Rating_documentry        0\n",
              "Netflix_Rating_others            0\n",
              "Prime_Rating_Og                  0\n",
              "Prime_Rating_movie               0\n",
              "Prime_Rating_documentry          0\n",
              "Prime_Rating_others              0\n",
              "Hotstar_Rating_Og                0\n",
              "Hotstar_Rating_movie             0\n",
              "Hotstar_Rating_documentry        0\n",
              "Hotstar_Rating_sports            0\n",
              "Netflix_OgSeries                 0\n",
              "Prime_OgSeries                   0\n",
              "Hotstar_OgSeries                 0\n",
              "Advertisment                     0\n",
              "Features                         0\n",
              "Overall_Rating                   0\n",
              "Suggestion                       0\n",
              "dtype: int64"
            ]
          },
          "metadata": {
            "tags": []
          },
          "execution_count": 2783
        }
      ]
    },
    {
      "cell_type": "markdown",
      "metadata": {
        "id": "rUF1y2_vRuje"
      },
      "source": [
        "#**count of a column**"
      ]
    },
    {
      "cell_type": "code",
      "metadata": {
        "colab": {
          "base_uri": "https://localhost:8080/"
        },
        "id": "emO45gj6I_eu",
        "outputId": "218306a7-f056-4588-a7c1-154939bb99cf"
      },
      "source": [
        "data['Video Streaming Platform(Y/N)'].value_counts()"
      ],
      "execution_count": 2784,
      "outputs": [
        {
          "output_type": "execute_result",
          "data": {
            "text/plain": [
              "Yes    247\n",
              "No       3\n",
              "Name: Video Streaming Platform(Y/N), dtype: int64"
            ]
          },
          "metadata": {
            "tags": []
          },
          "execution_count": 2784
        }
      ]
    },
    {
      "cell_type": "code",
      "metadata": {
        "colab": {
          "base_uri": "https://localhost:8080/"
        },
        "id": "oSXR3NaDJNrE",
        "outputId": "e52236f2-0696-495f-fd47-26c01f931e91"
      },
      "source": [
        "data['Age'].value_counts()"
      ],
      "execution_count": 2785,
      "outputs": [
        {
          "output_type": "execute_result",
          "data": {
            "text/plain": [
              "18-30           156\n",
              "31-50            64\n",
              "Less than 18     19\n",
              "More than 50     11\n",
              "Name: Age, dtype: int64"
            ]
          },
          "metadata": {
            "tags": []
          },
          "execution_count": 2785
        }
      ]
    },
    {
      "cell_type": "code",
      "metadata": {
        "colab": {
          "base_uri": "https://localhost:8080/"
        },
        "id": "T2G0k2MHJNtm",
        "outputId": "750f57e4-4447-49b7-90fd-0b5deb13dcbf"
      },
      "source": [
        "data['Frequency'].value_counts()"
      ],
      "execution_count": 2786,
      "outputs": [
        {
          "output_type": "execute_result",
          "data": {
            "text/plain": [
              "Daily                      102\n",
              "Monthly                     85\n",
              "Once or twice in a week     58\n",
              "None of the above            5\n",
              "Name: Frequency, dtype: int64"
            ]
          },
          "metadata": {
            "tags": []
          },
          "execution_count": 2786
        }
      ]
    },
    {
      "cell_type": "code",
      "metadata": {
        "colab": {
          "base_uri": "https://localhost:8080/"
        },
        "id": "EFNUV_HuJNwP",
        "outputId": "77e929bd-aa86-429d-854c-f6a02ba209a5"
      },
      "source": [
        "data['Most_watched'].value_counts()"
      ],
      "execution_count": 2787,
      "outputs": [
        {
          "output_type": "execute_result",
          "data": {
            "text/plain": [
              "All of the above                                                                 95\n",
              "Original Web Series, Movies                                                      34\n",
              "Original Web Series                                                              28\n",
              "Movies                                                                           25\n",
              "Original Web Series, Movies, Documentaries                                       14\n",
              "Movies, Sports and News                                                          11\n",
              "Movies, Documentaries, Sports and News                                            9\n",
              "Original Web Series, Movies, Sports and News                                      8\n",
              "Movies, Documentaries                                                             6\n",
              "Original Web Series, Documentaries                                                4\n",
              "Original Web Series, Sports and News                                              4\n",
              "Original Web Series, Movies, Documentaries, Sports and News, All of the above     2\n",
              "Original Web Series, Documentaries, Sports and News                               2\n",
              "Sports and News                                                                   2\n",
              "Original Web Series, Movies, Documentaries, Sports and News                       2\n",
              "Original Web Series, Movies, Sports and News, All of the above                    1\n",
              "Movies, All of the above                                                          1\n",
              "Documentaries, Sports and News                                                    1\n",
              "Documentaries                                                                     1\n",
              "Name: Most_watched, dtype: int64"
            ]
          },
          "metadata": {
            "tags": []
          },
          "execution_count": 2787
        }
      ]
    },
    {
      "cell_type": "code",
      "metadata": {
        "colab": {
          "base_uri": "https://localhost:8080/"
        },
        "id": "Qut8g0_OJNzO",
        "outputId": "6381d813-ec0e-48ac-eb03-34397deaed38"
      },
      "source": [
        "data['Selection'].value_counts()"
      ],
      "execution_count": 2788,
      "outputs": [
        {
          "output_type": "execute_result",
          "data": {
            "text/plain": [
              "All of the above                           119\n",
              "Story                                       63\n",
              "Cast, Story                                 29\n",
              "Story, Director                             20\n",
              "Cast, Story, Director                        8\n",
              "Cast                                         2\n",
              "Director                                     2\n",
              "Cast, Story, Director, All of the above      2\n",
              "Cast, Director                               2\n",
              "Story, All of the above                      1\n",
              "Director, All of the above                   1\n",
              "Story, Director, All of the above            1\n",
              "Name: Selection, dtype: int64"
            ]
          },
          "metadata": {
            "tags": []
          },
          "execution_count": 2788
        }
      ]
    },
    {
      "cell_type": "code",
      "metadata": {
        "colab": {
          "base_uri": "https://localhost:8080/"
        },
        "id": "HZIL4ozgJN1z",
        "outputId": "78febb4e-0f36-40ec-e430-d8a2aa7e6923"
      },
      "source": [
        "data['Platforms'].value_counts()"
      ],
      "execution_count": 2789,
      "outputs": [
        {
          "output_type": "execute_result",
          "data": {
            "text/plain": [
              "All of the above    97\n",
              "Prime               63\n",
              "Netflix             54\n",
              "Hotstar             36\n",
              "Name: Platforms, dtype: int64"
            ]
          },
          "metadata": {
            "tags": []
          },
          "execution_count": 2789
        }
      ]
    },
    {
      "cell_type": "code",
      "metadata": {
        "colab": {
          "base_uri": "https://localhost:8080/"
        },
        "id": "WnKQDj0hJN4l",
        "outputId": "76f12923-0849-46b6-f6ad-4d2e480f66a8"
      },
      "source": [
        "data['Subscription'].value_counts()"
      ],
      "execution_count": 2790,
      "outputs": [
        {
          "output_type": "execute_result",
          "data": {
            "text/plain": [
              "Original Web Series    100\n",
              "All of the above        76\n",
              "Movies                  49\n",
              "Sports and News         19\n",
              "Documentaries            6\n",
              "Name: Subscription, dtype: int64"
            ]
          },
          "metadata": {
            "tags": []
          },
          "execution_count": 2790
        }
      ]
    },
    {
      "cell_type": "code",
      "metadata": {
        "colab": {
          "base_uri": "https://localhost:8080/"
        },
        "id": "9Pq_2wqDNqc8",
        "outputId": "b03b0db2-7215-4765-e948-582a5155517e"
      },
      "source": [
        "data['Duration'].value_counts()"
      ],
      "execution_count": 2791,
      "outputs": [
        {
          "output_type": "execute_result",
          "data": {
            "text/plain": [
              "More than 2 Year        97\n",
              "Less than 1 Year        78\n",
              "Between 1 and 2 Year    74\n",
              "None                     1\n",
              "Name: Duration, dtype: int64"
            ]
          },
          "metadata": {
            "tags": []
          },
          "execution_count": 2791
        }
      ]
    },
    {
      "cell_type": "code",
      "metadata": {
        "colab": {
          "base_uri": "https://localhost:8080/"
        },
        "id": "pCt7qL5eNqgM",
        "outputId": "4df3ecea-1fc1-4a59-f3db-98b048f73e9e"
      },
      "source": [
        "data['Advertisment'].value_counts()"
      ],
      "execution_count": 2792,
      "outputs": [
        {
          "output_type": "execute_result",
          "data": {
            "text/plain": [
              "All of the above                 84\n",
              "Social Media                     75\n",
              "Family/Friends Recommendation    53\n",
              "Television                       38\n",
              "Name: Advertisment, dtype: int64"
            ]
          },
          "metadata": {
            "tags": []
          },
          "execution_count": 2792
        }
      ]
    },
    {
      "cell_type": "code",
      "metadata": {
        "colab": {
          "base_uri": "https://localhost:8080/"
        },
        "id": "NKS2YE66NqjR",
        "outputId": "aa1ffa2b-89f1-4e79-e927-38a4d3ae9f0c"
      },
      "source": [
        "data['Features'].value_counts()"
      ],
      "execution_count": 2793,
      "outputs": [
        {
          "output_type": "execute_result",
          "data": {
            "text/plain": [
              "Recommendation      73\n",
              "All of the above    72\n",
              "Search Option       53\n",
              "Ease of use         52\n",
              "Name: Features, dtype: int64"
            ]
          },
          "metadata": {
            "tags": []
          },
          "execution_count": 2793
        }
      ]
    },
    {
      "cell_type": "code",
      "metadata": {
        "colab": {
          "base_uri": "https://localhost:8080/"
        },
        "id": "zeBTPgvZNqmL",
        "outputId": "b26441b5-1ca9-40ba-b3a8-787001bc53e9"
      },
      "source": [
        "data['Overall_Rating'].value_counts()"
      ],
      "execution_count": 2794,
      "outputs": [
        {
          "output_type": "execute_result",
          "data": {
            "text/plain": [
              "Excellent             151\n",
              "Good                   89\n",
              "Fair                    8\n",
              "Improvement Needed      2\n",
              "Name: Overall_Rating, dtype: int64"
            ]
          },
          "metadata": {
            "tags": []
          },
          "execution_count": 2794
        }
      ]
    },
    {
      "cell_type": "code",
      "metadata": {
        "colab": {
          "base_uri": "https://localhost:8080/"
        },
        "id": "dv6dquHuI_hT",
        "outputId": "c81139c1-7706-4f9a-aeb0-0f063fa72590"
      },
      "source": [
        "data['Suggestion'].value_counts()"
      ],
      "execution_count": 2795,
      "outputs": [
        {
          "output_type": "execute_result",
          "data": {
            "text/plain": [
              "Remove Ads/Limit Ads duration    81\n",
              "Availability in Languages        67\n",
              "Decrease Subscription Price      51\n",
              "Improvement in Story ,Casting    37\n",
              "All of the above                 14\n",
              "Name: Suggestion, dtype: int64"
            ]
          },
          "metadata": {
            "tags": []
          },
          "execution_count": 2795
        }
      ]
    },
    {
      "cell_type": "markdown",
      "metadata": {
        "id": "vt5y268pJjAD"
      },
      "source": [
        "#Converting the Video Streaming Platform(Y/N) columns into integer."
      ]
    },
    {
      "cell_type": "code",
      "metadata": {
        "id": "5aSq2FKPJhdS"
      },
      "source": [
        "def trans_con(x):\n",
        "    if x =='Yes':\n",
        "        return 1\n",
        "    if x =='No':\n",
        "        return 0"
      ],
      "execution_count": 2796,
      "outputs": []
    },
    {
      "cell_type": "code",
      "metadata": {
        "colab": {
          "base_uri": "https://localhost:8080/"
        },
        "id": "Y7b4KZfKJiNO",
        "outputId": "50b346cd-3e1f-401c-de71-925554e7642c"
      },
      "source": [
        "data['Video Streaming Platform(Y/N)'].apply(trans_con)\n"
      ],
      "execution_count": 2797,
      "outputs": [
        {
          "output_type": "execute_result",
          "data": {
            "text/plain": [
              "0      1\n",
              "1      1\n",
              "2      1\n",
              "3      1\n",
              "4      1\n",
              "      ..\n",
              "245    1\n",
              "246    1\n",
              "247    1\n",
              "248    1\n",
              "249    1\n",
              "Name: Video Streaming Platform(Y/N), Length: 250, dtype: int64"
            ]
          },
          "metadata": {
            "tags": []
          },
          "execution_count": 2797
        }
      ]
    },
    {
      "cell_type": "markdown",
      "metadata": {
        "id": "UtBQsRX8R5rs"
      },
      "source": [
        "#converting frequency column into int"
      ]
    },
    {
      "cell_type": "code",
      "metadata": {
        "id": "EOPWvxtGEtMQ"
      },
      "source": [
        "def trans_conn(x):\n",
        "    if x =='Daily':\n",
        "        return 1\n",
        "    if x =='Monthly':\n",
        "        return 2\n",
        "    if x =='Once or twice in a week':\n",
        "        return 3\n",
        "    if x =='None of the above':\n",
        "        return 0"
      ],
      "execution_count": 2798,
      "outputs": []
    },
    {
      "cell_type": "code",
      "metadata": {
        "id": "P4VIGkxhE9MR"
      },
      "source": [
        "data['Frequency']=data['Frequency'].apply(trans_conn)"
      ],
      "execution_count": 2799,
      "outputs": []
    },
    {
      "cell_type": "code",
      "metadata": {
        "id": "KtM9WrWJI_yJ"
      },
      "source": [
        "def trans_conn(x):\n",
        "    if x =='Excellent':\n",
        "        return 1\n",
        "    if x =='Good':\n",
        "        return 2\n",
        "    if x =='Fair':\n",
        "        return 3\n",
        "    if x =='Improvement Needed':\n",
        "        return 0"
      ],
      "execution_count": 2800,
      "outputs": []
    },
    {
      "cell_type": "code",
      "metadata": {
        "id": "QuOfPYAAI_09"
      },
      "source": [
        "data['Overall_Rating']=data['Overall_Rating'].apply(trans_conn)"
      ],
      "execution_count": 2801,
      "outputs": []
    },
    {
      "cell_type": "code",
      "metadata": {
        "id": "OxOEa4l0B14r"
      },
      "source": [
        "def trans_conn(x):\n",
        "    if x =='More than 2 Year':\n",
        "        return 1\n",
        "    if x =='Between 1 and 2 Year':\n",
        "        return 2\n",
        "    if x =='Less than 1 Year':\n",
        "        return 3\n",
        "    if x =='None':\n",
        "        return 0"
      ],
      "execution_count": 2802,
      "outputs": []
    },
    {
      "cell_type": "code",
      "metadata": {
        "id": "7bBXKr11B4PY"
      },
      "source": [
        "data['Duration']=data['Duration'].apply(trans_conn)"
      ],
      "execution_count": 2803,
      "outputs": []
    },
    {
      "cell_type": "code",
      "metadata": {
        "colab": {
          "base_uri": "https://localhost:8080/",
          "height": 813
        },
        "id": "snc8Yf0IB5Tf",
        "outputId": "30ce9839-acb7-4383-967e-cbc22002de70"
      },
      "source": [
        "data"
      ],
      "execution_count": 2804,
      "outputs": [
        {
          "output_type": "execute_result",
          "data": {
            "text/html": [
              "<div>\n",
              "<style scoped>\n",
              "    .dataframe tbody tr th:only-of-type {\n",
              "        vertical-align: middle;\n",
              "    }\n",
              "\n",
              "    .dataframe tbody tr th {\n",
              "        vertical-align: top;\n",
              "    }\n",
              "\n",
              "    .dataframe thead th {\n",
              "        text-align: right;\n",
              "    }\n",
              "</style>\n",
              "<table border=\"1\" class=\"dataframe\">\n",
              "  <thead>\n",
              "    <tr style=\"text-align: right;\">\n",
              "      <th></th>\n",
              "      <th>Timestamp</th>\n",
              "      <th>Video Streaming Platform(Y/N)</th>\n",
              "      <th>Age</th>\n",
              "      <th>Frequency</th>\n",
              "      <th>Most_watched</th>\n",
              "      <th>Selection</th>\n",
              "      <th>Platforms</th>\n",
              "      <th>Subscription</th>\n",
              "      <th>Duration</th>\n",
              "      <th>Netflix_Rating_Og</th>\n",
              "      <th>Netflix_Rating_movie</th>\n",
              "      <th>Netflix_Rating_documentry</th>\n",
              "      <th>Netflix_Rating_others</th>\n",
              "      <th>Prime_Rating_Og</th>\n",
              "      <th>Prime_Rating_movie</th>\n",
              "      <th>Prime_Rating_documentry</th>\n",
              "      <th>Prime_Rating_others</th>\n",
              "      <th>Hotstar_Rating_Og</th>\n",
              "      <th>Hotstar_Rating_movie</th>\n",
              "      <th>Hotstar_Rating_documentry</th>\n",
              "      <th>Hotstar_Rating_sports</th>\n",
              "      <th>Netflix_OgSeries</th>\n",
              "      <th>Prime_OgSeries</th>\n",
              "      <th>Hotstar_OgSeries</th>\n",
              "      <th>Advertisment</th>\n",
              "      <th>Features</th>\n",
              "      <th>Overall_Rating</th>\n",
              "      <th>Suggestion</th>\n",
              "    </tr>\n",
              "  </thead>\n",
              "  <tbody>\n",
              "    <tr>\n",
              "      <th>0</th>\n",
              "      <td>5/8/2021 13:40:40</td>\n",
              "      <td>Yes</td>\n",
              "      <td>18-30</td>\n",
              "      <td>1</td>\n",
              "      <td>All of the above</td>\n",
              "      <td>All of the above</td>\n",
              "      <td>Prime</td>\n",
              "      <td>Original Web Series</td>\n",
              "      <td>1</td>\n",
              "      <td>4</td>\n",
              "      <td>4</td>\n",
              "      <td>4</td>\n",
              "      <td>3</td>\n",
              "      <td>5</td>\n",
              "      <td>5</td>\n",
              "      <td>5</td>\n",
              "      <td>5</td>\n",
              "      <td>3</td>\n",
              "      <td>2</td>\n",
              "      <td>2</td>\n",
              "      <td>2</td>\n",
              "      <td>Sacred Games, 13 Reason Why, Money Heist</td>\n",
              "      <td>All of the above</td>\n",
              "      <td>None</td>\n",
              "      <td>All of the above</td>\n",
              "      <td>Search Option</td>\n",
              "      <td>2</td>\n",
              "      <td>Remove Ads/Limit Ads duration</td>\n",
              "    </tr>\n",
              "    <tr>\n",
              "      <th>1</th>\n",
              "      <td>5/8/2021 13:44:41</td>\n",
              "      <td>Yes</td>\n",
              "      <td>18-30</td>\n",
              "      <td>3</td>\n",
              "      <td>Original Web Series</td>\n",
              "      <td>Story</td>\n",
              "      <td>Netflix</td>\n",
              "      <td>Original Web Series</td>\n",
              "      <td>2</td>\n",
              "      <td>5</td>\n",
              "      <td>5</td>\n",
              "      <td>5</td>\n",
              "      <td>5</td>\n",
              "      <td>4</td>\n",
              "      <td>4</td>\n",
              "      <td>3</td>\n",
              "      <td>1</td>\n",
              "      <td>3</td>\n",
              "      <td>2</td>\n",
              "      <td>1</td>\n",
              "      <td>1</td>\n",
              "      <td>All of the Above</td>\n",
              "      <td>Mirzapur</td>\n",
              "      <td>None</td>\n",
              "      <td>Social Media</td>\n",
              "      <td>Search Option</td>\n",
              "      <td>2</td>\n",
              "      <td>Decrease Subscription Price</td>\n",
              "    </tr>\n",
              "    <tr>\n",
              "      <th>2</th>\n",
              "      <td>5/8/2021 13:44:51</td>\n",
              "      <td>Yes</td>\n",
              "      <td>18-30</td>\n",
              "      <td>3</td>\n",
              "      <td>Movies</td>\n",
              "      <td>Story</td>\n",
              "      <td>Hotstar</td>\n",
              "      <td>All of the above</td>\n",
              "      <td>2</td>\n",
              "      <td>5</td>\n",
              "      <td>4</td>\n",
              "      <td>4</td>\n",
              "      <td>4</td>\n",
              "      <td>4</td>\n",
              "      <td>3</td>\n",
              "      <td>4</td>\n",
              "      <td>4</td>\n",
              "      <td>4</td>\n",
              "      <td>5</td>\n",
              "      <td>4</td>\n",
              "      <td>5</td>\n",
              "      <td>Sacred Games, Money Heist</td>\n",
              "      <td>Mirzapur, Tandav</td>\n",
              "      <td>Criminal Justice, Arya</td>\n",
              "      <td>All of the above</td>\n",
              "      <td>Recommendation</td>\n",
              "      <td>1</td>\n",
              "      <td>Remove Ads/Limit Ads duration</td>\n",
              "    </tr>\n",
              "    <tr>\n",
              "      <th>3</th>\n",
              "      <td>5/8/2021 13:49:19</td>\n",
              "      <td>Yes</td>\n",
              "      <td>31-50</td>\n",
              "      <td>2</td>\n",
              "      <td>Movies, Documentaries, Sports and News</td>\n",
              "      <td>All of the above</td>\n",
              "      <td>Hotstar</td>\n",
              "      <td>Sports and News</td>\n",
              "      <td>2</td>\n",
              "      <td>1</td>\n",
              "      <td>1</td>\n",
              "      <td>1</td>\n",
              "      <td>1</td>\n",
              "      <td>1</td>\n",
              "      <td>1</td>\n",
              "      <td>1</td>\n",
              "      <td>1</td>\n",
              "      <td>4</td>\n",
              "      <td>4</td>\n",
              "      <td>5</td>\n",
              "      <td>5</td>\n",
              "      <td>None</td>\n",
              "      <td>None</td>\n",
              "      <td>All of the above</td>\n",
              "      <td>Television</td>\n",
              "      <td>Ease of use</td>\n",
              "      <td>2</td>\n",
              "      <td>Availability in Languages</td>\n",
              "    </tr>\n",
              "    <tr>\n",
              "      <th>4</th>\n",
              "      <td>5/8/2021 14:39:38</td>\n",
              "      <td>Yes</td>\n",
              "      <td>18-30</td>\n",
              "      <td>3</td>\n",
              "      <td>Movies</td>\n",
              "      <td>All of the above</td>\n",
              "      <td>All of the above</td>\n",
              "      <td>All of the above</td>\n",
              "      <td>1</td>\n",
              "      <td>3</td>\n",
              "      <td>4</td>\n",
              "      <td>2</td>\n",
              "      <td>1</td>\n",
              "      <td>4</td>\n",
              "      <td>5</td>\n",
              "      <td>4</td>\n",
              "      <td>4</td>\n",
              "      <td>3</td>\n",
              "      <td>3</td>\n",
              "      <td>3</td>\n",
              "      <td>3</td>\n",
              "      <td>Sacred Games, 13 Reason Why</td>\n",
              "      <td>All of the above</td>\n",
              "      <td>Speacial OPS</td>\n",
              "      <td>All of the above</td>\n",
              "      <td>All of the above</td>\n",
              "      <td>2</td>\n",
              "      <td>Remove Ads/Limit Ads duration</td>\n",
              "    </tr>\n",
              "    <tr>\n",
              "      <th>...</th>\n",
              "      <td>...</td>\n",
              "      <td>...</td>\n",
              "      <td>...</td>\n",
              "      <td>...</td>\n",
              "      <td>...</td>\n",
              "      <td>...</td>\n",
              "      <td>...</td>\n",
              "      <td>...</td>\n",
              "      <td>...</td>\n",
              "      <td>...</td>\n",
              "      <td>...</td>\n",
              "      <td>...</td>\n",
              "      <td>...</td>\n",
              "      <td>...</td>\n",
              "      <td>...</td>\n",
              "      <td>...</td>\n",
              "      <td>...</td>\n",
              "      <td>...</td>\n",
              "      <td>...</td>\n",
              "      <td>...</td>\n",
              "      <td>...</td>\n",
              "      <td>...</td>\n",
              "      <td>...</td>\n",
              "      <td>...</td>\n",
              "      <td>...</td>\n",
              "      <td>...</td>\n",
              "      <td>...</td>\n",
              "      <td>...</td>\n",
              "    </tr>\n",
              "    <tr>\n",
              "      <th>245</th>\n",
              "      <td>5/20/2021 23:23:40</td>\n",
              "      <td>Yes</td>\n",
              "      <td>Less than 18</td>\n",
              "      <td>2</td>\n",
              "      <td>Original Web Series, Movies</td>\n",
              "      <td>Story, Director</td>\n",
              "      <td>Netflix</td>\n",
              "      <td>All of the above</td>\n",
              "      <td>1</td>\n",
              "      <td>4</td>\n",
              "      <td>5</td>\n",
              "      <td>4</td>\n",
              "      <td>4</td>\n",
              "      <td>5</td>\n",
              "      <td>4</td>\n",
              "      <td>4</td>\n",
              "      <td>5</td>\n",
              "      <td>5</td>\n",
              "      <td>4</td>\n",
              "      <td>4</td>\n",
              "      <td>5</td>\n",
              "      <td>All of the Above</td>\n",
              "      <td>All of the above</td>\n",
              "      <td>All of the above</td>\n",
              "      <td>All of the above</td>\n",
              "      <td>All of the above</td>\n",
              "      <td>2</td>\n",
              "      <td>Availability in Languages</td>\n",
              "    </tr>\n",
              "    <tr>\n",
              "      <th>246</th>\n",
              "      <td>5/20/2021 23:24:20</td>\n",
              "      <td>Yes</td>\n",
              "      <td>31-50</td>\n",
              "      <td>2</td>\n",
              "      <td>Movies</td>\n",
              "      <td>Director</td>\n",
              "      <td>Netflix</td>\n",
              "      <td>Movies</td>\n",
              "      <td>2</td>\n",
              "      <td>5</td>\n",
              "      <td>4</td>\n",
              "      <td>4</td>\n",
              "      <td>4</td>\n",
              "      <td>5</td>\n",
              "      <td>5</td>\n",
              "      <td>4</td>\n",
              "      <td>4</td>\n",
              "      <td>5</td>\n",
              "      <td>5</td>\n",
              "      <td>4</td>\n",
              "      <td>4</td>\n",
              "      <td>The Witcher, Money Heist</td>\n",
              "      <td>Mirzapur, Tandav</td>\n",
              "      <td>Hostages, Arya</td>\n",
              "      <td>Television</td>\n",
              "      <td>All of the above</td>\n",
              "      <td>1</td>\n",
              "      <td>Improvement in Story ,Casting</td>\n",
              "    </tr>\n",
              "    <tr>\n",
              "      <th>247</th>\n",
              "      <td>5/20/2021 23:25:03</td>\n",
              "      <td>Yes</td>\n",
              "      <td>18-30</td>\n",
              "      <td>3</td>\n",
              "      <td>Movies, Sports and News</td>\n",
              "      <td>Story, Director</td>\n",
              "      <td>Prime</td>\n",
              "      <td>Movies</td>\n",
              "      <td>3</td>\n",
              "      <td>5</td>\n",
              "      <td>4</td>\n",
              "      <td>4</td>\n",
              "      <td>3</td>\n",
              "      <td>5</td>\n",
              "      <td>4</td>\n",
              "      <td>4</td>\n",
              "      <td>4</td>\n",
              "      <td>5</td>\n",
              "      <td>4</td>\n",
              "      <td>4</td>\n",
              "      <td>5</td>\n",
              "      <td>Sacred Games, Money Heist</td>\n",
              "      <td>Mirzapur, Breath into the shadow</td>\n",
              "      <td>Hostages, Arya</td>\n",
              "      <td>Television</td>\n",
              "      <td>Ease of use</td>\n",
              "      <td>2</td>\n",
              "      <td>Remove Ads/Limit Ads duration</td>\n",
              "    </tr>\n",
              "    <tr>\n",
              "      <th>248</th>\n",
              "      <td>5/20/2021 23:25:47</td>\n",
              "      <td>Yes</td>\n",
              "      <td>18-30</td>\n",
              "      <td>3</td>\n",
              "      <td>Movies, Sports and News</td>\n",
              "      <td>Director</td>\n",
              "      <td>Prime</td>\n",
              "      <td>Movies</td>\n",
              "      <td>3</td>\n",
              "      <td>5</td>\n",
              "      <td>4</td>\n",
              "      <td>4</td>\n",
              "      <td>3</td>\n",
              "      <td>5</td>\n",
              "      <td>4</td>\n",
              "      <td>4</td>\n",
              "      <td>4</td>\n",
              "      <td>5</td>\n",
              "      <td>4</td>\n",
              "      <td>4</td>\n",
              "      <td>5</td>\n",
              "      <td>Sacred Games, The Witcher</td>\n",
              "      <td>Mirzapur, Made in heaven</td>\n",
              "      <td>Criminal Justice</td>\n",
              "      <td>Television</td>\n",
              "      <td>Recommendation</td>\n",
              "      <td>1</td>\n",
              "      <td>Decrease Subscription Price</td>\n",
              "    </tr>\n",
              "    <tr>\n",
              "      <th>249</th>\n",
              "      <td>5/20/2021 23:26:24</td>\n",
              "      <td>Yes</td>\n",
              "      <td>31-50</td>\n",
              "      <td>2</td>\n",
              "      <td>All of the above</td>\n",
              "      <td>All of the above</td>\n",
              "      <td>All of the above</td>\n",
              "      <td>All of the above</td>\n",
              "      <td>2</td>\n",
              "      <td>5</td>\n",
              "      <td>4</td>\n",
              "      <td>4</td>\n",
              "      <td>3</td>\n",
              "      <td>5</td>\n",
              "      <td>4</td>\n",
              "      <td>4</td>\n",
              "      <td>5</td>\n",
              "      <td>5</td>\n",
              "      <td>4</td>\n",
              "      <td>3</td>\n",
              "      <td>4</td>\n",
              "      <td>All of the Above</td>\n",
              "      <td>All of the above</td>\n",
              "      <td>All of the above</td>\n",
              "      <td>All of the above</td>\n",
              "      <td>Ease of use</td>\n",
              "      <td>1</td>\n",
              "      <td>Availability in Languages</td>\n",
              "    </tr>\n",
              "  </tbody>\n",
              "</table>\n",
              "<p>250 rows × 28 columns</p>\n",
              "</div>"
            ],
            "text/plain": [
              "              Timestamp  ...                     Suggestion\n",
              "0     5/8/2021 13:40:40  ...  Remove Ads/Limit Ads duration\n",
              "1     5/8/2021 13:44:41  ...    Decrease Subscription Price\n",
              "2     5/8/2021 13:44:51  ...  Remove Ads/Limit Ads duration\n",
              "3     5/8/2021 13:49:19  ...      Availability in Languages\n",
              "4     5/8/2021 14:39:38  ...  Remove Ads/Limit Ads duration\n",
              "..                  ...  ...                            ...\n",
              "245  5/20/2021 23:23:40  ...      Availability in Languages\n",
              "246  5/20/2021 23:24:20  ...  Improvement in Story ,Casting\n",
              "247  5/20/2021 23:25:03  ...  Remove Ads/Limit Ads duration\n",
              "248  5/20/2021 23:25:47  ...    Decrease Subscription Price\n",
              "249  5/20/2021 23:26:24  ...      Availability in Languages\n",
              "\n",
              "[250 rows x 28 columns]"
            ]
          },
          "metadata": {
            "tags": []
          },
          "execution_count": 2804
        }
      ]
    },
    {
      "cell_type": "code",
      "metadata": {
        "id": "EeYM7HHvDK5x"
      },
      "source": [
        ""
      ],
      "execution_count": 2804,
      "outputs": []
    },
    {
      "cell_type": "markdown",
      "metadata": {
        "id": "A5ziIPw-Wbsl"
      },
      "source": [
        "#**Changing the same names of the columns.**"
      ]
    },
    {
      "cell_type": "code",
      "metadata": {
        "id": "qW2fE9XRI_kV"
      },
      "source": [
        "data['Most_watched']=data['Most_watched'].map(lambda x: 'All of the above' if (str(x)=='Original Web Series, Movies, Documentaries, Sports and News' or str(x)=='Movies, All of the above' or str(x)=='Original Web Series, Movies, Documentaries, Sports and News, All of the above' or str(x)=='Original Web Series, Movies, Sports and News, All of the above') else x)\n",
        "data['Selection']=data['Selection'].map(lambda x: 'All of the above' if (str(x)=='Cast, Story, Director, All of the above' or str(x)=='Story, Director, All of the above' or str(x)=='Story, All of the above' or str(x)=='Director, All of the above') else x)\n",
        "data['Netflix_OgSeries']=data['Netflix_OgSeries'].map(lambda x: 'All of the above' if (str(x)=='Sacred Games, 13 Reason Why, The Witcher, Money Heist, All of the Above' or str(x)=='Sacred Games, 13 Reason Why, The Witcher, Money Heist' or str(x)=='13 Reason Why, The Witcher, All of the Above' or str(x)=='The Witcher, Money Heist, All of the Above' or str(x)=='Sacred Games, All of the Above' or str(x)=='Money Heist, All of the Above' or str(x)=='The Witcher, All of the Above' or str(x)=='All of the Above') else x)\n",
        "data['Prime_OgSeries']=data['Prime_OgSeries'].map(lambda x: 'All of the above' if (str(x)=='Mirzapur, Made in heaven, Tandav, Breath into the shadow, All of the above' or str(x)=='Tandav, All of the above' or str(x)=='Mirzapur, Made in heaven, Tandav, Breath into the shadow' or str(x)=='Tandav, Breath into the shadow, All of the above' or str(x)=='Mirzapur, All of the above' or str(x)=='Mirzapur, Made in heaven, All of the above'  or str(x)=='Mirzapur, Tandav, All of the above') else x)\n",
        "data['Hotstar_OgSeries']=data['Hotstar_OgSeries'].map(lambda x: 'All of the above' if (str(x)=='Speacial OPS, Hostages, Criminal Justice, Arya' or str(x)=='Speacial OPS, All of the above' or str(x)=='Speacial OPS, Hostages, Criminal Justice, Arya, All of the above' or str(x)=='Hostages, Arya, All of the above') else x)"
      ],
      "execution_count": 2805,
      "outputs": []
    },
    {
      "cell_type": "code",
      "metadata": {
        "colab": {
          "base_uri": "https://localhost:8080/"
        },
        "id": "s05w954DI_wC",
        "outputId": "7a84ba10-16e0-4f17-c23e-53dc46020789"
      },
      "source": [
        "data['Most_watched'].value_counts()"
      ],
      "execution_count": 2806,
      "outputs": [
        {
          "output_type": "execute_result",
          "data": {
            "text/plain": [
              "All of the above                                       101\n",
              "Original Web Series, Movies                             34\n",
              "Original Web Series                                     28\n",
              "Movies                                                  25\n",
              "Original Web Series, Movies, Documentaries              14\n",
              "Movies, Sports and News                                 11\n",
              "Movies, Documentaries, Sports and News                   9\n",
              "Original Web Series, Movies, Sports and News             8\n",
              "Movies, Documentaries                                    6\n",
              "Original Web Series, Documentaries                       4\n",
              "Original Web Series, Sports and News                     4\n",
              "Sports and News                                          2\n",
              "Original Web Series, Documentaries, Sports and News      2\n",
              "Documentaries, Sports and News                           1\n",
              "Documentaries                                            1\n",
              "Name: Most_watched, dtype: int64"
            ]
          },
          "metadata": {
            "tags": []
          },
          "execution_count": 2806
        }
      ]
    },
    {
      "cell_type": "markdown",
      "metadata": {
        "id": "KMcBR_gPTAg9"
      },
      "source": [
        "#graph of platfoms"
      ]
    },
    {
      "cell_type": "code",
      "metadata": {
        "colab": {
          "base_uri": "https://localhost:8080/",
          "height": 408
        },
        "id": "zl5XKmJec4sE",
        "outputId": "e408b25a-4c74-46de-91dc-044278802eb2"
      },
      "source": [
        "sns.catplot(x=\"Platforms\", kind=\"count\", palette=\"ch:.25\", data=data)\n"
      ],
      "execution_count": 2807,
      "outputs": [
        {
          "output_type": "execute_result",
          "data": {
            "text/plain": [
              "<seaborn.axisgrid.FacetGrid at 0x7ff312e75c50>"
            ]
          },
          "metadata": {
            "tags": []
          },
          "execution_count": 2807
        },
        {
          "output_type": "display_data",
          "data": {
            "image/png": "[encoded data removed]",
            "text/plain": [
              "<Figure size 360x360 with 1 Axes>"
            ]
          },
          "metadata": {
            "tags": [],
            "needs_background": "light"
          }
        }
      ]
    },
    {
      "cell_type": "markdown",
      "metadata": {
        "id": "HIgMGg4NXACO"
      },
      "source": [
        "#Representation of most watched Types and Subscription"
      ]
    },
    {
      "cell_type": "code",
      "metadata": {
        "colab": {
          "base_uri": "https://localhost:8080/",
          "height": 510
        },
        "id": "JKT0fI0qYplb",
        "outputId": "1b543c36-013c-4ab2-84d0-38019782dcf5"
      },
      "source": [
        "data['Most_watched'].value_counts().plot(kind='barh',figsize=(10,8),color=\"brown\")\n",
        "plt.title(\"What do you watch the most on video streaming platform?\")\n",
        "plt.xlim(0,110)\n",
        "plt.show()"
      ],
      "execution_count": 2808,
      "outputs": [
        {
          "output_type": "display_data",
          "data": {
            "image/png": "[encoded data removed]",
            "text/plain": [
              "<Figure size 720x576 with 1 Axes>"
            ]
          },
          "metadata": {
            "tags": [],
            "needs_background": "light"
          }
        }
      ]
    },
    {
      "cell_type": "code",
      "metadata": {
        "colab": {
          "base_uri": "https://localhost:8080/",
          "height": 510
        },
        "id": "rej1Kl8fclGz",
        "outputId": "2220df34-bb8a-453b-e8f2-3db3076d3fda"
      },
      "source": [
        "data['Subscription'].value_counts().plot(kind='barh',figsize=(10,8),color=\"brown\")\n",
        "plt.title(\"On what basis you take subscriptions of platfroms?\")\n",
        "plt.xlim(0,110)\n",
        "plt.show()"
      ],
      "execution_count": 2809,
      "outputs": [
        {
          "output_type": "display_data",
          "data": {
            "image/png": "[encoded data removed]",
            "text/plain": [
              "<Figure size 720x576 with 1 Axes>"
            ]
          },
          "metadata": {
            "tags": [],
            "needs_background": "light"
          }
        }
      ]
    },
    {
      "cell_type": "markdown",
      "metadata": {
        "id": "84kOpXthc2E1"
      },
      "source": [
        "Here we can see that the highest count in most watched is all of the above and after that Original web series and movie and if we see in subscription graph Original web series has the highest count and after that all so we can say that Web series has high impact on subscription for any of the platforms.  "
      ]
    },
    {
      "cell_type": "markdown",
      "metadata": {
        "id": "Rpnsm8WAXKW6"
      },
      "source": [
        "#Presentation of Netflix's Series Count "
      ]
    },
    {
      "cell_type": "code",
      "metadata": {
        "colab": {
          "base_uri": "https://localhost:8080/",
          "height": 510
        },
        "id": "1Zhcam81DcKx",
        "outputId": "3f56c3ee-4a08-4271-ff81-f42df80e0508"
      },
      "source": [
        "data['Netflix_OgSeries'].value_counts().plot(kind='barh',figsize=(10,8),color=\"blue\")\n",
        "plt.title(\"Do you know these series of Netflix?\")\n",
        "plt.xlim(0,120)\n",
        "plt.show()"
      ],
      "execution_count": 2810,
      "outputs": [
        {
          "output_type": "display_data",
          "data": {
            "image/png": "[encoded data removed]",
            "text/plain": [
              "<Figure size 720x576 with 1 Axes>"
            ]
          },
          "metadata": {
            "tags": [],
            "needs_background": "light"
          }
        }
      ]
    },
    {
      "cell_type": "markdown",
      "metadata": {
        "id": "jXEeZgvXXVIx"
      },
      "source": [
        "#Presentation of Prime's Series Count"
      ]
    },
    {
      "cell_type": "code",
      "metadata": {
        "colab": {
          "base_uri": "https://localhost:8080/",
          "height": 0
        },
        "id": "mgxb-h2fD7PB",
        "outputId": "078ad925-c4a2-4257-f3e8-2d40f6d543f5"
      },
      "source": [
        "data['Prime_OgSeries'].value_counts().plot(kind='barh',figsize=(10,8),color=\"blue\")\n",
        "plt.title(\"Do you know these series of Prime?\")\n",
        "plt.xlim(0,130)\n",
        "plt.show()"
      ],
      "execution_count": 2811,
      "outputs": [
        {
          "output_type": "display_data",
          "data": {
            "image/png": "[encoded data removed]",
            "text/plain": [
              "<Figure size 720x576 with 1 Axes>"
            ]
          },
          "metadata": {
            "tags": [],
            "needs_background": "light"
          }
        }
      ]
    },
    {
      "cell_type": "markdown",
      "metadata": {
        "id": "ilj5BTMpX5XS"
      },
      "source": [
        ""
      ]
    },
    {
      "cell_type": "markdown",
      "metadata": {
        "id": "AEWvMpmMX5cQ"
      },
      "source": [
        "#Presentation of Hotstar's Series Count "
      ]
    },
    {
      "cell_type": "code",
      "metadata": {
        "colab": {
          "base_uri": "https://localhost:8080/",
          "height": 510
        },
        "id": "t1UuVjPeEHpr",
        "outputId": "ce04510d-9bce-4670-c59a-5887000707c8"
      },
      "source": [
        "data['Hotstar_OgSeries'].value_counts().plot(kind='barh',figsize=(10,8),color=\"blue\")\n",
        "plt.title(\"Do you know these series of Hotstar?\")\n",
        "plt.xlim(0,100)\n",
        "plt.show()"
      ],
      "execution_count": 2812,
      "outputs": [
        {
          "output_type": "display_data",
          "data": {
            "image/png": "[encoded data removed]",
            "text/plain": [
              "<Figure size 720x576 with 1 Axes>"
            ]
          },
          "metadata": {
            "tags": [],
            "needs_background": "light"
          }
        }
      ]
    },
    {
      "cell_type": "markdown",
      "metadata": {
        "id": "rIHvGzeuYOcz"
      },
      "source": [
        "#Selection of Genres "
      ]
    },
    {
      "cell_type": "code",
      "metadata": {
        "colab": {
          "base_uri": "https://localhost:8080/",
          "height": 0
        },
        "id": "19De_TtSYprV",
        "outputId": "7937487f-9ec9-4d39-d4c4-9d8363cb3697"
      },
      "source": [
        "plt.figure(figsize=(12,8))\n",
        "plt.xticks(rotation=45)\n",
        "ax = sns.countplot(x=\"Selection\", hue=\"Platforms\", data=data , palette=\"cool\")"
      ],
      "execution_count": 2813,
      "outputs": [
        {
          "output_type": "display_data",
          "data": {
            "image/png": "[encoded data removed]",
            "text/plain": [
              "<Figure size 864x576 with 1 Axes>"
            ]
          },
          "metadata": {
            "tags": [],
            "needs_background": "light"
          }
        }
      ]
    },
    {
      "cell_type": "markdown",
      "metadata": {
        "id": "veFm8eK-ZP8_"
      },
      "source": [
        "#Relation between Overall Rating ,Platform and Age"
      ]
    },
    {
      "cell_type": "markdown",
      "metadata": {
        "id": "FbdESoMXZUYs"
      },
      "source": [
        ""
      ]
    },
    {
      "cell_type": "code",
      "metadata": {
        "colab": {
          "base_uri": "https://localhost:8080/",
          "height": 299
        },
        "id": "DE_fQCTuYpuW",
        "outputId": "4b39074e-5e7f-45be-872d-e7023268a41f"
      },
      "source": [
        "g = sns.catplot(x=\"Overall_Rating\", hue=\"Platforms\", col=\"Age\",\n",
        "                data=data, kind=\"count\",\n",
        "                height=4, aspect=0.998,palette=\"cool\");"
      ],
      "execution_count": 2814,
      "outputs": [
        {
          "output_type": "display_data",
          "data": {
            "image/png": "[encoded data removed]",
            "text/plain": [
              "<Figure size 1326.26x288 with 4 Axes>"
            ]
          },
          "metadata": {
            "tags": [],
            "needs_background": "light"
          }
        }
      ]
    },
    {
      "cell_type": "markdown",
      "metadata": {
        "id": "47bVv_TpbtBv"
      },
      "source": [
        "#Relation between Most Watched and Platfroms."
      ]
    },
    {
      "cell_type": "code",
      "metadata": {
        "id": "MDlKPnHecc4-"
      },
      "source": [
        ""
      ],
      "execution_count": 2814,
      "outputs": []
    },
    {
      "cell_type": "code",
      "metadata": {
        "colab": {
          "base_uri": "https://localhost:8080/",
          "height": 0
        },
        "id": "8ehXxefxndZz",
        "outputId": "664aefcc-6a08-4d97-b43c-27b2230d89b9"
      },
      "source": [
        "plt.figure(figsize=(15,10))\n",
        "plt.xticks(rotation=45)\n",
        "plt.xlim(0,70)\n",
        "ax = sns.countplot(y=\"Most_watched\", hue=\"Platforms\", data=data , palette=\"hsv_r\")"
      ],
      "execution_count": 2815,
      "outputs": [
        {
          "output_type": "display_data",
          "data": {
            "image/png": "[encoded data removed]",
            "text/plain": [
              "<Figure size 1080x720 with 1 Axes>"
            ]
          },
          "metadata": {
            "tags": [],
            "needs_background": "light"
          }
        }
      ]
    },
    {
      "cell_type": "markdown",
      "metadata": {
        "id": "bQtLUT9fb2bX"
      },
      "source": [
        "#Relation Between Subscription and Platfroms"
      ]
    },
    {
      "cell_type": "code",
      "metadata": {
        "colab": {
          "base_uri": "https://localhost:8080/",
          "height": 0
        },
        "id": "2_Ix6X8Vb9gi",
        "outputId": "206e31ba-6dd8-45a4-a354-de71edc08221"
      },
      "source": [
        "plt.figure(figsize=(15,10))\n",
        "plt.xticks(rotation=45)\n",
        "plt.xlim(0,70)\n",
        "ax = sns.countplot(y=\"Subscription\", hue=\"Platforms\", data=data , palette=\"cool\")"
      ],
      "execution_count": 2816,
      "outputs": [
        {
          "output_type": "display_data",
          "data": {
            "image/png": "[encoded data removed]",
            "text/plain": [
              "<Figure size 1080x720 with 1 Axes>"
            ]
          },
          "metadata": {
            "tags": [],
            "needs_background": "light"
          }
        }
      ]
    },
    {
      "cell_type": "markdown",
      "metadata": {
        "id": "zkIQvigYZhXi"
      },
      "source": [
        "#Converting data into one_hot_encoding."
      ]
    },
    {
      "cell_type": "code",
      "metadata": {
        "id": "MT-horNypE1_"
      },
      "source": [
        ""
      ],
      "execution_count": 2816,
      "outputs": []
    },
    {
      "cell_type": "code",
      "metadata": {
        "colab": {
          "base_uri": "https://localhost:8080/"
        },
        "id": "fgQUgcQOBHBq",
        "outputId": "64206558-63b0-403b-d3c6-0c10828af434"
      },
      "source": [
        "data.columns"
      ],
      "execution_count": 2817,
      "outputs": [
        {
          "output_type": "execute_result",
          "data": {
            "text/plain": [
              "Index(['Timestamp', 'Video Streaming Platform(Y/N)', 'Age', 'Frequency',\n",
              "       'Most_watched', 'Selection', 'Platforms', 'Subscription', 'Duration',\n",
              "       'Netflix_Rating_Og', 'Netflix_Rating_movie',\n",
              "       'Netflix_Rating_documentry', 'Netflix_Rating_others', 'Prime_Rating_Og',\n",
              "       'Prime_Rating_movie', 'Prime_Rating_documentry', 'Prime_Rating_others',\n",
              "       'Hotstar_Rating_Og', 'Hotstar_Rating_movie',\n",
              "       'Hotstar_Rating_documentry', 'Hotstar_Rating_sports',\n",
              "       'Netflix_OgSeries', 'Prime_OgSeries', 'Hotstar_OgSeries',\n",
              "       'Advertisment', 'Features', 'Overall_Rating', 'Suggestion'],\n",
              "      dtype='object')"
            ]
          },
          "metadata": {
            "tags": []
          },
          "execution_count": 2817
        }
      ]
    },
    {
      "cell_type": "code",
      "metadata": {
        "id": "jqG5N_2PpWQA"
      },
      "source": [
        ""
      ],
      "execution_count": 2817,
      "outputs": []
    },
    {
      "cell_type": "code",
      "metadata": {
        "colab": {
          "base_uri": "https://localhost:8080/",
          "height": 490
        },
        "id": "5IztiOZRYpxW",
        "outputId": "8fc6ba91-b620-4d54-9400-7a4197ffc034"
      },
      "source": [
        "one_hot_data = pd.get_dummies(data[['Platforms','Age','Overall_Rating','Duration','Frequency','Most_watched']])\n",
        "one_hot_data"
      ],
      "execution_count": 2818,
      "outputs": [
        {
          "output_type": "execute_result",
          "data": {
            "text/html": [
              "<div>\n",
              "<style scoped>\n",
              "    .dataframe tbody tr th:only-of-type {\n",
              "        vertical-align: middle;\n",
              "    }\n",
              "\n",
              "    .dataframe tbody tr th {\n",
              "        vertical-align: top;\n",
              "    }\n",
              "\n",
              "    .dataframe thead th {\n",
              "        text-align: right;\n",
              "    }\n",
              "</style>\n",
              "<table border=\"1\" class=\"dataframe\">\n",
              "  <thead>\n",
              "    <tr style=\"text-align: right;\">\n",
              "      <th></th>\n",
              "      <th>Overall_Rating</th>\n",
              "      <th>Duration</th>\n",
              "      <th>Frequency</th>\n",
              "      <th>Platforms_All of the above</th>\n",
              "      <th>Platforms_Hotstar</th>\n",
              "      <th>Platforms_Netflix</th>\n",
              "      <th>Platforms_Prime</th>\n",
              "      <th>Age_18-30</th>\n",
              "      <th>Age_31-50</th>\n",
              "      <th>Age_Less than 18</th>\n",
              "      <th>Age_More than 50</th>\n",
              "      <th>Most_watched_All of the above</th>\n",
              "      <th>Most_watched_Documentaries</th>\n",
              "      <th>Most_watched_Documentaries, Sports and News</th>\n",
              "      <th>Most_watched_Movies</th>\n",
              "      <th>Most_watched_Movies, Documentaries</th>\n",
              "      <th>Most_watched_Movies, Documentaries, Sports and News</th>\n",
              "      <th>Most_watched_Movies, Sports and News</th>\n",
              "      <th>Most_watched_Original Web Series</th>\n",
              "      <th>Most_watched_Original Web Series, Documentaries</th>\n",
              "      <th>Most_watched_Original Web Series, Documentaries, Sports and News</th>\n",
              "      <th>Most_watched_Original Web Series, Movies</th>\n",
              "      <th>Most_watched_Original Web Series, Movies, Documentaries</th>\n",
              "      <th>Most_watched_Original Web Series, Movies, Sports and News</th>\n",
              "      <th>Most_watched_Original Web Series, Sports and News</th>\n",
              "      <th>Most_watched_Sports and News</th>\n",
              "    </tr>\n",
              "  </thead>\n",
              "  <tbody>\n",
              "    <tr>\n",
              "      <th>0</th>\n",
              "      <td>2</td>\n",
              "      <td>1</td>\n",
              "      <td>1</td>\n",
              "      <td>0</td>\n",
              "      <td>0</td>\n",
              "      <td>0</td>\n",
              "      <td>1</td>\n",
              "      <td>1</td>\n",
              "      <td>0</td>\n",
              "      <td>0</td>\n",
              "      <td>0</td>\n",
              "      <td>1</td>\n",
              "      <td>0</td>\n",
              "      <td>0</td>\n",
              "      <td>0</td>\n",
              "      <td>0</td>\n",
              "      <td>0</td>\n",
              "      <td>0</td>\n",
              "      <td>0</td>\n",
              "      <td>0</td>\n",
              "      <td>0</td>\n",
              "      <td>0</td>\n",
              "      <td>0</td>\n",
              "      <td>0</td>\n",
              "      <td>0</td>\n",
              "      <td>0</td>\n",
              "    </tr>\n",
              "    <tr>\n",
              "      <th>1</th>\n",
              "      <td>2</td>\n",
              "      <td>2</td>\n",
              "      <td>3</td>\n",
              "      <td>0</td>\n",
              "      <td>0</td>\n",
              "      <td>1</td>\n",
              "      <td>0</td>\n",
              "      <td>1</td>\n",
              "      <td>0</td>\n",
              "      <td>0</td>\n",
              "      <td>0</td>\n",
              "      <td>0</td>\n",
              "      <td>0</td>\n",
              "      <td>0</td>\n",
              "      <td>0</td>\n",
              "      <td>0</td>\n",
              "      <td>0</td>\n",
              "      <td>0</td>\n",
              "      <td>1</td>\n",
              "      <td>0</td>\n",
              "      <td>0</td>\n",
              "      <td>0</td>\n",
              "      <td>0</td>\n",
              "      <td>0</td>\n",
              "      <td>0</td>\n",
              "      <td>0</td>\n",
              "    </tr>\n",
              "    <tr>\n",
              "      <th>2</th>\n",
              "      <td>1</td>\n",
              "      <td>2</td>\n",
              "      <td>3</td>\n",
              "      <td>0</td>\n",
              "      <td>1</td>\n",
              "      <td>0</td>\n",
              "      <td>0</td>\n",
              "      <td>1</td>\n",
              "      <td>0</td>\n",
              "      <td>0</td>\n",
              "      <td>0</td>\n",
              "      <td>0</td>\n",
              "      <td>0</td>\n",
              "      <td>0</td>\n",
              "      <td>1</td>\n",
              "      <td>0</td>\n",
              "      <td>0</td>\n",
              "      <td>0</td>\n",
              "      <td>0</td>\n",
              "      <td>0</td>\n",
              "      <td>0</td>\n",
              "      <td>0</td>\n",
              "      <td>0</td>\n",
              "      <td>0</td>\n",
              "      <td>0</td>\n",
              "      <td>0</td>\n",
              "    </tr>\n",
              "    <tr>\n",
              "      <th>3</th>\n",
              "      <td>2</td>\n",
              "      <td>2</td>\n",
              "      <td>2</td>\n",
              "      <td>0</td>\n",
              "      <td>1</td>\n",
              "      <td>0</td>\n",
              "      <td>0</td>\n",
              "      <td>0</td>\n",
              "      <td>1</td>\n",
              "      <td>0</td>\n",
              "      <td>0</td>\n",
              "      <td>0</td>\n",
              "      <td>0</td>\n",
              "      <td>0</td>\n",
              "      <td>0</td>\n",
              "      <td>0</td>\n",
              "      <td>1</td>\n",
              "      <td>0</td>\n",
              "      <td>0</td>\n",
              "      <td>0</td>\n",
              "      <td>0</td>\n",
              "      <td>0</td>\n",
              "      <td>0</td>\n",
              "      <td>0</td>\n",
              "      <td>0</td>\n",
              "      <td>0</td>\n",
              "    </tr>\n",
              "    <tr>\n",
              "      <th>4</th>\n",
              "      <td>2</td>\n",
              "      <td>1</td>\n",
              "      <td>3</td>\n",
              "      <td>1</td>\n",
              "      <td>0</td>\n",
              "      <td>0</td>\n",
              "      <td>0</td>\n",
              "      <td>1</td>\n",
              "      <td>0</td>\n",
              "      <td>0</td>\n",
              "      <td>0</td>\n",
              "      <td>0</td>\n",
              "      <td>0</td>\n",
              "      <td>0</td>\n",
              "      <td>1</td>\n",
              "      <td>0</td>\n",
              "      <td>0</td>\n",
              "      <td>0</td>\n",
              "      <td>0</td>\n",
              "      <td>0</td>\n",
              "      <td>0</td>\n",
              "      <td>0</td>\n",
              "      <td>0</td>\n",
              "      <td>0</td>\n",
              "      <td>0</td>\n",
              "      <td>0</td>\n",
              "    </tr>\n",
              "    <tr>\n",
              "      <th>...</th>\n",
              "      <td>...</td>\n",
              "      <td>...</td>\n",
              "      <td>...</td>\n",
              "      <td>...</td>\n",
              "      <td>...</td>\n",
              "      <td>...</td>\n",
              "      <td>...</td>\n",
              "      <td>...</td>\n",
              "      <td>...</td>\n",
              "      <td>...</td>\n",
              "      <td>...</td>\n",
              "      <td>...</td>\n",
              "      <td>...</td>\n",
              "      <td>...</td>\n",
              "      <td>...</td>\n",
              "      <td>...</td>\n",
              "      <td>...</td>\n",
              "      <td>...</td>\n",
              "      <td>...</td>\n",
              "      <td>...</td>\n",
              "      <td>...</td>\n",
              "      <td>...</td>\n",
              "      <td>...</td>\n",
              "      <td>...</td>\n",
              "      <td>...</td>\n",
              "      <td>...</td>\n",
              "    </tr>\n",
              "    <tr>\n",
              "      <th>245</th>\n",
              "      <td>2</td>\n",
              "      <td>1</td>\n",
              "      <td>2</td>\n",
              "      <td>0</td>\n",
              "      <td>0</td>\n",
              "      <td>1</td>\n",
              "      <td>0</td>\n",
              "      <td>0</td>\n",
              "      <td>0</td>\n",
              "      <td>1</td>\n",
              "      <td>0</td>\n",
              "      <td>0</td>\n",
              "      <td>0</td>\n",
              "      <td>0</td>\n",
              "      <td>0</td>\n",
              "      <td>0</td>\n",
              "      <td>0</td>\n",
              "      <td>0</td>\n",
              "      <td>0</td>\n",
              "      <td>0</td>\n",
              "      <td>0</td>\n",
              "      <td>1</td>\n",
              "      <td>0</td>\n",
              "      <td>0</td>\n",
              "      <td>0</td>\n",
              "      <td>0</td>\n",
              "    </tr>\n",
              "    <tr>\n",
              "      <th>246</th>\n",
              "      <td>1</td>\n",
              "      <td>2</td>\n",
              "      <td>2</td>\n",
              "      <td>0</td>\n",
              "      <td>0</td>\n",
              "      <td>1</td>\n",
              "      <td>0</td>\n",
              "      <td>0</td>\n",
              "      <td>1</td>\n",
              "      <td>0</td>\n",
              "      <td>0</td>\n",
              "      <td>0</td>\n",
              "      <td>0</td>\n",
              "      <td>0</td>\n",
              "      <td>1</td>\n",
              "      <td>0</td>\n",
              "      <td>0</td>\n",
              "      <td>0</td>\n",
              "      <td>0</td>\n",
              "      <td>0</td>\n",
              "      <td>0</td>\n",
              "      <td>0</td>\n",
              "      <td>0</td>\n",
              "      <td>0</td>\n",
              "      <td>0</td>\n",
              "      <td>0</td>\n",
              "    </tr>\n",
              "    <tr>\n",
              "      <th>247</th>\n",
              "      <td>2</td>\n",
              "      <td>3</td>\n",
              "      <td>3</td>\n",
              "      <td>0</td>\n",
              "      <td>0</td>\n",
              "      <td>0</td>\n",
              "      <td>1</td>\n",
              "      <td>1</td>\n",
              "      <td>0</td>\n",
              "      <td>0</td>\n",
              "      <td>0</td>\n",
              "      <td>0</td>\n",
              "      <td>0</td>\n",
              "      <td>0</td>\n",
              "      <td>0</td>\n",
              "      <td>0</td>\n",
              "      <td>0</td>\n",
              "      <td>1</td>\n",
              "      <td>0</td>\n",
              "      <td>0</td>\n",
              "      <td>0</td>\n",
              "      <td>0</td>\n",
              "      <td>0</td>\n",
              "      <td>0</td>\n",
              "      <td>0</td>\n",
              "      <td>0</td>\n",
              "    </tr>\n",
              "    <tr>\n",
              "      <th>248</th>\n",
              "      <td>1</td>\n",
              "      <td>3</td>\n",
              "      <td>3</td>\n",
              "      <td>0</td>\n",
              "      <td>0</td>\n",
              "      <td>0</td>\n",
              "      <td>1</td>\n",
              "      <td>1</td>\n",
              "      <td>0</td>\n",
              "      <td>0</td>\n",
              "      <td>0</td>\n",
              "      <td>0</td>\n",
              "      <td>0</td>\n",
              "      <td>0</td>\n",
              "      <td>0</td>\n",
              "      <td>0</td>\n",
              "      <td>0</td>\n",
              "      <td>1</td>\n",
              "      <td>0</td>\n",
              "      <td>0</td>\n",
              "      <td>0</td>\n",
              "      <td>0</td>\n",
              "      <td>0</td>\n",
              "      <td>0</td>\n",
              "      <td>0</td>\n",
              "      <td>0</td>\n",
              "    </tr>\n",
              "    <tr>\n",
              "      <th>249</th>\n",
              "      <td>1</td>\n",
              "      <td>2</td>\n",
              "      <td>2</td>\n",
              "      <td>1</td>\n",
              "      <td>0</td>\n",
              "      <td>0</td>\n",
              "      <td>0</td>\n",
              "      <td>0</td>\n",
              "      <td>1</td>\n",
              "      <td>0</td>\n",
              "      <td>0</td>\n",
              "      <td>1</td>\n",
              "      <td>0</td>\n",
              "      <td>0</td>\n",
              "      <td>0</td>\n",
              "      <td>0</td>\n",
              "      <td>0</td>\n",
              "      <td>0</td>\n",
              "      <td>0</td>\n",
              "      <td>0</td>\n",
              "      <td>0</td>\n",
              "      <td>0</td>\n",
              "      <td>0</td>\n",
              "      <td>0</td>\n",
              "      <td>0</td>\n",
              "      <td>0</td>\n",
              "    </tr>\n",
              "  </tbody>\n",
              "</table>\n",
              "<p>250 rows × 26 columns</p>\n",
              "</div>"
            ],
            "text/plain": [
              "     Overall_Rating  ...  Most_watched_Sports and News\n",
              "0                 2  ...                             0\n",
              "1                 2  ...                             0\n",
              "2                 1  ...                             0\n",
              "3                 2  ...                             0\n",
              "4                 2  ...                             0\n",
              "..              ...  ...                           ...\n",
              "245               2  ...                             0\n",
              "246               1  ...                             0\n",
              "247               2  ...                             0\n",
              "248               1  ...                             0\n",
              "249               1  ...                             0\n",
              "\n",
              "[250 rows x 26 columns]"
            ]
          },
          "metadata": {
            "tags": []
          },
          "execution_count": 2818
        }
      ]
    },
    {
      "cell_type": "code",
      "metadata": {
        "id": "Hck2EY_tpuHM"
      },
      "source": [
        ""
      ],
      "execution_count": 2818,
      "outputs": []
    },
    {
      "cell_type": "code",
      "metadata": {
        "colab": {
          "base_uri": "https://localhost:8080/"
        },
        "id": "U3PXGu58puNI",
        "outputId": "51543bd3-4b1b-43c3-9491-b7769922ca96"
      },
      "source": [
        "one_hot_data.columns"
      ],
      "execution_count": 2819,
      "outputs": [
        {
          "output_type": "execute_result",
          "data": {
            "text/plain": [
              "Index(['Overall_Rating', 'Duration', 'Frequency', 'Platforms_All of the above',\n",
              "       'Platforms_Hotstar', 'Platforms_Netflix', 'Platforms_Prime',\n",
              "       'Age_18-30', 'Age_31-50', 'Age_Less than 18', 'Age_More than 50',\n",
              "       'Most_watched_All of the above', 'Most_watched_Documentaries',\n",
              "       'Most_watched_Documentaries, Sports and News', 'Most_watched_Movies',\n",
              "       'Most_watched_Movies, Documentaries',\n",
              "       'Most_watched_Movies, Documentaries, Sports and News',\n",
              "       'Most_watched_Movies, Sports and News',\n",
              "       'Most_watched_Original Web Series',\n",
              "       'Most_watched_Original Web Series, Documentaries',\n",
              "       'Most_watched_Original Web Series, Documentaries, Sports and News',\n",
              "       'Most_watched_Original Web Series, Movies',\n",
              "       'Most_watched_Original Web Series, Movies, Documentaries',\n",
              "       'Most_watched_Original Web Series, Movies, Sports and News',\n",
              "       'Most_watched_Original Web Series, Sports and News',\n",
              "       'Most_watched_Sports and News'],\n",
              "      dtype='object')"
            ]
          },
          "metadata": {
            "tags": []
          },
          "execution_count": 2819
        }
      ]
    },
    {
      "cell_type": "code",
      "metadata": {
        "id": "a_q6C66-pHai"
      },
      "source": [
        "one_hot_data=one_hot_data.drop(['Platforms_All of the above','Age_Less than 18','Most_watched_Sports and News'],axis=1)"
      ],
      "execution_count": 2820,
      "outputs": []
    },
    {
      "cell_type": "code",
      "metadata": {
        "colab": {
          "base_uri": "https://localhost:8080/",
          "height": 490
        },
        "id": "7P-P8DywYp1c",
        "outputId": "cc60370e-a163-4ca3-f862-353393409592"
      },
      "source": [
        "#one_hot_data = pd.get_dummies(data[['Platforms','Age','Overall_Rating','Duration','Frequency','Most_watched']],drop_first=True)\n",
        "one_hot_data"
      ],
      "execution_count": 2821,
      "outputs": [
        {
          "output_type": "execute_result",
          "data": {
            "text/html": [
              "<div>\n",
              "<style scoped>\n",
              "    .dataframe tbody tr th:only-of-type {\n",
              "        vertical-align: middle;\n",
              "    }\n",
              "\n",
              "    .dataframe tbody tr th {\n",
              "        vertical-align: top;\n",
              "    }\n",
              "\n",
              "    .dataframe thead th {\n",
              "        text-align: right;\n",
              "    }\n",
              "</style>\n",
              "<table border=\"1\" class=\"dataframe\">\n",
              "  <thead>\n",
              "    <tr style=\"text-align: right;\">\n",
              "      <th></th>\n",
              "      <th>Overall_Rating</th>\n",
              "      <th>Duration</th>\n",
              "      <th>Frequency</th>\n",
              "      <th>Platforms_Hotstar</th>\n",
              "      <th>Platforms_Netflix</th>\n",
              "      <th>Platforms_Prime</th>\n",
              "      <th>Age_18-30</th>\n",
              "      <th>Age_31-50</th>\n",
              "      <th>Age_More than 50</th>\n",
              "      <th>Most_watched_All of the above</th>\n",
              "      <th>Most_watched_Documentaries</th>\n",
              "      <th>Most_watched_Documentaries, Sports and News</th>\n",
              "      <th>Most_watched_Movies</th>\n",
              "      <th>Most_watched_Movies, Documentaries</th>\n",
              "      <th>Most_watched_Movies, Documentaries, Sports and News</th>\n",
              "      <th>Most_watched_Movies, Sports and News</th>\n",
              "      <th>Most_watched_Original Web Series</th>\n",
              "      <th>Most_watched_Original Web Series, Documentaries</th>\n",
              "      <th>Most_watched_Original Web Series, Documentaries, Sports and News</th>\n",
              "      <th>Most_watched_Original Web Series, Movies</th>\n",
              "      <th>Most_watched_Original Web Series, Movies, Documentaries</th>\n",
              "      <th>Most_watched_Original Web Series, Movies, Sports and News</th>\n",
              "      <th>Most_watched_Original Web Series, Sports and News</th>\n",
              "    </tr>\n",
              "  </thead>\n",
              "  <tbody>\n",
              "    <tr>\n",
              "      <th>0</th>\n",
              "      <td>2</td>\n",
              "      <td>1</td>\n",
              "      <td>1</td>\n",
              "      <td>0</td>\n",
              "      <td>0</td>\n",
              "      <td>1</td>\n",
              "      <td>1</td>\n",
              "      <td>0</td>\n",
              "      <td>0</td>\n",
              "      <td>1</td>\n",
              "      <td>0</td>\n",
              "      <td>0</td>\n",
              "      <td>0</td>\n",
              "      <td>0</td>\n",
              "      <td>0</td>\n",
              "      <td>0</td>\n",
              "      <td>0</td>\n",
              "      <td>0</td>\n",
              "      <td>0</td>\n",
              "      <td>0</td>\n",
              "      <td>0</td>\n",
              "      <td>0</td>\n",
              "      <td>0</td>\n",
              "    </tr>\n",
              "    <tr>\n",
              "      <th>1</th>\n",
              "      <td>2</td>\n",
              "      <td>2</td>\n",
              "      <td>3</td>\n",
              "      <td>0</td>\n",
              "      <td>1</td>\n",
              "      <td>0</td>\n",
              "      <td>1</td>\n",
              "      <td>0</td>\n",
              "      <td>0</td>\n",
              "      <td>0</td>\n",
              "      <td>0</td>\n",
              "      <td>0</td>\n",
              "      <td>0</td>\n",
              "      <td>0</td>\n",
              "      <td>0</td>\n",
              "      <td>0</td>\n",
              "      <td>1</td>\n",
              "      <td>0</td>\n",
              "      <td>0</td>\n",
              "      <td>0</td>\n",
              "      <td>0</td>\n",
              "      <td>0</td>\n",
              "      <td>0</td>\n",
              "    </tr>\n",
              "    <tr>\n",
              "      <th>2</th>\n",
              "      <td>1</td>\n",
              "      <td>2</td>\n",
              "      <td>3</td>\n",
              "      <td>1</td>\n",
              "      <td>0</td>\n",
              "      <td>0</td>\n",
              "      <td>1</td>\n",
              "      <td>0</td>\n",
              "      <td>0</td>\n",
              "      <td>0</td>\n",
              "      <td>0</td>\n",
              "      <td>0</td>\n",
              "      <td>1</td>\n",
              "      <td>0</td>\n",
              "      <td>0</td>\n",
              "      <td>0</td>\n",
              "      <td>0</td>\n",
              "      <td>0</td>\n",
              "      <td>0</td>\n",
              "      <td>0</td>\n",
              "      <td>0</td>\n",
              "      <td>0</td>\n",
              "      <td>0</td>\n",
              "    </tr>\n",
              "    <tr>\n",
              "      <th>3</th>\n",
              "      <td>2</td>\n",
              "      <td>2</td>\n",
              "      <td>2</td>\n",
              "      <td>1</td>\n",
              "      <td>0</td>\n",
              "      <td>0</td>\n",
              "      <td>0</td>\n",
              "      <td>1</td>\n",
              "      <td>0</td>\n",
              "      <td>0</td>\n",
              "      <td>0</td>\n",
              "      <td>0</td>\n",
              "      <td>0</td>\n",
              "      <td>0</td>\n",
              "      <td>1</td>\n",
              "      <td>0</td>\n",
              "      <td>0</td>\n",
              "      <td>0</td>\n",
              "      <td>0</td>\n",
              "      <td>0</td>\n",
              "      <td>0</td>\n",
              "      <td>0</td>\n",
              "      <td>0</td>\n",
              "    </tr>\n",
              "    <tr>\n",
              "      <th>4</th>\n",
              "      <td>2</td>\n",
              "      <td>1</td>\n",
              "      <td>3</td>\n",
              "      <td>0</td>\n",
              "      <td>0</td>\n",
              "      <td>0</td>\n",
              "      <td>1</td>\n",
              "      <td>0</td>\n",
              "      <td>0</td>\n",
              "      <td>0</td>\n",
              "      <td>0</td>\n",
              "      <td>0</td>\n",
              "      <td>1</td>\n",
              "      <td>0</td>\n",
              "      <td>0</td>\n",
              "      <td>0</td>\n",
              "      <td>0</td>\n",
              "      <td>0</td>\n",
              "      <td>0</td>\n",
              "      <td>0</td>\n",
              "      <td>0</td>\n",
              "      <td>0</td>\n",
              "      <td>0</td>\n",
              "    </tr>\n",
              "    <tr>\n",
              "      <th>...</th>\n",
              "      <td>...</td>\n",
              "      <td>...</td>\n",
              "      <td>...</td>\n",
              "      <td>...</td>\n",
              "      <td>...</td>\n",
              "      <td>...</td>\n",
              "      <td>...</td>\n",
              "      <td>...</td>\n",
              "      <td>...</td>\n",
              "      <td>...</td>\n",
              "      <td>...</td>\n",
              "      <td>...</td>\n",
              "      <td>...</td>\n",
              "      <td>...</td>\n",
              "      <td>...</td>\n",
              "      <td>...</td>\n",
              "      <td>...</td>\n",
              "      <td>...</td>\n",
              "      <td>...</td>\n",
              "      <td>...</td>\n",
              "      <td>...</td>\n",
              "      <td>...</td>\n",
              "      <td>...</td>\n",
              "    </tr>\n",
              "    <tr>\n",
              "      <th>245</th>\n",
              "      <td>2</td>\n",
              "      <td>1</td>\n",
              "      <td>2</td>\n",
              "      <td>0</td>\n",
              "      <td>1</td>\n",
              "      <td>0</td>\n",
              "      <td>0</td>\n",
              "      <td>0</td>\n",
              "      <td>0</td>\n",
              "      <td>0</td>\n",
              "      <td>0</td>\n",
              "      <td>0</td>\n",
              "      <td>0</td>\n",
              "      <td>0</td>\n",
              "      <td>0</td>\n",
              "      <td>0</td>\n",
              "      <td>0</td>\n",
              "      <td>0</td>\n",
              "      <td>0</td>\n",
              "      <td>1</td>\n",
              "      <td>0</td>\n",
              "      <td>0</td>\n",
              "      <td>0</td>\n",
              "    </tr>\n",
              "    <tr>\n",
              "      <th>246</th>\n",
              "      <td>1</td>\n",
              "      <td>2</td>\n",
              "      <td>2</td>\n",
              "      <td>0</td>\n",
              "      <td>1</td>\n",
              "      <td>0</td>\n",
              "      <td>0</td>\n",
              "      <td>1</td>\n",
              "      <td>0</td>\n",
              "      <td>0</td>\n",
              "      <td>0</td>\n",
              "      <td>0</td>\n",
              "      <td>1</td>\n",
              "      <td>0</td>\n",
              "      <td>0</td>\n",
              "      <td>0</td>\n",
              "      <td>0</td>\n",
              "      <td>0</td>\n",
              "      <td>0</td>\n",
              "      <td>0</td>\n",
              "      <td>0</td>\n",
              "      <td>0</td>\n",
              "      <td>0</td>\n",
              "    </tr>\n",
              "    <tr>\n",
              "      <th>247</th>\n",
              "      <td>2</td>\n",
              "      <td>3</td>\n",
              "      <td>3</td>\n",
              "      <td>0</td>\n",
              "      <td>0</td>\n",
              "      <td>1</td>\n",
              "      <td>1</td>\n",
              "      <td>0</td>\n",
              "      <td>0</td>\n",
              "      <td>0</td>\n",
              "      <td>0</td>\n",
              "      <td>0</td>\n",
              "      <td>0</td>\n",
              "      <td>0</td>\n",
              "      <td>0</td>\n",
              "      <td>1</td>\n",
              "      <td>0</td>\n",
              "      <td>0</td>\n",
              "      <td>0</td>\n",
              "      <td>0</td>\n",
              "      <td>0</td>\n",
              "      <td>0</td>\n",
              "      <td>0</td>\n",
              "    </tr>\n",
              "    <tr>\n",
              "      <th>248</th>\n",
              "      <td>1</td>\n",
              "      <td>3</td>\n",
              "      <td>3</td>\n",
              "      <td>0</td>\n",
              "      <td>0</td>\n",
              "      <td>1</td>\n",
              "      <td>1</td>\n",
              "      <td>0</td>\n",
              "      <td>0</td>\n",
              "      <td>0</td>\n",
              "      <td>0</td>\n",
              "      <td>0</td>\n",
              "      <td>0</td>\n",
              "      <td>0</td>\n",
              "      <td>0</td>\n",
              "      <td>1</td>\n",
              "      <td>0</td>\n",
              "      <td>0</td>\n",
              "      <td>0</td>\n",
              "      <td>0</td>\n",
              "      <td>0</td>\n",
              "      <td>0</td>\n",
              "      <td>0</td>\n",
              "    </tr>\n",
              "    <tr>\n",
              "      <th>249</th>\n",
              "      <td>1</td>\n",
              "      <td>2</td>\n",
              "      <td>2</td>\n",
              "      <td>0</td>\n",
              "      <td>0</td>\n",
              "      <td>0</td>\n",
              "      <td>0</td>\n",
              "      <td>1</td>\n",
              "      <td>0</td>\n",
              "      <td>1</td>\n",
              "      <td>0</td>\n",
              "      <td>0</td>\n",
              "      <td>0</td>\n",
              "      <td>0</td>\n",
              "      <td>0</td>\n",
              "      <td>0</td>\n",
              "      <td>0</td>\n",
              "      <td>0</td>\n",
              "      <td>0</td>\n",
              "      <td>0</td>\n",
              "      <td>0</td>\n",
              "      <td>0</td>\n",
              "      <td>0</td>\n",
              "    </tr>\n",
              "  </tbody>\n",
              "</table>\n",
              "<p>250 rows × 23 columns</p>\n",
              "</div>"
            ],
            "text/plain": [
              "     Overall_Rating  ...  Most_watched_Original Web Series, Sports and News\n",
              "0                 2  ...                                                  0\n",
              "1                 2  ...                                                  0\n",
              "2                 1  ...                                                  0\n",
              "3                 2  ...                                                  0\n",
              "4                 2  ...                                                  0\n",
              "..              ...  ...                                                ...\n",
              "245               2  ...                                                  0\n",
              "246               1  ...                                                  0\n",
              "247               2  ...                                                  0\n",
              "248               1  ...                                                  0\n",
              "249               1  ...                                                  0\n",
              "\n",
              "[250 rows x 23 columns]"
            ]
          },
          "metadata": {
            "tags": []
          },
          "execution_count": 2821
        }
      ]
    },
    {
      "cell_type": "code",
      "metadata": {
        "colab": {
          "base_uri": "https://localhost:8080/"
        },
        "id": "MuI73LeP0rP9",
        "outputId": "48a23e8a-0ed9-4a25-cb76-29954b73bdd4"
      },
      "source": [
        "one_hot_data.columns"
      ],
      "execution_count": 2822,
      "outputs": [
        {
          "output_type": "execute_result",
          "data": {
            "text/plain": [
              "Index(['Overall_Rating', 'Duration', 'Frequency', 'Platforms_Hotstar',\n",
              "       'Platforms_Netflix', 'Platforms_Prime', 'Age_18-30', 'Age_31-50',\n",
              "       'Age_More than 50', 'Most_watched_All of the above',\n",
              "       'Most_watched_Documentaries',\n",
              "       'Most_watched_Documentaries, Sports and News', 'Most_watched_Movies',\n",
              "       'Most_watched_Movies, Documentaries',\n",
              "       'Most_watched_Movies, Documentaries, Sports and News',\n",
              "       'Most_watched_Movies, Sports and News',\n",
              "       'Most_watched_Original Web Series',\n",
              "       'Most_watched_Original Web Series, Documentaries',\n",
              "       'Most_watched_Original Web Series, Documentaries, Sports and News',\n",
              "       'Most_watched_Original Web Series, Movies',\n",
              "       'Most_watched_Original Web Series, Movies, Documentaries',\n",
              "       'Most_watched_Original Web Series, Movies, Sports and News',\n",
              "       'Most_watched_Original Web Series, Sports and News'],\n",
              "      dtype='object')"
            ]
          },
          "metadata": {
            "tags": []
          },
          "execution_count": 2822
        }
      ]
    },
    {
      "cell_type": "code",
      "metadata": {
        "colab": {
          "base_uri": "https://localhost:8080/",
          "height": 740
        },
        "id": "OlNbZ8Q5EL9j",
        "outputId": "8799ccdd-a42c-4645-e7ad-29171344bc83"
      },
      "source": [
        "one_hot_data.tail(20)"
      ],
      "execution_count": 2823,
      "outputs": [
        {
          "output_type": "execute_result",
          "data": {
            "text/html": [
              "<div>\n",
              "<style scoped>\n",
              "    .dataframe tbody tr th:only-of-type {\n",
              "        vertical-align: middle;\n",
              "    }\n",
              "\n",
              "    .dataframe tbody tr th {\n",
              "        vertical-align: top;\n",
              "    }\n",
              "\n",
              "    .dataframe thead th {\n",
              "        text-align: right;\n",
              "    }\n",
              "</style>\n",
              "<table border=\"1\" class=\"dataframe\">\n",
              "  <thead>\n",
              "    <tr style=\"text-align: right;\">\n",
              "      <th></th>\n",
              "      <th>Overall_Rating</th>\n",
              "      <th>Duration</th>\n",
              "      <th>Frequency</th>\n",
              "      <th>Platforms_Hotstar</th>\n",
              "      <th>Platforms_Netflix</th>\n",
              "      <th>Platforms_Prime</th>\n",
              "      <th>Age_18-30</th>\n",
              "      <th>Age_31-50</th>\n",
              "      <th>Age_More than 50</th>\n",
              "      <th>Most_watched_All of the above</th>\n",
              "      <th>Most_watched_Documentaries</th>\n",
              "      <th>Most_watched_Documentaries, Sports and News</th>\n",
              "      <th>Most_watched_Movies</th>\n",
              "      <th>Most_watched_Movies, Documentaries</th>\n",
              "      <th>Most_watched_Movies, Documentaries, Sports and News</th>\n",
              "      <th>Most_watched_Movies, Sports and News</th>\n",
              "      <th>Most_watched_Original Web Series</th>\n",
              "      <th>Most_watched_Original Web Series, Documentaries</th>\n",
              "      <th>Most_watched_Original Web Series, Documentaries, Sports and News</th>\n",
              "      <th>Most_watched_Original Web Series, Movies</th>\n",
              "      <th>Most_watched_Original Web Series, Movies, Documentaries</th>\n",
              "      <th>Most_watched_Original Web Series, Movies, Sports and News</th>\n",
              "      <th>Most_watched_Original Web Series, Sports and News</th>\n",
              "    </tr>\n",
              "  </thead>\n",
              "  <tbody>\n",
              "    <tr>\n",
              "      <th>230</th>\n",
              "      <td>2</td>\n",
              "      <td>1</td>\n",
              "      <td>2</td>\n",
              "      <td>0</td>\n",
              "      <td>0</td>\n",
              "      <td>0</td>\n",
              "      <td>1</td>\n",
              "      <td>0</td>\n",
              "      <td>0</td>\n",
              "      <td>1</td>\n",
              "      <td>0</td>\n",
              "      <td>0</td>\n",
              "      <td>0</td>\n",
              "      <td>0</td>\n",
              "      <td>0</td>\n",
              "      <td>0</td>\n",
              "      <td>0</td>\n",
              "      <td>0</td>\n",
              "      <td>0</td>\n",
              "      <td>0</td>\n",
              "      <td>0</td>\n",
              "      <td>0</td>\n",
              "      <td>0</td>\n",
              "    </tr>\n",
              "    <tr>\n",
              "      <th>231</th>\n",
              "      <td>1</td>\n",
              "      <td>1</td>\n",
              "      <td>2</td>\n",
              "      <td>0</td>\n",
              "      <td>0</td>\n",
              "      <td>0</td>\n",
              "      <td>1</td>\n",
              "      <td>0</td>\n",
              "      <td>0</td>\n",
              "      <td>1</td>\n",
              "      <td>0</td>\n",
              "      <td>0</td>\n",
              "      <td>0</td>\n",
              "      <td>0</td>\n",
              "      <td>0</td>\n",
              "      <td>0</td>\n",
              "      <td>0</td>\n",
              "      <td>0</td>\n",
              "      <td>0</td>\n",
              "      <td>0</td>\n",
              "      <td>0</td>\n",
              "      <td>0</td>\n",
              "      <td>0</td>\n",
              "    </tr>\n",
              "    <tr>\n",
              "      <th>232</th>\n",
              "      <td>2</td>\n",
              "      <td>1</td>\n",
              "      <td>1</td>\n",
              "      <td>0</td>\n",
              "      <td>1</td>\n",
              "      <td>0</td>\n",
              "      <td>1</td>\n",
              "      <td>0</td>\n",
              "      <td>0</td>\n",
              "      <td>0</td>\n",
              "      <td>0</td>\n",
              "      <td>0</td>\n",
              "      <td>0</td>\n",
              "      <td>0</td>\n",
              "      <td>0</td>\n",
              "      <td>0</td>\n",
              "      <td>0</td>\n",
              "      <td>0</td>\n",
              "      <td>0</td>\n",
              "      <td>1</td>\n",
              "      <td>0</td>\n",
              "      <td>0</td>\n",
              "      <td>0</td>\n",
              "    </tr>\n",
              "    <tr>\n",
              "      <th>233</th>\n",
              "      <td>1</td>\n",
              "      <td>1</td>\n",
              "      <td>3</td>\n",
              "      <td>0</td>\n",
              "      <td>0</td>\n",
              "      <td>1</td>\n",
              "      <td>1</td>\n",
              "      <td>0</td>\n",
              "      <td>0</td>\n",
              "      <td>0</td>\n",
              "      <td>0</td>\n",
              "      <td>0</td>\n",
              "      <td>1</td>\n",
              "      <td>0</td>\n",
              "      <td>0</td>\n",
              "      <td>0</td>\n",
              "      <td>0</td>\n",
              "      <td>0</td>\n",
              "      <td>0</td>\n",
              "      <td>0</td>\n",
              "      <td>0</td>\n",
              "      <td>0</td>\n",
              "      <td>0</td>\n",
              "    </tr>\n",
              "    <tr>\n",
              "      <th>234</th>\n",
              "      <td>2</td>\n",
              "      <td>2</td>\n",
              "      <td>1</td>\n",
              "      <td>1</td>\n",
              "      <td>0</td>\n",
              "      <td>0</td>\n",
              "      <td>0</td>\n",
              "      <td>0</td>\n",
              "      <td>0</td>\n",
              "      <td>0</td>\n",
              "      <td>0</td>\n",
              "      <td>0</td>\n",
              "      <td>1</td>\n",
              "      <td>0</td>\n",
              "      <td>0</td>\n",
              "      <td>0</td>\n",
              "      <td>0</td>\n",
              "      <td>0</td>\n",
              "      <td>0</td>\n",
              "      <td>0</td>\n",
              "      <td>0</td>\n",
              "      <td>0</td>\n",
              "      <td>0</td>\n",
              "    </tr>\n",
              "    <tr>\n",
              "      <th>235</th>\n",
              "      <td>3</td>\n",
              "      <td>2</td>\n",
              "      <td>3</td>\n",
              "      <td>0</td>\n",
              "      <td>0</td>\n",
              "      <td>1</td>\n",
              "      <td>0</td>\n",
              "      <td>1</td>\n",
              "      <td>0</td>\n",
              "      <td>1</td>\n",
              "      <td>0</td>\n",
              "      <td>0</td>\n",
              "      <td>0</td>\n",
              "      <td>0</td>\n",
              "      <td>0</td>\n",
              "      <td>0</td>\n",
              "      <td>0</td>\n",
              "      <td>0</td>\n",
              "      <td>0</td>\n",
              "      <td>0</td>\n",
              "      <td>0</td>\n",
              "      <td>0</td>\n",
              "      <td>0</td>\n",
              "    </tr>\n",
              "    <tr>\n",
              "      <th>236</th>\n",
              "      <td>3</td>\n",
              "      <td>2</td>\n",
              "      <td>3</td>\n",
              "      <td>0</td>\n",
              "      <td>0</td>\n",
              "      <td>0</td>\n",
              "      <td>0</td>\n",
              "      <td>1</td>\n",
              "      <td>0</td>\n",
              "      <td>0</td>\n",
              "      <td>0</td>\n",
              "      <td>0</td>\n",
              "      <td>0</td>\n",
              "      <td>0</td>\n",
              "      <td>0</td>\n",
              "      <td>1</td>\n",
              "      <td>0</td>\n",
              "      <td>0</td>\n",
              "      <td>0</td>\n",
              "      <td>0</td>\n",
              "      <td>0</td>\n",
              "      <td>0</td>\n",
              "      <td>0</td>\n",
              "    </tr>\n",
              "    <tr>\n",
              "      <th>237</th>\n",
              "      <td>1</td>\n",
              "      <td>1</td>\n",
              "      <td>1</td>\n",
              "      <td>0</td>\n",
              "      <td>1</td>\n",
              "      <td>0</td>\n",
              "      <td>1</td>\n",
              "      <td>0</td>\n",
              "      <td>0</td>\n",
              "      <td>0</td>\n",
              "      <td>0</td>\n",
              "      <td>0</td>\n",
              "      <td>0</td>\n",
              "      <td>0</td>\n",
              "      <td>0</td>\n",
              "      <td>0</td>\n",
              "      <td>1</td>\n",
              "      <td>0</td>\n",
              "      <td>0</td>\n",
              "      <td>0</td>\n",
              "      <td>0</td>\n",
              "      <td>0</td>\n",
              "      <td>0</td>\n",
              "    </tr>\n",
              "    <tr>\n",
              "      <th>238</th>\n",
              "      <td>1</td>\n",
              "      <td>3</td>\n",
              "      <td>3</td>\n",
              "      <td>1</td>\n",
              "      <td>0</td>\n",
              "      <td>0</td>\n",
              "      <td>0</td>\n",
              "      <td>1</td>\n",
              "      <td>0</td>\n",
              "      <td>0</td>\n",
              "      <td>0</td>\n",
              "      <td>0</td>\n",
              "      <td>0</td>\n",
              "      <td>0</td>\n",
              "      <td>1</td>\n",
              "      <td>0</td>\n",
              "      <td>0</td>\n",
              "      <td>0</td>\n",
              "      <td>0</td>\n",
              "      <td>0</td>\n",
              "      <td>0</td>\n",
              "      <td>0</td>\n",
              "      <td>0</td>\n",
              "    </tr>\n",
              "    <tr>\n",
              "      <th>239</th>\n",
              "      <td>1</td>\n",
              "      <td>3</td>\n",
              "      <td>1</td>\n",
              "      <td>0</td>\n",
              "      <td>1</td>\n",
              "      <td>0</td>\n",
              "      <td>1</td>\n",
              "      <td>0</td>\n",
              "      <td>0</td>\n",
              "      <td>0</td>\n",
              "      <td>0</td>\n",
              "      <td>0</td>\n",
              "      <td>0</td>\n",
              "      <td>0</td>\n",
              "      <td>0</td>\n",
              "      <td>0</td>\n",
              "      <td>0</td>\n",
              "      <td>0</td>\n",
              "      <td>0</td>\n",
              "      <td>1</td>\n",
              "      <td>0</td>\n",
              "      <td>0</td>\n",
              "      <td>0</td>\n",
              "    </tr>\n",
              "    <tr>\n",
              "      <th>240</th>\n",
              "      <td>1</td>\n",
              "      <td>2</td>\n",
              "      <td>1</td>\n",
              "      <td>0</td>\n",
              "      <td>0</td>\n",
              "      <td>0</td>\n",
              "      <td>0</td>\n",
              "      <td>1</td>\n",
              "      <td>0</td>\n",
              "      <td>1</td>\n",
              "      <td>0</td>\n",
              "      <td>0</td>\n",
              "      <td>0</td>\n",
              "      <td>0</td>\n",
              "      <td>0</td>\n",
              "      <td>0</td>\n",
              "      <td>0</td>\n",
              "      <td>0</td>\n",
              "      <td>0</td>\n",
              "      <td>0</td>\n",
              "      <td>0</td>\n",
              "      <td>0</td>\n",
              "      <td>0</td>\n",
              "    </tr>\n",
              "    <tr>\n",
              "      <th>241</th>\n",
              "      <td>1</td>\n",
              "      <td>3</td>\n",
              "      <td>1</td>\n",
              "      <td>0</td>\n",
              "      <td>0</td>\n",
              "      <td>1</td>\n",
              "      <td>1</td>\n",
              "      <td>0</td>\n",
              "      <td>0</td>\n",
              "      <td>0</td>\n",
              "      <td>0</td>\n",
              "      <td>0</td>\n",
              "      <td>1</td>\n",
              "      <td>0</td>\n",
              "      <td>0</td>\n",
              "      <td>0</td>\n",
              "      <td>0</td>\n",
              "      <td>0</td>\n",
              "      <td>0</td>\n",
              "      <td>0</td>\n",
              "      <td>0</td>\n",
              "      <td>0</td>\n",
              "      <td>0</td>\n",
              "    </tr>\n",
              "    <tr>\n",
              "      <th>242</th>\n",
              "      <td>3</td>\n",
              "      <td>3</td>\n",
              "      <td>3</td>\n",
              "      <td>0</td>\n",
              "      <td>0</td>\n",
              "      <td>1</td>\n",
              "      <td>0</td>\n",
              "      <td>0</td>\n",
              "      <td>1</td>\n",
              "      <td>0</td>\n",
              "      <td>0</td>\n",
              "      <td>0</td>\n",
              "      <td>1</td>\n",
              "      <td>0</td>\n",
              "      <td>0</td>\n",
              "      <td>0</td>\n",
              "      <td>0</td>\n",
              "      <td>0</td>\n",
              "      <td>0</td>\n",
              "      <td>0</td>\n",
              "      <td>0</td>\n",
              "      <td>0</td>\n",
              "      <td>0</td>\n",
              "    </tr>\n",
              "    <tr>\n",
              "      <th>243</th>\n",
              "      <td>3</td>\n",
              "      <td>2</td>\n",
              "      <td>1</td>\n",
              "      <td>0</td>\n",
              "      <td>1</td>\n",
              "      <td>0</td>\n",
              "      <td>1</td>\n",
              "      <td>0</td>\n",
              "      <td>0</td>\n",
              "      <td>0</td>\n",
              "      <td>0</td>\n",
              "      <td>0</td>\n",
              "      <td>0</td>\n",
              "      <td>0</td>\n",
              "      <td>0</td>\n",
              "      <td>0</td>\n",
              "      <td>1</td>\n",
              "      <td>0</td>\n",
              "      <td>0</td>\n",
              "      <td>0</td>\n",
              "      <td>0</td>\n",
              "      <td>0</td>\n",
              "      <td>0</td>\n",
              "    </tr>\n",
              "    <tr>\n",
              "      <th>244</th>\n",
              "      <td>1</td>\n",
              "      <td>3</td>\n",
              "      <td>2</td>\n",
              "      <td>1</td>\n",
              "      <td>0</td>\n",
              "      <td>0</td>\n",
              "      <td>0</td>\n",
              "      <td>1</td>\n",
              "      <td>0</td>\n",
              "      <td>0</td>\n",
              "      <td>0</td>\n",
              "      <td>0</td>\n",
              "      <td>0</td>\n",
              "      <td>0</td>\n",
              "      <td>0</td>\n",
              "      <td>1</td>\n",
              "      <td>0</td>\n",
              "      <td>0</td>\n",
              "      <td>0</td>\n",
              "      <td>0</td>\n",
              "      <td>0</td>\n",
              "      <td>0</td>\n",
              "      <td>0</td>\n",
              "    </tr>\n",
              "    <tr>\n",
              "      <th>245</th>\n",
              "      <td>2</td>\n",
              "      <td>1</td>\n",
              "      <td>2</td>\n",
              "      <td>0</td>\n",
              "      <td>1</td>\n",
              "      <td>0</td>\n",
              "      <td>0</td>\n",
              "      <td>0</td>\n",
              "      <td>0</td>\n",
              "      <td>0</td>\n",
              "      <td>0</td>\n",
              "      <td>0</td>\n",
              "      <td>0</td>\n",
              "      <td>0</td>\n",
              "      <td>0</td>\n",
              "      <td>0</td>\n",
              "      <td>0</td>\n",
              "      <td>0</td>\n",
              "      <td>0</td>\n",
              "      <td>1</td>\n",
              "      <td>0</td>\n",
              "      <td>0</td>\n",
              "      <td>0</td>\n",
              "    </tr>\n",
              "    <tr>\n",
              "      <th>246</th>\n",
              "      <td>1</td>\n",
              "      <td>2</td>\n",
              "      <td>2</td>\n",
              "      <td>0</td>\n",
              "      <td>1</td>\n",
              "      <td>0</td>\n",
              "      <td>0</td>\n",
              "      <td>1</td>\n",
              "      <td>0</td>\n",
              "      <td>0</td>\n",
              "      <td>0</td>\n",
              "      <td>0</td>\n",
              "      <td>1</td>\n",
              "      <td>0</td>\n",
              "      <td>0</td>\n",
              "      <td>0</td>\n",
              "      <td>0</td>\n",
              "      <td>0</td>\n",
              "      <td>0</td>\n",
              "      <td>0</td>\n",
              "      <td>0</td>\n",
              "      <td>0</td>\n",
              "      <td>0</td>\n",
              "    </tr>\n",
              "    <tr>\n",
              "      <th>247</th>\n",
              "      <td>2</td>\n",
              "      <td>3</td>\n",
              "      <td>3</td>\n",
              "      <td>0</td>\n",
              "      <td>0</td>\n",
              "      <td>1</td>\n",
              "      <td>1</td>\n",
              "      <td>0</td>\n",
              "      <td>0</td>\n",
              "      <td>0</td>\n",
              "      <td>0</td>\n",
              "      <td>0</td>\n",
              "      <td>0</td>\n",
              "      <td>0</td>\n",
              "      <td>0</td>\n",
              "      <td>1</td>\n",
              "      <td>0</td>\n",
              "      <td>0</td>\n",
              "      <td>0</td>\n",
              "      <td>0</td>\n",
              "      <td>0</td>\n",
              "      <td>0</td>\n",
              "      <td>0</td>\n",
              "    </tr>\n",
              "    <tr>\n",
              "      <th>248</th>\n",
              "      <td>1</td>\n",
              "      <td>3</td>\n",
              "      <td>3</td>\n",
              "      <td>0</td>\n",
              "      <td>0</td>\n",
              "      <td>1</td>\n",
              "      <td>1</td>\n",
              "      <td>0</td>\n",
              "      <td>0</td>\n",
              "      <td>0</td>\n",
              "      <td>0</td>\n",
              "      <td>0</td>\n",
              "      <td>0</td>\n",
              "      <td>0</td>\n",
              "      <td>0</td>\n",
              "      <td>1</td>\n",
              "      <td>0</td>\n",
              "      <td>0</td>\n",
              "      <td>0</td>\n",
              "      <td>0</td>\n",
              "      <td>0</td>\n",
              "      <td>0</td>\n",
              "      <td>0</td>\n",
              "    </tr>\n",
              "    <tr>\n",
              "      <th>249</th>\n",
              "      <td>1</td>\n",
              "      <td>2</td>\n",
              "      <td>2</td>\n",
              "      <td>0</td>\n",
              "      <td>0</td>\n",
              "      <td>0</td>\n",
              "      <td>0</td>\n",
              "      <td>1</td>\n",
              "      <td>0</td>\n",
              "      <td>1</td>\n",
              "      <td>0</td>\n",
              "      <td>0</td>\n",
              "      <td>0</td>\n",
              "      <td>0</td>\n",
              "      <td>0</td>\n",
              "      <td>0</td>\n",
              "      <td>0</td>\n",
              "      <td>0</td>\n",
              "      <td>0</td>\n",
              "      <td>0</td>\n",
              "      <td>0</td>\n",
              "      <td>0</td>\n",
              "      <td>0</td>\n",
              "    </tr>\n",
              "  </tbody>\n",
              "</table>\n",
              "</div>"
            ],
            "text/plain": [
              "     Overall_Rating  ...  Most_watched_Original Web Series, Sports and News\n",
              "230               2  ...                                                  0\n",
              "231               1  ...                                                  0\n",
              "232               2  ...                                                  0\n",
              "233               1  ...                                                  0\n",
              "234               2  ...                                                  0\n",
              "235               3  ...                                                  0\n",
              "236               3  ...                                                  0\n",
              "237               1  ...                                                  0\n",
              "238               1  ...                                                  0\n",
              "239               1  ...                                                  0\n",
              "240               1  ...                                                  0\n",
              "241               1  ...                                                  0\n",
              "242               3  ...                                                  0\n",
              "243               3  ...                                                  0\n",
              "244               1  ...                                                  0\n",
              "245               2  ...                                                  0\n",
              "246               1  ...                                                  0\n",
              "247               2  ...                                                  0\n",
              "248               1  ...                                                  0\n",
              "249               1  ...                                                  0\n",
              "\n",
              "[20 rows x 23 columns]"
            ]
          },
          "metadata": {
            "tags": []
          },
          "execution_count": 2823
        }
      ]
    },
    {
      "cell_type": "code",
      "metadata": {
        "id": "Uf-yHr2nGd4t"
      },
      "source": [
        ""
      ],
      "execution_count": 2823,
      "outputs": []
    },
    {
      "cell_type": "code",
      "metadata": {
        "id": "d8l9ZzIcGd7l"
      },
      "source": [
        ""
      ],
      "execution_count": 2823,
      "outputs": []
    },
    {
      "cell_type": "code",
      "metadata": {
        "colab": {
          "base_uri": "https://localhost:8080/",
          "height": 740
        },
        "id": "zQiGNrEjndWz",
        "outputId": "706d09ae-0ac4-467b-a59a-f7b1bb12bb9a"
      },
      "source": [
        "one_hot_data.tail(20)"
      ],
      "execution_count": 2824,
      "outputs": [
        {
          "output_type": "execute_result",
          "data": {
            "text/html": [
              "<div>\n",
              "<style scoped>\n",
              "    .dataframe tbody tr th:only-of-type {\n",
              "        vertical-align: middle;\n",
              "    }\n",
              "\n",
              "    .dataframe tbody tr th {\n",
              "        vertical-align: top;\n",
              "    }\n",
              "\n",
              "    .dataframe thead th {\n",
              "        text-align: right;\n",
              "    }\n",
              "</style>\n",
              "<table border=\"1\" class=\"dataframe\">\n",
              "  <thead>\n",
              "    <tr style=\"text-align: right;\">\n",
              "      <th></th>\n",
              "      <th>Overall_Rating</th>\n",
              "      <th>Duration</th>\n",
              "      <th>Frequency</th>\n",
              "      <th>Platforms_Hotstar</th>\n",
              "      <th>Platforms_Netflix</th>\n",
              "      <th>Platforms_Prime</th>\n",
              "      <th>Age_18-30</th>\n",
              "      <th>Age_31-50</th>\n",
              "      <th>Age_More than 50</th>\n",
              "      <th>Most_watched_All of the above</th>\n",
              "      <th>Most_watched_Documentaries</th>\n",
              "      <th>Most_watched_Documentaries, Sports and News</th>\n",
              "      <th>Most_watched_Movies</th>\n",
              "      <th>Most_watched_Movies, Documentaries</th>\n",
              "      <th>Most_watched_Movies, Documentaries, Sports and News</th>\n",
              "      <th>Most_watched_Movies, Sports and News</th>\n",
              "      <th>Most_watched_Original Web Series</th>\n",
              "      <th>Most_watched_Original Web Series, Documentaries</th>\n",
              "      <th>Most_watched_Original Web Series, Documentaries, Sports and News</th>\n",
              "      <th>Most_watched_Original Web Series, Movies</th>\n",
              "      <th>Most_watched_Original Web Series, Movies, Documentaries</th>\n",
              "      <th>Most_watched_Original Web Series, Movies, Sports and News</th>\n",
              "      <th>Most_watched_Original Web Series, Sports and News</th>\n",
              "    </tr>\n",
              "  </thead>\n",
              "  <tbody>\n",
              "    <tr>\n",
              "      <th>230</th>\n",
              "      <td>2</td>\n",
              "      <td>1</td>\n",
              "      <td>2</td>\n",
              "      <td>0</td>\n",
              "      <td>0</td>\n",
              "      <td>0</td>\n",
              "      <td>1</td>\n",
              "      <td>0</td>\n",
              "      <td>0</td>\n",
              "      <td>1</td>\n",
              "      <td>0</td>\n",
              "      <td>0</td>\n",
              "      <td>0</td>\n",
              "      <td>0</td>\n",
              "      <td>0</td>\n",
              "      <td>0</td>\n",
              "      <td>0</td>\n",
              "      <td>0</td>\n",
              "      <td>0</td>\n",
              "      <td>0</td>\n",
              "      <td>0</td>\n",
              "      <td>0</td>\n",
              "      <td>0</td>\n",
              "    </tr>\n",
              "    <tr>\n",
              "      <th>231</th>\n",
              "      <td>1</td>\n",
              "      <td>1</td>\n",
              "      <td>2</td>\n",
              "      <td>0</td>\n",
              "      <td>0</td>\n",
              "      <td>0</td>\n",
              "      <td>1</td>\n",
              "      <td>0</td>\n",
              "      <td>0</td>\n",
              "      <td>1</td>\n",
              "      <td>0</td>\n",
              "      <td>0</td>\n",
              "      <td>0</td>\n",
              "      <td>0</td>\n",
              "      <td>0</td>\n",
              "      <td>0</td>\n",
              "      <td>0</td>\n",
              "      <td>0</td>\n",
              "      <td>0</td>\n",
              "      <td>0</td>\n",
              "      <td>0</td>\n",
              "      <td>0</td>\n",
              "      <td>0</td>\n",
              "    </tr>\n",
              "    <tr>\n",
              "      <th>232</th>\n",
              "      <td>2</td>\n",
              "      <td>1</td>\n",
              "      <td>1</td>\n",
              "      <td>0</td>\n",
              "      <td>1</td>\n",
              "      <td>0</td>\n",
              "      <td>1</td>\n",
              "      <td>0</td>\n",
              "      <td>0</td>\n",
              "      <td>0</td>\n",
              "      <td>0</td>\n",
              "      <td>0</td>\n",
              "      <td>0</td>\n",
              "      <td>0</td>\n",
              "      <td>0</td>\n",
              "      <td>0</td>\n",
              "      <td>0</td>\n",
              "      <td>0</td>\n",
              "      <td>0</td>\n",
              "      <td>1</td>\n",
              "      <td>0</td>\n",
              "      <td>0</td>\n",
              "      <td>0</td>\n",
              "    </tr>\n",
              "    <tr>\n",
              "      <th>233</th>\n",
              "      <td>1</td>\n",
              "      <td>1</td>\n",
              "      <td>3</td>\n",
              "      <td>0</td>\n",
              "      <td>0</td>\n",
              "      <td>1</td>\n",
              "      <td>1</td>\n",
              "      <td>0</td>\n",
              "      <td>0</td>\n",
              "      <td>0</td>\n",
              "      <td>0</td>\n",
              "      <td>0</td>\n",
              "      <td>1</td>\n",
              "      <td>0</td>\n",
              "      <td>0</td>\n",
              "      <td>0</td>\n",
              "      <td>0</td>\n",
              "      <td>0</td>\n",
              "      <td>0</td>\n",
              "      <td>0</td>\n",
              "      <td>0</td>\n",
              "      <td>0</td>\n",
              "      <td>0</td>\n",
              "    </tr>\n",
              "    <tr>\n",
              "      <th>234</th>\n",
              "      <td>2</td>\n",
              "      <td>2</td>\n",
              "      <td>1</td>\n",
              "      <td>1</td>\n",
              "      <td>0</td>\n",
              "      <td>0</td>\n",
              "      <td>0</td>\n",
              "      <td>0</td>\n",
              "      <td>0</td>\n",
              "      <td>0</td>\n",
              "      <td>0</td>\n",
              "      <td>0</td>\n",
              "      <td>1</td>\n",
              "      <td>0</td>\n",
              "      <td>0</td>\n",
              "      <td>0</td>\n",
              "      <td>0</td>\n",
              "      <td>0</td>\n",
              "      <td>0</td>\n",
              "      <td>0</td>\n",
              "      <td>0</td>\n",
              "      <td>0</td>\n",
              "      <td>0</td>\n",
              "    </tr>\n",
              "    <tr>\n",
              "      <th>235</th>\n",
              "      <td>3</td>\n",
              "      <td>2</td>\n",
              "      <td>3</td>\n",
              "      <td>0</td>\n",
              "      <td>0</td>\n",
              "      <td>1</td>\n",
              "      <td>0</td>\n",
              "      <td>1</td>\n",
              "      <td>0</td>\n",
              "      <td>1</td>\n",
              "      <td>0</td>\n",
              "      <td>0</td>\n",
              "      <td>0</td>\n",
              "      <td>0</td>\n",
              "      <td>0</td>\n",
              "      <td>0</td>\n",
              "      <td>0</td>\n",
              "      <td>0</td>\n",
              "      <td>0</td>\n",
              "      <td>0</td>\n",
              "      <td>0</td>\n",
              "      <td>0</td>\n",
              "      <td>0</td>\n",
              "    </tr>\n",
              "    <tr>\n",
              "      <th>236</th>\n",
              "      <td>3</td>\n",
              "      <td>2</td>\n",
              "      <td>3</td>\n",
              "      <td>0</td>\n",
              "      <td>0</td>\n",
              "      <td>0</td>\n",
              "      <td>0</td>\n",
              "      <td>1</td>\n",
              "      <td>0</td>\n",
              "      <td>0</td>\n",
              "      <td>0</td>\n",
              "      <td>0</td>\n",
              "      <td>0</td>\n",
              "      <td>0</td>\n",
              "      <td>0</td>\n",
              "      <td>1</td>\n",
              "      <td>0</td>\n",
              "      <td>0</td>\n",
              "      <td>0</td>\n",
              "      <td>0</td>\n",
              "      <td>0</td>\n",
              "      <td>0</td>\n",
              "      <td>0</td>\n",
              "    </tr>\n",
              "    <tr>\n",
              "      <th>237</th>\n",
              "      <td>1</td>\n",
              "      <td>1</td>\n",
              "      <td>1</td>\n",
              "      <td>0</td>\n",
              "      <td>1</td>\n",
              "      <td>0</td>\n",
              "      <td>1</td>\n",
              "      <td>0</td>\n",
              "      <td>0</td>\n",
              "      <td>0</td>\n",
              "      <td>0</td>\n",
              "      <td>0</td>\n",
              "      <td>0</td>\n",
              "      <td>0</td>\n",
              "      <td>0</td>\n",
              "      <td>0</td>\n",
              "      <td>1</td>\n",
              "      <td>0</td>\n",
              "      <td>0</td>\n",
              "      <td>0</td>\n",
              "      <td>0</td>\n",
              "      <td>0</td>\n",
              "      <td>0</td>\n",
              "    </tr>\n",
              "    <tr>\n",
              "      <th>238</th>\n",
              "      <td>1</td>\n",
              "      <td>3</td>\n",
              "      <td>3</td>\n",
              "      <td>1</td>\n",
              "      <td>0</td>\n",
              "      <td>0</td>\n",
              "      <td>0</td>\n",
              "      <td>1</td>\n",
              "      <td>0</td>\n",
              "      <td>0</td>\n",
              "      <td>0</td>\n",
              "      <td>0</td>\n",
              "      <td>0</td>\n",
              "      <td>0</td>\n",
              "      <td>1</td>\n",
              "      <td>0</td>\n",
              "      <td>0</td>\n",
              "      <td>0</td>\n",
              "      <td>0</td>\n",
              "      <td>0</td>\n",
              "      <td>0</td>\n",
              "      <td>0</td>\n",
              "      <td>0</td>\n",
              "    </tr>\n",
              "    <tr>\n",
              "      <th>239</th>\n",
              "      <td>1</td>\n",
              "      <td>3</td>\n",
              "      <td>1</td>\n",
              "      <td>0</td>\n",
              "      <td>1</td>\n",
              "      <td>0</td>\n",
              "      <td>1</td>\n",
              "      <td>0</td>\n",
              "      <td>0</td>\n",
              "      <td>0</td>\n",
              "      <td>0</td>\n",
              "      <td>0</td>\n",
              "      <td>0</td>\n",
              "      <td>0</td>\n",
              "      <td>0</td>\n",
              "      <td>0</td>\n",
              "      <td>0</td>\n",
              "      <td>0</td>\n",
              "      <td>0</td>\n",
              "      <td>1</td>\n",
              "      <td>0</td>\n",
              "      <td>0</td>\n",
              "      <td>0</td>\n",
              "    </tr>\n",
              "    <tr>\n",
              "      <th>240</th>\n",
              "      <td>1</td>\n",
              "      <td>2</td>\n",
              "      <td>1</td>\n",
              "      <td>0</td>\n",
              "      <td>0</td>\n",
              "      <td>0</td>\n",
              "      <td>0</td>\n",
              "      <td>1</td>\n",
              "      <td>0</td>\n",
              "      <td>1</td>\n",
              "      <td>0</td>\n",
              "      <td>0</td>\n",
              "      <td>0</td>\n",
              "      <td>0</td>\n",
              "      <td>0</td>\n",
              "      <td>0</td>\n",
              "      <td>0</td>\n",
              "      <td>0</td>\n",
              "      <td>0</td>\n",
              "      <td>0</td>\n",
              "      <td>0</td>\n",
              "      <td>0</td>\n",
              "      <td>0</td>\n",
              "    </tr>\n",
              "    <tr>\n",
              "      <th>241</th>\n",
              "      <td>1</td>\n",
              "      <td>3</td>\n",
              "      <td>1</td>\n",
              "      <td>0</td>\n",
              "      <td>0</td>\n",
              "      <td>1</td>\n",
              "      <td>1</td>\n",
              "      <td>0</td>\n",
              "      <td>0</td>\n",
              "      <td>0</td>\n",
              "      <td>0</td>\n",
              "      <td>0</td>\n",
              "      <td>1</td>\n",
              "      <td>0</td>\n",
              "      <td>0</td>\n",
              "      <td>0</td>\n",
              "      <td>0</td>\n",
              "      <td>0</td>\n",
              "      <td>0</td>\n",
              "      <td>0</td>\n",
              "      <td>0</td>\n",
              "      <td>0</td>\n",
              "      <td>0</td>\n",
              "    </tr>\n",
              "    <tr>\n",
              "      <th>242</th>\n",
              "      <td>3</td>\n",
              "      <td>3</td>\n",
              "      <td>3</td>\n",
              "      <td>0</td>\n",
              "      <td>0</td>\n",
              "      <td>1</td>\n",
              "      <td>0</td>\n",
              "      <td>0</td>\n",
              "      <td>1</td>\n",
              "      <td>0</td>\n",
              "      <td>0</td>\n",
              "      <td>0</td>\n",
              "      <td>1</td>\n",
              "      <td>0</td>\n",
              "      <td>0</td>\n",
              "      <td>0</td>\n",
              "      <td>0</td>\n",
              "      <td>0</td>\n",
              "      <td>0</td>\n",
              "      <td>0</td>\n",
              "      <td>0</td>\n",
              "      <td>0</td>\n",
              "      <td>0</td>\n",
              "    </tr>\n",
              "    <tr>\n",
              "      <th>243</th>\n",
              "      <td>3</td>\n",
              "      <td>2</td>\n",
              "      <td>1</td>\n",
              "      <td>0</td>\n",
              "      <td>1</td>\n",
              "      <td>0</td>\n",
              "      <td>1</td>\n",
              "      <td>0</td>\n",
              "      <td>0</td>\n",
              "      <td>0</td>\n",
              "      <td>0</td>\n",
              "      <td>0</td>\n",
              "      <td>0</td>\n",
              "      <td>0</td>\n",
              "      <td>0</td>\n",
              "      <td>0</td>\n",
              "      <td>1</td>\n",
              "      <td>0</td>\n",
              "      <td>0</td>\n",
              "      <td>0</td>\n",
              "      <td>0</td>\n",
              "      <td>0</td>\n",
              "      <td>0</td>\n",
              "    </tr>\n",
              "    <tr>\n",
              "      <th>244</th>\n",
              "      <td>1</td>\n",
              "      <td>3</td>\n",
              "      <td>2</td>\n",
              "      <td>1</td>\n",
              "      <td>0</td>\n",
              "      <td>0</td>\n",
              "      <td>0</td>\n",
              "      <td>1</td>\n",
              "      <td>0</td>\n",
              "      <td>0</td>\n",
              "      <td>0</td>\n",
              "      <td>0</td>\n",
              "      <td>0</td>\n",
              "      <td>0</td>\n",
              "      <td>0</td>\n",
              "      <td>1</td>\n",
              "      <td>0</td>\n",
              "      <td>0</td>\n",
              "      <td>0</td>\n",
              "      <td>0</td>\n",
              "      <td>0</td>\n",
              "      <td>0</td>\n",
              "      <td>0</td>\n",
              "    </tr>\n",
              "    <tr>\n",
              "      <th>245</th>\n",
              "      <td>2</td>\n",
              "      <td>1</td>\n",
              "      <td>2</td>\n",
              "      <td>0</td>\n",
              "      <td>1</td>\n",
              "      <td>0</td>\n",
              "      <td>0</td>\n",
              "      <td>0</td>\n",
              "      <td>0</td>\n",
              "      <td>0</td>\n",
              "      <td>0</td>\n",
              "      <td>0</td>\n",
              "      <td>0</td>\n",
              "      <td>0</td>\n",
              "      <td>0</td>\n",
              "      <td>0</td>\n",
              "      <td>0</td>\n",
              "      <td>0</td>\n",
              "      <td>0</td>\n",
              "      <td>1</td>\n",
              "      <td>0</td>\n",
              "      <td>0</td>\n",
              "      <td>0</td>\n",
              "    </tr>\n",
              "    <tr>\n",
              "      <th>246</th>\n",
              "      <td>1</td>\n",
              "      <td>2</td>\n",
              "      <td>2</td>\n",
              "      <td>0</td>\n",
              "      <td>1</td>\n",
              "      <td>0</td>\n",
              "      <td>0</td>\n",
              "      <td>1</td>\n",
              "      <td>0</td>\n",
              "      <td>0</td>\n",
              "      <td>0</td>\n",
              "      <td>0</td>\n",
              "      <td>1</td>\n",
              "      <td>0</td>\n",
              "      <td>0</td>\n",
              "      <td>0</td>\n",
              "      <td>0</td>\n",
              "      <td>0</td>\n",
              "      <td>0</td>\n",
              "      <td>0</td>\n",
              "      <td>0</td>\n",
              "      <td>0</td>\n",
              "      <td>0</td>\n",
              "    </tr>\n",
              "    <tr>\n",
              "      <th>247</th>\n",
              "      <td>2</td>\n",
              "      <td>3</td>\n",
              "      <td>3</td>\n",
              "      <td>0</td>\n",
              "      <td>0</td>\n",
              "      <td>1</td>\n",
              "      <td>1</td>\n",
              "      <td>0</td>\n",
              "      <td>0</td>\n",
              "      <td>0</td>\n",
              "      <td>0</td>\n",
              "      <td>0</td>\n",
              "      <td>0</td>\n",
              "      <td>0</td>\n",
              "      <td>0</td>\n",
              "      <td>1</td>\n",
              "      <td>0</td>\n",
              "      <td>0</td>\n",
              "      <td>0</td>\n",
              "      <td>0</td>\n",
              "      <td>0</td>\n",
              "      <td>0</td>\n",
              "      <td>0</td>\n",
              "    </tr>\n",
              "    <tr>\n",
              "      <th>248</th>\n",
              "      <td>1</td>\n",
              "      <td>3</td>\n",
              "      <td>3</td>\n",
              "      <td>0</td>\n",
              "      <td>0</td>\n",
              "      <td>1</td>\n",
              "      <td>1</td>\n",
              "      <td>0</td>\n",
              "      <td>0</td>\n",
              "      <td>0</td>\n",
              "      <td>0</td>\n",
              "      <td>0</td>\n",
              "      <td>0</td>\n",
              "      <td>0</td>\n",
              "      <td>0</td>\n",
              "      <td>1</td>\n",
              "      <td>0</td>\n",
              "      <td>0</td>\n",
              "      <td>0</td>\n",
              "      <td>0</td>\n",
              "      <td>0</td>\n",
              "      <td>0</td>\n",
              "      <td>0</td>\n",
              "    </tr>\n",
              "    <tr>\n",
              "      <th>249</th>\n",
              "      <td>1</td>\n",
              "      <td>2</td>\n",
              "      <td>2</td>\n",
              "      <td>0</td>\n",
              "      <td>0</td>\n",
              "      <td>0</td>\n",
              "      <td>0</td>\n",
              "      <td>1</td>\n",
              "      <td>0</td>\n",
              "      <td>1</td>\n",
              "      <td>0</td>\n",
              "      <td>0</td>\n",
              "      <td>0</td>\n",
              "      <td>0</td>\n",
              "      <td>0</td>\n",
              "      <td>0</td>\n",
              "      <td>0</td>\n",
              "      <td>0</td>\n",
              "      <td>0</td>\n",
              "      <td>0</td>\n",
              "      <td>0</td>\n",
              "      <td>0</td>\n",
              "      <td>0</td>\n",
              "    </tr>\n",
              "  </tbody>\n",
              "</table>\n",
              "</div>"
            ],
            "text/plain": [
              "     Overall_Rating  ...  Most_watched_Original Web Series, Sports and News\n",
              "230               2  ...                                                  0\n",
              "231               1  ...                                                  0\n",
              "232               2  ...                                                  0\n",
              "233               1  ...                                                  0\n",
              "234               2  ...                                                  0\n",
              "235               3  ...                                                  0\n",
              "236               3  ...                                                  0\n",
              "237               1  ...                                                  0\n",
              "238               1  ...                                                  0\n",
              "239               1  ...                                                  0\n",
              "240               1  ...                                                  0\n",
              "241               1  ...                                                  0\n",
              "242               3  ...                                                  0\n",
              "243               3  ...                                                  0\n",
              "244               1  ...                                                  0\n",
              "245               2  ...                                                  0\n",
              "246               1  ...                                                  0\n",
              "247               2  ...                                                  0\n",
              "248               1  ...                                                  0\n",
              "249               1  ...                                                  0\n",
              "\n",
              "[20 rows x 23 columns]"
            ]
          },
          "metadata": {
            "tags": []
          },
          "execution_count": 2824
        }
      ]
    },
    {
      "cell_type": "code",
      "metadata": {
        "colab": {
          "base_uri": "https://localhost:8080/"
        },
        "id": "km9QTltUYp3H",
        "outputId": "5231649a-5e25-4ccc-ecbf-8de42b8657d7"
      },
      "source": [
        "one_hot_data[\"Platforms_Netflix\"].value_counts()"
      ],
      "execution_count": 2825,
      "outputs": [
        {
          "output_type": "execute_result",
          "data": {
            "text/plain": [
              "0    196\n",
              "1     54\n",
              "Name: Platforms_Netflix, dtype: int64"
            ]
          },
          "metadata": {
            "tags": []
          },
          "execution_count": 2825
        }
      ]
    },
    {
      "cell_type": "code",
      "metadata": {
        "id": "1zQM13WA7Zwq"
      },
      "source": [
        ""
      ],
      "execution_count": 2825,
      "outputs": []
    },
    {
      "cell_type": "markdown",
      "metadata": {
        "id": "peangVIn7eBK"
      },
      "source": [
        ""
      ]
    },
    {
      "cell_type": "markdown",
      "metadata": {
        "id": "v35R2gDBr-WE"
      },
      "source": [
        "#Decision Tree"
      ]
    },
    {
      "cell_type": "markdown",
      "metadata": {
        "id": "PflInjTn7cQO"
      },
      "source": [
        "#Netflix"
      ]
    },
    {
      "cell_type": "code",
      "metadata": {
        "id": "G9l387pWfgDI"
      },
      "source": [
        "one_hot_data[\"Movie\"] = one_hot_data[\"Most_watched_Original Web Series\"].map(str) + one_hot_data[\"Most_watched_Original Web Series, Movies\"].map(str)\n",
        "one_hot_data.loc[(one_hot_data.Movie == '01'),'Movie']='1'\n",
        "one_hot_data.loc[(one_hot_data.Movie == '10'),'Movie']='1'\n",
        "one_hot_data.loc[(one_hot_data.Movie == '00'),'Movie']='0'"
      ],
      "execution_count": 2826,
      "outputs": []
    },
    {
      "cell_type": "code",
      "metadata": {
        "id": "WHI6kGSpG240"
      },
      "source": [
        "one_hot_data[\"M\"] = one_hot_data['Most_watched_Original Web Series, Sports and News'].map(str) + one_hot_data['Most_watched_Original Web Series, Movies, Documentaries'].map(str)\n",
        "one_hot_data.loc[(one_hot_data.M == '01'),'M']='1'\n",
        "one_hot_data.loc[(one_hot_data.M == '10'),'M']='1'\n",
        "one_hot_data.loc[(one_hot_data.M == '00'),'M']='0'"
      ],
      "execution_count": 2827,
      "outputs": []
    },
    {
      "cell_type": "code",
      "metadata": {
        "id": "ZbtWR04fJm7U"
      },
      "source": [
        "one_hot_data[\"M1\"] = one_hot_data['Most_watched_Original Web Series, Documentaries, Sports and News'].map(str) + one_hot_data['Most_watched_Movies, Documentaries, Sports and News'].map(str)\n",
        "one_hot_data.loc[(one_hot_data.M1 == '01'),'M1']='1'\n",
        "one_hot_data.loc[(one_hot_data.M1== '10'),'M1']='1'\n",
        "one_hot_data.loc[(one_hot_data.M1 == '00'),'M1']='0'"
      ],
      "execution_count": 2828,
      "outputs": []
    },
    {
      "cell_type": "code",
      "metadata": {
        "colab": {
          "base_uri": "https://localhost:8080/",
          "height": 490
        },
        "id": "tVkOOW9LeidL",
        "outputId": "29d3df35-587a-4884-8494-6971425ec476"
      },
      "source": [
        "one_hot_data"
      ],
      "execution_count": 2829,
      "outputs": [
        {
          "output_type": "execute_result",
          "data": {
            "text/html": [
              "<div>\n",
              "<style scoped>\n",
              "    .dataframe tbody tr th:only-of-type {\n",
              "        vertical-align: middle;\n",
              "    }\n",
              "\n",
              "    .dataframe tbody tr th {\n",
              "        vertical-align: top;\n",
              "    }\n",
              "\n",
              "    .dataframe thead th {\n",
              "        text-align: right;\n",
              "    }\n",
              "</style>\n",
              "<table border=\"1\" class=\"dataframe\">\n",
              "  <thead>\n",
              "    <tr style=\"text-align: right;\">\n",
              "      <th></th>\n",
              "      <th>Overall_Rating</th>\n",
              "      <th>Duration</th>\n",
              "      <th>Frequency</th>\n",
              "      <th>Platforms_Hotstar</th>\n",
              "      <th>Platforms_Netflix</th>\n",
              "      <th>Platforms_Prime</th>\n",
              "      <th>Age_18-30</th>\n",
              "      <th>Age_31-50</th>\n",
              "      <th>Age_More than 50</th>\n",
              "      <th>Most_watched_All of the above</th>\n",
              "      <th>Most_watched_Documentaries</th>\n",
              "      <th>Most_watched_Documentaries, Sports and News</th>\n",
              "      <th>Most_watched_Movies</th>\n",
              "      <th>Most_watched_Movies, Documentaries</th>\n",
              "      <th>Most_watched_Movies, Documentaries, Sports and News</th>\n",
              "      <th>Most_watched_Movies, Sports and News</th>\n",
              "      <th>Most_watched_Original Web Series</th>\n",
              "      <th>Most_watched_Original Web Series, Documentaries</th>\n",
              "      <th>Most_watched_Original Web Series, Documentaries, Sports and News</th>\n",
              "      <th>Most_watched_Original Web Series, Movies</th>\n",
              "      <th>Most_watched_Original Web Series, Movies, Documentaries</th>\n",
              "      <th>Most_watched_Original Web Series, Movies, Sports and News</th>\n",
              "      <th>Most_watched_Original Web Series, Sports and News</th>\n",
              "      <th>Movie</th>\n",
              "      <th>M</th>\n",
              "      <th>M1</th>\n",
              "    </tr>\n",
              "  </thead>\n",
              "  <tbody>\n",
              "    <tr>\n",
              "      <th>0</th>\n",
              "      <td>2</td>\n",
              "      <td>1</td>\n",
              "      <td>1</td>\n",
              "      <td>0</td>\n",
              "      <td>0</td>\n",
              "      <td>1</td>\n",
              "      <td>1</td>\n",
              "      <td>0</td>\n",
              "      <td>0</td>\n",
              "      <td>1</td>\n",
              "      <td>0</td>\n",
              "      <td>0</td>\n",
              "      <td>0</td>\n",
              "      <td>0</td>\n",
              "      <td>0</td>\n",
              "      <td>0</td>\n",
              "      <td>0</td>\n",
              "      <td>0</td>\n",
              "      <td>0</td>\n",
              "      <td>0</td>\n",
              "      <td>0</td>\n",
              "      <td>0</td>\n",
              "      <td>0</td>\n",
              "      <td>0</td>\n",
              "      <td>0</td>\n",
              "      <td>0</td>\n",
              "    </tr>\n",
              "    <tr>\n",
              "      <th>1</th>\n",
              "      <td>2</td>\n",
              "      <td>2</td>\n",
              "      <td>3</td>\n",
              "      <td>0</td>\n",
              "      <td>1</td>\n",
              "      <td>0</td>\n",
              "      <td>1</td>\n",
              "      <td>0</td>\n",
              "      <td>0</td>\n",
              "      <td>0</td>\n",
              "      <td>0</td>\n",
              "      <td>0</td>\n",
              "      <td>0</td>\n",
              "      <td>0</td>\n",
              "      <td>0</td>\n",
              "      <td>0</td>\n",
              "      <td>1</td>\n",
              "      <td>0</td>\n",
              "      <td>0</td>\n",
              "      <td>0</td>\n",
              "      <td>0</td>\n",
              "      <td>0</td>\n",
              "      <td>0</td>\n",
              "      <td>1</td>\n",
              "      <td>0</td>\n",
              "      <td>0</td>\n",
              "    </tr>\n",
              "    <tr>\n",
              "      <th>2</th>\n",
              "      <td>1</td>\n",
              "      <td>2</td>\n",
              "      <td>3</td>\n",
              "      <td>1</td>\n",
              "      <td>0</td>\n",
              "      <td>0</td>\n",
              "      <td>1</td>\n",
              "      <td>0</td>\n",
              "      <td>0</td>\n",
              "      <td>0</td>\n",
              "      <td>0</td>\n",
              "      <td>0</td>\n",
              "      <td>1</td>\n",
              "      <td>0</td>\n",
              "      <td>0</td>\n",
              "      <td>0</td>\n",
              "      <td>0</td>\n",
              "      <td>0</td>\n",
              "      <td>0</td>\n",
              "      <td>0</td>\n",
              "      <td>0</td>\n",
              "      <td>0</td>\n",
              "      <td>0</td>\n",
              "      <td>0</td>\n",
              "      <td>0</td>\n",
              "      <td>0</td>\n",
              "    </tr>\n",
              "    <tr>\n",
              "      <th>3</th>\n",
              "      <td>2</td>\n",
              "      <td>2</td>\n",
              "      <td>2</td>\n",
              "      <td>1</td>\n",
              "      <td>0</td>\n",
              "      <td>0</td>\n",
              "      <td>0</td>\n",
              "      <td>1</td>\n",
              "      <td>0</td>\n",
              "      <td>0</td>\n",
              "      <td>0</td>\n",
              "      <td>0</td>\n",
              "      <td>0</td>\n",
              "      <td>0</td>\n",
              "      <td>1</td>\n",
              "      <td>0</td>\n",
              "      <td>0</td>\n",
              "      <td>0</td>\n",
              "      <td>0</td>\n",
              "      <td>0</td>\n",
              "      <td>0</td>\n",
              "      <td>0</td>\n",
              "      <td>0</td>\n",
              "      <td>0</td>\n",
              "      <td>0</td>\n",
              "      <td>1</td>\n",
              "    </tr>\n",
              "    <tr>\n",
              "      <th>4</th>\n",
              "      <td>2</td>\n",
              "      <td>1</td>\n",
              "      <td>3</td>\n",
              "      <td>0</td>\n",
              "      <td>0</td>\n",
              "      <td>0</td>\n",
              "      <td>1</td>\n",
              "      <td>0</td>\n",
              "      <td>0</td>\n",
              "      <td>0</td>\n",
              "      <td>0</td>\n",
              "      <td>0</td>\n",
              "      <td>1</td>\n",
              "      <td>0</td>\n",
              "      <td>0</td>\n",
              "      <td>0</td>\n",
              "      <td>0</td>\n",
              "      <td>0</td>\n",
              "      <td>0</td>\n",
              "      <td>0</td>\n",
              "      <td>0</td>\n",
              "      <td>0</td>\n",
              "      <td>0</td>\n",
              "      <td>0</td>\n",
              "      <td>0</td>\n",
              "      <td>0</td>\n",
              "    </tr>\n",
              "    <tr>\n",
              "      <th>...</th>\n",
              "      <td>...</td>\n",
              "      <td>...</td>\n",
              "      <td>...</td>\n",
              "      <td>...</td>\n",
              "      <td>...</td>\n",
              "      <td>...</td>\n",
              "      <td>...</td>\n",
              "      <td>...</td>\n",
              "      <td>...</td>\n",
              "      <td>...</td>\n",
              "      <td>...</td>\n",
              "      <td>...</td>\n",
              "      <td>...</td>\n",
              "      <td>...</td>\n",
              "      <td>...</td>\n",
              "      <td>...</td>\n",
              "      <td>...</td>\n",
              "      <td>...</td>\n",
              "      <td>...</td>\n",
              "      <td>...</td>\n",
              "      <td>...</td>\n",
              "      <td>...</td>\n",
              "      <td>...</td>\n",
              "      <td>...</td>\n",
              "      <td>...</td>\n",
              "      <td>...</td>\n",
              "    </tr>\n",
              "    <tr>\n",
              "      <th>245</th>\n",
              "      <td>2</td>\n",
              "      <td>1</td>\n",
              "      <td>2</td>\n",
              "      <td>0</td>\n",
              "      <td>1</td>\n",
              "      <td>0</td>\n",
              "      <td>0</td>\n",
              "      <td>0</td>\n",
              "      <td>0</td>\n",
              "      <td>0</td>\n",
              "      <td>0</td>\n",
              "      <td>0</td>\n",
              "      <td>0</td>\n",
              "      <td>0</td>\n",
              "      <td>0</td>\n",
              "      <td>0</td>\n",
              "      <td>0</td>\n",
              "      <td>0</td>\n",
              "      <td>0</td>\n",
              "      <td>1</td>\n",
              "      <td>0</td>\n",
              "      <td>0</td>\n",
              "      <td>0</td>\n",
              "      <td>1</td>\n",
              "      <td>0</td>\n",
              "      <td>0</td>\n",
              "    </tr>\n",
              "    <tr>\n",
              "      <th>246</th>\n",
              "      <td>1</td>\n",
              "      <td>2</td>\n",
              "      <td>2</td>\n",
              "      <td>0</td>\n",
              "      <td>1</td>\n",
              "      <td>0</td>\n",
              "      <td>0</td>\n",
              "      <td>1</td>\n",
              "      <td>0</td>\n",
              "      <td>0</td>\n",
              "      <td>0</td>\n",
              "      <td>0</td>\n",
              "      <td>1</td>\n",
              "      <td>0</td>\n",
              "      <td>0</td>\n",
              "      <td>0</td>\n",
              "      <td>0</td>\n",
              "      <td>0</td>\n",
              "      <td>0</td>\n",
              "      <td>0</td>\n",
              "      <td>0</td>\n",
              "      <td>0</td>\n",
              "      <td>0</td>\n",
              "      <td>0</td>\n",
              "      <td>0</td>\n",
              "      <td>0</td>\n",
              "    </tr>\n",
              "    <tr>\n",
              "      <th>247</th>\n",
              "      <td>2</td>\n",
              "      <td>3</td>\n",
              "      <td>3</td>\n",
              "      <td>0</td>\n",
              "      <td>0</td>\n",
              "      <td>1</td>\n",
              "      <td>1</td>\n",
              "      <td>0</td>\n",
              "      <td>0</td>\n",
              "      <td>0</td>\n",
              "      <td>0</td>\n",
              "      <td>0</td>\n",
              "      <td>0</td>\n",
              "      <td>0</td>\n",
              "      <td>0</td>\n",
              "      <td>1</td>\n",
              "      <td>0</td>\n",
              "      <td>0</td>\n",
              "      <td>0</td>\n",
              "      <td>0</td>\n",
              "      <td>0</td>\n",
              "      <td>0</td>\n",
              "      <td>0</td>\n",
              "      <td>0</td>\n",
              "      <td>0</td>\n",
              "      <td>0</td>\n",
              "    </tr>\n",
              "    <tr>\n",
              "      <th>248</th>\n",
              "      <td>1</td>\n",
              "      <td>3</td>\n",
              "      <td>3</td>\n",
              "      <td>0</td>\n",
              "      <td>0</td>\n",
              "      <td>1</td>\n",
              "      <td>1</td>\n",
              "      <td>0</td>\n",
              "      <td>0</td>\n",
              "      <td>0</td>\n",
              "      <td>0</td>\n",
              "      <td>0</td>\n",
              "      <td>0</td>\n",
              "      <td>0</td>\n",
              "      <td>0</td>\n",
              "      <td>1</td>\n",
              "      <td>0</td>\n",
              "      <td>0</td>\n",
              "      <td>0</td>\n",
              "      <td>0</td>\n",
              "      <td>0</td>\n",
              "      <td>0</td>\n",
              "      <td>0</td>\n",
              "      <td>0</td>\n",
              "      <td>0</td>\n",
              "      <td>0</td>\n",
              "    </tr>\n",
              "    <tr>\n",
              "      <th>249</th>\n",
              "      <td>1</td>\n",
              "      <td>2</td>\n",
              "      <td>2</td>\n",
              "      <td>0</td>\n",
              "      <td>0</td>\n",
              "      <td>0</td>\n",
              "      <td>0</td>\n",
              "      <td>1</td>\n",
              "      <td>0</td>\n",
              "      <td>1</td>\n",
              "      <td>0</td>\n",
              "      <td>0</td>\n",
              "      <td>0</td>\n",
              "      <td>0</td>\n",
              "      <td>0</td>\n",
              "      <td>0</td>\n",
              "      <td>0</td>\n",
              "      <td>0</td>\n",
              "      <td>0</td>\n",
              "      <td>0</td>\n",
              "      <td>0</td>\n",
              "      <td>0</td>\n",
              "      <td>0</td>\n",
              "      <td>0</td>\n",
              "      <td>0</td>\n",
              "      <td>0</td>\n",
              "    </tr>\n",
              "  </tbody>\n",
              "</table>\n",
              "<p>250 rows × 26 columns</p>\n",
              "</div>"
            ],
            "text/plain": [
              "     Overall_Rating  Duration  Frequency  ...  Movie  M  M1\n",
              "0                 2         1          1  ...      0  0   0\n",
              "1                 2         2          3  ...      1  0   0\n",
              "2                 1         2          3  ...      0  0   0\n",
              "3                 2         2          2  ...      0  0   1\n",
              "4                 2         1          3  ...      0  0   0\n",
              "..              ...       ...        ...  ...    ... ..  ..\n",
              "245               2         1          2  ...      1  0   0\n",
              "246               1         2          2  ...      0  0   0\n",
              "247               2         3          3  ...      0  0   0\n",
              "248               1         3          3  ...      0  0   0\n",
              "249               1         2          2  ...      0  0   0\n",
              "\n",
              "[250 rows x 26 columns]"
            ]
          },
          "metadata": {
            "tags": []
          },
          "execution_count": 2829
        }
      ]
    },
    {
      "cell_type": "code",
      "metadata": {
        "id": "N0IW6ZOyJL3H"
      },
      "source": [
        "one_hot_data[\"Movies_Doc_Sports\"] = one_hot_data['M'].map(str) + one_hot_data['M1'].map(str)\n",
        "one_hot_data.loc[(one_hot_data.Movies_Doc_Sports == '01'),'Movies_Doc_Sports']='1'\n",
        "one_hot_data.loc[(one_hot_data.Movies_Doc_Sports == '10'),'Movies_Doc_Sports']='1'\n",
        "one_hot_data.loc[(one_hot_data.Movies_Doc_Sports == '00'),'Movies_Doc_Sports']='0'"
      ],
      "execution_count": 2830,
      "outputs": []
    },
    {
      "cell_type": "code",
      "metadata": {
        "id": "wx3_ZLx3YvTy"
      },
      "source": [
        "one_hot_data[\"Movies_Doc_Sports_Og\"] = one_hot_data['Movies_Doc_Sports'].map(str) + one_hot_data['Most_watched_Movies'].map(str)\n",
        "one_hot_data.loc[(one_hot_data.Movies_Doc_Sports_Og == '01'),'Movies_Doc_Sports_Og']='1'\n",
        "one_hot_data.loc[(one_hot_data.Movies_Doc_Sports_Og == '10'),'Movies_Doc_Sports_Og']='1'\n",
        "one_hot_data.loc[(one_hot_data.Movies_Doc_Sports_Og == '00'),'Movies_Doc_Sports_Og']='0'"
      ],
      "execution_count": 2831,
      "outputs": []
    },
    {
      "cell_type": "code",
      "metadata": {
        "id": "V7nUMRb4G3An"
      },
      "source": [
        "one_hot_data[\"M2\"] = one_hot_data['Movies_Doc_Sports_Og'].map(str) + one_hot_data['Movie'].map(str)\n",
        "one_hot_data.loc[(one_hot_data.M2 == '01'),'M2']='1'\n",
        "one_hot_data.loc[(one_hot_data.M2== '10'),'M2']='1'\n",
        "one_hot_data.loc[(one_hot_data.M2 == '00'),'M2']='0'"
      ],
      "execution_count": 2832,
      "outputs": []
    },
    {
      "cell_type": "code",
      "metadata": {
        "colab": {
          "base_uri": "https://localhost:8080/",
          "height": 490
        },
        "id": "z0XWWIZ2KmfA",
        "outputId": "f632cf2d-77cb-4fbf-e8dc-840922a7af5e"
      },
      "source": [
        "one_hot_data"
      ],
      "execution_count": 2833,
      "outputs": [
        {
          "output_type": "execute_result",
          "data": {
            "text/html": [
              "<div>\n",
              "<style scoped>\n",
              "    .dataframe tbody tr th:only-of-type {\n",
              "        vertical-align: middle;\n",
              "    }\n",
              "\n",
              "    .dataframe tbody tr th {\n",
              "        vertical-align: top;\n",
              "    }\n",
              "\n",
              "    .dataframe thead th {\n",
              "        text-align: right;\n",
              "    }\n",
              "</style>\n",
              "<table border=\"1\" class=\"dataframe\">\n",
              "  <thead>\n",
              "    <tr style=\"text-align: right;\">\n",
              "      <th></th>\n",
              "      <th>Overall_Rating</th>\n",
              "      <th>Duration</th>\n",
              "      <th>Frequency</th>\n",
              "      <th>Platforms_Hotstar</th>\n",
              "      <th>Platforms_Netflix</th>\n",
              "      <th>Platforms_Prime</th>\n",
              "      <th>Age_18-30</th>\n",
              "      <th>Age_31-50</th>\n",
              "      <th>Age_More than 50</th>\n",
              "      <th>Most_watched_All of the above</th>\n",
              "      <th>Most_watched_Documentaries</th>\n",
              "      <th>Most_watched_Documentaries, Sports and News</th>\n",
              "      <th>Most_watched_Movies</th>\n",
              "      <th>Most_watched_Movies, Documentaries</th>\n",
              "      <th>Most_watched_Movies, Documentaries, Sports and News</th>\n",
              "      <th>Most_watched_Movies, Sports and News</th>\n",
              "      <th>Most_watched_Original Web Series</th>\n",
              "      <th>Most_watched_Original Web Series, Documentaries</th>\n",
              "      <th>Most_watched_Original Web Series, Documentaries, Sports and News</th>\n",
              "      <th>Most_watched_Original Web Series, Movies</th>\n",
              "      <th>Most_watched_Original Web Series, Movies, Documentaries</th>\n",
              "      <th>Most_watched_Original Web Series, Movies, Sports and News</th>\n",
              "      <th>Most_watched_Original Web Series, Sports and News</th>\n",
              "      <th>Movie</th>\n",
              "      <th>M</th>\n",
              "      <th>M1</th>\n",
              "      <th>Movies_Doc_Sports</th>\n",
              "      <th>Movies_Doc_Sports_Og</th>\n",
              "      <th>M2</th>\n",
              "    </tr>\n",
              "  </thead>\n",
              "  <tbody>\n",
              "    <tr>\n",
              "      <th>0</th>\n",
              "      <td>2</td>\n",
              "      <td>1</td>\n",
              "      <td>1</td>\n",
              "      <td>0</td>\n",
              "      <td>0</td>\n",
              "      <td>1</td>\n",
              "      <td>1</td>\n",
              "      <td>0</td>\n",
              "      <td>0</td>\n",
              "      <td>1</td>\n",
              "      <td>0</td>\n",
              "      <td>0</td>\n",
              "      <td>0</td>\n",
              "      <td>0</td>\n",
              "      <td>0</td>\n",
              "      <td>0</td>\n",
              "      <td>0</td>\n",
              "      <td>0</td>\n",
              "      <td>0</td>\n",
              "      <td>0</td>\n",
              "      <td>0</td>\n",
              "      <td>0</td>\n",
              "      <td>0</td>\n",
              "      <td>0</td>\n",
              "      <td>0</td>\n",
              "      <td>0</td>\n",
              "      <td>0</td>\n",
              "      <td>0</td>\n",
              "      <td>0</td>\n",
              "    </tr>\n",
              "    <tr>\n",
              "      <th>1</th>\n",
              "      <td>2</td>\n",
              "      <td>2</td>\n",
              "      <td>3</td>\n",
              "      <td>0</td>\n",
              "      <td>1</td>\n",
              "      <td>0</td>\n",
              "      <td>1</td>\n",
              "      <td>0</td>\n",
              "      <td>0</td>\n",
              "      <td>0</td>\n",
              "      <td>0</td>\n",
              "      <td>0</td>\n",
              "      <td>0</td>\n",
              "      <td>0</td>\n",
              "      <td>0</td>\n",
              "      <td>0</td>\n",
              "      <td>1</td>\n",
              "      <td>0</td>\n",
              "      <td>0</td>\n",
              "      <td>0</td>\n",
              "      <td>0</td>\n",
              "      <td>0</td>\n",
              "      <td>0</td>\n",
              "      <td>1</td>\n",
              "      <td>0</td>\n",
              "      <td>0</td>\n",
              "      <td>0</td>\n",
              "      <td>0</td>\n",
              "      <td>1</td>\n",
              "    </tr>\n",
              "    <tr>\n",
              "      <th>2</th>\n",
              "      <td>1</td>\n",
              "      <td>2</td>\n",
              "      <td>3</td>\n",
              "      <td>1</td>\n",
              "      <td>0</td>\n",
              "      <td>0</td>\n",
              "      <td>1</td>\n",
              "      <td>0</td>\n",
              "      <td>0</td>\n",
              "      <td>0</td>\n",
              "      <td>0</td>\n",
              "      <td>0</td>\n",
              "      <td>1</td>\n",
              "      <td>0</td>\n",
              "      <td>0</td>\n",
              "      <td>0</td>\n",
              "      <td>0</td>\n",
              "      <td>0</td>\n",
              "      <td>0</td>\n",
              "      <td>0</td>\n",
              "      <td>0</td>\n",
              "      <td>0</td>\n",
              "      <td>0</td>\n",
              "      <td>0</td>\n",
              "      <td>0</td>\n",
              "      <td>0</td>\n",
              "      <td>0</td>\n",
              "      <td>1</td>\n",
              "      <td>1</td>\n",
              "    </tr>\n",
              "    <tr>\n",
              "      <th>3</th>\n",
              "      <td>2</td>\n",
              "      <td>2</td>\n",
              "      <td>2</td>\n",
              "      <td>1</td>\n",
              "      <td>0</td>\n",
              "      <td>0</td>\n",
              "      <td>0</td>\n",
              "      <td>1</td>\n",
              "      <td>0</td>\n",
              "      <td>0</td>\n",
              "      <td>0</td>\n",
              "      <td>0</td>\n",
              "      <td>0</td>\n",
              "      <td>0</td>\n",
              "      <td>1</td>\n",
              "      <td>0</td>\n",
              "      <td>0</td>\n",
              "      <td>0</td>\n",
              "      <td>0</td>\n",
              "      <td>0</td>\n",
              "      <td>0</td>\n",
              "      <td>0</td>\n",
              "      <td>0</td>\n",
              "      <td>0</td>\n",
              "      <td>0</td>\n",
              "      <td>1</td>\n",
              "      <td>1</td>\n",
              "      <td>1</td>\n",
              "      <td>1</td>\n",
              "    </tr>\n",
              "    <tr>\n",
              "      <th>4</th>\n",
              "      <td>2</td>\n",
              "      <td>1</td>\n",
              "      <td>3</td>\n",
              "      <td>0</td>\n",
              "      <td>0</td>\n",
              "      <td>0</td>\n",
              "      <td>1</td>\n",
              "      <td>0</td>\n",
              "      <td>0</td>\n",
              "      <td>0</td>\n",
              "      <td>0</td>\n",
              "      <td>0</td>\n",
              "      <td>1</td>\n",
              "      <td>0</td>\n",
              "      <td>0</td>\n",
              "      <td>0</td>\n",
              "      <td>0</td>\n",
              "      <td>0</td>\n",
              "      <td>0</td>\n",
              "      <td>0</td>\n",
              "      <td>0</td>\n",
              "      <td>0</td>\n",
              "      <td>0</td>\n",
              "      <td>0</td>\n",
              "      <td>0</td>\n",
              "      <td>0</td>\n",
              "      <td>0</td>\n",
              "      <td>1</td>\n",
              "      <td>1</td>\n",
              "    </tr>\n",
              "    <tr>\n",
              "      <th>...</th>\n",
              "      <td>...</td>\n",
              "      <td>...</td>\n",
              "      <td>...</td>\n",
              "      <td>...</td>\n",
              "      <td>...</td>\n",
              "      <td>...</td>\n",
              "      <td>...</td>\n",
              "      <td>...</td>\n",
              "      <td>...</td>\n",
              "      <td>...</td>\n",
              "      <td>...</td>\n",
              "      <td>...</td>\n",
              "      <td>...</td>\n",
              "      <td>...</td>\n",
              "      <td>...</td>\n",
              "      <td>...</td>\n",
              "      <td>...</td>\n",
              "      <td>...</td>\n",
              "      <td>...</td>\n",
              "      <td>...</td>\n",
              "      <td>...</td>\n",
              "      <td>...</td>\n",
              "      <td>...</td>\n",
              "      <td>...</td>\n",
              "      <td>...</td>\n",
              "      <td>...</td>\n",
              "      <td>...</td>\n",
              "      <td>...</td>\n",
              "      <td>...</td>\n",
              "    </tr>\n",
              "    <tr>\n",
              "      <th>245</th>\n",
              "      <td>2</td>\n",
              "      <td>1</td>\n",
              "      <td>2</td>\n",
              "      <td>0</td>\n",
              "      <td>1</td>\n",
              "      <td>0</td>\n",
              "      <td>0</td>\n",
              "      <td>0</td>\n",
              "      <td>0</td>\n",
              "      <td>0</td>\n",
              "      <td>0</td>\n",
              "      <td>0</td>\n",
              "      <td>0</td>\n",
              "      <td>0</td>\n",
              "      <td>0</td>\n",
              "      <td>0</td>\n",
              "      <td>0</td>\n",
              "      <td>0</td>\n",
              "      <td>0</td>\n",
              "      <td>1</td>\n",
              "      <td>0</td>\n",
              "      <td>0</td>\n",
              "      <td>0</td>\n",
              "      <td>1</td>\n",
              "      <td>0</td>\n",
              "      <td>0</td>\n",
              "      <td>0</td>\n",
              "      <td>0</td>\n",
              "      <td>1</td>\n",
              "    </tr>\n",
              "    <tr>\n",
              "      <th>246</th>\n",
              "      <td>1</td>\n",
              "      <td>2</td>\n",
              "      <td>2</td>\n",
              "      <td>0</td>\n",
              "      <td>1</td>\n",
              "      <td>0</td>\n",
              "      <td>0</td>\n",
              "      <td>1</td>\n",
              "      <td>0</td>\n",
              "      <td>0</td>\n",
              "      <td>0</td>\n",
              "      <td>0</td>\n",
              "      <td>1</td>\n",
              "      <td>0</td>\n",
              "      <td>0</td>\n",
              "      <td>0</td>\n",
              "      <td>0</td>\n",
              "      <td>0</td>\n",
              "      <td>0</td>\n",
              "      <td>0</td>\n",
              "      <td>0</td>\n",
              "      <td>0</td>\n",
              "      <td>0</td>\n",
              "      <td>0</td>\n",
              "      <td>0</td>\n",
              "      <td>0</td>\n",
              "      <td>0</td>\n",
              "      <td>1</td>\n",
              "      <td>1</td>\n",
              "    </tr>\n",
              "    <tr>\n",
              "      <th>247</th>\n",
              "      <td>2</td>\n",
              "      <td>3</td>\n",
              "      <td>3</td>\n",
              "      <td>0</td>\n",
              "      <td>0</td>\n",
              "      <td>1</td>\n",
              "      <td>1</td>\n",
              "      <td>0</td>\n",
              "      <td>0</td>\n",
              "      <td>0</td>\n",
              "      <td>0</td>\n",
              "      <td>0</td>\n",
              "      <td>0</td>\n",
              "      <td>0</td>\n",
              "      <td>0</td>\n",
              "      <td>1</td>\n",
              "      <td>0</td>\n",
              "      <td>0</td>\n",
              "      <td>0</td>\n",
              "      <td>0</td>\n",
              "      <td>0</td>\n",
              "      <td>0</td>\n",
              "      <td>0</td>\n",
              "      <td>0</td>\n",
              "      <td>0</td>\n",
              "      <td>0</td>\n",
              "      <td>0</td>\n",
              "      <td>0</td>\n",
              "      <td>0</td>\n",
              "    </tr>\n",
              "    <tr>\n",
              "      <th>248</th>\n",
              "      <td>1</td>\n",
              "      <td>3</td>\n",
              "      <td>3</td>\n",
              "      <td>0</td>\n",
              "      <td>0</td>\n",
              "      <td>1</td>\n",
              "      <td>1</td>\n",
              "      <td>0</td>\n",
              "      <td>0</td>\n",
              "      <td>0</td>\n",
              "      <td>0</td>\n",
              "      <td>0</td>\n",
              "      <td>0</td>\n",
              "      <td>0</td>\n",
              "      <td>0</td>\n",
              "      <td>1</td>\n",
              "      <td>0</td>\n",
              "      <td>0</td>\n",
              "      <td>0</td>\n",
              "      <td>0</td>\n",
              "      <td>0</td>\n",
              "      <td>0</td>\n",
              "      <td>0</td>\n",
              "      <td>0</td>\n",
              "      <td>0</td>\n",
              "      <td>0</td>\n",
              "      <td>0</td>\n",
              "      <td>0</td>\n",
              "      <td>0</td>\n",
              "    </tr>\n",
              "    <tr>\n",
              "      <th>249</th>\n",
              "      <td>1</td>\n",
              "      <td>2</td>\n",
              "      <td>2</td>\n",
              "      <td>0</td>\n",
              "      <td>0</td>\n",
              "      <td>0</td>\n",
              "      <td>0</td>\n",
              "      <td>1</td>\n",
              "      <td>0</td>\n",
              "      <td>1</td>\n",
              "      <td>0</td>\n",
              "      <td>0</td>\n",
              "      <td>0</td>\n",
              "      <td>0</td>\n",
              "      <td>0</td>\n",
              "      <td>0</td>\n",
              "      <td>0</td>\n",
              "      <td>0</td>\n",
              "      <td>0</td>\n",
              "      <td>0</td>\n",
              "      <td>0</td>\n",
              "      <td>0</td>\n",
              "      <td>0</td>\n",
              "      <td>0</td>\n",
              "      <td>0</td>\n",
              "      <td>0</td>\n",
              "      <td>0</td>\n",
              "      <td>0</td>\n",
              "      <td>0</td>\n",
              "    </tr>\n",
              "  </tbody>\n",
              "</table>\n",
              "<p>250 rows × 29 columns</p>\n",
              "</div>"
            ],
            "text/plain": [
              "     Overall_Rating  Duration  ...  Movies_Doc_Sports_Og  M2\n",
              "0                 2         1  ...                     0   0\n",
              "1                 2         2  ...                     0   1\n",
              "2                 1         2  ...                     1   1\n",
              "3                 2         2  ...                     1   1\n",
              "4                 2         1  ...                     1   1\n",
              "..              ...       ...  ...                   ...  ..\n",
              "245               2         1  ...                     0   1\n",
              "246               1         2  ...                     1   1\n",
              "247               2         3  ...                     0   0\n",
              "248               1         3  ...                     0   0\n",
              "249               1         2  ...                     0   0\n",
              "\n",
              "[250 rows x 29 columns]"
            ]
          },
          "metadata": {
            "tags": []
          },
          "execution_count": 2833
        }
      ]
    },
    {
      "cell_type": "code",
      "metadata": {
        "id": "9ouH8-fjeEQb"
      },
      "source": [
        ""
      ],
      "execution_count": 2833,
      "outputs": []
    },
    {
      "cell_type": "code",
      "metadata": {
        "id": "NyKwTYj6MamU",
        "colab": {
          "base_uri": "https://localhost:8080/"
        },
        "outputId": "48f5e70e-6a5c-43b9-b742-d452e55fe4ba"
      },
      "source": [
        "one_hot_data.columns"
      ],
      "execution_count": 2834,
      "outputs": [
        {
          "output_type": "execute_result",
          "data": {
            "text/plain": [
              "Index(['Overall_Rating', 'Duration', 'Frequency', 'Platforms_Hotstar',\n",
              "       'Platforms_Netflix', 'Platforms_Prime', 'Age_18-30', 'Age_31-50',\n",
              "       'Age_More than 50', 'Most_watched_All of the above',\n",
              "       'Most_watched_Documentaries',\n",
              "       'Most_watched_Documentaries, Sports and News', 'Most_watched_Movies',\n",
              "       'Most_watched_Movies, Documentaries',\n",
              "       'Most_watched_Movies, Documentaries, Sports and News',\n",
              "       'Most_watched_Movies, Sports and News',\n",
              "       'Most_watched_Original Web Series',\n",
              "       'Most_watched_Original Web Series, Documentaries',\n",
              "       'Most_watched_Original Web Series, Documentaries, Sports and News',\n",
              "       'Most_watched_Original Web Series, Movies',\n",
              "       'Most_watched_Original Web Series, Movies, Documentaries',\n",
              "       'Most_watched_Original Web Series, Movies, Sports and News',\n",
              "       'Most_watched_Original Web Series, Sports and News', 'Movie', 'M', 'M1',\n",
              "       'Movies_Doc_Sports', 'Movies_Doc_Sports_Og', 'M2'],\n",
              "      dtype='object')"
            ]
          },
          "metadata": {
            "tags": []
          },
          "execution_count": 2834
        }
      ]
    },
    {
      "cell_type": "code",
      "metadata": {
        "id": "HyDyAlj1k4Ss"
      },
      "source": [
        "train, test = train_test_split(one_hot_data, test_size =0.35)"
      ],
      "execution_count": 2835,
      "outputs": []
    },
    {
      "cell_type": "code",
      "metadata": {
        "colab": {
          "base_uri": "https://localhost:8080/"
        },
        "id": "5-d_mwea8pSH",
        "outputId": "695dcff5-bd5f-45b1-90a6-ce71caff1da5"
      },
      "source": [
        "train.shape"
      ],
      "execution_count": 2836,
      "outputs": [
        {
          "output_type": "execute_result",
          "data": {
            "text/plain": [
              "(162, 29)"
            ]
          },
          "metadata": {
            "tags": []
          },
          "execution_count": 2836
        }
      ]
    },
    {
      "cell_type": "code",
      "metadata": {
        "colab": {
          "base_uri": "https://localhost:8080/"
        },
        "id": "xjgkRaYm8pcB",
        "outputId": "31e88bb6-bda5-4464-e480-1db563b28371"
      },
      "source": [
        "test.shape"
      ],
      "execution_count": 2837,
      "outputs": [
        {
          "output_type": "execute_result",
          "data": {
            "text/plain": [
              "(88, 29)"
            ]
          },
          "metadata": {
            "tags": []
          },
          "execution_count": 2837
        }
      ]
    },
    {
      "cell_type": "code",
      "metadata": {
        "colab": {
          "base_uri": "https://localhost:8080/"
        },
        "id": "KnlDXcPpX8To",
        "outputId": "b8c8327c-5bbe-4b70-8ce6-d1d491edf365"
      },
      "source": [
        "one_hot_data.columns"
      ],
      "execution_count": 2838,
      "outputs": [
        {
          "output_type": "execute_result",
          "data": {
            "text/plain": [
              "Index(['Overall_Rating', 'Duration', 'Frequency', 'Platforms_Hotstar',\n",
              "       'Platforms_Netflix', 'Platforms_Prime', 'Age_18-30', 'Age_31-50',\n",
              "       'Age_More than 50', 'Most_watched_All of the above',\n",
              "       'Most_watched_Documentaries',\n",
              "       'Most_watched_Documentaries, Sports and News', 'Most_watched_Movies',\n",
              "       'Most_watched_Movies, Documentaries',\n",
              "       'Most_watched_Movies, Documentaries, Sports and News',\n",
              "       'Most_watched_Movies, Sports and News',\n",
              "       'Most_watched_Original Web Series',\n",
              "       'Most_watched_Original Web Series, Documentaries',\n",
              "       'Most_watched_Original Web Series, Documentaries, Sports and News',\n",
              "       'Most_watched_Original Web Series, Movies',\n",
              "       'Most_watched_Original Web Series, Movies, Documentaries',\n",
              "       'Most_watched_Original Web Series, Movies, Sports and News',\n",
              "       'Most_watched_Original Web Series, Sports and News', 'Movie', 'M', 'M1',\n",
              "       'Movies_Doc_Sports', 'Movies_Doc_Sports_Og', 'M2'],\n",
              "      dtype='object')"
            ]
          },
          "metadata": {
            "tags": []
          },
          "execution_count": 2838
        }
      ]
    },
    {
      "cell_type": "code",
      "metadata": {
        "id": "njgC1YuUYp70"
      },
      "source": [
        "features=['Overall_Rating','Movies_Doc_Sports_Og','Movie','Frequency','Age_18-30','Most_watched_All of the above']"
      ],
      "execution_count": 2839,
      "outputs": []
    },
    {
      "cell_type": "code",
      "metadata": {
        "colab": {
          "base_uri": "https://localhost:8080/"
        },
        "id": "CJgX9H8Edh-N",
        "outputId": "65315fc4-7484-4f64-a928-8d07fe4f5408"
      },
      "source": [
        "one_hot_data['M2'].value_counts()"
      ],
      "execution_count": 2840,
      "outputs": [
        {
          "output_type": "execute_result",
          "data": {
            "text/plain": [
              "0    134\n",
              "1    116\n",
              "Name: M2, dtype: int64"
            ]
          },
          "metadata": {
            "tags": []
          },
          "execution_count": 2840
        }
      ]
    },
    {
      "cell_type": "code",
      "metadata": {
        "id": "_ryB3uiOYp9x"
      },
      "source": [
        "X_train =train[features]\n",
        "Y_train =train[\"Platforms_Netflix\"]\n",
        "\n",
        "X_test = test[features]\n",
        "Y_test = test[\"Platforms_Netflix\"]"
      ],
      "execution_count": 2841,
      "outputs": []
    },
    {
      "cell_type": "code",
      "metadata": {
        "id": "gCSnHLoYlgOm"
      },
      "source": [
        "from sklearn.model_selection import GridSearchCV"
      ],
      "execution_count": 2842,
      "outputs": []
    },
    {
      "cell_type": "code",
      "metadata": {
        "id": "2F0AsfTklgRa"
      },
      "source": [
        "gdtree = DecisionTreeClassifier()"
      ],
      "execution_count": 2843,
      "outputs": []
    },
    {
      "cell_type": "code",
      "metadata": {
        "id": "tcy2jVkQlgUW"
      },
      "source": [
        "param_dict ={ \n",
        "    \"criterion\": ['gini', 'entropy'], \n",
        "    \"min_samples_split\":range(2,100)\n",
        "    }"
      ],
      "execution_count": 2844,
      "outputs": []
    },
    {
      "cell_type": "code",
      "metadata": {
        "id": "vB-8zgt8lgWz"
      },
      "source": [
        "grid =GridSearchCV(gdtree,param_grid=param_dict, cv=5)"
      ],
      "execution_count": 2845,
      "outputs": []
    },
    {
      "cell_type": "code",
      "metadata": {
        "colab": {
          "base_uri": "https://localhost:8080/"
        },
        "id": "qZg8oWqDlgZ2",
        "outputId": "0d6c09d3-ed37-4417-dd9b-ef277f2970e3"
      },
      "source": [
        "grid.fit(X_train,Y_train)"
      ],
      "execution_count": 2846,
      "outputs": [
        {
          "output_type": "execute_result",
          "data": {
            "text/plain": [
              "GridSearchCV(cv=5, error_score=nan,\n",
              "             estimator=DecisionTreeClassifier(ccp_alpha=0.0, class_weight=None,\n",
              "                                              criterion='gini', max_depth=None,\n",
              "                                              max_features=None,\n",
              "                                              max_leaf_nodes=None,\n",
              "                                              min_impurity_decrease=0.0,\n",
              "                                              min_impurity_split=None,\n",
              "                                              min_samples_leaf=1,\n",
              "                                              min_samples_split=2,\n",
              "                                              min_weight_fraction_leaf=0.0,\n",
              "                                              presort='deprecated',\n",
              "                                              random_state=None,\n",
              "                                              splitter='best'),\n",
              "             iid='deprecated', n_jobs=None,\n",
              "             param_grid={'criterion': ['gini', 'entropy'],\n",
              "                         'min_samples_split': range(2, 100)},\n",
              "             pre_dispatch='2*n_jobs', refit=True, return_train_score=False,\n",
              "             scoring=None, verbose=0)"
            ]
          },
          "metadata": {
            "tags": []
          },
          "execution_count": 2846
        }
      ]
    },
    {
      "cell_type": "code",
      "metadata": {
        "colab": {
          "base_uri": "https://localhost:8080/"
        },
        "id": "lmZw5m4Mlgco",
        "outputId": "761cd1a8-cadb-4285-bb64-296337ead78d"
      },
      "source": [
        "grid.best_params_"
      ],
      "execution_count": 2847,
      "outputs": [
        {
          "output_type": "execute_result",
          "data": {
            "text/plain": [
              "{'criterion': 'gini', 'min_samples_split': 28}"
            ]
          },
          "metadata": {
            "tags": []
          },
          "execution_count": 2847
        }
      ]
    },
    {
      "cell_type": "code",
      "metadata": {
        "colab": {
          "base_uri": "https://localhost:8080/"
        },
        "id": "8gg0K2O6lgfP",
        "outputId": "6cfd990f-a8fa-4ec2-cc5a-fecb6e104582"
      },
      "source": [
        "grid.best_score_"
      ],
      "execution_count": 2848,
      "outputs": [
        {
          "output_type": "execute_result",
          "data": {
            "text/plain": [
              "0.8026515151515152"
            ]
          },
          "metadata": {
            "tags": []
          },
          "execution_count": 2848
        }
      ]
    },
    {
      "cell_type": "code",
      "metadata": {
        "id": "IYI_qYFFlgjd"
      },
      "source": [
        "from sklearn.metrics import accuracy_score"
      ],
      "execution_count": 2849,
      "outputs": []
    },
    {
      "cell_type": "code",
      "metadata": {
        "id": "YzTbLh1El1yT"
      },
      "source": [
        "gt1=DecisionTreeClassifier(\n",
        "    criterion='gini',\n",
        "    min_samples_split=40)"
      ],
      "execution_count": 2850,
      "outputs": []
    },
    {
      "cell_type": "code",
      "metadata": {
        "id": "WOURTUfPl11X"
      },
      "source": [
        "gt_fit = gt1.fit(X_train, Y_train)\n",
        "gt_p1 = gt1.predict(X_train)"
      ],
      "execution_count": 2851,
      "outputs": []
    },
    {
      "cell_type": "code",
      "metadata": {
        "colab": {
          "base_uri": "https://localhost:8080/"
        },
        "id": "7wlGdxmal15x",
        "outputId": "080d789f-3121-4a3e-b6cc-1af2066e225c"
      },
      "source": [
        "gtrain_score = accuracy_score(Y_train, gt_p1)*100\n",
        "gtrain_score"
      ],
      "execution_count": 2852,
      "outputs": [
        {
          "output_type": "execute_result",
          "data": {
            "text/plain": [
              "82.09876543209876"
            ]
          },
          "metadata": {
            "tags": []
          },
          "execution_count": 2852
        }
      ]
    },
    {
      "cell_type": "code",
      "metadata": {
        "colab": {
          "base_uri": "https://localhost:8080/"
        },
        "id": "jXaTkhjjl17z",
        "outputId": "94b59bc4-c199-4c98-be98-58bf418549dd"
      },
      "source": [
        "gt_pt1 = gt1.predict(X_test)\n",
        "gtest_score = accuracy_score(Y_test, gt_pt1)*100\n",
        "gtest_score"
      ],
      "execution_count": 2853,
      "outputs": [
        {
          "output_type": "execute_result",
          "data": {
            "text/plain": [
              "70.45454545454545"
            ]
          },
          "metadata": {
            "tags": []
          },
          "execution_count": 2853
        }
      ]
    },
    {
      "cell_type": "code",
      "metadata": {
        "colab": {
          "base_uri": "https://localhost:8080/",
          "height": 426
        },
        "id": "J-dM-1aql19v",
        "outputId": "7dbd6711-8c5c-4513-ba60-92f52a86ec4a"
      },
      "source": [
        "print(classification_report(Y_test, gt_pt1))\n",
        "rf_cm = confusion_matrix(Y_test, gt_pt1)\n",
        "df_cm3 = pd.DataFrame(rf_cm, range(2), range(2))\n",
        "# plt.figure(figsize=(10,7))\n",
        "sns.set(font_scale=1.4) # for label size\n",
        "sns.heatmap(df_cm3, annot=True, cmap='Blues', annot_kws={\"size\": 16}, fmt='g') # font size\n",
        "plt.show()"
      ],
      "execution_count": 2854,
      "outputs": [
        {
          "output_type": "stream",
          "text": [
            "              precision    recall  f1-score   support\n",
            "\n",
            "           0       0.82      0.82      0.82        72\n",
            "           1       0.19      0.19      0.19        16\n",
            "\n",
            "    accuracy                           0.70        88\n",
            "   macro avg       0.50      0.50      0.50        88\n",
            "weighted avg       0.70      0.70      0.70        88\n",
            "\n"
          ],
          "name": "stdout"
        },
        {
          "output_type": "display_data",
          "data": {
            "image/png": "[encoded data removed]",
            "text/plain": [
              "<Figure size 432x288 with 2 Axes>"
            ]
          },
          "metadata": {
            "tags": []
          }
        }
      ]
    },
    {
      "cell_type": "markdown",
      "metadata": {
        "id": "tDzSj3n5PJ1D"
      },
      "source": [
        "#RF for Netflix"
      ]
    },
    {
      "cell_type": "code",
      "metadata": {
        "id": "VY2D5GXoPOSn"
      },
      "source": [
        "train, test = train_test_split(one_hot_data, test_size =0.30)"
      ],
      "execution_count": 2855,
      "outputs": []
    },
    {
      "cell_type": "code",
      "metadata": {
        "id": "aY-BT6cOPOVm"
      },
      "source": [
        "from sklearn.model_selection import train_test_split, GridSearchCV\n",
        "from sklearn.metrics import confusion_matrix,accuracy_score, roc_curve, auc\n",
        "from sklearn.ensemble import RandomForestClassifier\n",
        "from sklearn.metrics import recall_score,precision_score"
      ],
      "execution_count": 2856,
      "outputs": []
    },
    {
      "cell_type": "code",
      "metadata": {
        "colab": {
          "base_uri": "https://localhost:8080/"
        },
        "id": "LHEBypYePOY6",
        "outputId": "2c7f77ab-4663-4987-bd9a-836408c11606"
      },
      "source": [
        "#Build Random Forest model\n",
        "rf1 = RandomForestClassifier(max_depth=4, n_estimators = 20)\n",
        "rf1.fit(X_train,Y_train)"
      ],
      "execution_count": 2857,
      "outputs": [
        {
          "output_type": "execute_result",
          "data": {
            "text/plain": [
              "RandomForestClassifier(bootstrap=True, ccp_alpha=0.0, class_weight=None,\n",
              "                       criterion='gini', max_depth=4, max_features='auto',\n",
              "                       max_leaf_nodes=None, max_samples=None,\n",
              "                       min_impurity_decrease=0.0, min_impurity_split=None,\n",
              "                       min_samples_leaf=1, min_samples_split=2,\n",
              "                       min_weight_fraction_leaf=0.0, n_estimators=20,\n",
              "                       n_jobs=None, oob_score=False, random_state=None,\n",
              "                       verbose=0, warm_start=False)"
            ]
          },
          "metadata": {
            "tags": []
          },
          "execution_count": 2857
        }
      ]
    },
    {
      "cell_type": "code",
      "metadata": {
        "id": "36wweO7LPy76"
      },
      "source": [
        "rf1_model_pred = rf1.predict(X_test)"
      ],
      "execution_count": 2858,
      "outputs": []
    },
    {
      "cell_type": "code",
      "metadata": {
        "colab": {
          "base_uri": "https://localhost:8080/"
        },
        "id": "cTZ-562LP23a",
        "outputId": "6ecb8b09-be73-4976-f2eb-6c01cf25415a"
      },
      "source": [
        "test_score_rf = accuracy_score(Y_test, rf1_model_pred)*100\n",
        "test_score_rf"
      ],
      "execution_count": 2859,
      "outputs": [
        {
          "output_type": "execute_result",
          "data": {
            "text/plain": [
              "72.72727272727273"
            ]
          },
          "metadata": {
            "tags": []
          },
          "execution_count": 2859
        }
      ]
    },
    {
      "cell_type": "code",
      "metadata": {
        "colab": {
          "base_uri": "https://localhost:8080/",
          "height": 428
        },
        "id": "LxetWzNdP7IS",
        "outputId": "c01f4fa8-2ffd-43c7-bf64-2dfe9065278f"
      },
      "source": [
        "print(classification_report(Y_test, rf1_model_pred))\n",
        "rf_cm = confusion_matrix(Y_test, rf1_model_pred)\n",
        "df_cm3 = pd.DataFrame(rf_cm, range(2), range(2))\n",
        "# plt.figure(figsize=(10,7))\n",
        "sns.set(font_scale=1.4) # for label size\n",
        "sns.heatmap(df_cm3, annot=True, cmap='Blues', annot_kws={\"size\": 16}, fmt='g') # font size\n",
        "plt.show()"
      ],
      "execution_count": 2860,
      "outputs": [
        {
          "output_type": "stream",
          "text": [
            "              precision    recall  f1-score   support\n",
            "\n",
            "           0       0.82      0.85      0.84        72\n",
            "           1       0.21      0.19      0.20        16\n",
            "\n",
            "    accuracy                           0.73        88\n",
            "   macro avg       0.52      0.52      0.52        88\n",
            "weighted avg       0.71      0.73      0.72        88\n",
            "\n"
          ],
          "name": "stdout"
        },
        {
          "output_type": "display_data",
          "data": {
            "image/png": "[encoded data removed]",
            "text/plain": [
              "<Figure size 432x288 with 2 Axes>"
            ]
          },
          "metadata": {
            "tags": []
          }
        }
      ]
    },
    {
      "cell_type": "code",
      "metadata": {
        "colab": {
          "base_uri": "https://localhost:8080/",
          "height": 478
        },
        "id": "iiv22eKMQIGr",
        "outputId": "5d8700f9-ccf0-4b2c-9a3d-6286bde91f7d"
      },
      "source": [
        "rf_model1_test = rf1.predict_proba(X_test)\n",
        "\n",
        "#Plot AUC-ROC\n",
        "fpr1, tpr1, threshold1 = roc_curve(Y_test, rf_model1_test[:,1])\n",
        "roc_auc1 = auc(fpr1, tpr1)\n",
        "#fpr2, tpr2, threshold2 = roc_curve(y_test, rf_model2_test[:,1])\n",
        "#roc_auc2 = auc(fpr2, tpr2)\n",
        "plt.figure(figsize=(7,7))\n",
        "plt.title('Receiver Operating Characteristic')\n",
        "plt.plot(fpr1, tpr1, 'g', label = 'AUC model 1= %0.2f' % roc_auc1)\n",
        "#plt.plot(fpr2, tpr2, 'b', label = 'AUC model 2= %0.2f' % roc_auc2)\n",
        "plt.legend(loc = 'lower right')\n",
        "plt.plot([0, 1], [0, 1],'r--')\n",
        "plt.xlim([0, 1])\n",
        "plt.ylim([0, 1])\n",
        "plt.ylabel('True Positive Rate')\n",
        "plt.xlabel('False Positive Rate')\n",
        "plt.show()"
      ],
      "execution_count": 2861,
      "outputs": [
        {
          "output_type": "display_data",
          "data": {
            "image/png": "[encoded data removed]",
            "text/plain": [
              "<Figure size 504x504 with 1 Axes>"
            ]
          },
          "metadata": {
            "tags": []
          }
        }
      ]
    },
    {
      "cell_type": "markdown",
      "metadata": {
        "id": "qPIU6oo_PdeH"
      },
      "source": [
        "#SVM for Netflix"
      ]
    },
    {
      "cell_type": "code",
      "metadata": {
        "id": "Lbod4Hyyi2fc"
      },
      "source": [
        "train, test = train_test_split(one_hot_data, test_size =0.30)"
      ],
      "execution_count": 2862,
      "outputs": []
    },
    {
      "cell_type": "code",
      "metadata": {
        "id": "-Z35f1jYi2wi"
      },
      "source": [
        "from sklearn import svm"
      ],
      "execution_count": 2863,
      "outputs": []
    },
    {
      "cell_type": "code",
      "metadata": {
        "id": "laO6eHM0i219"
      },
      "source": [
        "svmf = svm.SVC(C=10000000, kernel='rbf', degree=4)"
      ],
      "execution_count": 2864,
      "outputs": []
    },
    {
      "cell_type": "code",
      "metadata": {
        "id": "FSLTpPSri24x"
      },
      "source": [
        "model_svm = svmf.fit(X_train, Y_train)"
      ],
      "execution_count": 2865,
      "outputs": []
    },
    {
      "cell_type": "code",
      "metadata": {
        "id": "D_dYbCtgi28V"
      },
      "source": [
        "pred_svm = model_svm.predict(X_test)"
      ],
      "execution_count": 2866,
      "outputs": []
    },
    {
      "cell_type": "code",
      "metadata": {
        "colab": {
          "base_uri": "https://localhost:8080/"
        },
        "id": "9kYGYlIOjFrx",
        "outputId": "cfa58b8f-d327-45fe-c59b-2d796a7babea"
      },
      "source": [
        "test_score_svm = accuracy_score(Y_test, pred_svm)*100\n",
        "test_score_svm"
      ],
      "execution_count": 2867,
      "outputs": [
        {
          "output_type": "execute_result",
          "data": {
            "text/plain": [
              "69.31818181818183"
            ]
          },
          "metadata": {
            "tags": []
          },
          "execution_count": 2867
        }
      ]
    },
    {
      "cell_type": "code",
      "metadata": {
        "colab": {
          "base_uri": "https://localhost:8080/",
          "height": 426
        },
        "id": "9wX8IYn5jFwi",
        "outputId": "e12ded35-ad48-499e-c197-c9ba670b60c2"
      },
      "source": [
        "print(classification_report(Y_test, pred_svm))\n",
        "rf_cm = confusion_matrix(Y_test, pred_svm)\n",
        "df_cm3 = pd.DataFrame(rf_cm, range(2), range(2))\n",
        "# plt.figure(figsize=(10,7))\n",
        "sns.set(font_scale=1.4) # for label size\n",
        "sns.heatmap(df_cm3, annot=True, cmap='Blues', annot_kws={\"size\": 16}, fmt='g') # font size\n",
        "plt.show()"
      ],
      "execution_count": 2868,
      "outputs": [
        {
          "output_type": "stream",
          "text": [
            "              precision    recall  f1-score   support\n",
            "\n",
            "           0       0.84      0.78      0.81        72\n",
            "           1       0.24      0.31      0.27        16\n",
            "\n",
            "    accuracy                           0.69        88\n",
            "   macro avg       0.54      0.55      0.54        88\n",
            "weighted avg       0.73      0.69      0.71        88\n",
            "\n"
          ],
          "name": "stdout"
        },
        {
          "output_type": "display_data",
          "data": {
            "image/png": "[encoded data removed]",
            "text/plain": [
              "<Figure size 432x288 with 2 Axes>"
            ]
          },
          "metadata": {
            "tags": []
          }
        }
      ]
    },
    {
      "cell_type": "code",
      "metadata": {
        "id": "9HaU_DgPjF0L"
      },
      "source": [
        ""
      ],
      "execution_count": 2868,
      "outputs": []
    },
    {
      "cell_type": "code",
      "metadata": {
        "id": "AVaoU9Arl5Gm"
      },
      "source": [
        ""
      ],
      "execution_count": 2868,
      "outputs": []
    },
    {
      "cell_type": "code",
      "metadata": {
        "id": "OAiXrsnql5Dn"
      },
      "source": [
        ""
      ],
      "execution_count": 2868,
      "outputs": []
    },
    {
      "cell_type": "code",
      "metadata": {
        "id": "N4NP8XECPOcW"
      },
      "source": [
        "random_forest = RandomForestClassifier()"
      ],
      "execution_count": 2869,
      "outputs": []
    },
    {
      "cell_type": "code",
      "metadata": {
        "id": "95BdXYllkbGx"
      },
      "source": [
        "random_forest_grid_params ={\n",
        "    'max_depth' : range(5,60,5),\n",
        "    'n_estimators' : range(5,60,5)\n",
        "}"
      ],
      "execution_count": 2870,
      "outputs": []
    },
    {
      "cell_type": "code",
      "metadata": {
        "colab": {
          "base_uri": "https://localhost:8080/"
        },
        "id": "YrdaHHHJkbKp",
        "outputId": "651b8227-5159-41b1-cae6-9fb4bbcb24b7"
      },
      "source": [
        "grid_for_rf_1 = GridSearchCV(random_forest,random_forest_grid_params, cv = 10) \n",
        "grid_for_rf_1.fit (X_train, Y_train)"
      ],
      "execution_count": 2871,
      "outputs": [
        {
          "output_type": "execute_result",
          "data": {
            "text/plain": [
              "GridSearchCV(cv=10, error_score=nan,\n",
              "             estimator=RandomForestClassifier(bootstrap=True, ccp_alpha=0.0,\n",
              "                                              class_weight=None,\n",
              "                                              criterion='gini', max_depth=None,\n",
              "                                              max_features='auto',\n",
              "                                              max_leaf_nodes=None,\n",
              "                                              max_samples=None,\n",
              "                                              min_impurity_decrease=0.0,\n",
              "                                              min_impurity_split=None,\n",
              "                                              min_samples_leaf=1,\n",
              "                                              min_samples_split=2,\n",
              "                                              min_weight_fraction_leaf=0.0,\n",
              "                                              n_estimators=100, n_jobs=None,\n",
              "                                              oob_score=False,\n",
              "                                              random_state=None, verbose=0,\n",
              "                                              warm_start=False),\n",
              "             iid='deprecated', n_jobs=None,\n",
              "             param_grid={'max_depth': range(5, 60, 5),\n",
              "                         'n_estimators': range(5, 60, 5)},\n",
              "             pre_dispatch='2*n_jobs', refit=True, return_train_score=False,\n",
              "             scoring=None, verbose=0)"
            ]
          },
          "metadata": {
            "tags": []
          },
          "execution_count": 2871
        }
      ]
    },
    {
      "cell_type": "code",
      "metadata": {
        "colab": {
          "base_uri": "https://localhost:8080/"
        },
        "id": "ayexpEVakbOd",
        "outputId": "c0882e8f-48b4-4e87-be75-20862ae69b30"
      },
      "source": [
        "grid_for_rf_2 = GridSearchCV(random_forest,random_forest_grid_params, cv = 5) \n",
        "grid_for_rf_2.fit (X_train, Y_train)"
      ],
      "execution_count": 2872,
      "outputs": [
        {
          "output_type": "execute_result",
          "data": {
            "text/plain": [
              "GridSearchCV(cv=5, error_score=nan,\n",
              "             estimator=RandomForestClassifier(bootstrap=True, ccp_alpha=0.0,\n",
              "                                              class_weight=None,\n",
              "                                              criterion='gini', max_depth=None,\n",
              "                                              max_features='auto',\n",
              "                                              max_leaf_nodes=None,\n",
              "                                              max_samples=None,\n",
              "                                              min_impurity_decrease=0.0,\n",
              "                                              min_impurity_split=None,\n",
              "                                              min_samples_leaf=1,\n",
              "                                              min_samples_split=2,\n",
              "                                              min_weight_fraction_leaf=0.0,\n",
              "                                              n_estimators=100, n_jobs=None,\n",
              "                                              oob_score=False,\n",
              "                                              random_state=None, verbose=0,\n",
              "                                              warm_start=False),\n",
              "             iid='deprecated', n_jobs=None,\n",
              "             param_grid={'max_depth': range(5, 60, 5),\n",
              "                         'n_estimators': range(5, 60, 5)},\n",
              "             pre_dispatch='2*n_jobs', refit=True, return_train_score=False,\n",
              "             scoring=None, verbose=0)"
            ]
          },
          "metadata": {
            "tags": []
          },
          "execution_count": 2872
        }
      ]
    },
    {
      "cell_type": "code",
      "metadata": {
        "colab": {
          "base_uri": "https://localhost:8080/"
        },
        "id": "OIWSa_lSkbRf",
        "outputId": "1210d759-4884-493f-d8d3-3b3ef5d09489"
      },
      "source": [
        "print(f'Grid1 {grid_for_rf_1.best_params_, grid_for_rf_1.best_score_}')\n",
        "print(f'Grid2 {grid_for_rf_2.best_params_, grid_for_rf_2.best_score_}')"
      ],
      "execution_count": 2873,
      "outputs": [
        {
          "output_type": "stream",
          "text": [
            "Grid1 ({'max_depth': 5, 'n_estimators': 55}, 0.7849264705882353)\n",
            "Grid2 ({'max_depth': 5, 'n_estimators': 55}, 0.778219696969697)\n"
          ],
          "name": "stdout"
        }
      ]
    },
    {
      "cell_type": "code",
      "metadata": {
        "id": "T5xsgCtolBIp"
      },
      "source": [
        "rf_temp1 =  RandomForestClassifier(max_depth= 40, n_estimators= 5)"
      ],
      "execution_count": 2874,
      "outputs": []
    },
    {
      "cell_type": "code",
      "metadata": {
        "colab": {
          "base_uri": "https://localhost:8080/"
        },
        "id": "WNl-2IRHlBL2",
        "outputId": "78a86c31-9fbe-4322-c2fe-8857ae211e99"
      },
      "source": [
        "rf_temp1_fit = rf_temp1.fit(X_train, Y_train)\n",
        "rf_temp1_train_predict = rf_temp1.predict(X_train)\n",
        "\n",
        "rf_temp1_train_predict_score = accuracy_score(Y_train, rf_temp1_train_predict) *100\n",
        "rf_temp1_train_predict_score"
      ],
      "execution_count": 2875,
      "outputs": [
        {
          "output_type": "execute_result",
          "data": {
            "text/plain": [
              "82.71604938271605"
            ]
          },
          "metadata": {
            "tags": []
          },
          "execution_count": 2875
        }
      ]
    },
    {
      "cell_type": "code",
      "metadata": {
        "colab": {
          "base_uri": "https://localhost:8080/"
        },
        "id": "aRNz6I7_lBO8",
        "outputId": "0f811124-03df-4ee7-c134-aa9d8630be3e"
      },
      "source": [
        "rf_temp1_test_predict = rf_temp1.predict(X_test)\n",
        "rf_temp1_test_predict_score = accuracy_score(Y_test, rf_temp1_test_predict) *100\n",
        "rf_temp1_test_predict_score"
      ],
      "execution_count": 2876,
      "outputs": [
        {
          "output_type": "execute_result",
          "data": {
            "text/plain": [
              "67.04545454545455"
            ]
          },
          "metadata": {
            "tags": []
          },
          "execution_count": 2876
        }
      ]
    },
    {
      "cell_type": "code",
      "metadata": {
        "colab": {
          "base_uri": "https://localhost:8080/"
        },
        "id": "7_YHyG4hkbVD",
        "outputId": "d01ced76-159f-4079-eb86-281054a350fa"
      },
      "source": [
        "print(classification_report(Y_test, rf_temp1_test_predict))"
      ],
      "execution_count": 2877,
      "outputs": [
        {
          "output_type": "stream",
          "text": [
            "              precision    recall  f1-score   support\n",
            "\n",
            "           0       0.80      0.79      0.80        72\n",
            "           1       0.12      0.12      0.12        16\n",
            "\n",
            "    accuracy                           0.67        88\n",
            "   macro avg       0.46      0.46      0.46        88\n",
            "weighted avg       0.68      0.67      0.67        88\n",
            "\n"
          ],
          "name": "stdout"
        }
      ]
    },
    {
      "cell_type": "markdown",
      "metadata": {
        "id": "CSWE_y6PPg0z"
      },
      "source": [
        "#KNN for Netflix"
      ]
    },
    {
      "cell_type": "code",
      "metadata": {
        "id": "V_HdDjFuy07j"
      },
      "source": [
        "from sklearn.neighbors import KNeighborsClassifier"
      ],
      "execution_count": 2888,
      "outputs": []
    },
    {
      "cell_type": "code",
      "metadata": {
        "id": "Y5z_T26Iv6JN"
      },
      "source": [
        "X =train[features]\n",
        "y =train[\"Platforms_Netflix\"]\n",
        "\n"
      ],
      "execution_count": 2889,
      "outputs": []
    },
    {
      "cell_type": "code",
      "metadata": {
        "id": "HcXeQUtVkbYM"
      },
      "source": [
        "# Split into training and test set\n",
        "X_train, X_test, y_train, y_test = train_test_split(\n",
        "             X, y, test_size = 0.2, random_state=42)"
      ],
      "execution_count": 2890,
      "outputs": []
    },
    {
      "cell_type": "code",
      "metadata": {
        "id": "oKWjV1Hyx4nh"
      },
      "source": [
        "neighbors = np.arange(1, 9)\n",
        "train_accuracy = np.empty(len(neighbors))\n",
        "test_accuracy = np.empty(len(neighbors))"
      ],
      "execution_count": 2891,
      "outputs": []
    },
    {
      "cell_type": "code",
      "metadata": {
        "id": "Nuv2d3M1yBHW"
      },
      "source": [
        "# Loop over K values\n",
        "for i, k in enumerate(neighbors):\n",
        "    knn = KNeighborsClassifier(n_neighbors=k)\n",
        "    knn.fit(X_train, y_train)"
      ],
      "execution_count": 2892,
      "outputs": []
    },
    {
      "cell_type": "code",
      "metadata": {
        "id": "dZohChRvyLvP"
      },
      "source": [
        " # Compute traning and test data accuracy\n",
        "train_accuracy[i] = knn.score(X_train, y_train)\n",
        "test_accuracy[i] = knn.score(X_test, y_test)"
      ],
      "execution_count": 2893,
      "outputs": []
    },
    {
      "cell_type": "code",
      "metadata": {
        "colab": {
          "base_uri": "https://localhost:8080/",
          "height": 295
        },
        "id": "EEmFx_SrySb0",
        "outputId": "0f9aef79-0a86-40e1-ac97-bbfd9ea495a0"
      },
      "source": [
        "# Generate plot\n",
        "plt.plot(neighbors, test_accuracy, label = 'Testing dataset Accuracy')\n",
        "plt.plot(neighbors, train_accuracy, label = 'Training dataset Accuracy')\n",
        "  \n",
        "plt.legend()\n",
        "plt.xlabel('n_neighbors')\n",
        "plt.ylabel('Accuracy')\n",
        "plt.show()"
      ],
      "execution_count": 2894,
      "outputs": [
        {
          "output_type": "display_data",
          "data": {
            "image/png": "[encoded data removed]",
            "text/plain": [
              "<Figure size 432x288 with 1 Axes>"
            ]
          },
          "metadata": {
            "tags": []
          }
        }
      ]
    },
    {
      "cell_type": "markdown",
      "metadata": {
        "id": "nuRc2kSKt_Hy"
      },
      "source": [
        "#**Prime**"
      ]
    },
    {
      "cell_type": "code",
      "metadata": {
        "id": "S7ttEf4Kf1hu"
      },
      "source": [
        "train, test = train_test_split(one_hot_data, test_size =0.30)"
      ],
      "execution_count": null,
      "outputs": []
    },
    {
      "cell_type": "code",
      "metadata": {
        "id": "lhuCD-9ff1pu"
      },
      "source": [
        "train.shape"
      ],
      "execution_count": null,
      "outputs": []
    },
    {
      "cell_type": "code",
      "metadata": {
        "id": "TD7-b5pFf1zq"
      },
      "source": [
        "test.shape"
      ],
      "execution_count": null,
      "outputs": []
    },
    {
      "cell_type": "code",
      "metadata": {
        "id": "Mp403SM1vXji"
      },
      "source": [
        "one_hot_data.columns"
      ],
      "execution_count": null,
      "outputs": []
    },
    {
      "cell_type": "code",
      "metadata": {
        "id": "3xVDDt55uJDL"
      },
      "source": [
        "features=['Overall_Rating','Most_watched_Original Web Series','Movie','Most_watched_Original Web Series, Movies, Sports and News','Frequency','Age_31-50', 'Age_Less than 18']"
      ],
      "execution_count": null,
      "outputs": []
    },
    {
      "cell_type": "code",
      "metadata": {
        "id": "Ohcd4f8YuSvF"
      },
      "source": [
        "X_train =train[features]\n",
        "Y_train =train[\"Platforms_Prime\"]\n",
        "\n",
        "X_test = test[features]\n",
        "Y_test = test[\"Platforms_Prime\"]"
      ],
      "execution_count": null,
      "outputs": []
    },
    {
      "cell_type": "code",
      "metadata": {
        "id": "GmGlmU1NuSxw"
      },
      "source": [
        "gdtree = DecisionTreeClassifier()"
      ],
      "execution_count": null,
      "outputs": []
    },
    {
      "cell_type": "code",
      "metadata": {
        "id": "JqUjVwmGuS0O"
      },
      "source": [
        "param_dict ={ \n",
        "    \"criterion\": ['gini', 'entropy'], \n",
        "    \"min_samples_split\":range(2,100)\n",
        "    \n",
        "    }"
      ],
      "execution_count": null,
      "outputs": []
    },
    {
      "cell_type": "code",
      "metadata": {
        "id": "zZh7fNYyuS5N"
      },
      "source": [
        "grid1 =GridSearchCV(gdtree,param_grid=param_dict, cv=10)"
      ],
      "execution_count": null,
      "outputs": []
    },
    {
      "cell_type": "code",
      "metadata": {
        "id": "bZvyZqc3uS72"
      },
      "source": [
        "grid1.fit(X_train,Y_train)"
      ],
      "execution_count": null,
      "outputs": []
    },
    {
      "cell_type": "code",
      "metadata": {
        "id": "DSzJvoP9uS-U"
      },
      "source": [
        "grid1.best_params_"
      ],
      "execution_count": null,
      "outputs": []
    },
    {
      "cell_type": "code",
      "metadata": {
        "id": "At-ip1pxuTAV"
      },
      "source": [
        "grid1.best_score_"
      ],
      "execution_count": null,
      "outputs": []
    },
    {
      "cell_type": "code",
      "metadata": {
        "id": "aOHVMKQcuJGZ"
      },
      "source": [
        "gt1=DecisionTreeClassifier(\n",
        "    criterion='gini',\n",
        "    min_samples_split=2)\n"
      ],
      "execution_count": null,
      "outputs": []
    },
    {
      "cell_type": "code",
      "metadata": {
        "id": "TU2LzZVOwKNB"
      },
      "source": [
        "gt_fit = gt1.fit(X_train, Y_train)\n",
        "gt_p1 = gt1.predict(X_train)\n",
        "gtrain_score = accuracy_score(Y_train, gt_p1)*100\n",
        "gtrain_score"
      ],
      "execution_count": null,
      "outputs": []
    },
    {
      "cell_type": "code",
      "metadata": {
        "id": "TMReVxPBwKP1"
      },
      "source": [
        "gt_pt1 = gt1.predict(X_test)\n",
        "prime_score = accuracy_score(Y_test, gt_pt1)*100\n",
        "prime_score"
      ],
      "execution_count": null,
      "outputs": []
    },
    {
      "cell_type": "code",
      "metadata": {
        "id": "Ec28qASDwKS3"
      },
      "source": [
        "print(classification_report(Y_test, gt_pt1))\n",
        "rf_cm = confusion_matrix(Y_test, gt_pt1)\n",
        "df_cm3 = pd.DataFrame(rf_cm, range(2), range(2))\n",
        "# plt.figure(figsize=(10,7))\n",
        "sns.set(font_scale=1.4) # for label size\n",
        "sns.heatmap(df_cm3, annot=True, cmap='Blues', annot_kws={\"size\": 16}, fmt='g') # font size\n",
        "plt.show()"
      ],
      "execution_count": null,
      "outputs": []
    },
    {
      "cell_type": "markdown",
      "metadata": {
        "id": "lr0ZMpyDwe4i"
      },
      "source": [
        "**Hotstar**"
      ]
    },
    {
      "cell_type": "code",
      "metadata": {
        "id": "VGUw_XR0gxXv"
      },
      "source": [
        "train, test = train_test_split(one_hot_data, test_size =0.35)"
      ],
      "execution_count": null,
      "outputs": []
    },
    {
      "cell_type": "code",
      "metadata": {
        "id": "DfaQES6XwiBV"
      },
      "source": [
        "features=['Overall_Rating','Most_watched_Original Web Series','Most_watched_Movies','Most_watched_Movies, Documentaries, Sports and News','Most_watched_Sports and News','Most_watched_Original Web Series, Movies, Documentaries','Most_watched_Original Web Series, Sports and News', 'Age_31-50', 'Age_Less than 18', 'Age_More than 50']"
      ],
      "execution_count": null,
      "outputs": []
    },
    {
      "cell_type": "code",
      "metadata": {
        "id": "ovnlrEF0wiD9"
      },
      "source": [
        "X_train =train[features]\n",
        "Y_train =train[\"Platforms_Hotstar\"]\n",
        "\n",
        "X_test = test[features]\n",
        "Y_test = test[\"Platforms_Hotstar\"]"
      ],
      "execution_count": null,
      "outputs": []
    },
    {
      "cell_type": "code",
      "metadata": {
        "id": "vT0wqPNIwiIO"
      },
      "source": [
        "param_dict ={ \n",
        "    \"criterion\": ['gini', 'entropy'], \n",
        "    \"min_samples_split\":range(2,100)\n",
        "    \n",
        "    }"
      ],
      "execution_count": null,
      "outputs": []
    },
    {
      "cell_type": "code",
      "metadata": {
        "id": "05t0dsJPwiLT"
      },
      "source": [
        "grid2 =GridSearchCV(gdtree,param_grid=param_dict, cv=10)"
      ],
      "execution_count": null,
      "outputs": []
    },
    {
      "cell_type": "code",
      "metadata": {
        "id": "Yl5UjvYEwiNt"
      },
      "source": [
        "grid2.fit(X_train,Y_train)"
      ],
      "execution_count": null,
      "outputs": []
    },
    {
      "cell_type": "code",
      "metadata": {
        "id": "aWvdonQDwiQm"
      },
      "source": [
        "grid2.best_params_"
      ],
      "execution_count": null,
      "outputs": []
    },
    {
      "cell_type": "code",
      "metadata": {
        "id": "_wEZpav_z9Hk"
      },
      "source": [
        "grid2.best_score_"
      ],
      "execution_count": null,
      "outputs": []
    },
    {
      "cell_type": "code",
      "metadata": {
        "id": "DPdFRJMuz9KP"
      },
      "source": [
        "gt2=DecisionTreeClassifier(\n",
        "    criterion='gini',\n",
        "    min_samples_split=29)\n"
      ],
      "execution_count": null,
      "outputs": []
    },
    {
      "cell_type": "code",
      "metadata": {
        "id": "TNPTCNCuz9NE"
      },
      "source": [
        "gt_fit = gt2.fit(X_train, Y_train)\n",
        "gt_p1 = gt2.predict(X_train)\n",
        "gtrain_score = accuracy_score(Y_train, gt_p1)*100\n",
        "gtrain_score"
      ],
      "execution_count": null,
      "outputs": []
    },
    {
      "cell_type": "code",
      "metadata": {
        "id": "24EtC-BTz9P5"
      },
      "source": [
        "gt_pt1 = gt2.predict(X_test)\n",
        "hotstar_score = accuracy_score(Y_test, gt_pt1)*100\n",
        "hotstar_score"
      ],
      "execution_count": null,
      "outputs": []
    },
    {
      "cell_type": "code",
      "metadata": {
        "id": "cLmSWck00S0t"
      },
      "source": [
        "print(classification_report(Y_test, gt_pt1))\n",
        "rf_cm = confusion_matrix(Y_test, gt_pt1)\n",
        "df_cm3 = pd.DataFrame(rf_cm, range(2), range(2))\n",
        "# plt.figure(figsize=(10,7))\n",
        "sns.set(font_scale=1.4) # for label size\n",
        "sns.heatmap(df_cm3, annot=True, cmap='Blues', annot_kws={\"size\": 16}, fmt='g') # font size\n",
        "plt.show()"
      ],
      "execution_count": null,
      "outputs": []
    },
    {
      "cell_type": "markdown",
      "metadata": {
        "id": "gGbH5-K7i3Pj"
      },
      "source": [
        "#Comparison of accuracy of the decision tree."
      ]
    },
    {
      "cell_type": "code",
      "metadata": {
        "id": "GZ1-nhPleRpS"
      },
      "source": [
        "modelacc = pd.DataFrame({\"Netflix_DT\": [gtest_score],\n",
        "                               \"Prime_DT\": [prime_score],\n",
        "                               \"Hotstar_DT\": [hotstar_score],\n",
        "                              })\n",
        "modelacc.plot.bar(align='edge', width=1,figsize=(10,8),ec=\"black\");\n",
        "plt.xlabel('Models', fontsize=20)\n",
        "plt.ylabel('Scores',fontsize=20)\n",
        "plt.legend(fontsize=15);"
      ],
      "execution_count": null,
      "outputs": []
    },
    {
      "cell_type": "markdown",
      "metadata": {
        "id": "gRBul9gl53Jy"
      },
      "source": [
        "**SVM**"
      ]
    },
    {
      "cell_type": "markdown",
      "metadata": {
        "id": "22lWlhavptAK"
      },
      "source": [
        "#svm for Netflix"
      ]
    },
    {
      "cell_type": "code",
      "metadata": {
        "id": "arDEALG4eg-L"
      },
      "source": [
        ""
      ],
      "execution_count": null,
      "outputs": []
    },
    {
      "cell_type": "code",
      "metadata": {
        "id": "vJc_i9QqehJJ"
      },
      "source": [
        "one_hot_data"
      ],
      "execution_count": null,
      "outputs": []
    },
    {
      "cell_type": "code",
      "metadata": {
        "id": "EqOdBMWxehZS"
      },
      "source": [
        ""
      ],
      "execution_count": null,
      "outputs": []
    },
    {
      "cell_type": "code",
      "metadata": {
        "id": "KCz65F0m0S3j"
      },
      "source": [
        "from sklearn import svm"
      ],
      "execution_count": null,
      "outputs": []
    },
    {
      "cell_type": "code",
      "metadata": {
        "id": "F99ebD2RrGkL"
      },
      "source": [
        "train, test = train_test_split(one_hot_data, test_size =0.35)"
      ],
      "execution_count": null,
      "outputs": []
    },
    {
      "cell_type": "code",
      "metadata": {
        "id": "6C0AcjFTrIqU"
      },
      "source": [
        "train.shape"
      ],
      "execution_count": null,
      "outputs": []
    },
    {
      "cell_type": "code",
      "metadata": {
        "id": "N7wjwRlLrI0k"
      },
      "source": [
        "test.shape"
      ],
      "execution_count": null,
      "outputs": []
    },
    {
      "cell_type": "code",
      "metadata": {
        "id": "6ommLP21p14A"
      },
      "source": [
        "features=['Overall_Rating','Age_31-50', 'Age_Less than 18','Most_watched_Movies','Most_watched_Original Web Series','Most_watched_Original Web Series, Movies','Most_watched_Movies, Documentaries' ]"
      ],
      "execution_count": null,
      "outputs": []
    },
    {
      "cell_type": "code",
      "metadata": {
        "id": "9HKgG2-Vp16X"
      },
      "source": [
        "X_train =train[features]\n",
        "Y_train =train[\"Platforms_Netflix\"]\n",
        "\n",
        "X_test = test[features]\n",
        "Y_test = test[\"Platforms_Netflix\"]"
      ],
      "execution_count": null,
      "outputs": []
    },
    {
      "cell_type": "code",
      "metadata": {
        "id": "0PPtJvc-p188"
      },
      "source": [
        "svmf = svm.SVC(C=10000000, kernel='rbf', degree=3)"
      ],
      "execution_count": null,
      "outputs": []
    },
    {
      "cell_type": "code",
      "metadata": {
        "id": "83Mw2jDzp1_d"
      },
      "source": [
        "model_svm = svmf.fit(X_train, Y_train)"
      ],
      "execution_count": null,
      "outputs": []
    },
    {
      "cell_type": "code",
      "metadata": {
        "id": "tjgMN_eIp2CT"
      },
      "source": [
        "pred_svm = model_svm.predict(X_test)"
      ],
      "execution_count": null,
      "outputs": []
    },
    {
      "cell_type": "code",
      "metadata": {
        "id": "_ioHYpm3p2FT"
      },
      "source": [
        "test_score_svm_netflix= accuracy_score(Y_test, pred_svm)*100\n",
        "test_score_svm_netflix"
      ],
      "execution_count": null,
      "outputs": []
    },
    {
      "cell_type": "code",
      "metadata": {
        "id": "GT4KTmFwsPu2"
      },
      "source": [
        "print(classification_report(Y_test, pred_svm ))\n",
        "rf_cm = confusion_matrix(Y_test, pred_svm )\n",
        "df_cm3 = pd.DataFrame(rf_cm, range(2), range(2))\n",
        "# plt.figure(figsize=(10,7))\n",
        "sns.set(font_scale=1.4) # for label size\n",
        "sns.heatmap(df_cm3, annot=True, cmap='Blues', annot_kws={\"size\": 16}, fmt='g') # font size\n",
        "plt.show()"
      ],
      "execution_count": null,
      "outputs": []
    },
    {
      "cell_type": "markdown",
      "metadata": {
        "id": "T6DuCk56px62"
      },
      "source": [
        "#SVM for Prime"
      ]
    },
    {
      "cell_type": "code",
      "metadata": {
        "id": "ZQfav3Whbho6"
      },
      "source": [
        "train, test = train_test_split(one_hot_data, test_size =0.20)"
      ],
      "execution_count": null,
      "outputs": []
    },
    {
      "cell_type": "code",
      "metadata": {
        "id": "eSikCjq0bj9p"
      },
      "source": [
        "train.shape"
      ],
      "execution_count": null,
      "outputs": []
    },
    {
      "cell_type": "code",
      "metadata": {
        "id": "jq5GhnM3bkax"
      },
      "source": [
        "test.shape"
      ],
      "execution_count": null,
      "outputs": []
    },
    {
      "cell_type": "code",
      "metadata": {
        "id": "oWrl-auIa1xm"
      },
      "source": [
        "features=['Overall_Rating','Most_watched_Original Web Series','Most_watched_Movies','Most_watched_Original Web Series, Movies','Most_watched_Movies', 'Most_watched_Original Web Series, Movies, Documentaries','Most_watched_Original Web Series, Documentaries','Age_31-50']"
      ],
      "execution_count": null,
      "outputs": []
    },
    {
      "cell_type": "code",
      "metadata": {
        "id": "_tf3gbpwa10U"
      },
      "source": [
        "X_train =train[features]\n",
        "Y_train =train[\"Platforms_Prime\"]\n",
        "\n",
        "X_test = test[features]\n",
        "Y_test = test[\"Platforms_Prime\"]"
      ],
      "execution_count": null,
      "outputs": []
    },
    {
      "cell_type": "code",
      "metadata": {
        "id": "cJc1MKK5a128"
      },
      "source": [
        "svmf = svm.SVC(C=10000000, kernel='rbf', degree=3)"
      ],
      "execution_count": null,
      "outputs": []
    },
    {
      "cell_type": "code",
      "metadata": {
        "id": "ocmOruKTa15s"
      },
      "source": [
        "model_svm = svmf.fit(X_train, Y_train)"
      ],
      "execution_count": null,
      "outputs": []
    },
    {
      "cell_type": "code",
      "metadata": {
        "id": "7zAI50HVa18o"
      },
      "source": [
        "pred_svm = model_svm.predict(X_test)"
      ],
      "execution_count": null,
      "outputs": []
    },
    {
      "cell_type": "code",
      "metadata": {
        "id": "hL7cepG_a1_n"
      },
      "source": [
        "test_score_svm = accuracy_score(Y_test, pred_svm)*100\n",
        "test_score_svm"
      ],
      "execution_count": null,
      "outputs": []
    },
    {
      "cell_type": "code",
      "metadata": {
        "id": "Q2oPcl_ebVaT"
      },
      "source": [
        "print(classification_report(Y_test, pred_svm ))\n",
        "rf_cm = confusion_matrix(Y_test, pred_svm )\n",
        "df_cm3 = pd.DataFrame(rf_cm, range(2), range(2))\n",
        "# plt.figure(figsize=(10,7))\n",
        "sns.set(font_scale=1.4) # for label size\n",
        "sns.heatmap(df_cm3, annot=True, cmap='Blues', annot_kws={\"size\": 16}, fmt='g') # font size\n",
        "plt.show()"
      ],
      "execution_count": null,
      "outputs": []
    },
    {
      "cell_type": "markdown",
      "metadata": {
        "id": "TJM3_f73pmGk"
      },
      "source": [
        "#for Hotstar"
      ]
    },
    {
      "cell_type": "code",
      "metadata": {
        "id": "C5A6cltncha9"
      },
      "source": [
        "train, test = train_test_split(one_hot_data, test_size =0.35)"
      ],
      "execution_count": null,
      "outputs": []
    },
    {
      "cell_type": "code",
      "metadata": {
        "id": "Pj7AuNFlci9K"
      },
      "source": [
        "train.shape"
      ],
      "execution_count": null,
      "outputs": []
    },
    {
      "cell_type": "code",
      "metadata": {
        "id": "Yt-T8NV8cjAb"
      },
      "source": [
        "test.shape"
      ],
      "execution_count": null,
      "outputs": []
    },
    {
      "cell_type": "code",
      "metadata": {
        "id": "zt8XmEAUpdt9"
      },
      "source": [
        "features=['Overall_Rating','Most_watched_Original Web Series','Most_watched_Movies','Most_watched_Movies, Documentaries, Sports and News','Most_watched_Sports and News','Most_watched_Original Web Series, Movies, Documentaries','Most_watched_Original Web Series, Sports and News', 'Age_31-50', 'Age_Less than 18', 'Age_More than 50']"
      ],
      "execution_count": null,
      "outputs": []
    },
    {
      "cell_type": "code",
      "metadata": {
        "id": "0SDR6kqUpdxK"
      },
      "source": [
        "X_train =train[features]\n",
        "Y_train =train[\"Platforms_Hotstar\"]\n",
        "\n",
        "X_test = test[features]\n",
        "Y_test = test[\"Platforms_Hotstar\"]"
      ],
      "execution_count": null,
      "outputs": []
    },
    {
      "cell_type": "code",
      "metadata": {
        "id": "7v3dLnlq0S6N"
      },
      "source": [
        "svmf = svm.SVC(C=10000000, kernel='rbf', degree=3)"
      ],
      "execution_count": null,
      "outputs": []
    },
    {
      "cell_type": "code",
      "metadata": {
        "id": "i29hzTUX5Okg"
      },
      "source": [
        "model_svm = svmf.fit(X_train, Y_train)"
      ],
      "execution_count": null,
      "outputs": []
    },
    {
      "cell_type": "code",
      "metadata": {
        "id": "voiIuTon5Onx"
      },
      "source": [
        "pred_svm = model_svm.predict(X_test)"
      ],
      "execution_count": null,
      "outputs": []
    },
    {
      "cell_type": "code",
      "metadata": {
        "id": "czUGWnO75Oq1"
      },
      "source": [
        "test_score_svm_hotstar = accuracy_score(Y_test, pred_svm)*100\n",
        "test_score_svm_hotstar"
      ],
      "execution_count": null,
      "outputs": []
    },
    {
      "cell_type": "code",
      "metadata": {
        "id": "jNBAwCVS5jem"
      },
      "source": [
        "print(classification_report(Y_test, pred_svm ))\n",
        "rf_cm = confusion_matrix(Y_test, pred_svm )\n",
        "df_cm3 = pd.DataFrame(rf_cm, range(2), range(2))\n",
        "# plt.figure(figsize=(10,7))\n",
        "sns.set(font_scale=1.4) # for label size\n",
        "sns.heatmap(df_cm3, annot=True, cmap='Blues', annot_kws={\"size\": 16}, fmt='g') # font size\n",
        "plt.show()"
      ],
      "execution_count": null,
      "outputs": []
    },
    {
      "cell_type": "code",
      "metadata": {
        "id": "lauybEBLlQfJ"
      },
      "source": [
        "modelacc = pd.DataFrame({\"Netflix_svm\": [test_score_svm_netflix],\n",
        "                               \"Prime_svm\": [test_score_svm],\n",
        "                               \"Hotstar_svm\": [test_score_svm_hotstar],\n",
        "                              })\n",
        "modelacc.plot.bar(align='edge', width=1,figsize=(10,8),ec=\"black\");\n",
        "plt.xlabel('Models', fontsize=20)\n",
        "plt.ylabel('Scores',fontsize=20)\n",
        "plt.legend(fontsize=15);"
      ],
      "execution_count": null,
      "outputs": []
    },
    {
      "cell_type": "markdown",
      "metadata": {
        "id": "Cs4IayLZ56lm"
      },
      "source": [
        "**LR**"
      ]
    },
    {
      "cell_type": "markdown",
      "metadata": {
        "id": "zIHeuR3p_RPl"
      },
      "source": [
        "Netflix"
      ]
    },
    {
      "cell_type": "code",
      "metadata": {
        "id": "sL2QCyxLYpHd"
      },
      "source": [
        "one_hot_data1 = pd.get_dummies(data[['Platforms','Most_watched','Age','Netflix_Rating_Og','Prime_Rating_Og','Hotstar_Rating_Og','Netflix_Rating_movie',\n",
        "       'Netflix_Rating_documentry', 'Netflix_Rating_others','Prime_Rating_movie', 'Prime_Rating_documentry', 'Prime_Rating_others','Hotstar_Rating_movie',\n",
        "       'Hotstar_Rating_documentry', 'Hotstar_Rating_sports']])\n",
        "one_hot_data1"
      ],
      "execution_count": null,
      "outputs": []
    },
    {
      "cell_type": "code",
      "metadata": {
        "id": "kY2G52vbhcFD"
      },
      "source": [
        "one_hot_data1 = pd.get_dummies(data[['Platforms','Most_watched','Age','Netflix_Rating_Og','Prime_Rating_Og','Hotstar_Rating_Og','Netflix_Rating_movie',\n",
        "       'Netflix_Rating_documentry', 'Netflix_Rating_others','Prime_Rating_movie', 'Prime_Rating_documentry', 'Prime_Rating_others','Hotstar_Rating_movie',\n",
        "       'Hotstar_Rating_documentry', 'Hotstar_Rating_sports']],drop_first=True)\n",
        "one_hot_data1"
      ],
      "execution_count": null,
      "outputs": []
    },
    {
      "cell_type": "code",
      "metadata": {
        "id": "_5Nzvv-6hdhA"
      },
      "source": [
        "one_hot_data1.columns"
      ],
      "execution_count": null,
      "outputs": []
    },
    {
      "cell_type": "code",
      "metadata": {
        "id": "VDOXKjwoAWNn"
      },
      "source": [
        "from sklearn.linear_model import LogisticRegression\n",
        "from sklearn.model_selection import cross_val_score\n"
      ],
      "execution_count": null,
      "outputs": []
    },
    {
      "cell_type": "code",
      "metadata": {
        "id": "HBinauo26AxT"
      },
      "source": [
        "lr = LogisticRegression()\n",
        "columns =['Platforms_Netflix','Age_31-50','Age_Less than 18','Age_More than 50']\n",
        "lr.fit(one_hot_data1[columns], one_hot_data1['Netflix_Rating_Og'])"
      ],
      "execution_count": null,
      "outputs": []
    },
    {
      "cell_type": "code",
      "metadata": {
        "id": "EUcwR5rl6Az4"
      },
      "source": [
        "X = one_hot_data1[columns]\n",
        "y = one_hot_data1['Netflix_Rating_Og']\n",
        "\n",
        "train_X, val_X, train_y, val_y = train_test_split(\n",
        "    X, y, test_size=0.20,random_state=0)"
      ],
      "execution_count": null,
      "outputs": []
    },
    {
      "cell_type": "code",
      "metadata": {
        "id": "z0ro4z1X6A2x"
      },
      "source": [
        "lr = LogisticRegression()\n",
        "lr.fit(train_X, train_y)\n",
        "predictions_netflix = lr.predict(val_X)\n",
        "accuracy_netflix = accuracy_score(val_y, predictions_netflix)\n",
        "print(accuracy_netflix)\n",
        "from sklearn.metrics import classification_report\n",
        "print(classification_report(val_y,predictions_netflix))"
      ],
      "execution_count": null,
      "outputs": []
    },
    {
      "cell_type": "markdown",
      "metadata": {
        "id": "73qs_Ad9BYol"
      },
      "source": [
        "**Prime**"
      ]
    },
    {
      "cell_type": "code",
      "metadata": {
        "id": "EF2K2llo6A52"
      },
      "source": [
        "lr = LogisticRegression()\n",
        "columns =['Platforms_Prime','Age_31-50','Age_Less than 18','Age_More than 50']\n",
        "lr.fit(one_hot_data1[columns], one_hot_data1['Prime_Rating_Og'])"
      ],
      "execution_count": null,
      "outputs": []
    },
    {
      "cell_type": "code",
      "metadata": {
        "id": "7nNl_kr56A8v"
      },
      "source": [
        "X = one_hot_data1[columns]\n",
        "y = one_hot_data1['Prime_Rating_Og']\n",
        "\n",
        "train_X, val_X, train_y, val_y = train_test_split(\n",
        "    X, y, test_size=0.25,random_state=0)"
      ],
      "execution_count": null,
      "outputs": []
    },
    {
      "cell_type": "code",
      "metadata": {
        "id": "eUJQiwlv6BBJ"
      },
      "source": [
        "lr = LogisticRegression()\n",
        "lr.fit(train_X, train_y)\n",
        "predictions_prime = lr.predict(val_X)\n",
        "accuracy_prime = accuracy_score(val_y, predictions_prime)\n",
        "print(accuracy_prime)\n",
        "from sklearn.metrics import classification_report\n",
        "print(classification_report(val_y,predictions_prime))"
      ],
      "execution_count": null,
      "outputs": []
    },
    {
      "cell_type": "markdown",
      "metadata": {
        "id": "PmBLgkFsCmOC"
      },
      "source": [
        "Hotstar"
      ]
    },
    {
      "cell_type": "code",
      "metadata": {
        "id": "GQe1KA2P6BEW"
      },
      "source": [
        "lr = LogisticRegression()\n",
        "columns =['Platforms_Hotstar','Age_31-50', 'Age_Less than 18','Age_More than 50']\n",
        "lr.fit(one_hot_data1[columns], one_hot_data1['Hotstar_Rating_Og'])"
      ],
      "execution_count": null,
      "outputs": []
    },
    {
      "cell_type": "code",
      "metadata": {
        "id": "08ke-_3i6BHQ"
      },
      "source": [
        "X = one_hot_data1[columns]\n",
        "y = one_hot_data1['Hotstar_Rating_Og']\n",
        "\n",
        "train_X, val_X, train_y, val_y = train_test_split(\n",
        "    X, y, test_size=0.30,random_state=0)"
      ],
      "execution_count": null,
      "outputs": []
    },
    {
      "cell_type": "code",
      "metadata": {
        "id": "Yq6OKyV16BJp"
      },
      "source": [
        "lr = LogisticRegression()\n",
        "lr.fit(train_X, train_y)\n",
        "predictions_hotstar = lr.predict(val_X)\n",
        "accuracy_hotstar = accuracy_score(val_y, predictions_hotstar)\n",
        "print(accuracy_hotstar)\n",
        "from sklearn.metrics import classification_report\n",
        "print(classification_report(val_y,predictions_hotstar))"
      ],
      "execution_count": null,
      "outputs": []
    },
    {
      "cell_type": "code",
      "metadata": {
        "id": "AhEr1V3HmFzt"
      },
      "source": [
        "modelacc = pd.DataFrame({\"Netflix_LR\": [accuracy_netflix],\n",
        "                               \"Prime_LR\": [accuracy_prime],\n",
        "                               \"Hotstar_LR\": [accuracy_hotstar],\n",
        "                              })\n",
        "modelacc.plot.bar(align='edge', width=1,figsize=(10,8),ec=\"black\");\n",
        "plt.xlabel('Models', fontsize=20)\n",
        "plt.ylabel('Scores',fontsize=20)\n",
        "plt.legend(fontsize=15);"
      ],
      "execution_count": null,
      "outputs": []
    }
  ]
}