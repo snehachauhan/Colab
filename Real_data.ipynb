{
  "nbformat": 4,
  "nbformat_minor": 0,
  "metadata": {
    "colab": {
      "name": "Real_data",
      "provenance": [],
      "collapsed_sections": [
        "HIgMGg4NXACO",
        "Rpnsm8WAXKW6",
        "jXEeZgvXXVIx",
        "AEWvMpmMX5cQ",
        "rIHvGzeuYOcz",
        "47bVv_TpbtBv",
        "bQtLUT9fb2bX"
      ]
    },
    "kernelspec": {
      "display_name": "Python 3",
      "name": "python3"
    },
    "language_info": {
      "name": "python"
    }
  },
  "cells": [
    {
      "cell_type": "code",
      "metadata": {
        "id": "UZDcBxSUAKDU",
        "colab": {
          "base_uri": "https://localhost:8080/"
        },
        "outputId": "14bca215-258c-42f6-9f45-265ea24bbcc9"
      },
      "source": [
        "from google.colab import drive\n",
        "drive.mount(\"/content/drive\")"
      ],
      "execution_count": 34,
      "outputs": [
        {
          "output_type": "stream",
          "text": [
            "Drive already mounted at /content/drive; to attempt to forcibly remount, call drive.mount(\"/content/drive\", force_remount=True).\n"
          ],
          "name": "stdout"
        }
      ]
    },
    {
      "cell_type": "markdown",
      "metadata": {
        "id": "fdP8ntTlQX_z"
      },
      "source": [
        ""
      ]
    },
    {
      "cell_type": "code",
      "metadata": {
        "colab": {
          "base_uri": "https://localhost:8080/"
        },
        "id": "BlGL47K7AVRx",
        "outputId": "4fe075f9-ad98-454c-fab3-1ed1db2e2a6e"
      },
      "source": [
        "!pip install scikit-plot"
      ],
      "execution_count": 35,
      "outputs": [
        {
          "output_type": "stream",
          "text": [
            "Requirement already satisfied: scikit-plot in /usr/local/lib/python3.7/dist-packages (0.3.7)\n",
            "Requirement already satisfied: scipy>=0.9 in /usr/local/lib/python3.7/dist-packages (from scikit-plot) (1.4.1)\n",
            "Requirement already satisfied: matplotlib>=1.4.0 in /usr/local/lib/python3.7/dist-packages (from scikit-plot) (3.2.2)\n",
            "Requirement already satisfied: scikit-learn>=0.18 in /usr/local/lib/python3.7/dist-packages (from scikit-plot) (0.22.2.post1)\n",
            "Requirement already satisfied: joblib>=0.10 in /usr/local/lib/python3.7/dist-packages (from scikit-plot) (1.0.1)\n",
            "Requirement already satisfied: numpy>=1.13.3 in /usr/local/lib/python3.7/dist-packages (from scipy>=0.9->scikit-plot) (1.19.5)\n",
            "Requirement already satisfied: kiwisolver>=1.0.1 in /usr/local/lib/python3.7/dist-packages (from matplotlib>=1.4.0->scikit-plot) (1.3.1)\n",
            "Requirement already satisfied: pyparsing!=2.0.4,!=2.1.2,!=2.1.6,>=2.0.1 in /usr/local/lib/python3.7/dist-packages (from matplotlib>=1.4.0->scikit-plot) (2.4.7)\n",
            "Requirement already satisfied: python-dateutil>=2.1 in /usr/local/lib/python3.7/dist-packages (from matplotlib>=1.4.0->scikit-plot) (2.8.1)\n",
            "Requirement already satisfied: cycler>=0.10 in /usr/local/lib/python3.7/dist-packages (from matplotlib>=1.4.0->scikit-plot) (0.10.0)\n",
            "Requirement already satisfied: six>=1.5 in /usr/local/lib/python3.7/dist-packages (from python-dateutil>=2.1->matplotlib>=1.4.0->scikit-plot) (1.15.0)\n"
          ],
          "name": "stdout"
        }
      ]
    },
    {
      "cell_type": "markdown",
      "metadata": {
        "id": "Dsk2HaEzQZqT"
      },
      "source": [
        "**Import the Packages**"
      ]
    },
    {
      "cell_type": "code",
      "metadata": {
        "id": "YIWFfrjzAVUj"
      },
      "source": [
        "import pandas as pd\n",
        "import numpy as np\n",
        "from sklearn import tree,svm\n",
        "from sklearn.model_selection import train_test_split, GridSearchCV\n",
        "from sklearn.tree import DecisionTreeClassifier\n",
        "from matplotlib import pyplot as plt\n",
        "import seaborn as sns\n",
        "import graphviz\n",
        "from sklearn.tree import export_graphviz\n",
        "from sklearn.metrics import classification_report, confusion_matrix, accuracy_score,roc_curve,auc,recall_score,precision_score\n",
        "from sklearn.ensemble import RandomForestClassifier\n",
        "import scikitplot as skplt\n",
        "%matplotlib inline"
      ],
      "execution_count": null,
      "outputs": []
    },
    {
      "cell_type": "markdown",
      "metadata": {
        "id": "J9vmdyEgQmd0"
      },
      "source": [
        "**Read the file**"
      ]
    },
    {
      "cell_type": "code",
      "metadata": {
        "id": "mt9_SecpAVXW"
      },
      "source": [
        "data=pd.read_csv(\"/content/drive/MyDrive/Dataset/Project_Data.csv\")"
      ],
      "execution_count": 36,
      "outputs": []
    },
    {
      "cell_type": "code",
      "metadata": {
        "colab": {
          "base_uri": "https://localhost:8080/",
          "height": 1000
        },
        "id": "lp8snJS7AVaV",
        "outputId": "5b2380b7-53c5-4bbf-aa6b-9821c72bb239"
      },
      "source": [
        "data"
      ],
      "execution_count": null,
      "outputs": [
        {
          "output_type": "execute_result",
          "data": {
            "text/html": [
              "<div>\n",
              "<style scoped>\n",
              "    .dataframe tbody tr th:only-of-type {\n",
              "        vertical-align: middle;\n",
              "    }\n",
              "\n",
              "    .dataframe tbody tr th {\n",
              "        vertical-align: top;\n",
              "    }\n",
              "\n",
              "    .dataframe thead th {\n",
              "        text-align: right;\n",
              "    }\n",
              "</style>\n",
              "<table border=\"1\" class=\"dataframe\">\n",
              "  <thead>\n",
              "    <tr style=\"text-align: right;\">\n",
              "      <th></th>\n",
              "      <th>Timestamp</th>\n",
              "      <th>Do you use  Video Streaming Platforms?</th>\n",
              "      <th>What is your Age?</th>\n",
              "      <th>How frequently you watch or stream online platforms?</th>\n",
              "      <th>What do you watch most on Video Streaming Platforms?</th>\n",
              "      <th>On what basis you frequently choose to watch on the Streaming Platforms?</th>\n",
              "      <th>Which of the following Subscription Based Video Streaming Platform do you currently use?</th>\n",
              "      <th>On what basis do you subscribe any of the above Platforms?</th>\n",
              "      <th>How long you are using these Video Streaming Platforms?</th>\n",
              "      <th>On scale of 5,Can you rate the Netflix? [Original Web Series]</th>\n",
              "      <th>On scale of 5,Can you rate the Netflix? [Movies]</th>\n",
              "      <th>On scale of 5,Can you rate the Netflix? [Documentaries]</th>\n",
              "      <th>On scale of 5,Can you rate the Netflix? [Others]</th>\n",
              "      <th>On scale of 5,Can you rate the Prime? [Original Web Series]</th>\n",
              "      <th>On scale of 5,Can you rate the Prime? [Movies]</th>\n",
              "      <th>On scale of 5,Can you rate the Prime? [Documentaries]</th>\n",
              "      <th>On scale of 5,Can you rate the Prime? [Sports and News]</th>\n",
              "      <th>On scale of 5,Can you rate the Hotstar? [Original Web Series]</th>\n",
              "      <th>On scale of 5,Can you rate the Hotstar? [Movies]</th>\n",
              "      <th>On scale of 5,Can you rate the Hotstar? [Documentaries]</th>\n",
              "      <th>On scale of 5,Can you rate the Hotstar? [Sports and News]</th>\n",
              "      <th>Have you watch or familiar with these original Web Series of Netflix?</th>\n",
              "      <th>Have you watch or familiar with these original Web Series of Prime?</th>\n",
              "      <th>Have you watch or familiar with these original Web Series of Hotstar?</th>\n",
              "      <th>From where did you get the idea of these Web Series?</th>\n",
              "      <th>Choose the features which you think is essential on your streaming platforms.</th>\n",
              "      <th>How was your overall experience of video streaming platform according to Original Series?</th>\n",
              "      <th>suggestions for the improvement of video streaming platforms?</th>\n",
              "    </tr>\n",
              "  </thead>\n",
              "  <tbody>\n",
              "    <tr>\n",
              "      <th>0</th>\n",
              "      <td>5/8/2021 13:40:40</td>\n",
              "      <td>Yes</td>\n",
              "      <td>18-30</td>\n",
              "      <td>Daily</td>\n",
              "      <td>All of the above</td>\n",
              "      <td>All of the above</td>\n",
              "      <td>Prime</td>\n",
              "      <td>Original Web Series</td>\n",
              "      <td>More than 2 Year</td>\n",
              "      <td>4</td>\n",
              "      <td>4</td>\n",
              "      <td>4</td>\n",
              "      <td>3</td>\n",
              "      <td>5</td>\n",
              "      <td>5</td>\n",
              "      <td>5</td>\n",
              "      <td>5</td>\n",
              "      <td>3</td>\n",
              "      <td>2</td>\n",
              "      <td>2</td>\n",
              "      <td>2</td>\n",
              "      <td>Sacred Games, 13 Reason Why, Money Heist</td>\n",
              "      <td>All of the above</td>\n",
              "      <td>None</td>\n",
              "      <td>All of the above</td>\n",
              "      <td>Search Option</td>\n",
              "      <td>Good</td>\n",
              "      <td>Remove Ads/Limit Ads duration</td>\n",
              "    </tr>\n",
              "    <tr>\n",
              "      <th>1</th>\n",
              "      <td>5/8/2021 13:44:41</td>\n",
              "      <td>Yes</td>\n",
              "      <td>18-30</td>\n",
              "      <td>Once or twice in a week</td>\n",
              "      <td>Original Web Series</td>\n",
              "      <td>Story</td>\n",
              "      <td>Netflix</td>\n",
              "      <td>Original Web Series</td>\n",
              "      <td>Between 1 and 2 Year</td>\n",
              "      <td>5</td>\n",
              "      <td>5</td>\n",
              "      <td>5</td>\n",
              "      <td>5</td>\n",
              "      <td>4</td>\n",
              "      <td>4</td>\n",
              "      <td>3</td>\n",
              "      <td>1</td>\n",
              "      <td>3</td>\n",
              "      <td>2</td>\n",
              "      <td>1</td>\n",
              "      <td>1</td>\n",
              "      <td>All of the Above</td>\n",
              "      <td>Mirzapur</td>\n",
              "      <td>None</td>\n",
              "      <td>Social Media</td>\n",
              "      <td>Search Option</td>\n",
              "      <td>Good</td>\n",
              "      <td>Decrease Subscription Price</td>\n",
              "    </tr>\n",
              "    <tr>\n",
              "      <th>2</th>\n",
              "      <td>5/8/2021 13:44:51</td>\n",
              "      <td>Yes</td>\n",
              "      <td>18-30</td>\n",
              "      <td>Once or twice in a week</td>\n",
              "      <td>Movies</td>\n",
              "      <td>Story</td>\n",
              "      <td>Hotstar</td>\n",
              "      <td>All of the above</td>\n",
              "      <td>Between 1 and 2 Year</td>\n",
              "      <td>5</td>\n",
              "      <td>4</td>\n",
              "      <td>4</td>\n",
              "      <td>4</td>\n",
              "      <td>4</td>\n",
              "      <td>3</td>\n",
              "      <td>4</td>\n",
              "      <td>4</td>\n",
              "      <td>4</td>\n",
              "      <td>5</td>\n",
              "      <td>4</td>\n",
              "      <td>5</td>\n",
              "      <td>Sacred Games, Money Heist</td>\n",
              "      <td>Mirzapur, Tandav</td>\n",
              "      <td>Criminal Justice, Arya</td>\n",
              "      <td>All of the above</td>\n",
              "      <td>Recommendation</td>\n",
              "      <td>Excellent</td>\n",
              "      <td>Remove Ads/Limit Ads duration</td>\n",
              "    </tr>\n",
              "    <tr>\n",
              "      <th>3</th>\n",
              "      <td>5/8/2021 13:49:19</td>\n",
              "      <td>Yes</td>\n",
              "      <td>31-50</td>\n",
              "      <td>Monthly</td>\n",
              "      <td>Movies, Documentaries, Sports and News</td>\n",
              "      <td>All of the above</td>\n",
              "      <td>Hotstar</td>\n",
              "      <td>Sports and News</td>\n",
              "      <td>Between 1 and 2 Year</td>\n",
              "      <td>1</td>\n",
              "      <td>1</td>\n",
              "      <td>1</td>\n",
              "      <td>1</td>\n",
              "      <td>1</td>\n",
              "      <td>1</td>\n",
              "      <td>1</td>\n",
              "      <td>1</td>\n",
              "      <td>4</td>\n",
              "      <td>4</td>\n",
              "      <td>5</td>\n",
              "      <td>5</td>\n",
              "      <td>None</td>\n",
              "      <td>None</td>\n",
              "      <td>All of the above</td>\n",
              "      <td>Television</td>\n",
              "      <td>Ease of use</td>\n",
              "      <td>Good</td>\n",
              "      <td>Availability in Languages</td>\n",
              "    </tr>\n",
              "    <tr>\n",
              "      <th>4</th>\n",
              "      <td>5/8/2021 14:39:38</td>\n",
              "      <td>Yes</td>\n",
              "      <td>18-30</td>\n",
              "      <td>Once or twice in a week</td>\n",
              "      <td>Movies</td>\n",
              "      <td>All of the above</td>\n",
              "      <td>All of the above</td>\n",
              "      <td>All of the above</td>\n",
              "      <td>More than 2 Year</td>\n",
              "      <td>3</td>\n",
              "      <td>4</td>\n",
              "      <td>2</td>\n",
              "      <td>1</td>\n",
              "      <td>4</td>\n",
              "      <td>5</td>\n",
              "      <td>4</td>\n",
              "      <td>4</td>\n",
              "      <td>3</td>\n",
              "      <td>3</td>\n",
              "      <td>3</td>\n",
              "      <td>3</td>\n",
              "      <td>Sacred Games, 13 Reason Why</td>\n",
              "      <td>All of the above</td>\n",
              "      <td>Speacial OPS</td>\n",
              "      <td>All of the above</td>\n",
              "      <td>All of the above</td>\n",
              "      <td>Good</td>\n",
              "      <td>Remove Ads/Limit Ads duration</td>\n",
              "    </tr>\n",
              "    <tr>\n",
              "      <th>...</th>\n",
              "      <td>...</td>\n",
              "      <td>...</td>\n",
              "      <td>...</td>\n",
              "      <td>...</td>\n",
              "      <td>...</td>\n",
              "      <td>...</td>\n",
              "      <td>...</td>\n",
              "      <td>...</td>\n",
              "      <td>...</td>\n",
              "      <td>...</td>\n",
              "      <td>...</td>\n",
              "      <td>...</td>\n",
              "      <td>...</td>\n",
              "      <td>...</td>\n",
              "      <td>...</td>\n",
              "      <td>...</td>\n",
              "      <td>...</td>\n",
              "      <td>...</td>\n",
              "      <td>...</td>\n",
              "      <td>...</td>\n",
              "      <td>...</td>\n",
              "      <td>...</td>\n",
              "      <td>...</td>\n",
              "      <td>...</td>\n",
              "      <td>...</td>\n",
              "      <td>...</td>\n",
              "      <td>...</td>\n",
              "      <td>...</td>\n",
              "    </tr>\n",
              "    <tr>\n",
              "      <th>245</th>\n",
              "      <td>5/20/2021 23:23:40</td>\n",
              "      <td>Yes</td>\n",
              "      <td>Less than 18</td>\n",
              "      <td>Monthly</td>\n",
              "      <td>Original Web Series, Movies</td>\n",
              "      <td>Story, Director</td>\n",
              "      <td>Netflix</td>\n",
              "      <td>All of the above</td>\n",
              "      <td>More than 2 Year</td>\n",
              "      <td>4</td>\n",
              "      <td>5</td>\n",
              "      <td>4</td>\n",
              "      <td>4</td>\n",
              "      <td>5</td>\n",
              "      <td>4</td>\n",
              "      <td>4</td>\n",
              "      <td>5</td>\n",
              "      <td>5</td>\n",
              "      <td>4</td>\n",
              "      <td>4</td>\n",
              "      <td>5</td>\n",
              "      <td>All of the Above</td>\n",
              "      <td>All of the above</td>\n",
              "      <td>All of the above</td>\n",
              "      <td>All of the above</td>\n",
              "      <td>All of the above</td>\n",
              "      <td>Good</td>\n",
              "      <td>Availability in Languages</td>\n",
              "    </tr>\n",
              "    <tr>\n",
              "      <th>246</th>\n",
              "      <td>5/20/2021 23:24:20</td>\n",
              "      <td>Yes</td>\n",
              "      <td>31-50</td>\n",
              "      <td>Monthly</td>\n",
              "      <td>Movies</td>\n",
              "      <td>Director</td>\n",
              "      <td>Netflix</td>\n",
              "      <td>Movies</td>\n",
              "      <td>Between 1 and 2 Year</td>\n",
              "      <td>5</td>\n",
              "      <td>4</td>\n",
              "      <td>4</td>\n",
              "      <td>4</td>\n",
              "      <td>5</td>\n",
              "      <td>5</td>\n",
              "      <td>4</td>\n",
              "      <td>4</td>\n",
              "      <td>5</td>\n",
              "      <td>5</td>\n",
              "      <td>4</td>\n",
              "      <td>4</td>\n",
              "      <td>The Witcher, Money Heist</td>\n",
              "      <td>Mirzapur, Tandav</td>\n",
              "      <td>Hostages, Arya</td>\n",
              "      <td>Television</td>\n",
              "      <td>All of the above</td>\n",
              "      <td>Excellent</td>\n",
              "      <td>Improvement in Story ,Casting</td>\n",
              "    </tr>\n",
              "    <tr>\n",
              "      <th>247</th>\n",
              "      <td>5/20/2021 23:25:03</td>\n",
              "      <td>Yes</td>\n",
              "      <td>18-30</td>\n",
              "      <td>Once or twice in a week</td>\n",
              "      <td>Movies, Sports and News</td>\n",
              "      <td>Story, Director</td>\n",
              "      <td>Prime</td>\n",
              "      <td>Movies</td>\n",
              "      <td>Less than 1 Year</td>\n",
              "      <td>5</td>\n",
              "      <td>4</td>\n",
              "      <td>4</td>\n",
              "      <td>3</td>\n",
              "      <td>5</td>\n",
              "      <td>4</td>\n",
              "      <td>4</td>\n",
              "      <td>4</td>\n",
              "      <td>5</td>\n",
              "      <td>4</td>\n",
              "      <td>4</td>\n",
              "      <td>5</td>\n",
              "      <td>Sacred Games, Money Heist</td>\n",
              "      <td>Mirzapur, Breath into the shadow</td>\n",
              "      <td>Hostages, Arya</td>\n",
              "      <td>Television</td>\n",
              "      <td>Ease of use</td>\n",
              "      <td>Good</td>\n",
              "      <td>Remove Ads/Limit Ads duration</td>\n",
              "    </tr>\n",
              "    <tr>\n",
              "      <th>248</th>\n",
              "      <td>5/20/2021 23:25:47</td>\n",
              "      <td>Yes</td>\n",
              "      <td>18-30</td>\n",
              "      <td>Once or twice in a week</td>\n",
              "      <td>Movies, Sports and News</td>\n",
              "      <td>Director</td>\n",
              "      <td>Prime</td>\n",
              "      <td>Movies</td>\n",
              "      <td>Less than 1 Year</td>\n",
              "      <td>5</td>\n",
              "      <td>4</td>\n",
              "      <td>4</td>\n",
              "      <td>3</td>\n",
              "      <td>5</td>\n",
              "      <td>4</td>\n",
              "      <td>4</td>\n",
              "      <td>4</td>\n",
              "      <td>5</td>\n",
              "      <td>4</td>\n",
              "      <td>4</td>\n",
              "      <td>5</td>\n",
              "      <td>Sacred Games, The Witcher</td>\n",
              "      <td>Mirzapur, Made in heaven</td>\n",
              "      <td>Criminal Justice</td>\n",
              "      <td>Television</td>\n",
              "      <td>Recommendation</td>\n",
              "      <td>Excellent</td>\n",
              "      <td>Decrease Subscription Price</td>\n",
              "    </tr>\n",
              "    <tr>\n",
              "      <th>249</th>\n",
              "      <td>5/20/2021 23:26:24</td>\n",
              "      <td>Yes</td>\n",
              "      <td>31-50</td>\n",
              "      <td>Monthly</td>\n",
              "      <td>All of the above</td>\n",
              "      <td>All of the above</td>\n",
              "      <td>All of the above</td>\n",
              "      <td>All of the above</td>\n",
              "      <td>Between 1 and 2 Year</td>\n",
              "      <td>5</td>\n",
              "      <td>4</td>\n",
              "      <td>4</td>\n",
              "      <td>3</td>\n",
              "      <td>5</td>\n",
              "      <td>4</td>\n",
              "      <td>4</td>\n",
              "      <td>5</td>\n",
              "      <td>5</td>\n",
              "      <td>4</td>\n",
              "      <td>3</td>\n",
              "      <td>4</td>\n",
              "      <td>All of the Above</td>\n",
              "      <td>All of the above</td>\n",
              "      <td>All of the above</td>\n",
              "      <td>All of the above</td>\n",
              "      <td>Ease of use</td>\n",
              "      <td>Excellent</td>\n",
              "      <td>Availability in Languages</td>\n",
              "    </tr>\n",
              "  </tbody>\n",
              "</table>\n",
              "<p>250 rows × 28 columns</p>\n",
              "</div>"
            ],
            "text/plain": [
              "              Timestamp  ... suggestions for the improvement of video streaming platforms? \n",
              "0     5/8/2021 13:40:40  ...                      Remove Ads/Limit Ads duration            \n",
              "1     5/8/2021 13:44:41  ...                        Decrease Subscription Price            \n",
              "2     5/8/2021 13:44:51  ...                      Remove Ads/Limit Ads duration            \n",
              "3     5/8/2021 13:49:19  ...                          Availability in Languages            \n",
              "4     5/8/2021 14:39:38  ...                      Remove Ads/Limit Ads duration            \n",
              "..                  ...  ...                                                ...            \n",
              "245  5/20/2021 23:23:40  ...                          Availability in Languages            \n",
              "246  5/20/2021 23:24:20  ...                      Improvement in Story ,Casting            \n",
              "247  5/20/2021 23:25:03  ...                      Remove Ads/Limit Ads duration            \n",
              "248  5/20/2021 23:25:47  ...                        Decrease Subscription Price            \n",
              "249  5/20/2021 23:26:24  ...                          Availability in Languages            \n",
              "\n",
              "[250 rows x 28 columns]"
            ]
          },
          "metadata": {
            "tags": []
          },
          "execution_count": 5
        }
      ]
    },
    {
      "cell_type": "code",
      "metadata": {
        "colab": {
          "base_uri": "https://localhost:8080/"
        },
        "id": "MDQ10pf1AVdR",
        "outputId": "d558e772-333d-4d9a-a9e3-6badc6b6d170"
      },
      "source": [
        "data.columns"
      ],
      "execution_count": 37,
      "outputs": [
        {
          "output_type": "execute_result",
          "data": {
            "text/plain": [
              "Index(['Timestamp', 'Do you use  Video Streaming Platforms?',\n",
              "       'What is your Age?',\n",
              "       'How frequently you watch or stream online platforms?',\n",
              "       'What do you watch most on Video Streaming Platforms?',\n",
              "       'On what basis you frequently choose to watch on the Streaming Platforms?',\n",
              "       'Which of the following Subscription Based Video Streaming Platform do you currently use?',\n",
              "       'On what basis do you subscribe any of the above Platforms?',\n",
              "       'How long you are using these Video Streaming Platforms?',\n",
              "       'On scale of 5,Can you rate the Netflix? [Original Web Series]',\n",
              "       'On scale of 5,Can you rate the Netflix? [Movies]',\n",
              "       'On scale of 5,Can you rate the Netflix? [Documentaries]',\n",
              "       'On scale of 5,Can you rate the Netflix? [Others]',\n",
              "       'On scale of 5,Can you rate the Prime? [Original Web Series]',\n",
              "       'On scale of 5,Can you rate the Prime? [Movies]',\n",
              "       'On scale of 5,Can you rate the Prime? [Documentaries]',\n",
              "       'On scale of 5,Can you rate the Prime? [Sports and News]',\n",
              "       'On scale of 5,Can you rate the Hotstar? [Original Web Series]',\n",
              "       'On scale of 5,Can you rate the Hotstar? [Movies]',\n",
              "       'On scale of 5,Can you rate the Hotstar? [Documentaries]',\n",
              "       'On scale of 5,Can you rate the Hotstar? [Sports and News]',\n",
              "       'Have you watch or familiar with these original Web Series of Netflix?',\n",
              "       'Have you watch or familiar with these original Web Series of Prime?',\n",
              "       'Have you watch or familiar with these original Web Series of Hotstar?',\n",
              "       'From where did you get the idea of these Web Series?',\n",
              "       'Choose the features which you think is essential on your streaming platforms.',\n",
              "       'How was your overall experience of video streaming platform according to Original Series?',\n",
              "       'suggestions for the improvement of video streaming platforms? '],\n",
              "      dtype='object')"
            ]
          },
          "metadata": {
            "tags": []
          },
          "execution_count": 37
        }
      ]
    },
    {
      "cell_type": "markdown",
      "metadata": {
        "id": "tVfZ8HnuCzVA"
      },
      "source": [
        "**Change the Column name of the dataset.**"
      ]
    },
    {
      "cell_type": "code",
      "metadata": {
        "id": "54f0yoKQAVgG"
      },
      "source": [
        "data.rename(columns ={\n",
        "        'Do you use  Video Streaming Platforms?':'Video Streaming Platform(Y/N)',\n",
        "        'What is your Age?':'Age',\n",
        "        'How frequently you watch or stream online platforms?':'Frequency',\n",
        "       'What do you watch most on Video Streaming Platforms?':'Most_watched',\n",
        "       'On what basis you frequently choose to watch on the Streaming Platforms?':'Selection',\n",
        "       'Which of the following Subscription Based Video Streaming Platform do you currently use?':'Platforms',\n",
        "       'On what basis do you subscribe any of the above Platforms?':'Subscription',\n",
        "       'How long you are using these Video Streaming Platforms?':'Duration',\n",
        "       'On scale of 5,Can you rate the Netflix? [Original Web Series]':'Netflix_Rating_Og',\n",
        "       'On scale of 5,Can you rate the Netflix? [Movies]':'Netflix_Rating_movie',\n",
        "       'On scale of 5,Can you rate the Netflix? [Documentaries]':'Netflix_Rating_documentry',\n",
        "       'On scale of 5,Can you rate the Netflix? [Others]':'Netflix_Rating_others',\n",
        "       'On scale of 5,Can you rate the Prime? [Original Web Series]':'Prime_Rating_Og',\n",
        "       'On scale of 5,Can you rate the Prime? [Movies]':'Prime_Rating_movie',\n",
        "       'On scale of 5,Can you rate the Prime? [Documentaries]':'Prime_Rating_documentry',\n",
        "       'On scale of 5,Can you rate the Prime? [Sports and News]':'Prime_Rating_others',\n",
        "       'On scale of 5,Can you rate the Hotstar? [Original Web Series]':'Hotstar_Rating_Og',\n",
        "       'On scale of 5,Can you rate the Hotstar? [Movies]':'Hotstar_Rating_movie',\n",
        "       'On scale of 5,Can you rate the Hotstar? [Documentaries]':'Hotstar_Rating_documentry',\n",
        "       'On scale of 5,Can you rate the Hotstar? [Sports and News]':'Hotstar_Rating_sports',\n",
        "       'Have you watch or familiar with these original Web Series of Netflix?':'Netflix_OgSeries',\n",
        "       'Have you watch or familiar with these original Web Series of Prime?':'Prime_OgSeries',\n",
        "       'Have you watch or familiar with these original Web Series of Hotstar?':'Hotstar_OgSeries',\n",
        "       'From where did you get the idea of these Web Series?':'Advertisment',\n",
        "       'Choose the features which you think is essential on your streaming platforms.':'Features',\n",
        "       'How was your overall experience of video streaming platform according to Original Series?':'Overall_Rating',\n",
        "       'suggestions for the improvement of video streaming platforms? ':'Suggestion'},inplace=True\n",
        "                )"
      ],
      "execution_count": 38,
      "outputs": []
    },
    {
      "cell_type": "code",
      "metadata": {
        "colab": {
          "base_uri": "https://localhost:8080/"
        },
        "id": "OovDIBUoAVjA",
        "outputId": "c582a3cc-5f90-4796-dfa3-27bb0a97c3bf"
      },
      "source": [
        "data.columns"
      ],
      "execution_count": null,
      "outputs": [
        {
          "output_type": "execute_result",
          "data": {
            "text/plain": [
              "Index(['Timestamp', 'Video Streaming Platform(Y/N)', 'Age', 'Frequency',\n",
              "       'Most_watched', 'Selection', 'Platforms', 'Subscription', 'Duration',\n",
              "       'Netflix_Rating_Og', 'Netflix_Rating_movie',\n",
              "       'Netflix_Rating_documentry', 'Netflix_Rating_others', 'Prime_Rating_Og',\n",
              "       'Prime_Rating_movie', 'Prime_Rating_documentry', 'Prime_Rating_others',\n",
              "       'Hotstar_Rating_Og', 'Hotstar_Rating_movie',\n",
              "       'Hotstar_Rating_documentry', 'Hotstar_Rating_sports',\n",
              "       'Netflix_OgSeries', 'Prime_OgSeries', 'Hotstar_OgSeries',\n",
              "       'Advertisment', 'Features', 'Overall_Rating', 'Suggestion'],\n",
              "      dtype='object')"
            ]
          },
          "metadata": {
            "tags": []
          },
          "execution_count": 10
        }
      ]
    },
    {
      "cell_type": "markdown",
      "metadata": {
        "id": "Cne_7QouQ9FD"
      },
      "source": [
        "**display the number of rows and columns**"
      ]
    },
    {
      "cell_type": "code",
      "metadata": {
        "colab": {
          "base_uri": "https://localhost:8080/"
        },
        "id": "N1MMe0wzAVl2",
        "outputId": "c60395c4-6bf7-4752-8d97-2819a16ecfa1"
      },
      "source": [
        "data.shape"
      ],
      "execution_count": null,
      "outputs": [
        {
          "output_type": "execute_result",
          "data": {
            "text/plain": [
              "(250, 28)"
            ]
          },
          "metadata": {
            "tags": []
          },
          "execution_count": 11
        }
      ]
    },
    {
      "cell_type": "markdown",
      "metadata": {
        "id": "SHhv135wRGqC"
      },
      "source": [
        "**display the data type of data**"
      ]
    },
    {
      "cell_type": "code",
      "metadata": {
        "colab": {
          "base_uri": "https://localhost:8080/"
        },
        "id": "ysxIyz8NAVon",
        "outputId": "6c4aa8e9-652d-459d-a8c1-ab9cca6023a0"
      },
      "source": [
        "data.dtypes"
      ],
      "execution_count": null,
      "outputs": [
        {
          "output_type": "execute_result",
          "data": {
            "text/plain": [
              "Timestamp                        object\n",
              "Video Streaming Platform(Y/N)    object\n",
              "Age                              object\n",
              "Frequency                        object\n",
              "Most_watched                     object\n",
              "Selection                        object\n",
              "Platforms                        object\n",
              "Subscription                     object\n",
              "Duration                         object\n",
              "Netflix_Rating_Og                 int64\n",
              "Netflix_Rating_movie              int64\n",
              "Netflix_Rating_documentry         int64\n",
              "Netflix_Rating_others             int64\n",
              "Prime_Rating_Og                   int64\n",
              "Prime_Rating_movie                int64\n",
              "Prime_Rating_documentry           int64\n",
              "Prime_Rating_others               int64\n",
              "Hotstar_Rating_Og                 int64\n",
              "Hotstar_Rating_movie              int64\n",
              "Hotstar_Rating_documentry         int64\n",
              "Hotstar_Rating_sports             int64\n",
              "Netflix_OgSeries                 object\n",
              "Prime_OgSeries                   object\n",
              "Hotstar_OgSeries                 object\n",
              "Advertisment                     object\n",
              "Features                         object\n",
              "Overall_Rating                   object\n",
              "Suggestion                       object\n",
              "dtype: object"
            ]
          },
          "metadata": {
            "tags": []
          },
          "execution_count": 10
        }
      ]
    },
    {
      "cell_type": "code",
      "metadata": {
        "id": "nhN2d3fiYMt5"
      },
      "source": [
        ""
      ],
      "execution_count": null,
      "outputs": []
    },
    {
      "cell_type": "code",
      "metadata": {
        "colab": {
          "base_uri": "https://localhost:8080/"
        },
        "id": "KTz5gKupAVrY",
        "outputId": "c084bcf8-282f-4351-f796-249e525da751"
      },
      "source": [
        "data.info()"
      ],
      "execution_count": null,
      "outputs": [
        {
          "output_type": "stream",
          "text": [
            "<class 'pandas.core.frame.DataFrame'>\n",
            "RangeIndex: 250 entries, 0 to 249\n",
            "Data columns (total 28 columns):\n",
            " #   Column                         Non-Null Count  Dtype \n",
            "---  ------                         --------------  ----- \n",
            " 0   Timestamp                      250 non-null    object\n",
            " 1   Video Streaming Platform(Y/N)  250 non-null    object\n",
            " 2   Age                            250 non-null    object\n",
            " 3   Frequency                      250 non-null    object\n",
            " 4   Most_watched                   250 non-null    object\n",
            " 5   Selection                      250 non-null    object\n",
            " 6   Platforms                      250 non-null    object\n",
            " 7   Subscription                   250 non-null    object\n",
            " 8   Duration                       250 non-null    object\n",
            " 9   Netflix_Rating_Og              250 non-null    int64 \n",
            " 10  Netflix_Rating_movie           250 non-null    int64 \n",
            " 11  Netflix_Rating_documentry      250 non-null    int64 \n",
            " 12  Netflix_Rating_others          250 non-null    int64 \n",
            " 13  Prime_Rating_Og                250 non-null    int64 \n",
            " 14  Prime_Rating_movie             250 non-null    int64 \n",
            " 15  Prime_Rating_documentry        250 non-null    int64 \n",
            " 16  Prime_Rating_others            250 non-null    int64 \n",
            " 17  Hotstar_Rating_Og              250 non-null    int64 \n",
            " 18  Hotstar_Rating_movie           250 non-null    int64 \n",
            " 19  Hotstar_Rating_documentry      250 non-null    int64 \n",
            " 20  Hotstar_Rating_sports          250 non-null    int64 \n",
            " 21  Netflix_OgSeries               250 non-null    object\n",
            " 22  Prime_OgSeries                 250 non-null    object\n",
            " 23  Hotstar_OgSeries               250 non-null    object\n",
            " 24  Advertisment                   250 non-null    object\n",
            " 25  Features                       250 non-null    object\n",
            " 26  Overall_Rating                 250 non-null    object\n",
            " 27  Suggestion                     250 non-null    object\n",
            "dtypes: int64(12), object(16)\n",
            "memory usage: 54.8+ KB\n"
          ],
          "name": "stdout"
        }
      ]
    },
    {
      "cell_type": "code",
      "metadata": {
        "colab": {
          "base_uri": "https://localhost:8080/",
          "height": 427
        },
        "id": "m-L6PVo5AVuM",
        "outputId": "376937b2-82da-4ac7-b263-d53cfab56eb2"
      },
      "source": [
        "data.corr()"
      ],
      "execution_count": null,
      "outputs": [
        {
          "output_type": "execute_result",
          "data": {
            "text/html": [
              "<div>\n",
              "<style scoped>\n",
              "    .dataframe tbody tr th:only-of-type {\n",
              "        vertical-align: middle;\n",
              "    }\n",
              "\n",
              "    .dataframe tbody tr th {\n",
              "        vertical-align: top;\n",
              "    }\n",
              "\n",
              "    .dataframe thead th {\n",
              "        text-align: right;\n",
              "    }\n",
              "</style>\n",
              "<table border=\"1\" class=\"dataframe\">\n",
              "  <thead>\n",
              "    <tr style=\"text-align: right;\">\n",
              "      <th></th>\n",
              "      <th>Netflix_Rating_Og</th>\n",
              "      <th>Netflix_Rating_movie</th>\n",
              "      <th>Netflix_Rating_documentry</th>\n",
              "      <th>Netflix_Rating_others</th>\n",
              "      <th>Prime_Rating_Og</th>\n",
              "      <th>Prime_Rating_movie</th>\n",
              "      <th>Prime_Rating_documentry</th>\n",
              "      <th>Prime_Rating_others</th>\n",
              "      <th>Hotstar_Rating_Og</th>\n",
              "      <th>Hotstar_Rating_movie</th>\n",
              "      <th>Hotstar_Rating_documentry</th>\n",
              "      <th>Hotstar_Rating_sports</th>\n",
              "    </tr>\n",
              "  </thead>\n",
              "  <tbody>\n",
              "    <tr>\n",
              "      <th>Netflix_Rating_Og</th>\n",
              "      <td>1.000000</td>\n",
              "      <td>0.700059</td>\n",
              "      <td>0.594544</td>\n",
              "      <td>0.490165</td>\n",
              "      <td>0.641548</td>\n",
              "      <td>0.594505</td>\n",
              "      <td>0.435841</td>\n",
              "      <td>0.409887</td>\n",
              "      <td>0.595869</td>\n",
              "      <td>0.460879</td>\n",
              "      <td>0.267590</td>\n",
              "      <td>0.310622</td>\n",
              "    </tr>\n",
              "    <tr>\n",
              "      <th>Netflix_Rating_movie</th>\n",
              "      <td>0.700059</td>\n",
              "      <td>1.000000</td>\n",
              "      <td>0.498765</td>\n",
              "      <td>0.503326</td>\n",
              "      <td>0.528972</td>\n",
              "      <td>0.526944</td>\n",
              "      <td>0.312396</td>\n",
              "      <td>0.432535</td>\n",
              "      <td>0.503144</td>\n",
              "      <td>0.450504</td>\n",
              "      <td>0.244023</td>\n",
              "      <td>0.289490</td>\n",
              "    </tr>\n",
              "    <tr>\n",
              "      <th>Netflix_Rating_documentry</th>\n",
              "      <td>0.594544</td>\n",
              "      <td>0.498765</td>\n",
              "      <td>1.000000</td>\n",
              "      <td>0.651086</td>\n",
              "      <td>0.491358</td>\n",
              "      <td>0.508193</td>\n",
              "      <td>0.563045</td>\n",
              "      <td>0.422858</td>\n",
              "      <td>0.563753</td>\n",
              "      <td>0.542319</td>\n",
              "      <td>0.346399</td>\n",
              "      <td>0.381470</td>\n",
              "    </tr>\n",
              "    <tr>\n",
              "      <th>Netflix_Rating_others</th>\n",
              "      <td>0.490165</td>\n",
              "      <td>0.503326</td>\n",
              "      <td>0.651086</td>\n",
              "      <td>1.000000</td>\n",
              "      <td>0.411768</td>\n",
              "      <td>0.324026</td>\n",
              "      <td>0.362678</td>\n",
              "      <td>0.581964</td>\n",
              "      <td>0.534613</td>\n",
              "      <td>0.455612</td>\n",
              "      <td>0.354062</td>\n",
              "      <td>0.218042</td>\n",
              "    </tr>\n",
              "    <tr>\n",
              "      <th>Prime_Rating_Og</th>\n",
              "      <td>0.641548</td>\n",
              "      <td>0.528972</td>\n",
              "      <td>0.491358</td>\n",
              "      <td>0.411768</td>\n",
              "      <td>1.000000</td>\n",
              "      <td>0.725312</td>\n",
              "      <td>0.617707</td>\n",
              "      <td>0.522822</td>\n",
              "      <td>0.596357</td>\n",
              "      <td>0.478894</td>\n",
              "      <td>0.256065</td>\n",
              "      <td>0.316907</td>\n",
              "    </tr>\n",
              "    <tr>\n",
              "      <th>Prime_Rating_movie</th>\n",
              "      <td>0.594505</td>\n",
              "      <td>0.526944</td>\n",
              "      <td>0.508193</td>\n",
              "      <td>0.324026</td>\n",
              "      <td>0.725312</td>\n",
              "      <td>1.000000</td>\n",
              "      <td>0.591898</td>\n",
              "      <td>0.420470</td>\n",
              "      <td>0.482243</td>\n",
              "      <td>0.545204</td>\n",
              "      <td>0.283144</td>\n",
              "      <td>0.405522</td>\n",
              "    </tr>\n",
              "    <tr>\n",
              "      <th>Prime_Rating_documentry</th>\n",
              "      <td>0.435841</td>\n",
              "      <td>0.312396</td>\n",
              "      <td>0.563045</td>\n",
              "      <td>0.362678</td>\n",
              "      <td>0.617707</td>\n",
              "      <td>0.591898</td>\n",
              "      <td>1.000000</td>\n",
              "      <td>0.581178</td>\n",
              "      <td>0.529110</td>\n",
              "      <td>0.503590</td>\n",
              "      <td>0.391998</td>\n",
              "      <td>0.406669</td>\n",
              "    </tr>\n",
              "    <tr>\n",
              "      <th>Prime_Rating_others</th>\n",
              "      <td>0.409887</td>\n",
              "      <td>0.432535</td>\n",
              "      <td>0.422858</td>\n",
              "      <td>0.581964</td>\n",
              "      <td>0.522822</td>\n",
              "      <td>0.420470</td>\n",
              "      <td>0.581178</td>\n",
              "      <td>1.000000</td>\n",
              "      <td>0.614797</td>\n",
              "      <td>0.500543</td>\n",
              "      <td>0.383990</td>\n",
              "      <td>0.230451</td>\n",
              "    </tr>\n",
              "    <tr>\n",
              "      <th>Hotstar_Rating_Og</th>\n",
              "      <td>0.595869</td>\n",
              "      <td>0.503144</td>\n",
              "      <td>0.563753</td>\n",
              "      <td>0.534613</td>\n",
              "      <td>0.596357</td>\n",
              "      <td>0.482243</td>\n",
              "      <td>0.529110</td>\n",
              "      <td>0.614797</td>\n",
              "      <td>1.000000</td>\n",
              "      <td>0.751668</td>\n",
              "      <td>0.568944</td>\n",
              "      <td>0.412144</td>\n",
              "    </tr>\n",
              "    <tr>\n",
              "      <th>Hotstar_Rating_movie</th>\n",
              "      <td>0.460879</td>\n",
              "      <td>0.450504</td>\n",
              "      <td>0.542319</td>\n",
              "      <td>0.455612</td>\n",
              "      <td>0.478894</td>\n",
              "      <td>0.545204</td>\n",
              "      <td>0.503590</td>\n",
              "      <td>0.500543</td>\n",
              "      <td>0.751668</td>\n",
              "      <td>1.000000</td>\n",
              "      <td>0.575959</td>\n",
              "      <td>0.543472</td>\n",
              "    </tr>\n",
              "    <tr>\n",
              "      <th>Hotstar_Rating_documentry</th>\n",
              "      <td>0.267590</td>\n",
              "      <td>0.244023</td>\n",
              "      <td>0.346399</td>\n",
              "      <td>0.354062</td>\n",
              "      <td>0.256065</td>\n",
              "      <td>0.283144</td>\n",
              "      <td>0.391998</td>\n",
              "      <td>0.383990</td>\n",
              "      <td>0.568944</td>\n",
              "      <td>0.575959</td>\n",
              "      <td>1.000000</td>\n",
              "      <td>0.528857</td>\n",
              "    </tr>\n",
              "    <tr>\n",
              "      <th>Hotstar_Rating_sports</th>\n",
              "      <td>0.310622</td>\n",
              "      <td>0.289490</td>\n",
              "      <td>0.381470</td>\n",
              "      <td>0.218042</td>\n",
              "      <td>0.316907</td>\n",
              "      <td>0.405522</td>\n",
              "      <td>0.406669</td>\n",
              "      <td>0.230451</td>\n",
              "      <td>0.412144</td>\n",
              "      <td>0.543472</td>\n",
              "      <td>0.528857</td>\n",
              "      <td>1.000000</td>\n",
              "    </tr>\n",
              "  </tbody>\n",
              "</table>\n",
              "</div>"
            ],
            "text/plain": [
              "                           Netflix_Rating_Og  ...  Hotstar_Rating_sports\n",
              "Netflix_Rating_Og                   1.000000  ...               0.310622\n",
              "Netflix_Rating_movie                0.700059  ...               0.289490\n",
              "Netflix_Rating_documentry           0.594544  ...               0.381470\n",
              "Netflix_Rating_others               0.490165  ...               0.218042\n",
              "Prime_Rating_Og                     0.641548  ...               0.316907\n",
              "Prime_Rating_movie                  0.594505  ...               0.405522\n",
              "Prime_Rating_documentry             0.435841  ...               0.406669\n",
              "Prime_Rating_others                 0.409887  ...               0.230451\n",
              "Hotstar_Rating_Og                   0.595869  ...               0.412144\n",
              "Hotstar_Rating_movie                0.460879  ...               0.543472\n",
              "Hotstar_Rating_documentry           0.267590  ...               0.528857\n",
              "Hotstar_Rating_sports               0.310622  ...               1.000000\n",
              "\n",
              "[12 rows x 12 columns]"
            ]
          },
          "metadata": {
            "tags": []
          },
          "execution_count": 12
        }
      ]
    },
    {
      "cell_type": "markdown",
      "metadata": {
        "id": "XvZq-jbVRV_t"
      },
      "source": [
        "**display the last 20 rows of the data**"
      ]
    },
    {
      "cell_type": "code",
      "metadata": {
        "colab": {
          "base_uri": "https://localhost:8080/",
          "height": 1000
        },
        "id": "H30EUayCAVxI",
        "outputId": "3027f57a-e583-4534-ba0d-b7cd9f024f4c"
      },
      "source": [
        "data.tail(20)"
      ],
      "execution_count": null,
      "outputs": [
        {
          "output_type": "execute_result",
          "data": {
            "text/html": [
              "<div>\n",
              "<style scoped>\n",
              "    .dataframe tbody tr th:only-of-type {\n",
              "        vertical-align: middle;\n",
              "    }\n",
              "\n",
              "    .dataframe tbody tr th {\n",
              "        vertical-align: top;\n",
              "    }\n",
              "\n",
              "    .dataframe thead th {\n",
              "        text-align: right;\n",
              "    }\n",
              "</style>\n",
              "<table border=\"1\" class=\"dataframe\">\n",
              "  <thead>\n",
              "    <tr style=\"text-align: right;\">\n",
              "      <th></th>\n",
              "      <th>Timestamp</th>\n",
              "      <th>Video Streaming Platform(Y/N)</th>\n",
              "      <th>Age</th>\n",
              "      <th>Frequency</th>\n",
              "      <th>Most_watched</th>\n",
              "      <th>Selection</th>\n",
              "      <th>Platforms</th>\n",
              "      <th>Subscription</th>\n",
              "      <th>Duration</th>\n",
              "      <th>Netflix_Rating_Og</th>\n",
              "      <th>Netflix_Rating_movie</th>\n",
              "      <th>Netflix_Rating_documentry</th>\n",
              "      <th>Netflix_Rating_others</th>\n",
              "      <th>Prime_Rating_Og</th>\n",
              "      <th>Prime_Rating_movie</th>\n",
              "      <th>Prime_Rating_documentry</th>\n",
              "      <th>Prime_Rating_others</th>\n",
              "      <th>Hotstar_Rating_Og</th>\n",
              "      <th>Hotstar_Rating_movie</th>\n",
              "      <th>Hotstar_Rating_documentry</th>\n",
              "      <th>Hotstar_Rating_sports</th>\n",
              "      <th>Netflix_OgSeries</th>\n",
              "      <th>Prime_OgSeries</th>\n",
              "      <th>Hotstar_OgSeries</th>\n",
              "      <th>Advertisment</th>\n",
              "      <th>Features</th>\n",
              "      <th>Overall_Rating</th>\n",
              "      <th>Suggestion</th>\n",
              "    </tr>\n",
              "  </thead>\n",
              "  <tbody>\n",
              "    <tr>\n",
              "      <th>230</th>\n",
              "      <td>5/19/2021 21:53:56</td>\n",
              "      <td>Yes</td>\n",
              "      <td>18-30</td>\n",
              "      <td>Monthly</td>\n",
              "      <td>All of the above</td>\n",
              "      <td>All of the above</td>\n",
              "      <td>All of the above</td>\n",
              "      <td>All of the above</td>\n",
              "      <td>More than 2 Year</td>\n",
              "      <td>5</td>\n",
              "      <td>4</td>\n",
              "      <td>4</td>\n",
              "      <td>3</td>\n",
              "      <td>5</td>\n",
              "      <td>4</td>\n",
              "      <td>3</td>\n",
              "      <td>4</td>\n",
              "      <td>5</td>\n",
              "      <td>4</td>\n",
              "      <td>3</td>\n",
              "      <td>5</td>\n",
              "      <td>All of the Above</td>\n",
              "      <td>All of the above</td>\n",
              "      <td>All of the above</td>\n",
              "      <td>Family/Friends Recommendation</td>\n",
              "      <td>Recommendation</td>\n",
              "      <td>Good</td>\n",
              "      <td>Availability in Languages</td>\n",
              "    </tr>\n",
              "    <tr>\n",
              "      <th>231</th>\n",
              "      <td>5/19/2021 21:54:36</td>\n",
              "      <td>Yes</td>\n",
              "      <td>18-30</td>\n",
              "      <td>Monthly</td>\n",
              "      <td>All of the above</td>\n",
              "      <td>All of the above</td>\n",
              "      <td>All of the above</td>\n",
              "      <td>All of the above</td>\n",
              "      <td>More than 2 Year</td>\n",
              "      <td>5</td>\n",
              "      <td>5</td>\n",
              "      <td>4</td>\n",
              "      <td>3</td>\n",
              "      <td>5</td>\n",
              "      <td>4</td>\n",
              "      <td>4</td>\n",
              "      <td>5</td>\n",
              "      <td>5</td>\n",
              "      <td>4</td>\n",
              "      <td>4</td>\n",
              "      <td>3</td>\n",
              "      <td>All of the Above</td>\n",
              "      <td>All of the above</td>\n",
              "      <td>All of the above</td>\n",
              "      <td>All of the above</td>\n",
              "      <td>All of the above</td>\n",
              "      <td>Excellent</td>\n",
              "      <td>Decrease Subscription Price</td>\n",
              "    </tr>\n",
              "    <tr>\n",
              "      <th>232</th>\n",
              "      <td>5/19/2021 21:54:47</td>\n",
              "      <td>Yes</td>\n",
              "      <td>18-30</td>\n",
              "      <td>Daily</td>\n",
              "      <td>Original Web Series, Movies</td>\n",
              "      <td>All of the above</td>\n",
              "      <td>Netflix</td>\n",
              "      <td>Original Web Series</td>\n",
              "      <td>More than 2 Year</td>\n",
              "      <td>5</td>\n",
              "      <td>5</td>\n",
              "      <td>5</td>\n",
              "      <td>3</td>\n",
              "      <td>4</td>\n",
              "      <td>5</td>\n",
              "      <td>4</td>\n",
              "      <td>3</td>\n",
              "      <td>4</td>\n",
              "      <td>5</td>\n",
              "      <td>3</td>\n",
              "      <td>4</td>\n",
              "      <td>All of the Above</td>\n",
              "      <td>None</td>\n",
              "      <td>None</td>\n",
              "      <td>Social Media</td>\n",
              "      <td>Search Option</td>\n",
              "      <td>Good</td>\n",
              "      <td>Decrease Subscription Price</td>\n",
              "    </tr>\n",
              "    <tr>\n",
              "      <th>233</th>\n",
              "      <td>5/19/2021 21:57:57</td>\n",
              "      <td>Yes</td>\n",
              "      <td>18-30</td>\n",
              "      <td>Once or twice in a week</td>\n",
              "      <td>Movies</td>\n",
              "      <td>Story</td>\n",
              "      <td>Prime</td>\n",
              "      <td>Original Web Series</td>\n",
              "      <td>More than 2 Year</td>\n",
              "      <td>5</td>\n",
              "      <td>4</td>\n",
              "      <td>5</td>\n",
              "      <td>4</td>\n",
              "      <td>5</td>\n",
              "      <td>5</td>\n",
              "      <td>4</td>\n",
              "      <td>3</td>\n",
              "      <td>3</td>\n",
              "      <td>4</td>\n",
              "      <td>4</td>\n",
              "      <td>5</td>\n",
              "      <td>None</td>\n",
              "      <td>Breath into the shadow</td>\n",
              "      <td>None</td>\n",
              "      <td>Social Media</td>\n",
              "      <td>Recommendation</td>\n",
              "      <td>Excellent</td>\n",
              "      <td>Improvement in Story ,Casting</td>\n",
              "    </tr>\n",
              "    <tr>\n",
              "      <th>234</th>\n",
              "      <td>5/19/2021 23:15:29</td>\n",
              "      <td>Yes</td>\n",
              "      <td>Less than 18</td>\n",
              "      <td>Daily</td>\n",
              "      <td>Movies</td>\n",
              "      <td>Story</td>\n",
              "      <td>Hotstar</td>\n",
              "      <td>Movies</td>\n",
              "      <td>Between 1 and 2 Year</td>\n",
              "      <td>3</td>\n",
              "      <td>1</td>\n",
              "      <td>3</td>\n",
              "      <td>3</td>\n",
              "      <td>3</td>\n",
              "      <td>1</td>\n",
              "      <td>3</td>\n",
              "      <td>1</td>\n",
              "      <td>2</td>\n",
              "      <td>1</td>\n",
              "      <td>3</td>\n",
              "      <td>1</td>\n",
              "      <td>None</td>\n",
              "      <td>Tandav</td>\n",
              "      <td>All of the above</td>\n",
              "      <td>Family/Friends Recommendation</td>\n",
              "      <td>Recommendation</td>\n",
              "      <td>Good</td>\n",
              "      <td>Remove Ads/Limit Ads duration</td>\n",
              "    </tr>\n",
              "    <tr>\n",
              "      <th>235</th>\n",
              "      <td>5/19/2021 23:18:26</td>\n",
              "      <td>Yes</td>\n",
              "      <td>31-50</td>\n",
              "      <td>Once or twice in a week</td>\n",
              "      <td>All of the above</td>\n",
              "      <td>Story</td>\n",
              "      <td>Prime</td>\n",
              "      <td>Original Web Series</td>\n",
              "      <td>Between 1 and 2 Year</td>\n",
              "      <td>1</td>\n",
              "      <td>2</td>\n",
              "      <td>2</td>\n",
              "      <td>3</td>\n",
              "      <td>1</td>\n",
              "      <td>1</td>\n",
              "      <td>3</td>\n",
              "      <td>3</td>\n",
              "      <td>1</td>\n",
              "      <td>1</td>\n",
              "      <td>3</td>\n",
              "      <td>1</td>\n",
              "      <td>None</td>\n",
              "      <td>All of the above</td>\n",
              "      <td>All of the above</td>\n",
              "      <td>Family/Friends Recommendation</td>\n",
              "      <td>Recommendation</td>\n",
              "      <td>Fair</td>\n",
              "      <td>Improvement in Story ,Casting</td>\n",
              "    </tr>\n",
              "    <tr>\n",
              "      <th>236</th>\n",
              "      <td>5/19/2021 23:31:14</td>\n",
              "      <td>Yes</td>\n",
              "      <td>31-50</td>\n",
              "      <td>Once or twice in a week</td>\n",
              "      <td>Movies, Sports and News</td>\n",
              "      <td>Story</td>\n",
              "      <td>All of the above</td>\n",
              "      <td>All of the above</td>\n",
              "      <td>Between 1 and 2 Year</td>\n",
              "      <td>1</td>\n",
              "      <td>1</td>\n",
              "      <td>2</td>\n",
              "      <td>2</td>\n",
              "      <td>2</td>\n",
              "      <td>1</td>\n",
              "      <td>2</td>\n",
              "      <td>1</td>\n",
              "      <td>1</td>\n",
              "      <td>1</td>\n",
              "      <td>3</td>\n",
              "      <td>1</td>\n",
              "      <td>13 Reason Why</td>\n",
              "      <td>Mirzapur, Tandav</td>\n",
              "      <td>Speacial OPS, Arya</td>\n",
              "      <td>Television</td>\n",
              "      <td>Search Option</td>\n",
              "      <td>Fair</td>\n",
              "      <td>Improvement in Story ,Casting</td>\n",
              "    </tr>\n",
              "    <tr>\n",
              "      <th>237</th>\n",
              "      <td>5/20/2021 10:48:23</td>\n",
              "      <td>Yes</td>\n",
              "      <td>18-30</td>\n",
              "      <td>Daily</td>\n",
              "      <td>Original Web Series</td>\n",
              "      <td>All of the above</td>\n",
              "      <td>Netflix</td>\n",
              "      <td>Original Web Series</td>\n",
              "      <td>More than 2 Year</td>\n",
              "      <td>5</td>\n",
              "      <td>5</td>\n",
              "      <td>4</td>\n",
              "      <td>3</td>\n",
              "      <td>3</td>\n",
              "      <td>4</td>\n",
              "      <td>1</td>\n",
              "      <td>1</td>\n",
              "      <td>1</td>\n",
              "      <td>2</td>\n",
              "      <td>3</td>\n",
              "      <td>3</td>\n",
              "      <td>All of the Above</td>\n",
              "      <td>Mirzapur</td>\n",
              "      <td>None</td>\n",
              "      <td>All of the above</td>\n",
              "      <td>Search Option</td>\n",
              "      <td>Excellent</td>\n",
              "      <td>Decrease Subscription Price</td>\n",
              "    </tr>\n",
              "    <tr>\n",
              "      <th>238</th>\n",
              "      <td>5/20/2021 10:49:17</td>\n",
              "      <td>Yes</td>\n",
              "      <td>31-50</td>\n",
              "      <td>Once or twice in a week</td>\n",
              "      <td>Movies, Documentaries, Sports and News</td>\n",
              "      <td>All of the above</td>\n",
              "      <td>Hotstar</td>\n",
              "      <td>Sports and News</td>\n",
              "      <td>Less than 1 Year</td>\n",
              "      <td>1</td>\n",
              "      <td>1</td>\n",
              "      <td>1</td>\n",
              "      <td>1</td>\n",
              "      <td>1</td>\n",
              "      <td>1</td>\n",
              "      <td>2</td>\n",
              "      <td>2</td>\n",
              "      <td>1</td>\n",
              "      <td>1</td>\n",
              "      <td>4</td>\n",
              "      <td>5</td>\n",
              "      <td>None</td>\n",
              "      <td>None</td>\n",
              "      <td>None</td>\n",
              "      <td>Television</td>\n",
              "      <td>Ease of use</td>\n",
              "      <td>Excellent</td>\n",
              "      <td>Availability in Languages</td>\n",
              "    </tr>\n",
              "    <tr>\n",
              "      <th>239</th>\n",
              "      <td>5/20/2021 11:04:45</td>\n",
              "      <td>Yes</td>\n",
              "      <td>18-30</td>\n",
              "      <td>Daily</td>\n",
              "      <td>Original Web Series, Movies</td>\n",
              "      <td>All of the above</td>\n",
              "      <td>Netflix</td>\n",
              "      <td>Original Web Series</td>\n",
              "      <td>Less than 1 Year</td>\n",
              "      <td>5</td>\n",
              "      <td>4</td>\n",
              "      <td>5</td>\n",
              "      <td>3</td>\n",
              "      <td>4</td>\n",
              "      <td>5</td>\n",
              "      <td>5</td>\n",
              "      <td>4</td>\n",
              "      <td>3</td>\n",
              "      <td>4</td>\n",
              "      <td>3</td>\n",
              "      <td>5</td>\n",
              "      <td>All of the Above</td>\n",
              "      <td>None</td>\n",
              "      <td>None</td>\n",
              "      <td>Social Media</td>\n",
              "      <td>Recommendation</td>\n",
              "      <td>Excellent</td>\n",
              "      <td>Decrease Subscription Price</td>\n",
              "    </tr>\n",
              "    <tr>\n",
              "      <th>240</th>\n",
              "      <td>5/20/2021 11:07:15</td>\n",
              "      <td>Yes</td>\n",
              "      <td>31-50</td>\n",
              "      <td>Daily</td>\n",
              "      <td>All of the above</td>\n",
              "      <td>Story, Director</td>\n",
              "      <td>All of the above</td>\n",
              "      <td>Original Web Series</td>\n",
              "      <td>Between 1 and 2 Year</td>\n",
              "      <td>4</td>\n",
              "      <td>5</td>\n",
              "      <td>5</td>\n",
              "      <td>3</td>\n",
              "      <td>4</td>\n",
              "      <td>5</td>\n",
              "      <td>3</td>\n",
              "      <td>3</td>\n",
              "      <td>3</td>\n",
              "      <td>5</td>\n",
              "      <td>4</td>\n",
              "      <td>5</td>\n",
              "      <td>Sacred Games, Money Heist</td>\n",
              "      <td>Mirzapur, Tandav</td>\n",
              "      <td>Hostages, Criminal Justice</td>\n",
              "      <td>All of the above</td>\n",
              "      <td>Recommendation</td>\n",
              "      <td>Excellent</td>\n",
              "      <td>Availability in Languages</td>\n",
              "    </tr>\n",
              "    <tr>\n",
              "      <th>241</th>\n",
              "      <td>5/20/2021 11:13:54</td>\n",
              "      <td>Yes</td>\n",
              "      <td>18-30</td>\n",
              "      <td>Daily</td>\n",
              "      <td>Movies</td>\n",
              "      <td>Cast, Story</td>\n",
              "      <td>Prime</td>\n",
              "      <td>Original Web Series</td>\n",
              "      <td>Less than 1 Year</td>\n",
              "      <td>5</td>\n",
              "      <td>5</td>\n",
              "      <td>5</td>\n",
              "      <td>4</td>\n",
              "      <td>5</td>\n",
              "      <td>4</td>\n",
              "      <td>4</td>\n",
              "      <td>3</td>\n",
              "      <td>5</td>\n",
              "      <td>4</td>\n",
              "      <td>5</td>\n",
              "      <td>5</td>\n",
              "      <td>None</td>\n",
              "      <td>All of the above</td>\n",
              "      <td>None</td>\n",
              "      <td>Social Media</td>\n",
              "      <td>All of the above</td>\n",
              "      <td>Excellent</td>\n",
              "      <td>Availability in Languages</td>\n",
              "    </tr>\n",
              "    <tr>\n",
              "      <th>242</th>\n",
              "      <td>5/20/2021 11:50:41</td>\n",
              "      <td>Yes</td>\n",
              "      <td>More than 50</td>\n",
              "      <td>Once or twice in a week</td>\n",
              "      <td>Movies</td>\n",
              "      <td>Story</td>\n",
              "      <td>Prime</td>\n",
              "      <td>Movies</td>\n",
              "      <td>Less than 1 Year</td>\n",
              "      <td>3</td>\n",
              "      <td>1</td>\n",
              "      <td>3</td>\n",
              "      <td>3</td>\n",
              "      <td>3</td>\n",
              "      <td>1</td>\n",
              "      <td>3</td>\n",
              "      <td>3</td>\n",
              "      <td>3</td>\n",
              "      <td>1</td>\n",
              "      <td>3</td>\n",
              "      <td>1</td>\n",
              "      <td>None</td>\n",
              "      <td>None</td>\n",
              "      <td>All of the above</td>\n",
              "      <td>Television</td>\n",
              "      <td>Ease of use</td>\n",
              "      <td>Fair</td>\n",
              "      <td>Improvement in Story ,Casting</td>\n",
              "    </tr>\n",
              "    <tr>\n",
              "      <th>243</th>\n",
              "      <td>5/20/2021 11:52:06</td>\n",
              "      <td>Yes</td>\n",
              "      <td>18-30</td>\n",
              "      <td>Daily</td>\n",
              "      <td>Original Web Series</td>\n",
              "      <td>Story</td>\n",
              "      <td>Netflix</td>\n",
              "      <td>Original Web Series</td>\n",
              "      <td>Between 1 and 2 Year</td>\n",
              "      <td>1</td>\n",
              "      <td>2</td>\n",
              "      <td>2</td>\n",
              "      <td>2</td>\n",
              "      <td>1</td>\n",
              "      <td>2</td>\n",
              "      <td>2</td>\n",
              "      <td>2</td>\n",
              "      <td>1</td>\n",
              "      <td>2</td>\n",
              "      <td>2</td>\n",
              "      <td>2</td>\n",
              "      <td>All of the Above</td>\n",
              "      <td>Tandav</td>\n",
              "      <td>Arya</td>\n",
              "      <td>Family/Friends Recommendation</td>\n",
              "      <td>All of the above</td>\n",
              "      <td>Fair</td>\n",
              "      <td>Remove Ads/Limit Ads duration</td>\n",
              "    </tr>\n",
              "    <tr>\n",
              "      <th>244</th>\n",
              "      <td>5/20/2021 11:53:49</td>\n",
              "      <td>Yes</td>\n",
              "      <td>31-50</td>\n",
              "      <td>Monthly</td>\n",
              "      <td>Movies, Sports and News</td>\n",
              "      <td>Story</td>\n",
              "      <td>Hotstar</td>\n",
              "      <td>Movies</td>\n",
              "      <td>Less than 1 Year</td>\n",
              "      <td>1</td>\n",
              "      <td>2</td>\n",
              "      <td>2</td>\n",
              "      <td>2</td>\n",
              "      <td>1</td>\n",
              "      <td>1</td>\n",
              "      <td>2</td>\n",
              "      <td>2</td>\n",
              "      <td>1</td>\n",
              "      <td>2</td>\n",
              "      <td>2</td>\n",
              "      <td>2</td>\n",
              "      <td>Money Heist</td>\n",
              "      <td>All of the above</td>\n",
              "      <td>All of the above</td>\n",
              "      <td>All of the above</td>\n",
              "      <td>All of the above</td>\n",
              "      <td>Excellent</td>\n",
              "      <td>All of the above</td>\n",
              "    </tr>\n",
              "    <tr>\n",
              "      <th>245</th>\n",
              "      <td>5/20/2021 23:23:40</td>\n",
              "      <td>Yes</td>\n",
              "      <td>Less than 18</td>\n",
              "      <td>Monthly</td>\n",
              "      <td>Original Web Series, Movies</td>\n",
              "      <td>Story, Director</td>\n",
              "      <td>Netflix</td>\n",
              "      <td>All of the above</td>\n",
              "      <td>More than 2 Year</td>\n",
              "      <td>4</td>\n",
              "      <td>5</td>\n",
              "      <td>4</td>\n",
              "      <td>4</td>\n",
              "      <td>5</td>\n",
              "      <td>4</td>\n",
              "      <td>4</td>\n",
              "      <td>5</td>\n",
              "      <td>5</td>\n",
              "      <td>4</td>\n",
              "      <td>4</td>\n",
              "      <td>5</td>\n",
              "      <td>All of the Above</td>\n",
              "      <td>All of the above</td>\n",
              "      <td>All of the above</td>\n",
              "      <td>All of the above</td>\n",
              "      <td>All of the above</td>\n",
              "      <td>Good</td>\n",
              "      <td>Availability in Languages</td>\n",
              "    </tr>\n",
              "    <tr>\n",
              "      <th>246</th>\n",
              "      <td>5/20/2021 23:24:20</td>\n",
              "      <td>Yes</td>\n",
              "      <td>31-50</td>\n",
              "      <td>Monthly</td>\n",
              "      <td>Movies</td>\n",
              "      <td>Director</td>\n",
              "      <td>Netflix</td>\n",
              "      <td>Movies</td>\n",
              "      <td>Between 1 and 2 Year</td>\n",
              "      <td>5</td>\n",
              "      <td>4</td>\n",
              "      <td>4</td>\n",
              "      <td>4</td>\n",
              "      <td>5</td>\n",
              "      <td>5</td>\n",
              "      <td>4</td>\n",
              "      <td>4</td>\n",
              "      <td>5</td>\n",
              "      <td>5</td>\n",
              "      <td>4</td>\n",
              "      <td>4</td>\n",
              "      <td>The Witcher, Money Heist</td>\n",
              "      <td>Mirzapur, Tandav</td>\n",
              "      <td>Hostages, Arya</td>\n",
              "      <td>Television</td>\n",
              "      <td>All of the above</td>\n",
              "      <td>Excellent</td>\n",
              "      <td>Improvement in Story ,Casting</td>\n",
              "    </tr>\n",
              "    <tr>\n",
              "      <th>247</th>\n",
              "      <td>5/20/2021 23:25:03</td>\n",
              "      <td>Yes</td>\n",
              "      <td>18-30</td>\n",
              "      <td>Once or twice in a week</td>\n",
              "      <td>Movies, Sports and News</td>\n",
              "      <td>Story, Director</td>\n",
              "      <td>Prime</td>\n",
              "      <td>Movies</td>\n",
              "      <td>Less than 1 Year</td>\n",
              "      <td>5</td>\n",
              "      <td>4</td>\n",
              "      <td>4</td>\n",
              "      <td>3</td>\n",
              "      <td>5</td>\n",
              "      <td>4</td>\n",
              "      <td>4</td>\n",
              "      <td>4</td>\n",
              "      <td>5</td>\n",
              "      <td>4</td>\n",
              "      <td>4</td>\n",
              "      <td>5</td>\n",
              "      <td>Sacred Games, Money Heist</td>\n",
              "      <td>Mirzapur, Breath into the shadow</td>\n",
              "      <td>Hostages, Arya</td>\n",
              "      <td>Television</td>\n",
              "      <td>Ease of use</td>\n",
              "      <td>Good</td>\n",
              "      <td>Remove Ads/Limit Ads duration</td>\n",
              "    </tr>\n",
              "    <tr>\n",
              "      <th>248</th>\n",
              "      <td>5/20/2021 23:25:47</td>\n",
              "      <td>Yes</td>\n",
              "      <td>18-30</td>\n",
              "      <td>Once or twice in a week</td>\n",
              "      <td>Movies, Sports and News</td>\n",
              "      <td>Director</td>\n",
              "      <td>Prime</td>\n",
              "      <td>Movies</td>\n",
              "      <td>Less than 1 Year</td>\n",
              "      <td>5</td>\n",
              "      <td>4</td>\n",
              "      <td>4</td>\n",
              "      <td>3</td>\n",
              "      <td>5</td>\n",
              "      <td>4</td>\n",
              "      <td>4</td>\n",
              "      <td>4</td>\n",
              "      <td>5</td>\n",
              "      <td>4</td>\n",
              "      <td>4</td>\n",
              "      <td>5</td>\n",
              "      <td>Sacred Games, The Witcher</td>\n",
              "      <td>Mirzapur, Made in heaven</td>\n",
              "      <td>Criminal Justice</td>\n",
              "      <td>Television</td>\n",
              "      <td>Recommendation</td>\n",
              "      <td>Excellent</td>\n",
              "      <td>Decrease Subscription Price</td>\n",
              "    </tr>\n",
              "    <tr>\n",
              "      <th>249</th>\n",
              "      <td>5/20/2021 23:26:24</td>\n",
              "      <td>Yes</td>\n",
              "      <td>31-50</td>\n",
              "      <td>Monthly</td>\n",
              "      <td>All of the above</td>\n",
              "      <td>All of the above</td>\n",
              "      <td>All of the above</td>\n",
              "      <td>All of the above</td>\n",
              "      <td>Between 1 and 2 Year</td>\n",
              "      <td>5</td>\n",
              "      <td>4</td>\n",
              "      <td>4</td>\n",
              "      <td>3</td>\n",
              "      <td>5</td>\n",
              "      <td>4</td>\n",
              "      <td>4</td>\n",
              "      <td>5</td>\n",
              "      <td>5</td>\n",
              "      <td>4</td>\n",
              "      <td>3</td>\n",
              "      <td>4</td>\n",
              "      <td>All of the Above</td>\n",
              "      <td>All of the above</td>\n",
              "      <td>All of the above</td>\n",
              "      <td>All of the above</td>\n",
              "      <td>Ease of use</td>\n",
              "      <td>Excellent</td>\n",
              "      <td>Availability in Languages</td>\n",
              "    </tr>\n",
              "  </tbody>\n",
              "</table>\n",
              "</div>"
            ],
            "text/plain": [
              "              Timestamp  ...                     Suggestion\n",
              "230  5/19/2021 21:53:56  ...      Availability in Languages\n",
              "231  5/19/2021 21:54:36  ...    Decrease Subscription Price\n",
              "232  5/19/2021 21:54:47  ...    Decrease Subscription Price\n",
              "233  5/19/2021 21:57:57  ...  Improvement in Story ,Casting\n",
              "234  5/19/2021 23:15:29  ...  Remove Ads/Limit Ads duration\n",
              "235  5/19/2021 23:18:26  ...  Improvement in Story ,Casting\n",
              "236  5/19/2021 23:31:14  ...  Improvement in Story ,Casting\n",
              "237  5/20/2021 10:48:23  ...    Decrease Subscription Price\n",
              "238  5/20/2021 10:49:17  ...      Availability in Languages\n",
              "239  5/20/2021 11:04:45  ...    Decrease Subscription Price\n",
              "240  5/20/2021 11:07:15  ...      Availability in Languages\n",
              "241  5/20/2021 11:13:54  ...      Availability in Languages\n",
              "242  5/20/2021 11:50:41  ...  Improvement in Story ,Casting\n",
              "243  5/20/2021 11:52:06  ...  Remove Ads/Limit Ads duration\n",
              "244  5/20/2021 11:53:49  ...               All of the above\n",
              "245  5/20/2021 23:23:40  ...      Availability in Languages\n",
              "246  5/20/2021 23:24:20  ...  Improvement in Story ,Casting\n",
              "247  5/20/2021 23:25:03  ...  Remove Ads/Limit Ads duration\n",
              "248  5/20/2021 23:25:47  ...    Decrease Subscription Price\n",
              "249  5/20/2021 23:26:24  ...      Availability in Languages\n",
              "\n",
              "[20 rows x 28 columns]"
            ]
          },
          "metadata": {
            "tags": []
          },
          "execution_count": 13
        }
      ]
    },
    {
      "cell_type": "markdown",
      "metadata": {
        "id": "ytmrx_6BRckG"
      },
      "source": [
        "**checking duplicate values in data**"
      ]
    },
    {
      "cell_type": "code",
      "metadata": {
        "colab": {
          "base_uri": "https://localhost:8080/",
          "height": 101
        },
        "id": "r6nHZ6PSAV0K",
        "outputId": "7bb4c59d-b6fc-4ef1-fdb4-014a81b9e7db"
      },
      "source": [
        "duplicate=data[data.duplicated()]\n",
        "duplicate"
      ],
      "execution_count": null,
      "outputs": [
        {
          "output_type": "execute_result",
          "data": {
            "text/html": [
              "<div>\n",
              "<style scoped>\n",
              "    .dataframe tbody tr th:only-of-type {\n",
              "        vertical-align: middle;\n",
              "    }\n",
              "\n",
              "    .dataframe tbody tr th {\n",
              "        vertical-align: top;\n",
              "    }\n",
              "\n",
              "    .dataframe thead th {\n",
              "        text-align: right;\n",
              "    }\n",
              "</style>\n",
              "<table border=\"1\" class=\"dataframe\">\n",
              "  <thead>\n",
              "    <tr style=\"text-align: right;\">\n",
              "      <th></th>\n",
              "      <th>Timestamp</th>\n",
              "      <th>Video Streaming Platform(Y/N)</th>\n",
              "      <th>Age</th>\n",
              "      <th>Frequency</th>\n",
              "      <th>Most_watched</th>\n",
              "      <th>Selection</th>\n",
              "      <th>Platforms</th>\n",
              "      <th>Subscription</th>\n",
              "      <th>Duration</th>\n",
              "      <th>Netflix_Rating_Og</th>\n",
              "      <th>Netflix_Rating_movie</th>\n",
              "      <th>Netflix_Rating_documentry</th>\n",
              "      <th>Netflix_Rating_others</th>\n",
              "      <th>Prime_Rating_Og</th>\n",
              "      <th>Prime_Rating_movie</th>\n",
              "      <th>Prime_Rating_documentry</th>\n",
              "      <th>Prime_Rating_others</th>\n",
              "      <th>Hotstar_Rating_Og</th>\n",
              "      <th>Hotstar_Rating_movie</th>\n",
              "      <th>Hotstar_Rating_documentry</th>\n",
              "      <th>Hotstar_Rating_sports</th>\n",
              "      <th>Netflix_OgSeries</th>\n",
              "      <th>Prime_OgSeries</th>\n",
              "      <th>Hotstar_OgSeries</th>\n",
              "      <th>Advertisment</th>\n",
              "      <th>Features</th>\n",
              "      <th>Overall_Rating</th>\n",
              "      <th>Suggestion</th>\n",
              "    </tr>\n",
              "  </thead>\n",
              "  <tbody>\n",
              "  </tbody>\n",
              "</table>\n",
              "</div>"
            ],
            "text/plain": [
              "Empty DataFrame\n",
              "Columns: [Timestamp, Video Streaming Platform(Y/N), Age, Frequency, Most_watched, Selection, Platforms, Subscription, Duration, Netflix_Rating_Og, Netflix_Rating_movie, Netflix_Rating_documentry, Netflix_Rating_others, Prime_Rating_Og, Prime_Rating_movie, Prime_Rating_documentry, Prime_Rating_others, Hotstar_Rating_Og, Hotstar_Rating_movie, Hotstar_Rating_documentry, Hotstar_Rating_sports, Netflix_OgSeries, Prime_OgSeries, Hotstar_OgSeries, Advertisment, Features, Overall_Rating, Suggestion]\n",
              "Index: []"
            ]
          },
          "metadata": {
            "tags": []
          },
          "execution_count": 14
        }
      ]
    },
    {
      "cell_type": "code",
      "metadata": {
        "colab": {
          "base_uri": "https://localhost:8080/"
        },
        "id": "8TSdDBpJAV22",
        "outputId": "3e68a338-c483-4c76-cac8-c4121b7b0f9a"
      },
      "source": [
        "data.duplicated().sum()"
      ],
      "execution_count": null,
      "outputs": [
        {
          "output_type": "execute_result",
          "data": {
            "text/plain": [
              "0"
            ]
          },
          "metadata": {
            "tags": []
          },
          "execution_count": 15
        }
      ]
    },
    {
      "cell_type": "markdown",
      "metadata": {
        "id": "K5kuWqrfRkgD"
      },
      "source": [
        "**checking null values of data**"
      ]
    },
    {
      "cell_type": "code",
      "metadata": {
        "colab": {
          "base_uri": "https://localhost:8080/",
          "height": 460
        },
        "id": "rRL8kcWPAV6G",
        "outputId": "5f2bc2c0-a060-4863-b48c-8dcc558331c2"
      },
      "source": [
        "data.isnull()"
      ],
      "execution_count": null,
      "outputs": [
        {
          "output_type": "execute_result",
          "data": {
            "text/html": [
              "<div>\n",
              "<style scoped>\n",
              "    .dataframe tbody tr th:only-of-type {\n",
              "        vertical-align: middle;\n",
              "    }\n",
              "\n",
              "    .dataframe tbody tr th {\n",
              "        vertical-align: top;\n",
              "    }\n",
              "\n",
              "    .dataframe thead th {\n",
              "        text-align: right;\n",
              "    }\n",
              "</style>\n",
              "<table border=\"1\" class=\"dataframe\">\n",
              "  <thead>\n",
              "    <tr style=\"text-align: right;\">\n",
              "      <th></th>\n",
              "      <th>Timestamp</th>\n",
              "      <th>Video Streaming Platform(Y/N)</th>\n",
              "      <th>Age</th>\n",
              "      <th>Frequency</th>\n",
              "      <th>Most_watched</th>\n",
              "      <th>Selection</th>\n",
              "      <th>Platforms</th>\n",
              "      <th>Subscription</th>\n",
              "      <th>Duration</th>\n",
              "      <th>Netflix_Rating_Og</th>\n",
              "      <th>Netflix_Rating_movie</th>\n",
              "      <th>Netflix_Rating_documentry</th>\n",
              "      <th>Netflix_Rating_others</th>\n",
              "      <th>Prime_Rating_Og</th>\n",
              "      <th>Prime_Rating_movie</th>\n",
              "      <th>Prime_Rating_documentry</th>\n",
              "      <th>Prime_Rating_others</th>\n",
              "      <th>Hotstar_Rating_Og</th>\n",
              "      <th>Hotstar_Rating_movie</th>\n",
              "      <th>Hotstar_Rating_documentry</th>\n",
              "      <th>Hotstar_Rating_sports</th>\n",
              "      <th>Netflix_OgSeries</th>\n",
              "      <th>Prime_OgSeries</th>\n",
              "      <th>Hotstar_OgSeries</th>\n",
              "      <th>Advertisment</th>\n",
              "      <th>Features</th>\n",
              "      <th>Overall_Rating</th>\n",
              "      <th>Suggestion</th>\n",
              "    </tr>\n",
              "  </thead>\n",
              "  <tbody>\n",
              "    <tr>\n",
              "      <th>0</th>\n",
              "      <td>False</td>\n",
              "      <td>False</td>\n",
              "      <td>False</td>\n",
              "      <td>False</td>\n",
              "      <td>False</td>\n",
              "      <td>False</td>\n",
              "      <td>False</td>\n",
              "      <td>False</td>\n",
              "      <td>False</td>\n",
              "      <td>False</td>\n",
              "      <td>False</td>\n",
              "      <td>False</td>\n",
              "      <td>False</td>\n",
              "      <td>False</td>\n",
              "      <td>False</td>\n",
              "      <td>False</td>\n",
              "      <td>False</td>\n",
              "      <td>False</td>\n",
              "      <td>False</td>\n",
              "      <td>False</td>\n",
              "      <td>False</td>\n",
              "      <td>False</td>\n",
              "      <td>False</td>\n",
              "      <td>False</td>\n",
              "      <td>False</td>\n",
              "      <td>False</td>\n",
              "      <td>False</td>\n",
              "      <td>False</td>\n",
              "    </tr>\n",
              "    <tr>\n",
              "      <th>1</th>\n",
              "      <td>False</td>\n",
              "      <td>False</td>\n",
              "      <td>False</td>\n",
              "      <td>False</td>\n",
              "      <td>False</td>\n",
              "      <td>False</td>\n",
              "      <td>False</td>\n",
              "      <td>False</td>\n",
              "      <td>False</td>\n",
              "      <td>False</td>\n",
              "      <td>False</td>\n",
              "      <td>False</td>\n",
              "      <td>False</td>\n",
              "      <td>False</td>\n",
              "      <td>False</td>\n",
              "      <td>False</td>\n",
              "      <td>False</td>\n",
              "      <td>False</td>\n",
              "      <td>False</td>\n",
              "      <td>False</td>\n",
              "      <td>False</td>\n",
              "      <td>False</td>\n",
              "      <td>False</td>\n",
              "      <td>False</td>\n",
              "      <td>False</td>\n",
              "      <td>False</td>\n",
              "      <td>False</td>\n",
              "      <td>False</td>\n",
              "    </tr>\n",
              "    <tr>\n",
              "      <th>2</th>\n",
              "      <td>False</td>\n",
              "      <td>False</td>\n",
              "      <td>False</td>\n",
              "      <td>False</td>\n",
              "      <td>False</td>\n",
              "      <td>False</td>\n",
              "      <td>False</td>\n",
              "      <td>False</td>\n",
              "      <td>False</td>\n",
              "      <td>False</td>\n",
              "      <td>False</td>\n",
              "      <td>False</td>\n",
              "      <td>False</td>\n",
              "      <td>False</td>\n",
              "      <td>False</td>\n",
              "      <td>False</td>\n",
              "      <td>False</td>\n",
              "      <td>False</td>\n",
              "      <td>False</td>\n",
              "      <td>False</td>\n",
              "      <td>False</td>\n",
              "      <td>False</td>\n",
              "      <td>False</td>\n",
              "      <td>False</td>\n",
              "      <td>False</td>\n",
              "      <td>False</td>\n",
              "      <td>False</td>\n",
              "      <td>False</td>\n",
              "    </tr>\n",
              "    <tr>\n",
              "      <th>3</th>\n",
              "      <td>False</td>\n",
              "      <td>False</td>\n",
              "      <td>False</td>\n",
              "      <td>False</td>\n",
              "      <td>False</td>\n",
              "      <td>False</td>\n",
              "      <td>False</td>\n",
              "      <td>False</td>\n",
              "      <td>False</td>\n",
              "      <td>False</td>\n",
              "      <td>False</td>\n",
              "      <td>False</td>\n",
              "      <td>False</td>\n",
              "      <td>False</td>\n",
              "      <td>False</td>\n",
              "      <td>False</td>\n",
              "      <td>False</td>\n",
              "      <td>False</td>\n",
              "      <td>False</td>\n",
              "      <td>False</td>\n",
              "      <td>False</td>\n",
              "      <td>False</td>\n",
              "      <td>False</td>\n",
              "      <td>False</td>\n",
              "      <td>False</td>\n",
              "      <td>False</td>\n",
              "      <td>False</td>\n",
              "      <td>False</td>\n",
              "    </tr>\n",
              "    <tr>\n",
              "      <th>4</th>\n",
              "      <td>False</td>\n",
              "      <td>False</td>\n",
              "      <td>False</td>\n",
              "      <td>False</td>\n",
              "      <td>False</td>\n",
              "      <td>False</td>\n",
              "      <td>False</td>\n",
              "      <td>False</td>\n",
              "      <td>False</td>\n",
              "      <td>False</td>\n",
              "      <td>False</td>\n",
              "      <td>False</td>\n",
              "      <td>False</td>\n",
              "      <td>False</td>\n",
              "      <td>False</td>\n",
              "      <td>False</td>\n",
              "      <td>False</td>\n",
              "      <td>False</td>\n",
              "      <td>False</td>\n",
              "      <td>False</td>\n",
              "      <td>False</td>\n",
              "      <td>False</td>\n",
              "      <td>False</td>\n",
              "      <td>False</td>\n",
              "      <td>False</td>\n",
              "      <td>False</td>\n",
              "      <td>False</td>\n",
              "      <td>False</td>\n",
              "    </tr>\n",
              "    <tr>\n",
              "      <th>...</th>\n",
              "      <td>...</td>\n",
              "      <td>...</td>\n",
              "      <td>...</td>\n",
              "      <td>...</td>\n",
              "      <td>...</td>\n",
              "      <td>...</td>\n",
              "      <td>...</td>\n",
              "      <td>...</td>\n",
              "      <td>...</td>\n",
              "      <td>...</td>\n",
              "      <td>...</td>\n",
              "      <td>...</td>\n",
              "      <td>...</td>\n",
              "      <td>...</td>\n",
              "      <td>...</td>\n",
              "      <td>...</td>\n",
              "      <td>...</td>\n",
              "      <td>...</td>\n",
              "      <td>...</td>\n",
              "      <td>...</td>\n",
              "      <td>...</td>\n",
              "      <td>...</td>\n",
              "      <td>...</td>\n",
              "      <td>...</td>\n",
              "      <td>...</td>\n",
              "      <td>...</td>\n",
              "      <td>...</td>\n",
              "      <td>...</td>\n",
              "    </tr>\n",
              "    <tr>\n",
              "      <th>245</th>\n",
              "      <td>False</td>\n",
              "      <td>False</td>\n",
              "      <td>False</td>\n",
              "      <td>False</td>\n",
              "      <td>False</td>\n",
              "      <td>False</td>\n",
              "      <td>False</td>\n",
              "      <td>False</td>\n",
              "      <td>False</td>\n",
              "      <td>False</td>\n",
              "      <td>False</td>\n",
              "      <td>False</td>\n",
              "      <td>False</td>\n",
              "      <td>False</td>\n",
              "      <td>False</td>\n",
              "      <td>False</td>\n",
              "      <td>False</td>\n",
              "      <td>False</td>\n",
              "      <td>False</td>\n",
              "      <td>False</td>\n",
              "      <td>False</td>\n",
              "      <td>False</td>\n",
              "      <td>False</td>\n",
              "      <td>False</td>\n",
              "      <td>False</td>\n",
              "      <td>False</td>\n",
              "      <td>False</td>\n",
              "      <td>False</td>\n",
              "    </tr>\n",
              "    <tr>\n",
              "      <th>246</th>\n",
              "      <td>False</td>\n",
              "      <td>False</td>\n",
              "      <td>False</td>\n",
              "      <td>False</td>\n",
              "      <td>False</td>\n",
              "      <td>False</td>\n",
              "      <td>False</td>\n",
              "      <td>False</td>\n",
              "      <td>False</td>\n",
              "      <td>False</td>\n",
              "      <td>False</td>\n",
              "      <td>False</td>\n",
              "      <td>False</td>\n",
              "      <td>False</td>\n",
              "      <td>False</td>\n",
              "      <td>False</td>\n",
              "      <td>False</td>\n",
              "      <td>False</td>\n",
              "      <td>False</td>\n",
              "      <td>False</td>\n",
              "      <td>False</td>\n",
              "      <td>False</td>\n",
              "      <td>False</td>\n",
              "      <td>False</td>\n",
              "      <td>False</td>\n",
              "      <td>False</td>\n",
              "      <td>False</td>\n",
              "      <td>False</td>\n",
              "    </tr>\n",
              "    <tr>\n",
              "      <th>247</th>\n",
              "      <td>False</td>\n",
              "      <td>False</td>\n",
              "      <td>False</td>\n",
              "      <td>False</td>\n",
              "      <td>False</td>\n",
              "      <td>False</td>\n",
              "      <td>False</td>\n",
              "      <td>False</td>\n",
              "      <td>False</td>\n",
              "      <td>False</td>\n",
              "      <td>False</td>\n",
              "      <td>False</td>\n",
              "      <td>False</td>\n",
              "      <td>False</td>\n",
              "      <td>False</td>\n",
              "      <td>False</td>\n",
              "      <td>False</td>\n",
              "      <td>False</td>\n",
              "      <td>False</td>\n",
              "      <td>False</td>\n",
              "      <td>False</td>\n",
              "      <td>False</td>\n",
              "      <td>False</td>\n",
              "      <td>False</td>\n",
              "      <td>False</td>\n",
              "      <td>False</td>\n",
              "      <td>False</td>\n",
              "      <td>False</td>\n",
              "    </tr>\n",
              "    <tr>\n",
              "      <th>248</th>\n",
              "      <td>False</td>\n",
              "      <td>False</td>\n",
              "      <td>False</td>\n",
              "      <td>False</td>\n",
              "      <td>False</td>\n",
              "      <td>False</td>\n",
              "      <td>False</td>\n",
              "      <td>False</td>\n",
              "      <td>False</td>\n",
              "      <td>False</td>\n",
              "      <td>False</td>\n",
              "      <td>False</td>\n",
              "      <td>False</td>\n",
              "      <td>False</td>\n",
              "      <td>False</td>\n",
              "      <td>False</td>\n",
              "      <td>False</td>\n",
              "      <td>False</td>\n",
              "      <td>False</td>\n",
              "      <td>False</td>\n",
              "      <td>False</td>\n",
              "      <td>False</td>\n",
              "      <td>False</td>\n",
              "      <td>False</td>\n",
              "      <td>False</td>\n",
              "      <td>False</td>\n",
              "      <td>False</td>\n",
              "      <td>False</td>\n",
              "    </tr>\n",
              "    <tr>\n",
              "      <th>249</th>\n",
              "      <td>False</td>\n",
              "      <td>False</td>\n",
              "      <td>False</td>\n",
              "      <td>False</td>\n",
              "      <td>False</td>\n",
              "      <td>False</td>\n",
              "      <td>False</td>\n",
              "      <td>False</td>\n",
              "      <td>False</td>\n",
              "      <td>False</td>\n",
              "      <td>False</td>\n",
              "      <td>False</td>\n",
              "      <td>False</td>\n",
              "      <td>False</td>\n",
              "      <td>False</td>\n",
              "      <td>False</td>\n",
              "      <td>False</td>\n",
              "      <td>False</td>\n",
              "      <td>False</td>\n",
              "      <td>False</td>\n",
              "      <td>False</td>\n",
              "      <td>False</td>\n",
              "      <td>False</td>\n",
              "      <td>False</td>\n",
              "      <td>False</td>\n",
              "      <td>False</td>\n",
              "      <td>False</td>\n",
              "      <td>False</td>\n",
              "    </tr>\n",
              "  </tbody>\n",
              "</table>\n",
              "<p>250 rows × 28 columns</p>\n",
              "</div>"
            ],
            "text/plain": [
              "     Timestamp  Video Streaming Platform(Y/N)  ...  Overall_Rating  Suggestion\n",
              "0        False                          False  ...           False       False\n",
              "1        False                          False  ...           False       False\n",
              "2        False                          False  ...           False       False\n",
              "3        False                          False  ...           False       False\n",
              "4        False                          False  ...           False       False\n",
              "..         ...                            ...  ...             ...         ...\n",
              "245      False                          False  ...           False       False\n",
              "246      False                          False  ...           False       False\n",
              "247      False                          False  ...           False       False\n",
              "248      False                          False  ...           False       False\n",
              "249      False                          False  ...           False       False\n",
              "\n",
              "[250 rows x 28 columns]"
            ]
          },
          "metadata": {
            "tags": []
          },
          "execution_count": 16
        }
      ]
    },
    {
      "cell_type": "code",
      "metadata": {
        "colab": {
          "base_uri": "https://localhost:8080/"
        },
        "id": "wJZJdIlKAV9F",
        "outputId": "e9c4c6b6-7ab1-462f-a804-bad4b0d06d1d"
      },
      "source": [
        "data.isnull().sum()"
      ],
      "execution_count": null,
      "outputs": [
        {
          "output_type": "execute_result",
          "data": {
            "text/plain": [
              "Timestamp                        0\n",
              "Video Streaming Platform(Y/N)    0\n",
              "Age                              0\n",
              "Frequency                        0\n",
              "Most_watched                     0\n",
              "Selection                        0\n",
              "Platforms                        0\n",
              "Subscription                     0\n",
              "Duration                         0\n",
              "Netflix_Rating_Og                0\n",
              "Netflix_Rating_movie             0\n",
              "Netflix_Rating_documentry        0\n",
              "Netflix_Rating_others            0\n",
              "Prime_Rating_Og                  0\n",
              "Prime_Rating_movie               0\n",
              "Prime_Rating_documentry          0\n",
              "Prime_Rating_others              0\n",
              "Hotstar_Rating_Og                0\n",
              "Hotstar_Rating_movie             0\n",
              "Hotstar_Rating_documentry        0\n",
              "Hotstar_Rating_sports            0\n",
              "Netflix_OgSeries                 0\n",
              "Prime_OgSeries                   0\n",
              "Hotstar_OgSeries                 0\n",
              "Advertisment                     0\n",
              "Features                         0\n",
              "Overall_Rating                   0\n",
              "Suggestion                       0\n",
              "dtype: int64"
            ]
          },
          "metadata": {
            "tags": []
          },
          "execution_count": 17
        }
      ]
    },
    {
      "cell_type": "markdown",
      "metadata": {
        "id": "rUF1y2_vRuje"
      },
      "source": [
        "**count of a column**"
      ]
    },
    {
      "cell_type": "code",
      "metadata": {
        "colab": {
          "base_uri": "https://localhost:8080/"
        },
        "id": "emO45gj6I_eu",
        "outputId": "d6ab7311-be77-4d92-e904-617af6ba68fe"
      },
      "source": [
        "data['Video Streaming Platform(Y/N)'].value_counts()"
      ],
      "execution_count": null,
      "outputs": [
        {
          "output_type": "execute_result",
          "data": {
            "text/plain": [
              "Yes    247\n",
              "No       3\n",
              "Name: Video Streaming Platform(Y/N), dtype: int64"
            ]
          },
          "metadata": {
            "tags": []
          },
          "execution_count": 18
        }
      ]
    },
    {
      "cell_type": "code",
      "metadata": {
        "colab": {
          "base_uri": "https://localhost:8080/"
        },
        "id": "oSXR3NaDJNrE",
        "outputId": "9a86574b-647a-4e16-f0a4-3a71688322cc"
      },
      "source": [
        "data['Age'].value_counts()"
      ],
      "execution_count": null,
      "outputs": [
        {
          "output_type": "execute_result",
          "data": {
            "text/plain": [
              "18-30           156\n",
              "31-50            64\n",
              "Less than 18     19\n",
              "More than 50     11\n",
              "Name: Age, dtype: int64"
            ]
          },
          "metadata": {
            "tags": []
          },
          "execution_count": 19
        }
      ]
    },
    {
      "cell_type": "code",
      "metadata": {
        "colab": {
          "base_uri": "https://localhost:8080/"
        },
        "id": "T2G0k2MHJNtm",
        "outputId": "00bb526b-8e65-48a5-b28b-071fcf31f526"
      },
      "source": [
        "data['Frequency'].value_counts()"
      ],
      "execution_count": null,
      "outputs": [
        {
          "output_type": "execute_result",
          "data": {
            "text/plain": [
              "Daily                      102\n",
              "Monthly                     85\n",
              "Once or twice in a week     58\n",
              "None of the above            5\n",
              "Name: Frequency, dtype: int64"
            ]
          },
          "metadata": {
            "tags": []
          },
          "execution_count": 20
        }
      ]
    },
    {
      "cell_type": "code",
      "metadata": {
        "colab": {
          "base_uri": "https://localhost:8080/"
        },
        "id": "EFNUV_HuJNwP",
        "outputId": "a58d39e1-24ee-41a1-a2ce-db85738f9d9c"
      },
      "source": [
        "data['Most_watched'].value_counts()"
      ],
      "execution_count": null,
      "outputs": [
        {
          "output_type": "execute_result",
          "data": {
            "text/plain": [
              "All of the above                                                                 95\n",
              "Original Web Series, Movies                                                      34\n",
              "Original Web Series                                                              28\n",
              "Movies                                                                           25\n",
              "Original Web Series, Movies, Documentaries                                       14\n",
              "Movies, Sports and News                                                          11\n",
              "Movies, Documentaries, Sports and News                                            9\n",
              "Original Web Series, Movies, Sports and News                                      8\n",
              "Movies, Documentaries                                                             6\n",
              "Original Web Series, Documentaries                                                4\n",
              "Original Web Series, Sports and News                                              4\n",
              "Original Web Series, Movies, Documentaries, Sports and News                       2\n",
              "Sports and News                                                                   2\n",
              "Original Web Series, Documentaries, Sports and News                               2\n",
              "Original Web Series, Movies, Documentaries, Sports and News, All of the above     2\n",
              "Documentaries                                                                     1\n",
              "Original Web Series, Movies, Sports and News, All of the above                    1\n",
              "Movies, All of the above                                                          1\n",
              "Documentaries, Sports and News                                                    1\n",
              "Name: Most_watched, dtype: int64"
            ]
          },
          "metadata": {
            "tags": []
          },
          "execution_count": 21
        }
      ]
    },
    {
      "cell_type": "code",
      "metadata": {
        "colab": {
          "base_uri": "https://localhost:8080/"
        },
        "id": "Qut8g0_OJNzO",
        "outputId": "9be4cf40-9c07-4700-b06f-24c56baa68b4"
      },
      "source": [
        "data['Selection'].value_counts()"
      ],
      "execution_count": null,
      "outputs": [
        {
          "output_type": "execute_result",
          "data": {
            "text/plain": [
              "All of the above                           119\n",
              "Story                                       63\n",
              "Cast, Story                                 29\n",
              "Story, Director                             20\n",
              "Cast, Story, Director                        8\n",
              "Director                                     2\n",
              "Cast                                         2\n",
              "Cast, Director                               2\n",
              "Cast, Story, Director, All of the above      2\n",
              "Director, All of the above                   1\n",
              "Story, All of the above                      1\n",
              "Story, Director, All of the above            1\n",
              "Name: Selection, dtype: int64"
            ]
          },
          "metadata": {
            "tags": []
          },
          "execution_count": 22
        }
      ]
    },
    {
      "cell_type": "code",
      "metadata": {
        "colab": {
          "base_uri": "https://localhost:8080/"
        },
        "id": "HZIL4ozgJN1z",
        "outputId": "82cc5974-8237-4733-9b5c-8939ad1042b4"
      },
      "source": [
        "data['Platforms'].value_counts()"
      ],
      "execution_count": null,
      "outputs": [
        {
          "output_type": "execute_result",
          "data": {
            "text/plain": [
              "All of the above    97\n",
              "Prime               63\n",
              "Netflix             54\n",
              "Hotstar             36\n",
              "Name: Platforms, dtype: int64"
            ]
          },
          "metadata": {
            "tags": []
          },
          "execution_count": 23
        }
      ]
    },
    {
      "cell_type": "code",
      "metadata": {
        "colab": {
          "base_uri": "https://localhost:8080/"
        },
        "id": "WnKQDj0hJN4l",
        "outputId": "650276e9-57eb-4e35-d42e-1bd2c73be67c"
      },
      "source": [
        "data['Subscription'].value_counts()"
      ],
      "execution_count": null,
      "outputs": [
        {
          "output_type": "execute_result",
          "data": {
            "text/plain": [
              "Original Web Series    100\n",
              "All of the above        76\n",
              "Movies                  49\n",
              "Sports and News         19\n",
              "Documentaries            6\n",
              "Name: Subscription, dtype: int64"
            ]
          },
          "metadata": {
            "tags": []
          },
          "execution_count": 24
        }
      ]
    },
    {
      "cell_type": "code",
      "metadata": {
        "colab": {
          "base_uri": "https://localhost:8080/"
        },
        "id": "9Pq_2wqDNqc8",
        "outputId": "c058a6ff-c435-4e9f-9267-f9c0a6578215"
      },
      "source": [
        "data['Duration'].value_counts()"
      ],
      "execution_count": null,
      "outputs": [
        {
          "output_type": "execute_result",
          "data": {
            "text/plain": [
              "More than 2 Year        97\n",
              "Less than 1 Year        78\n",
              "Between 1 and 2 Year    74\n",
              "None                     1\n",
              "Name: Duration, dtype: int64"
            ]
          },
          "metadata": {
            "tags": []
          },
          "execution_count": 25
        }
      ]
    },
    {
      "cell_type": "code",
      "metadata": {
        "colab": {
          "base_uri": "https://localhost:8080/"
        },
        "id": "pCt7qL5eNqgM",
        "outputId": "60ca0781-b979-4b9b-ab89-274ed4f900c2"
      },
      "source": [
        "data['Advertisment'].value_counts()"
      ],
      "execution_count": null,
      "outputs": [
        {
          "output_type": "execute_result",
          "data": {
            "text/plain": [
              "All of the above                 84\n",
              "Social Media                     75\n",
              "Family/Friends Recommendation    53\n",
              "Television                       38\n",
              "Name: Advertisment, dtype: int64"
            ]
          },
          "metadata": {
            "tags": []
          },
          "execution_count": 26
        }
      ]
    },
    {
      "cell_type": "code",
      "metadata": {
        "colab": {
          "base_uri": "https://localhost:8080/"
        },
        "id": "NKS2YE66NqjR",
        "outputId": "045215c9-6fc9-45ee-8eb4-2ae9f30c4dc1"
      },
      "source": [
        "data['Features'].value_counts()"
      ],
      "execution_count": null,
      "outputs": [
        {
          "output_type": "execute_result",
          "data": {
            "text/plain": [
              "Recommendation      73\n",
              "All of the above    72\n",
              "Search Option       53\n",
              "Ease of use         52\n",
              "Name: Features, dtype: int64"
            ]
          },
          "metadata": {
            "tags": []
          },
          "execution_count": 27
        }
      ]
    },
    {
      "cell_type": "code",
      "metadata": {
        "colab": {
          "base_uri": "https://localhost:8080/"
        },
        "id": "zeBTPgvZNqmL",
        "outputId": "4feb67ca-b604-4103-8339-0a1d55fe9e81"
      },
      "source": [
        "data['Overall_Rating'].value_counts()"
      ],
      "execution_count": null,
      "outputs": [
        {
          "output_type": "execute_result",
          "data": {
            "text/plain": [
              "Excellent             151\n",
              "Good                   89\n",
              "Fair                    8\n",
              "Improvement Needed      2\n",
              "Name: Overall_Rating, dtype: int64"
            ]
          },
          "metadata": {
            "tags": []
          },
          "execution_count": 28
        }
      ]
    },
    {
      "cell_type": "code",
      "metadata": {
        "colab": {
          "base_uri": "https://localhost:8080/"
        },
        "id": "dv6dquHuI_hT",
        "outputId": "23361f77-2a44-4e05-d0f9-8791b346a1c0"
      },
      "source": [
        "data['Suggestion'].value_counts()"
      ],
      "execution_count": null,
      "outputs": [
        {
          "output_type": "execute_result",
          "data": {
            "text/plain": [
              "Remove Ads/Limit Ads duration    81\n",
              "Availability in Languages        67\n",
              "Decrease Subscription Price      51\n",
              "Improvement in Story ,Casting    37\n",
              "All of the above                 14\n",
              "Name: Suggestion, dtype: int64"
            ]
          },
          "metadata": {
            "tags": []
          },
          "execution_count": 431
        }
      ]
    },
    {
      "cell_type": "markdown",
      "metadata": {
        "id": "vt5y268pJjAD"
      },
      "source": [
        "\n",
        "Converting the Video Streaming Platform(Y/N) columns into integer."
      ]
    },
    {
      "cell_type": "code",
      "metadata": {
        "id": "5aSq2FKPJhdS"
      },
      "source": [
        "def trans_con(x):\n",
        "    if x =='Yes':\n",
        "        return 1\n",
        "    if x =='No':\n",
        "        return 0"
      ],
      "execution_count": 39,
      "outputs": []
    },
    {
      "cell_type": "code",
      "metadata": {
        "colab": {
          "base_uri": "https://localhost:8080/"
        },
        "id": "Y7b4KZfKJiNO",
        "outputId": "786453ff-9b6b-4fd6-f47b-35210f8b9e30"
      },
      "source": [
        "data['Video Streaming Platform(Y/N)'].apply(trans_con)\n"
      ],
      "execution_count": 40,
      "outputs": [
        {
          "output_type": "execute_result",
          "data": {
            "text/plain": [
              "0      1\n",
              "1      1\n",
              "2      1\n",
              "3      1\n",
              "4      1\n",
              "      ..\n",
              "245    1\n",
              "246    1\n",
              "247    1\n",
              "248    1\n",
              "249    1\n",
              "Name: Video Streaming Platform(Y/N), Length: 250, dtype: int64"
            ]
          },
          "metadata": {
            "tags": []
          },
          "execution_count": 40
        }
      ]
    },
    {
      "cell_type": "markdown",
      "metadata": {
        "id": "UtBQsRX8R5rs"
      },
      "source": [
        "converting frequency column into int"
      ]
    },
    {
      "cell_type": "code",
      "metadata": {
        "id": "RNly4nJXKu9I"
      },
      "source": [
        "def trans_con(x):\n",
        "    if x =='Daily':\n",
        "          return 1\n",
        "    if x =='Monthly':\n",
        "           return 2\n",
        "    if x =='Once or twice in a week':\n",
        "          return 3\n",
        "    if x =='None of the Above':\n",
        "         return 0"
      ],
      "execution_count": 41,
      "outputs": []
    },
    {
      "cell_type": "code",
      "metadata": {
        "colab": {
          "base_uri": "https://localhost:8080/"
        },
        "id": "pSWxG-xcKu0m",
        "outputId": "75bd33db-3d7d-475a-9dbd-c3153bf26834"
      },
      "source": [
        "data['Frequency'].apply(trans_con)\n"
      ],
      "execution_count": 42,
      "outputs": [
        {
          "output_type": "execute_result",
          "data": {
            "text/plain": [
              "0      1.0\n",
              "1      3.0\n",
              "2      3.0\n",
              "3      2.0\n",
              "4      3.0\n",
              "      ... \n",
              "245    2.0\n",
              "246    2.0\n",
              "247    3.0\n",
              "248    3.0\n",
              "249    2.0\n",
              "Name: Frequency, Length: 250, dtype: float64"
            ]
          },
          "metadata": {
            "tags": []
          },
          "execution_count": 42
        }
      ]
    },
    {
      "cell_type": "code",
      "metadata": {
        "id": "KtM9WrWJI_yJ"
      },
      "source": [
        "def trans_conn(x):\n",
        "    if x =='Excellent':\n",
        "        return 1\n",
        "    if x =='Good':\n",
        "        return 2\n",
        "    if x =='Fair':\n",
        "        return 3\n",
        "    if x =='Improvement Needed':\n",
        "        return 0"
      ],
      "execution_count": 43,
      "outputs": []
    },
    {
      "cell_type": "code",
      "metadata": {
        "id": "QuOfPYAAI_09"
      },
      "source": [
        "data['Overall_Rating']=data['Overall_Rating'].apply(trans_conn)"
      ],
      "execution_count": 44,
      "outputs": []
    },
    {
      "cell_type": "markdown",
      "metadata": {
        "id": "A5ziIPw-Wbsl"
      },
      "source": [
        "**Changing the same names of the columns.**"
      ]
    },
    {
      "cell_type": "code",
      "metadata": {
        "id": "qW2fE9XRI_kV"
      },
      "source": [
        "data['Most_watched']=data['Most_watched'].map(lambda x: 'All of the above' if (str(x)=='Original Web Series, Movies, Documentaries, Sports and News' or str(x)=='Movies, All of the above' or str(x)=='Original Web Series, Movies, Documentaries, Sports and News, All of the above' or str(x)=='Original Web Series, Movies, Sports and News, All of the above') else x)\n",
        "data['Selection']=data['Selection'].map(lambda x: 'All of the above' if (str(x)=='Cast, Story, Director, All of the above' or str(x)=='Story, Director, All of the above' or str(x)=='Story, All of the above' or str(x)=='Director, All of the above') else x)\n",
        "data['Netflix_OgSeries']=data['Netflix_OgSeries'].map(lambda x: 'All of the above' if (str(x)=='Sacred Games, 13 Reason Why, The Witcher, Money Heist, All of the Above' or str(x)=='Sacred Games, 13 Reason Why, The Witcher, Money Heist' or str(x)=='13 Reason Why, The Witcher, All of the Above' or str(x)=='The Witcher, Money Heist, All of the Above' or str(x)=='Sacred Games, All of the Above' or str(x)=='Money Heist, All of the Above' or str(x)=='The Witcher, All of the Above' or str(x)=='All of the Above') else x)\n",
        "data['Prime_OgSeries']=data['Prime_OgSeries'].map(lambda x: 'All of the above' if (str(x)=='Mirzapur, Made in heaven, Tandav, Breath into the shadow, All of the above' or str(x)=='Tandav, All of the above' or str(x)=='Mirzapur, Made in heaven, Tandav, Breath into the shadow' or str(x)=='Tandav, Breath into the shadow, All of the above' or str(x)=='Mirzapur, All of the above' or str(x)=='Mirzapur, Made in heaven, All of the above'  or str(x)=='Mirzapur, Tandav, All of the above') else x)\n",
        "data['Hotstar_OgSeries']=data['Hotstar_OgSeries'].map(lambda x: 'All of the above' if (str(x)=='Speacial OPS, Hostages, Criminal Justice, Arya' or str(x)=='Speacial OPS, All of the above' or str(x)=='Speacial OPS, Hostages, Criminal Justice, Arya, All of the above' or str(x)=='Hostages, Arya, All of the above') else x)"
      ],
      "execution_count": 45,
      "outputs": []
    },
    {
      "cell_type": "code",
      "metadata": {
        "colab": {
          "base_uri": "https://localhost:8080/"
        },
        "id": "s05w954DI_wC",
        "outputId": "b37622e1-e5fa-456e-b32e-12f782a76802"
      },
      "source": [
        "data['Most_watched'].value_counts()"
      ],
      "execution_count": null,
      "outputs": [
        {
          "output_type": "execute_result",
          "data": {
            "text/plain": [
              "All of the above                                       101\n",
              "Original Web Series, Movies                             34\n",
              "Original Web Series                                     28\n",
              "Movies                                                  25\n",
              "Original Web Series, Movies, Documentaries              14\n",
              "Movies, Sports and News                                 11\n",
              "Movies, Documentaries, Sports and News                   9\n",
              "Original Web Series, Movies, Sports and News             8\n",
              "Movies, Documentaries                                    6\n",
              "Original Web Series, Sports and News                     4\n",
              "Original Web Series, Documentaries                       4\n",
              "Sports and News                                          2\n",
              "Original Web Series, Documentaries, Sports and News      2\n",
              "Documentaries, Sports and News                           1\n",
              "Documentaries                                            1\n",
              "Name: Most_watched, dtype: int64"
            ]
          },
          "metadata": {
            "tags": []
          },
          "execution_count": 21
        }
      ]
    },
    {
      "cell_type": "markdown",
      "metadata": {
        "id": "KMcBR_gPTAg9"
      },
      "source": [
        "graph of platfoms"
      ]
    },
    {
      "cell_type": "code",
      "metadata": {
        "colab": {
          "base_uri": "https://localhost:8080/",
          "height": 401
        },
        "id": "zl5XKmJec4sE",
        "outputId": "ac54bd7a-f17c-40bb-d187-9f9d457a13e6"
      },
      "source": [
        "sns.catplot(x=\"Platforms\", kind=\"count\", palette=\"ch:.25\", data=data)\n"
      ],
      "execution_count": null,
      "outputs": [
        {
          "output_type": "execute_result",
          "data": {
            "text/plain": [
              "<seaborn.axisgrid.FacetGrid at 0x7fd953a735d0>"
            ]
          },
          "metadata": {
            "tags": []
          },
          "execution_count": 22
        },
        {
          "output_type": "display_data",
          "data": {
            "image/png": "[encoded data removed]",
            "text/plain": [
              "<Figure size 360x360 with 1 Axes>"
            ]
          },
          "metadata": {
            "tags": [],
            "needs_background": "light"
          }
        }
      ]
    },
    {
      "cell_type": "markdown",
      "metadata": {
        "id": "HIgMGg4NXACO"
      },
      "source": [
        "#Representation of most watched Types and Subscription"
      ]
    },
    {
      "cell_type": "code",
      "metadata": {
        "colab": {
          "base_uri": "https://localhost:8080/",
          "height": 498
        },
        "id": "JKT0fI0qYplb",
        "outputId": "2c72218a-afb9-485e-b481-b1ab0dff3800"
      },
      "source": [
        "data['Most_watched'].value_counts().plot(kind='barh',figsize=(10,8),color=\"brown\")\n",
        "plt.title(\"What do you watch the most on video streaming platform?\")\n",
        "plt.xlim(0,110)\n",
        "plt.show()"
      ],
      "execution_count": null,
      "outputs": [
        {
          "output_type": "display_data",
          "data": {
            "image/png": "[encoded data removed]",
            "text/plain": [
              "<Figure size 720x576 with 1 Axes>"
            ]
          },
          "metadata": {
            "tags": [],
            "needs_background": "light"
          }
        }
      ]
    },
    {
      "cell_type": "code",
      "metadata": {
        "colab": {
          "base_uri": "https://localhost:8080/",
          "height": 498
        },
        "id": "rej1Kl8fclGz",
        "outputId": "2ec0635b-b582-409b-9b37-a450b44ac7c6"
      },
      "source": [
        "data['Subscription'].value_counts().plot(kind='barh',figsize=(10,8),color=\"brown\")\n",
        "plt.title(\"On what basis you take subscriptions of platfroms?\")\n",
        "plt.xlim(0,110)\n",
        "plt.show()"
      ],
      "execution_count": null,
      "outputs": [
        {
          "output_type": "display_data",
          "data": {
            "image/png": "[encoded data removed]",
            "text/plain": [
              "<Figure size 720x576 with 1 Axes>"
            ]
          },
          "metadata": {
            "tags": [],
            "needs_background": "light"
          }
        }
      ]
    },
    {
      "cell_type": "markdown",
      "metadata": {
        "id": "84kOpXthc2E1"
      },
      "source": [
        "Here we can see that the highest count in most watched is all of the above and after that Original web series and movie and if we see in subscription graph Original web series has the highest count and after that all so we can say that Web series has high impact on subscription for any of the platforms.  "
      ]
    },
    {
      "cell_type": "markdown",
      "metadata": {
        "id": "Rpnsm8WAXKW6"
      },
      "source": [
        "#Presentation of Netflix's Series Count "
      ]
    },
    {
      "cell_type": "code",
      "metadata": {
        "colab": {
          "base_uri": "https://localhost:8080/",
          "height": 498
        },
        "id": "1Zhcam81DcKx",
        "outputId": "e4037185-7706-43c4-d556-02d42604a3cd"
      },
      "source": [
        "data['Netflix_OgSeries'].value_counts().plot(kind='barh',figsize=(10,8),color=\"blue\")\n",
        "plt.title(\"Do you know these series of Netflix?\")\n",
        "plt.xlim(0,120)\n",
        "plt.show()"
      ],
      "execution_count": null,
      "outputs": [
        {
          "output_type": "display_data",
          "data": {
            "image/png": "[encoded data removed]",
            "text/plain": [
              "<Figure size 720x576 with 1 Axes>"
            ]
          },
          "metadata": {
            "tags": [],
            "needs_background": "light"
          }
        }
      ]
    },
    {
      "cell_type": "markdown",
      "metadata": {
        "id": "jXEeZgvXXVIx"
      },
      "source": [
        "#Presentation of Prime's Series Count"
      ]
    },
    {
      "cell_type": "code",
      "metadata": {
        "colab": {
          "base_uri": "https://localhost:8080/",
          "height": 498
        },
        "id": "mgxb-h2fD7PB",
        "outputId": "c8ab40e5-0340-4765-e4f1-6bb8593d8791"
      },
      "source": [
        "data['Prime_OgSeries'].value_counts().plot(kind='barh',figsize=(10,8),color=\"blue\")\n",
        "plt.title(\"Do you know these series of Prime?\")\n",
        "plt.xlim(0,130)\n",
        "plt.show()"
      ],
      "execution_count": null,
      "outputs": [
        {
          "output_type": "display_data",
          "data": {
            "image/png": "[encoded data removed]",
            "text/plain": [
              "<Figure size 720x576 with 1 Axes>"
            ]
          },
          "metadata": {
            "tags": [],
            "needs_background": "light"
          }
        }
      ]
    },
    {
      "cell_type": "markdown",
      "metadata": {
        "id": "ilj5BTMpX5XS"
      },
      "source": [
        ""
      ]
    },
    {
      "cell_type": "markdown",
      "metadata": {
        "id": "AEWvMpmMX5cQ"
      },
      "source": [
        "#Presentation of Hotstar's Series Count "
      ]
    },
    {
      "cell_type": "code",
      "metadata": {
        "colab": {
          "base_uri": "https://localhost:8080/",
          "height": 498
        },
        "id": "t1UuVjPeEHpr",
        "outputId": "381ffdb9-ebed-4d7a-d308-d57a07f3b171"
      },
      "source": [
        "data['Hotstar_OgSeries'].value_counts().plot(kind='barh',figsize=(10,8),color=\"blue\")\n",
        "plt.title(\"Do you know these series of Hotstar?\")\n",
        "plt.xlim(0,100)\n",
        "plt.show()"
      ],
      "execution_count": null,
      "outputs": [
        {
          "output_type": "display_data",
          "data": {
            "image/png": "[encoded data removed]",
            "text/plain": [
              "<Figure size 720x576 with 1 Axes>"
            ]
          },
          "metadata": {
            "tags": [],
            "needs_background": "light"
          }
        }
      ]
    },
    {
      "cell_type": "markdown",
      "metadata": {
        "id": "rIHvGzeuYOcz"
      },
      "source": [
        "#Selection of Genres "
      ]
    },
    {
      "cell_type": "code",
      "metadata": {
        "colab": {
          "base_uri": "https://localhost:8080/",
          "height": 564
        },
        "id": "19De_TtSYprV",
        "outputId": "897bb06b-2126-4fb7-cc58-09e021df27c1"
      },
      "source": [
        "plt.figure(figsize=(12,8))\n",
        "plt.xticks(rotation=45)\n",
        "ax = sns.countplot(x=\"Selection\", hue=\"Platforms\", data=data , palette=\"cool\")"
      ],
      "execution_count": null,
      "outputs": [
        {
          "output_type": "display_data",
          "data": {
            "image/png": "[encoded data removed]",
            "text/plain": [
              "<Figure size 864x576 with 1 Axes>"
            ]
          },
          "metadata": {
            "tags": [],
            "needs_background": "light"
          }
        }
      ]
    },
    {
      "cell_type": "markdown",
      "metadata": {
        "id": "veFm8eK-ZP8_"
      },
      "source": [
        "#Relation between Overall Rating ,Platform and Age"
      ]
    },
    {
      "cell_type": "markdown",
      "metadata": {
        "id": "FbdESoMXZUYs"
      },
      "source": [
        ""
      ]
    },
    {
      "cell_type": "code",
      "metadata": {
        "colab": {
          "base_uri": "https://localhost:8080/",
          "height": 301
        },
        "id": "DE_fQCTuYpuW",
        "outputId": "271d1c36-cdb3-4ab2-f89d-d92580d807ae"
      },
      "source": [
        "g = sns.catplot(x=\"Overall_Rating\", hue=\"Platforms\", col=\"Age\",\n",
        "                data=data, kind=\"count\",\n",
        "                height=4, aspect=0.998,palette=\"cool\");"
      ],
      "execution_count": null,
      "outputs": [
        {
          "output_type": "display_data",
          "data": {
            "image/png": "[encoded data removed]",
            "text/plain": [
              "<Figure size 1276.42x288 with 4 Axes>"
            ]
          },
          "metadata": {
            "tags": []
          }
        }
      ]
    },
    {
      "cell_type": "markdown",
      "metadata": {
        "id": "47bVv_TpbtBv"
      },
      "source": [
        "#Relation between Most Watched and Platfroms."
      ]
    },
    {
      "cell_type": "code",
      "metadata": {
        "id": "MDlKPnHecc4-"
      },
      "source": [
        ""
      ],
      "execution_count": null,
      "outputs": []
    },
    {
      "cell_type": "code",
      "metadata": {
        "colab": {
          "base_uri": "https://localhost:8080/",
          "height": 611
        },
        "id": "8ehXxefxndZz",
        "outputId": "9bea67c7-c22a-44b8-9f70-045f122ed99a"
      },
      "source": [
        "plt.figure(figsize=(15,10))\n",
        "plt.xticks(rotation=45)\n",
        "plt.xlim(0,70)\n",
        "ax = sns.countplot(y=\"Most_watched\", hue=\"Platforms\", data=data , palette=\"hsv_r\")"
      ],
      "execution_count": null,
      "outputs": [
        {
          "output_type": "display_data",
          "data": {
            "image/png": "[encoded data removed]",
            "text/plain": [
              "<Figure size 1080x720 with 1 Axes>"
            ]
          },
          "metadata": {
            "tags": [],
            "needs_background": "light"
          }
        }
      ]
    },
    {
      "cell_type": "markdown",
      "metadata": {
        "id": "bQtLUT9fb2bX"
      },
      "source": [
        "#Relation Between Subscription and Platfroms"
      ]
    },
    {
      "cell_type": "code",
      "metadata": {
        "colab": {
          "base_uri": "https://localhost:8080/",
          "height": 611
        },
        "id": "2_Ix6X8Vb9gi",
        "outputId": "4112fbc0-6fa0-4d26-fd89-62fbfa979c91"
      },
      "source": [
        "plt.figure(figsize=(15,10))\n",
        "plt.xticks(rotation=45)\n",
        "plt.xlim(0,70)\n",
        "ax = sns.countplot(y=\"Subscription\", hue=\"Platforms\", data=data , palette=\"cool\")"
      ],
      "execution_count": null,
      "outputs": [
        {
          "output_type": "display_data",
          "data": {
            "image/png": "[encoded data removed]",
            "text/plain": [
              "<Figure size 1080x720 with 1 Axes>"
            ]
          },
          "metadata": {
            "tags": [],
            "needs_background": "light"
          }
        }
      ]
    },
    {
      "cell_type": "markdown",
      "metadata": {
        "id": "zkIQvigYZhXi"
      },
      "source": [
        "#Converting data into one_hot_encoding."
      ]
    },
    {
      "cell_type": "code",
      "metadata": {
        "colab": {
          "base_uri": "https://localhost:8080/",
          "height": 476
        },
        "id": "5IztiOZRYpxW",
        "outputId": "8341714d-b6fd-461d-cd8b-a7b04eb46e33"
      },
      "source": [
        "one_hot_data = pd.get_dummies(data[['Platforms','Age','Overall_Rating','Features','Most_watched']])\n",
        "one_hot_data"
      ],
      "execution_count": 46,
      "outputs": [
        {
          "output_type": "execute_result",
          "data": {
            "text/html": [
              "<div>\n",
              "<style scoped>\n",
              "    .dataframe tbody tr th:only-of-type {\n",
              "        vertical-align: middle;\n",
              "    }\n",
              "\n",
              "    .dataframe tbody tr th {\n",
              "        vertical-align: top;\n",
              "    }\n",
              "\n",
              "    .dataframe thead th {\n",
              "        text-align: right;\n",
              "    }\n",
              "</style>\n",
              "<table border=\"1\" class=\"dataframe\">\n",
              "  <thead>\n",
              "    <tr style=\"text-align: right;\">\n",
              "      <th></th>\n",
              "      <th>Overall_Rating</th>\n",
              "      <th>Platforms_All of the above</th>\n",
              "      <th>Platforms_Hotstar</th>\n",
              "      <th>Platforms_Netflix</th>\n",
              "      <th>Platforms_Prime</th>\n",
              "      <th>Age_18-30</th>\n",
              "      <th>Age_31-50</th>\n",
              "      <th>Age_Less than 18</th>\n",
              "      <th>Age_More than 50</th>\n",
              "      <th>Features_All of the above</th>\n",
              "      <th>Features_Ease of use</th>\n",
              "      <th>Features_Recommendation</th>\n",
              "      <th>Features_Search Option</th>\n",
              "      <th>Most_watched_All of the above</th>\n",
              "      <th>Most_watched_Documentaries</th>\n",
              "      <th>Most_watched_Documentaries, Sports and News</th>\n",
              "      <th>Most_watched_Movies</th>\n",
              "      <th>Most_watched_Movies, Documentaries</th>\n",
              "      <th>Most_watched_Movies, Documentaries, Sports and News</th>\n",
              "      <th>Most_watched_Movies, Sports and News</th>\n",
              "      <th>Most_watched_Original Web Series</th>\n",
              "      <th>Most_watched_Original Web Series, Documentaries</th>\n",
              "      <th>Most_watched_Original Web Series, Documentaries, Sports and News</th>\n",
              "      <th>Most_watched_Original Web Series, Movies</th>\n",
              "      <th>Most_watched_Original Web Series, Movies, Documentaries</th>\n",
              "      <th>Most_watched_Original Web Series, Movies, Sports and News</th>\n",
              "      <th>Most_watched_Original Web Series, Sports and News</th>\n",
              "      <th>Most_watched_Sports and News</th>\n",
              "    </tr>\n",
              "  </thead>\n",
              "  <tbody>\n",
              "    <tr>\n",
              "      <th>0</th>\n",
              "      <td>2</td>\n",
              "      <td>0</td>\n",
              "      <td>0</td>\n",
              "      <td>0</td>\n",
              "      <td>1</td>\n",
              "      <td>1</td>\n",
              "      <td>0</td>\n",
              "      <td>0</td>\n",
              "      <td>0</td>\n",
              "      <td>0</td>\n",
              "      <td>0</td>\n",
              "      <td>0</td>\n",
              "      <td>1</td>\n",
              "      <td>1</td>\n",
              "      <td>0</td>\n",
              "      <td>0</td>\n",
              "      <td>0</td>\n",
              "      <td>0</td>\n",
              "      <td>0</td>\n",
              "      <td>0</td>\n",
              "      <td>0</td>\n",
              "      <td>0</td>\n",
              "      <td>0</td>\n",
              "      <td>0</td>\n",
              "      <td>0</td>\n",
              "      <td>0</td>\n",
              "      <td>0</td>\n",
              "      <td>0</td>\n",
              "    </tr>\n",
              "    <tr>\n",
              "      <th>1</th>\n",
              "      <td>2</td>\n",
              "      <td>0</td>\n",
              "      <td>0</td>\n",
              "      <td>1</td>\n",
              "      <td>0</td>\n",
              "      <td>1</td>\n",
              "      <td>0</td>\n",
              "      <td>0</td>\n",
              "      <td>0</td>\n",
              "      <td>0</td>\n",
              "      <td>0</td>\n",
              "      <td>0</td>\n",
              "      <td>1</td>\n",
              "      <td>0</td>\n",
              "      <td>0</td>\n",
              "      <td>0</td>\n",
              "      <td>0</td>\n",
              "      <td>0</td>\n",
              "      <td>0</td>\n",
              "      <td>0</td>\n",
              "      <td>1</td>\n",
              "      <td>0</td>\n",
              "      <td>0</td>\n",
              "      <td>0</td>\n",
              "      <td>0</td>\n",
              "      <td>0</td>\n",
              "      <td>0</td>\n",
              "      <td>0</td>\n",
              "    </tr>\n",
              "    <tr>\n",
              "      <th>2</th>\n",
              "      <td>1</td>\n",
              "      <td>0</td>\n",
              "      <td>1</td>\n",
              "      <td>0</td>\n",
              "      <td>0</td>\n",
              "      <td>1</td>\n",
              "      <td>0</td>\n",
              "      <td>0</td>\n",
              "      <td>0</td>\n",
              "      <td>0</td>\n",
              "      <td>0</td>\n",
              "      <td>1</td>\n",
              "      <td>0</td>\n",
              "      <td>0</td>\n",
              "      <td>0</td>\n",
              "      <td>0</td>\n",
              "      <td>1</td>\n",
              "      <td>0</td>\n",
              "      <td>0</td>\n",
              "      <td>0</td>\n",
              "      <td>0</td>\n",
              "      <td>0</td>\n",
              "      <td>0</td>\n",
              "      <td>0</td>\n",
              "      <td>0</td>\n",
              "      <td>0</td>\n",
              "      <td>0</td>\n",
              "      <td>0</td>\n",
              "    </tr>\n",
              "    <tr>\n",
              "      <th>3</th>\n",
              "      <td>2</td>\n",
              "      <td>0</td>\n",
              "      <td>1</td>\n",
              "      <td>0</td>\n",
              "      <td>0</td>\n",
              "      <td>0</td>\n",
              "      <td>1</td>\n",
              "      <td>0</td>\n",
              "      <td>0</td>\n",
              "      <td>0</td>\n",
              "      <td>1</td>\n",
              "      <td>0</td>\n",
              "      <td>0</td>\n",
              "      <td>0</td>\n",
              "      <td>0</td>\n",
              "      <td>0</td>\n",
              "      <td>0</td>\n",
              "      <td>0</td>\n",
              "      <td>1</td>\n",
              "      <td>0</td>\n",
              "      <td>0</td>\n",
              "      <td>0</td>\n",
              "      <td>0</td>\n",
              "      <td>0</td>\n",
              "      <td>0</td>\n",
              "      <td>0</td>\n",
              "      <td>0</td>\n",
              "      <td>0</td>\n",
              "    </tr>\n",
              "    <tr>\n",
              "      <th>4</th>\n",
              "      <td>2</td>\n",
              "      <td>1</td>\n",
              "      <td>0</td>\n",
              "      <td>0</td>\n",
              "      <td>0</td>\n",
              "      <td>1</td>\n",
              "      <td>0</td>\n",
              "      <td>0</td>\n",
              "      <td>0</td>\n",
              "      <td>1</td>\n",
              "      <td>0</td>\n",
              "      <td>0</td>\n",
              "      <td>0</td>\n",
              "      <td>0</td>\n",
              "      <td>0</td>\n",
              "      <td>0</td>\n",
              "      <td>1</td>\n",
              "      <td>0</td>\n",
              "      <td>0</td>\n",
              "      <td>0</td>\n",
              "      <td>0</td>\n",
              "      <td>0</td>\n",
              "      <td>0</td>\n",
              "      <td>0</td>\n",
              "      <td>0</td>\n",
              "      <td>0</td>\n",
              "      <td>0</td>\n",
              "      <td>0</td>\n",
              "    </tr>\n",
              "    <tr>\n",
              "      <th>...</th>\n",
              "      <td>...</td>\n",
              "      <td>...</td>\n",
              "      <td>...</td>\n",
              "      <td>...</td>\n",
              "      <td>...</td>\n",
              "      <td>...</td>\n",
              "      <td>...</td>\n",
              "      <td>...</td>\n",
              "      <td>...</td>\n",
              "      <td>...</td>\n",
              "      <td>...</td>\n",
              "      <td>...</td>\n",
              "      <td>...</td>\n",
              "      <td>...</td>\n",
              "      <td>...</td>\n",
              "      <td>...</td>\n",
              "      <td>...</td>\n",
              "      <td>...</td>\n",
              "      <td>...</td>\n",
              "      <td>...</td>\n",
              "      <td>...</td>\n",
              "      <td>...</td>\n",
              "      <td>...</td>\n",
              "      <td>...</td>\n",
              "      <td>...</td>\n",
              "      <td>...</td>\n",
              "      <td>...</td>\n",
              "      <td>...</td>\n",
              "    </tr>\n",
              "    <tr>\n",
              "      <th>245</th>\n",
              "      <td>2</td>\n",
              "      <td>0</td>\n",
              "      <td>0</td>\n",
              "      <td>1</td>\n",
              "      <td>0</td>\n",
              "      <td>0</td>\n",
              "      <td>0</td>\n",
              "      <td>1</td>\n",
              "      <td>0</td>\n",
              "      <td>1</td>\n",
              "      <td>0</td>\n",
              "      <td>0</td>\n",
              "      <td>0</td>\n",
              "      <td>0</td>\n",
              "      <td>0</td>\n",
              "      <td>0</td>\n",
              "      <td>0</td>\n",
              "      <td>0</td>\n",
              "      <td>0</td>\n",
              "      <td>0</td>\n",
              "      <td>0</td>\n",
              "      <td>0</td>\n",
              "      <td>0</td>\n",
              "      <td>1</td>\n",
              "      <td>0</td>\n",
              "      <td>0</td>\n",
              "      <td>0</td>\n",
              "      <td>0</td>\n",
              "    </tr>\n",
              "    <tr>\n",
              "      <th>246</th>\n",
              "      <td>1</td>\n",
              "      <td>0</td>\n",
              "      <td>0</td>\n",
              "      <td>1</td>\n",
              "      <td>0</td>\n",
              "      <td>0</td>\n",
              "      <td>1</td>\n",
              "      <td>0</td>\n",
              "      <td>0</td>\n",
              "      <td>1</td>\n",
              "      <td>0</td>\n",
              "      <td>0</td>\n",
              "      <td>0</td>\n",
              "      <td>0</td>\n",
              "      <td>0</td>\n",
              "      <td>0</td>\n",
              "      <td>1</td>\n",
              "      <td>0</td>\n",
              "      <td>0</td>\n",
              "      <td>0</td>\n",
              "      <td>0</td>\n",
              "      <td>0</td>\n",
              "      <td>0</td>\n",
              "      <td>0</td>\n",
              "      <td>0</td>\n",
              "      <td>0</td>\n",
              "      <td>0</td>\n",
              "      <td>0</td>\n",
              "    </tr>\n",
              "    <tr>\n",
              "      <th>247</th>\n",
              "      <td>2</td>\n",
              "      <td>0</td>\n",
              "      <td>0</td>\n",
              "      <td>0</td>\n",
              "      <td>1</td>\n",
              "      <td>1</td>\n",
              "      <td>0</td>\n",
              "      <td>0</td>\n",
              "      <td>0</td>\n",
              "      <td>0</td>\n",
              "      <td>1</td>\n",
              "      <td>0</td>\n",
              "      <td>0</td>\n",
              "      <td>0</td>\n",
              "      <td>0</td>\n",
              "      <td>0</td>\n",
              "      <td>0</td>\n",
              "      <td>0</td>\n",
              "      <td>0</td>\n",
              "      <td>1</td>\n",
              "      <td>0</td>\n",
              "      <td>0</td>\n",
              "      <td>0</td>\n",
              "      <td>0</td>\n",
              "      <td>0</td>\n",
              "      <td>0</td>\n",
              "      <td>0</td>\n",
              "      <td>0</td>\n",
              "    </tr>\n",
              "    <tr>\n",
              "      <th>248</th>\n",
              "      <td>1</td>\n",
              "      <td>0</td>\n",
              "      <td>0</td>\n",
              "      <td>0</td>\n",
              "      <td>1</td>\n",
              "      <td>1</td>\n",
              "      <td>0</td>\n",
              "      <td>0</td>\n",
              "      <td>0</td>\n",
              "      <td>0</td>\n",
              "      <td>0</td>\n",
              "      <td>1</td>\n",
              "      <td>0</td>\n",
              "      <td>0</td>\n",
              "      <td>0</td>\n",
              "      <td>0</td>\n",
              "      <td>0</td>\n",
              "      <td>0</td>\n",
              "      <td>0</td>\n",
              "      <td>1</td>\n",
              "      <td>0</td>\n",
              "      <td>0</td>\n",
              "      <td>0</td>\n",
              "      <td>0</td>\n",
              "      <td>0</td>\n",
              "      <td>0</td>\n",
              "      <td>0</td>\n",
              "      <td>0</td>\n",
              "    </tr>\n",
              "    <tr>\n",
              "      <th>249</th>\n",
              "      <td>1</td>\n",
              "      <td>1</td>\n",
              "      <td>0</td>\n",
              "      <td>0</td>\n",
              "      <td>0</td>\n",
              "      <td>0</td>\n",
              "      <td>1</td>\n",
              "      <td>0</td>\n",
              "      <td>0</td>\n",
              "      <td>0</td>\n",
              "      <td>1</td>\n",
              "      <td>0</td>\n",
              "      <td>0</td>\n",
              "      <td>1</td>\n",
              "      <td>0</td>\n",
              "      <td>0</td>\n",
              "      <td>0</td>\n",
              "      <td>0</td>\n",
              "      <td>0</td>\n",
              "      <td>0</td>\n",
              "      <td>0</td>\n",
              "      <td>0</td>\n",
              "      <td>0</td>\n",
              "      <td>0</td>\n",
              "      <td>0</td>\n",
              "      <td>0</td>\n",
              "      <td>0</td>\n",
              "      <td>0</td>\n",
              "    </tr>\n",
              "  </tbody>\n",
              "</table>\n",
              "<p>250 rows × 28 columns</p>\n",
              "</div>"
            ],
            "text/plain": [
              "     Overall_Rating  ...  Most_watched_Sports and News\n",
              "0                 2  ...                             0\n",
              "1                 2  ...                             0\n",
              "2                 1  ...                             0\n",
              "3                 2  ...                             0\n",
              "4                 2  ...                             0\n",
              "..              ...  ...                           ...\n",
              "245               2  ...                             0\n",
              "246               1  ...                             0\n",
              "247               2  ...                             0\n",
              "248               1  ...                             0\n",
              "249               1  ...                             0\n",
              "\n",
              "[250 rows x 28 columns]"
            ]
          },
          "metadata": {
            "tags": []
          },
          "execution_count": 46
        }
      ]
    },
    {
      "cell_type": "code",
      "metadata": {
        "colab": {
          "base_uri": "https://localhost:8080/",
          "height": 476
        },
        "id": "7P-P8DywYp1c",
        "outputId": "6dbae9e5-e759-40e7-e10c-9d37c6a2aadc"
      },
      "source": [
        "one_hot_data = pd.get_dummies(data[['Platforms','Age','Overall_Rating','Features','Most_watched']],drop_first=True)\n",
        "one_hot_data"
      ],
      "execution_count": 47,
      "outputs": [
        {
          "output_type": "execute_result",
          "data": {
            "text/html": [
              "<div>\n",
              "<style scoped>\n",
              "    .dataframe tbody tr th:only-of-type {\n",
              "        vertical-align: middle;\n",
              "    }\n",
              "\n",
              "    .dataframe tbody tr th {\n",
              "        vertical-align: top;\n",
              "    }\n",
              "\n",
              "    .dataframe thead th {\n",
              "        text-align: right;\n",
              "    }\n",
              "</style>\n",
              "<table border=\"1\" class=\"dataframe\">\n",
              "  <thead>\n",
              "    <tr style=\"text-align: right;\">\n",
              "      <th></th>\n",
              "      <th>Overall_Rating</th>\n",
              "      <th>Platforms_Hotstar</th>\n",
              "      <th>Platforms_Netflix</th>\n",
              "      <th>Platforms_Prime</th>\n",
              "      <th>Age_31-50</th>\n",
              "      <th>Age_Less than 18</th>\n",
              "      <th>Age_More than 50</th>\n",
              "      <th>Features_Ease of use</th>\n",
              "      <th>Features_Recommendation</th>\n",
              "      <th>Features_Search Option</th>\n",
              "      <th>Most_watched_Documentaries</th>\n",
              "      <th>Most_watched_Documentaries, Sports and News</th>\n",
              "      <th>Most_watched_Movies</th>\n",
              "      <th>Most_watched_Movies, Documentaries</th>\n",
              "      <th>Most_watched_Movies, Documentaries, Sports and News</th>\n",
              "      <th>Most_watched_Movies, Sports and News</th>\n",
              "      <th>Most_watched_Original Web Series</th>\n",
              "      <th>Most_watched_Original Web Series, Documentaries</th>\n",
              "      <th>Most_watched_Original Web Series, Documentaries, Sports and News</th>\n",
              "      <th>Most_watched_Original Web Series, Movies</th>\n",
              "      <th>Most_watched_Original Web Series, Movies, Documentaries</th>\n",
              "      <th>Most_watched_Original Web Series, Movies, Sports and News</th>\n",
              "      <th>Most_watched_Original Web Series, Sports and News</th>\n",
              "      <th>Most_watched_Sports and News</th>\n",
              "    </tr>\n",
              "  </thead>\n",
              "  <tbody>\n",
              "    <tr>\n",
              "      <th>0</th>\n",
              "      <td>2</td>\n",
              "      <td>0</td>\n",
              "      <td>0</td>\n",
              "      <td>1</td>\n",
              "      <td>0</td>\n",
              "      <td>0</td>\n",
              "      <td>0</td>\n",
              "      <td>0</td>\n",
              "      <td>0</td>\n",
              "      <td>1</td>\n",
              "      <td>0</td>\n",
              "      <td>0</td>\n",
              "      <td>0</td>\n",
              "      <td>0</td>\n",
              "      <td>0</td>\n",
              "      <td>0</td>\n",
              "      <td>0</td>\n",
              "      <td>0</td>\n",
              "      <td>0</td>\n",
              "      <td>0</td>\n",
              "      <td>0</td>\n",
              "      <td>0</td>\n",
              "      <td>0</td>\n",
              "      <td>0</td>\n",
              "    </tr>\n",
              "    <tr>\n",
              "      <th>1</th>\n",
              "      <td>2</td>\n",
              "      <td>0</td>\n",
              "      <td>1</td>\n",
              "      <td>0</td>\n",
              "      <td>0</td>\n",
              "      <td>0</td>\n",
              "      <td>0</td>\n",
              "      <td>0</td>\n",
              "      <td>0</td>\n",
              "      <td>1</td>\n",
              "      <td>0</td>\n",
              "      <td>0</td>\n",
              "      <td>0</td>\n",
              "      <td>0</td>\n",
              "      <td>0</td>\n",
              "      <td>0</td>\n",
              "      <td>1</td>\n",
              "      <td>0</td>\n",
              "      <td>0</td>\n",
              "      <td>0</td>\n",
              "      <td>0</td>\n",
              "      <td>0</td>\n",
              "      <td>0</td>\n",
              "      <td>0</td>\n",
              "    </tr>\n",
              "    <tr>\n",
              "      <th>2</th>\n",
              "      <td>1</td>\n",
              "      <td>1</td>\n",
              "      <td>0</td>\n",
              "      <td>0</td>\n",
              "      <td>0</td>\n",
              "      <td>0</td>\n",
              "      <td>0</td>\n",
              "      <td>0</td>\n",
              "      <td>1</td>\n",
              "      <td>0</td>\n",
              "      <td>0</td>\n",
              "      <td>0</td>\n",
              "      <td>1</td>\n",
              "      <td>0</td>\n",
              "      <td>0</td>\n",
              "      <td>0</td>\n",
              "      <td>0</td>\n",
              "      <td>0</td>\n",
              "      <td>0</td>\n",
              "      <td>0</td>\n",
              "      <td>0</td>\n",
              "      <td>0</td>\n",
              "      <td>0</td>\n",
              "      <td>0</td>\n",
              "    </tr>\n",
              "    <tr>\n",
              "      <th>3</th>\n",
              "      <td>2</td>\n",
              "      <td>1</td>\n",
              "      <td>0</td>\n",
              "      <td>0</td>\n",
              "      <td>1</td>\n",
              "      <td>0</td>\n",
              "      <td>0</td>\n",
              "      <td>1</td>\n",
              "      <td>0</td>\n",
              "      <td>0</td>\n",
              "      <td>0</td>\n",
              "      <td>0</td>\n",
              "      <td>0</td>\n",
              "      <td>0</td>\n",
              "      <td>1</td>\n",
              "      <td>0</td>\n",
              "      <td>0</td>\n",
              "      <td>0</td>\n",
              "      <td>0</td>\n",
              "      <td>0</td>\n",
              "      <td>0</td>\n",
              "      <td>0</td>\n",
              "      <td>0</td>\n",
              "      <td>0</td>\n",
              "    </tr>\n",
              "    <tr>\n",
              "      <th>4</th>\n",
              "      <td>2</td>\n",
              "      <td>0</td>\n",
              "      <td>0</td>\n",
              "      <td>0</td>\n",
              "      <td>0</td>\n",
              "      <td>0</td>\n",
              "      <td>0</td>\n",
              "      <td>0</td>\n",
              "      <td>0</td>\n",
              "      <td>0</td>\n",
              "      <td>0</td>\n",
              "      <td>0</td>\n",
              "      <td>1</td>\n",
              "      <td>0</td>\n",
              "      <td>0</td>\n",
              "      <td>0</td>\n",
              "      <td>0</td>\n",
              "      <td>0</td>\n",
              "      <td>0</td>\n",
              "      <td>0</td>\n",
              "      <td>0</td>\n",
              "      <td>0</td>\n",
              "      <td>0</td>\n",
              "      <td>0</td>\n",
              "    </tr>\n",
              "    <tr>\n",
              "      <th>...</th>\n",
              "      <td>...</td>\n",
              "      <td>...</td>\n",
              "      <td>...</td>\n",
              "      <td>...</td>\n",
              "      <td>...</td>\n",
              "      <td>...</td>\n",
              "      <td>...</td>\n",
              "      <td>...</td>\n",
              "      <td>...</td>\n",
              "      <td>...</td>\n",
              "      <td>...</td>\n",
              "      <td>...</td>\n",
              "      <td>...</td>\n",
              "      <td>...</td>\n",
              "      <td>...</td>\n",
              "      <td>...</td>\n",
              "      <td>...</td>\n",
              "      <td>...</td>\n",
              "      <td>...</td>\n",
              "      <td>...</td>\n",
              "      <td>...</td>\n",
              "      <td>...</td>\n",
              "      <td>...</td>\n",
              "      <td>...</td>\n",
              "    </tr>\n",
              "    <tr>\n",
              "      <th>245</th>\n",
              "      <td>2</td>\n",
              "      <td>0</td>\n",
              "      <td>1</td>\n",
              "      <td>0</td>\n",
              "      <td>0</td>\n",
              "      <td>1</td>\n",
              "      <td>0</td>\n",
              "      <td>0</td>\n",
              "      <td>0</td>\n",
              "      <td>0</td>\n",
              "      <td>0</td>\n",
              "      <td>0</td>\n",
              "      <td>0</td>\n",
              "      <td>0</td>\n",
              "      <td>0</td>\n",
              "      <td>0</td>\n",
              "      <td>0</td>\n",
              "      <td>0</td>\n",
              "      <td>0</td>\n",
              "      <td>1</td>\n",
              "      <td>0</td>\n",
              "      <td>0</td>\n",
              "      <td>0</td>\n",
              "      <td>0</td>\n",
              "    </tr>\n",
              "    <tr>\n",
              "      <th>246</th>\n",
              "      <td>1</td>\n",
              "      <td>0</td>\n",
              "      <td>1</td>\n",
              "      <td>0</td>\n",
              "      <td>1</td>\n",
              "      <td>0</td>\n",
              "      <td>0</td>\n",
              "      <td>0</td>\n",
              "      <td>0</td>\n",
              "      <td>0</td>\n",
              "      <td>0</td>\n",
              "      <td>0</td>\n",
              "      <td>1</td>\n",
              "      <td>0</td>\n",
              "      <td>0</td>\n",
              "      <td>0</td>\n",
              "      <td>0</td>\n",
              "      <td>0</td>\n",
              "      <td>0</td>\n",
              "      <td>0</td>\n",
              "      <td>0</td>\n",
              "      <td>0</td>\n",
              "      <td>0</td>\n",
              "      <td>0</td>\n",
              "    </tr>\n",
              "    <tr>\n",
              "      <th>247</th>\n",
              "      <td>2</td>\n",
              "      <td>0</td>\n",
              "      <td>0</td>\n",
              "      <td>1</td>\n",
              "      <td>0</td>\n",
              "      <td>0</td>\n",
              "      <td>0</td>\n",
              "      <td>1</td>\n",
              "      <td>0</td>\n",
              "      <td>0</td>\n",
              "      <td>0</td>\n",
              "      <td>0</td>\n",
              "      <td>0</td>\n",
              "      <td>0</td>\n",
              "      <td>0</td>\n",
              "      <td>1</td>\n",
              "      <td>0</td>\n",
              "      <td>0</td>\n",
              "      <td>0</td>\n",
              "      <td>0</td>\n",
              "      <td>0</td>\n",
              "      <td>0</td>\n",
              "      <td>0</td>\n",
              "      <td>0</td>\n",
              "    </tr>\n",
              "    <tr>\n",
              "      <th>248</th>\n",
              "      <td>1</td>\n",
              "      <td>0</td>\n",
              "      <td>0</td>\n",
              "      <td>1</td>\n",
              "      <td>0</td>\n",
              "      <td>0</td>\n",
              "      <td>0</td>\n",
              "      <td>0</td>\n",
              "      <td>1</td>\n",
              "      <td>0</td>\n",
              "      <td>0</td>\n",
              "      <td>0</td>\n",
              "      <td>0</td>\n",
              "      <td>0</td>\n",
              "      <td>0</td>\n",
              "      <td>1</td>\n",
              "      <td>0</td>\n",
              "      <td>0</td>\n",
              "      <td>0</td>\n",
              "      <td>0</td>\n",
              "      <td>0</td>\n",
              "      <td>0</td>\n",
              "      <td>0</td>\n",
              "      <td>0</td>\n",
              "    </tr>\n",
              "    <tr>\n",
              "      <th>249</th>\n",
              "      <td>1</td>\n",
              "      <td>0</td>\n",
              "      <td>0</td>\n",
              "      <td>0</td>\n",
              "      <td>1</td>\n",
              "      <td>0</td>\n",
              "      <td>0</td>\n",
              "      <td>1</td>\n",
              "      <td>0</td>\n",
              "      <td>0</td>\n",
              "      <td>0</td>\n",
              "      <td>0</td>\n",
              "      <td>0</td>\n",
              "      <td>0</td>\n",
              "      <td>0</td>\n",
              "      <td>0</td>\n",
              "      <td>0</td>\n",
              "      <td>0</td>\n",
              "      <td>0</td>\n",
              "      <td>0</td>\n",
              "      <td>0</td>\n",
              "      <td>0</td>\n",
              "      <td>0</td>\n",
              "      <td>0</td>\n",
              "    </tr>\n",
              "  </tbody>\n",
              "</table>\n",
              "<p>250 rows × 24 columns</p>\n",
              "</div>"
            ],
            "text/plain": [
              "     Overall_Rating  ...  Most_watched_Sports and News\n",
              "0                 2  ...                             0\n",
              "1                 2  ...                             0\n",
              "2                 1  ...                             0\n",
              "3                 2  ...                             0\n",
              "4                 2  ...                             0\n",
              "..              ...  ...                           ...\n",
              "245               2  ...                             0\n",
              "246               1  ...                             0\n",
              "247               2  ...                             0\n",
              "248               1  ...                             0\n",
              "249               1  ...                             0\n",
              "\n",
              "[250 rows x 24 columns]"
            ]
          },
          "metadata": {
            "tags": []
          },
          "execution_count": 47
        }
      ]
    },
    {
      "cell_type": "code",
      "metadata": {
        "colab": {
          "base_uri": "https://localhost:8080/"
        },
        "id": "zQiGNrEjndWz",
        "outputId": "f3234851-35a7-4e4e-c024-26375b07f35c"
      },
      "source": [
        "one_hot_data.columns"
      ],
      "execution_count": 48,
      "outputs": [
        {
          "output_type": "execute_result",
          "data": {
            "text/plain": [
              "Index(['Overall_Rating', 'Platforms_Hotstar', 'Platforms_Netflix',\n",
              "       'Platforms_Prime', 'Age_31-50', 'Age_Less than 18', 'Age_More than 50',\n",
              "       'Features_Ease of use', 'Features_Recommendation',\n",
              "       'Features_Search Option', 'Most_watched_Documentaries',\n",
              "       'Most_watched_Documentaries, Sports and News', 'Most_watched_Movies',\n",
              "       'Most_watched_Movies, Documentaries',\n",
              "       'Most_watched_Movies, Documentaries, Sports and News',\n",
              "       'Most_watched_Movies, Sports and News',\n",
              "       'Most_watched_Original Web Series',\n",
              "       'Most_watched_Original Web Series, Documentaries',\n",
              "       'Most_watched_Original Web Series, Documentaries, Sports and News',\n",
              "       'Most_watched_Original Web Series, Movies',\n",
              "       'Most_watched_Original Web Series, Movies, Documentaries',\n",
              "       'Most_watched_Original Web Series, Movies, Sports and News',\n",
              "       'Most_watched_Original Web Series, Sports and News',\n",
              "       'Most_watched_Sports and News'],\n",
              "      dtype='object')"
            ]
          },
          "metadata": {
            "tags": []
          },
          "execution_count": 48
        }
      ]
    },
    {
      "cell_type": "code",
      "metadata": {
        "colab": {
          "base_uri": "https://localhost:8080/"
        },
        "id": "km9QTltUYp3H",
        "outputId": "1262f65d-9555-4d2d-fb8f-a05cd139257d"
      },
      "source": [
        "one_hot_data[\"Platforms_Netflix\"].value_counts()"
      ],
      "execution_count": 49,
      "outputs": [
        {
          "output_type": "execute_result",
          "data": {
            "text/plain": [
              "0    196\n",
              "1     54\n",
              "Name: Platforms_Netflix, dtype: int64"
            ]
          },
          "metadata": {
            "tags": []
          },
          "execution_count": 49
        }
      ]
    },
    {
      "cell_type": "code",
      "metadata": {
        "id": "HyDyAlj1k4Ss"
      },
      "source": [
        "train, test = train_test_split(one_hot_data, test_size =0.35)"
      ],
      "execution_count": 310,
      "outputs": []
    },
    {
      "cell_type": "code",
      "metadata": {
        "colab": {
          "base_uri": "https://localhost:8080/"
        },
        "id": "z5F1HiBxk4Vk",
        "outputId": "95a23be4-b4e4-4fc5-914e-4523b30ce664"
      },
      "source": [
        "train.shape"
      ],
      "execution_count": 311,
      "outputs": [
        {
          "output_type": "execute_result",
          "data": {
            "text/plain": [
              "(162, 24)"
            ]
          },
          "metadata": {
            "tags": []
          },
          "execution_count": 311
        }
      ]
    },
    {
      "cell_type": "code",
      "metadata": {
        "colab": {
          "base_uri": "https://localhost:8080/"
        },
        "id": "iIq2c1pAk4Z9",
        "outputId": "0e99a8ad-90a1-4e7d-808a-a6c7c358df24"
      },
      "source": [
        "test.shape"
      ],
      "execution_count": 312,
      "outputs": [
        {
          "output_type": "execute_result",
          "data": {
            "text/plain": [
              "(88, 24)"
            ]
          },
          "metadata": {
            "tags": []
          },
          "execution_count": 312
        }
      ]
    },
    {
      "cell_type": "markdown",
      "metadata": {
        "id": "v35R2gDBr-WE"
      },
      "source": [
        "**Netflix**"
      ]
    },
    {
      "cell_type": "code",
      "metadata": {
        "id": "njgC1YuUYp70"
      },
      "source": [
        "features=['Overall_Rating','Age_31-50', 'Age_Less than 18','Most_watched_Movies','Most_watched_Original Web Series','Most_watched_Original Web Series, Movies','Most_watched_Movies, Documentaries' ]"
      ],
      "execution_count": 313,
      "outputs": []
    },
    {
      "cell_type": "code",
      "metadata": {
        "id": "_ryB3uiOYp9x"
      },
      "source": [
        "X_train =train[features]\n",
        "Y_train =train[\"Platforms_Netflix\"]\n",
        "\n",
        "X_test = test[features]\n",
        "Y_test = test[\"Platforms_Netflix\"]"
      ],
      "execution_count": 54,
      "outputs": []
    },
    {
      "cell_type": "code",
      "metadata": {
        "id": "gCSnHLoYlgOm"
      },
      "source": [
        "from sklearn.model_selection import GridSearchCV"
      ],
      "execution_count": 55,
      "outputs": []
    },
    {
      "cell_type": "code",
      "metadata": {
        "id": "2F0AsfTklgRa"
      },
      "source": [
        "gdtree = DecisionTreeClassifier()"
      ],
      "execution_count": 56,
      "outputs": []
    },
    {
      "cell_type": "code",
      "metadata": {
        "id": "tcy2jVkQlgUW"
      },
      "source": [
        "param_dict ={ \n",
        "    \"criterion\": ['gini', 'entropy'], \n",
        "    \"min_samples_split\":range(2,100)\n",
        "    }"
      ],
      "execution_count": 57,
      "outputs": []
    },
    {
      "cell_type": "code",
      "metadata": {
        "id": "vB-8zgt8lgWz"
      },
      "source": [
        "grid =GridSearchCV(gdtree,param_grid=param_dict, cv=5)"
      ],
      "execution_count": 58,
      "outputs": []
    },
    {
      "cell_type": "code",
      "metadata": {
        "colab": {
          "base_uri": "https://localhost:8080/"
        },
        "id": "qZg8oWqDlgZ2",
        "outputId": "0ec973d1-3d38-499b-d011-7e80ead0c949"
      },
      "source": [
        "grid.fit(X_train,Y_train)"
      ],
      "execution_count": 59,
      "outputs": [
        {
          "output_type": "execute_result",
          "data": {
            "text/plain": [
              "GridSearchCV(cv=5, error_score=nan,\n",
              "             estimator=DecisionTreeClassifier(ccp_alpha=0.0, class_weight=None,\n",
              "                                              criterion='gini', max_depth=None,\n",
              "                                              max_features=None,\n",
              "                                              max_leaf_nodes=None,\n",
              "                                              min_impurity_decrease=0.0,\n",
              "                                              min_impurity_split=None,\n",
              "                                              min_samples_leaf=1,\n",
              "                                              min_samples_split=2,\n",
              "                                              min_weight_fraction_leaf=0.0,\n",
              "                                              presort='deprecated',\n",
              "                                              random_state=None,\n",
              "                                              splitter='best'),\n",
              "             iid='deprecated', n_jobs=None,\n",
              "             param_grid={'criterion': ['gini', 'entropy'],\n",
              "                         'min_samples_split': range(2, 100)},\n",
              "             pre_dispatch='2*n_jobs', refit=True, return_train_score=False,\n",
              "             scoring=None, verbose=0)"
            ]
          },
          "metadata": {
            "tags": []
          },
          "execution_count": 59
        }
      ]
    },
    {
      "cell_type": "code",
      "metadata": {
        "colab": {
          "base_uri": "https://localhost:8080/"
        },
        "id": "lmZw5m4Mlgco",
        "outputId": "ca4e4c74-bdf5-4850-e0d7-257acf36e6b9"
      },
      "source": [
        "grid.best_params_"
      ],
      "execution_count": 60,
      "outputs": [
        {
          "output_type": "execute_result",
          "data": {
            "text/plain": [
              "{'criterion': 'gini', 'min_samples_split': 13}"
            ]
          },
          "metadata": {
            "tags": []
          },
          "execution_count": 60
        }
      ]
    },
    {
      "cell_type": "code",
      "metadata": {
        "colab": {
          "base_uri": "https://localhost:8080/"
        },
        "id": "BsbwMjtLp8jv",
        "outputId": "6446c279-3090-4f96-894a-1928c9db0c7f"
      },
      "source": [
        "path = gdtree.cost_complexity_pruning_path(X_train, Y_train)\n",
        "alphas = path ['ccp_alphas']\n",
        "alphas"
      ],
      "execution_count": 61,
      "outputs": [
        {
          "output_type": "execute_result",
          "data": {
            "text/plain": [
              "array([0.        , 0.00015083, 0.00015103, 0.0003592 , 0.0003858 ,\n",
              "       0.00058789, 0.00102881, 0.0011491 , 0.00133026, 0.0023382 ,\n",
              "       0.00342936, 0.00411523, 0.00867332, 0.00887912, 0.01700776,\n",
              "       0.01924197])"
            ]
          },
          "metadata": {
            "tags": []
          },
          "execution_count": 61
        }
      ]
    },
    {
      "cell_type": "code",
      "metadata": {
        "colab": {
          "base_uri": "https://localhost:8080/"
        },
        "id": "8gg0K2O6lgfP",
        "outputId": "cfc0887c-c2ef-4270-8228-0c5e63708b00"
      },
      "source": [
        "grid.best_score_"
      ],
      "execution_count": 62,
      "outputs": [
        {
          "output_type": "execute_result",
          "data": {
            "text/plain": [
              "0.8024621212121211"
            ]
          },
          "metadata": {
            "tags": []
          },
          "execution_count": 62
        }
      ]
    },
    {
      "cell_type": "code",
      "metadata": {
        "id": "IYI_qYFFlgjd"
      },
      "source": [
        "from sklearn.metrics import accuracy_score"
      ],
      "execution_count": 63,
      "outputs": []
    },
    {
      "cell_type": "code",
      "metadata": {
        "id": "YzTbLh1El1yT"
      },
      "source": [
        "gt1=DecisionTreeClassifier(\n",
        "    criterion='gini',\n",
        "    min_samples_split=51)"
      ],
      "execution_count": 100,
      "outputs": []
    },
    {
      "cell_type": "code",
      "metadata": {
        "id": "WOURTUfPl11X"
      },
      "source": [
        "gt_fit = gt1.fit(X_train, Y_train)\n",
        "gt_p1 = gt1.predict(X_train)"
      ],
      "execution_count": 101,
      "outputs": []
    },
    {
      "cell_type": "code",
      "metadata": {
        "colab": {
          "base_uri": "https://localhost:8080/"
        },
        "id": "7wlGdxmal15x",
        "outputId": "ff9de098-9769-41c5-ced4-3e47a149830f"
      },
      "source": [
        "gtrain_score = accuracy_score(Y_train, gt_p1)*100\n",
        "gtrain_score"
      ],
      "execution_count": 102,
      "outputs": [
        {
          "output_type": "execute_result",
          "data": {
            "text/plain": [
              "85.80246913580247"
            ]
          },
          "metadata": {
            "tags": []
          },
          "execution_count": 102
        }
      ]
    },
    {
      "cell_type": "code",
      "metadata": {
        "colab": {
          "base_uri": "https://localhost:8080/"
        },
        "id": "jXaTkhjjl17z",
        "outputId": "91fa246b-23e4-4864-f771-874185adf57f"
      },
      "source": [
        "gt_pt1 = gt1.predict(X_test)\n",
        "gtest_score = accuracy_score(Y_test, gt_pt1)*100\n",
        "gtest_score"
      ],
      "execution_count": 103,
      "outputs": [
        {
          "output_type": "execute_result",
          "data": {
            "text/plain": [
              "88.63636363636364"
            ]
          },
          "metadata": {
            "tags": []
          },
          "execution_count": 103
        }
      ]
    },
    {
      "cell_type": "code",
      "metadata": {
        "colab": {
          "base_uri": "https://localhost:8080/",
          "height": 433
        },
        "id": "J-dM-1aql19v",
        "outputId": "5c0d093b-1f74-485f-8369-e948a4bdc864"
      },
      "source": [
        "print(classification_report(Y_test, gt_pt1))\n",
        "rf_cm = confusion_matrix(Y_test, gt_pt1)\n",
        "df_cm3 = pd.DataFrame(rf_cm, range(2), range(2))\n",
        "# plt.figure(figsize=(10,7))\n",
        "sns.set(font_scale=1.4) # for label size\n",
        "sns.heatmap(df_cm3, annot=True, cmap='Blues', annot_kws={\"size\": 16}, fmt='g') # font size\n",
        "plt.show()"
      ],
      "execution_count": 104,
      "outputs": [
        {
          "output_type": "stream",
          "text": [
            "              precision    recall  f1-score   support\n",
            "\n",
            "           0       0.90      0.97      0.94        78\n",
            "           1       0.50      0.20      0.29        10\n",
            "\n",
            "    accuracy                           0.89        88\n",
            "   macro avg       0.70      0.59      0.61        88\n",
            "weighted avg       0.86      0.89      0.86        88\n",
            "\n"
          ],
          "name": "stdout"
        },
        {
          "output_type": "display_data",
          "data": {
            "image/png": "[encoded data removed]",
            "text/plain": [
              "<Figure size 432x288 with 2 Axes>"
            ]
          },
          "metadata": {
            "tags": []
          }
        }
      ]
    },
    {
      "cell_type": "markdown",
      "metadata": {
        "id": "nuRc2kSKt_Hy"
      },
      "source": [
        "**Prime**"
      ]
    },
    {
      "cell_type": "code",
      "metadata": {
        "id": "S7ttEf4Kf1hu"
      },
      "source": [
        "train, test = train_test_split(one_hot_data, test_size =0.30)"
      ],
      "execution_count": 348,
      "outputs": []
    },
    {
      "cell_type": "code",
      "metadata": {
        "colab": {
          "base_uri": "https://localhost:8080/"
        },
        "id": "lhuCD-9ff1pu",
        "outputId": "20ca38f7-4f18-4d4f-cdd7-6d26f8b9afa4"
      },
      "source": [
        "train.shape"
      ],
      "execution_count": 349,
      "outputs": [
        {
          "output_type": "execute_result",
          "data": {
            "text/plain": [
              "(175, 24)"
            ]
          },
          "metadata": {
            "tags": []
          },
          "execution_count": 349
        }
      ]
    },
    {
      "cell_type": "code",
      "metadata": {
        "colab": {
          "base_uri": "https://localhost:8080/"
        },
        "id": "TD7-b5pFf1zq",
        "outputId": "e37f8f09-f6cc-46c2-d9b4-b2ac4223f290"
      },
      "source": [
        "test.shape"
      ],
      "execution_count": 350,
      "outputs": [
        {
          "output_type": "execute_result",
          "data": {
            "text/plain": [
              "(75, 24)"
            ]
          },
          "metadata": {
            "tags": []
          },
          "execution_count": 350
        }
      ]
    },
    {
      "cell_type": "code",
      "metadata": {
        "colab": {
          "base_uri": "https://localhost:8080/"
        },
        "id": "Mp403SM1vXji",
        "outputId": "dd5bd635-e01a-4b6f-d5bc-1cf85497b37c"
      },
      "source": [
        "one_hot_data[\"Platforms_Prime\"].value_counts()"
      ],
      "execution_count": 351,
      "outputs": [
        {
          "output_type": "execute_result",
          "data": {
            "text/plain": [
              "0    187\n",
              "1     63\n",
              "Name: Platforms_Prime, dtype: int64"
            ]
          },
          "metadata": {
            "tags": []
          },
          "execution_count": 351
        }
      ]
    },
    {
      "cell_type": "code",
      "metadata": {
        "id": "3xVDDt55uJDL"
      },
      "source": [
        "features=['Overall_Rating','Most_watched_Original Web Series','Most_watched_Movies','Most_watched_Original Web Series, Movies','Most_watched_Movies', 'Most_watched_Original Web Series, Movies, Documentaries','Most_watched_Original Web Series, Documentaries','Age_31-50']"
      ],
      "execution_count": 352,
      "outputs": []
    },
    {
      "cell_type": "code",
      "metadata": {
        "id": "Ohcd4f8YuSvF"
      },
      "source": [
        "X_train =train[features]\n",
        "Y_train =train[\"Platforms_Prime\"]\n",
        "\n",
        "X_test = test[features]\n",
        "Y_test = test[\"Platforms_Prime\"]"
      ],
      "execution_count": 353,
      "outputs": []
    },
    {
      "cell_type": "code",
      "metadata": {
        "id": "GmGlmU1NuSxw"
      },
      "source": [
        "gdtree = DecisionTreeClassifier()"
      ],
      "execution_count": 354,
      "outputs": []
    },
    {
      "cell_type": "code",
      "metadata": {
        "id": "JqUjVwmGuS0O"
      },
      "source": [
        "param_dict ={ \n",
        "    \"criterion\": ['gini', 'entropy'], \n",
        "    \"min_samples_split\":range(2,100)\n",
        "    \n",
        "    }"
      ],
      "execution_count": 355,
      "outputs": []
    },
    {
      "cell_type": "code",
      "metadata": {
        "id": "zZh7fNYyuS5N"
      },
      "source": [
        "grid1 =GridSearchCV(gdtree,param_grid=param_dict, cv=10)"
      ],
      "execution_count": 356,
      "outputs": []
    },
    {
      "cell_type": "code",
      "metadata": {
        "colab": {
          "base_uri": "https://localhost:8080/"
        },
        "id": "bZvyZqc3uS72",
        "outputId": "3f423a84-82d7-4eb9-c5ce-861d92c10b74"
      },
      "source": [
        "grid1.fit(X_train,Y_train)"
      ],
      "execution_count": 357,
      "outputs": [
        {
          "output_type": "execute_result",
          "data": {
            "text/plain": [
              "GridSearchCV(cv=10, error_score=nan,\n",
              "             estimator=DecisionTreeClassifier(ccp_alpha=0.0, class_weight=None,\n",
              "                                              criterion='gini', max_depth=None,\n",
              "                                              max_features=None,\n",
              "                                              max_leaf_nodes=None,\n",
              "                                              min_impurity_decrease=0.0,\n",
              "                                              min_impurity_split=None,\n",
              "                                              min_samples_leaf=1,\n",
              "                                              min_samples_split=2,\n",
              "                                              min_weight_fraction_leaf=0.0,\n",
              "                                              presort='deprecated',\n",
              "                                              random_state=None,\n",
              "                                              splitter='best'),\n",
              "             iid='deprecated', n_jobs=None,\n",
              "             param_grid={'criterion': ['gini', 'entropy'],\n",
              "                         'min_samples_split': range(2, 100)},\n",
              "             pre_dispatch='2*n_jobs', refit=True, return_train_score=False,\n",
              "             scoring=None, verbose=0)"
            ]
          },
          "metadata": {
            "tags": []
          },
          "execution_count": 357
        }
      ]
    },
    {
      "cell_type": "code",
      "metadata": {
        "colab": {
          "base_uri": "https://localhost:8080/"
        },
        "id": "DSzJvoP9uS-U",
        "outputId": "021f5906-52ec-41cd-d180-6b24cb6ad793"
      },
      "source": [
        "grid1.best_params_"
      ],
      "execution_count": 358,
      "outputs": [
        {
          "output_type": "execute_result",
          "data": {
            "text/plain": [
              "{'criterion': 'entropy', 'min_samples_split': 90}"
            ]
          },
          "metadata": {
            "tags": []
          },
          "execution_count": 358
        }
      ]
    },
    {
      "cell_type": "code",
      "metadata": {
        "colab": {
          "base_uri": "https://localhost:8080/"
        },
        "id": "At-ip1pxuTAV",
        "outputId": "aec1f62a-ea47-477d-f456-e5f22e6cc717"
      },
      "source": [
        "grid1.best_score_"
      ],
      "execution_count": 359,
      "outputs": [
        {
          "output_type": "execute_result",
          "data": {
            "text/plain": [
              "0.7316993464052287"
            ]
          },
          "metadata": {
            "tags": []
          },
          "execution_count": 359
        }
      ]
    },
    {
      "cell_type": "code",
      "metadata": {
        "id": "aOHVMKQcuJGZ"
      },
      "source": [
        "gt1=DecisionTreeClassifier(\n",
        "    criterion='entropy',\n",
        "    min_samples_split=90)\n"
      ],
      "execution_count": 364,
      "outputs": []
    },
    {
      "cell_type": "code",
      "metadata": {
        "colab": {
          "base_uri": "https://localhost:8080/"
        },
        "id": "TU2LzZVOwKNB",
        "outputId": "29888164-60cf-4f73-9422-7c2b3b54e055"
      },
      "source": [
        "gt_fit = gt1.fit(X_train, Y_train)\n",
        "gt_p1 = gt1.predict(X_train)\n",
        "gtrain_score = accuracy_score(Y_train, gt_p1)*100\n",
        "gtrain_score"
      ],
      "execution_count": 365,
      "outputs": [
        {
          "output_type": "execute_result",
          "data": {
            "text/plain": [
              "76.0"
            ]
          },
          "metadata": {
            "tags": []
          },
          "execution_count": 365
        }
      ]
    },
    {
      "cell_type": "code",
      "metadata": {
        "colab": {
          "base_uri": "https://localhost:8080/"
        },
        "id": "TMReVxPBwKP1",
        "outputId": "ea7c21a8-9cc6-422d-ec47-47feceef26ee"
      },
      "source": [
        "gt_pt1 = gt1.predict(X_test)\n",
        "prime_score = accuracy_score(Y_test, gt_pt1)*100\n",
        "prime_score"
      ],
      "execution_count": 367,
      "outputs": [
        {
          "output_type": "execute_result",
          "data": {
            "text/plain": [
              "74.66666666666667"
            ]
          },
          "metadata": {
            "tags": []
          },
          "execution_count": 367
        }
      ]
    },
    {
      "cell_type": "code",
      "metadata": {
        "colab": {
          "base_uri": "https://localhost:8080/",
          "height": 433
        },
        "id": "Ec28qASDwKS3",
        "outputId": "fe355020-0a05-4195-836c-ea738210843d"
      },
      "source": [
        "print(classification_report(Y_test, gt_pt1))\n",
        "rf_cm = confusion_matrix(Y_test, gt_pt1)\n",
        "df_cm3 = pd.DataFrame(rf_cm, range(2), range(2))\n",
        "# plt.figure(figsize=(10,7))\n",
        "sns.set(font_scale=1.4) # for label size\n",
        "sns.heatmap(df_cm3, annot=True, cmap='Blues', annot_kws={\"size\": 16}, fmt='g') # font size\n",
        "plt.show()"
      ],
      "execution_count": 368,
      "outputs": [
        {
          "output_type": "stream",
          "text": [
            "              precision    recall  f1-score   support\n",
            "\n",
            "           0       0.75      0.98      0.85        55\n",
            "           1       0.67      0.10      0.17        20\n",
            "\n",
            "    accuracy                           0.75        75\n",
            "   macro avg       0.71      0.54      0.51        75\n",
            "weighted avg       0.73      0.75      0.67        75\n",
            "\n"
          ],
          "name": "stdout"
        },
        {
          "output_type": "display_data",
          "data": {
            "image/png": "[encoded data removed]",
            "text/plain": [
              "<Figure size 432x288 with 2 Axes>"
            ]
          },
          "metadata": {
            "tags": []
          }
        }
      ]
    },
    {
      "cell_type": "markdown",
      "metadata": {
        "id": "lr0ZMpyDwe4i"
      },
      "source": [
        "**Hotstar**"
      ]
    },
    {
      "cell_type": "code",
      "metadata": {
        "id": "VGUw_XR0gxXv"
      },
      "source": [
        "train, test = train_test_split(one_hot_data, test_size =0.35)"
      ],
      "execution_count": 384,
      "outputs": []
    },
    {
      "cell_type": "code",
      "metadata": {
        "id": "DfaQES6XwiBV"
      },
      "source": [
        "features=['Overall_Rating','Most_watched_Original Web Series','Most_watched_Movies','Most_watched_Movies, Documentaries, Sports and News','Most_watched_Sports and News','Most_watched_Original Web Series, Movies, Documentaries','Most_watched_Original Web Series, Sports and News', 'Age_31-50', 'Age_Less than 18', 'Age_More than 50']"
      ],
      "execution_count": 385,
      "outputs": []
    },
    {
      "cell_type": "code",
      "metadata": {
        "id": "ovnlrEF0wiD9"
      },
      "source": [
        "X_train =train[features]\n",
        "Y_train =train[\"Platforms_Hotstar\"]\n",
        "\n",
        "X_test = test[features]\n",
        "Y_test = test[\"Platforms_Hotstar\"]"
      ],
      "execution_count": 386,
      "outputs": []
    },
    {
      "cell_type": "code",
      "metadata": {
        "id": "vT0wqPNIwiIO"
      },
      "source": [
        "param_dict ={ \n",
        "    \"criterion\": ['gini', 'entropy'], \n",
        "    \"min_samples_split\":range(2,100)\n",
        "    \n",
        "    }"
      ],
      "execution_count": 387,
      "outputs": []
    },
    {
      "cell_type": "code",
      "metadata": {
        "id": "05t0dsJPwiLT"
      },
      "source": [
        "grid2 =GridSearchCV(gdtree,param_grid=param_dict, cv=10)"
      ],
      "execution_count": 388,
      "outputs": []
    },
    {
      "cell_type": "code",
      "metadata": {
        "colab": {
          "base_uri": "https://localhost:8080/"
        },
        "id": "Yl5UjvYEwiNt",
        "outputId": "b8a7f360-a535-47e7-8db7-70df0289a7cb"
      },
      "source": [
        "grid2.fit(X_train,Y_train)"
      ],
      "execution_count": 389,
      "outputs": [
        {
          "output_type": "execute_result",
          "data": {
            "text/plain": [
              "GridSearchCV(cv=10, error_score=nan,\n",
              "             estimator=DecisionTreeClassifier(ccp_alpha=0.0, class_weight=None,\n",
              "                                              criterion='gini', max_depth=None,\n",
              "                                              max_features=None,\n",
              "                                              max_leaf_nodes=None,\n",
              "                                              min_impurity_decrease=0.0,\n",
              "                                              min_impurity_split=None,\n",
              "                                              min_samples_leaf=1,\n",
              "                                              min_samples_split=2,\n",
              "                                              min_weight_fraction_leaf=0.0,\n",
              "                                              presort='deprecated',\n",
              "                                              random_state=None,\n",
              "                                              splitter='best'),\n",
              "             iid='deprecated', n_jobs=None,\n",
              "             param_grid={'criterion': ['gini', 'entropy'],\n",
              "                         'min_samples_split': range(2, 100)},\n",
              "             pre_dispatch='2*n_jobs', refit=True, return_train_score=False,\n",
              "             scoring=None, verbose=0)"
            ]
          },
          "metadata": {
            "tags": []
          },
          "execution_count": 389
        }
      ]
    },
    {
      "cell_type": "code",
      "metadata": {
        "colab": {
          "base_uri": "https://localhost:8080/"
        },
        "id": "aWvdonQDwiQm",
        "outputId": "dc89b897-f92b-452c-b6e1-4e3c1639d527"
      },
      "source": [
        "grid2.best_params_"
      ],
      "execution_count": 390,
      "outputs": [
        {
          "output_type": "execute_result",
          "data": {
            "text/plain": [
              "{'criterion': 'gini', 'min_samples_split': 29}"
            ]
          },
          "metadata": {
            "tags": []
          },
          "execution_count": 390
        }
      ]
    },
    {
      "cell_type": "code",
      "metadata": {
        "colab": {
          "base_uri": "https://localhost:8080/"
        },
        "id": "_wEZpav_z9Hk",
        "outputId": "6a294701-daec-4d19-dad4-065f85faac8a"
      },
      "source": [
        "grid2.best_score_"
      ],
      "execution_count": 391,
      "outputs": [
        {
          "output_type": "execute_result",
          "data": {
            "text/plain": [
              "0.7963235294117647"
            ]
          },
          "metadata": {
            "tags": []
          },
          "execution_count": 391
        }
      ]
    },
    {
      "cell_type": "code",
      "metadata": {
        "id": "DPdFRJMuz9KP"
      },
      "source": [
        "gt2=DecisionTreeClassifier(\n",
        "    criterion='gini',\n",
        "    min_samples_split=29)\n"
      ],
      "execution_count": 396,
      "outputs": []
    },
    {
      "cell_type": "code",
      "metadata": {
        "colab": {
          "base_uri": "https://localhost:8080/"
        },
        "id": "TNPTCNCuz9NE",
        "outputId": "652c1117-226f-4129-97de-d2e093944e82"
      },
      "source": [
        "gt_fit = gt2.fit(X_train, Y_train)\n",
        "gt_p1 = gt2.predict(X_train)\n",
        "gtrain_score = accuracy_score(Y_train, gt_p1)*100\n",
        "gtrain_score"
      ],
      "execution_count": 397,
      "outputs": [
        {
          "output_type": "execute_result",
          "data": {
            "text/plain": [
              "83.9506172839506"
            ]
          },
          "metadata": {
            "tags": []
          },
          "execution_count": 397
        }
      ]
    },
    {
      "cell_type": "code",
      "metadata": {
        "colab": {
          "base_uri": "https://localhost:8080/"
        },
        "id": "24EtC-BTz9P5",
        "outputId": "789b5db2-c526-4ff4-a5bc-b8bb161a4283"
      },
      "source": [
        "gt_pt1 = gt2.predict(X_test)\n",
        "hotstar_score = accuracy_score(Y_test, gt_pt1)*100\n",
        "hotstar_score"
      ],
      "execution_count": 398,
      "outputs": [
        {
          "output_type": "execute_result",
          "data": {
            "text/plain": [
              "92.04545454545455"
            ]
          },
          "metadata": {
            "tags": []
          },
          "execution_count": 398
        }
      ]
    },
    {
      "cell_type": "code",
      "metadata": {
        "colab": {
          "base_uri": "https://localhost:8080/",
          "height": 438
        },
        "id": "cLmSWck00S0t",
        "outputId": "5a45c144-45e4-464c-d7df-491d6ae0f5a5"
      },
      "source": [
        "print(classification_report(Y_test, gt_pt1))\n",
        "rf_cm = confusion_matrix(Y_test, gt_pt1)\n",
        "df_cm3 = pd.DataFrame(rf_cm, range(2), range(2))\n",
        "# plt.figure(figsize=(10,7))\n",
        "sns.set(font_scale=1.4) # for label size\n",
        "sns.heatmap(df_cm3, annot=True, cmap='Blues', annot_kws={\"size\": 16}, fmt='g') # font size\n",
        "plt.show()"
      ],
      "execution_count": 399,
      "outputs": [
        {
          "output_type": "stream",
          "text": [
            "              precision    recall  f1-score   support\n",
            "\n",
            "           0       0.93      0.99      0.96        81\n",
            "           1       0.50      0.14      0.22         7\n",
            "\n",
            "    accuracy                           0.92        88\n",
            "   macro avg       0.72      0.57      0.59        88\n",
            "weighted avg       0.90      0.92      0.90        88\n",
            "\n"
          ],
          "name": "stdout"
        },
        {
          "output_type": "display_data",
          "data": {
            "image/png": "[encoded data removed]",
            "text/plain": [
              "<Figure size 432x288 with 2 Axes>"
            ]
          },
          "metadata": {
            "tags": []
          }
        }
      ]
    },
    {
      "cell_type": "markdown",
      "metadata": {
        "id": "gGbH5-K7i3Pj"
      },
      "source": [
        "#Comparison of accuracy of the decision tree."
      ]
    },
    {
      "cell_type": "code",
      "metadata": {
        "colab": {
          "base_uri": "https://localhost:8080/",
          "height": 507
        },
        "id": "GZ1-nhPleRpS",
        "outputId": "6d69ba51-420a-405b-94e1-9c4ef478cd93"
      },
      "source": [
        "modelacc = pd.DataFrame({\"Netflix_DT\": [gtest_score],\n",
        "                               \"Prime_DT\": [prime_score],\n",
        "                               \"Hotstar_DT\": [hotstar_score],\n",
        "                              })\n",
        "modelacc.plot.bar(align='edge', width=1,figsize=(10,8),ec=\"black\");\n",
        "plt.xlabel('Models', fontsize=20)\n",
        "plt.ylabel('Scores',fontsize=20)\n",
        "plt.legend(fontsize=15);"
      ],
      "execution_count": 407,
      "outputs": [
        {
          "output_type": "display_data",
          "data": {
            "image/png": "[encoded data removed]",
            "text/plain": [
              "<Figure size 720x576 with 1 Axes>"
            ]
          },
          "metadata": {
            "tags": []
          }
        }
      ]
    },
    {
      "cell_type": "markdown",
      "metadata": {
        "id": "gRBul9gl53Jy"
      },
      "source": [
        "**SVM**"
      ]
    },
    {
      "cell_type": "markdown",
      "metadata": {
        "id": "22lWlhavptAK"
      },
      "source": [
        "#svm for Netflix"
      ]
    },
    {
      "cell_type": "code",
      "metadata": {
        "id": "KCz65F0m0S3j"
      },
      "source": [
        "from sklearn import svm"
      ],
      "execution_count": 416,
      "outputs": []
    },
    {
      "cell_type": "code",
      "metadata": {
        "id": "F99ebD2RrGkL"
      },
      "source": [
        "train, test = train_test_split(one_hot_data, test_size =0.35)"
      ],
      "execution_count": 545,
      "outputs": []
    },
    {
      "cell_type": "code",
      "metadata": {
        "id": "6C0AcjFTrIqU",
        "colab": {
          "base_uri": "https://localhost:8080/"
        },
        "outputId": "aaa14694-364b-4387-aabb-07cd29e6be42"
      },
      "source": [
        "train.shape"
      ],
      "execution_count": 546,
      "outputs": [
        {
          "output_type": "execute_result",
          "data": {
            "text/plain": [
              "(162, 24)"
            ]
          },
          "metadata": {
            "tags": []
          },
          "execution_count": 546
        }
      ]
    },
    {
      "cell_type": "code",
      "metadata": {
        "id": "N7wjwRlLrI0k",
        "colab": {
          "base_uri": "https://localhost:8080/"
        },
        "outputId": "d75c2041-1bbb-490c-bc73-ccaf7c32af78"
      },
      "source": [
        "test.shape"
      ],
      "execution_count": 547,
      "outputs": [
        {
          "output_type": "execute_result",
          "data": {
            "text/plain": [
              "(88, 24)"
            ]
          },
          "metadata": {
            "tags": []
          },
          "execution_count": 547
        }
      ]
    },
    {
      "cell_type": "code",
      "metadata": {
        "id": "6ommLP21p14A"
      },
      "source": [
        "features=['Overall_Rating','Age_31-50', 'Age_Less than 18','Most_watched_Movies','Most_watched_Original Web Series','Most_watched_Original Web Series, Movies','Most_watched_Movies, Documentaries' ]"
      ],
      "execution_count": 548,
      "outputs": []
    },
    {
      "cell_type": "code",
      "metadata": {
        "id": "9HKgG2-Vp16X"
      },
      "source": [
        "X_train =train[features]\n",
        "Y_train =train[\"Platforms_Netflix\"]\n",
        "\n",
        "X_test = test[features]\n",
        "Y_test = test[\"Platforms_Netflix\"]"
      ],
      "execution_count": 549,
      "outputs": []
    },
    {
      "cell_type": "code",
      "metadata": {
        "id": "0PPtJvc-p188"
      },
      "source": [
        "svmf = svm.SVC(C=10000000, kernel='rbf', degree=3)"
      ],
      "execution_count": 550,
      "outputs": []
    },
    {
      "cell_type": "code",
      "metadata": {
        "id": "83Mw2jDzp1_d"
      },
      "source": [
        "model_svm = svmf.fit(X_train, Y_train)"
      ],
      "execution_count": 551,
      "outputs": []
    },
    {
      "cell_type": "code",
      "metadata": {
        "id": "tjgMN_eIp2CT"
      },
      "source": [
        "pred_svm = model_svm.predict(X_test)"
      ],
      "execution_count": 552,
      "outputs": []
    },
    {
      "cell_type": "code",
      "metadata": {
        "colab": {
          "base_uri": "https://localhost:8080/"
        },
        "id": "_ioHYpm3p2FT",
        "outputId": "7826759a-cb3d-4eae-be81-7dea0ae78d07"
      },
      "source": [
        "test_score_svm_netflix= accuracy_score(Y_test, pred_svm)*100\n",
        "test_score_svm_netflix"
      ],
      "execution_count": 553,
      "outputs": [
        {
          "output_type": "execute_result",
          "data": {
            "text/plain": [
              "78.4090909090909"
            ]
          },
          "metadata": {
            "tags": []
          },
          "execution_count": 553
        }
      ]
    },
    {
      "cell_type": "code",
      "metadata": {
        "colab": {
          "base_uri": "https://localhost:8080/",
          "height": 433
        },
        "id": "GT4KTmFwsPu2",
        "outputId": "ecaedaf9-177a-4fde-e1b0-a29d7bcd3279"
      },
      "source": [
        "print(classification_report(Y_test, pred_svm ))\n",
        "rf_cm = confusion_matrix(Y_test, pred_svm )\n",
        "df_cm3 = pd.DataFrame(rf_cm, range(2), range(2))\n",
        "# plt.figure(figsize=(10,7))\n",
        "sns.set(font_scale=1.4) # for label size\n",
        "sns.heatmap(df_cm3, annot=True, cmap='Blues', annot_kws={\"size\": 16}, fmt='g') # font size\n",
        "plt.show()"
      ],
      "execution_count": 554,
      "outputs": [
        {
          "output_type": "stream",
          "text": [
            "              precision    recall  f1-score   support\n",
            "\n",
            "           0       0.81      0.94      0.87        69\n",
            "           1       0.50      0.21      0.30        19\n",
            "\n",
            "    accuracy                           0.78        88\n",
            "   macro avg       0.66      0.58      0.58        88\n",
            "weighted avg       0.75      0.78      0.75        88\n",
            "\n"
          ],
          "name": "stdout"
        },
        {
          "output_type": "display_data",
          "data": {
            "image/png": "[encoded data removed]",
            "text/plain": [
              "<Figure size 432x288 with 2 Axes>"
            ]
          },
          "metadata": {
            "tags": []
          }
        }
      ]
    },
    {
      "cell_type": "markdown",
      "metadata": {
        "id": "T6DuCk56px62"
      },
      "source": [
        "#SVM for Prime"
      ]
    },
    {
      "cell_type": "code",
      "metadata": {
        "id": "ZQfav3Whbho6"
      },
      "source": [
        "train, test = train_test_split(one_hot_data, test_size =0.20)"
      ],
      "execution_count": 168,
      "outputs": []
    },
    {
      "cell_type": "code",
      "metadata": {
        "colab": {
          "base_uri": "https://localhost:8080/"
        },
        "id": "eSikCjq0bj9p",
        "outputId": "8b27bf35-e8ad-4afd-9d80-bc5f0be17f7d"
      },
      "source": [
        "train.shape"
      ],
      "execution_count": 159,
      "outputs": [
        {
          "output_type": "execute_result",
          "data": {
            "text/plain": [
              "(175, 24)"
            ]
          },
          "metadata": {
            "tags": []
          },
          "execution_count": 159
        }
      ]
    },
    {
      "cell_type": "code",
      "metadata": {
        "colab": {
          "base_uri": "https://localhost:8080/"
        },
        "id": "jq5GhnM3bkax",
        "outputId": "ab3fd86d-54df-4528-a965-f08920c7d919"
      },
      "source": [
        "test.shape"
      ],
      "execution_count": 169,
      "outputs": [
        {
          "output_type": "execute_result",
          "data": {
            "text/plain": [
              "(50, 24)"
            ]
          },
          "metadata": {
            "tags": []
          },
          "execution_count": 169
        }
      ]
    },
    {
      "cell_type": "code",
      "metadata": {
        "id": "oWrl-auIa1xm"
      },
      "source": [
        "features=['Overall_Rating','Most_watched_Original Web Series','Most_watched_Movies','Most_watched_Original Web Series, Movies','Most_watched_Movies', 'Most_watched_Original Web Series, Movies, Documentaries','Most_watched_Original Web Series, Documentaries','Age_31-50']"
      ],
      "execution_count": 170,
      "outputs": []
    },
    {
      "cell_type": "code",
      "metadata": {
        "id": "_tf3gbpwa10U"
      },
      "source": [
        "X_train =train[features]\n",
        "Y_train =train[\"Platforms_Prime\"]\n",
        "\n",
        "X_test = test[features]\n",
        "Y_test = test[\"Platforms_Prime\"]"
      ],
      "execution_count": 171,
      "outputs": []
    },
    {
      "cell_type": "code",
      "metadata": {
        "id": "cJc1MKK5a128"
      },
      "source": [
        "svmf = svm.SVC(C=10000000, kernel='rbf', degree=3)"
      ],
      "execution_count": 172,
      "outputs": []
    },
    {
      "cell_type": "code",
      "metadata": {
        "id": "ocmOruKTa15s"
      },
      "source": [
        "model_svm = svmf.fit(X_train, Y_train)"
      ],
      "execution_count": 173,
      "outputs": []
    },
    {
      "cell_type": "code",
      "metadata": {
        "id": "7zAI50HVa18o"
      },
      "source": [
        "pred_svm = model_svm.predict(X_test)"
      ],
      "execution_count": 174,
      "outputs": []
    },
    {
      "cell_type": "code",
      "metadata": {
        "colab": {
          "base_uri": "https://localhost:8080/"
        },
        "id": "hL7cepG_a1_n",
        "outputId": "b72e4195-a404-4de3-c2d9-4a32e7ccf285"
      },
      "source": [
        "test_score_svm = accuracy_score(Y_test, pred_svm)*100\n",
        "test_score_svm"
      ],
      "execution_count": 175,
      "outputs": [
        {
          "output_type": "execute_result",
          "data": {
            "text/plain": [
              "76.0"
            ]
          },
          "metadata": {
            "tags": []
          },
          "execution_count": 175
        }
      ]
    },
    {
      "cell_type": "code",
      "metadata": {
        "colab": {
          "base_uri": "https://localhost:8080/",
          "height": 438
        },
        "id": "Q2oPcl_ebVaT",
        "outputId": "a434bb96-b4b3-47e4-8760-e0e0ea6200a9"
      },
      "source": [
        "print(classification_report(Y_test, pred_svm ))\n",
        "rf_cm = confusion_matrix(Y_test, pred_svm )\n",
        "df_cm3 = pd.DataFrame(rf_cm, range(2), range(2))\n",
        "# plt.figure(figsize=(10,7))\n",
        "sns.set(font_scale=1.4) # for label size\n",
        "sns.heatmap(df_cm3, annot=True, cmap='Blues', annot_kws={\"size\": 16}, fmt='g') # font size\n",
        "plt.show()"
      ],
      "execution_count": 176,
      "outputs": [
        {
          "output_type": "stream",
          "text": [
            "              precision    recall  f1-score   support\n",
            "\n",
            "           0       0.78      0.95      0.85        37\n",
            "           1       0.60      0.23      0.33        13\n",
            "\n",
            "    accuracy                           0.76        50\n",
            "   macro avg       0.69      0.59      0.59        50\n",
            "weighted avg       0.73      0.76      0.72        50\n",
            "\n"
          ],
          "name": "stdout"
        },
        {
          "output_type": "display_data",
          "data": {
            "image/png": "[encoded data removed]",
            "text/plain": [
              "<Figure size 432x288 with 2 Axes>"
            ]
          },
          "metadata": {
            "tags": []
          }
        }
      ]
    },
    {
      "cell_type": "markdown",
      "metadata": {
        "id": "TJM3_f73pmGk"
      },
      "source": [
        "#for Hotstar"
      ]
    },
    {
      "cell_type": "code",
      "metadata": {
        "id": "C5A6cltncha9"
      },
      "source": [
        "train, test = train_test_split(one_hot_data, test_size =0.35)"
      ],
      "execution_count": 510,
      "outputs": []
    },
    {
      "cell_type": "code",
      "metadata": {
        "colab": {
          "base_uri": "https://localhost:8080/"
        },
        "id": "Pj7AuNFlci9K",
        "outputId": "2a095d05-e03e-4435-94f4-d35367b275de"
      },
      "source": [
        "train.shape"
      ],
      "execution_count": 511,
      "outputs": [
        {
          "output_type": "execute_result",
          "data": {
            "text/plain": [
              "(162, 24)"
            ]
          },
          "metadata": {
            "tags": []
          },
          "execution_count": 511
        }
      ]
    },
    {
      "cell_type": "code",
      "metadata": {
        "colab": {
          "base_uri": "https://localhost:8080/"
        },
        "id": "Yt-T8NV8cjAb",
        "outputId": "091733d2-16b7-4207-b926-fa0d77fae133"
      },
      "source": [
        "test.shape"
      ],
      "execution_count": 512,
      "outputs": [
        {
          "output_type": "execute_result",
          "data": {
            "text/plain": [
              "(88, 24)"
            ]
          },
          "metadata": {
            "tags": []
          },
          "execution_count": 512
        }
      ]
    },
    {
      "cell_type": "code",
      "metadata": {
        "id": "zt8XmEAUpdt9"
      },
      "source": [
        "features=['Overall_Rating','Most_watched_Original Web Series','Most_watched_Movies','Most_watched_Movies, Documentaries, Sports and News','Most_watched_Sports and News','Most_watched_Original Web Series, Movies, Documentaries','Most_watched_Original Web Series, Sports and News', 'Age_31-50', 'Age_Less than 18', 'Age_More than 50']"
      ],
      "execution_count": 513,
      "outputs": []
    },
    {
      "cell_type": "code",
      "metadata": {
        "id": "0SDR6kqUpdxK"
      },
      "source": [
        "X_train =train[features]\n",
        "Y_train =train[\"Platforms_Hotstar\"]\n",
        "\n",
        "X_test = test[features]\n",
        "Y_test = test[\"Platforms_Hotstar\"]"
      ],
      "execution_count": 514,
      "outputs": []
    },
    {
      "cell_type": "code",
      "metadata": {
        "id": "7v3dLnlq0S6N"
      },
      "source": [
        "svmf = svm.SVC(C=10000000, kernel='rbf', degree=3)"
      ],
      "execution_count": 515,
      "outputs": []
    },
    {
      "cell_type": "code",
      "metadata": {
        "id": "i29hzTUX5Okg"
      },
      "source": [
        "model_svm = svmf.fit(X_train, Y_train)"
      ],
      "execution_count": 516,
      "outputs": []
    },
    {
      "cell_type": "code",
      "metadata": {
        "id": "voiIuTon5Onx"
      },
      "source": [
        "pred_svm = model_svm.predict(X_test)"
      ],
      "execution_count": 517,
      "outputs": []
    },
    {
      "cell_type": "code",
      "metadata": {
        "colab": {
          "base_uri": "https://localhost:8080/"
        },
        "id": "czUGWnO75Oq1",
        "outputId": "0616dd87-e420-4574-baa7-0651784b0cc1"
      },
      "source": [
        "test_score_svm_hotstar = accuracy_score(Y_test, pred_svm)*100\n",
        "test_score_svm_hotstar"
      ],
      "execution_count": 518,
      "outputs": [
        {
          "output_type": "execute_result",
          "data": {
            "text/plain": [
              "81.81818181818183"
            ]
          },
          "metadata": {
            "tags": []
          },
          "execution_count": 518
        }
      ]
    },
    {
      "cell_type": "code",
      "metadata": {
        "colab": {
          "base_uri": "https://localhost:8080/",
          "height": 433
        },
        "id": "jNBAwCVS5jem",
        "outputId": "c13a0c9c-33ad-480b-f1f5-3dd58a13a3a7"
      },
      "source": [
        "print(classification_report(Y_test, pred_svm ))\n",
        "rf_cm = confusion_matrix(Y_test, pred_svm )\n",
        "df_cm3 = pd.DataFrame(rf_cm, range(2), range(2))\n",
        "# plt.figure(figsize=(10,7))\n",
        "sns.set(font_scale=1.4) # for label size\n",
        "sns.heatmap(df_cm3, annot=True, cmap='Blues', annot_kws={\"size\": 16}, fmt='g') # font size\n",
        "plt.show()"
      ],
      "execution_count": 519,
      "outputs": [
        {
          "output_type": "stream",
          "text": [
            "              precision    recall  f1-score   support\n",
            "\n",
            "           0       0.82      0.99      0.90        70\n",
            "           1       0.75      0.17      0.27        18\n",
            "\n",
            "    accuracy                           0.82        88\n",
            "   macro avg       0.79      0.58      0.58        88\n",
            "weighted avg       0.81      0.82      0.77        88\n",
            "\n"
          ],
          "name": "stdout"
        },
        {
          "output_type": "display_data",
          "data": {
            "image/png": "[encoded data removed]",
            "text/plain": [
              "<Figure size 432x288 with 2 Axes>"
            ]
          },
          "metadata": {
            "tags": []
          }
        }
      ]
    },
    {
      "cell_type": "code",
      "metadata": {
        "colab": {
          "base_uri": "https://localhost:8080/",
          "height": 507
        },
        "id": "lauybEBLlQfJ",
        "outputId": "1d997b8c-5d38-4489-b34c-be25587d5082"
      },
      "source": [
        "modelacc = pd.DataFrame({\"Netflix_svm\": [test_score_svm_netflix],\n",
        "                               \"Prime_svm\": [test_score_svm],\n",
        "                               \"Hotstar_svm\": [test_score_svm_hotstar],\n",
        "                              })\n",
        "modelacc.plot.bar(align='edge', width=1,figsize=(10,8),ec=\"black\");\n",
        "plt.xlabel('Models', fontsize=20)\n",
        "plt.ylabel('Scores',fontsize=20)\n",
        "plt.legend(fontsize=15);"
      ],
      "execution_count": 555,
      "outputs": [
        {
          "output_type": "display_data",
          "data": {
            "image/png": "[encoded data removed]",
            "text/plain": [
              "<Figure size 720x576 with 1 Axes>"
            ]
          },
          "metadata": {
            "tags": []
          }
        }
      ]
    },
    {
      "cell_type": "markdown",
      "metadata": {
        "id": "Cs4IayLZ56lm"
      },
      "source": [
        "**LR**"
      ]
    },
    {
      "cell_type": "markdown",
      "metadata": {
        "id": "zIHeuR3p_RPl"
      },
      "source": [
        "Netflix"
      ]
    },
    {
      "cell_type": "code",
      "metadata": {
        "colab": {
          "base_uri": "https://localhost:8080/",
          "height": 476
        },
        "id": "sL2QCyxLYpHd",
        "outputId": "81f1ff16-e0fd-4456-f7a4-9a242acdfdb8"
      },
      "source": [
        "one_hot_data1 = pd.get_dummies(data[['Platforms','Most_watched','Age','Netflix_Rating_Og','Prime_Rating_Og','Hotstar_Rating_Og','Netflix_Rating_movie',\n",
        "       'Netflix_Rating_documentry', 'Netflix_Rating_others','Prime_Rating_movie', 'Prime_Rating_documentry', 'Prime_Rating_others','Hotstar_Rating_movie',\n",
        "       'Hotstar_Rating_documentry', 'Hotstar_Rating_sports']])\n",
        "one_hot_data1"
      ],
      "execution_count": 556,
      "outputs": [
        {
          "output_type": "execute_result",
          "data": {
            "text/html": [
              "<div>\n",
              "<style scoped>\n",
              "    .dataframe tbody tr th:only-of-type {\n",
              "        vertical-align: middle;\n",
              "    }\n",
              "\n",
              "    .dataframe tbody tr th {\n",
              "        vertical-align: top;\n",
              "    }\n",
              "\n",
              "    .dataframe thead th {\n",
              "        text-align: right;\n",
              "    }\n",
              "</style>\n",
              "<table border=\"1\" class=\"dataframe\">\n",
              "  <thead>\n",
              "    <tr style=\"text-align: right;\">\n",
              "      <th></th>\n",
              "      <th>Netflix_Rating_Og</th>\n",
              "      <th>Prime_Rating_Og</th>\n",
              "      <th>Hotstar_Rating_Og</th>\n",
              "      <th>Netflix_Rating_movie</th>\n",
              "      <th>Netflix_Rating_documentry</th>\n",
              "      <th>Netflix_Rating_others</th>\n",
              "      <th>Prime_Rating_movie</th>\n",
              "      <th>Prime_Rating_documentry</th>\n",
              "      <th>Prime_Rating_others</th>\n",
              "      <th>Hotstar_Rating_movie</th>\n",
              "      <th>Hotstar_Rating_documentry</th>\n",
              "      <th>Hotstar_Rating_sports</th>\n",
              "      <th>Platforms_All of the above</th>\n",
              "      <th>Platforms_Hotstar</th>\n",
              "      <th>Platforms_Netflix</th>\n",
              "      <th>Platforms_Prime</th>\n",
              "      <th>Most_watched_All of the above</th>\n",
              "      <th>Most_watched_Documentaries</th>\n",
              "      <th>Most_watched_Documentaries, Sports and News</th>\n",
              "      <th>Most_watched_Movies</th>\n",
              "      <th>Most_watched_Movies, Documentaries</th>\n",
              "      <th>Most_watched_Movies, Documentaries, Sports and News</th>\n",
              "      <th>Most_watched_Movies, Sports and News</th>\n",
              "      <th>Most_watched_Original Web Series</th>\n",
              "      <th>Most_watched_Original Web Series, Documentaries</th>\n",
              "      <th>Most_watched_Original Web Series, Documentaries, Sports and News</th>\n",
              "      <th>Most_watched_Original Web Series, Movies</th>\n",
              "      <th>Most_watched_Original Web Series, Movies, Documentaries</th>\n",
              "      <th>Most_watched_Original Web Series, Movies, Sports and News</th>\n",
              "      <th>Most_watched_Original Web Series, Sports and News</th>\n",
              "      <th>Most_watched_Sports and News</th>\n",
              "      <th>Age_18-30</th>\n",
              "      <th>Age_31-50</th>\n",
              "      <th>Age_Less than 18</th>\n",
              "      <th>Age_More than 50</th>\n",
              "    </tr>\n",
              "  </thead>\n",
              "  <tbody>\n",
              "    <tr>\n",
              "      <th>0</th>\n",
              "      <td>4</td>\n",
              "      <td>5</td>\n",
              "      <td>3</td>\n",
              "      <td>4</td>\n",
              "      <td>4</td>\n",
              "      <td>3</td>\n",
              "      <td>5</td>\n",
              "      <td>5</td>\n",
              "      <td>5</td>\n",
              "      <td>2</td>\n",
              "      <td>2</td>\n",
              "      <td>2</td>\n",
              "      <td>0</td>\n",
              "      <td>0</td>\n",
              "      <td>0</td>\n",
              "      <td>1</td>\n",
              "      <td>1</td>\n",
              "      <td>0</td>\n",
              "      <td>0</td>\n",
              "      <td>0</td>\n",
              "      <td>0</td>\n",
              "      <td>0</td>\n",
              "      <td>0</td>\n",
              "      <td>0</td>\n",
              "      <td>0</td>\n",
              "      <td>0</td>\n",
              "      <td>0</td>\n",
              "      <td>0</td>\n",
              "      <td>0</td>\n",
              "      <td>0</td>\n",
              "      <td>0</td>\n",
              "      <td>1</td>\n",
              "      <td>0</td>\n",
              "      <td>0</td>\n",
              "      <td>0</td>\n",
              "    </tr>\n",
              "    <tr>\n",
              "      <th>1</th>\n",
              "      <td>5</td>\n",
              "      <td>4</td>\n",
              "      <td>3</td>\n",
              "      <td>5</td>\n",
              "      <td>5</td>\n",
              "      <td>5</td>\n",
              "      <td>4</td>\n",
              "      <td>3</td>\n",
              "      <td>1</td>\n",
              "      <td>2</td>\n",
              "      <td>1</td>\n",
              "      <td>1</td>\n",
              "      <td>0</td>\n",
              "      <td>0</td>\n",
              "      <td>1</td>\n",
              "      <td>0</td>\n",
              "      <td>0</td>\n",
              "      <td>0</td>\n",
              "      <td>0</td>\n",
              "      <td>0</td>\n",
              "      <td>0</td>\n",
              "      <td>0</td>\n",
              "      <td>0</td>\n",
              "      <td>1</td>\n",
              "      <td>0</td>\n",
              "      <td>0</td>\n",
              "      <td>0</td>\n",
              "      <td>0</td>\n",
              "      <td>0</td>\n",
              "      <td>0</td>\n",
              "      <td>0</td>\n",
              "      <td>1</td>\n",
              "      <td>0</td>\n",
              "      <td>0</td>\n",
              "      <td>0</td>\n",
              "    </tr>\n",
              "    <tr>\n",
              "      <th>2</th>\n",
              "      <td>5</td>\n",
              "      <td>4</td>\n",
              "      <td>4</td>\n",
              "      <td>4</td>\n",
              "      <td>4</td>\n",
              "      <td>4</td>\n",
              "      <td>3</td>\n",
              "      <td>4</td>\n",
              "      <td>4</td>\n",
              "      <td>5</td>\n",
              "      <td>4</td>\n",
              "      <td>5</td>\n",
              "      <td>0</td>\n",
              "      <td>1</td>\n",
              "      <td>0</td>\n",
              "      <td>0</td>\n",
              "      <td>0</td>\n",
              "      <td>0</td>\n",
              "      <td>0</td>\n",
              "      <td>1</td>\n",
              "      <td>0</td>\n",
              "      <td>0</td>\n",
              "      <td>0</td>\n",
              "      <td>0</td>\n",
              "      <td>0</td>\n",
              "      <td>0</td>\n",
              "      <td>0</td>\n",
              "      <td>0</td>\n",
              "      <td>0</td>\n",
              "      <td>0</td>\n",
              "      <td>0</td>\n",
              "      <td>1</td>\n",
              "      <td>0</td>\n",
              "      <td>0</td>\n",
              "      <td>0</td>\n",
              "    </tr>\n",
              "    <tr>\n",
              "      <th>3</th>\n",
              "      <td>1</td>\n",
              "      <td>1</td>\n",
              "      <td>4</td>\n",
              "      <td>1</td>\n",
              "      <td>1</td>\n",
              "      <td>1</td>\n",
              "      <td>1</td>\n",
              "      <td>1</td>\n",
              "      <td>1</td>\n",
              "      <td>4</td>\n",
              "      <td>5</td>\n",
              "      <td>5</td>\n",
              "      <td>0</td>\n",
              "      <td>1</td>\n",
              "      <td>0</td>\n",
              "      <td>0</td>\n",
              "      <td>0</td>\n",
              "      <td>0</td>\n",
              "      <td>0</td>\n",
              "      <td>0</td>\n",
              "      <td>0</td>\n",
              "      <td>1</td>\n",
              "      <td>0</td>\n",
              "      <td>0</td>\n",
              "      <td>0</td>\n",
              "      <td>0</td>\n",
              "      <td>0</td>\n",
              "      <td>0</td>\n",
              "      <td>0</td>\n",
              "      <td>0</td>\n",
              "      <td>0</td>\n",
              "      <td>0</td>\n",
              "      <td>1</td>\n",
              "      <td>0</td>\n",
              "      <td>0</td>\n",
              "    </tr>\n",
              "    <tr>\n",
              "      <th>4</th>\n",
              "      <td>3</td>\n",
              "      <td>4</td>\n",
              "      <td>3</td>\n",
              "      <td>4</td>\n",
              "      <td>2</td>\n",
              "      <td>1</td>\n",
              "      <td>5</td>\n",
              "      <td>4</td>\n",
              "      <td>4</td>\n",
              "      <td>3</td>\n",
              "      <td>3</td>\n",
              "      <td>3</td>\n",
              "      <td>1</td>\n",
              "      <td>0</td>\n",
              "      <td>0</td>\n",
              "      <td>0</td>\n",
              "      <td>0</td>\n",
              "      <td>0</td>\n",
              "      <td>0</td>\n",
              "      <td>1</td>\n",
              "      <td>0</td>\n",
              "      <td>0</td>\n",
              "      <td>0</td>\n",
              "      <td>0</td>\n",
              "      <td>0</td>\n",
              "      <td>0</td>\n",
              "      <td>0</td>\n",
              "      <td>0</td>\n",
              "      <td>0</td>\n",
              "      <td>0</td>\n",
              "      <td>0</td>\n",
              "      <td>1</td>\n",
              "      <td>0</td>\n",
              "      <td>0</td>\n",
              "      <td>0</td>\n",
              "    </tr>\n",
              "    <tr>\n",
              "      <th>...</th>\n",
              "      <td>...</td>\n",
              "      <td>...</td>\n",
              "      <td>...</td>\n",
              "      <td>...</td>\n",
              "      <td>...</td>\n",
              "      <td>...</td>\n",
              "      <td>...</td>\n",
              "      <td>...</td>\n",
              "      <td>...</td>\n",
              "      <td>...</td>\n",
              "      <td>...</td>\n",
              "      <td>...</td>\n",
              "      <td>...</td>\n",
              "      <td>...</td>\n",
              "      <td>...</td>\n",
              "      <td>...</td>\n",
              "      <td>...</td>\n",
              "      <td>...</td>\n",
              "      <td>...</td>\n",
              "      <td>...</td>\n",
              "      <td>...</td>\n",
              "      <td>...</td>\n",
              "      <td>...</td>\n",
              "      <td>...</td>\n",
              "      <td>...</td>\n",
              "      <td>...</td>\n",
              "      <td>...</td>\n",
              "      <td>...</td>\n",
              "      <td>...</td>\n",
              "      <td>...</td>\n",
              "      <td>...</td>\n",
              "      <td>...</td>\n",
              "      <td>...</td>\n",
              "      <td>...</td>\n",
              "      <td>...</td>\n",
              "    </tr>\n",
              "    <tr>\n",
              "      <th>245</th>\n",
              "      <td>4</td>\n",
              "      <td>5</td>\n",
              "      <td>5</td>\n",
              "      <td>5</td>\n",
              "      <td>4</td>\n",
              "      <td>4</td>\n",
              "      <td>4</td>\n",
              "      <td>4</td>\n",
              "      <td>5</td>\n",
              "      <td>4</td>\n",
              "      <td>4</td>\n",
              "      <td>5</td>\n",
              "      <td>0</td>\n",
              "      <td>0</td>\n",
              "      <td>1</td>\n",
              "      <td>0</td>\n",
              "      <td>0</td>\n",
              "      <td>0</td>\n",
              "      <td>0</td>\n",
              "      <td>0</td>\n",
              "      <td>0</td>\n",
              "      <td>0</td>\n",
              "      <td>0</td>\n",
              "      <td>0</td>\n",
              "      <td>0</td>\n",
              "      <td>0</td>\n",
              "      <td>1</td>\n",
              "      <td>0</td>\n",
              "      <td>0</td>\n",
              "      <td>0</td>\n",
              "      <td>0</td>\n",
              "      <td>0</td>\n",
              "      <td>0</td>\n",
              "      <td>1</td>\n",
              "      <td>0</td>\n",
              "    </tr>\n",
              "    <tr>\n",
              "      <th>246</th>\n",
              "      <td>5</td>\n",
              "      <td>5</td>\n",
              "      <td>5</td>\n",
              "      <td>4</td>\n",
              "      <td>4</td>\n",
              "      <td>4</td>\n",
              "      <td>5</td>\n",
              "      <td>4</td>\n",
              "      <td>4</td>\n",
              "      <td>5</td>\n",
              "      <td>4</td>\n",
              "      <td>4</td>\n",
              "      <td>0</td>\n",
              "      <td>0</td>\n",
              "      <td>1</td>\n",
              "      <td>0</td>\n",
              "      <td>0</td>\n",
              "      <td>0</td>\n",
              "      <td>0</td>\n",
              "      <td>1</td>\n",
              "      <td>0</td>\n",
              "      <td>0</td>\n",
              "      <td>0</td>\n",
              "      <td>0</td>\n",
              "      <td>0</td>\n",
              "      <td>0</td>\n",
              "      <td>0</td>\n",
              "      <td>0</td>\n",
              "      <td>0</td>\n",
              "      <td>0</td>\n",
              "      <td>0</td>\n",
              "      <td>0</td>\n",
              "      <td>1</td>\n",
              "      <td>0</td>\n",
              "      <td>0</td>\n",
              "    </tr>\n",
              "    <tr>\n",
              "      <th>247</th>\n",
              "      <td>5</td>\n",
              "      <td>5</td>\n",
              "      <td>5</td>\n",
              "      <td>4</td>\n",
              "      <td>4</td>\n",
              "      <td>3</td>\n",
              "      <td>4</td>\n",
              "      <td>4</td>\n",
              "      <td>4</td>\n",
              "      <td>4</td>\n",
              "      <td>4</td>\n",
              "      <td>5</td>\n",
              "      <td>0</td>\n",
              "      <td>0</td>\n",
              "      <td>0</td>\n",
              "      <td>1</td>\n",
              "      <td>0</td>\n",
              "      <td>0</td>\n",
              "      <td>0</td>\n",
              "      <td>0</td>\n",
              "      <td>0</td>\n",
              "      <td>0</td>\n",
              "      <td>1</td>\n",
              "      <td>0</td>\n",
              "      <td>0</td>\n",
              "      <td>0</td>\n",
              "      <td>0</td>\n",
              "      <td>0</td>\n",
              "      <td>0</td>\n",
              "      <td>0</td>\n",
              "      <td>0</td>\n",
              "      <td>1</td>\n",
              "      <td>0</td>\n",
              "      <td>0</td>\n",
              "      <td>0</td>\n",
              "    </tr>\n",
              "    <tr>\n",
              "      <th>248</th>\n",
              "      <td>5</td>\n",
              "      <td>5</td>\n",
              "      <td>5</td>\n",
              "      <td>4</td>\n",
              "      <td>4</td>\n",
              "      <td>3</td>\n",
              "      <td>4</td>\n",
              "      <td>4</td>\n",
              "      <td>4</td>\n",
              "      <td>4</td>\n",
              "      <td>4</td>\n",
              "      <td>5</td>\n",
              "      <td>0</td>\n",
              "      <td>0</td>\n",
              "      <td>0</td>\n",
              "      <td>1</td>\n",
              "      <td>0</td>\n",
              "      <td>0</td>\n",
              "      <td>0</td>\n",
              "      <td>0</td>\n",
              "      <td>0</td>\n",
              "      <td>0</td>\n",
              "      <td>1</td>\n",
              "      <td>0</td>\n",
              "      <td>0</td>\n",
              "      <td>0</td>\n",
              "      <td>0</td>\n",
              "      <td>0</td>\n",
              "      <td>0</td>\n",
              "      <td>0</td>\n",
              "      <td>0</td>\n",
              "      <td>1</td>\n",
              "      <td>0</td>\n",
              "      <td>0</td>\n",
              "      <td>0</td>\n",
              "    </tr>\n",
              "    <tr>\n",
              "      <th>249</th>\n",
              "      <td>5</td>\n",
              "      <td>5</td>\n",
              "      <td>5</td>\n",
              "      <td>4</td>\n",
              "      <td>4</td>\n",
              "      <td>3</td>\n",
              "      <td>4</td>\n",
              "      <td>4</td>\n",
              "      <td>5</td>\n",
              "      <td>4</td>\n",
              "      <td>3</td>\n",
              "      <td>4</td>\n",
              "      <td>1</td>\n",
              "      <td>0</td>\n",
              "      <td>0</td>\n",
              "      <td>0</td>\n",
              "      <td>1</td>\n",
              "      <td>0</td>\n",
              "      <td>0</td>\n",
              "      <td>0</td>\n",
              "      <td>0</td>\n",
              "      <td>0</td>\n",
              "      <td>0</td>\n",
              "      <td>0</td>\n",
              "      <td>0</td>\n",
              "      <td>0</td>\n",
              "      <td>0</td>\n",
              "      <td>0</td>\n",
              "      <td>0</td>\n",
              "      <td>0</td>\n",
              "      <td>0</td>\n",
              "      <td>0</td>\n",
              "      <td>1</td>\n",
              "      <td>0</td>\n",
              "      <td>0</td>\n",
              "    </tr>\n",
              "  </tbody>\n",
              "</table>\n",
              "<p>250 rows × 35 columns</p>\n",
              "</div>"
            ],
            "text/plain": [
              "     Netflix_Rating_Og  Prime_Rating_Og  ...  Age_Less than 18  Age_More than 50\n",
              "0                    4                5  ...                 0                 0\n",
              "1                    5                4  ...                 0                 0\n",
              "2                    5                4  ...                 0                 0\n",
              "3                    1                1  ...                 0                 0\n",
              "4                    3                4  ...                 0                 0\n",
              "..                 ...              ...  ...               ...               ...\n",
              "245                  4                5  ...                 1                 0\n",
              "246                  5                5  ...                 0                 0\n",
              "247                  5                5  ...                 0                 0\n",
              "248                  5                5  ...                 0                 0\n",
              "249                  5                5  ...                 0                 0\n",
              "\n",
              "[250 rows x 35 columns]"
            ]
          },
          "metadata": {
            "tags": []
          },
          "execution_count": 556
        }
      ]
    },
    {
      "cell_type": "code",
      "metadata": {
        "colab": {
          "base_uri": "https://localhost:8080/",
          "height": 476
        },
        "id": "kY2G52vbhcFD",
        "outputId": "8ce71b83-d1e1-4610-93f9-1ce3f7c62959"
      },
      "source": [
        "one_hot_data1 = pd.get_dummies(data[['Platforms','Most_watched','Age','Netflix_Rating_Og','Prime_Rating_Og','Hotstar_Rating_Og','Netflix_Rating_movie',\n",
        "       'Netflix_Rating_documentry', 'Netflix_Rating_others','Prime_Rating_movie', 'Prime_Rating_documentry', 'Prime_Rating_others','Hotstar_Rating_movie',\n",
        "       'Hotstar_Rating_documentry', 'Hotstar_Rating_sports']],drop_first=True)\n",
        "one_hot_data1"
      ],
      "execution_count": 557,
      "outputs": [
        {
          "output_type": "execute_result",
          "data": {
            "text/html": [
              "<div>\n",
              "<style scoped>\n",
              "    .dataframe tbody tr th:only-of-type {\n",
              "        vertical-align: middle;\n",
              "    }\n",
              "\n",
              "    .dataframe tbody tr th {\n",
              "        vertical-align: top;\n",
              "    }\n",
              "\n",
              "    .dataframe thead th {\n",
              "        text-align: right;\n",
              "    }\n",
              "</style>\n",
              "<table border=\"1\" class=\"dataframe\">\n",
              "  <thead>\n",
              "    <tr style=\"text-align: right;\">\n",
              "      <th></th>\n",
              "      <th>Netflix_Rating_Og</th>\n",
              "      <th>Prime_Rating_Og</th>\n",
              "      <th>Hotstar_Rating_Og</th>\n",
              "      <th>Netflix_Rating_movie</th>\n",
              "      <th>Netflix_Rating_documentry</th>\n",
              "      <th>Netflix_Rating_others</th>\n",
              "      <th>Prime_Rating_movie</th>\n",
              "      <th>Prime_Rating_documentry</th>\n",
              "      <th>Prime_Rating_others</th>\n",
              "      <th>Hotstar_Rating_movie</th>\n",
              "      <th>Hotstar_Rating_documentry</th>\n",
              "      <th>Hotstar_Rating_sports</th>\n",
              "      <th>Platforms_Hotstar</th>\n",
              "      <th>Platforms_Netflix</th>\n",
              "      <th>Platforms_Prime</th>\n",
              "      <th>Most_watched_Documentaries</th>\n",
              "      <th>Most_watched_Documentaries, Sports and News</th>\n",
              "      <th>Most_watched_Movies</th>\n",
              "      <th>Most_watched_Movies, Documentaries</th>\n",
              "      <th>Most_watched_Movies, Documentaries, Sports and News</th>\n",
              "      <th>Most_watched_Movies, Sports and News</th>\n",
              "      <th>Most_watched_Original Web Series</th>\n",
              "      <th>Most_watched_Original Web Series, Documentaries</th>\n",
              "      <th>Most_watched_Original Web Series, Documentaries, Sports and News</th>\n",
              "      <th>Most_watched_Original Web Series, Movies</th>\n",
              "      <th>Most_watched_Original Web Series, Movies, Documentaries</th>\n",
              "      <th>Most_watched_Original Web Series, Movies, Sports and News</th>\n",
              "      <th>Most_watched_Original Web Series, Sports and News</th>\n",
              "      <th>Most_watched_Sports and News</th>\n",
              "      <th>Age_31-50</th>\n",
              "      <th>Age_Less than 18</th>\n",
              "      <th>Age_More than 50</th>\n",
              "    </tr>\n",
              "  </thead>\n",
              "  <tbody>\n",
              "    <tr>\n",
              "      <th>0</th>\n",
              "      <td>4</td>\n",
              "      <td>5</td>\n",
              "      <td>3</td>\n",
              "      <td>4</td>\n",
              "      <td>4</td>\n",
              "      <td>3</td>\n",
              "      <td>5</td>\n",
              "      <td>5</td>\n",
              "      <td>5</td>\n",
              "      <td>2</td>\n",
              "      <td>2</td>\n",
              "      <td>2</td>\n",
              "      <td>0</td>\n",
              "      <td>0</td>\n",
              "      <td>1</td>\n",
              "      <td>0</td>\n",
              "      <td>0</td>\n",
              "      <td>0</td>\n",
              "      <td>0</td>\n",
              "      <td>0</td>\n",
              "      <td>0</td>\n",
              "      <td>0</td>\n",
              "      <td>0</td>\n",
              "      <td>0</td>\n",
              "      <td>0</td>\n",
              "      <td>0</td>\n",
              "      <td>0</td>\n",
              "      <td>0</td>\n",
              "      <td>0</td>\n",
              "      <td>0</td>\n",
              "      <td>0</td>\n",
              "      <td>0</td>\n",
              "    </tr>\n",
              "    <tr>\n",
              "      <th>1</th>\n",
              "      <td>5</td>\n",
              "      <td>4</td>\n",
              "      <td>3</td>\n",
              "      <td>5</td>\n",
              "      <td>5</td>\n",
              "      <td>5</td>\n",
              "      <td>4</td>\n",
              "      <td>3</td>\n",
              "      <td>1</td>\n",
              "      <td>2</td>\n",
              "      <td>1</td>\n",
              "      <td>1</td>\n",
              "      <td>0</td>\n",
              "      <td>1</td>\n",
              "      <td>0</td>\n",
              "      <td>0</td>\n",
              "      <td>0</td>\n",
              "      <td>0</td>\n",
              "      <td>0</td>\n",
              "      <td>0</td>\n",
              "      <td>0</td>\n",
              "      <td>1</td>\n",
              "      <td>0</td>\n",
              "      <td>0</td>\n",
              "      <td>0</td>\n",
              "      <td>0</td>\n",
              "      <td>0</td>\n",
              "      <td>0</td>\n",
              "      <td>0</td>\n",
              "      <td>0</td>\n",
              "      <td>0</td>\n",
              "      <td>0</td>\n",
              "    </tr>\n",
              "    <tr>\n",
              "      <th>2</th>\n",
              "      <td>5</td>\n",
              "      <td>4</td>\n",
              "      <td>4</td>\n",
              "      <td>4</td>\n",
              "      <td>4</td>\n",
              "      <td>4</td>\n",
              "      <td>3</td>\n",
              "      <td>4</td>\n",
              "      <td>4</td>\n",
              "      <td>5</td>\n",
              "      <td>4</td>\n",
              "      <td>5</td>\n",
              "      <td>1</td>\n",
              "      <td>0</td>\n",
              "      <td>0</td>\n",
              "      <td>0</td>\n",
              "      <td>0</td>\n",
              "      <td>1</td>\n",
              "      <td>0</td>\n",
              "      <td>0</td>\n",
              "      <td>0</td>\n",
              "      <td>0</td>\n",
              "      <td>0</td>\n",
              "      <td>0</td>\n",
              "      <td>0</td>\n",
              "      <td>0</td>\n",
              "      <td>0</td>\n",
              "      <td>0</td>\n",
              "      <td>0</td>\n",
              "      <td>0</td>\n",
              "      <td>0</td>\n",
              "      <td>0</td>\n",
              "    </tr>\n",
              "    <tr>\n",
              "      <th>3</th>\n",
              "      <td>1</td>\n",
              "      <td>1</td>\n",
              "      <td>4</td>\n",
              "      <td>1</td>\n",
              "      <td>1</td>\n",
              "      <td>1</td>\n",
              "      <td>1</td>\n",
              "      <td>1</td>\n",
              "      <td>1</td>\n",
              "      <td>4</td>\n",
              "      <td>5</td>\n",
              "      <td>5</td>\n",
              "      <td>1</td>\n",
              "      <td>0</td>\n",
              "      <td>0</td>\n",
              "      <td>0</td>\n",
              "      <td>0</td>\n",
              "      <td>0</td>\n",
              "      <td>0</td>\n",
              "      <td>1</td>\n",
              "      <td>0</td>\n",
              "      <td>0</td>\n",
              "      <td>0</td>\n",
              "      <td>0</td>\n",
              "      <td>0</td>\n",
              "      <td>0</td>\n",
              "      <td>0</td>\n",
              "      <td>0</td>\n",
              "      <td>0</td>\n",
              "      <td>1</td>\n",
              "      <td>0</td>\n",
              "      <td>0</td>\n",
              "    </tr>\n",
              "    <tr>\n",
              "      <th>4</th>\n",
              "      <td>3</td>\n",
              "      <td>4</td>\n",
              "      <td>3</td>\n",
              "      <td>4</td>\n",
              "      <td>2</td>\n",
              "      <td>1</td>\n",
              "      <td>5</td>\n",
              "      <td>4</td>\n",
              "      <td>4</td>\n",
              "      <td>3</td>\n",
              "      <td>3</td>\n",
              "      <td>3</td>\n",
              "      <td>0</td>\n",
              "      <td>0</td>\n",
              "      <td>0</td>\n",
              "      <td>0</td>\n",
              "      <td>0</td>\n",
              "      <td>1</td>\n",
              "      <td>0</td>\n",
              "      <td>0</td>\n",
              "      <td>0</td>\n",
              "      <td>0</td>\n",
              "      <td>0</td>\n",
              "      <td>0</td>\n",
              "      <td>0</td>\n",
              "      <td>0</td>\n",
              "      <td>0</td>\n",
              "      <td>0</td>\n",
              "      <td>0</td>\n",
              "      <td>0</td>\n",
              "      <td>0</td>\n",
              "      <td>0</td>\n",
              "    </tr>\n",
              "    <tr>\n",
              "      <th>...</th>\n",
              "      <td>...</td>\n",
              "      <td>...</td>\n",
              "      <td>...</td>\n",
              "      <td>...</td>\n",
              "      <td>...</td>\n",
              "      <td>...</td>\n",
              "      <td>...</td>\n",
              "      <td>...</td>\n",
              "      <td>...</td>\n",
              "      <td>...</td>\n",
              "      <td>...</td>\n",
              "      <td>...</td>\n",
              "      <td>...</td>\n",
              "      <td>...</td>\n",
              "      <td>...</td>\n",
              "      <td>...</td>\n",
              "      <td>...</td>\n",
              "      <td>...</td>\n",
              "      <td>...</td>\n",
              "      <td>...</td>\n",
              "      <td>...</td>\n",
              "      <td>...</td>\n",
              "      <td>...</td>\n",
              "      <td>...</td>\n",
              "      <td>...</td>\n",
              "      <td>...</td>\n",
              "      <td>...</td>\n",
              "      <td>...</td>\n",
              "      <td>...</td>\n",
              "      <td>...</td>\n",
              "      <td>...</td>\n",
              "      <td>...</td>\n",
              "    </tr>\n",
              "    <tr>\n",
              "      <th>245</th>\n",
              "      <td>4</td>\n",
              "      <td>5</td>\n",
              "      <td>5</td>\n",
              "      <td>5</td>\n",
              "      <td>4</td>\n",
              "      <td>4</td>\n",
              "      <td>4</td>\n",
              "      <td>4</td>\n",
              "      <td>5</td>\n",
              "      <td>4</td>\n",
              "      <td>4</td>\n",
              "      <td>5</td>\n",
              "      <td>0</td>\n",
              "      <td>1</td>\n",
              "      <td>0</td>\n",
              "      <td>0</td>\n",
              "      <td>0</td>\n",
              "      <td>0</td>\n",
              "      <td>0</td>\n",
              "      <td>0</td>\n",
              "      <td>0</td>\n",
              "      <td>0</td>\n",
              "      <td>0</td>\n",
              "      <td>0</td>\n",
              "      <td>1</td>\n",
              "      <td>0</td>\n",
              "      <td>0</td>\n",
              "      <td>0</td>\n",
              "      <td>0</td>\n",
              "      <td>0</td>\n",
              "      <td>1</td>\n",
              "      <td>0</td>\n",
              "    </tr>\n",
              "    <tr>\n",
              "      <th>246</th>\n",
              "      <td>5</td>\n",
              "      <td>5</td>\n",
              "      <td>5</td>\n",
              "      <td>4</td>\n",
              "      <td>4</td>\n",
              "      <td>4</td>\n",
              "      <td>5</td>\n",
              "      <td>4</td>\n",
              "      <td>4</td>\n",
              "      <td>5</td>\n",
              "      <td>4</td>\n",
              "      <td>4</td>\n",
              "      <td>0</td>\n",
              "      <td>1</td>\n",
              "      <td>0</td>\n",
              "      <td>0</td>\n",
              "      <td>0</td>\n",
              "      <td>1</td>\n",
              "      <td>0</td>\n",
              "      <td>0</td>\n",
              "      <td>0</td>\n",
              "      <td>0</td>\n",
              "      <td>0</td>\n",
              "      <td>0</td>\n",
              "      <td>0</td>\n",
              "      <td>0</td>\n",
              "      <td>0</td>\n",
              "      <td>0</td>\n",
              "      <td>0</td>\n",
              "      <td>1</td>\n",
              "      <td>0</td>\n",
              "      <td>0</td>\n",
              "    </tr>\n",
              "    <tr>\n",
              "      <th>247</th>\n",
              "      <td>5</td>\n",
              "      <td>5</td>\n",
              "      <td>5</td>\n",
              "      <td>4</td>\n",
              "      <td>4</td>\n",
              "      <td>3</td>\n",
              "      <td>4</td>\n",
              "      <td>4</td>\n",
              "      <td>4</td>\n",
              "      <td>4</td>\n",
              "      <td>4</td>\n",
              "      <td>5</td>\n",
              "      <td>0</td>\n",
              "      <td>0</td>\n",
              "      <td>1</td>\n",
              "      <td>0</td>\n",
              "      <td>0</td>\n",
              "      <td>0</td>\n",
              "      <td>0</td>\n",
              "      <td>0</td>\n",
              "      <td>1</td>\n",
              "      <td>0</td>\n",
              "      <td>0</td>\n",
              "      <td>0</td>\n",
              "      <td>0</td>\n",
              "      <td>0</td>\n",
              "      <td>0</td>\n",
              "      <td>0</td>\n",
              "      <td>0</td>\n",
              "      <td>0</td>\n",
              "      <td>0</td>\n",
              "      <td>0</td>\n",
              "    </tr>\n",
              "    <tr>\n",
              "      <th>248</th>\n",
              "      <td>5</td>\n",
              "      <td>5</td>\n",
              "      <td>5</td>\n",
              "      <td>4</td>\n",
              "      <td>4</td>\n",
              "      <td>3</td>\n",
              "      <td>4</td>\n",
              "      <td>4</td>\n",
              "      <td>4</td>\n",
              "      <td>4</td>\n",
              "      <td>4</td>\n",
              "      <td>5</td>\n",
              "      <td>0</td>\n",
              "      <td>0</td>\n",
              "      <td>1</td>\n",
              "      <td>0</td>\n",
              "      <td>0</td>\n",
              "      <td>0</td>\n",
              "      <td>0</td>\n",
              "      <td>0</td>\n",
              "      <td>1</td>\n",
              "      <td>0</td>\n",
              "      <td>0</td>\n",
              "      <td>0</td>\n",
              "      <td>0</td>\n",
              "      <td>0</td>\n",
              "      <td>0</td>\n",
              "      <td>0</td>\n",
              "      <td>0</td>\n",
              "      <td>0</td>\n",
              "      <td>0</td>\n",
              "      <td>0</td>\n",
              "    </tr>\n",
              "    <tr>\n",
              "      <th>249</th>\n",
              "      <td>5</td>\n",
              "      <td>5</td>\n",
              "      <td>5</td>\n",
              "      <td>4</td>\n",
              "      <td>4</td>\n",
              "      <td>3</td>\n",
              "      <td>4</td>\n",
              "      <td>4</td>\n",
              "      <td>5</td>\n",
              "      <td>4</td>\n",
              "      <td>3</td>\n",
              "      <td>4</td>\n",
              "      <td>0</td>\n",
              "      <td>0</td>\n",
              "      <td>0</td>\n",
              "      <td>0</td>\n",
              "      <td>0</td>\n",
              "      <td>0</td>\n",
              "      <td>0</td>\n",
              "      <td>0</td>\n",
              "      <td>0</td>\n",
              "      <td>0</td>\n",
              "      <td>0</td>\n",
              "      <td>0</td>\n",
              "      <td>0</td>\n",
              "      <td>0</td>\n",
              "      <td>0</td>\n",
              "      <td>0</td>\n",
              "      <td>0</td>\n",
              "      <td>1</td>\n",
              "      <td>0</td>\n",
              "      <td>0</td>\n",
              "    </tr>\n",
              "  </tbody>\n",
              "</table>\n",
              "<p>250 rows × 32 columns</p>\n",
              "</div>"
            ],
            "text/plain": [
              "     Netflix_Rating_Og  Prime_Rating_Og  ...  Age_Less than 18  Age_More than 50\n",
              "0                    4                5  ...                 0                 0\n",
              "1                    5                4  ...                 0                 0\n",
              "2                    5                4  ...                 0                 0\n",
              "3                    1                1  ...                 0                 0\n",
              "4                    3                4  ...                 0                 0\n",
              "..                 ...              ...  ...               ...               ...\n",
              "245                  4                5  ...                 1                 0\n",
              "246                  5                5  ...                 0                 0\n",
              "247                  5                5  ...                 0                 0\n",
              "248                  5                5  ...                 0                 0\n",
              "249                  5                5  ...                 0                 0\n",
              "\n",
              "[250 rows x 32 columns]"
            ]
          },
          "metadata": {
            "tags": []
          },
          "execution_count": 557
        }
      ]
    },
    {
      "cell_type": "code",
      "metadata": {
        "colab": {
          "base_uri": "https://localhost:8080/"
        },
        "id": "_5Nzvv-6hdhA",
        "outputId": "8ca29924-19a2-464f-89ec-d186c175fb03"
      },
      "source": [
        "one_hot_data1.columns"
      ],
      "execution_count": null,
      "outputs": [
        {
          "output_type": "execute_result",
          "data": {
            "text/plain": [
              "Index(['Netflix_Rating_Og', 'Prime_Rating_Og', 'Hotstar_Rating_Og',\n",
              "       'Netflix_Rating_movie', 'Netflix_Rating_documentry',\n",
              "       'Netflix_Rating_others', 'Prime_Rating_movie',\n",
              "       'Prime_Rating_documentry', 'Prime_Rating_others',\n",
              "       'Hotstar_Rating_movie', 'Hotstar_Rating_documentry',\n",
              "       'Hotstar_Rating_sports', 'Platforms_Hotstar', 'Platforms_Netflix',\n",
              "       'Platforms_Prime', 'Most_watched_Documentaries',\n",
              "       'Most_watched_Documentaries, Sports and News', 'Most_watched_Movies',\n",
              "       'Most_watched_Movies, Documentaries',\n",
              "       'Most_watched_Movies, Documentaries, Sports and News',\n",
              "       'Most_watched_Movies, Sports and News',\n",
              "       'Most_watched_Original Web Series',\n",
              "       'Most_watched_Original Web Series, Documentaries',\n",
              "       'Most_watched_Original Web Series, Documentaries, Sports and News',\n",
              "       'Most_watched_Original Web Series, Movies',\n",
              "       'Most_watched_Original Web Series, Movies, Documentaries',\n",
              "       'Most_watched_Original Web Series, Movies, Sports and News',\n",
              "       'Most_watched_Original Web Series, Sports and News',\n",
              "       'Most_watched_Sports and News', 'Age_31-50', 'Age_Less than 18',\n",
              "       'Age_More than 50'],\n",
              "      dtype='object')"
            ]
          },
          "metadata": {
            "tags": []
          },
          "execution_count": 88
        }
      ]
    },
    {
      "cell_type": "code",
      "metadata": {
        "id": "VDOXKjwoAWNn"
      },
      "source": [
        "from sklearn.linear_model import LogisticRegression\n",
        "from sklearn.model_selection import cross_val_score\n"
      ],
      "execution_count": 558,
      "outputs": []
    },
    {
      "cell_type": "code",
      "metadata": {
        "colab": {
          "base_uri": "https://localhost:8080/"
        },
        "id": "HBinauo26AxT",
        "outputId": "0fbec73c-01e4-44d2-bdb3-993402855c57"
      },
      "source": [
        "lr = LogisticRegression()\n",
        "columns =['Platforms_Netflix','Age_31-50','Age_Less than 18','Age_More than 50']\n",
        "lr.fit(one_hot_data1[columns], one_hot_data1['Netflix_Rating_Og'])"
      ],
      "execution_count": 604,
      "outputs": [
        {
          "output_type": "execute_result",
          "data": {
            "text/plain": [
              "LogisticRegression(C=1.0, class_weight=None, dual=False, fit_intercept=True,\n",
              "                   intercept_scaling=1, l1_ratio=None, max_iter=100,\n",
              "                   multi_class='auto', n_jobs=None, penalty='l2',\n",
              "                   random_state=None, solver='lbfgs', tol=0.0001, verbose=0,\n",
              "                   warm_start=False)"
            ]
          },
          "metadata": {
            "tags": []
          },
          "execution_count": 604
        }
      ]
    },
    {
      "cell_type": "code",
      "metadata": {
        "id": "EUcwR5rl6Az4"
      },
      "source": [
        "X = one_hot_data1[columns]\n",
        "y = one_hot_data1['Netflix_Rating_Og']\n",
        "\n",
        "train_X, val_X, train_y, val_y = train_test_split(\n",
        "    X, y, test_size=0.20,random_state=0)"
      ],
      "execution_count": 605,
      "outputs": []
    },
    {
      "cell_type": "code",
      "metadata": {
        "colab": {
          "base_uri": "https://localhost:8080/"
        },
        "id": "z0ro4z1X6A2x",
        "outputId": "aea2308f-5bd3-4b06-aa43-8c5c2eb8b206"
      },
      "source": [
        "lr = LogisticRegression()\n",
        "lr.fit(train_X, train_y)\n",
        "predictions_netflix = lr.predict(val_X)\n",
        "accuracy_netflix = accuracy_score(val_y, predictions_netflix)\n",
        "print(accuracy_netflix)\n",
        "from sklearn.metrics import classification_report\n",
        "print(classification_report(val_y,predictions_netflix))"
      ],
      "execution_count": 606,
      "outputs": [
        {
          "output_type": "stream",
          "text": [
            "0.6\n",
            "              precision    recall  f1-score   support\n",
            "\n",
            "           1       0.00      0.00      0.00         4\n",
            "           2       0.00      0.00      0.00         3\n",
            "           3       0.00      0.00      0.00         2\n",
            "           4       0.00      0.00      0.00        10\n",
            "           5       0.61      0.97      0.75        31\n",
            "\n",
            "    accuracy                           0.60        50\n",
            "   macro avg       0.12      0.19      0.15        50\n",
            "weighted avg       0.38      0.60      0.47        50\n",
            "\n"
          ],
          "name": "stdout"
        },
        {
          "output_type": "stream",
          "text": [
            "/usr/local/lib/python3.7/dist-packages/sklearn/metrics/_classification.py:1272: UndefinedMetricWarning: Precision and F-score are ill-defined and being set to 0.0 in labels with no predicted samples. Use `zero_division` parameter to control this behavior.\n",
            "  _warn_prf(average, modifier, msg_start, len(result))\n"
          ],
          "name": "stderr"
        }
      ]
    },
    {
      "cell_type": "markdown",
      "metadata": {
        "id": "73qs_Ad9BYol"
      },
      "source": [
        "**Prime**"
      ]
    },
    {
      "cell_type": "code",
      "metadata": {
        "colab": {
          "base_uri": "https://localhost:8080/"
        },
        "id": "EF2K2llo6A52",
        "outputId": "51441b58-ced0-442f-f389-453777d23754"
      },
      "source": [
        "lr = LogisticRegression()\n",
        "columns =['Platforms_Prime','Age_31-50','Age_Less than 18','Age_More than 50']\n",
        "lr.fit(one_hot_data1[columns], one_hot_data1['Prime_Rating_Og'])"
      ],
      "execution_count": 618,
      "outputs": [
        {
          "output_type": "execute_result",
          "data": {
            "text/plain": [
              "LogisticRegression(C=1.0, class_weight=None, dual=False, fit_intercept=True,\n",
              "                   intercept_scaling=1, l1_ratio=None, max_iter=100,\n",
              "                   multi_class='auto', n_jobs=None, penalty='l2',\n",
              "                   random_state=None, solver='lbfgs', tol=0.0001, verbose=0,\n",
              "                   warm_start=False)"
            ]
          },
          "metadata": {
            "tags": []
          },
          "execution_count": 618
        }
      ]
    },
    {
      "cell_type": "code",
      "metadata": {
        "id": "7nNl_kr56A8v"
      },
      "source": [
        "X = one_hot_data1[columns]\n",
        "y = one_hot_data1['Prime_Rating_Og']\n",
        "\n",
        "train_X, val_X, train_y, val_y = train_test_split(\n",
        "    X, y, test_size=0.25,random_state=0)"
      ],
      "execution_count": 621,
      "outputs": []
    },
    {
      "cell_type": "code",
      "metadata": {
        "colab": {
          "base_uri": "https://localhost:8080/"
        },
        "id": "eUJQiwlv6BBJ",
        "outputId": "74e4a264-1700-49be-cf32-1a5af48da52a"
      },
      "source": [
        "lr = LogisticRegression()\n",
        "lr.fit(train_X, train_y)\n",
        "predictions_prime = lr.predict(val_X)\n",
        "accuracy_prime = accuracy_score(val_y, predictions_prime)\n",
        "print(accuracy_prime)\n",
        "from sklearn.metrics import classification_report\n",
        "print(classification_report(val_y,predictions_prime))"
      ],
      "execution_count": 622,
      "outputs": [
        {
          "output_type": "stream",
          "text": [
            "0.6349206349206349\n",
            "              precision    recall  f1-score   support\n",
            "\n",
            "           1       0.00      0.00      0.00         3\n",
            "           2       0.00      0.00      0.00         2\n",
            "           3       0.00      0.00      0.00         5\n",
            "           4       0.00      0.00      0.00        13\n",
            "           5       0.63      1.00      0.78        40\n",
            "\n",
            "    accuracy                           0.63        63\n",
            "   macro avg       0.13      0.20      0.16        63\n",
            "weighted avg       0.40      0.63      0.49        63\n",
            "\n"
          ],
          "name": "stdout"
        },
        {
          "output_type": "stream",
          "text": [
            "/usr/local/lib/python3.7/dist-packages/sklearn/metrics/_classification.py:1272: UndefinedMetricWarning: Precision and F-score are ill-defined and being set to 0.0 in labels with no predicted samples. Use `zero_division` parameter to control this behavior.\n",
            "  _warn_prf(average, modifier, msg_start, len(result))\n"
          ],
          "name": "stderr"
        }
      ]
    },
    {
      "cell_type": "markdown",
      "metadata": {
        "id": "PmBLgkFsCmOC"
      },
      "source": [
        "Hotstar"
      ]
    },
    {
      "cell_type": "code",
      "metadata": {
        "colab": {
          "base_uri": "https://localhost:8080/"
        },
        "id": "GQe1KA2P6BEW",
        "outputId": "93b5585f-4732-435a-b6fd-a43e4c0690c9"
      },
      "source": [
        "lr = LogisticRegression()\n",
        "columns =['Platforms_Hotstar','Age_31-50', 'Age_Less than 18','Age_More than 50']\n",
        "lr.fit(one_hot_data1[columns], one_hot_data1['Hotstar_Rating_Og'])"
      ],
      "execution_count": 607,
      "outputs": [
        {
          "output_type": "execute_result",
          "data": {
            "text/plain": [
              "LogisticRegression(C=1.0, class_weight=None, dual=False, fit_intercept=True,\n",
              "                   intercept_scaling=1, l1_ratio=None, max_iter=100,\n",
              "                   multi_class='auto', n_jobs=None, penalty='l2',\n",
              "                   random_state=None, solver='lbfgs', tol=0.0001, verbose=0,\n",
              "                   warm_start=False)"
            ]
          },
          "metadata": {
            "tags": []
          },
          "execution_count": 607
        }
      ]
    },
    {
      "cell_type": "code",
      "metadata": {
        "id": "08ke-_3i6BHQ"
      },
      "source": [
        "X = one_hot_data1[columns]\n",
        "y = one_hot_data1['Hotstar_Rating_Og']\n",
        "\n",
        "train_X, val_X, train_y, val_y = train_test_split(\n",
        "    X, y, test_size=0.30,random_state=0)"
      ],
      "execution_count": 608,
      "outputs": []
    },
    {
      "cell_type": "code",
      "metadata": {
        "colab": {
          "base_uri": "https://localhost:8080/"
        },
        "id": "Yq6OKyV16BJp",
        "outputId": "ac32078a-58ca-4a13-d630-9e3dcb8b506c"
      },
      "source": [
        "lr = LogisticRegression()\n",
        "lr.fit(train_X, train_y)\n",
        "predictions_hotstar = lr.predict(val_X)\n",
        "accuracy_hotstar = accuracy_score(val_y, predictions_hotstar)\n",
        "print(accuracy_hotstar)\n",
        "from sklearn.metrics import classification_report\n",
        "print(classification_report(val_y,predictions_hotstar))"
      ],
      "execution_count": 611,
      "outputs": [
        {
          "output_type": "stream",
          "text": [
            "0.5066666666666667\n",
            "              precision    recall  f1-score   support\n",
            "\n",
            "           1       0.00      0.00      0.00        10\n",
            "           2       0.00      0.00      0.00         2\n",
            "           3       0.00      0.00      0.00        12\n",
            "           4       0.40      0.27      0.32        15\n",
            "           5       0.52      0.94      0.67        36\n",
            "\n",
            "    accuracy                           0.51        75\n",
            "   macro avg       0.18      0.24      0.20        75\n",
            "weighted avg       0.33      0.51      0.39        75\n",
            "\n"
          ],
          "name": "stdout"
        },
        {
          "output_type": "stream",
          "text": [
            "/usr/local/lib/python3.7/dist-packages/sklearn/metrics/_classification.py:1272: UndefinedMetricWarning: Precision and F-score are ill-defined and being set to 0.0 in labels with no predicted samples. Use `zero_division` parameter to control this behavior.\n",
            "  _warn_prf(average, modifier, msg_start, len(result))\n"
          ],
          "name": "stderr"
        }
      ]
    },
    {
      "cell_type": "code",
      "metadata": {
        "colab": {
          "base_uri": "https://localhost:8080/",
          "height": 507
        },
        "id": "AhEr1V3HmFzt",
        "outputId": "3407c5c4-904b-4713-e7a1-dee7aa7cd6b4"
      },
      "source": [
        "modelacc = pd.DataFrame({\"Netflix_LR\": [accuracy_netflix],\n",
        "                               \"Prime_LR\": [accuracy_prime],\n",
        "                               \"Hotstar_LR\": [accuracy_hotstar],\n",
        "                              })\n",
        "modelacc.plot.bar(align='edge', width=1,figsize=(10,8),ec=\"black\");\n",
        "plt.xlabel('Models', fontsize=20)\n",
        "plt.ylabel('Scores',fontsize=20)\n",
        "plt.legend(fontsize=15);"
      ],
      "execution_count": 624,
      "outputs": [
        {
          "output_type": "display_data",
          "data": {
            "image/png": "[encoded data removed]",
            "text/plain": [
              "<Figure size 720x576 with 1 Axes>"
            ]
          },
          "metadata": {
            "tags": []
          }
        }
      ]
    }
  ]
}