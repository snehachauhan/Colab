{
  "nbformat": 4,
  "nbformat_minor": 0,
  "metadata": {
    "colab": {
      "name": "Real_data",
      "provenance": [],
      "collapsed_sections": []
    },
    "kernelspec": {
      "display_name": "Python 3",
      "name": "python3"
    },
    "language_info": {
      "name": "python"
    }
  },
  "cells": [
    {
      "cell_type": "code",
      "metadata": {
        "colab": {
          "base_uri": "https://localhost:8080/"
        },
        "id": "UZDcBxSUAKDU",
        "outputId": "d0fbd18e-7881-4e16-a428-fbe8a2920888"
      },
      "source": [
        "from google.colab import drive\n",
        "drive.mount(\"/content/drive\")"
      ],
      "execution_count": null,
      "outputs": [
        {
          "output_type": "stream",
          "text": [
            "Mounted at /content/drive\n"
          ],
          "name": "stdout"
        }
      ]
    },
    {
      "cell_type": "markdown",
      "metadata": {
        "id": "fdP8ntTlQX_z"
      },
      "source": [
        ""
      ]
    },
    {
      "cell_type": "code",
      "metadata": {
        "colab": {
          "base_uri": "https://localhost:8080/"
        },
        "id": "BlGL47K7AVRx",
        "outputId": "6668efc1-f2d9-43ab-f4aa-671b2436803e"
      },
      "source": [
        "!pip install scikit-plot"
      ],
      "execution_count": null,
      "outputs": [
        {
          "output_type": "stream",
          "text": [
            "Collecting scikit-plot\n",
            "  Downloading https://files.pythonhosted.org/packages/7c/47/32520e259340c140a4ad27c1b97050dd3254fdc517b1d59974d47037510e/scikit_plot-0.3.7-py3-none-any.whl\n",
            "Requirement already satisfied: matplotlib>=1.4.0 in /usr/local/lib/python3.7/dist-packages (from scikit-plot) (3.2.2)\n",
            "Requirement already satisfied: scipy>=0.9 in /usr/local/lib/python3.7/dist-packages (from scikit-plot) (1.4.1)\n",
            "Requirement already satisfied: joblib>=0.10 in /usr/local/lib/python3.7/dist-packages (from scikit-plot) (1.0.1)\n",
            "Requirement already satisfied: scikit-learn>=0.18 in /usr/local/lib/python3.7/dist-packages (from scikit-plot) (0.22.2.post1)\n",
            "Requirement already satisfied: cycler>=0.10 in /usr/local/lib/python3.7/dist-packages (from matplotlib>=1.4.0->scikit-plot) (0.10.0)\n",
            "Requirement already satisfied: python-dateutil>=2.1 in /usr/local/lib/python3.7/dist-packages (from matplotlib>=1.4.0->scikit-plot) (2.8.1)\n",
            "Requirement already satisfied: kiwisolver>=1.0.1 in /usr/local/lib/python3.7/dist-packages (from matplotlib>=1.4.0->scikit-plot) (1.3.1)\n",
            "Requirement already satisfied: pyparsing!=2.0.4,!=2.1.2,!=2.1.6,>=2.0.1 in /usr/local/lib/python3.7/dist-packages (from matplotlib>=1.4.0->scikit-plot) (2.4.7)\n",
            "Requirement already satisfied: numpy>=1.11 in /usr/local/lib/python3.7/dist-packages (from matplotlib>=1.4.0->scikit-plot) (1.19.5)\n",
            "Requirement already satisfied: six in /usr/local/lib/python3.7/dist-packages (from cycler>=0.10->matplotlib>=1.4.0->scikit-plot) (1.15.0)\n",
            "Installing collected packages: scikit-plot\n",
            "Successfully installed scikit-plot-0.3.7\n"
          ],
          "name": "stdout"
        }
      ]
    },
    {
      "cell_type": "markdown",
      "metadata": {
        "id": "Dsk2HaEzQZqT"
      },
      "source": [
        "**Import the Packages**"
      ]
    },
    {
      "cell_type": "code",
      "metadata": {
        "id": "YIWFfrjzAVUj"
      },
      "source": [
        "import pandas as pd\n",
        "import numpy as np\n",
        "from sklearn import tree,svm\n",
        "from sklearn.model_selection import train_test_split, GridSearchCV\n",
        "from sklearn.tree import DecisionTreeClassifier\n",
        "from matplotlib import pyplot as plt\n",
        "import seaborn as sns\n",
        "import graphviz\n",
        "from sklearn.tree import export_graphviz\n",
        "from sklearn.metrics import classification_report, confusion_matrix, accuracy_score,roc_curve,auc,recall_score,precision_score\n",
        "from sklearn.ensemble import RandomForestClassifier\n",
        "import scikitplot as skplt\n",
        "%matplotlib inline"
      ],
      "execution_count": null,
      "outputs": []
    },
    {
      "cell_type": "markdown",
      "metadata": {
        "id": "J9vmdyEgQmd0"
      },
      "source": [
        "**Read the file**"
      ]
    },
    {
      "cell_type": "code",
      "metadata": {
        "id": "mt9_SecpAVXW"
      },
      "source": [
        "data=pd.read_csv(\"/content/drive/MyDrive/Dataset/Project_Data.csv\")"
      ],
      "execution_count": null,
      "outputs": []
    },
    {
      "cell_type": "code",
      "metadata": {
        "colab": {
          "base_uri": "https://localhost:8080/",
          "height": 1000
        },
        "id": "lp8snJS7AVaV",
        "outputId": "5a0bc22a-43cb-44ec-cce0-a00aa28452d9"
      },
      "source": [
        "data"
      ],
      "execution_count": null,
      "outputs": [
        {
          "output_type": "execute_result",
          "data": {
            "text/html": [
              "<div>\n",
              "<style scoped>\n",
              "    .dataframe tbody tr th:only-of-type {\n",
              "        vertical-align: middle;\n",
              "    }\n",
              "\n",
              "    .dataframe tbody tr th {\n",
              "        vertical-align: top;\n",
              "    }\n",
              "\n",
              "    .dataframe thead th {\n",
              "        text-align: right;\n",
              "    }\n",
              "</style>\n",
              "<table border=\"1\" class=\"dataframe\">\n",
              "  <thead>\n",
              "    <tr style=\"text-align: right;\">\n",
              "      <th></th>\n",
              "      <th>Timestamp</th>\n",
              "      <th>Do you use  Video Streaming Platforms?</th>\n",
              "      <th>What is your Age?</th>\n",
              "      <th>How frequently you watch or stream online platforms?</th>\n",
              "      <th>What do you watch most on Video Streaming Platforms?</th>\n",
              "      <th>On what basis you frequently choose to watch on the Streaming Platforms?</th>\n",
              "      <th>Which of the following Subscription Based Video Streaming Platform do you currently use?</th>\n",
              "      <th>On what basis do you subscribe any of the above Platforms?</th>\n",
              "      <th>How long you are using these Video Streaming Platforms?</th>\n",
              "      <th>On scale of 5,Can you rate the Netflix? [Original Web Series]</th>\n",
              "      <th>On scale of 5,Can you rate the Netflix? [Movies]</th>\n",
              "      <th>On scale of 5,Can you rate the Netflix? [Documentaries]</th>\n",
              "      <th>On scale of 5,Can you rate the Netflix? [Others]</th>\n",
              "      <th>On scale of 5,Can you rate the Prime? [Original Web Series]</th>\n",
              "      <th>On scale of 5,Can you rate the Prime? [Movies]</th>\n",
              "      <th>On scale of 5,Can you rate the Prime? [Documentaries]</th>\n",
              "      <th>On scale of 5,Can you rate the Prime? [Sports and News]</th>\n",
              "      <th>On scale of 5,Can you rate the Hotstar? [Original Web Series]</th>\n",
              "      <th>On scale of 5,Can you rate the Hotstar? [Movies]</th>\n",
              "      <th>On scale of 5,Can you rate the Hotstar? [Documentaries]</th>\n",
              "      <th>On scale of 5,Can you rate the Hotstar? [Sports and News]</th>\n",
              "      <th>Have you watch or familiar with these original Web Series of Netflix?</th>\n",
              "      <th>Have you watch or familiar with these original Web Series of Prime?</th>\n",
              "      <th>Have you watch or familiar with these original Web Series of Hotstar?</th>\n",
              "      <th>From where did you get the idea of these Web Series?</th>\n",
              "      <th>Choose the features which you think is essential on your streaming platforms.</th>\n",
              "      <th>How was your overall experience of video streaming platform according to Original Series?</th>\n",
              "      <th>suggestions for the improvement of video streaming platforms?</th>\n",
              "    </tr>\n",
              "  </thead>\n",
              "  <tbody>\n",
              "    <tr>\n",
              "      <th>0</th>\n",
              "      <td>5/8/2021 13:40:40</td>\n",
              "      <td>Yes</td>\n",
              "      <td>18-30</td>\n",
              "      <td>Daily</td>\n",
              "      <td>All of the above</td>\n",
              "      <td>All of the above</td>\n",
              "      <td>Prime</td>\n",
              "      <td>Original Web Series</td>\n",
              "      <td>More than 2 Year</td>\n",
              "      <td>4</td>\n",
              "      <td>4</td>\n",
              "      <td>4</td>\n",
              "      <td>3</td>\n",
              "      <td>5</td>\n",
              "      <td>5</td>\n",
              "      <td>5</td>\n",
              "      <td>5</td>\n",
              "      <td>3</td>\n",
              "      <td>2</td>\n",
              "      <td>2</td>\n",
              "      <td>2</td>\n",
              "      <td>Sacred Games, 13 Reason Why, Money Heist</td>\n",
              "      <td>All of the above</td>\n",
              "      <td>None</td>\n",
              "      <td>All of the above</td>\n",
              "      <td>Search Option</td>\n",
              "      <td>Good</td>\n",
              "      <td>Remove Ads/Limit Ads duration</td>\n",
              "    </tr>\n",
              "    <tr>\n",
              "      <th>1</th>\n",
              "      <td>5/8/2021 13:44:41</td>\n",
              "      <td>Yes</td>\n",
              "      <td>18-30</td>\n",
              "      <td>Once or twice in a week</td>\n",
              "      <td>Original Web Series</td>\n",
              "      <td>Story</td>\n",
              "      <td>Netflix</td>\n",
              "      <td>Original Web Series</td>\n",
              "      <td>Between 1 and 2 Year</td>\n",
              "      <td>5</td>\n",
              "      <td>5</td>\n",
              "      <td>5</td>\n",
              "      <td>5</td>\n",
              "      <td>4</td>\n",
              "      <td>4</td>\n",
              "      <td>3</td>\n",
              "      <td>1</td>\n",
              "      <td>3</td>\n",
              "      <td>2</td>\n",
              "      <td>1</td>\n",
              "      <td>1</td>\n",
              "      <td>All of the Above</td>\n",
              "      <td>Mirzapur</td>\n",
              "      <td>None</td>\n",
              "      <td>Social Media</td>\n",
              "      <td>Search Option</td>\n",
              "      <td>Good</td>\n",
              "      <td>Decrease Subscription Price</td>\n",
              "    </tr>\n",
              "    <tr>\n",
              "      <th>2</th>\n",
              "      <td>5/8/2021 13:44:51</td>\n",
              "      <td>Yes</td>\n",
              "      <td>18-30</td>\n",
              "      <td>Once or twice in a week</td>\n",
              "      <td>Movies</td>\n",
              "      <td>Story</td>\n",
              "      <td>Hotstar</td>\n",
              "      <td>All of the above</td>\n",
              "      <td>Between 1 and 2 Year</td>\n",
              "      <td>5</td>\n",
              "      <td>4</td>\n",
              "      <td>4</td>\n",
              "      <td>4</td>\n",
              "      <td>4</td>\n",
              "      <td>3</td>\n",
              "      <td>4</td>\n",
              "      <td>4</td>\n",
              "      <td>4</td>\n",
              "      <td>5</td>\n",
              "      <td>4</td>\n",
              "      <td>5</td>\n",
              "      <td>Sacred Games, Money Heist</td>\n",
              "      <td>Mirzapur, Tandav</td>\n",
              "      <td>Criminal Justice, Arya</td>\n",
              "      <td>All of the above</td>\n",
              "      <td>Recommendation</td>\n",
              "      <td>Excellent</td>\n",
              "      <td>Remove Ads/Limit Ads duration</td>\n",
              "    </tr>\n",
              "    <tr>\n",
              "      <th>3</th>\n",
              "      <td>5/8/2021 13:49:19</td>\n",
              "      <td>Yes</td>\n",
              "      <td>31-50</td>\n",
              "      <td>Monthly</td>\n",
              "      <td>Movies, Documentaries, Sports and News</td>\n",
              "      <td>All of the above</td>\n",
              "      <td>Hotstar</td>\n",
              "      <td>Sports and News</td>\n",
              "      <td>Between 1 and 2 Year</td>\n",
              "      <td>1</td>\n",
              "      <td>1</td>\n",
              "      <td>1</td>\n",
              "      <td>1</td>\n",
              "      <td>1</td>\n",
              "      <td>1</td>\n",
              "      <td>1</td>\n",
              "      <td>1</td>\n",
              "      <td>4</td>\n",
              "      <td>4</td>\n",
              "      <td>5</td>\n",
              "      <td>5</td>\n",
              "      <td>None</td>\n",
              "      <td>None</td>\n",
              "      <td>All of the above</td>\n",
              "      <td>Television</td>\n",
              "      <td>Ease of use</td>\n",
              "      <td>Good</td>\n",
              "      <td>Availability in Languages</td>\n",
              "    </tr>\n",
              "    <tr>\n",
              "      <th>4</th>\n",
              "      <td>5/8/2021 14:39:38</td>\n",
              "      <td>Yes</td>\n",
              "      <td>18-30</td>\n",
              "      <td>Once or twice in a week</td>\n",
              "      <td>Movies</td>\n",
              "      <td>All of the above</td>\n",
              "      <td>All of the above</td>\n",
              "      <td>All of the above</td>\n",
              "      <td>More than 2 Year</td>\n",
              "      <td>3</td>\n",
              "      <td>4</td>\n",
              "      <td>2</td>\n",
              "      <td>1</td>\n",
              "      <td>4</td>\n",
              "      <td>5</td>\n",
              "      <td>4</td>\n",
              "      <td>4</td>\n",
              "      <td>3</td>\n",
              "      <td>3</td>\n",
              "      <td>3</td>\n",
              "      <td>3</td>\n",
              "      <td>Sacred Games, 13 Reason Why</td>\n",
              "      <td>All of the above</td>\n",
              "      <td>Speacial OPS</td>\n",
              "      <td>All of the above</td>\n",
              "      <td>All of the above</td>\n",
              "      <td>Good</td>\n",
              "      <td>Remove Ads/Limit Ads duration</td>\n",
              "    </tr>\n",
              "    <tr>\n",
              "      <th>...</th>\n",
              "      <td>...</td>\n",
              "      <td>...</td>\n",
              "      <td>...</td>\n",
              "      <td>...</td>\n",
              "      <td>...</td>\n",
              "      <td>...</td>\n",
              "      <td>...</td>\n",
              "      <td>...</td>\n",
              "      <td>...</td>\n",
              "      <td>...</td>\n",
              "      <td>...</td>\n",
              "      <td>...</td>\n",
              "      <td>...</td>\n",
              "      <td>...</td>\n",
              "      <td>...</td>\n",
              "      <td>...</td>\n",
              "      <td>...</td>\n",
              "      <td>...</td>\n",
              "      <td>...</td>\n",
              "      <td>...</td>\n",
              "      <td>...</td>\n",
              "      <td>...</td>\n",
              "      <td>...</td>\n",
              "      <td>...</td>\n",
              "      <td>...</td>\n",
              "      <td>...</td>\n",
              "      <td>...</td>\n",
              "      <td>...</td>\n",
              "    </tr>\n",
              "    <tr>\n",
              "      <th>245</th>\n",
              "      <td>5/20/2021 23:23:40</td>\n",
              "      <td>Yes</td>\n",
              "      <td>Less than 18</td>\n",
              "      <td>Monthly</td>\n",
              "      <td>Original Web Series, Movies</td>\n",
              "      <td>Story, Director</td>\n",
              "      <td>Netflix</td>\n",
              "      <td>All of the above</td>\n",
              "      <td>More than 2 Year</td>\n",
              "      <td>4</td>\n",
              "      <td>5</td>\n",
              "      <td>4</td>\n",
              "      <td>4</td>\n",
              "      <td>5</td>\n",
              "      <td>4</td>\n",
              "      <td>4</td>\n",
              "      <td>5</td>\n",
              "      <td>5</td>\n",
              "      <td>4</td>\n",
              "      <td>4</td>\n",
              "      <td>5</td>\n",
              "      <td>All of the Above</td>\n",
              "      <td>All of the above</td>\n",
              "      <td>All of the above</td>\n",
              "      <td>All of the above</td>\n",
              "      <td>All of the above</td>\n",
              "      <td>Good</td>\n",
              "      <td>Availability in Languages</td>\n",
              "    </tr>\n",
              "    <tr>\n",
              "      <th>246</th>\n",
              "      <td>5/20/2021 23:24:20</td>\n",
              "      <td>Yes</td>\n",
              "      <td>31-50</td>\n",
              "      <td>Monthly</td>\n",
              "      <td>Movies</td>\n",
              "      <td>Director</td>\n",
              "      <td>Netflix</td>\n",
              "      <td>Movies</td>\n",
              "      <td>Between 1 and 2 Year</td>\n",
              "      <td>5</td>\n",
              "      <td>4</td>\n",
              "      <td>4</td>\n",
              "      <td>4</td>\n",
              "      <td>5</td>\n",
              "      <td>5</td>\n",
              "      <td>4</td>\n",
              "      <td>4</td>\n",
              "      <td>5</td>\n",
              "      <td>5</td>\n",
              "      <td>4</td>\n",
              "      <td>4</td>\n",
              "      <td>The Witcher, Money Heist</td>\n",
              "      <td>Mirzapur, Tandav</td>\n",
              "      <td>Hostages, Arya</td>\n",
              "      <td>Television</td>\n",
              "      <td>All of the above</td>\n",
              "      <td>Excellent</td>\n",
              "      <td>Improvement in Story ,Casting</td>\n",
              "    </tr>\n",
              "    <tr>\n",
              "      <th>247</th>\n",
              "      <td>5/20/2021 23:25:03</td>\n",
              "      <td>Yes</td>\n",
              "      <td>18-30</td>\n",
              "      <td>Once or twice in a week</td>\n",
              "      <td>Movies, Sports and News</td>\n",
              "      <td>Story, Director</td>\n",
              "      <td>Prime</td>\n",
              "      <td>Movies</td>\n",
              "      <td>Less than 1 Year</td>\n",
              "      <td>5</td>\n",
              "      <td>4</td>\n",
              "      <td>4</td>\n",
              "      <td>3</td>\n",
              "      <td>5</td>\n",
              "      <td>4</td>\n",
              "      <td>4</td>\n",
              "      <td>4</td>\n",
              "      <td>5</td>\n",
              "      <td>4</td>\n",
              "      <td>4</td>\n",
              "      <td>5</td>\n",
              "      <td>Sacred Games, Money Heist</td>\n",
              "      <td>Mirzapur, Breath into the shadow</td>\n",
              "      <td>Hostages, Arya</td>\n",
              "      <td>Television</td>\n",
              "      <td>Ease of use</td>\n",
              "      <td>Good</td>\n",
              "      <td>Remove Ads/Limit Ads duration</td>\n",
              "    </tr>\n",
              "    <tr>\n",
              "      <th>248</th>\n",
              "      <td>5/20/2021 23:25:47</td>\n",
              "      <td>Yes</td>\n",
              "      <td>18-30</td>\n",
              "      <td>Once or twice in a week</td>\n",
              "      <td>Movies, Sports and News</td>\n",
              "      <td>Director</td>\n",
              "      <td>Prime</td>\n",
              "      <td>Movies</td>\n",
              "      <td>Less than 1 Year</td>\n",
              "      <td>5</td>\n",
              "      <td>4</td>\n",
              "      <td>4</td>\n",
              "      <td>3</td>\n",
              "      <td>5</td>\n",
              "      <td>4</td>\n",
              "      <td>4</td>\n",
              "      <td>4</td>\n",
              "      <td>5</td>\n",
              "      <td>4</td>\n",
              "      <td>4</td>\n",
              "      <td>5</td>\n",
              "      <td>Sacred Games, The Witcher</td>\n",
              "      <td>Mirzapur, Made in heaven</td>\n",
              "      <td>Criminal Justice</td>\n",
              "      <td>Television</td>\n",
              "      <td>Recommendation</td>\n",
              "      <td>Excellent</td>\n",
              "      <td>Decrease Subscription Price</td>\n",
              "    </tr>\n",
              "    <tr>\n",
              "      <th>249</th>\n",
              "      <td>5/20/2021 23:26:24</td>\n",
              "      <td>Yes</td>\n",
              "      <td>31-50</td>\n",
              "      <td>Monthly</td>\n",
              "      <td>All of the above</td>\n",
              "      <td>All of the above</td>\n",
              "      <td>All of the above</td>\n",
              "      <td>All of the above</td>\n",
              "      <td>Between 1 and 2 Year</td>\n",
              "      <td>5</td>\n",
              "      <td>4</td>\n",
              "      <td>4</td>\n",
              "      <td>3</td>\n",
              "      <td>5</td>\n",
              "      <td>4</td>\n",
              "      <td>4</td>\n",
              "      <td>5</td>\n",
              "      <td>5</td>\n",
              "      <td>4</td>\n",
              "      <td>3</td>\n",
              "      <td>4</td>\n",
              "      <td>All of the Above</td>\n",
              "      <td>All of the above</td>\n",
              "      <td>All of the above</td>\n",
              "      <td>All of the above</td>\n",
              "      <td>Ease of use</td>\n",
              "      <td>Excellent</td>\n",
              "      <td>Availability in Languages</td>\n",
              "    </tr>\n",
              "  </tbody>\n",
              "</table>\n",
              "<p>250 rows × 28 columns</p>\n",
              "</div>"
            ],
            "text/plain": [
              "              Timestamp  ... suggestions for the improvement of video streaming platforms? \n",
              "0     5/8/2021 13:40:40  ...                      Remove Ads/Limit Ads duration            \n",
              "1     5/8/2021 13:44:41  ...                        Decrease Subscription Price            \n",
              "2     5/8/2021 13:44:51  ...                      Remove Ads/Limit Ads duration            \n",
              "3     5/8/2021 13:49:19  ...                          Availability in Languages            \n",
              "4     5/8/2021 14:39:38  ...                      Remove Ads/Limit Ads duration            \n",
              "..                  ...  ...                                                ...            \n",
              "245  5/20/2021 23:23:40  ...                          Availability in Languages            \n",
              "246  5/20/2021 23:24:20  ...                      Improvement in Story ,Casting            \n",
              "247  5/20/2021 23:25:03  ...                      Remove Ads/Limit Ads duration            \n",
              "248  5/20/2021 23:25:47  ...                        Decrease Subscription Price            \n",
              "249  5/20/2021 23:26:24  ...                          Availability in Languages            \n",
              "\n",
              "[250 rows x 28 columns]"
            ]
          },
          "metadata": {
            "tags": []
          },
          "execution_count": 5
        }
      ]
    },
    {
      "cell_type": "code",
      "metadata": {
        "colab": {
          "base_uri": "https://localhost:8080/"
        },
        "id": "MDQ10pf1AVdR",
        "outputId": "69936a96-5ae7-4a08-f42b-70f679b82412"
      },
      "source": [
        "data.columns"
      ],
      "execution_count": null,
      "outputs": [
        {
          "output_type": "execute_result",
          "data": {
            "text/plain": [
              "Index(['Timestamp', 'Do you use  Video Streaming Platforms?',\n",
              "       'What is your Age?',\n",
              "       'How frequently you watch or stream online platforms?',\n",
              "       'What do you watch most on Video Streaming Platforms?',\n",
              "       'On what basis you frequently choose to watch on the Streaming Platforms?',\n",
              "       'Which of the following Subscription Based Video Streaming Platform do you currently use?',\n",
              "       'On what basis do you subscribe any of the above Platforms?',\n",
              "       'How long you are using these Video Streaming Platforms?',\n",
              "       'On scale of 5,Can you rate the Netflix? [Original Web Series]',\n",
              "       'On scale of 5,Can you rate the Netflix? [Movies]',\n",
              "       'On scale of 5,Can you rate the Netflix? [Documentaries]',\n",
              "       'On scale of 5,Can you rate the Netflix? [Others]',\n",
              "       'On scale of 5,Can you rate the Prime? [Original Web Series]',\n",
              "       'On scale of 5,Can you rate the Prime? [Movies]',\n",
              "       'On scale of 5,Can you rate the Prime? [Documentaries]',\n",
              "       'On scale of 5,Can you rate the Prime? [Sports and News]',\n",
              "       'On scale of 5,Can you rate the Hotstar? [Original Web Series]',\n",
              "       'On scale of 5,Can you rate the Hotstar? [Movies]',\n",
              "       'On scale of 5,Can you rate the Hotstar? [Documentaries]',\n",
              "       'On scale of 5,Can you rate the Hotstar? [Sports and News]',\n",
              "       'Have you watch or familiar with these original Web Series of Netflix?',\n",
              "       'Have you watch or familiar with these original Web Series of Prime?',\n",
              "       'Have you watch or familiar with these original Web Series of Hotstar?',\n",
              "       'From where did you get the idea of these Web Series?',\n",
              "       'Choose the features which you think is essential on your streaming platforms.',\n",
              "       'How was your overall experience of video streaming platform according to Original Series?',\n",
              "       'suggestions for the improvement of video streaming platforms? '],\n",
              "      dtype='object')"
            ]
          },
          "metadata": {
            "tags": []
          },
          "execution_count": 6
        }
      ]
    },
    {
      "cell_type": "markdown",
      "metadata": {
        "id": "tVfZ8HnuCzVA"
      },
      "source": [
        "**Change the Column name of the dataset.**"
      ]
    },
    {
      "cell_type": "code",
      "metadata": {
        "id": "54f0yoKQAVgG"
      },
      "source": [
        "data.rename(columns ={\n",
        "        'Do you use  Video Streaming Platforms?':'Video Streaming Platform(Y/N)',\n",
        "        'What is your Age?':'Age',\n",
        "        'How frequently you watch or stream online platforms?':'Frequency',\n",
        "       'What do you watch most on Video Streaming Platforms?':'Most_watched',\n",
        "       'On what basis you frequently choose to watch on the Streaming Platforms?':'Selection',\n",
        "       'Which of the following Subscription Based Video Streaming Platform do you currently use?':'Platforms',\n",
        "       'On what basis do you subscribe any of the above Platforms?':'Subscription',\n",
        "       'How long you are using these Video Streaming Platforms?':'Duration',\n",
        "       'On scale of 5,Can you rate the Netflix? [Original Web Series]':'Netflix_Rating_Og',\n",
        "       'On scale of 5,Can you rate the Netflix? [Movies]':'Netflix_Rating_movie',\n",
        "       'On scale of 5,Can you rate the Netflix? [Documentaries]':'Netflix_Rating_documentry',\n",
        "       'On scale of 5,Can you rate the Netflix? [Others]':'Netflix_Rating_others',\n",
        "       'On scale of 5,Can you rate the Prime? [Original Web Series]':'Prime_Rating_Og',\n",
        "       'On scale of 5,Can you rate the Prime? [Movies]':'Prime_Rating_movie',\n",
        "       'On scale of 5,Can you rate the Prime? [Documentaries]':'Prime_Rating_documentry',\n",
        "       'On scale of 5,Can you rate the Prime? [Sports and News]':'Prime_Rating_others',\n",
        "       'On scale of 5,Can you rate the Hotstar? [Original Web Series]':'Hotstar_Rating_Og',\n",
        "       'On scale of 5,Can you rate the Hotstar? [Movies]':'Hotstar_Rating_movie',\n",
        "       'On scale of 5,Can you rate the Hotstar? [Documentaries]':'Hotstar_Rating_documentry',\n",
        "       'On scale of 5,Can you rate the Hotstar? [Sports and News]':'Hotstar_Rating_sports',\n",
        "       'Have you watch or familiar with these original Web Series of Netflix?':'Netflix_OgSeries',\n",
        "       'Have you watch or familiar with these original Web Series of Prime?':'Prime_OgSeries',\n",
        "       'Have you watch or familiar with these original Web Series of Hotstar?':'Hotstar_OgSeries',\n",
        "       'From where did you get the idea of these Web Series?':'Advertisment',\n",
        "       'Choose the features which you think is essential on your streaming platforms.':'Features',\n",
        "       'How was your overall experience of video streaming platform according to Original Series?':'Overall_Rating',\n",
        "       'suggestions for the improvement of video streaming platforms? ':'Suggestion'},inplace=True\n",
        "                )"
      ],
      "execution_count": null,
      "outputs": []
    },
    {
      "cell_type": "code",
      "metadata": {
        "colab": {
          "base_uri": "https://localhost:8080/"
        },
        "id": "OovDIBUoAVjA",
        "outputId": "14dbbeeb-8d8c-4983-c706-0e3bef370f66"
      },
      "source": [
        "data.columns"
      ],
      "execution_count": null,
      "outputs": [
        {
          "output_type": "execute_result",
          "data": {
            "text/plain": [
              "Index(['Timestamp', 'Video Streaming Platform(Y/N)', 'Age', 'Frequency',\n",
              "       'Most_watched', 'Selection', 'Platforms', 'Subscription', 'Duration',\n",
              "       'Netflix_Rating_Og', 'Netflix_Rating_movie',\n",
              "       'Netflix_Rating_documentry', 'Netflix_Rating_others', 'Prime_Rating_Og',\n",
              "       'Prime_Rating_movie', 'Prime_Rating_documentry', 'Prime_Rating_others',\n",
              "       'Hotstar_Rating_Og', 'Hotstar_Rating_movie',\n",
              "       'Hotstar_Rating_documentry', 'Hotstar_Rating_sports',\n",
              "       'Netflix_OgSeries', 'Prime_OgSeries', 'Hotstar_OgSeries',\n",
              "       'Advertisment', 'Features', 'Overall_Rating', 'Suggestion'],\n",
              "      dtype='object')"
            ]
          },
          "metadata": {
            "tags": []
          },
          "execution_count": 8
        }
      ]
    },
    {
      "cell_type": "markdown",
      "metadata": {
        "id": "Cne_7QouQ9FD"
      },
      "source": [
        "**display the number of rows and columns**"
      ]
    },
    {
      "cell_type": "code",
      "metadata": {
        "colab": {
          "base_uri": "https://localhost:8080/"
        },
        "id": "N1MMe0wzAVl2",
        "outputId": "c768a117-43c9-493a-ceea-fd7f75e8aa78"
      },
      "source": [
        "data.shape"
      ],
      "execution_count": null,
      "outputs": [
        {
          "output_type": "execute_result",
          "data": {
            "text/plain": [
              "(250, 28)"
            ]
          },
          "metadata": {
            "tags": []
          },
          "execution_count": 9
        }
      ]
    },
    {
      "cell_type": "markdown",
      "metadata": {
        "id": "SHhv135wRGqC"
      },
      "source": [
        "**display the data type of data**"
      ]
    },
    {
      "cell_type": "code",
      "metadata": {
        "colab": {
          "base_uri": "https://localhost:8080/"
        },
        "id": "ysxIyz8NAVon",
        "outputId": "2e8639c9-c4db-40f3-cda8-ad0f5ec24024"
      },
      "source": [
        "data.dtypes"
      ],
      "execution_count": null,
      "outputs": [
        {
          "output_type": "execute_result",
          "data": {
            "text/plain": [
              "Timestamp                        object\n",
              "Video Streaming Platform(Y/N)    object\n",
              "Age                              object\n",
              "Frequency                        object\n",
              "Most_watched                     object\n",
              "Selection                        object\n",
              "Platforms                        object\n",
              "Subscription                     object\n",
              "Duration                         object\n",
              "Netflix_Rating_Og                 int64\n",
              "Netflix_Rating_movie              int64\n",
              "Netflix_Rating_documentry         int64\n",
              "Netflix_Rating_others             int64\n",
              "Prime_Rating_Og                   int64\n",
              "Prime_Rating_movie                int64\n",
              "Prime_Rating_documentry           int64\n",
              "Prime_Rating_others               int64\n",
              "Hotstar_Rating_Og                 int64\n",
              "Hotstar_Rating_movie              int64\n",
              "Hotstar_Rating_documentry         int64\n",
              "Hotstar_Rating_sports             int64\n",
              "Netflix_OgSeries                 object\n",
              "Prime_OgSeries                   object\n",
              "Hotstar_OgSeries                 object\n",
              "Advertisment                     object\n",
              "Features                         object\n",
              "Overall_Rating                   object\n",
              "Suggestion                       object\n",
              "dtype: object"
            ]
          },
          "metadata": {
            "tags": []
          },
          "execution_count": 10
        }
      ]
    },
    {
      "cell_type": "code",
      "metadata": {
        "id": "nhN2d3fiYMt5"
      },
      "source": [
        ""
      ],
      "execution_count": null,
      "outputs": []
    },
    {
      "cell_type": "code",
      "metadata": {
        "colab": {
          "base_uri": "https://localhost:8080/"
        },
        "id": "KTz5gKupAVrY",
        "outputId": "c06814ae-2656-4f15-cb95-bce48468aeae"
      },
      "source": [
        "data.info()"
      ],
      "execution_count": null,
      "outputs": [
        {
          "output_type": "stream",
          "text": [
            "<class 'pandas.core.frame.DataFrame'>\n",
            "RangeIndex: 250 entries, 0 to 249\n",
            "Data columns (total 28 columns):\n",
            " #   Column                         Non-Null Count  Dtype \n",
            "---  ------                         --------------  ----- \n",
            " 0   Timestamp                      250 non-null    object\n",
            " 1   Video Streaming Platform(Y/N)  250 non-null    object\n",
            " 2   Age                            250 non-null    object\n",
            " 3   Frequency                      250 non-null    object\n",
            " 4   Most_watched                   250 non-null    object\n",
            " 5   Selection                      250 non-null    object\n",
            " 6   Platforms                      250 non-null    object\n",
            " 7   Subscription                   250 non-null    object\n",
            " 8   Duration                       250 non-null    object\n",
            " 9   Netflix_Rating_Og              250 non-null    int64 \n",
            " 10  Netflix_Rating_movie           250 non-null    int64 \n",
            " 11  Netflix_Rating_documentry      250 non-null    int64 \n",
            " 12  Netflix_Rating_others          250 non-null    int64 \n",
            " 13  Prime_Rating_Og                250 non-null    int64 \n",
            " 14  Prime_Rating_movie             250 non-null    int64 \n",
            " 15  Prime_Rating_documentry        250 non-null    int64 \n",
            " 16  Prime_Rating_others            250 non-null    int64 \n",
            " 17  Hotstar_Rating_Og              250 non-null    int64 \n",
            " 18  Hotstar_Rating_movie           250 non-null    int64 \n",
            " 19  Hotstar_Rating_documentry      250 non-null    int64 \n",
            " 20  Hotstar_Rating_sports          250 non-null    int64 \n",
            " 21  Netflix_OgSeries               250 non-null    object\n",
            " 22  Prime_OgSeries                 250 non-null    object\n",
            " 23  Hotstar_OgSeries               250 non-null    object\n",
            " 24  Advertisment                   250 non-null    object\n",
            " 25  Features                       250 non-null    object\n",
            " 26  Overall_Rating                 250 non-null    object\n",
            " 27  Suggestion                     250 non-null    object\n",
            "dtypes: int64(12), object(16)\n",
            "memory usage: 54.8+ KB\n"
          ],
          "name": "stdout"
        }
      ]
    },
    {
      "cell_type": "code",
      "metadata": {
        "colab": {
          "base_uri": "https://localhost:8080/",
          "height": 441
        },
        "id": "m-L6PVo5AVuM",
        "outputId": "e3c3caa5-1b9e-42d5-b94f-5733a5159fb0"
      },
      "source": [
        "data.corr()"
      ],
      "execution_count": null,
      "outputs": [
        {
          "output_type": "execute_result",
          "data": {
            "text/html": [
              "<div>\n",
              "<style scoped>\n",
              "    .dataframe tbody tr th:only-of-type {\n",
              "        vertical-align: middle;\n",
              "    }\n",
              "\n",
              "    .dataframe tbody tr th {\n",
              "        vertical-align: top;\n",
              "    }\n",
              "\n",
              "    .dataframe thead th {\n",
              "        text-align: right;\n",
              "    }\n",
              "</style>\n",
              "<table border=\"1\" class=\"dataframe\">\n",
              "  <thead>\n",
              "    <tr style=\"text-align: right;\">\n",
              "      <th></th>\n",
              "      <th>Netflix_Rating_Og</th>\n",
              "      <th>Netflix_Rating_movie</th>\n",
              "      <th>Netflix_Rating_documentry</th>\n",
              "      <th>Netflix_Rating_others</th>\n",
              "      <th>Prime_Rating_Og</th>\n",
              "      <th>Prime_Rating_movie</th>\n",
              "      <th>Prime_Rating_documentry</th>\n",
              "      <th>Prime_Rating_others</th>\n",
              "      <th>Hotstar_Rating_Og</th>\n",
              "      <th>Hotstar_Rating_movie</th>\n",
              "      <th>Hotstar_Rating_documentry</th>\n",
              "      <th>Hotstar_Rating_sports</th>\n",
              "    </tr>\n",
              "  </thead>\n",
              "  <tbody>\n",
              "    <tr>\n",
              "      <th>Netflix_Rating_Og</th>\n",
              "      <td>1.000000</td>\n",
              "      <td>0.700059</td>\n",
              "      <td>0.594544</td>\n",
              "      <td>0.490165</td>\n",
              "      <td>0.641548</td>\n",
              "      <td>0.594505</td>\n",
              "      <td>0.435841</td>\n",
              "      <td>0.409887</td>\n",
              "      <td>0.595869</td>\n",
              "      <td>0.460879</td>\n",
              "      <td>0.267590</td>\n",
              "      <td>0.310622</td>\n",
              "    </tr>\n",
              "    <tr>\n",
              "      <th>Netflix_Rating_movie</th>\n",
              "      <td>0.700059</td>\n",
              "      <td>1.000000</td>\n",
              "      <td>0.498765</td>\n",
              "      <td>0.503326</td>\n",
              "      <td>0.528972</td>\n",
              "      <td>0.526944</td>\n",
              "      <td>0.312396</td>\n",
              "      <td>0.432535</td>\n",
              "      <td>0.503144</td>\n",
              "      <td>0.450504</td>\n",
              "      <td>0.244023</td>\n",
              "      <td>0.289490</td>\n",
              "    </tr>\n",
              "    <tr>\n",
              "      <th>Netflix_Rating_documentry</th>\n",
              "      <td>0.594544</td>\n",
              "      <td>0.498765</td>\n",
              "      <td>1.000000</td>\n",
              "      <td>0.651086</td>\n",
              "      <td>0.491358</td>\n",
              "      <td>0.508193</td>\n",
              "      <td>0.563045</td>\n",
              "      <td>0.422858</td>\n",
              "      <td>0.563753</td>\n",
              "      <td>0.542319</td>\n",
              "      <td>0.346399</td>\n",
              "      <td>0.381470</td>\n",
              "    </tr>\n",
              "    <tr>\n",
              "      <th>Netflix_Rating_others</th>\n",
              "      <td>0.490165</td>\n",
              "      <td>0.503326</td>\n",
              "      <td>0.651086</td>\n",
              "      <td>1.000000</td>\n",
              "      <td>0.411768</td>\n",
              "      <td>0.324026</td>\n",
              "      <td>0.362678</td>\n",
              "      <td>0.581964</td>\n",
              "      <td>0.534613</td>\n",
              "      <td>0.455612</td>\n",
              "      <td>0.354062</td>\n",
              "      <td>0.218042</td>\n",
              "    </tr>\n",
              "    <tr>\n",
              "      <th>Prime_Rating_Og</th>\n",
              "      <td>0.641548</td>\n",
              "      <td>0.528972</td>\n",
              "      <td>0.491358</td>\n",
              "      <td>0.411768</td>\n",
              "      <td>1.000000</td>\n",
              "      <td>0.725312</td>\n",
              "      <td>0.617707</td>\n",
              "      <td>0.522822</td>\n",
              "      <td>0.596357</td>\n",
              "      <td>0.478894</td>\n",
              "      <td>0.256065</td>\n",
              "      <td>0.316907</td>\n",
              "    </tr>\n",
              "    <tr>\n",
              "      <th>Prime_Rating_movie</th>\n",
              "      <td>0.594505</td>\n",
              "      <td>0.526944</td>\n",
              "      <td>0.508193</td>\n",
              "      <td>0.324026</td>\n",
              "      <td>0.725312</td>\n",
              "      <td>1.000000</td>\n",
              "      <td>0.591898</td>\n",
              "      <td>0.420470</td>\n",
              "      <td>0.482243</td>\n",
              "      <td>0.545204</td>\n",
              "      <td>0.283144</td>\n",
              "      <td>0.405522</td>\n",
              "    </tr>\n",
              "    <tr>\n",
              "      <th>Prime_Rating_documentry</th>\n",
              "      <td>0.435841</td>\n",
              "      <td>0.312396</td>\n",
              "      <td>0.563045</td>\n",
              "      <td>0.362678</td>\n",
              "      <td>0.617707</td>\n",
              "      <td>0.591898</td>\n",
              "      <td>1.000000</td>\n",
              "      <td>0.581178</td>\n",
              "      <td>0.529110</td>\n",
              "      <td>0.503590</td>\n",
              "      <td>0.391998</td>\n",
              "      <td>0.406669</td>\n",
              "    </tr>\n",
              "    <tr>\n",
              "      <th>Prime_Rating_others</th>\n",
              "      <td>0.409887</td>\n",
              "      <td>0.432535</td>\n",
              "      <td>0.422858</td>\n",
              "      <td>0.581964</td>\n",
              "      <td>0.522822</td>\n",
              "      <td>0.420470</td>\n",
              "      <td>0.581178</td>\n",
              "      <td>1.000000</td>\n",
              "      <td>0.614797</td>\n",
              "      <td>0.500543</td>\n",
              "      <td>0.383990</td>\n",
              "      <td>0.230451</td>\n",
              "    </tr>\n",
              "    <tr>\n",
              "      <th>Hotstar_Rating_Og</th>\n",
              "      <td>0.595869</td>\n",
              "      <td>0.503144</td>\n",
              "      <td>0.563753</td>\n",
              "      <td>0.534613</td>\n",
              "      <td>0.596357</td>\n",
              "      <td>0.482243</td>\n",
              "      <td>0.529110</td>\n",
              "      <td>0.614797</td>\n",
              "      <td>1.000000</td>\n",
              "      <td>0.751668</td>\n",
              "      <td>0.568944</td>\n",
              "      <td>0.412144</td>\n",
              "    </tr>\n",
              "    <tr>\n",
              "      <th>Hotstar_Rating_movie</th>\n",
              "      <td>0.460879</td>\n",
              "      <td>0.450504</td>\n",
              "      <td>0.542319</td>\n",
              "      <td>0.455612</td>\n",
              "      <td>0.478894</td>\n",
              "      <td>0.545204</td>\n",
              "      <td>0.503590</td>\n",
              "      <td>0.500543</td>\n",
              "      <td>0.751668</td>\n",
              "      <td>1.000000</td>\n",
              "      <td>0.575959</td>\n",
              "      <td>0.543472</td>\n",
              "    </tr>\n",
              "    <tr>\n",
              "      <th>Hotstar_Rating_documentry</th>\n",
              "      <td>0.267590</td>\n",
              "      <td>0.244023</td>\n",
              "      <td>0.346399</td>\n",
              "      <td>0.354062</td>\n",
              "      <td>0.256065</td>\n",
              "      <td>0.283144</td>\n",
              "      <td>0.391998</td>\n",
              "      <td>0.383990</td>\n",
              "      <td>0.568944</td>\n",
              "      <td>0.575959</td>\n",
              "      <td>1.000000</td>\n",
              "      <td>0.528857</td>\n",
              "    </tr>\n",
              "    <tr>\n",
              "      <th>Hotstar_Rating_sports</th>\n",
              "      <td>0.310622</td>\n",
              "      <td>0.289490</td>\n",
              "      <td>0.381470</td>\n",
              "      <td>0.218042</td>\n",
              "      <td>0.316907</td>\n",
              "      <td>0.405522</td>\n",
              "      <td>0.406669</td>\n",
              "      <td>0.230451</td>\n",
              "      <td>0.412144</td>\n",
              "      <td>0.543472</td>\n",
              "      <td>0.528857</td>\n",
              "      <td>1.000000</td>\n",
              "    </tr>\n",
              "  </tbody>\n",
              "</table>\n",
              "</div>"
            ],
            "text/plain": [
              "                           Netflix_Rating_Og  ...  Hotstar_Rating_sports\n",
              "Netflix_Rating_Og                   1.000000  ...               0.310622\n",
              "Netflix_Rating_movie                0.700059  ...               0.289490\n",
              "Netflix_Rating_documentry           0.594544  ...               0.381470\n",
              "Netflix_Rating_others               0.490165  ...               0.218042\n",
              "Prime_Rating_Og                     0.641548  ...               0.316907\n",
              "Prime_Rating_movie                  0.594505  ...               0.405522\n",
              "Prime_Rating_documentry             0.435841  ...               0.406669\n",
              "Prime_Rating_others                 0.409887  ...               0.230451\n",
              "Hotstar_Rating_Og                   0.595869  ...               0.412144\n",
              "Hotstar_Rating_movie                0.460879  ...               0.543472\n",
              "Hotstar_Rating_documentry           0.267590  ...               0.528857\n",
              "Hotstar_Rating_sports               0.310622  ...               1.000000\n",
              "\n",
              "[12 rows x 12 columns]"
            ]
          },
          "metadata": {
            "tags": []
          },
          "execution_count": 12
        }
      ]
    },
    {
      "cell_type": "markdown",
      "metadata": {
        "id": "XvZq-jbVRV_t"
      },
      "source": [
        "**display the last 20 rows of the data**"
      ]
    },
    {
      "cell_type": "code",
      "metadata": {
        "colab": {
          "base_uri": "https://localhost:8080/",
          "height": 1000
        },
        "id": "H30EUayCAVxI",
        "outputId": "f14e7a8c-bfb0-4a7d-bc44-8843185067aa"
      },
      "source": [
        "data.tail(20)"
      ],
      "execution_count": null,
      "outputs": [
        {
          "output_type": "execute_result",
          "data": {
            "text/html": [
              "<div>\n",
              "<style scoped>\n",
              "    .dataframe tbody tr th:only-of-type {\n",
              "        vertical-align: middle;\n",
              "    }\n",
              "\n",
              "    .dataframe tbody tr th {\n",
              "        vertical-align: top;\n",
              "    }\n",
              "\n",
              "    .dataframe thead th {\n",
              "        text-align: right;\n",
              "    }\n",
              "</style>\n",
              "<table border=\"1\" class=\"dataframe\">\n",
              "  <thead>\n",
              "    <tr style=\"text-align: right;\">\n",
              "      <th></th>\n",
              "      <th>Timestamp</th>\n",
              "      <th>Video Streaming Platform(Y/N)</th>\n",
              "      <th>Age</th>\n",
              "      <th>Frequency</th>\n",
              "      <th>Most_watched</th>\n",
              "      <th>Selection</th>\n",
              "      <th>Platforms</th>\n",
              "      <th>Subscription</th>\n",
              "      <th>Duration</th>\n",
              "      <th>Netflix_Rating_Og</th>\n",
              "      <th>Netflix_Rating_movie</th>\n",
              "      <th>Netflix_Rating_documentry</th>\n",
              "      <th>Netflix_Rating_others</th>\n",
              "      <th>Prime_Rating_Og</th>\n",
              "      <th>Prime_Rating_movie</th>\n",
              "      <th>Prime_Rating_documentry</th>\n",
              "      <th>Prime_Rating_others</th>\n",
              "      <th>Hotstar_Rating_Og</th>\n",
              "      <th>Hotstar_Rating_movie</th>\n",
              "      <th>Hotstar_Rating_documentry</th>\n",
              "      <th>Hotstar_Rating_sports</th>\n",
              "      <th>Netflix_OgSeries</th>\n",
              "      <th>Prime_OgSeries</th>\n",
              "      <th>Hotstar_OgSeries</th>\n",
              "      <th>Advertisment</th>\n",
              "      <th>Features</th>\n",
              "      <th>Overall_Rating</th>\n",
              "      <th>Suggestion</th>\n",
              "    </tr>\n",
              "  </thead>\n",
              "  <tbody>\n",
              "    <tr>\n",
              "      <th>230</th>\n",
              "      <td>5/19/2021 21:53:56</td>\n",
              "      <td>Yes</td>\n",
              "      <td>18-30</td>\n",
              "      <td>Monthly</td>\n",
              "      <td>All of the above</td>\n",
              "      <td>All of the above</td>\n",
              "      <td>All of the above</td>\n",
              "      <td>All of the above</td>\n",
              "      <td>More than 2 Year</td>\n",
              "      <td>5</td>\n",
              "      <td>4</td>\n",
              "      <td>4</td>\n",
              "      <td>3</td>\n",
              "      <td>5</td>\n",
              "      <td>4</td>\n",
              "      <td>3</td>\n",
              "      <td>4</td>\n",
              "      <td>5</td>\n",
              "      <td>4</td>\n",
              "      <td>3</td>\n",
              "      <td>5</td>\n",
              "      <td>All of the Above</td>\n",
              "      <td>All of the above</td>\n",
              "      <td>All of the above</td>\n",
              "      <td>Family/Friends Recommendation</td>\n",
              "      <td>Recommendation</td>\n",
              "      <td>Good</td>\n",
              "      <td>Availability in Languages</td>\n",
              "    </tr>\n",
              "    <tr>\n",
              "      <th>231</th>\n",
              "      <td>5/19/2021 21:54:36</td>\n",
              "      <td>Yes</td>\n",
              "      <td>18-30</td>\n",
              "      <td>Monthly</td>\n",
              "      <td>All of the above</td>\n",
              "      <td>All of the above</td>\n",
              "      <td>All of the above</td>\n",
              "      <td>All of the above</td>\n",
              "      <td>More than 2 Year</td>\n",
              "      <td>5</td>\n",
              "      <td>5</td>\n",
              "      <td>4</td>\n",
              "      <td>3</td>\n",
              "      <td>5</td>\n",
              "      <td>4</td>\n",
              "      <td>4</td>\n",
              "      <td>5</td>\n",
              "      <td>5</td>\n",
              "      <td>4</td>\n",
              "      <td>4</td>\n",
              "      <td>3</td>\n",
              "      <td>All of the Above</td>\n",
              "      <td>All of the above</td>\n",
              "      <td>All of the above</td>\n",
              "      <td>All of the above</td>\n",
              "      <td>All of the above</td>\n",
              "      <td>Excellent</td>\n",
              "      <td>Decrease Subscription Price</td>\n",
              "    </tr>\n",
              "    <tr>\n",
              "      <th>232</th>\n",
              "      <td>5/19/2021 21:54:47</td>\n",
              "      <td>Yes</td>\n",
              "      <td>18-30</td>\n",
              "      <td>Daily</td>\n",
              "      <td>Original Web Series, Movies</td>\n",
              "      <td>All of the above</td>\n",
              "      <td>Netflix</td>\n",
              "      <td>Original Web Series</td>\n",
              "      <td>More than 2 Year</td>\n",
              "      <td>5</td>\n",
              "      <td>5</td>\n",
              "      <td>5</td>\n",
              "      <td>3</td>\n",
              "      <td>4</td>\n",
              "      <td>5</td>\n",
              "      <td>4</td>\n",
              "      <td>3</td>\n",
              "      <td>4</td>\n",
              "      <td>5</td>\n",
              "      <td>3</td>\n",
              "      <td>4</td>\n",
              "      <td>All of the Above</td>\n",
              "      <td>None</td>\n",
              "      <td>None</td>\n",
              "      <td>Social Media</td>\n",
              "      <td>Search Option</td>\n",
              "      <td>Good</td>\n",
              "      <td>Decrease Subscription Price</td>\n",
              "    </tr>\n",
              "    <tr>\n",
              "      <th>233</th>\n",
              "      <td>5/19/2021 21:57:57</td>\n",
              "      <td>Yes</td>\n",
              "      <td>18-30</td>\n",
              "      <td>Once or twice in a week</td>\n",
              "      <td>Movies</td>\n",
              "      <td>Story</td>\n",
              "      <td>Prime</td>\n",
              "      <td>Original Web Series</td>\n",
              "      <td>More than 2 Year</td>\n",
              "      <td>5</td>\n",
              "      <td>4</td>\n",
              "      <td>5</td>\n",
              "      <td>4</td>\n",
              "      <td>5</td>\n",
              "      <td>5</td>\n",
              "      <td>4</td>\n",
              "      <td>3</td>\n",
              "      <td>3</td>\n",
              "      <td>4</td>\n",
              "      <td>4</td>\n",
              "      <td>5</td>\n",
              "      <td>None</td>\n",
              "      <td>Breath into the shadow</td>\n",
              "      <td>None</td>\n",
              "      <td>Social Media</td>\n",
              "      <td>Recommendation</td>\n",
              "      <td>Excellent</td>\n",
              "      <td>Improvement in Story ,Casting</td>\n",
              "    </tr>\n",
              "    <tr>\n",
              "      <th>234</th>\n",
              "      <td>5/19/2021 23:15:29</td>\n",
              "      <td>Yes</td>\n",
              "      <td>Less than 18</td>\n",
              "      <td>Daily</td>\n",
              "      <td>Movies</td>\n",
              "      <td>Story</td>\n",
              "      <td>Hotstar</td>\n",
              "      <td>Movies</td>\n",
              "      <td>Between 1 and 2 Year</td>\n",
              "      <td>3</td>\n",
              "      <td>1</td>\n",
              "      <td>3</td>\n",
              "      <td>3</td>\n",
              "      <td>3</td>\n",
              "      <td>1</td>\n",
              "      <td>3</td>\n",
              "      <td>1</td>\n",
              "      <td>2</td>\n",
              "      <td>1</td>\n",
              "      <td>3</td>\n",
              "      <td>1</td>\n",
              "      <td>None</td>\n",
              "      <td>Tandav</td>\n",
              "      <td>All of the above</td>\n",
              "      <td>Family/Friends Recommendation</td>\n",
              "      <td>Recommendation</td>\n",
              "      <td>Good</td>\n",
              "      <td>Remove Ads/Limit Ads duration</td>\n",
              "    </tr>\n",
              "    <tr>\n",
              "      <th>235</th>\n",
              "      <td>5/19/2021 23:18:26</td>\n",
              "      <td>Yes</td>\n",
              "      <td>31-50</td>\n",
              "      <td>Once or twice in a week</td>\n",
              "      <td>All of the above</td>\n",
              "      <td>Story</td>\n",
              "      <td>Prime</td>\n",
              "      <td>Original Web Series</td>\n",
              "      <td>Between 1 and 2 Year</td>\n",
              "      <td>1</td>\n",
              "      <td>2</td>\n",
              "      <td>2</td>\n",
              "      <td>3</td>\n",
              "      <td>1</td>\n",
              "      <td>1</td>\n",
              "      <td>3</td>\n",
              "      <td>3</td>\n",
              "      <td>1</td>\n",
              "      <td>1</td>\n",
              "      <td>3</td>\n",
              "      <td>1</td>\n",
              "      <td>None</td>\n",
              "      <td>All of the above</td>\n",
              "      <td>All of the above</td>\n",
              "      <td>Family/Friends Recommendation</td>\n",
              "      <td>Recommendation</td>\n",
              "      <td>Fair</td>\n",
              "      <td>Improvement in Story ,Casting</td>\n",
              "    </tr>\n",
              "    <tr>\n",
              "      <th>236</th>\n",
              "      <td>5/19/2021 23:31:14</td>\n",
              "      <td>Yes</td>\n",
              "      <td>31-50</td>\n",
              "      <td>Once or twice in a week</td>\n",
              "      <td>Movies, Sports and News</td>\n",
              "      <td>Story</td>\n",
              "      <td>All of the above</td>\n",
              "      <td>All of the above</td>\n",
              "      <td>Between 1 and 2 Year</td>\n",
              "      <td>1</td>\n",
              "      <td>1</td>\n",
              "      <td>2</td>\n",
              "      <td>2</td>\n",
              "      <td>2</td>\n",
              "      <td>1</td>\n",
              "      <td>2</td>\n",
              "      <td>1</td>\n",
              "      <td>1</td>\n",
              "      <td>1</td>\n",
              "      <td>3</td>\n",
              "      <td>1</td>\n",
              "      <td>13 Reason Why</td>\n",
              "      <td>Mirzapur, Tandav</td>\n",
              "      <td>Speacial OPS, Arya</td>\n",
              "      <td>Television</td>\n",
              "      <td>Search Option</td>\n",
              "      <td>Fair</td>\n",
              "      <td>Improvement in Story ,Casting</td>\n",
              "    </tr>\n",
              "    <tr>\n",
              "      <th>237</th>\n",
              "      <td>5/20/2021 10:48:23</td>\n",
              "      <td>Yes</td>\n",
              "      <td>18-30</td>\n",
              "      <td>Daily</td>\n",
              "      <td>Original Web Series</td>\n",
              "      <td>All of the above</td>\n",
              "      <td>Netflix</td>\n",
              "      <td>Original Web Series</td>\n",
              "      <td>More than 2 Year</td>\n",
              "      <td>5</td>\n",
              "      <td>5</td>\n",
              "      <td>4</td>\n",
              "      <td>3</td>\n",
              "      <td>3</td>\n",
              "      <td>4</td>\n",
              "      <td>1</td>\n",
              "      <td>1</td>\n",
              "      <td>1</td>\n",
              "      <td>2</td>\n",
              "      <td>3</td>\n",
              "      <td>3</td>\n",
              "      <td>All of the Above</td>\n",
              "      <td>Mirzapur</td>\n",
              "      <td>None</td>\n",
              "      <td>All of the above</td>\n",
              "      <td>Search Option</td>\n",
              "      <td>Excellent</td>\n",
              "      <td>Decrease Subscription Price</td>\n",
              "    </tr>\n",
              "    <tr>\n",
              "      <th>238</th>\n",
              "      <td>5/20/2021 10:49:17</td>\n",
              "      <td>Yes</td>\n",
              "      <td>31-50</td>\n",
              "      <td>Once or twice in a week</td>\n",
              "      <td>Movies, Documentaries, Sports and News</td>\n",
              "      <td>All of the above</td>\n",
              "      <td>Hotstar</td>\n",
              "      <td>Sports and News</td>\n",
              "      <td>Less than 1 Year</td>\n",
              "      <td>1</td>\n",
              "      <td>1</td>\n",
              "      <td>1</td>\n",
              "      <td>1</td>\n",
              "      <td>1</td>\n",
              "      <td>1</td>\n",
              "      <td>2</td>\n",
              "      <td>2</td>\n",
              "      <td>1</td>\n",
              "      <td>1</td>\n",
              "      <td>4</td>\n",
              "      <td>5</td>\n",
              "      <td>None</td>\n",
              "      <td>None</td>\n",
              "      <td>None</td>\n",
              "      <td>Television</td>\n",
              "      <td>Ease of use</td>\n",
              "      <td>Excellent</td>\n",
              "      <td>Availability in Languages</td>\n",
              "    </tr>\n",
              "    <tr>\n",
              "      <th>239</th>\n",
              "      <td>5/20/2021 11:04:45</td>\n",
              "      <td>Yes</td>\n",
              "      <td>18-30</td>\n",
              "      <td>Daily</td>\n",
              "      <td>Original Web Series, Movies</td>\n",
              "      <td>All of the above</td>\n",
              "      <td>Netflix</td>\n",
              "      <td>Original Web Series</td>\n",
              "      <td>Less than 1 Year</td>\n",
              "      <td>5</td>\n",
              "      <td>4</td>\n",
              "      <td>5</td>\n",
              "      <td>3</td>\n",
              "      <td>4</td>\n",
              "      <td>5</td>\n",
              "      <td>5</td>\n",
              "      <td>4</td>\n",
              "      <td>3</td>\n",
              "      <td>4</td>\n",
              "      <td>3</td>\n",
              "      <td>5</td>\n",
              "      <td>All of the Above</td>\n",
              "      <td>None</td>\n",
              "      <td>None</td>\n",
              "      <td>Social Media</td>\n",
              "      <td>Recommendation</td>\n",
              "      <td>Excellent</td>\n",
              "      <td>Decrease Subscription Price</td>\n",
              "    </tr>\n",
              "    <tr>\n",
              "      <th>240</th>\n",
              "      <td>5/20/2021 11:07:15</td>\n",
              "      <td>Yes</td>\n",
              "      <td>31-50</td>\n",
              "      <td>Daily</td>\n",
              "      <td>All of the above</td>\n",
              "      <td>Story, Director</td>\n",
              "      <td>All of the above</td>\n",
              "      <td>Original Web Series</td>\n",
              "      <td>Between 1 and 2 Year</td>\n",
              "      <td>4</td>\n",
              "      <td>5</td>\n",
              "      <td>5</td>\n",
              "      <td>3</td>\n",
              "      <td>4</td>\n",
              "      <td>5</td>\n",
              "      <td>3</td>\n",
              "      <td>3</td>\n",
              "      <td>3</td>\n",
              "      <td>5</td>\n",
              "      <td>4</td>\n",
              "      <td>5</td>\n",
              "      <td>Sacred Games, Money Heist</td>\n",
              "      <td>Mirzapur, Tandav</td>\n",
              "      <td>Hostages, Criminal Justice</td>\n",
              "      <td>All of the above</td>\n",
              "      <td>Recommendation</td>\n",
              "      <td>Excellent</td>\n",
              "      <td>Availability in Languages</td>\n",
              "    </tr>\n",
              "    <tr>\n",
              "      <th>241</th>\n",
              "      <td>5/20/2021 11:13:54</td>\n",
              "      <td>Yes</td>\n",
              "      <td>18-30</td>\n",
              "      <td>Daily</td>\n",
              "      <td>Movies</td>\n",
              "      <td>Cast, Story</td>\n",
              "      <td>Prime</td>\n",
              "      <td>Original Web Series</td>\n",
              "      <td>Less than 1 Year</td>\n",
              "      <td>5</td>\n",
              "      <td>5</td>\n",
              "      <td>5</td>\n",
              "      <td>4</td>\n",
              "      <td>5</td>\n",
              "      <td>4</td>\n",
              "      <td>4</td>\n",
              "      <td>3</td>\n",
              "      <td>5</td>\n",
              "      <td>4</td>\n",
              "      <td>5</td>\n",
              "      <td>5</td>\n",
              "      <td>None</td>\n",
              "      <td>All of the above</td>\n",
              "      <td>None</td>\n",
              "      <td>Social Media</td>\n",
              "      <td>All of the above</td>\n",
              "      <td>Excellent</td>\n",
              "      <td>Availability in Languages</td>\n",
              "    </tr>\n",
              "    <tr>\n",
              "      <th>242</th>\n",
              "      <td>5/20/2021 11:50:41</td>\n",
              "      <td>Yes</td>\n",
              "      <td>More than 50</td>\n",
              "      <td>Once or twice in a week</td>\n",
              "      <td>Movies</td>\n",
              "      <td>Story</td>\n",
              "      <td>Prime</td>\n",
              "      <td>Movies</td>\n",
              "      <td>Less than 1 Year</td>\n",
              "      <td>3</td>\n",
              "      <td>1</td>\n",
              "      <td>3</td>\n",
              "      <td>3</td>\n",
              "      <td>3</td>\n",
              "      <td>1</td>\n",
              "      <td>3</td>\n",
              "      <td>3</td>\n",
              "      <td>3</td>\n",
              "      <td>1</td>\n",
              "      <td>3</td>\n",
              "      <td>1</td>\n",
              "      <td>None</td>\n",
              "      <td>None</td>\n",
              "      <td>All of the above</td>\n",
              "      <td>Television</td>\n",
              "      <td>Ease of use</td>\n",
              "      <td>Fair</td>\n",
              "      <td>Improvement in Story ,Casting</td>\n",
              "    </tr>\n",
              "    <tr>\n",
              "      <th>243</th>\n",
              "      <td>5/20/2021 11:52:06</td>\n",
              "      <td>Yes</td>\n",
              "      <td>18-30</td>\n",
              "      <td>Daily</td>\n",
              "      <td>Original Web Series</td>\n",
              "      <td>Story</td>\n",
              "      <td>Netflix</td>\n",
              "      <td>Original Web Series</td>\n",
              "      <td>Between 1 and 2 Year</td>\n",
              "      <td>1</td>\n",
              "      <td>2</td>\n",
              "      <td>2</td>\n",
              "      <td>2</td>\n",
              "      <td>1</td>\n",
              "      <td>2</td>\n",
              "      <td>2</td>\n",
              "      <td>2</td>\n",
              "      <td>1</td>\n",
              "      <td>2</td>\n",
              "      <td>2</td>\n",
              "      <td>2</td>\n",
              "      <td>All of the Above</td>\n",
              "      <td>Tandav</td>\n",
              "      <td>Arya</td>\n",
              "      <td>Family/Friends Recommendation</td>\n",
              "      <td>All of the above</td>\n",
              "      <td>Fair</td>\n",
              "      <td>Remove Ads/Limit Ads duration</td>\n",
              "    </tr>\n",
              "    <tr>\n",
              "      <th>244</th>\n",
              "      <td>5/20/2021 11:53:49</td>\n",
              "      <td>Yes</td>\n",
              "      <td>31-50</td>\n",
              "      <td>Monthly</td>\n",
              "      <td>Movies, Sports and News</td>\n",
              "      <td>Story</td>\n",
              "      <td>Hotstar</td>\n",
              "      <td>Movies</td>\n",
              "      <td>Less than 1 Year</td>\n",
              "      <td>1</td>\n",
              "      <td>2</td>\n",
              "      <td>2</td>\n",
              "      <td>2</td>\n",
              "      <td>1</td>\n",
              "      <td>1</td>\n",
              "      <td>2</td>\n",
              "      <td>2</td>\n",
              "      <td>1</td>\n",
              "      <td>2</td>\n",
              "      <td>2</td>\n",
              "      <td>2</td>\n",
              "      <td>Money Heist</td>\n",
              "      <td>All of the above</td>\n",
              "      <td>All of the above</td>\n",
              "      <td>All of the above</td>\n",
              "      <td>All of the above</td>\n",
              "      <td>Excellent</td>\n",
              "      <td>All of the above</td>\n",
              "    </tr>\n",
              "    <tr>\n",
              "      <th>245</th>\n",
              "      <td>5/20/2021 23:23:40</td>\n",
              "      <td>Yes</td>\n",
              "      <td>Less than 18</td>\n",
              "      <td>Monthly</td>\n",
              "      <td>Original Web Series, Movies</td>\n",
              "      <td>Story, Director</td>\n",
              "      <td>Netflix</td>\n",
              "      <td>All of the above</td>\n",
              "      <td>More than 2 Year</td>\n",
              "      <td>4</td>\n",
              "      <td>5</td>\n",
              "      <td>4</td>\n",
              "      <td>4</td>\n",
              "      <td>5</td>\n",
              "      <td>4</td>\n",
              "      <td>4</td>\n",
              "      <td>5</td>\n",
              "      <td>5</td>\n",
              "      <td>4</td>\n",
              "      <td>4</td>\n",
              "      <td>5</td>\n",
              "      <td>All of the Above</td>\n",
              "      <td>All of the above</td>\n",
              "      <td>All of the above</td>\n",
              "      <td>All of the above</td>\n",
              "      <td>All of the above</td>\n",
              "      <td>Good</td>\n",
              "      <td>Availability in Languages</td>\n",
              "    </tr>\n",
              "    <tr>\n",
              "      <th>246</th>\n",
              "      <td>5/20/2021 23:24:20</td>\n",
              "      <td>Yes</td>\n",
              "      <td>31-50</td>\n",
              "      <td>Monthly</td>\n",
              "      <td>Movies</td>\n",
              "      <td>Director</td>\n",
              "      <td>Netflix</td>\n",
              "      <td>Movies</td>\n",
              "      <td>Between 1 and 2 Year</td>\n",
              "      <td>5</td>\n",
              "      <td>4</td>\n",
              "      <td>4</td>\n",
              "      <td>4</td>\n",
              "      <td>5</td>\n",
              "      <td>5</td>\n",
              "      <td>4</td>\n",
              "      <td>4</td>\n",
              "      <td>5</td>\n",
              "      <td>5</td>\n",
              "      <td>4</td>\n",
              "      <td>4</td>\n",
              "      <td>The Witcher, Money Heist</td>\n",
              "      <td>Mirzapur, Tandav</td>\n",
              "      <td>Hostages, Arya</td>\n",
              "      <td>Television</td>\n",
              "      <td>All of the above</td>\n",
              "      <td>Excellent</td>\n",
              "      <td>Improvement in Story ,Casting</td>\n",
              "    </tr>\n",
              "    <tr>\n",
              "      <th>247</th>\n",
              "      <td>5/20/2021 23:25:03</td>\n",
              "      <td>Yes</td>\n",
              "      <td>18-30</td>\n",
              "      <td>Once or twice in a week</td>\n",
              "      <td>Movies, Sports and News</td>\n",
              "      <td>Story, Director</td>\n",
              "      <td>Prime</td>\n",
              "      <td>Movies</td>\n",
              "      <td>Less than 1 Year</td>\n",
              "      <td>5</td>\n",
              "      <td>4</td>\n",
              "      <td>4</td>\n",
              "      <td>3</td>\n",
              "      <td>5</td>\n",
              "      <td>4</td>\n",
              "      <td>4</td>\n",
              "      <td>4</td>\n",
              "      <td>5</td>\n",
              "      <td>4</td>\n",
              "      <td>4</td>\n",
              "      <td>5</td>\n",
              "      <td>Sacred Games, Money Heist</td>\n",
              "      <td>Mirzapur, Breath into the shadow</td>\n",
              "      <td>Hostages, Arya</td>\n",
              "      <td>Television</td>\n",
              "      <td>Ease of use</td>\n",
              "      <td>Good</td>\n",
              "      <td>Remove Ads/Limit Ads duration</td>\n",
              "    </tr>\n",
              "    <tr>\n",
              "      <th>248</th>\n",
              "      <td>5/20/2021 23:25:47</td>\n",
              "      <td>Yes</td>\n",
              "      <td>18-30</td>\n",
              "      <td>Once or twice in a week</td>\n",
              "      <td>Movies, Sports and News</td>\n",
              "      <td>Director</td>\n",
              "      <td>Prime</td>\n",
              "      <td>Movies</td>\n",
              "      <td>Less than 1 Year</td>\n",
              "      <td>5</td>\n",
              "      <td>4</td>\n",
              "      <td>4</td>\n",
              "      <td>3</td>\n",
              "      <td>5</td>\n",
              "      <td>4</td>\n",
              "      <td>4</td>\n",
              "      <td>4</td>\n",
              "      <td>5</td>\n",
              "      <td>4</td>\n",
              "      <td>4</td>\n",
              "      <td>5</td>\n",
              "      <td>Sacred Games, The Witcher</td>\n",
              "      <td>Mirzapur, Made in heaven</td>\n",
              "      <td>Criminal Justice</td>\n",
              "      <td>Television</td>\n",
              "      <td>Recommendation</td>\n",
              "      <td>Excellent</td>\n",
              "      <td>Decrease Subscription Price</td>\n",
              "    </tr>\n",
              "    <tr>\n",
              "      <th>249</th>\n",
              "      <td>5/20/2021 23:26:24</td>\n",
              "      <td>Yes</td>\n",
              "      <td>31-50</td>\n",
              "      <td>Monthly</td>\n",
              "      <td>All of the above</td>\n",
              "      <td>All of the above</td>\n",
              "      <td>All of the above</td>\n",
              "      <td>All of the above</td>\n",
              "      <td>Between 1 and 2 Year</td>\n",
              "      <td>5</td>\n",
              "      <td>4</td>\n",
              "      <td>4</td>\n",
              "      <td>3</td>\n",
              "      <td>5</td>\n",
              "      <td>4</td>\n",
              "      <td>4</td>\n",
              "      <td>5</td>\n",
              "      <td>5</td>\n",
              "      <td>4</td>\n",
              "      <td>3</td>\n",
              "      <td>4</td>\n",
              "      <td>All of the Above</td>\n",
              "      <td>All of the above</td>\n",
              "      <td>All of the above</td>\n",
              "      <td>All of the above</td>\n",
              "      <td>Ease of use</td>\n",
              "      <td>Excellent</td>\n",
              "      <td>Availability in Languages</td>\n",
              "    </tr>\n",
              "  </tbody>\n",
              "</table>\n",
              "</div>"
            ],
            "text/plain": [
              "              Timestamp  ...                     Suggestion\n",
              "230  5/19/2021 21:53:56  ...      Availability in Languages\n",
              "231  5/19/2021 21:54:36  ...    Decrease Subscription Price\n",
              "232  5/19/2021 21:54:47  ...    Decrease Subscription Price\n",
              "233  5/19/2021 21:57:57  ...  Improvement in Story ,Casting\n",
              "234  5/19/2021 23:15:29  ...  Remove Ads/Limit Ads duration\n",
              "235  5/19/2021 23:18:26  ...  Improvement in Story ,Casting\n",
              "236  5/19/2021 23:31:14  ...  Improvement in Story ,Casting\n",
              "237  5/20/2021 10:48:23  ...    Decrease Subscription Price\n",
              "238  5/20/2021 10:49:17  ...      Availability in Languages\n",
              "239  5/20/2021 11:04:45  ...    Decrease Subscription Price\n",
              "240  5/20/2021 11:07:15  ...      Availability in Languages\n",
              "241  5/20/2021 11:13:54  ...      Availability in Languages\n",
              "242  5/20/2021 11:50:41  ...  Improvement in Story ,Casting\n",
              "243  5/20/2021 11:52:06  ...  Remove Ads/Limit Ads duration\n",
              "244  5/20/2021 11:53:49  ...               All of the above\n",
              "245  5/20/2021 23:23:40  ...      Availability in Languages\n",
              "246  5/20/2021 23:24:20  ...  Improvement in Story ,Casting\n",
              "247  5/20/2021 23:25:03  ...  Remove Ads/Limit Ads duration\n",
              "248  5/20/2021 23:25:47  ...    Decrease Subscription Price\n",
              "249  5/20/2021 23:26:24  ...      Availability in Languages\n",
              "\n",
              "[20 rows x 28 columns]"
            ]
          },
          "metadata": {
            "tags": []
          },
          "execution_count": 13
        }
      ]
    },
    {
      "cell_type": "markdown",
      "metadata": {
        "id": "ytmrx_6BRckG"
      },
      "source": [
        "**checking duplicate values in data**"
      ]
    },
    {
      "cell_type": "code",
      "metadata": {
        "colab": {
          "base_uri": "https://localhost:8080/",
          "height": 103
        },
        "id": "r6nHZ6PSAV0K",
        "outputId": "1d72a876-4c41-4945-df08-2f7c5fd53bea"
      },
      "source": [
        "duplicate=data[data.duplicated()]\n",
        "duplicate"
      ],
      "execution_count": null,
      "outputs": [
        {
          "output_type": "execute_result",
          "data": {
            "text/html": [
              "<div>\n",
              "<style scoped>\n",
              "    .dataframe tbody tr th:only-of-type {\n",
              "        vertical-align: middle;\n",
              "    }\n",
              "\n",
              "    .dataframe tbody tr th {\n",
              "        vertical-align: top;\n",
              "    }\n",
              "\n",
              "    .dataframe thead th {\n",
              "        text-align: right;\n",
              "    }\n",
              "</style>\n",
              "<table border=\"1\" class=\"dataframe\">\n",
              "  <thead>\n",
              "    <tr style=\"text-align: right;\">\n",
              "      <th></th>\n",
              "      <th>Timestamp</th>\n",
              "      <th>Video Streaming Platform(Y/N)</th>\n",
              "      <th>Age</th>\n",
              "      <th>Frequency</th>\n",
              "      <th>Most_watched</th>\n",
              "      <th>Selection</th>\n",
              "      <th>Platforms</th>\n",
              "      <th>Subscription</th>\n",
              "      <th>Duration</th>\n",
              "      <th>Netflix_Rating_Og</th>\n",
              "      <th>Netflix_Rating_movie</th>\n",
              "      <th>Netflix_Rating_documentry</th>\n",
              "      <th>Netflix_Rating_others</th>\n",
              "      <th>Prime_Rating_Og</th>\n",
              "      <th>Prime_Rating_movie</th>\n",
              "      <th>Prime_Rating_documentry</th>\n",
              "      <th>Prime_Rating_others</th>\n",
              "      <th>Hotstar_Rating_Og</th>\n",
              "      <th>Hotstar_Rating_movie</th>\n",
              "      <th>Hotstar_Rating_documentry</th>\n",
              "      <th>Hotstar_Rating_sports</th>\n",
              "      <th>Netflix_OgSeries</th>\n",
              "      <th>Prime_OgSeries</th>\n",
              "      <th>Hotstar_OgSeries</th>\n",
              "      <th>Advertisment</th>\n",
              "      <th>Features</th>\n",
              "      <th>Overall_Rating</th>\n",
              "      <th>Suggestion</th>\n",
              "    </tr>\n",
              "  </thead>\n",
              "  <tbody>\n",
              "  </tbody>\n",
              "</table>\n",
              "</div>"
            ],
            "text/plain": [
              "Empty DataFrame\n",
              "Columns: [Timestamp, Video Streaming Platform(Y/N), Age, Frequency, Most_watched, Selection, Platforms, Subscription, Duration, Netflix_Rating_Og, Netflix_Rating_movie, Netflix_Rating_documentry, Netflix_Rating_others, Prime_Rating_Og, Prime_Rating_movie, Prime_Rating_documentry, Prime_Rating_others, Hotstar_Rating_Og, Hotstar_Rating_movie, Hotstar_Rating_documentry, Hotstar_Rating_sports, Netflix_OgSeries, Prime_OgSeries, Hotstar_OgSeries, Advertisment, Features, Overall_Rating, Suggestion]\n",
              "Index: []"
            ]
          },
          "metadata": {
            "tags": []
          },
          "execution_count": 14
        }
      ]
    },
    {
      "cell_type": "code",
      "metadata": {
        "colab": {
          "base_uri": "https://localhost:8080/"
        },
        "id": "8TSdDBpJAV22",
        "outputId": "c5f133b9-e2e5-4b3f-9022-9fc804de97bf"
      },
      "source": [
        "data.duplicated().sum()"
      ],
      "execution_count": null,
      "outputs": [
        {
          "output_type": "execute_result",
          "data": {
            "text/plain": [
              "0"
            ]
          },
          "metadata": {
            "tags": []
          },
          "execution_count": 413
        }
      ]
    },
    {
      "cell_type": "markdown",
      "metadata": {
        "id": "K5kuWqrfRkgD"
      },
      "source": [
        "**checking null values of data**"
      ]
    },
    {
      "cell_type": "code",
      "metadata": {
        "colab": {
          "base_uri": "https://localhost:8080/",
          "height": 473
        },
        "id": "rRL8kcWPAV6G",
        "outputId": "8631450e-836c-43d3-f179-74fa7012e98e"
      },
      "source": [
        "data.isnull()"
      ],
      "execution_count": null,
      "outputs": [
        {
          "output_type": "execute_result",
          "data": {
            "text/html": [
              "<div>\n",
              "<style scoped>\n",
              "    .dataframe tbody tr th:only-of-type {\n",
              "        vertical-align: middle;\n",
              "    }\n",
              "\n",
              "    .dataframe tbody tr th {\n",
              "        vertical-align: top;\n",
              "    }\n",
              "\n",
              "    .dataframe thead th {\n",
              "        text-align: right;\n",
              "    }\n",
              "</style>\n",
              "<table border=\"1\" class=\"dataframe\">\n",
              "  <thead>\n",
              "    <tr style=\"text-align: right;\">\n",
              "      <th></th>\n",
              "      <th>Timestamp</th>\n",
              "      <th>Video Streaming Platform(Y/N)</th>\n",
              "      <th>Age</th>\n",
              "      <th>Frequency</th>\n",
              "      <th>Most_watched</th>\n",
              "      <th>Selection</th>\n",
              "      <th>Platforms</th>\n",
              "      <th>Subscription</th>\n",
              "      <th>Duration</th>\n",
              "      <th>Netflix_Rating_Og</th>\n",
              "      <th>Netflix_Rating_movie</th>\n",
              "      <th>Netflix_Rating_documentry</th>\n",
              "      <th>Netflix_Rating_others</th>\n",
              "      <th>Prime_Rating_Og</th>\n",
              "      <th>Prime_Rating_movie</th>\n",
              "      <th>Prime_Rating_documentry</th>\n",
              "      <th>Prime_Rating_others</th>\n",
              "      <th>Hotstar_Rating_Og</th>\n",
              "      <th>Hotstar_Rating_movie</th>\n",
              "      <th>Hotstar_Rating_documentry</th>\n",
              "      <th>Hotstar_Rating_sports</th>\n",
              "      <th>Netflix_OgSeries</th>\n",
              "      <th>Prime_OgSeries</th>\n",
              "      <th>Hotstar_OgSeries</th>\n",
              "      <th>Advertisment</th>\n",
              "      <th>Features</th>\n",
              "      <th>Overall_Rating</th>\n",
              "      <th>Suggestion</th>\n",
              "    </tr>\n",
              "  </thead>\n",
              "  <tbody>\n",
              "    <tr>\n",
              "      <th>0</th>\n",
              "      <td>False</td>\n",
              "      <td>False</td>\n",
              "      <td>False</td>\n",
              "      <td>False</td>\n",
              "      <td>False</td>\n",
              "      <td>False</td>\n",
              "      <td>False</td>\n",
              "      <td>False</td>\n",
              "      <td>False</td>\n",
              "      <td>False</td>\n",
              "      <td>False</td>\n",
              "      <td>False</td>\n",
              "      <td>False</td>\n",
              "      <td>False</td>\n",
              "      <td>False</td>\n",
              "      <td>False</td>\n",
              "      <td>False</td>\n",
              "      <td>False</td>\n",
              "      <td>False</td>\n",
              "      <td>False</td>\n",
              "      <td>False</td>\n",
              "      <td>False</td>\n",
              "      <td>False</td>\n",
              "      <td>False</td>\n",
              "      <td>False</td>\n",
              "      <td>False</td>\n",
              "      <td>False</td>\n",
              "      <td>False</td>\n",
              "    </tr>\n",
              "    <tr>\n",
              "      <th>1</th>\n",
              "      <td>False</td>\n",
              "      <td>False</td>\n",
              "      <td>False</td>\n",
              "      <td>False</td>\n",
              "      <td>False</td>\n",
              "      <td>False</td>\n",
              "      <td>False</td>\n",
              "      <td>False</td>\n",
              "      <td>False</td>\n",
              "      <td>False</td>\n",
              "      <td>False</td>\n",
              "      <td>False</td>\n",
              "      <td>False</td>\n",
              "      <td>False</td>\n",
              "      <td>False</td>\n",
              "      <td>False</td>\n",
              "      <td>False</td>\n",
              "      <td>False</td>\n",
              "      <td>False</td>\n",
              "      <td>False</td>\n",
              "      <td>False</td>\n",
              "      <td>False</td>\n",
              "      <td>False</td>\n",
              "      <td>False</td>\n",
              "      <td>False</td>\n",
              "      <td>False</td>\n",
              "      <td>False</td>\n",
              "      <td>False</td>\n",
              "    </tr>\n",
              "    <tr>\n",
              "      <th>2</th>\n",
              "      <td>False</td>\n",
              "      <td>False</td>\n",
              "      <td>False</td>\n",
              "      <td>False</td>\n",
              "      <td>False</td>\n",
              "      <td>False</td>\n",
              "      <td>False</td>\n",
              "      <td>False</td>\n",
              "      <td>False</td>\n",
              "      <td>False</td>\n",
              "      <td>False</td>\n",
              "      <td>False</td>\n",
              "      <td>False</td>\n",
              "      <td>False</td>\n",
              "      <td>False</td>\n",
              "      <td>False</td>\n",
              "      <td>False</td>\n",
              "      <td>False</td>\n",
              "      <td>False</td>\n",
              "      <td>False</td>\n",
              "      <td>False</td>\n",
              "      <td>False</td>\n",
              "      <td>False</td>\n",
              "      <td>False</td>\n",
              "      <td>False</td>\n",
              "      <td>False</td>\n",
              "      <td>False</td>\n",
              "      <td>False</td>\n",
              "    </tr>\n",
              "    <tr>\n",
              "      <th>3</th>\n",
              "      <td>False</td>\n",
              "      <td>False</td>\n",
              "      <td>False</td>\n",
              "      <td>False</td>\n",
              "      <td>False</td>\n",
              "      <td>False</td>\n",
              "      <td>False</td>\n",
              "      <td>False</td>\n",
              "      <td>False</td>\n",
              "      <td>False</td>\n",
              "      <td>False</td>\n",
              "      <td>False</td>\n",
              "      <td>False</td>\n",
              "      <td>False</td>\n",
              "      <td>False</td>\n",
              "      <td>False</td>\n",
              "      <td>False</td>\n",
              "      <td>False</td>\n",
              "      <td>False</td>\n",
              "      <td>False</td>\n",
              "      <td>False</td>\n",
              "      <td>False</td>\n",
              "      <td>False</td>\n",
              "      <td>False</td>\n",
              "      <td>False</td>\n",
              "      <td>False</td>\n",
              "      <td>False</td>\n",
              "      <td>False</td>\n",
              "    </tr>\n",
              "    <tr>\n",
              "      <th>4</th>\n",
              "      <td>False</td>\n",
              "      <td>False</td>\n",
              "      <td>False</td>\n",
              "      <td>False</td>\n",
              "      <td>False</td>\n",
              "      <td>False</td>\n",
              "      <td>False</td>\n",
              "      <td>False</td>\n",
              "      <td>False</td>\n",
              "      <td>False</td>\n",
              "      <td>False</td>\n",
              "      <td>False</td>\n",
              "      <td>False</td>\n",
              "      <td>False</td>\n",
              "      <td>False</td>\n",
              "      <td>False</td>\n",
              "      <td>False</td>\n",
              "      <td>False</td>\n",
              "      <td>False</td>\n",
              "      <td>False</td>\n",
              "      <td>False</td>\n",
              "      <td>False</td>\n",
              "      <td>False</td>\n",
              "      <td>False</td>\n",
              "      <td>False</td>\n",
              "      <td>False</td>\n",
              "      <td>False</td>\n",
              "      <td>False</td>\n",
              "    </tr>\n",
              "    <tr>\n",
              "      <th>...</th>\n",
              "      <td>...</td>\n",
              "      <td>...</td>\n",
              "      <td>...</td>\n",
              "      <td>...</td>\n",
              "      <td>...</td>\n",
              "      <td>...</td>\n",
              "      <td>...</td>\n",
              "      <td>...</td>\n",
              "      <td>...</td>\n",
              "      <td>...</td>\n",
              "      <td>...</td>\n",
              "      <td>...</td>\n",
              "      <td>...</td>\n",
              "      <td>...</td>\n",
              "      <td>...</td>\n",
              "      <td>...</td>\n",
              "      <td>...</td>\n",
              "      <td>...</td>\n",
              "      <td>...</td>\n",
              "      <td>...</td>\n",
              "      <td>...</td>\n",
              "      <td>...</td>\n",
              "      <td>...</td>\n",
              "      <td>...</td>\n",
              "      <td>...</td>\n",
              "      <td>...</td>\n",
              "      <td>...</td>\n",
              "      <td>...</td>\n",
              "    </tr>\n",
              "    <tr>\n",
              "      <th>245</th>\n",
              "      <td>False</td>\n",
              "      <td>False</td>\n",
              "      <td>False</td>\n",
              "      <td>False</td>\n",
              "      <td>False</td>\n",
              "      <td>False</td>\n",
              "      <td>False</td>\n",
              "      <td>False</td>\n",
              "      <td>False</td>\n",
              "      <td>False</td>\n",
              "      <td>False</td>\n",
              "      <td>False</td>\n",
              "      <td>False</td>\n",
              "      <td>False</td>\n",
              "      <td>False</td>\n",
              "      <td>False</td>\n",
              "      <td>False</td>\n",
              "      <td>False</td>\n",
              "      <td>False</td>\n",
              "      <td>False</td>\n",
              "      <td>False</td>\n",
              "      <td>False</td>\n",
              "      <td>False</td>\n",
              "      <td>False</td>\n",
              "      <td>False</td>\n",
              "      <td>False</td>\n",
              "      <td>False</td>\n",
              "      <td>False</td>\n",
              "    </tr>\n",
              "    <tr>\n",
              "      <th>246</th>\n",
              "      <td>False</td>\n",
              "      <td>False</td>\n",
              "      <td>False</td>\n",
              "      <td>False</td>\n",
              "      <td>False</td>\n",
              "      <td>False</td>\n",
              "      <td>False</td>\n",
              "      <td>False</td>\n",
              "      <td>False</td>\n",
              "      <td>False</td>\n",
              "      <td>False</td>\n",
              "      <td>False</td>\n",
              "      <td>False</td>\n",
              "      <td>False</td>\n",
              "      <td>False</td>\n",
              "      <td>False</td>\n",
              "      <td>False</td>\n",
              "      <td>False</td>\n",
              "      <td>False</td>\n",
              "      <td>False</td>\n",
              "      <td>False</td>\n",
              "      <td>False</td>\n",
              "      <td>False</td>\n",
              "      <td>False</td>\n",
              "      <td>False</td>\n",
              "      <td>False</td>\n",
              "      <td>False</td>\n",
              "      <td>False</td>\n",
              "    </tr>\n",
              "    <tr>\n",
              "      <th>247</th>\n",
              "      <td>False</td>\n",
              "      <td>False</td>\n",
              "      <td>False</td>\n",
              "      <td>False</td>\n",
              "      <td>False</td>\n",
              "      <td>False</td>\n",
              "      <td>False</td>\n",
              "      <td>False</td>\n",
              "      <td>False</td>\n",
              "      <td>False</td>\n",
              "      <td>False</td>\n",
              "      <td>False</td>\n",
              "      <td>False</td>\n",
              "      <td>False</td>\n",
              "      <td>False</td>\n",
              "      <td>False</td>\n",
              "      <td>False</td>\n",
              "      <td>False</td>\n",
              "      <td>False</td>\n",
              "      <td>False</td>\n",
              "      <td>False</td>\n",
              "      <td>False</td>\n",
              "      <td>False</td>\n",
              "      <td>False</td>\n",
              "      <td>False</td>\n",
              "      <td>False</td>\n",
              "      <td>False</td>\n",
              "      <td>False</td>\n",
              "    </tr>\n",
              "    <tr>\n",
              "      <th>248</th>\n",
              "      <td>False</td>\n",
              "      <td>False</td>\n",
              "      <td>False</td>\n",
              "      <td>False</td>\n",
              "      <td>False</td>\n",
              "      <td>False</td>\n",
              "      <td>False</td>\n",
              "      <td>False</td>\n",
              "      <td>False</td>\n",
              "      <td>False</td>\n",
              "      <td>False</td>\n",
              "      <td>False</td>\n",
              "      <td>False</td>\n",
              "      <td>False</td>\n",
              "      <td>False</td>\n",
              "      <td>False</td>\n",
              "      <td>False</td>\n",
              "      <td>False</td>\n",
              "      <td>False</td>\n",
              "      <td>False</td>\n",
              "      <td>False</td>\n",
              "      <td>False</td>\n",
              "      <td>False</td>\n",
              "      <td>False</td>\n",
              "      <td>False</td>\n",
              "      <td>False</td>\n",
              "      <td>False</td>\n",
              "      <td>False</td>\n",
              "    </tr>\n",
              "    <tr>\n",
              "      <th>249</th>\n",
              "      <td>False</td>\n",
              "      <td>False</td>\n",
              "      <td>False</td>\n",
              "      <td>False</td>\n",
              "      <td>False</td>\n",
              "      <td>False</td>\n",
              "      <td>False</td>\n",
              "      <td>False</td>\n",
              "      <td>False</td>\n",
              "      <td>False</td>\n",
              "      <td>False</td>\n",
              "      <td>False</td>\n",
              "      <td>False</td>\n",
              "      <td>False</td>\n",
              "      <td>False</td>\n",
              "      <td>False</td>\n",
              "      <td>False</td>\n",
              "      <td>False</td>\n",
              "      <td>False</td>\n",
              "      <td>False</td>\n",
              "      <td>False</td>\n",
              "      <td>False</td>\n",
              "      <td>False</td>\n",
              "      <td>False</td>\n",
              "      <td>False</td>\n",
              "      <td>False</td>\n",
              "      <td>False</td>\n",
              "      <td>False</td>\n",
              "    </tr>\n",
              "  </tbody>\n",
              "</table>\n",
              "<p>250 rows × 28 columns</p>\n",
              "</div>"
            ],
            "text/plain": [
              "     Timestamp  Video Streaming Platform(Y/N)  ...  Overall_Rating  Suggestion\n",
              "0        False                          False  ...           False       False\n",
              "1        False                          False  ...           False       False\n",
              "2        False                          False  ...           False       False\n",
              "3        False                          False  ...           False       False\n",
              "4        False                          False  ...           False       False\n",
              "..         ...                            ...  ...             ...         ...\n",
              "245      False                          False  ...           False       False\n",
              "246      False                          False  ...           False       False\n",
              "247      False                          False  ...           False       False\n",
              "248      False                          False  ...           False       False\n",
              "249      False                          False  ...           False       False\n",
              "\n",
              "[250 rows x 28 columns]"
            ]
          },
          "metadata": {
            "tags": []
          },
          "execution_count": 15
        }
      ]
    },
    {
      "cell_type": "code",
      "metadata": {
        "colab": {
          "base_uri": "https://localhost:8080/"
        },
        "id": "wJZJdIlKAV9F",
        "outputId": "0aafa194-dac9-4d87-f9c3-f0ff9f9f76b3"
      },
      "source": [
        "data.isnull().sum()"
      ],
      "execution_count": null,
      "outputs": [
        {
          "output_type": "execute_result",
          "data": {
            "text/plain": [
              "Timestamp                        0\n",
              "Video Streaming Platform(Y/N)    0\n",
              "Age                              0\n",
              "Frequency                        0\n",
              "Most_watched                     0\n",
              "Selection                        0\n",
              "Platforms                        0\n",
              "Subscription                     0\n",
              "Duration                         0\n",
              "Netflix_Rating_Og                0\n",
              "Netflix_Rating_movie             0\n",
              "Netflix_Rating_documentry        0\n",
              "Netflix_Rating_others            0\n",
              "Prime_Rating_Og                  0\n",
              "Prime_Rating_movie               0\n",
              "Prime_Rating_documentry          0\n",
              "Prime_Rating_others              0\n",
              "Hotstar_Rating_Og                0\n",
              "Hotstar_Rating_movie             0\n",
              "Hotstar_Rating_documentry        0\n",
              "Hotstar_Rating_sports            0\n",
              "Netflix_OgSeries                 0\n",
              "Prime_OgSeries                   0\n",
              "Hotstar_OgSeries                 0\n",
              "Advertisment                     0\n",
              "Features                         0\n",
              "Overall_Rating                   0\n",
              "Suggestion                       0\n",
              "dtype: int64"
            ]
          },
          "metadata": {
            "tags": []
          },
          "execution_count": 16
        }
      ]
    },
    {
      "cell_type": "markdown",
      "metadata": {
        "id": "rUF1y2_vRuje"
      },
      "source": [
        "**count of a column**"
      ]
    },
    {
      "cell_type": "code",
      "metadata": {
        "colab": {
          "base_uri": "https://localhost:8080/"
        },
        "id": "emO45gj6I_eu",
        "outputId": "26e49f7d-6e67-45dd-8b41-72f7af52c0a5"
      },
      "source": [
        "data['Video Streaming Platform(Y/N)'].value_counts()"
      ],
      "execution_count": null,
      "outputs": [
        {
          "output_type": "execute_result",
          "data": {
            "text/plain": [
              "Yes    247\n",
              "No       3\n",
              "Name: Video Streaming Platform(Y/N), dtype: int64"
            ]
          },
          "metadata": {
            "tags": []
          },
          "execution_count": 416
        }
      ]
    },
    {
      "cell_type": "code",
      "metadata": {
        "colab": {
          "base_uri": "https://localhost:8080/"
        },
        "id": "oSXR3NaDJNrE",
        "outputId": "f5362de5-863f-49af-f103-dfdcbf559c85"
      },
      "source": [
        "data['Age'].value_counts()"
      ],
      "execution_count": null,
      "outputs": [
        {
          "output_type": "execute_result",
          "data": {
            "text/plain": [
              "18-30           156\n",
              "31-50            64\n",
              "Less than 18     19\n",
              "More than 50     11\n",
              "Name: Age, dtype: int64"
            ]
          },
          "metadata": {
            "tags": []
          },
          "execution_count": 419
        }
      ]
    },
    {
      "cell_type": "code",
      "metadata": {
        "colab": {
          "base_uri": "https://localhost:8080/"
        },
        "id": "T2G0k2MHJNtm",
        "outputId": "b5424208-05ec-499a-dccf-98ce5a363796"
      },
      "source": [
        "data['Frequency'].value_counts()"
      ],
      "execution_count": null,
      "outputs": [
        {
          "output_type": "execute_result",
          "data": {
            "text/plain": [
              "Daily                      102\n",
              "Monthly                     85\n",
              "Once or twice in a week     58\n",
              "None of the above            5\n",
              "Name: Frequency, dtype: int64"
            ]
          },
          "metadata": {
            "tags": []
          },
          "execution_count": 420
        }
      ]
    },
    {
      "cell_type": "code",
      "metadata": {
        "colab": {
          "base_uri": "https://localhost:8080/"
        },
        "id": "EFNUV_HuJNwP",
        "outputId": "0f57f15b-1632-4bae-d59c-1ec5292ae2fb"
      },
      "source": [
        "data['Most_watched'].value_counts()"
      ],
      "execution_count": null,
      "outputs": [
        {
          "output_type": "execute_result",
          "data": {
            "text/plain": [
              "All of the above                                                                 95\n",
              "Original Web Series, Movies                                                      34\n",
              "Original Web Series                                                              28\n",
              "Movies                                                                           25\n",
              "Original Web Series, Movies, Documentaries                                       14\n",
              "Movies, Sports and News                                                          11\n",
              "Movies, Documentaries, Sports and News                                            9\n",
              "Original Web Series, Movies, Sports and News                                      8\n",
              "Movies, Documentaries                                                             6\n",
              "Original Web Series, Documentaries                                                4\n",
              "Original Web Series, Sports and News                                              4\n",
              "Original Web Series, Movies, Documentaries, Sports and News                       2\n",
              "Sports and News                                                                   2\n",
              "Original Web Series, Documentaries, Sports and News                               2\n",
              "Original Web Series, Movies, Documentaries, Sports and News, All of the above     2\n",
              "Original Web Series, Movies, Sports and News, All of the above                    1\n",
              "Documentaries, Sports and News                                                    1\n",
              "Documentaries                                                                     1\n",
              "Movies, All of the above                                                          1\n",
              "Name: Most_watched, dtype: int64"
            ]
          },
          "metadata": {
            "tags": []
          },
          "execution_count": 423
        }
      ]
    },
    {
      "cell_type": "code",
      "metadata": {
        "colab": {
          "base_uri": "https://localhost:8080/"
        },
        "id": "Qut8g0_OJNzO",
        "outputId": "9e9bb091-66b5-447f-88c7-aab58e3a4ec0"
      },
      "source": [
        "data['Selection'].value_counts()"
      ],
      "execution_count": null,
      "outputs": [
        {
          "output_type": "execute_result",
          "data": {
            "text/plain": [
              "All of the above                           119\n",
              "Story                                       63\n",
              "Cast, Story                                 29\n",
              "Story, Director                             20\n",
              "Cast, Story, Director                        8\n",
              "Cast, Director                               2\n",
              "Cast                                         2\n",
              "Cast, Story, Director, All of the above      2\n",
              "Director                                     2\n",
              "Director, All of the above                   1\n",
              "Story, All of the above                      1\n",
              "Story, Director, All of the above            1\n",
              "Name: Selection, dtype: int64"
            ]
          },
          "metadata": {
            "tags": []
          },
          "execution_count": 424
        }
      ]
    },
    {
      "cell_type": "code",
      "metadata": {
        "colab": {
          "base_uri": "https://localhost:8080/"
        },
        "id": "HZIL4ozgJN1z",
        "outputId": "4c13656c-ed86-468c-9b92-ae2ba3bd17df"
      },
      "source": [
        "data['Platforms'].value_counts()"
      ],
      "execution_count": null,
      "outputs": [
        {
          "output_type": "execute_result",
          "data": {
            "text/plain": [
              "All of the above    97\n",
              "Prime               63\n",
              "Netflix             54\n",
              "Hotstar             36\n",
              "Name: Platforms, dtype: int64"
            ]
          },
          "metadata": {
            "tags": []
          },
          "execution_count": 425
        }
      ]
    },
    {
      "cell_type": "code",
      "metadata": {
        "colab": {
          "base_uri": "https://localhost:8080/"
        },
        "id": "WnKQDj0hJN4l",
        "outputId": "de66e74c-9d84-42da-dd48-7a466a511957"
      },
      "source": [
        "data['Subscription'].value_counts()"
      ],
      "execution_count": null,
      "outputs": [
        {
          "output_type": "execute_result",
          "data": {
            "text/plain": [
              "Original Web Series    100\n",
              "All of the above        76\n",
              "Movies                  49\n",
              "Sports and News         19\n",
              "Documentaries            6\n",
              "Name: Subscription, dtype: int64"
            ]
          },
          "metadata": {
            "tags": []
          },
          "execution_count": 426
        }
      ]
    },
    {
      "cell_type": "code",
      "metadata": {
        "colab": {
          "base_uri": "https://localhost:8080/"
        },
        "id": "9Pq_2wqDNqc8",
        "outputId": "ce1bf583-08f6-4024-fcf9-a4d72dab24e1"
      },
      "source": [
        "data['Duration'].value_counts()"
      ],
      "execution_count": null,
      "outputs": [
        {
          "output_type": "execute_result",
          "data": {
            "text/plain": [
              "More than 2 Year        97\n",
              "Less than 1 Year        78\n",
              "Between 1 and 2 Year    74\n",
              "None                     1\n",
              "Name: Duration, dtype: int64"
            ]
          },
          "metadata": {
            "tags": []
          },
          "execution_count": 427
        }
      ]
    },
    {
      "cell_type": "code",
      "metadata": {
        "colab": {
          "base_uri": "https://localhost:8080/"
        },
        "id": "pCt7qL5eNqgM",
        "outputId": "83ae1f9c-cd1c-4f15-9729-34bcd5ca0c99"
      },
      "source": [
        "data['Advertisment'].value_counts()"
      ],
      "execution_count": null,
      "outputs": [
        {
          "output_type": "execute_result",
          "data": {
            "text/plain": [
              "All of the above                 84\n",
              "Social Media                     75\n",
              "Family/Friends Recommendation    53\n",
              "Television                       38\n",
              "Name: Advertisment, dtype: int64"
            ]
          },
          "metadata": {
            "tags": []
          },
          "execution_count": 428
        }
      ]
    },
    {
      "cell_type": "code",
      "metadata": {
        "colab": {
          "base_uri": "https://localhost:8080/"
        },
        "id": "NKS2YE66NqjR",
        "outputId": "e487a32c-3bfe-44fd-f332-c82954a6246f"
      },
      "source": [
        "data['Features'].value_counts()"
      ],
      "execution_count": null,
      "outputs": [
        {
          "output_type": "execute_result",
          "data": {
            "text/plain": [
              "Recommendation      73\n",
              "All of the above    72\n",
              "Search Option       53\n",
              "Ease of use         52\n",
              "Name: Features, dtype: int64"
            ]
          },
          "metadata": {
            "tags": []
          },
          "execution_count": 429
        }
      ]
    },
    {
      "cell_type": "code",
      "metadata": {
        "colab": {
          "base_uri": "https://localhost:8080/"
        },
        "id": "zeBTPgvZNqmL",
        "outputId": "c503ab46-112f-47ce-dd4e-73de1f1c4fbc"
      },
      "source": [
        "data['Overall_Rating'].value_counts()"
      ],
      "execution_count": null,
      "outputs": [
        {
          "output_type": "execute_result",
          "data": {
            "text/plain": [
              "Excellent             151\n",
              "Good                   89\n",
              "Fair                    8\n",
              "Improvement Needed      2\n",
              "Name: Overall_Rating, dtype: int64"
            ]
          },
          "metadata": {
            "tags": []
          },
          "execution_count": 430
        }
      ]
    },
    {
      "cell_type": "code",
      "metadata": {
        "colab": {
          "base_uri": "https://localhost:8080/"
        },
        "id": "dv6dquHuI_hT",
        "outputId": "23361f77-2a44-4e05-d0f9-8791b346a1c0"
      },
      "source": [
        "data['Suggestion'].value_counts()"
      ],
      "execution_count": null,
      "outputs": [
        {
          "output_type": "execute_result",
          "data": {
            "text/plain": [
              "Remove Ads/Limit Ads duration    81\n",
              "Availability in Languages        67\n",
              "Decrease Subscription Price      51\n",
              "Improvement in Story ,Casting    37\n",
              "All of the above                 14\n",
              "Name: Suggestion, dtype: int64"
            ]
          },
          "metadata": {
            "tags": []
          },
          "execution_count": 431
        }
      ]
    },
    {
      "cell_type": "markdown",
      "metadata": {
        "id": "vt5y268pJjAD"
      },
      "source": [
        "\n",
        "Converting the Video Streaming Platform(Y/N) columns into integer."
      ]
    },
    {
      "cell_type": "code",
      "metadata": {
        "id": "5aSq2FKPJhdS"
      },
      "source": [
        "def trans_con(x):\n",
        "    if x =='Yes':\n",
        "        return 1\n",
        "    if x =='No':\n",
        "        return 0"
      ],
      "execution_count": null,
      "outputs": []
    },
    {
      "cell_type": "code",
      "metadata": {
        "colab": {
          "base_uri": "https://localhost:8080/"
        },
        "id": "Y7b4KZfKJiNO",
        "outputId": "e636eb5c-636d-4703-87f6-c024656b2fb2"
      },
      "source": [
        "data['Video Streaming Platform(Y/N)'].apply(trans_con)\n"
      ],
      "execution_count": null,
      "outputs": [
        {
          "output_type": "execute_result",
          "data": {
            "text/plain": [
              "0      1\n",
              "1      1\n",
              "2      1\n",
              "3      1\n",
              "4      1\n",
              "      ..\n",
              "245    1\n",
              "246    1\n",
              "247    1\n",
              "248    1\n",
              "249    1\n",
              "Name: Video Streaming Platform(Y/N), Length: 250, dtype: int64"
            ]
          },
          "metadata": {
            "tags": []
          },
          "execution_count": 18
        }
      ]
    },
    {
      "cell_type": "markdown",
      "metadata": {
        "id": "UtBQsRX8R5rs"
      },
      "source": [
        "converting frequency column into int"
      ]
    },
    {
      "cell_type": "code",
      "metadata": {
        "id": "RNly4nJXKu9I"
      },
      "source": [
        "def trans_con(x):\n",
        "    if x =='Daily':\n",
        "          return 1\n",
        "    if x =='Monthly':\n",
        "           return 2\n",
        "    if x =='Once or twice in a week':\n",
        "          return 3\n",
        "    if x =='None of the Above':\n",
        "         return 0"
      ],
      "execution_count": null,
      "outputs": []
    },
    {
      "cell_type": "code",
      "metadata": {
        "colab": {
          "base_uri": "https://localhost:8080/"
        },
        "id": "pSWxG-xcKu0m",
        "outputId": "ed7b32b0-6e1b-456a-c0f8-ae9b91946567"
      },
      "source": [
        "data['Frequency'].apply(trans_con)\n"
      ],
      "execution_count": null,
      "outputs": [
        {
          "output_type": "execute_result",
          "data": {
            "text/plain": [
              "0      1.0\n",
              "1      3.0\n",
              "2      3.0\n",
              "3      2.0\n",
              "4      3.0\n",
              "      ... \n",
              "245    2.0\n",
              "246    2.0\n",
              "247    3.0\n",
              "248    3.0\n",
              "249    2.0\n",
              "Name: Frequency, Length: 250, dtype: float64"
            ]
          },
          "metadata": {
            "tags": []
          },
          "execution_count": 20
        }
      ]
    },
    {
      "cell_type": "code",
      "metadata": {
        "id": "KtM9WrWJI_yJ"
      },
      "source": [
        "def trans_conn(x):\n",
        "    if x =='Excellent':\n",
        "        return 1\n",
        "    if x =='Good':\n",
        "        return 2\n",
        "    if x =='Fair':\n",
        "        return 3\n",
        "    if x =='Improvement Needed':\n",
        "        return 0"
      ],
      "execution_count": null,
      "outputs": []
    },
    {
      "cell_type": "code",
      "metadata": {
        "id": "QuOfPYAAI_09"
      },
      "source": [
        "data['Overall_Rating']=data['Overall_Rating'].apply(trans_conn)"
      ],
      "execution_count": null,
      "outputs": []
    },
    {
      "cell_type": "markdown",
      "metadata": {
        "id": "A5ziIPw-Wbsl"
      },
      "source": [
        "**Changing the same names of the columns.**"
      ]
    },
    {
      "cell_type": "code",
      "metadata": {
        "id": "qW2fE9XRI_kV"
      },
      "source": [
        "data['Most_watched']=data['Most_watched'].map(lambda x: 'All of the above' if (str(x)=='Original Web Series, Movies, Documentaries, Sports and News' or str(x)=='Movies, All of the above' or str(x)=='Original Web Series, Movies, Documentaries, Sports and News, All of the above' or str(x)=='Original Web Series, Movies, Sports and News, All of the above') else x)\n",
        "data['Selection']=data['Selection'].map(lambda x: 'All of the above' if (str(x)=='Cast, Story, Director, All of the above' or str(x)=='Story, Director, All of the above' or str(x)=='Story, All of the above' or str(x)=='Director, All of the above') else x)\n",
        "data['Netflix_OgSeries']=data['Netflix_OgSeries'].map(lambda x: 'All of the above' if (str(x)=='Sacred Games, 13 Reason Why, The Witcher, Money Heist, All of the Above' or str(x)=='Sacred Games, 13 Reason Why, The Witcher, Money Heist' or str(x)=='13 Reason Why, The Witcher, All of the Above' or str(x)=='The Witcher, Money Heist, All of the Above' or str(x)=='Sacred Games, All of the Above' or str(x)=='Money Heist, All of the Above' or str(x)=='The Witcher, All of the Above' or str(x)=='All of the Above') else x)\n",
        "data['Prime_OgSeries']=data['Prime_OgSeries'].map(lambda x: 'All of the above' if (str(x)=='Mirzapur, Made in heaven, Tandav, Breath into the shadow, All of the above' or str(x)=='Tandav, All of the above' or str(x)=='Mirzapur, Made in heaven, Tandav, Breath into the shadow' or str(x)=='Tandav, Breath into the shadow, All of the above' or str(x)=='Mirzapur, All of the above' or str(x)=='Mirzapur, Made in heaven, All of the above'  or str(x)=='Mirzapur, Tandav, All of the above') else x)\n",
        "data['Hotstar_OgSeries']=data['Hotstar_OgSeries'].map(lambda x: 'All of the above' if (str(x)=='Speacial OPS, Hostages, Criminal Justice, Arya' or str(x)=='Speacial OPS, All of the above' or str(x)=='Speacial OPS, Hostages, Criminal Justice, Arya, All of the above' or str(x)=='Hostages, Arya, All of the above') else x)"
      ],
      "execution_count": null,
      "outputs": []
    },
    {
      "cell_type": "code",
      "metadata": {
        "colab": {
          "base_uri": "https://localhost:8080/"
        },
        "id": "s05w954DI_wC",
        "outputId": "1650974f-7a10-4254-8b23-7b47c61352a3"
      },
      "source": [
        "data['Most_watched'].value_counts()"
      ],
      "execution_count": null,
      "outputs": [
        {
          "output_type": "execute_result",
          "data": {
            "text/plain": [
              "All of the above                                       101\n",
              "Original Web Series, Movies                             34\n",
              "Original Web Series                                     28\n",
              "Movies                                                  25\n",
              "Original Web Series, Movies, Documentaries              14\n",
              "Movies, Sports and News                                 11\n",
              "Movies, Documentaries, Sports and News                   9\n",
              "Original Web Series, Movies, Sports and News             8\n",
              "Movies, Documentaries                                    6\n",
              "Original Web Series, Sports and News                     4\n",
              "Original Web Series, Documentaries                       4\n",
              "Sports and News                                          2\n",
              "Original Web Series, Documentaries, Sports and News      2\n",
              "Documentaries                                            1\n",
              "Documentaries, Sports and News                           1\n",
              "Name: Most_watched, dtype: int64"
            ]
          },
          "metadata": {
            "tags": []
          },
          "execution_count": 24
        }
      ]
    },
    {
      "cell_type": "markdown",
      "metadata": {
        "id": "KMcBR_gPTAg9"
      },
      "source": [
        "graph of platfoms"
      ]
    },
    {
      "cell_type": "code",
      "metadata": {
        "colab": {
          "base_uri": "https://localhost:8080/",
          "height": 401
        },
        "id": "zl5XKmJec4sE",
        "outputId": "dd6a45fe-4f9e-4d4a-9b2f-4bd875d57f67"
      },
      "source": [
        "sns.catplot(x=\"Platforms\", kind=\"count\", palette=\"ch:.25\", data=data)\n"
      ],
      "execution_count": null,
      "outputs": [
        {
          "output_type": "execute_result",
          "data": {
            "text/plain": [
              "<seaborn.axisgrid.FacetGrid at 0x7fd06dcf6090>"
            ]
          },
          "metadata": {
            "tags": []
          },
          "execution_count": 26
        },
        {
          "output_type": "display_data",
          "data": {
            "image/png": "[encoded data removed]",
            "text/plain": [
              "<Figure size 360x360 with 1 Axes>"
            ]
          },
          "metadata": {
            "tags": [],
            "needs_background": "light"
          }
        }
      ]
    },
    {
      "cell_type": "markdown",
      "metadata": {
        "id": "HIgMGg4NXACO"
      },
      "source": [
        "#Representation of most watched Types"
      ]
    },
    {
      "cell_type": "code",
      "metadata": {
        "colab": {
          "base_uri": "https://localhost:8080/",
          "height": 498
        },
        "id": "JKT0fI0qYplb",
        "outputId": "b5297e46-44e5-465c-e33e-f07f09f7df12"
      },
      "source": [
        "data['Most_watched'].value_counts().plot(kind='barh',figsize=(10,8),color=\"brown\")\n",
        "plt.title(\"What do you watch the most on video streaming platform?\")\n",
        "plt.xlim(0,110)\n",
        "plt.show()"
      ],
      "execution_count": null,
      "outputs": [
        {
          "output_type": "display_data",
          "data": {
            "image/png": "[encoded data removed]",
            "text/plain": [
              "<Figure size 720x576 with 1 Axes>"
            ]
          },
          "metadata": {
            "tags": [],
            "needs_background": "light"
          }
        }
      ]
    },
    {
      "cell_type": "markdown",
      "metadata": {
        "id": "Rpnsm8WAXKW6"
      },
      "source": [
        "**Presentation of Netflix's Series Count **"
      ]
    },
    {
      "cell_type": "code",
      "metadata": {
        "colab": {
          "base_uri": "https://localhost:8080/",
          "height": 498
        },
        "id": "1Zhcam81DcKx",
        "outputId": "35cebe6a-c719-4b45-8512-4c7686840446"
      },
      "source": [
        "data['Netflix_OgSeries'].value_counts().plot(kind='barh',figsize=(10,8),color=\"blue\")\n",
        "plt.title(\"What do you watch the most on video streaming platform?\")\n",
        "plt.xlim(0,120)\n",
        "plt.show()"
      ],
      "execution_count": null,
      "outputs": [
        {
          "output_type": "display_data",
          "data": {
            "image/png": "[encoded data removed]",
            "text/plain": [
              "<Figure size 720x576 with 1 Axes>"
            ]
          },
          "metadata": {
            "tags": [],
            "needs_background": "light"
          }
        }
      ]
    },
    {
      "cell_type": "markdown",
      "metadata": {
        "id": "jXEeZgvXXVIx"
      },
      "source": [
        "#Presentation of Prime's Series Count"
      ]
    },
    {
      "cell_type": "code",
      "metadata": {
        "colab": {
          "base_uri": "https://localhost:8080/",
          "height": 498
        },
        "id": "mgxb-h2fD7PB",
        "outputId": "ec7471d9-9110-43dd-e2d9-bd3e12f79c57"
      },
      "source": [
        "data['Prime_OgSeries'].value_counts().plot(kind='barh',figsize=(10,8),color=\"blue\")\n",
        "plt.title(\"What do you watch the most on video streaming platform?\")\n",
        "plt.xlim(0,130)\n",
        "plt.show()"
      ],
      "execution_count": null,
      "outputs": [
        {
          "output_type": "display_data",
          "data": {
            "image/png": "[encoded data removed]",
            "text/plain": [
              "<Figure size 720x576 with 1 Axes>"
            ]
          },
          "metadata": {
            "tags": [],
            "needs_background": "light"
          }
        }
      ]
    },
    {
      "cell_type": "markdown",
      "metadata": {
        "id": "ilj5BTMpX5XS"
      },
      "source": [
        ""
      ]
    },
    {
      "cell_type": "markdown",
      "metadata": {
        "id": "AEWvMpmMX5cQ"
      },
      "source": [
        "#Presentation of Hotstar's Series Count "
      ]
    },
    {
      "cell_type": "code",
      "metadata": {
        "colab": {
          "base_uri": "https://localhost:8080/",
          "height": 498
        },
        "id": "t1UuVjPeEHpr",
        "outputId": "c4c89b3c-228d-419b-87fe-b785377130a3"
      },
      "source": [
        "data['Hotstar_OgSeries'].value_counts().plot(kind='barh',figsize=(10,8),color=\"blue\")\n",
        "plt.title(\"What do you watch the most on video streaming platform?\")\n",
        "plt.xlim(0,100)\n",
        "plt.show()"
      ],
      "execution_count": null,
      "outputs": [
        {
          "output_type": "display_data",
          "data": {
            "image/png": "[encoded data removed]",
            "text/plain": [
              "<Figure size 720x576 with 1 Axes>"
            ]
          },
          "metadata": {
            "tags": [],
            "needs_background": "light"
          }
        }
      ]
    },
    {
      "cell_type": "markdown",
      "metadata": {
        "id": "rIHvGzeuYOcz"
      },
      "source": [
        "#Selection of Genres "
      ]
    },
    {
      "cell_type": "code",
      "metadata": {
        "colab": {
          "base_uri": "https://localhost:8080/",
          "height": 578
        },
        "id": "19De_TtSYprV",
        "outputId": "081d77af-eb6d-4d78-fc8b-4109a352cec5"
      },
      "source": [
        "plt.figure(figsize=(12,8))\n",
        "plt.xticks(rotation=45)\n",
        "ax = sns.countplot(x=\"Selection\", hue=\"Platforms\", data=data , palette=\"cool\")"
      ],
      "execution_count": null,
      "outputs": [
        {
          "output_type": "display_data",
          "data": {
            "image/png": "[encoded data removed]",
            "text/plain": [
              "<Figure size 864x576 with 1 Axes>"
            ]
          },
          "metadata": {
            "tags": []
          }
        }
      ]
    },
    {
      "cell_type": "markdown",
      "metadata": {
        "id": "veFm8eK-ZP8_"
      },
      "source": [
        "#Relation between Overall Rating ,Platform and Age"
      ]
    },
    {
      "cell_type": "markdown",
      "metadata": {
        "id": "FbdESoMXZUYs"
      },
      "source": [
        ""
      ]
    },
    {
      "cell_type": "code",
      "metadata": {
        "colab": {
          "base_uri": "https://localhost:8080/",
          "height": 301
        },
        "id": "DE_fQCTuYpuW",
        "outputId": "271d1c36-cdb3-4ab2-f89d-d92580d807ae"
      },
      "source": [
        "g = sns.catplot(x=\"Overall_Rating\", hue=\"Platforms\", col=\"Age\",\n",
        "                data=data, kind=\"count\",\n",
        "                height=4, aspect=0.998,palette=\"cool\");"
      ],
      "execution_count": null,
      "outputs": [
        {
          "output_type": "display_data",
          "data": {
            "image/png": "[encoded data removed]",
            "text/plain": [
              "<Figure size 1276.42x288 with 4 Axes>"
            ]
          },
          "metadata": {
            "tags": []
          }
        }
      ]
    },
    {
      "cell_type": "markdown",
      "metadata": {
        "id": "zkIQvigYZhXi"
      },
      "source": [
        "#Converting data into one_hot_encoding."
      ]
    },
    {
      "cell_type": "code",
      "metadata": {
        "colab": {
          "base_uri": "https://localhost:8080/",
          "height": 490
        },
        "id": "5IztiOZRYpxW",
        "outputId": "1a374052-cd3b-4bdd-f574-ce2bcd443030"
      },
      "source": [
        "one_hot_data = pd.get_dummies(data[['Platforms','Age','Overall_Rating','Features','Most_watched']])\n",
        "one_hot_data"
      ],
      "execution_count": null,
      "outputs": [
        {
          "output_type": "execute_result",
          "data": {
            "text/html": [
              "<div>\n",
              "<style scoped>\n",
              "    .dataframe tbody tr th:only-of-type {\n",
              "        vertical-align: middle;\n",
              "    }\n",
              "\n",
              "    .dataframe tbody tr th {\n",
              "        vertical-align: top;\n",
              "    }\n",
              "\n",
              "    .dataframe thead th {\n",
              "        text-align: right;\n",
              "    }\n",
              "</style>\n",
              "<table border=\"1\" class=\"dataframe\">\n",
              "  <thead>\n",
              "    <tr style=\"text-align: right;\">\n",
              "      <th></th>\n",
              "      <th>Overall_Rating</th>\n",
              "      <th>Platforms_All of the above</th>\n",
              "      <th>Platforms_Hotstar</th>\n",
              "      <th>Platforms_Netflix</th>\n",
              "      <th>Platforms_Prime</th>\n",
              "      <th>Age_18-30</th>\n",
              "      <th>Age_31-50</th>\n",
              "      <th>Age_Less than 18</th>\n",
              "      <th>Age_More than 50</th>\n",
              "      <th>Features_All of the above</th>\n",
              "      <th>Features_Ease of use</th>\n",
              "      <th>Features_Recommendation</th>\n",
              "      <th>Features_Search Option</th>\n",
              "      <th>Most_watched_All of the above</th>\n",
              "      <th>Most_watched_Documentaries</th>\n",
              "      <th>Most_watched_Documentaries, Sports and News</th>\n",
              "      <th>Most_watched_Movies</th>\n",
              "      <th>Most_watched_Movies, Documentaries</th>\n",
              "      <th>Most_watched_Movies, Documentaries, Sports and News</th>\n",
              "      <th>Most_watched_Movies, Sports and News</th>\n",
              "      <th>Most_watched_Original Web Series</th>\n",
              "      <th>Most_watched_Original Web Series, Documentaries</th>\n",
              "      <th>Most_watched_Original Web Series, Documentaries, Sports and News</th>\n",
              "      <th>Most_watched_Original Web Series, Movies</th>\n",
              "      <th>Most_watched_Original Web Series, Movies, Documentaries</th>\n",
              "      <th>Most_watched_Original Web Series, Movies, Sports and News</th>\n",
              "      <th>Most_watched_Original Web Series, Sports and News</th>\n",
              "      <th>Most_watched_Sports and News</th>\n",
              "    </tr>\n",
              "  </thead>\n",
              "  <tbody>\n",
              "    <tr>\n",
              "      <th>0</th>\n",
              "      <td>2</td>\n",
              "      <td>0</td>\n",
              "      <td>0</td>\n",
              "      <td>0</td>\n",
              "      <td>1</td>\n",
              "      <td>1</td>\n",
              "      <td>0</td>\n",
              "      <td>0</td>\n",
              "      <td>0</td>\n",
              "      <td>0</td>\n",
              "      <td>0</td>\n",
              "      <td>0</td>\n",
              "      <td>1</td>\n",
              "      <td>1</td>\n",
              "      <td>0</td>\n",
              "      <td>0</td>\n",
              "      <td>0</td>\n",
              "      <td>0</td>\n",
              "      <td>0</td>\n",
              "      <td>0</td>\n",
              "      <td>0</td>\n",
              "      <td>0</td>\n",
              "      <td>0</td>\n",
              "      <td>0</td>\n",
              "      <td>0</td>\n",
              "      <td>0</td>\n",
              "      <td>0</td>\n",
              "      <td>0</td>\n",
              "    </tr>\n",
              "    <tr>\n",
              "      <th>1</th>\n",
              "      <td>2</td>\n",
              "      <td>0</td>\n",
              "      <td>0</td>\n",
              "      <td>1</td>\n",
              "      <td>0</td>\n",
              "      <td>1</td>\n",
              "      <td>0</td>\n",
              "      <td>0</td>\n",
              "      <td>0</td>\n",
              "      <td>0</td>\n",
              "      <td>0</td>\n",
              "      <td>0</td>\n",
              "      <td>1</td>\n",
              "      <td>0</td>\n",
              "      <td>0</td>\n",
              "      <td>0</td>\n",
              "      <td>0</td>\n",
              "      <td>0</td>\n",
              "      <td>0</td>\n",
              "      <td>0</td>\n",
              "      <td>1</td>\n",
              "      <td>0</td>\n",
              "      <td>0</td>\n",
              "      <td>0</td>\n",
              "      <td>0</td>\n",
              "      <td>0</td>\n",
              "      <td>0</td>\n",
              "      <td>0</td>\n",
              "    </tr>\n",
              "    <tr>\n",
              "      <th>2</th>\n",
              "      <td>1</td>\n",
              "      <td>0</td>\n",
              "      <td>1</td>\n",
              "      <td>0</td>\n",
              "      <td>0</td>\n",
              "      <td>1</td>\n",
              "      <td>0</td>\n",
              "      <td>0</td>\n",
              "      <td>0</td>\n",
              "      <td>0</td>\n",
              "      <td>0</td>\n",
              "      <td>1</td>\n",
              "      <td>0</td>\n",
              "      <td>0</td>\n",
              "      <td>0</td>\n",
              "      <td>0</td>\n",
              "      <td>1</td>\n",
              "      <td>0</td>\n",
              "      <td>0</td>\n",
              "      <td>0</td>\n",
              "      <td>0</td>\n",
              "      <td>0</td>\n",
              "      <td>0</td>\n",
              "      <td>0</td>\n",
              "      <td>0</td>\n",
              "      <td>0</td>\n",
              "      <td>0</td>\n",
              "      <td>0</td>\n",
              "    </tr>\n",
              "    <tr>\n",
              "      <th>3</th>\n",
              "      <td>2</td>\n",
              "      <td>0</td>\n",
              "      <td>1</td>\n",
              "      <td>0</td>\n",
              "      <td>0</td>\n",
              "      <td>0</td>\n",
              "      <td>1</td>\n",
              "      <td>0</td>\n",
              "      <td>0</td>\n",
              "      <td>0</td>\n",
              "      <td>1</td>\n",
              "      <td>0</td>\n",
              "      <td>0</td>\n",
              "      <td>0</td>\n",
              "      <td>0</td>\n",
              "      <td>0</td>\n",
              "      <td>0</td>\n",
              "      <td>0</td>\n",
              "      <td>1</td>\n",
              "      <td>0</td>\n",
              "      <td>0</td>\n",
              "      <td>0</td>\n",
              "      <td>0</td>\n",
              "      <td>0</td>\n",
              "      <td>0</td>\n",
              "      <td>0</td>\n",
              "      <td>0</td>\n",
              "      <td>0</td>\n",
              "    </tr>\n",
              "    <tr>\n",
              "      <th>4</th>\n",
              "      <td>2</td>\n",
              "      <td>1</td>\n",
              "      <td>0</td>\n",
              "      <td>0</td>\n",
              "      <td>0</td>\n",
              "      <td>1</td>\n",
              "      <td>0</td>\n",
              "      <td>0</td>\n",
              "      <td>0</td>\n",
              "      <td>1</td>\n",
              "      <td>0</td>\n",
              "      <td>0</td>\n",
              "      <td>0</td>\n",
              "      <td>0</td>\n",
              "      <td>0</td>\n",
              "      <td>0</td>\n",
              "      <td>1</td>\n",
              "      <td>0</td>\n",
              "      <td>0</td>\n",
              "      <td>0</td>\n",
              "      <td>0</td>\n",
              "      <td>0</td>\n",
              "      <td>0</td>\n",
              "      <td>0</td>\n",
              "      <td>0</td>\n",
              "      <td>0</td>\n",
              "      <td>0</td>\n",
              "      <td>0</td>\n",
              "    </tr>\n",
              "    <tr>\n",
              "      <th>...</th>\n",
              "      <td>...</td>\n",
              "      <td>...</td>\n",
              "      <td>...</td>\n",
              "      <td>...</td>\n",
              "      <td>...</td>\n",
              "      <td>...</td>\n",
              "      <td>...</td>\n",
              "      <td>...</td>\n",
              "      <td>...</td>\n",
              "      <td>...</td>\n",
              "      <td>...</td>\n",
              "      <td>...</td>\n",
              "      <td>...</td>\n",
              "      <td>...</td>\n",
              "      <td>...</td>\n",
              "      <td>...</td>\n",
              "      <td>...</td>\n",
              "      <td>...</td>\n",
              "      <td>...</td>\n",
              "      <td>...</td>\n",
              "      <td>...</td>\n",
              "      <td>...</td>\n",
              "      <td>...</td>\n",
              "      <td>...</td>\n",
              "      <td>...</td>\n",
              "      <td>...</td>\n",
              "      <td>...</td>\n",
              "      <td>...</td>\n",
              "    </tr>\n",
              "    <tr>\n",
              "      <th>245</th>\n",
              "      <td>2</td>\n",
              "      <td>0</td>\n",
              "      <td>0</td>\n",
              "      <td>1</td>\n",
              "      <td>0</td>\n",
              "      <td>0</td>\n",
              "      <td>0</td>\n",
              "      <td>1</td>\n",
              "      <td>0</td>\n",
              "      <td>1</td>\n",
              "      <td>0</td>\n",
              "      <td>0</td>\n",
              "      <td>0</td>\n",
              "      <td>0</td>\n",
              "      <td>0</td>\n",
              "      <td>0</td>\n",
              "      <td>0</td>\n",
              "      <td>0</td>\n",
              "      <td>0</td>\n",
              "      <td>0</td>\n",
              "      <td>0</td>\n",
              "      <td>0</td>\n",
              "      <td>0</td>\n",
              "      <td>1</td>\n",
              "      <td>0</td>\n",
              "      <td>0</td>\n",
              "      <td>0</td>\n",
              "      <td>0</td>\n",
              "    </tr>\n",
              "    <tr>\n",
              "      <th>246</th>\n",
              "      <td>1</td>\n",
              "      <td>0</td>\n",
              "      <td>0</td>\n",
              "      <td>1</td>\n",
              "      <td>0</td>\n",
              "      <td>0</td>\n",
              "      <td>1</td>\n",
              "      <td>0</td>\n",
              "      <td>0</td>\n",
              "      <td>1</td>\n",
              "      <td>0</td>\n",
              "      <td>0</td>\n",
              "      <td>0</td>\n",
              "      <td>0</td>\n",
              "      <td>0</td>\n",
              "      <td>0</td>\n",
              "      <td>1</td>\n",
              "      <td>0</td>\n",
              "      <td>0</td>\n",
              "      <td>0</td>\n",
              "      <td>0</td>\n",
              "      <td>0</td>\n",
              "      <td>0</td>\n",
              "      <td>0</td>\n",
              "      <td>0</td>\n",
              "      <td>0</td>\n",
              "      <td>0</td>\n",
              "      <td>0</td>\n",
              "    </tr>\n",
              "    <tr>\n",
              "      <th>247</th>\n",
              "      <td>2</td>\n",
              "      <td>0</td>\n",
              "      <td>0</td>\n",
              "      <td>0</td>\n",
              "      <td>1</td>\n",
              "      <td>1</td>\n",
              "      <td>0</td>\n",
              "      <td>0</td>\n",
              "      <td>0</td>\n",
              "      <td>0</td>\n",
              "      <td>1</td>\n",
              "      <td>0</td>\n",
              "      <td>0</td>\n",
              "      <td>0</td>\n",
              "      <td>0</td>\n",
              "      <td>0</td>\n",
              "      <td>0</td>\n",
              "      <td>0</td>\n",
              "      <td>0</td>\n",
              "      <td>1</td>\n",
              "      <td>0</td>\n",
              "      <td>0</td>\n",
              "      <td>0</td>\n",
              "      <td>0</td>\n",
              "      <td>0</td>\n",
              "      <td>0</td>\n",
              "      <td>0</td>\n",
              "      <td>0</td>\n",
              "    </tr>\n",
              "    <tr>\n",
              "      <th>248</th>\n",
              "      <td>1</td>\n",
              "      <td>0</td>\n",
              "      <td>0</td>\n",
              "      <td>0</td>\n",
              "      <td>1</td>\n",
              "      <td>1</td>\n",
              "      <td>0</td>\n",
              "      <td>0</td>\n",
              "      <td>0</td>\n",
              "      <td>0</td>\n",
              "      <td>0</td>\n",
              "      <td>1</td>\n",
              "      <td>0</td>\n",
              "      <td>0</td>\n",
              "      <td>0</td>\n",
              "      <td>0</td>\n",
              "      <td>0</td>\n",
              "      <td>0</td>\n",
              "      <td>0</td>\n",
              "      <td>1</td>\n",
              "      <td>0</td>\n",
              "      <td>0</td>\n",
              "      <td>0</td>\n",
              "      <td>0</td>\n",
              "      <td>0</td>\n",
              "      <td>0</td>\n",
              "      <td>0</td>\n",
              "      <td>0</td>\n",
              "    </tr>\n",
              "    <tr>\n",
              "      <th>249</th>\n",
              "      <td>1</td>\n",
              "      <td>1</td>\n",
              "      <td>0</td>\n",
              "      <td>0</td>\n",
              "      <td>0</td>\n",
              "      <td>0</td>\n",
              "      <td>1</td>\n",
              "      <td>0</td>\n",
              "      <td>0</td>\n",
              "      <td>0</td>\n",
              "      <td>1</td>\n",
              "      <td>0</td>\n",
              "      <td>0</td>\n",
              "      <td>1</td>\n",
              "      <td>0</td>\n",
              "      <td>0</td>\n",
              "      <td>0</td>\n",
              "      <td>0</td>\n",
              "      <td>0</td>\n",
              "      <td>0</td>\n",
              "      <td>0</td>\n",
              "      <td>0</td>\n",
              "      <td>0</td>\n",
              "      <td>0</td>\n",
              "      <td>0</td>\n",
              "      <td>0</td>\n",
              "      <td>0</td>\n",
              "      <td>0</td>\n",
              "    </tr>\n",
              "  </tbody>\n",
              "</table>\n",
              "<p>250 rows × 28 columns</p>\n",
              "</div>"
            ],
            "text/plain": [
              "     Overall_Rating  ...  Most_watched_Sports and News\n",
              "0                 2  ...                             0\n",
              "1                 2  ...                             0\n",
              "2                 1  ...                             0\n",
              "3                 2  ...                             0\n",
              "4                 2  ...                             0\n",
              "..              ...  ...                           ...\n",
              "245               2  ...                             0\n",
              "246               1  ...                             0\n",
              "247               2  ...                             0\n",
              "248               1  ...                             0\n",
              "249               1  ...                             0\n",
              "\n",
              "[250 rows x 28 columns]"
            ]
          },
          "metadata": {
            "tags": []
          },
          "execution_count": 444
        }
      ]
    },
    {
      "cell_type": "code",
      "metadata": {
        "colab": {
          "base_uri": "https://localhost:8080/",
          "height": 490
        },
        "id": "7P-P8DywYp1c",
        "outputId": "aa6d5c5d-e5c3-4796-e67b-3cd995fdbdfb"
      },
      "source": [
        "one_hot_data = pd.get_dummies(data[['Platforms','Age','Overall_Rating','Features','Most_watched']],drop_first=True)\n",
        "one_hot_data"
      ],
      "execution_count": null,
      "outputs": [
        {
          "output_type": "execute_result",
          "data": {
            "text/html": [
              "<div>\n",
              "<style scoped>\n",
              "    .dataframe tbody tr th:only-of-type {\n",
              "        vertical-align: middle;\n",
              "    }\n",
              "\n",
              "    .dataframe tbody tr th {\n",
              "        vertical-align: top;\n",
              "    }\n",
              "\n",
              "    .dataframe thead th {\n",
              "        text-align: right;\n",
              "    }\n",
              "</style>\n",
              "<table border=\"1\" class=\"dataframe\">\n",
              "  <thead>\n",
              "    <tr style=\"text-align: right;\">\n",
              "      <th></th>\n",
              "      <th>Overall_Rating</th>\n",
              "      <th>Platforms_Hotstar</th>\n",
              "      <th>Platforms_Netflix</th>\n",
              "      <th>Platforms_Prime</th>\n",
              "      <th>Age_31-50</th>\n",
              "      <th>Age_Less than 18</th>\n",
              "      <th>Age_More than 50</th>\n",
              "      <th>Features_Ease of use</th>\n",
              "      <th>Features_Recommendation</th>\n",
              "      <th>Features_Search Option</th>\n",
              "      <th>Most_watched_Documentaries</th>\n",
              "      <th>Most_watched_Documentaries, Sports and News</th>\n",
              "      <th>Most_watched_Movies</th>\n",
              "      <th>Most_watched_Movies, Documentaries</th>\n",
              "      <th>Most_watched_Movies, Documentaries, Sports and News</th>\n",
              "      <th>Most_watched_Movies, Sports and News</th>\n",
              "      <th>Most_watched_Original Web Series</th>\n",
              "      <th>Most_watched_Original Web Series, Documentaries</th>\n",
              "      <th>Most_watched_Original Web Series, Documentaries, Sports and News</th>\n",
              "      <th>Most_watched_Original Web Series, Movies</th>\n",
              "      <th>Most_watched_Original Web Series, Movies, Documentaries</th>\n",
              "      <th>Most_watched_Original Web Series, Movies, Sports and News</th>\n",
              "      <th>Most_watched_Original Web Series, Sports and News</th>\n",
              "      <th>Most_watched_Sports and News</th>\n",
              "    </tr>\n",
              "  </thead>\n",
              "  <tbody>\n",
              "    <tr>\n",
              "      <th>0</th>\n",
              "      <td>2</td>\n",
              "      <td>0</td>\n",
              "      <td>0</td>\n",
              "      <td>1</td>\n",
              "      <td>0</td>\n",
              "      <td>0</td>\n",
              "      <td>0</td>\n",
              "      <td>0</td>\n",
              "      <td>0</td>\n",
              "      <td>1</td>\n",
              "      <td>0</td>\n",
              "      <td>0</td>\n",
              "      <td>0</td>\n",
              "      <td>0</td>\n",
              "      <td>0</td>\n",
              "      <td>0</td>\n",
              "      <td>0</td>\n",
              "      <td>0</td>\n",
              "      <td>0</td>\n",
              "      <td>0</td>\n",
              "      <td>0</td>\n",
              "      <td>0</td>\n",
              "      <td>0</td>\n",
              "      <td>0</td>\n",
              "    </tr>\n",
              "    <tr>\n",
              "      <th>1</th>\n",
              "      <td>2</td>\n",
              "      <td>0</td>\n",
              "      <td>1</td>\n",
              "      <td>0</td>\n",
              "      <td>0</td>\n",
              "      <td>0</td>\n",
              "      <td>0</td>\n",
              "      <td>0</td>\n",
              "      <td>0</td>\n",
              "      <td>1</td>\n",
              "      <td>0</td>\n",
              "      <td>0</td>\n",
              "      <td>0</td>\n",
              "      <td>0</td>\n",
              "      <td>0</td>\n",
              "      <td>0</td>\n",
              "      <td>1</td>\n",
              "      <td>0</td>\n",
              "      <td>0</td>\n",
              "      <td>0</td>\n",
              "      <td>0</td>\n",
              "      <td>0</td>\n",
              "      <td>0</td>\n",
              "      <td>0</td>\n",
              "    </tr>\n",
              "    <tr>\n",
              "      <th>2</th>\n",
              "      <td>1</td>\n",
              "      <td>1</td>\n",
              "      <td>0</td>\n",
              "      <td>0</td>\n",
              "      <td>0</td>\n",
              "      <td>0</td>\n",
              "      <td>0</td>\n",
              "      <td>0</td>\n",
              "      <td>1</td>\n",
              "      <td>0</td>\n",
              "      <td>0</td>\n",
              "      <td>0</td>\n",
              "      <td>1</td>\n",
              "      <td>0</td>\n",
              "      <td>0</td>\n",
              "      <td>0</td>\n",
              "      <td>0</td>\n",
              "      <td>0</td>\n",
              "      <td>0</td>\n",
              "      <td>0</td>\n",
              "      <td>0</td>\n",
              "      <td>0</td>\n",
              "      <td>0</td>\n",
              "      <td>0</td>\n",
              "    </tr>\n",
              "    <tr>\n",
              "      <th>3</th>\n",
              "      <td>2</td>\n",
              "      <td>1</td>\n",
              "      <td>0</td>\n",
              "      <td>0</td>\n",
              "      <td>1</td>\n",
              "      <td>0</td>\n",
              "      <td>0</td>\n",
              "      <td>1</td>\n",
              "      <td>0</td>\n",
              "      <td>0</td>\n",
              "      <td>0</td>\n",
              "      <td>0</td>\n",
              "      <td>0</td>\n",
              "      <td>0</td>\n",
              "      <td>1</td>\n",
              "      <td>0</td>\n",
              "      <td>0</td>\n",
              "      <td>0</td>\n",
              "      <td>0</td>\n",
              "      <td>0</td>\n",
              "      <td>0</td>\n",
              "      <td>0</td>\n",
              "      <td>0</td>\n",
              "      <td>0</td>\n",
              "    </tr>\n",
              "    <tr>\n",
              "      <th>4</th>\n",
              "      <td>2</td>\n",
              "      <td>0</td>\n",
              "      <td>0</td>\n",
              "      <td>0</td>\n",
              "      <td>0</td>\n",
              "      <td>0</td>\n",
              "      <td>0</td>\n",
              "      <td>0</td>\n",
              "      <td>0</td>\n",
              "      <td>0</td>\n",
              "      <td>0</td>\n",
              "      <td>0</td>\n",
              "      <td>1</td>\n",
              "      <td>0</td>\n",
              "      <td>0</td>\n",
              "      <td>0</td>\n",
              "      <td>0</td>\n",
              "      <td>0</td>\n",
              "      <td>0</td>\n",
              "      <td>0</td>\n",
              "      <td>0</td>\n",
              "      <td>0</td>\n",
              "      <td>0</td>\n",
              "      <td>0</td>\n",
              "    </tr>\n",
              "    <tr>\n",
              "      <th>...</th>\n",
              "      <td>...</td>\n",
              "      <td>...</td>\n",
              "      <td>...</td>\n",
              "      <td>...</td>\n",
              "      <td>...</td>\n",
              "      <td>...</td>\n",
              "      <td>...</td>\n",
              "      <td>...</td>\n",
              "      <td>...</td>\n",
              "      <td>...</td>\n",
              "      <td>...</td>\n",
              "      <td>...</td>\n",
              "      <td>...</td>\n",
              "      <td>...</td>\n",
              "      <td>...</td>\n",
              "      <td>...</td>\n",
              "      <td>...</td>\n",
              "      <td>...</td>\n",
              "      <td>...</td>\n",
              "      <td>...</td>\n",
              "      <td>...</td>\n",
              "      <td>...</td>\n",
              "      <td>...</td>\n",
              "      <td>...</td>\n",
              "    </tr>\n",
              "    <tr>\n",
              "      <th>245</th>\n",
              "      <td>2</td>\n",
              "      <td>0</td>\n",
              "      <td>1</td>\n",
              "      <td>0</td>\n",
              "      <td>0</td>\n",
              "      <td>1</td>\n",
              "      <td>0</td>\n",
              "      <td>0</td>\n",
              "      <td>0</td>\n",
              "      <td>0</td>\n",
              "      <td>0</td>\n",
              "      <td>0</td>\n",
              "      <td>0</td>\n",
              "      <td>0</td>\n",
              "      <td>0</td>\n",
              "      <td>0</td>\n",
              "      <td>0</td>\n",
              "      <td>0</td>\n",
              "      <td>0</td>\n",
              "      <td>1</td>\n",
              "      <td>0</td>\n",
              "      <td>0</td>\n",
              "      <td>0</td>\n",
              "      <td>0</td>\n",
              "    </tr>\n",
              "    <tr>\n",
              "      <th>246</th>\n",
              "      <td>1</td>\n",
              "      <td>0</td>\n",
              "      <td>1</td>\n",
              "      <td>0</td>\n",
              "      <td>1</td>\n",
              "      <td>0</td>\n",
              "      <td>0</td>\n",
              "      <td>0</td>\n",
              "      <td>0</td>\n",
              "      <td>0</td>\n",
              "      <td>0</td>\n",
              "      <td>0</td>\n",
              "      <td>1</td>\n",
              "      <td>0</td>\n",
              "      <td>0</td>\n",
              "      <td>0</td>\n",
              "      <td>0</td>\n",
              "      <td>0</td>\n",
              "      <td>0</td>\n",
              "      <td>0</td>\n",
              "      <td>0</td>\n",
              "      <td>0</td>\n",
              "      <td>0</td>\n",
              "      <td>0</td>\n",
              "    </tr>\n",
              "    <tr>\n",
              "      <th>247</th>\n",
              "      <td>2</td>\n",
              "      <td>0</td>\n",
              "      <td>0</td>\n",
              "      <td>1</td>\n",
              "      <td>0</td>\n",
              "      <td>0</td>\n",
              "      <td>0</td>\n",
              "      <td>1</td>\n",
              "      <td>0</td>\n",
              "      <td>0</td>\n",
              "      <td>0</td>\n",
              "      <td>0</td>\n",
              "      <td>0</td>\n",
              "      <td>0</td>\n",
              "      <td>0</td>\n",
              "      <td>1</td>\n",
              "      <td>0</td>\n",
              "      <td>0</td>\n",
              "      <td>0</td>\n",
              "      <td>0</td>\n",
              "      <td>0</td>\n",
              "      <td>0</td>\n",
              "      <td>0</td>\n",
              "      <td>0</td>\n",
              "    </tr>\n",
              "    <tr>\n",
              "      <th>248</th>\n",
              "      <td>1</td>\n",
              "      <td>0</td>\n",
              "      <td>0</td>\n",
              "      <td>1</td>\n",
              "      <td>0</td>\n",
              "      <td>0</td>\n",
              "      <td>0</td>\n",
              "      <td>0</td>\n",
              "      <td>1</td>\n",
              "      <td>0</td>\n",
              "      <td>0</td>\n",
              "      <td>0</td>\n",
              "      <td>0</td>\n",
              "      <td>0</td>\n",
              "      <td>0</td>\n",
              "      <td>1</td>\n",
              "      <td>0</td>\n",
              "      <td>0</td>\n",
              "      <td>0</td>\n",
              "      <td>0</td>\n",
              "      <td>0</td>\n",
              "      <td>0</td>\n",
              "      <td>0</td>\n",
              "      <td>0</td>\n",
              "    </tr>\n",
              "    <tr>\n",
              "      <th>249</th>\n",
              "      <td>1</td>\n",
              "      <td>0</td>\n",
              "      <td>0</td>\n",
              "      <td>0</td>\n",
              "      <td>1</td>\n",
              "      <td>0</td>\n",
              "      <td>0</td>\n",
              "      <td>1</td>\n",
              "      <td>0</td>\n",
              "      <td>0</td>\n",
              "      <td>0</td>\n",
              "      <td>0</td>\n",
              "      <td>0</td>\n",
              "      <td>0</td>\n",
              "      <td>0</td>\n",
              "      <td>0</td>\n",
              "      <td>0</td>\n",
              "      <td>0</td>\n",
              "      <td>0</td>\n",
              "      <td>0</td>\n",
              "      <td>0</td>\n",
              "      <td>0</td>\n",
              "      <td>0</td>\n",
              "      <td>0</td>\n",
              "    </tr>\n",
              "  </tbody>\n",
              "</table>\n",
              "<p>250 rows × 24 columns</p>\n",
              "</div>"
            ],
            "text/plain": [
              "     Overall_Rating  ...  Most_watched_Sports and News\n",
              "0                 2  ...                             0\n",
              "1                 2  ...                             0\n",
              "2                 1  ...                             0\n",
              "3                 2  ...                             0\n",
              "4                 2  ...                             0\n",
              "..              ...  ...                           ...\n",
              "245               2  ...                             0\n",
              "246               1  ...                             0\n",
              "247               2  ...                             0\n",
              "248               1  ...                             0\n",
              "249               1  ...                             0\n",
              "\n",
              "[250 rows x 24 columns]"
            ]
          },
          "metadata": {
            "tags": []
          },
          "execution_count": 446
        }
      ]
    },
    {
      "cell_type": "code",
      "metadata": {
        "colab": {
          "base_uri": "https://localhost:8080/"
        },
        "id": "zQiGNrEjndWz",
        "outputId": "51c4fa14-79c9-4d4f-fac9-d3263bc4a6bb"
      },
      "source": [
        "one_hot_data.columns"
      ],
      "execution_count": null,
      "outputs": [
        {
          "output_type": "execute_result",
          "data": {
            "text/plain": [
              "Index(['Overall_Rating', 'Platforms_Hotstar', 'Platforms_Netflix',\n",
              "       'Platforms_Prime', 'Age_31-50', 'Age_Less than 18', 'Age_More than 50',\n",
              "       'Features_Ease of use', 'Features_Recommendation',\n",
              "       'Features_Search Option', 'Most_watched_Documentaries',\n",
              "       'Most_watched_Documentaries, Sports and News', 'Most_watched_Movies',\n",
              "       'Most_watched_Movies, Documentaries',\n",
              "       'Most_watched_Movies, Documentaries, Sports and News',\n",
              "       'Most_watched_Movies, Sports and News',\n",
              "       'Most_watched_Original Web Series',\n",
              "       'Most_watched_Original Web Series, Documentaries',\n",
              "       'Most_watched_Original Web Series, Documentaries, Sports and News',\n",
              "       'Most_watched_Original Web Series, Movies',\n",
              "       'Most_watched_Original Web Series, Movies, Documentaries',\n",
              "       'Most_watched_Original Web Series, Movies, Sports and News',\n",
              "       'Most_watched_Original Web Series, Sports and News',\n",
              "       'Most_watched_Sports and News'],\n",
              "      dtype='object')"
            ]
          },
          "metadata": {
            "tags": []
          },
          "execution_count": 447
        }
      ]
    },
    {
      "cell_type": "code",
      "metadata": {
        "colab": {
          "base_uri": "https://localhost:8080/",
          "height": 203
        },
        "id": "8ehXxefxndZz",
        "outputId": "f7e4d718-c36d-4efa-8cb3-ae957093fafc"
      },
      "source": [
        "plt.figure(figsize=(12,8))\n",
        "\n",
        "ax = sns.countplot(y=\"Most_watched\", hue=\"Platforms\", data=data , palette=\"cool\")\n"
      ],
      "execution_count": null,
      "outputs": [
        {
          "output_type": "error",
          "ename": "NameError",
          "evalue": "ignored",
          "traceback": [
            "\u001b[0;31m---------------------------------------------------------------------------\u001b[0m",
            "\u001b[0;31mNameError\u001b[0m                                 Traceback (most recent call last)",
            "\u001b[0;32m<ipython-input-1-c046cc328dbf>\u001b[0m in \u001b[0;36m<module>\u001b[0;34m()\u001b[0m\n\u001b[0;32m----> 1\u001b[0;31m \u001b[0mplt\u001b[0m\u001b[0;34m.\u001b[0m\u001b[0mfigure\u001b[0m\u001b[0;34m(\u001b[0m\u001b[0mfigsize\u001b[0m\u001b[0;34m=\u001b[0m\u001b[0;34m(\u001b[0m\u001b[0;36m12\u001b[0m\u001b[0;34m,\u001b[0m\u001b[0;36m8\u001b[0m\u001b[0;34m)\u001b[0m\u001b[0;34m)\u001b[0m\u001b[0;34m\u001b[0m\u001b[0;34m\u001b[0m\u001b[0m\n\u001b[0m\u001b[1;32m      2\u001b[0m \u001b[0;34m\u001b[0m\u001b[0m\n\u001b[1;32m      3\u001b[0m \u001b[0max\u001b[0m \u001b[0;34m=\u001b[0m \u001b[0msns\u001b[0m\u001b[0;34m.\u001b[0m\u001b[0mcountplot\u001b[0m\u001b[0;34m(\u001b[0m\u001b[0my\u001b[0m\u001b[0;34m=\u001b[0m\u001b[0;34m\"Most_watched\"\u001b[0m\u001b[0;34m,\u001b[0m \u001b[0mhue\u001b[0m\u001b[0;34m=\u001b[0m\u001b[0;34m\"Platforms\"\u001b[0m\u001b[0;34m,\u001b[0m \u001b[0mdata\u001b[0m\u001b[0;34m=\u001b[0m\u001b[0mdata\u001b[0m \u001b[0;34m,\u001b[0m \u001b[0mpalette\u001b[0m\u001b[0;34m=\u001b[0m\u001b[0;34m\"cool\"\u001b[0m\u001b[0;34m)\u001b[0m\u001b[0;34m\u001b[0m\u001b[0;34m\u001b[0m\u001b[0m\n",
            "\u001b[0;31mNameError\u001b[0m: name 'plt' is not defined"
          ]
        }
      ]
    },
    {
      "cell_type": "code",
      "metadata": {
        "colab": {
          "base_uri": "https://localhost:8080/"
        },
        "id": "km9QTltUYp3H",
        "outputId": "313dc646-52de-4ee7-cf04-e6b56d4846d2"
      },
      "source": [
        "one_hot_data[\"Platforms_Netflix\"].value_counts()"
      ],
      "execution_count": null,
      "outputs": [
        {
          "output_type": "execute_result",
          "data": {
            "text/plain": [
              "0    196\n",
              "1     54\n",
              "Name: Platforms_Netflix, dtype: int64"
            ]
          },
          "metadata": {
            "tags": []
          },
          "execution_count": 449
        }
      ]
    },
    {
      "cell_type": "code",
      "metadata": {
        "id": "HyDyAlj1k4Ss"
      },
      "source": [
        "train, test = train_test_split(one_hot_data, test_size =0.35)"
      ],
      "execution_count": null,
      "outputs": []
    },
    {
      "cell_type": "code",
      "metadata": {
        "colab": {
          "base_uri": "https://localhost:8080/"
        },
        "id": "z5F1HiBxk4Vk",
        "outputId": "bdc973fa-a52b-44ad-98e2-1f4b28cdd830"
      },
      "source": [
        "train.shape"
      ],
      "execution_count": null,
      "outputs": [
        {
          "output_type": "execute_result",
          "data": {
            "text/plain": [
              "(162, 24)"
            ]
          },
          "metadata": {
            "tags": []
          },
          "execution_count": 497
        }
      ]
    },
    {
      "cell_type": "code",
      "metadata": {
        "colab": {
          "base_uri": "https://localhost:8080/"
        },
        "id": "iIq2c1pAk4Z9",
        "outputId": "b0718d1d-1a2c-46af-e7f0-d3236bb562e4"
      },
      "source": [
        "test.shape"
      ],
      "execution_count": null,
      "outputs": [
        {
          "output_type": "execute_result",
          "data": {
            "text/plain": [
              "(88, 24)"
            ]
          },
          "metadata": {
            "tags": []
          },
          "execution_count": 498
        }
      ]
    },
    {
      "cell_type": "markdown",
      "metadata": {
        "id": "v35R2gDBr-WE"
      },
      "source": [
        "**Netflix**"
      ]
    },
    {
      "cell_type": "code",
      "metadata": {
        "id": "njgC1YuUYp70"
      },
      "source": [
        "features=['Overall_Rating','Age_31-50', 'Age_Less than 18','Most_watched_Movies','Most_watched_Original Web Series','Most_watched_Original Web Series, Movies','Most_watched_Movies, Documentaries' ]"
      ],
      "execution_count": null,
      "outputs": []
    },
    {
      "cell_type": "code",
      "metadata": {
        "id": "_ryB3uiOYp9x"
      },
      "source": [
        "X_train =train[features]\n",
        "Y_train =train[\"Platforms_Netflix\"]\n",
        "\n",
        "X_test = test[features]\n",
        "Y_test = test[\"Platforms_Netflix\"]"
      ],
      "execution_count": null,
      "outputs": []
    },
    {
      "cell_type": "code",
      "metadata": {
        "id": "gCSnHLoYlgOm"
      },
      "source": [
        "from sklearn.model_selection import GridSearchCV"
      ],
      "execution_count": null,
      "outputs": []
    },
    {
      "cell_type": "code",
      "metadata": {
        "id": "2F0AsfTklgRa"
      },
      "source": [
        "gdtree = DecisionTreeClassifier()"
      ],
      "execution_count": null,
      "outputs": []
    },
    {
      "cell_type": "code",
      "metadata": {
        "id": "tcy2jVkQlgUW"
      },
      "source": [
        "param_dict ={ \n",
        "    \"criterion\": ['gini', 'entropy'], \n",
        "    \"min_samples_split\":range(2,100)\n",
        "    }"
      ],
      "execution_count": null,
      "outputs": []
    },
    {
      "cell_type": "code",
      "metadata": {
        "id": "vB-8zgt8lgWz"
      },
      "source": [
        "grid =GridSearchCV(gdtree,param_grid=param_dict, cv=5)"
      ],
      "execution_count": null,
      "outputs": []
    },
    {
      "cell_type": "code",
      "metadata": {
        "colab": {
          "base_uri": "https://localhost:8080/"
        },
        "id": "qZg8oWqDlgZ2",
        "outputId": "7715b7c9-a14f-4525-a0d0-e06dda76b30c"
      },
      "source": [
        "grid.fit(X_train,Y_train)"
      ],
      "execution_count": null,
      "outputs": [
        {
          "output_type": "execute_result",
          "data": {
            "text/plain": [
              "GridSearchCV(cv=5, error_score=nan,\n",
              "             estimator=DecisionTreeClassifier(ccp_alpha=0.0, class_weight=None,\n",
              "                                              criterion='gini', max_depth=None,\n",
              "                                              max_features=None,\n",
              "                                              max_leaf_nodes=None,\n",
              "                                              min_impurity_decrease=0.0,\n",
              "                                              min_impurity_split=None,\n",
              "                                              min_samples_leaf=1,\n",
              "                                              min_samples_split=2,\n",
              "                                              min_weight_fraction_leaf=0.0,\n",
              "                                              presort='deprecated',\n",
              "                                              random_state=None,\n",
              "                                              splitter='best'),\n",
              "             iid='deprecated', n_jobs=None,\n",
              "             param_grid={'criterion': ['gini', 'entropy'],\n",
              "                         'min_samples_split': range(2, 100)},\n",
              "             pre_dispatch='2*n_jobs', refit=True, return_train_score=False,\n",
              "             scoring=None, verbose=0)"
            ]
          },
          "metadata": {
            "tags": []
          },
          "execution_count": 505
        }
      ]
    },
    {
      "cell_type": "code",
      "metadata": {
        "colab": {
          "base_uri": "https://localhost:8080/"
        },
        "id": "lmZw5m4Mlgco",
        "outputId": "d59a92fc-52e7-4f99-9d32-29cec069c091"
      },
      "source": [
        "grid.best_params_"
      ],
      "execution_count": null,
      "outputs": [
        {
          "output_type": "execute_result",
          "data": {
            "text/plain": [
              "{'criterion': 'gini', 'min_samples_split': 3}"
            ]
          },
          "metadata": {
            "tags": []
          },
          "execution_count": 506
        }
      ]
    },
    {
      "cell_type": "code",
      "metadata": {
        "colab": {
          "base_uri": "https://localhost:8080/"
        },
        "id": "BsbwMjtLp8jv",
        "outputId": "90635f50-cc46-4d56-88d3-1714a9602d62"
      },
      "source": [
        "path = gdtree.cost_complexity_pruning_path(X_train, Y_train)\n",
        "alphas = path ['ccp_alphas']\n",
        "alphas"
      ],
      "execution_count": null,
      "outputs": [
        {
          "output_type": "execute_result",
          "data": {
            "text/plain": [
              "array([0.00000000e+00, 6.08161528e-05, 2.50419453e-04, 5.14403292e-04,\n",
              "       8.11873883e-04, 8.16513162e-04, 1.00208434e-03, 1.10661549e-03,\n",
              "       1.54320988e-03, 2.05761317e-03, 2.77777778e-03, 2.96538368e-03,\n",
              "       4.11522634e-03, 4.58286569e-03, 5.58628010e-03, 5.80973130e-03,\n",
              "       6.59532390e-03, 6.98999872e-03, 7.20164609e-03, 1.69789160e-02,\n",
              "       2.89664553e-02])"
            ]
          },
          "metadata": {
            "tags": []
          },
          "execution_count": 507
        }
      ]
    },
    {
      "cell_type": "code",
      "metadata": {
        "colab": {
          "base_uri": "https://localhost:8080/"
        },
        "id": "8gg0K2O6lgfP",
        "outputId": "6ff4fd24-f433-4e67-ee46-4d08bd4e16a3"
      },
      "source": [
        "grid.best_score_"
      ],
      "execution_count": null,
      "outputs": [
        {
          "output_type": "execute_result",
          "data": {
            "text/plain": [
              "0.740719696969697"
            ]
          },
          "metadata": {
            "tags": []
          },
          "execution_count": 508
        }
      ]
    },
    {
      "cell_type": "code",
      "metadata": {
        "id": "IYI_qYFFlgjd"
      },
      "source": [
        "from sklearn.metrics import accuracy_score"
      ],
      "execution_count": null,
      "outputs": []
    },
    {
      "cell_type": "code",
      "metadata": {
        "id": "RvgBJJmqqDq5"
      },
      "source": [
        "accuracy_train, accuracy_test = [], []\n",
        "for i in alphas:\n",
        "  gdtree_1 = DecisionTreeClassifier(ccp_alpha=i)\n",
        "  gdtree_1.fit(X_train, Y_train)\n",
        "  Y_train_pred = gdtree_1.predict(X_train)\n",
        "  Y_test_pred = gdtree_1.predict(X_test)\n",
        "\n",
        "  accuracy_train.append(accuracy_score(Y_train, Y_train_pred))\n",
        "  accuracy_test.append(accuracy_score(Y_test, Y_test_pred))\n"
      ],
      "execution_count": null,
      "outputs": []
    },
    {
      "cell_type": "code",
      "metadata": {
        "colab": {
          "base_uri": "https://localhost:8080/",
          "height": 448
        },
        "id": "7_v6NU_aqeu-",
        "outputId": "f35ffbb2-e056-4779-99bc-0eae04baefad"
      },
      "source": [
        "sns.set()\n",
        "plt.figure(figsize=(14,7))\n",
        "sns.lineplot(y = accuracy_train, x = alphas, label = \"Train Accuracy\")\n",
        "sns.lineplot(y = accuracy_test, x = alphas, label = \"Test Accuracy\")\n",
        "plt.xticks(ticks = np.arange(0.0,0.15,0.02))\n",
        "plt.show"
      ],
      "execution_count": null,
      "outputs": [
        {
          "output_type": "execute_result",
          "data": {
            "text/plain": [
              "<function matplotlib.pyplot.show>"
            ]
          },
          "metadata": {
            "tags": []
          },
          "execution_count": 511
        },
        {
          "output_type": "display_data",
          "data": {
            "image/png": "[encoded data removed]",
            "text/plain": [
              "<Figure size 1008x504 with 1 Axes>"
            ]
          },
          "metadata": {
            "tags": []
          }
        }
      ]
    },
    {
      "cell_type": "code",
      "metadata": {
        "id": "YzTbLh1El1yT"
      },
      "source": [
        "gt1=DecisionTreeClassifier(\n",
        "    criterion='gini',ccp_alpha=0.025,\n",
        "    min_samples_split=51)"
      ],
      "execution_count": null,
      "outputs": []
    },
    {
      "cell_type": "code",
      "metadata": {
        "id": "WOURTUfPl11X"
      },
      "source": [
        "gt_fit = gt1.fit(X_train, Y_train)\n",
        "gt_p1 = gt1.predict(X_train)"
      ],
      "execution_count": null,
      "outputs": []
    },
    {
      "cell_type": "code",
      "metadata": {
        "colab": {
          "base_uri": "https://localhost:8080/"
        },
        "id": "7wlGdxmal15x",
        "outputId": "299bf091-1810-417f-962b-2dc3dd4137be"
      },
      "source": [
        "gtrain_score = accuracy_score(Y_train, gt_p1)*100\n",
        "gtrain_score"
      ],
      "execution_count": null,
      "outputs": [
        {
          "output_type": "execute_result",
          "data": {
            "text/plain": [
              "75.92592592592592"
            ]
          },
          "metadata": {
            "tags": []
          },
          "execution_count": 532
        }
      ]
    },
    {
      "cell_type": "code",
      "metadata": {
        "colab": {
          "base_uri": "https://localhost:8080/"
        },
        "id": "jXaTkhjjl17z",
        "outputId": "4469d74a-64c2-4d22-efac-9ba18bb82ff2"
      },
      "source": [
        "gt_pt1 = gt1.predict(X_test)\n",
        "gtest_score = accuracy_score(Y_test, gt_pt1)*100\n",
        "gtest_score"
      ],
      "execution_count": null,
      "outputs": [
        {
          "output_type": "execute_result",
          "data": {
            "text/plain": [
              "80.68181818181817"
            ]
          },
          "metadata": {
            "tags": []
          },
          "execution_count": 533
        }
      ]
    },
    {
      "cell_type": "code",
      "metadata": {
        "id": "RHdtI1i-s1xD"
      },
      "source": [
        ""
      ],
      "execution_count": null,
      "outputs": []
    },
    {
      "cell_type": "code",
      "metadata": {
        "id": "LeIAXmObs10L"
      },
      "source": [
        ""
      ],
      "execution_count": null,
      "outputs": []
    },
    {
      "cell_type": "code",
      "metadata": {
        "colab": {
          "base_uri": "https://localhost:8080/",
          "height": 426
        },
        "id": "J-dM-1aql19v",
        "outputId": "21d46b2b-f791-4fce-ca0b-bff0806e70f0"
      },
      "source": [
        "print(classification_report(Y_test, gt_pt1))\n",
        "rf_cm = confusion_matrix(Y_test, gt_pt1)\n",
        "df_cm3 = pd.DataFrame(rf_cm, range(2), range(2))\n",
        "# plt.figure(figsize=(10,7))\n",
        "sns.set(font_scale=1.4) # for label size\n",
        "sns.heatmap(df_cm3, annot=True, cmap='Blues', annot_kws={\"size\": 16}, fmt='g') # font size\n",
        "plt.show()"
      ],
      "execution_count": null,
      "outputs": [
        {
          "output_type": "stream",
          "text": [
            "              precision    recall  f1-score   support\n",
            "\n",
            "           0       0.87      0.91      0.89        75\n",
            "           1       0.30      0.23      0.26        13\n",
            "\n",
            "    accuracy                           0.81        88\n",
            "   macro avg       0.59      0.57      0.57        88\n",
            "weighted avg       0.79      0.81      0.80        88\n",
            "\n"
          ],
          "name": "stdout"
        },
        {
          "output_type": "display_data",
          "data": {
            "image/png": "[encoded data removed]",
            "text/plain": [
              "<Figure size 432x288 with 2 Axes>"
            ]
          },
          "metadata": {
            "tags": []
          }
        }
      ]
    },
    {
      "cell_type": "markdown",
      "metadata": {
        "id": "nuRc2kSKt_Hy"
      },
      "source": [
        "**Prime**"
      ]
    },
    {
      "cell_type": "code",
      "metadata": {
        "colab": {
          "base_uri": "https://localhost:8080/",
          "height": 295
        },
        "id": "-CF-Jcrdl2CJ",
        "outputId": "29d099c8-336a-4168-bd9a-8e1547b23bda"
      },
      "source": [
        "ax = sns.countplot(y=\"Most_watched\", hue=\"Platforms\", data=data , palette=\"cool\")"
      ],
      "execution_count": null,
      "outputs": [
        {
          "output_type": "display_data",
          "data": {
            "image/png": "[encoded data removed]",
            "text/plain": [
              "<Figure size 432x288 with 1 Axes>"
            ]
          },
          "metadata": {
            "tags": []
          }
        }
      ]
    },
    {
      "cell_type": "code",
      "metadata": {
        "colab": {
          "base_uri": "https://localhost:8080/"
        },
        "id": "ezItKXr7uJAi",
        "outputId": "8b715119-a748-40d9-fce2-585470ad777a"
      },
      "source": [
        "one_hot_data.columns"
      ],
      "execution_count": null,
      "outputs": [
        {
          "output_type": "execute_result",
          "data": {
            "text/plain": [
              "Index(['Overall_Rating', 'Platforms_Hotstar', 'Platforms_Netflix',\n",
              "       'Platforms_Prime', 'Age_31-50', 'Age_Less than 18', 'Age_More than 50',\n",
              "       'Features_Ease of use', 'Features_Recommendation',\n",
              "       'Features_Search Option', 'Most_watched_Documentaries',\n",
              "       'Most_watched_Documentaries, Sports and News', 'Most_watched_Movies',\n",
              "       'Most_watched_Movies, Documentaries',\n",
              "       'Most_watched_Movies, Documentaries, Sports and News',\n",
              "       'Most_watched_Movies, Sports and News',\n",
              "       'Most_watched_Original Web Series',\n",
              "       'Most_watched_Original Web Series, Documentaries',\n",
              "       'Most_watched_Original Web Series, Documentaries, Sports and News',\n",
              "       'Most_watched_Original Web Series, Movies',\n",
              "       'Most_watched_Original Web Series, Movies, Documentaries',\n",
              "       'Most_watched_Original Web Series, Movies, Sports and News',\n",
              "       'Most_watched_Original Web Series, Sports and News',\n",
              "       'Most_watched_Sports and News'],\n",
              "      dtype='object')"
            ]
          },
          "metadata": {
            "tags": []
          },
          "execution_count": 472
        }
      ]
    },
    {
      "cell_type": "code",
      "metadata": {
        "colab": {
          "base_uri": "https://localhost:8080/"
        },
        "id": "Mp403SM1vXji",
        "outputId": "e74607f2-497b-475f-d3d0-60df74681357"
      },
      "source": [
        "one_hot_data[\"Platforms_Prime\"].value_counts()"
      ],
      "execution_count": null,
      "outputs": [
        {
          "output_type": "execute_result",
          "data": {
            "text/plain": [
              "0    187\n",
              "1     63\n",
              "Name: Platforms_Prime, dtype: int64"
            ]
          },
          "metadata": {
            "tags": []
          },
          "execution_count": 535
        }
      ]
    },
    {
      "cell_type": "code",
      "metadata": {
        "id": "3xVDDt55uJDL"
      },
      "source": [
        "features=['Overall_Rating','Most_watched_Original Web Series','Most_watched_Movies','Most_watched_Original Web Series, Movies','Most_watched_Movies', 'Most_watched_Original Web Series, Movies, Documentaries','Most_watched_Original Web Series, Documentaries','Age_31-50']"
      ],
      "execution_count": null,
      "outputs": []
    },
    {
      "cell_type": "code",
      "metadata": {
        "id": "Ohcd4f8YuSvF"
      },
      "source": [
        "X_train =train[features]\n",
        "Y_train =train[\"Platforms_Prime\"]\n",
        "\n",
        "X_test = test[features]\n",
        "Y_test = test[\"Platforms_Prime\"]"
      ],
      "execution_count": null,
      "outputs": []
    },
    {
      "cell_type": "code",
      "metadata": {
        "id": "GmGlmU1NuSxw"
      },
      "source": [
        "gdtree = DecisionTreeClassifier()"
      ],
      "execution_count": null,
      "outputs": []
    },
    {
      "cell_type": "code",
      "metadata": {
        "id": "JqUjVwmGuS0O"
      },
      "source": [
        "param_dict ={ \n",
        "    \"criterion\": ['gini', 'entropy'], \n",
        "    \"min_samples_split\":range(2,100)\n",
        "    \n",
        "    }"
      ],
      "execution_count": null,
      "outputs": []
    },
    {
      "cell_type": "code",
      "metadata": {
        "id": "zZh7fNYyuS5N"
      },
      "source": [
        "grid1 =GridSearchCV(gdtree,param_grid=param_dict, cv=10)"
      ],
      "execution_count": null,
      "outputs": []
    },
    {
      "cell_type": "code",
      "metadata": {
        "colab": {
          "base_uri": "https://localhost:8080/"
        },
        "id": "bZvyZqc3uS72",
        "outputId": "1f8415d7-c1c6-4ff0-bd4f-bf8be97851c6"
      },
      "source": [
        "grid1.fit(X_train,Y_train)"
      ],
      "execution_count": null,
      "outputs": [
        {
          "output_type": "execute_result",
          "data": {
            "text/plain": [
              "GridSearchCV(cv=10, error_score=nan,\n",
              "             estimator=DecisionTreeClassifier(ccp_alpha=0.0, class_weight=None,\n",
              "                                              criterion='gini', max_depth=None,\n",
              "                                              max_features=None,\n",
              "                                              max_leaf_nodes=None,\n",
              "                                              min_impurity_decrease=0.0,\n",
              "                                              min_impurity_split=None,\n",
              "                                              min_samples_leaf=1,\n",
              "                                              min_samples_split=2,\n",
              "                                              min_weight_fraction_leaf=0.0,\n",
              "                                              presort='deprecated',\n",
              "                                              random_state=None,\n",
              "                                              splitter='best'),\n",
              "             iid='deprecated', n_jobs=None,\n",
              "             param_grid={'criterion': ['gini', 'entropy'],\n",
              "                         'min_samples_split': range(2, 100)},\n",
              "             pre_dispatch='2*n_jobs', refit=True, return_train_score=False,\n",
              "             scoring=None, verbose=0)"
            ]
          },
          "metadata": {
            "tags": []
          },
          "execution_count": 541
        }
      ]
    },
    {
      "cell_type": "code",
      "metadata": {
        "colab": {
          "base_uri": "https://localhost:8080/"
        },
        "id": "DSzJvoP9uS-U",
        "outputId": "8d816a12-1ca6-4824-9a21-f29ad5dcde9b"
      },
      "source": [
        "grid1.best_params_"
      ],
      "execution_count": null,
      "outputs": [
        {
          "output_type": "execute_result",
          "data": {
            "text/plain": [
              "{'criterion': 'entropy', 'min_samples_split': 6}"
            ]
          },
          "metadata": {
            "tags": []
          },
          "execution_count": 542
        }
      ]
    },
    {
      "cell_type": "code",
      "metadata": {
        "colab": {
          "base_uri": "https://localhost:8080/"
        },
        "id": "At-ip1pxuTAV",
        "outputId": "2a54117b-0f60-4560-8dcf-3c2af386b965"
      },
      "source": [
        "grid1.best_score_"
      ],
      "execution_count": null,
      "outputs": [
        {
          "output_type": "execute_result",
          "data": {
            "text/plain": [
              "0.6915441176470589"
            ]
          },
          "metadata": {
            "tags": []
          },
          "execution_count": 543
        }
      ]
    },
    {
      "cell_type": "code",
      "metadata": {
        "id": "aOHVMKQcuJGZ"
      },
      "source": [
        "gt1=DecisionTreeClassifier(\n",
        "    criterion='entropy',\n",
        "    min_samples_split=6)\n"
      ],
      "execution_count": null,
      "outputs": []
    },
    {
      "cell_type": "code",
      "metadata": {
        "colab": {
          "base_uri": "https://localhost:8080/"
        },
        "id": "TU2LzZVOwKNB",
        "outputId": "b4b2f1b1-76ef-4b88-ac76-71df2f65ac46"
      },
      "source": [
        "gt_fit = gt1.fit(X_train, Y_train)\n",
        "gt_p1 = gt1.predict(X_train)\n",
        "gtrain_score = accuracy_score(Y_train, gt_p1)*100\n",
        "gtrain_score"
      ],
      "execution_count": null,
      "outputs": [
        {
          "output_type": "execute_result",
          "data": {
            "text/plain": [
              "75.92592592592592"
            ]
          },
          "metadata": {
            "tags": []
          },
          "execution_count": 549
        }
      ]
    },
    {
      "cell_type": "code",
      "metadata": {
        "colab": {
          "base_uri": "https://localhost:8080/"
        },
        "id": "TMReVxPBwKP1",
        "outputId": "e3032617-40fb-4414-8eed-028bdc8f6d66"
      },
      "source": [
        "gt_pt1 = gt1.predict(X_test)\n",
        "gtest_score = accuracy_score(Y_test, gt_pt1)*100\n",
        "gtest_score"
      ],
      "execution_count": null,
      "outputs": [
        {
          "output_type": "execute_result",
          "data": {
            "text/plain": [
              "71.5909090909091"
            ]
          },
          "metadata": {
            "tags": []
          },
          "execution_count": 550
        }
      ]
    },
    {
      "cell_type": "code",
      "metadata": {
        "colab": {
          "base_uri": "https://localhost:8080/",
          "height": 432
        },
        "id": "Ec28qASDwKS3",
        "outputId": "36ebcbea-4068-40fc-9a63-7e5a4fbac1db"
      },
      "source": [
        "print(classification_report(Y_test, gt_pt1))\n",
        "rf_cm = confusion_matrix(Y_test, gt_pt1)\n",
        "df_cm3 = pd.DataFrame(rf_cm, range(2), range(2))\n",
        "# plt.figure(figsize=(10,7))\n",
        "sns.set(font_scale=1.4) # for label size\n",
        "sns.heatmap(df_cm3, annot=True, cmap='Blues', annot_kws={\"size\": 16}, fmt='g') # font size\n",
        "plt.show()"
      ],
      "execution_count": null,
      "outputs": [
        {
          "output_type": "stream",
          "text": [
            "              precision    recall  f1-score   support\n",
            "\n",
            "           0       0.78      0.88      0.83        68\n",
            "           1       0.27      0.15      0.19        20\n",
            "\n",
            "    accuracy                           0.72        88\n",
            "   macro avg       0.53      0.52      0.51        88\n",
            "weighted avg       0.66      0.72      0.68        88\n",
            "\n"
          ],
          "name": "stdout"
        },
        {
          "output_type": "display_data",
          "data": {
            "image/png": "[encoded data removed]",
            "text/plain": [
              "<Figure size 432x288 with 2 Axes>"
            ]
          },
          "metadata": {
            "tags": []
          }
        }
      ]
    },
    {
      "cell_type": "markdown",
      "metadata": {
        "id": "TuVxxRYqN7zF"
      },
      "source": [
        "prime on og rating and movie rating"
      ]
    },
    {
      "cell_type": "code",
      "metadata": {
        "colab": {
          "base_uri": "https://localhost:8080/",
          "height": 490
        },
        "id": "sL2QCyxLYpHd",
        "outputId": "974912d4-8703-4c23-f369-40965235ac5d"
      },
      "source": [
        "one_hot_data1 = pd.get_dummies(data[['Platforms','Most_watched','Age','Netflix_Rating_Og','Prime_Rating_Og','Hotstar_Rating_Og','Netflix_Rating_movie',\n",
        "       'Netflix_Rating_documentry', 'Netflix_Rating_others','Prime_Rating_movie', 'Prime_Rating_documentry', 'Prime_Rating_others','Hotstar_Rating_movie',\n",
        "       'Hotstar_Rating_documentry', 'Hotstar_Rating_sports']])\n",
        "one_hot_data1"
      ],
      "execution_count": null,
      "outputs": [
        {
          "output_type": "execute_result",
          "data": {
            "text/html": [
              "<div>\n",
              "<style scoped>\n",
              "    .dataframe tbody tr th:only-of-type {\n",
              "        vertical-align: middle;\n",
              "    }\n",
              "\n",
              "    .dataframe tbody tr th {\n",
              "        vertical-align: top;\n",
              "    }\n",
              "\n",
              "    .dataframe thead th {\n",
              "        text-align: right;\n",
              "    }\n",
              "</style>\n",
              "<table border=\"1\" class=\"dataframe\">\n",
              "  <thead>\n",
              "    <tr style=\"text-align: right;\">\n",
              "      <th></th>\n",
              "      <th>Netflix_Rating_Og</th>\n",
              "      <th>Prime_Rating_Og</th>\n",
              "      <th>Hotstar_Rating_Og</th>\n",
              "      <th>Netflix_Rating_movie</th>\n",
              "      <th>Netflix_Rating_documentry</th>\n",
              "      <th>Netflix_Rating_others</th>\n",
              "      <th>Prime_Rating_movie</th>\n",
              "      <th>Prime_Rating_documentry</th>\n",
              "      <th>Prime_Rating_others</th>\n",
              "      <th>Hotstar_Rating_movie</th>\n",
              "      <th>Hotstar_Rating_documentry</th>\n",
              "      <th>Hotstar_Rating_sports</th>\n",
              "      <th>Platforms_All of the above</th>\n",
              "      <th>Platforms_Hotstar</th>\n",
              "      <th>Platforms_Netflix</th>\n",
              "      <th>Platforms_Prime</th>\n",
              "      <th>Most_watched_All of the above</th>\n",
              "      <th>Most_watched_Documentaries</th>\n",
              "      <th>Most_watched_Documentaries, Sports and News</th>\n",
              "      <th>Most_watched_Movies</th>\n",
              "      <th>Most_watched_Movies, Documentaries</th>\n",
              "      <th>Most_watched_Movies, Documentaries, Sports and News</th>\n",
              "      <th>Most_watched_Movies, Sports and News</th>\n",
              "      <th>Most_watched_Original Web Series</th>\n",
              "      <th>Most_watched_Original Web Series, Documentaries</th>\n",
              "      <th>Most_watched_Original Web Series, Documentaries, Sports and News</th>\n",
              "      <th>Most_watched_Original Web Series, Movies</th>\n",
              "      <th>Most_watched_Original Web Series, Movies, Documentaries</th>\n",
              "      <th>Most_watched_Original Web Series, Movies, Sports and News</th>\n",
              "      <th>Most_watched_Original Web Series, Sports and News</th>\n",
              "      <th>Most_watched_Sports and News</th>\n",
              "      <th>Age_18-30</th>\n",
              "      <th>Age_31-50</th>\n",
              "      <th>Age_Less than 18</th>\n",
              "      <th>Age_More than 50</th>\n",
              "    </tr>\n",
              "  </thead>\n",
              "  <tbody>\n",
              "    <tr>\n",
              "      <th>0</th>\n",
              "      <td>4</td>\n",
              "      <td>5</td>\n",
              "      <td>3</td>\n",
              "      <td>4</td>\n",
              "      <td>4</td>\n",
              "      <td>3</td>\n",
              "      <td>5</td>\n",
              "      <td>5</td>\n",
              "      <td>5</td>\n",
              "      <td>2</td>\n",
              "      <td>2</td>\n",
              "      <td>2</td>\n",
              "      <td>0</td>\n",
              "      <td>0</td>\n",
              "      <td>0</td>\n",
              "      <td>1</td>\n",
              "      <td>1</td>\n",
              "      <td>0</td>\n",
              "      <td>0</td>\n",
              "      <td>0</td>\n",
              "      <td>0</td>\n",
              "      <td>0</td>\n",
              "      <td>0</td>\n",
              "      <td>0</td>\n",
              "      <td>0</td>\n",
              "      <td>0</td>\n",
              "      <td>0</td>\n",
              "      <td>0</td>\n",
              "      <td>0</td>\n",
              "      <td>0</td>\n",
              "      <td>0</td>\n",
              "      <td>1</td>\n",
              "      <td>0</td>\n",
              "      <td>0</td>\n",
              "      <td>0</td>\n",
              "    </tr>\n",
              "    <tr>\n",
              "      <th>1</th>\n",
              "      <td>5</td>\n",
              "      <td>4</td>\n",
              "      <td>3</td>\n",
              "      <td>5</td>\n",
              "      <td>5</td>\n",
              "      <td>5</td>\n",
              "      <td>4</td>\n",
              "      <td>3</td>\n",
              "      <td>1</td>\n",
              "      <td>2</td>\n",
              "      <td>1</td>\n",
              "      <td>1</td>\n",
              "      <td>0</td>\n",
              "      <td>0</td>\n",
              "      <td>1</td>\n",
              "      <td>0</td>\n",
              "      <td>0</td>\n",
              "      <td>0</td>\n",
              "      <td>0</td>\n",
              "      <td>0</td>\n",
              "      <td>0</td>\n",
              "      <td>0</td>\n",
              "      <td>0</td>\n",
              "      <td>1</td>\n",
              "      <td>0</td>\n",
              "      <td>0</td>\n",
              "      <td>0</td>\n",
              "      <td>0</td>\n",
              "      <td>0</td>\n",
              "      <td>0</td>\n",
              "      <td>0</td>\n",
              "      <td>1</td>\n",
              "      <td>0</td>\n",
              "      <td>0</td>\n",
              "      <td>0</td>\n",
              "    </tr>\n",
              "    <tr>\n",
              "      <th>2</th>\n",
              "      <td>5</td>\n",
              "      <td>4</td>\n",
              "      <td>4</td>\n",
              "      <td>4</td>\n",
              "      <td>4</td>\n",
              "      <td>4</td>\n",
              "      <td>3</td>\n",
              "      <td>4</td>\n",
              "      <td>4</td>\n",
              "      <td>5</td>\n",
              "      <td>4</td>\n",
              "      <td>5</td>\n",
              "      <td>0</td>\n",
              "      <td>1</td>\n",
              "      <td>0</td>\n",
              "      <td>0</td>\n",
              "      <td>0</td>\n",
              "      <td>0</td>\n",
              "      <td>0</td>\n",
              "      <td>1</td>\n",
              "      <td>0</td>\n",
              "      <td>0</td>\n",
              "      <td>0</td>\n",
              "      <td>0</td>\n",
              "      <td>0</td>\n",
              "      <td>0</td>\n",
              "      <td>0</td>\n",
              "      <td>0</td>\n",
              "      <td>0</td>\n",
              "      <td>0</td>\n",
              "      <td>0</td>\n",
              "      <td>1</td>\n",
              "      <td>0</td>\n",
              "      <td>0</td>\n",
              "      <td>0</td>\n",
              "    </tr>\n",
              "    <tr>\n",
              "      <th>3</th>\n",
              "      <td>1</td>\n",
              "      <td>1</td>\n",
              "      <td>4</td>\n",
              "      <td>1</td>\n",
              "      <td>1</td>\n",
              "      <td>1</td>\n",
              "      <td>1</td>\n",
              "      <td>1</td>\n",
              "      <td>1</td>\n",
              "      <td>4</td>\n",
              "      <td>5</td>\n",
              "      <td>5</td>\n",
              "      <td>0</td>\n",
              "      <td>1</td>\n",
              "      <td>0</td>\n",
              "      <td>0</td>\n",
              "      <td>0</td>\n",
              "      <td>0</td>\n",
              "      <td>0</td>\n",
              "      <td>0</td>\n",
              "      <td>0</td>\n",
              "      <td>1</td>\n",
              "      <td>0</td>\n",
              "      <td>0</td>\n",
              "      <td>0</td>\n",
              "      <td>0</td>\n",
              "      <td>0</td>\n",
              "      <td>0</td>\n",
              "      <td>0</td>\n",
              "      <td>0</td>\n",
              "      <td>0</td>\n",
              "      <td>0</td>\n",
              "      <td>1</td>\n",
              "      <td>0</td>\n",
              "      <td>0</td>\n",
              "    </tr>\n",
              "    <tr>\n",
              "      <th>4</th>\n",
              "      <td>3</td>\n",
              "      <td>4</td>\n",
              "      <td>3</td>\n",
              "      <td>4</td>\n",
              "      <td>2</td>\n",
              "      <td>1</td>\n",
              "      <td>5</td>\n",
              "      <td>4</td>\n",
              "      <td>4</td>\n",
              "      <td>3</td>\n",
              "      <td>3</td>\n",
              "      <td>3</td>\n",
              "      <td>1</td>\n",
              "      <td>0</td>\n",
              "      <td>0</td>\n",
              "      <td>0</td>\n",
              "      <td>0</td>\n",
              "      <td>0</td>\n",
              "      <td>0</td>\n",
              "      <td>1</td>\n",
              "      <td>0</td>\n",
              "      <td>0</td>\n",
              "      <td>0</td>\n",
              "      <td>0</td>\n",
              "      <td>0</td>\n",
              "      <td>0</td>\n",
              "      <td>0</td>\n",
              "      <td>0</td>\n",
              "      <td>0</td>\n",
              "      <td>0</td>\n",
              "      <td>0</td>\n",
              "      <td>1</td>\n",
              "      <td>0</td>\n",
              "      <td>0</td>\n",
              "      <td>0</td>\n",
              "    </tr>\n",
              "    <tr>\n",
              "      <th>...</th>\n",
              "      <td>...</td>\n",
              "      <td>...</td>\n",
              "      <td>...</td>\n",
              "      <td>...</td>\n",
              "      <td>...</td>\n",
              "      <td>...</td>\n",
              "      <td>...</td>\n",
              "      <td>...</td>\n",
              "      <td>...</td>\n",
              "      <td>...</td>\n",
              "      <td>...</td>\n",
              "      <td>...</td>\n",
              "      <td>...</td>\n",
              "      <td>...</td>\n",
              "      <td>...</td>\n",
              "      <td>...</td>\n",
              "      <td>...</td>\n",
              "      <td>...</td>\n",
              "      <td>...</td>\n",
              "      <td>...</td>\n",
              "      <td>...</td>\n",
              "      <td>...</td>\n",
              "      <td>...</td>\n",
              "      <td>...</td>\n",
              "      <td>...</td>\n",
              "      <td>...</td>\n",
              "      <td>...</td>\n",
              "      <td>...</td>\n",
              "      <td>...</td>\n",
              "      <td>...</td>\n",
              "      <td>...</td>\n",
              "      <td>...</td>\n",
              "      <td>...</td>\n",
              "      <td>...</td>\n",
              "      <td>...</td>\n",
              "    </tr>\n",
              "    <tr>\n",
              "      <th>245</th>\n",
              "      <td>4</td>\n",
              "      <td>5</td>\n",
              "      <td>5</td>\n",
              "      <td>5</td>\n",
              "      <td>4</td>\n",
              "      <td>4</td>\n",
              "      <td>4</td>\n",
              "      <td>4</td>\n",
              "      <td>5</td>\n",
              "      <td>4</td>\n",
              "      <td>4</td>\n",
              "      <td>5</td>\n",
              "      <td>0</td>\n",
              "      <td>0</td>\n",
              "      <td>1</td>\n",
              "      <td>0</td>\n",
              "      <td>0</td>\n",
              "      <td>0</td>\n",
              "      <td>0</td>\n",
              "      <td>0</td>\n",
              "      <td>0</td>\n",
              "      <td>0</td>\n",
              "      <td>0</td>\n",
              "      <td>0</td>\n",
              "      <td>0</td>\n",
              "      <td>0</td>\n",
              "      <td>1</td>\n",
              "      <td>0</td>\n",
              "      <td>0</td>\n",
              "      <td>0</td>\n",
              "      <td>0</td>\n",
              "      <td>0</td>\n",
              "      <td>0</td>\n",
              "      <td>1</td>\n",
              "      <td>0</td>\n",
              "    </tr>\n",
              "    <tr>\n",
              "      <th>246</th>\n",
              "      <td>5</td>\n",
              "      <td>5</td>\n",
              "      <td>5</td>\n",
              "      <td>4</td>\n",
              "      <td>4</td>\n",
              "      <td>4</td>\n",
              "      <td>5</td>\n",
              "      <td>4</td>\n",
              "      <td>4</td>\n",
              "      <td>5</td>\n",
              "      <td>4</td>\n",
              "      <td>4</td>\n",
              "      <td>0</td>\n",
              "      <td>0</td>\n",
              "      <td>1</td>\n",
              "      <td>0</td>\n",
              "      <td>0</td>\n",
              "      <td>0</td>\n",
              "      <td>0</td>\n",
              "      <td>1</td>\n",
              "      <td>0</td>\n",
              "      <td>0</td>\n",
              "      <td>0</td>\n",
              "      <td>0</td>\n",
              "      <td>0</td>\n",
              "      <td>0</td>\n",
              "      <td>0</td>\n",
              "      <td>0</td>\n",
              "      <td>0</td>\n",
              "      <td>0</td>\n",
              "      <td>0</td>\n",
              "      <td>0</td>\n",
              "      <td>1</td>\n",
              "      <td>0</td>\n",
              "      <td>0</td>\n",
              "    </tr>\n",
              "    <tr>\n",
              "      <th>247</th>\n",
              "      <td>5</td>\n",
              "      <td>5</td>\n",
              "      <td>5</td>\n",
              "      <td>4</td>\n",
              "      <td>4</td>\n",
              "      <td>3</td>\n",
              "      <td>4</td>\n",
              "      <td>4</td>\n",
              "      <td>4</td>\n",
              "      <td>4</td>\n",
              "      <td>4</td>\n",
              "      <td>5</td>\n",
              "      <td>0</td>\n",
              "      <td>0</td>\n",
              "      <td>0</td>\n",
              "      <td>1</td>\n",
              "      <td>0</td>\n",
              "      <td>0</td>\n",
              "      <td>0</td>\n",
              "      <td>0</td>\n",
              "      <td>0</td>\n",
              "      <td>0</td>\n",
              "      <td>1</td>\n",
              "      <td>0</td>\n",
              "      <td>0</td>\n",
              "      <td>0</td>\n",
              "      <td>0</td>\n",
              "      <td>0</td>\n",
              "      <td>0</td>\n",
              "      <td>0</td>\n",
              "      <td>0</td>\n",
              "      <td>1</td>\n",
              "      <td>0</td>\n",
              "      <td>0</td>\n",
              "      <td>0</td>\n",
              "    </tr>\n",
              "    <tr>\n",
              "      <th>248</th>\n",
              "      <td>5</td>\n",
              "      <td>5</td>\n",
              "      <td>5</td>\n",
              "      <td>4</td>\n",
              "      <td>4</td>\n",
              "      <td>3</td>\n",
              "      <td>4</td>\n",
              "      <td>4</td>\n",
              "      <td>4</td>\n",
              "      <td>4</td>\n",
              "      <td>4</td>\n",
              "      <td>5</td>\n",
              "      <td>0</td>\n",
              "      <td>0</td>\n",
              "      <td>0</td>\n",
              "      <td>1</td>\n",
              "      <td>0</td>\n",
              "      <td>0</td>\n",
              "      <td>0</td>\n",
              "      <td>0</td>\n",
              "      <td>0</td>\n",
              "      <td>0</td>\n",
              "      <td>1</td>\n",
              "      <td>0</td>\n",
              "      <td>0</td>\n",
              "      <td>0</td>\n",
              "      <td>0</td>\n",
              "      <td>0</td>\n",
              "      <td>0</td>\n",
              "      <td>0</td>\n",
              "      <td>0</td>\n",
              "      <td>1</td>\n",
              "      <td>0</td>\n",
              "      <td>0</td>\n",
              "      <td>0</td>\n",
              "    </tr>\n",
              "    <tr>\n",
              "      <th>249</th>\n",
              "      <td>5</td>\n",
              "      <td>5</td>\n",
              "      <td>5</td>\n",
              "      <td>4</td>\n",
              "      <td>4</td>\n",
              "      <td>3</td>\n",
              "      <td>4</td>\n",
              "      <td>4</td>\n",
              "      <td>5</td>\n",
              "      <td>4</td>\n",
              "      <td>3</td>\n",
              "      <td>4</td>\n",
              "      <td>1</td>\n",
              "      <td>0</td>\n",
              "      <td>0</td>\n",
              "      <td>0</td>\n",
              "      <td>1</td>\n",
              "      <td>0</td>\n",
              "      <td>0</td>\n",
              "      <td>0</td>\n",
              "      <td>0</td>\n",
              "      <td>0</td>\n",
              "      <td>0</td>\n",
              "      <td>0</td>\n",
              "      <td>0</td>\n",
              "      <td>0</td>\n",
              "      <td>0</td>\n",
              "      <td>0</td>\n",
              "      <td>0</td>\n",
              "      <td>0</td>\n",
              "      <td>0</td>\n",
              "      <td>0</td>\n",
              "      <td>1</td>\n",
              "      <td>0</td>\n",
              "      <td>0</td>\n",
              "    </tr>\n",
              "  </tbody>\n",
              "</table>\n",
              "<p>250 rows × 35 columns</p>\n",
              "</div>"
            ],
            "text/plain": [
              "     Netflix_Rating_Og  Prime_Rating_Og  ...  Age_Less than 18  Age_More than 50\n",
              "0                    4                5  ...                 0                 0\n",
              "1                    5                4  ...                 0                 0\n",
              "2                    5                4  ...                 0                 0\n",
              "3                    1                1  ...                 0                 0\n",
              "4                    3                4  ...                 0                 0\n",
              "..                 ...              ...  ...               ...               ...\n",
              "245                  4                5  ...                 1                 0\n",
              "246                  5                5  ...                 0                 0\n",
              "247                  5                5  ...                 0                 0\n",
              "248                  5                5  ...                 0                 0\n",
              "249                  5                5  ...                 0                 0\n",
              "\n",
              "[250 rows x 35 columns]"
            ]
          },
          "metadata": {
            "tags": []
          },
          "execution_count": 554
        }
      ]
    },
    {
      "cell_type": "code",
      "metadata": {
        "colab": {
          "base_uri": "https://localhost:8080/",
          "height": 490
        },
        "id": "hJc2qlQPYpQg",
        "outputId": "050468c0-253a-451a-af01-67309a8a5f37"
      },
      "source": [
        "one_hot_data1 = pd.get_dummies(data[['Platforms','Most_watched','Age','Netflix_Rating_Og','Prime_Rating_Og','Hotstar_Rating_Og','Netflix_Rating_movie',\n",
        "       'Netflix_Rating_documentry', 'Netflix_Rating_others','Prime_Rating_movie', 'Prime_Rating_documentry', 'Prime_Rating_others','Hotstar_Rating_movie',\n",
        "       'Hotstar_Rating_documentry', 'Hotstar_Rating_sports']],drop_first=True)\n",
        "one_hot_data1"
      ],
      "execution_count": null,
      "outputs": [
        {
          "output_type": "execute_result",
          "data": {
            "text/html": [
              "<div>\n",
              "<style scoped>\n",
              "    .dataframe tbody tr th:only-of-type {\n",
              "        vertical-align: middle;\n",
              "    }\n",
              "\n",
              "    .dataframe tbody tr th {\n",
              "        vertical-align: top;\n",
              "    }\n",
              "\n",
              "    .dataframe thead th {\n",
              "        text-align: right;\n",
              "    }\n",
              "</style>\n",
              "<table border=\"1\" class=\"dataframe\">\n",
              "  <thead>\n",
              "    <tr style=\"text-align: right;\">\n",
              "      <th></th>\n",
              "      <th>Netflix_Rating_Og</th>\n",
              "      <th>Prime_Rating_Og</th>\n",
              "      <th>Hotstar_Rating_Og</th>\n",
              "      <th>Netflix_Rating_movie</th>\n",
              "      <th>Netflix_Rating_documentry</th>\n",
              "      <th>Netflix_Rating_others</th>\n",
              "      <th>Prime_Rating_movie</th>\n",
              "      <th>Prime_Rating_documentry</th>\n",
              "      <th>Prime_Rating_others</th>\n",
              "      <th>Hotstar_Rating_movie</th>\n",
              "      <th>Hotstar_Rating_documentry</th>\n",
              "      <th>Hotstar_Rating_sports</th>\n",
              "      <th>Platforms_Hotstar</th>\n",
              "      <th>Platforms_Netflix</th>\n",
              "      <th>Platforms_Prime</th>\n",
              "      <th>Most_watched_Documentaries</th>\n",
              "      <th>Most_watched_Documentaries, Sports and News</th>\n",
              "      <th>Most_watched_Movies</th>\n",
              "      <th>Most_watched_Movies, Documentaries</th>\n",
              "      <th>Most_watched_Movies, Documentaries, Sports and News</th>\n",
              "      <th>Most_watched_Movies, Sports and News</th>\n",
              "      <th>Most_watched_Original Web Series</th>\n",
              "      <th>Most_watched_Original Web Series, Documentaries</th>\n",
              "      <th>Most_watched_Original Web Series, Documentaries, Sports and News</th>\n",
              "      <th>Most_watched_Original Web Series, Movies</th>\n",
              "      <th>Most_watched_Original Web Series, Movies, Documentaries</th>\n",
              "      <th>Most_watched_Original Web Series, Movies, Sports and News</th>\n",
              "      <th>Most_watched_Original Web Series, Sports and News</th>\n",
              "      <th>Most_watched_Sports and News</th>\n",
              "      <th>Age_31-50</th>\n",
              "      <th>Age_Less than 18</th>\n",
              "      <th>Age_More than 50</th>\n",
              "    </tr>\n",
              "  </thead>\n",
              "  <tbody>\n",
              "    <tr>\n",
              "      <th>0</th>\n",
              "      <td>4</td>\n",
              "      <td>5</td>\n",
              "      <td>3</td>\n",
              "      <td>4</td>\n",
              "      <td>4</td>\n",
              "      <td>3</td>\n",
              "      <td>5</td>\n",
              "      <td>5</td>\n",
              "      <td>5</td>\n",
              "      <td>2</td>\n",
              "      <td>2</td>\n",
              "      <td>2</td>\n",
              "      <td>0</td>\n",
              "      <td>0</td>\n",
              "      <td>1</td>\n",
              "      <td>0</td>\n",
              "      <td>0</td>\n",
              "      <td>0</td>\n",
              "      <td>0</td>\n",
              "      <td>0</td>\n",
              "      <td>0</td>\n",
              "      <td>0</td>\n",
              "      <td>0</td>\n",
              "      <td>0</td>\n",
              "      <td>0</td>\n",
              "      <td>0</td>\n",
              "      <td>0</td>\n",
              "      <td>0</td>\n",
              "      <td>0</td>\n",
              "      <td>0</td>\n",
              "      <td>0</td>\n",
              "      <td>0</td>\n",
              "    </tr>\n",
              "    <tr>\n",
              "      <th>1</th>\n",
              "      <td>5</td>\n",
              "      <td>4</td>\n",
              "      <td>3</td>\n",
              "      <td>5</td>\n",
              "      <td>5</td>\n",
              "      <td>5</td>\n",
              "      <td>4</td>\n",
              "      <td>3</td>\n",
              "      <td>1</td>\n",
              "      <td>2</td>\n",
              "      <td>1</td>\n",
              "      <td>1</td>\n",
              "      <td>0</td>\n",
              "      <td>1</td>\n",
              "      <td>0</td>\n",
              "      <td>0</td>\n",
              "      <td>0</td>\n",
              "      <td>0</td>\n",
              "      <td>0</td>\n",
              "      <td>0</td>\n",
              "      <td>0</td>\n",
              "      <td>1</td>\n",
              "      <td>0</td>\n",
              "      <td>0</td>\n",
              "      <td>0</td>\n",
              "      <td>0</td>\n",
              "      <td>0</td>\n",
              "      <td>0</td>\n",
              "      <td>0</td>\n",
              "      <td>0</td>\n",
              "      <td>0</td>\n",
              "      <td>0</td>\n",
              "    </tr>\n",
              "    <tr>\n",
              "      <th>2</th>\n",
              "      <td>5</td>\n",
              "      <td>4</td>\n",
              "      <td>4</td>\n",
              "      <td>4</td>\n",
              "      <td>4</td>\n",
              "      <td>4</td>\n",
              "      <td>3</td>\n",
              "      <td>4</td>\n",
              "      <td>4</td>\n",
              "      <td>5</td>\n",
              "      <td>4</td>\n",
              "      <td>5</td>\n",
              "      <td>1</td>\n",
              "      <td>0</td>\n",
              "      <td>0</td>\n",
              "      <td>0</td>\n",
              "      <td>0</td>\n",
              "      <td>1</td>\n",
              "      <td>0</td>\n",
              "      <td>0</td>\n",
              "      <td>0</td>\n",
              "      <td>0</td>\n",
              "      <td>0</td>\n",
              "      <td>0</td>\n",
              "      <td>0</td>\n",
              "      <td>0</td>\n",
              "      <td>0</td>\n",
              "      <td>0</td>\n",
              "      <td>0</td>\n",
              "      <td>0</td>\n",
              "      <td>0</td>\n",
              "      <td>0</td>\n",
              "    </tr>\n",
              "    <tr>\n",
              "      <th>3</th>\n",
              "      <td>1</td>\n",
              "      <td>1</td>\n",
              "      <td>4</td>\n",
              "      <td>1</td>\n",
              "      <td>1</td>\n",
              "      <td>1</td>\n",
              "      <td>1</td>\n",
              "      <td>1</td>\n",
              "      <td>1</td>\n",
              "      <td>4</td>\n",
              "      <td>5</td>\n",
              "      <td>5</td>\n",
              "      <td>1</td>\n",
              "      <td>0</td>\n",
              "      <td>0</td>\n",
              "      <td>0</td>\n",
              "      <td>0</td>\n",
              "      <td>0</td>\n",
              "      <td>0</td>\n",
              "      <td>1</td>\n",
              "      <td>0</td>\n",
              "      <td>0</td>\n",
              "      <td>0</td>\n",
              "      <td>0</td>\n",
              "      <td>0</td>\n",
              "      <td>0</td>\n",
              "      <td>0</td>\n",
              "      <td>0</td>\n",
              "      <td>0</td>\n",
              "      <td>1</td>\n",
              "      <td>0</td>\n",
              "      <td>0</td>\n",
              "    </tr>\n",
              "    <tr>\n",
              "      <th>4</th>\n",
              "      <td>3</td>\n",
              "      <td>4</td>\n",
              "      <td>3</td>\n",
              "      <td>4</td>\n",
              "      <td>2</td>\n",
              "      <td>1</td>\n",
              "      <td>5</td>\n",
              "      <td>4</td>\n",
              "      <td>4</td>\n",
              "      <td>3</td>\n",
              "      <td>3</td>\n",
              "      <td>3</td>\n",
              "      <td>0</td>\n",
              "      <td>0</td>\n",
              "      <td>0</td>\n",
              "      <td>0</td>\n",
              "      <td>0</td>\n",
              "      <td>1</td>\n",
              "      <td>0</td>\n",
              "      <td>0</td>\n",
              "      <td>0</td>\n",
              "      <td>0</td>\n",
              "      <td>0</td>\n",
              "      <td>0</td>\n",
              "      <td>0</td>\n",
              "      <td>0</td>\n",
              "      <td>0</td>\n",
              "      <td>0</td>\n",
              "      <td>0</td>\n",
              "      <td>0</td>\n",
              "      <td>0</td>\n",
              "      <td>0</td>\n",
              "    </tr>\n",
              "    <tr>\n",
              "      <th>...</th>\n",
              "      <td>...</td>\n",
              "      <td>...</td>\n",
              "      <td>...</td>\n",
              "      <td>...</td>\n",
              "      <td>...</td>\n",
              "      <td>...</td>\n",
              "      <td>...</td>\n",
              "      <td>...</td>\n",
              "      <td>...</td>\n",
              "      <td>...</td>\n",
              "      <td>...</td>\n",
              "      <td>...</td>\n",
              "      <td>...</td>\n",
              "      <td>...</td>\n",
              "      <td>...</td>\n",
              "      <td>...</td>\n",
              "      <td>...</td>\n",
              "      <td>...</td>\n",
              "      <td>...</td>\n",
              "      <td>...</td>\n",
              "      <td>...</td>\n",
              "      <td>...</td>\n",
              "      <td>...</td>\n",
              "      <td>...</td>\n",
              "      <td>...</td>\n",
              "      <td>...</td>\n",
              "      <td>...</td>\n",
              "      <td>...</td>\n",
              "      <td>...</td>\n",
              "      <td>...</td>\n",
              "      <td>...</td>\n",
              "      <td>...</td>\n",
              "    </tr>\n",
              "    <tr>\n",
              "      <th>245</th>\n",
              "      <td>4</td>\n",
              "      <td>5</td>\n",
              "      <td>5</td>\n",
              "      <td>5</td>\n",
              "      <td>4</td>\n",
              "      <td>4</td>\n",
              "      <td>4</td>\n",
              "      <td>4</td>\n",
              "      <td>5</td>\n",
              "      <td>4</td>\n",
              "      <td>4</td>\n",
              "      <td>5</td>\n",
              "      <td>0</td>\n",
              "      <td>1</td>\n",
              "      <td>0</td>\n",
              "      <td>0</td>\n",
              "      <td>0</td>\n",
              "      <td>0</td>\n",
              "      <td>0</td>\n",
              "      <td>0</td>\n",
              "      <td>0</td>\n",
              "      <td>0</td>\n",
              "      <td>0</td>\n",
              "      <td>0</td>\n",
              "      <td>1</td>\n",
              "      <td>0</td>\n",
              "      <td>0</td>\n",
              "      <td>0</td>\n",
              "      <td>0</td>\n",
              "      <td>0</td>\n",
              "      <td>1</td>\n",
              "      <td>0</td>\n",
              "    </tr>\n",
              "    <tr>\n",
              "      <th>246</th>\n",
              "      <td>5</td>\n",
              "      <td>5</td>\n",
              "      <td>5</td>\n",
              "      <td>4</td>\n",
              "      <td>4</td>\n",
              "      <td>4</td>\n",
              "      <td>5</td>\n",
              "      <td>4</td>\n",
              "      <td>4</td>\n",
              "      <td>5</td>\n",
              "      <td>4</td>\n",
              "      <td>4</td>\n",
              "      <td>0</td>\n",
              "      <td>1</td>\n",
              "      <td>0</td>\n",
              "      <td>0</td>\n",
              "      <td>0</td>\n",
              "      <td>1</td>\n",
              "      <td>0</td>\n",
              "      <td>0</td>\n",
              "      <td>0</td>\n",
              "      <td>0</td>\n",
              "      <td>0</td>\n",
              "      <td>0</td>\n",
              "      <td>0</td>\n",
              "      <td>0</td>\n",
              "      <td>0</td>\n",
              "      <td>0</td>\n",
              "      <td>0</td>\n",
              "      <td>1</td>\n",
              "      <td>0</td>\n",
              "      <td>0</td>\n",
              "    </tr>\n",
              "    <tr>\n",
              "      <th>247</th>\n",
              "      <td>5</td>\n",
              "      <td>5</td>\n",
              "      <td>5</td>\n",
              "      <td>4</td>\n",
              "      <td>4</td>\n",
              "      <td>3</td>\n",
              "      <td>4</td>\n",
              "      <td>4</td>\n",
              "      <td>4</td>\n",
              "      <td>4</td>\n",
              "      <td>4</td>\n",
              "      <td>5</td>\n",
              "      <td>0</td>\n",
              "      <td>0</td>\n",
              "      <td>1</td>\n",
              "      <td>0</td>\n",
              "      <td>0</td>\n",
              "      <td>0</td>\n",
              "      <td>0</td>\n",
              "      <td>0</td>\n",
              "      <td>1</td>\n",
              "      <td>0</td>\n",
              "      <td>0</td>\n",
              "      <td>0</td>\n",
              "      <td>0</td>\n",
              "      <td>0</td>\n",
              "      <td>0</td>\n",
              "      <td>0</td>\n",
              "      <td>0</td>\n",
              "      <td>0</td>\n",
              "      <td>0</td>\n",
              "      <td>0</td>\n",
              "    </tr>\n",
              "    <tr>\n",
              "      <th>248</th>\n",
              "      <td>5</td>\n",
              "      <td>5</td>\n",
              "      <td>5</td>\n",
              "      <td>4</td>\n",
              "      <td>4</td>\n",
              "      <td>3</td>\n",
              "      <td>4</td>\n",
              "      <td>4</td>\n",
              "      <td>4</td>\n",
              "      <td>4</td>\n",
              "      <td>4</td>\n",
              "      <td>5</td>\n",
              "      <td>0</td>\n",
              "      <td>0</td>\n",
              "      <td>1</td>\n",
              "      <td>0</td>\n",
              "      <td>0</td>\n",
              "      <td>0</td>\n",
              "      <td>0</td>\n",
              "      <td>0</td>\n",
              "      <td>1</td>\n",
              "      <td>0</td>\n",
              "      <td>0</td>\n",
              "      <td>0</td>\n",
              "      <td>0</td>\n",
              "      <td>0</td>\n",
              "      <td>0</td>\n",
              "      <td>0</td>\n",
              "      <td>0</td>\n",
              "      <td>0</td>\n",
              "      <td>0</td>\n",
              "      <td>0</td>\n",
              "    </tr>\n",
              "    <tr>\n",
              "      <th>249</th>\n",
              "      <td>5</td>\n",
              "      <td>5</td>\n",
              "      <td>5</td>\n",
              "      <td>4</td>\n",
              "      <td>4</td>\n",
              "      <td>3</td>\n",
              "      <td>4</td>\n",
              "      <td>4</td>\n",
              "      <td>5</td>\n",
              "      <td>4</td>\n",
              "      <td>3</td>\n",
              "      <td>4</td>\n",
              "      <td>0</td>\n",
              "      <td>0</td>\n",
              "      <td>0</td>\n",
              "      <td>0</td>\n",
              "      <td>0</td>\n",
              "      <td>0</td>\n",
              "      <td>0</td>\n",
              "      <td>0</td>\n",
              "      <td>0</td>\n",
              "      <td>0</td>\n",
              "      <td>0</td>\n",
              "      <td>0</td>\n",
              "      <td>0</td>\n",
              "      <td>0</td>\n",
              "      <td>0</td>\n",
              "      <td>0</td>\n",
              "      <td>0</td>\n",
              "      <td>1</td>\n",
              "      <td>0</td>\n",
              "      <td>0</td>\n",
              "    </tr>\n",
              "  </tbody>\n",
              "</table>\n",
              "<p>250 rows × 32 columns</p>\n",
              "</div>"
            ],
            "text/plain": [
              "     Netflix_Rating_Og  Prime_Rating_Og  ...  Age_Less than 18  Age_More than 50\n",
              "0                    4                5  ...                 0                 0\n",
              "1                    5                4  ...                 0                 0\n",
              "2                    5                4  ...                 0                 0\n",
              "3                    1                1  ...                 0                 0\n",
              "4                    3                4  ...                 0                 0\n",
              "..                 ...              ...  ...               ...               ...\n",
              "245                  4                5  ...                 1                 0\n",
              "246                  5                5  ...                 0                 0\n",
              "247                  5                5  ...                 0                 0\n",
              "248                  5                5  ...                 0                 0\n",
              "249                  5                5  ...                 0                 0\n",
              "\n",
              "[250 rows x 32 columns]"
            ]
          },
          "metadata": {
            "tags": []
          },
          "execution_count": 555
        }
      ]
    },
    {
      "cell_type": "code",
      "metadata": {
        "id": "-52GvBpGOAhI"
      },
      "source": [
        "train1, test1 = train_test_split(one_hot_data1, test_size =0.35)"
      ],
      "execution_count": null,
      "outputs": []
    },
    {
      "cell_type": "code",
      "metadata": {
        "colab": {
          "base_uri": "https://localhost:8080/"
        },
        "id": "lhX_WvjtOVwi",
        "outputId": "66840dce-7dfd-4f57-e69c-4ee7a789b4a0"
      },
      "source": [
        "one_hot_data1.columns"
      ],
      "execution_count": null,
      "outputs": [
        {
          "output_type": "execute_result",
          "data": {
            "text/plain": [
              "Index(['Netflix_Rating_Og', 'Prime_Rating_Og', 'Hotstar_Rating_Og',\n",
              "       'Netflix_Rating_movie', 'Netflix_Rating_documentry',\n",
              "       'Netflix_Rating_others', 'Prime_Rating_movie',\n",
              "       'Prime_Rating_documentry', 'Prime_Rating_others',\n",
              "       'Hotstar_Rating_movie', 'Hotstar_Rating_documentry',\n",
              "       'Hotstar_Rating_sports', 'Platforms_Hotstar', 'Platforms_Netflix',\n",
              "       'Platforms_Prime', 'Most_watched_Documentaries',\n",
              "       'Most_watched_Documentaries, Sports and News', 'Most_watched_Movies',\n",
              "       'Most_watched_Movies, Documentaries',\n",
              "       'Most_watched_Movies, Documentaries, Sports and News',\n",
              "       'Most_watched_Movies, Sports and News',\n",
              "       'Most_watched_Original Web Series',\n",
              "       'Most_watched_Original Web Series, Documentaries',\n",
              "       'Most_watched_Original Web Series, Documentaries, Sports and News',\n",
              "       'Most_watched_Original Web Series, Movies',\n",
              "       'Most_watched_Original Web Series, Movies, Documentaries',\n",
              "       'Most_watched_Original Web Series, Movies, Sports and News',\n",
              "       'Most_watched_Original Web Series, Sports and News',\n",
              "       'Most_watched_Sports and News', 'Age_31-50', 'Age_Less than 18',\n",
              "       'Age_More than 50'],\n",
              "      dtype='object')"
            ]
          },
          "metadata": {
            "tags": []
          },
          "execution_count": 558
        }
      ]
    },
    {
      "cell_type": "code",
      "metadata": {
        "id": "-XPn3S-mOAj6"
      },
      "source": [
        "features=['Prime_Rating_Og','Prime_Rating_movie','Most_watched_Original Web Series','Most_watched_Movies','Most_watched_Original Web Series, Movies','Most_watched_Movies', 'Most_watched_Original Web Series, Movies, Documentaries','Most_watched_Original Web Series, Documentaries','Age_31-50']"
      ],
      "execution_count": null,
      "outputs": []
    },
    {
      "cell_type": "code",
      "metadata": {
        "id": "cD4leCpLOAmv"
      },
      "source": [
        "X_train =train1[features]\n",
        "Y_train =train1[\"Platforms_Prime\"]\n",
        "\n",
        "X_test = test1[features]\n",
        "Y_test = test1[\"Platforms_Prime\"]"
      ],
      "execution_count": null,
      "outputs": []
    },
    {
      "cell_type": "code",
      "metadata": {
        "id": "1JhixK2IOApZ"
      },
      "source": [
        "gdtree = DecisionTreeClassifier()"
      ],
      "execution_count": null,
      "outputs": []
    },
    {
      "cell_type": "code",
      "metadata": {
        "id": "K9q8x0S9OArn"
      },
      "source": [
        "param_dict ={ \n",
        "    \"criterion\": ['gini', 'entropy'], \n",
        "    \"min_samples_split\":range(2,100)\n",
        "    \n",
        "    }"
      ],
      "execution_count": null,
      "outputs": []
    },
    {
      "cell_type": "code",
      "metadata": {
        "id": "UiBBH06zOAvX"
      },
      "source": [
        "param_dict ={ \n",
        "    \"criterion\": ['gini', 'entropy'], \n",
        "    \"min_samples_split\":range(2,100)\n",
        "    \n",
        "    }"
      ],
      "execution_count": null,
      "outputs": []
    },
    {
      "cell_type": "code",
      "metadata": {
        "colab": {
          "base_uri": "https://localhost:8080/"
        },
        "id": "nPaLsGe9OAyP",
        "outputId": "9ccca471-dda9-4ac4-916d-5416c8ac74ea"
      },
      "source": [
        "grid1.fit(X_train,Y_train)"
      ],
      "execution_count": null,
      "outputs": [
        {
          "output_type": "execute_result",
          "data": {
            "text/plain": [
              "GridSearchCV(cv=10, error_score=nan,\n",
              "             estimator=DecisionTreeClassifier(ccp_alpha=0.0, class_weight=None,\n",
              "                                              criterion='gini', max_depth=None,\n",
              "                                              max_features=None,\n",
              "                                              max_leaf_nodes=None,\n",
              "                                              min_impurity_decrease=0.0,\n",
              "                                              min_impurity_split=None,\n",
              "                                              min_samples_leaf=1,\n",
              "                                              min_samples_split=2,\n",
              "                                              min_weight_fraction_leaf=0.0,\n",
              "                                              presort='deprecated',\n",
              "                                              random_state=None,\n",
              "                                              splitter='best'),\n",
              "             iid='deprecated', n_jobs=None,\n",
              "             param_grid={'criterion': ['gini', 'entropy'],\n",
              "                         'min_samples_split': range(2, 100)},\n",
              "             pre_dispatch='2*n_jobs', refit=True, return_train_score=False,\n",
              "             scoring=None, verbose=0)"
            ]
          },
          "metadata": {
            "tags": []
          },
          "execution_count": 564
        }
      ]
    },
    {
      "cell_type": "code",
      "metadata": {
        "id": "ymFJpwD2P1j0",
        "colab": {
          "base_uri": "https://localhost:8080/"
        },
        "outputId": "b9651482-a2d6-4469-f9f3-e6732aa4e785"
      },
      "source": [
        "grid1.best_params_"
      ],
      "execution_count": null,
      "outputs": [
        {
          "output_type": "execute_result",
          "data": {
            "text/plain": [
              "{'criterion': 'gini', 'min_samples_split': 6}"
            ]
          },
          "metadata": {
            "tags": []
          },
          "execution_count": 565
        }
      ]
    },
    {
      "cell_type": "code",
      "metadata": {
        "id": "tfiDQLmIP1nJ",
        "colab": {
          "base_uri": "https://localhost:8080/"
        },
        "outputId": "4e61851d-e1bd-4aa1-d63c-aa4295af9b73"
      },
      "source": [
        "grid1.best_score_"
      ],
      "execution_count": null,
      "outputs": [
        {
          "output_type": "execute_result",
          "data": {
            "text/plain": [
              "0.7470588235294118"
            ]
          },
          "metadata": {
            "tags": []
          },
          "execution_count": 566
        }
      ]
    },
    {
      "cell_type": "code",
      "metadata": {
        "id": "2mWegw80P1ps"
      },
      "source": [
        "gt1=DecisionTreeClassifier(\n",
        "    criterion='gini',\n",
        "    min_samples_split=6)\n"
      ],
      "execution_count": null,
      "outputs": []
    },
    {
      "cell_type": "code",
      "metadata": {
        "id": "rmx9xAGwQEQx",
        "colab": {
          "base_uri": "https://localhost:8080/"
        },
        "outputId": "78fd97e3-af25-4826-db32-f857686625b3"
      },
      "source": [
        "gt_fit = gt1.fit(X_train, Y_train)\n",
        "gt_p1 = gt1.predict(X_train)\n",
        "gtrain_score = accuracy_score(Y_train, gt_p1)*100\n",
        "gtrain_score"
      ],
      "execution_count": null,
      "outputs": [
        {
          "output_type": "execute_result",
          "data": {
            "text/plain": [
              "82.09876543209876"
            ]
          },
          "metadata": {
            "tags": []
          },
          "execution_count": 568
        }
      ]
    },
    {
      "cell_type": "code",
      "metadata": {
        "id": "lJLsq_8WQETu",
        "colab": {
          "base_uri": "https://localhost:8080/"
        },
        "outputId": "fdce4c90-5fda-431f-9e7a-5d51c8a6431b"
      },
      "source": [
        "gt_pt1 = gt1.predict(X_test)\n",
        "gtest_score = accuracy_score(Y_test, gt_pt1)*100\n",
        "gtest_score"
      ],
      "execution_count": null,
      "outputs": [
        {
          "output_type": "execute_result",
          "data": {
            "text/plain": [
              "73.86363636363636"
            ]
          },
          "metadata": {
            "tags": []
          },
          "execution_count": 569
        }
      ]
    },
    {
      "cell_type": "code",
      "metadata": {
        "id": "9PVtIBUkQEXw",
        "colab": {
          "base_uri": "https://localhost:8080/",
          "height": 428
        },
        "outputId": "4e2cb1fa-dc4a-4a54-c338-676f51453836"
      },
      "source": [
        "print(classification_report(Y_test, gt_pt1))\n",
        "rf_cm = confusion_matrix(Y_test, gt_pt1)\n",
        "df_cm3 = pd.DataFrame(rf_cm, range(2), range(2))\n",
        "# plt.figure(figsize=(10,7))\n",
        "sns.set(font_scale=1.4) # for label size\n",
        "sns.heatmap(df_cm3, annot=True, cmap='Blues', annot_kws={\"size\": 16}, fmt='g') # font size\n",
        "plt.show()"
      ],
      "execution_count": null,
      "outputs": [
        {
          "output_type": "stream",
          "text": [
            "              precision    recall  f1-score   support\n",
            "\n",
            "           0       0.81      0.87      0.84        70\n",
            "           1       0.31      0.22      0.26        18\n",
            "\n",
            "    accuracy                           0.74        88\n",
            "   macro avg       0.56      0.55      0.55        88\n",
            "weighted avg       0.71      0.74      0.72        88\n",
            "\n"
          ],
          "name": "stdout"
        },
        {
          "output_type": "display_data",
          "data": {
            "image/png": "[encoded data removed]",
            "text/plain": [
              "<Figure size 432x288 with 2 Axes>"
            ]
          },
          "metadata": {
            "tags": []
          }
        }
      ]
    },
    {
      "cell_type": "code",
      "metadata": {
        "id": "Ndihv6r3QEaD"
      },
      "source": [
        ""
      ],
      "execution_count": null,
      "outputs": []
    },
    {
      "cell_type": "markdown",
      "metadata": {
        "id": "lr0ZMpyDwe4i"
      },
      "source": [
        "**Hotstar**"
      ]
    },
    {
      "cell_type": "code",
      "metadata": {
        "id": "etAw_NARwh48",
        "colab": {
          "base_uri": "https://localhost:8080/"
        },
        "outputId": "976f1c24-a740-4878-8aec-c1c62e3eedb8"
      },
      "source": [
        "one_hot_data[\"Platforms_Prime\"].value_counts()"
      ],
      "execution_count": null,
      "outputs": [
        {
          "output_type": "execute_result",
          "data": {
            "text/plain": [
              "0    187\n",
              "1     63\n",
              "Name: Platforms_Prime, dtype: int64"
            ]
          },
          "metadata": {
            "tags": []
          },
          "execution_count": 576
        }
      ]
    },
    {
      "cell_type": "code",
      "metadata": {
        "id": "33svMlJbwh7m",
        "colab": {
          "base_uri": "https://localhost:8080/",
          "height": 295
        },
        "outputId": "49265680-7f52-4442-87ec-3b05679bc6c8"
      },
      "source": [
        "ax = sns.countplot(y=\"Most_watched\", hue=\"Platforms\", data=data , palette=\"cool\")"
      ],
      "execution_count": null,
      "outputs": [
        {
          "output_type": "display_data",
          "data": {
            "image/png": "[encoded data removed]",
            "text/plain": [
              "<Figure size 432x288 with 1 Axes>"
            ]
          },
          "metadata": {
            "tags": []
          }
        }
      ]
    },
    {
      "cell_type": "code",
      "metadata": {
        "id": "hhyvPVsszeNY",
        "colab": {
          "base_uri": "https://localhost:8080/",
          "height": 295
        },
        "outputId": "6e03163c-8508-4145-c596-7de128b802e2"
      },
      "source": [
        "ax = sns.countplot(y=\"Age\", hue=\"Platforms\", data=data , palette=\"cool\")"
      ],
      "execution_count": null,
      "outputs": [
        {
          "output_type": "display_data",
          "data": {
            "image/png": "[encoded data removed]",
            "text/plain": [
              "<Figure size 432x288 with 1 Axes>"
            ]
          },
          "metadata": {
            "tags": []
          }
        }
      ]
    },
    {
      "cell_type": "code",
      "metadata": {
        "id": "2KIbCabKwh-T",
        "colab": {
          "base_uri": "https://localhost:8080/"
        },
        "outputId": "d18bb734-f830-473a-988b-e4e8a9250a8a"
      },
      "source": [
        "one_hot_data.columns"
      ],
      "execution_count": null,
      "outputs": [
        {
          "output_type": "execute_result",
          "data": {
            "text/plain": [
              "Index(['Overall_Rating', 'Platforms_Hotstar', 'Platforms_Netflix',\n",
              "       'Platforms_Prime', 'Age_31-50', 'Age_Less than 18', 'Age_More than 50',\n",
              "       'Features_Ease of use', 'Features_Recommendation',\n",
              "       'Features_Search Option', 'Most_watched_Documentaries',\n",
              "       'Most_watched_Documentaries, Sports and News', 'Most_watched_Movies',\n",
              "       'Most_watched_Movies, Documentaries',\n",
              "       'Most_watched_Movies, Documentaries, Sports and News',\n",
              "       'Most_watched_Movies, Sports and News',\n",
              "       'Most_watched_Original Web Series',\n",
              "       'Most_watched_Original Web Series, Documentaries',\n",
              "       'Most_watched_Original Web Series, Documentaries, Sports and News',\n",
              "       'Most_watched_Original Web Series, Movies',\n",
              "       'Most_watched_Original Web Series, Movies, Documentaries',\n",
              "       'Most_watched_Original Web Series, Movies, Sports and News',\n",
              "       'Most_watched_Original Web Series, Sports and News',\n",
              "       'Most_watched_Sports and News'],\n",
              "      dtype='object')"
            ]
          },
          "metadata": {
            "tags": []
          },
          "execution_count": 579
        }
      ]
    },
    {
      "cell_type": "code",
      "metadata": {
        "id": "DfaQES6XwiBV"
      },
      "source": [
        "features=['Overall_Rating','Most_watched_Original Web Series','Most_watched_Movies','Most_watched_Movies, Documentaries, Sports and News','Most_watched_Sports and News','Most_watched_Original Web Series, Movies, Documentaries','Most_watched_Original Web Series, Sports and News', 'Age_31-50', 'Age_Less than 18', 'Age_More than 50']"
      ],
      "execution_count": null,
      "outputs": []
    },
    {
      "cell_type": "code",
      "metadata": {
        "id": "ovnlrEF0wiD9"
      },
      "source": [
        "X_train =train[features]\n",
        "Y_train =train[\"Platforms_Hotstar\"]\n",
        "\n",
        "X_test = test[features]\n",
        "Y_test = test[\"Platforms_Hotstar\"]"
      ],
      "execution_count": null,
      "outputs": []
    },
    {
      "cell_type": "code",
      "metadata": {
        "id": "vT0wqPNIwiIO"
      },
      "source": [
        "param_dict ={ \n",
        "    \"criterion\": ['gini', 'entropy'], \n",
        "    \"min_samples_split\":range(2,100)\n",
        "    \n",
        "    }"
      ],
      "execution_count": null,
      "outputs": []
    },
    {
      "cell_type": "code",
      "metadata": {
        "id": "05t0dsJPwiLT"
      },
      "source": [
        "grid2 =GridSearchCV(gdtree,param_grid=param_dict, cv=10)"
      ],
      "execution_count": null,
      "outputs": []
    },
    {
      "cell_type": "code",
      "metadata": {
        "id": "Yl5UjvYEwiNt",
        "colab": {
          "base_uri": "https://localhost:8080/"
        },
        "outputId": "0fc522c4-13c9-4b65-e9ba-cae8861f77bb"
      },
      "source": [
        "grid2.fit(X_train,Y_train)"
      ],
      "execution_count": null,
      "outputs": [
        {
          "output_type": "execute_result",
          "data": {
            "text/plain": [
              "GridSearchCV(cv=10, error_score=nan,\n",
              "             estimator=DecisionTreeClassifier(ccp_alpha=0.0, class_weight=None,\n",
              "                                              criterion='gini', max_depth=None,\n",
              "                                              max_features=None,\n",
              "                                              max_leaf_nodes=None,\n",
              "                                              min_impurity_decrease=0.0,\n",
              "                                              min_impurity_split=None,\n",
              "                                              min_samples_leaf=1,\n",
              "                                              min_samples_split=2,\n",
              "                                              min_weight_fraction_leaf=0.0,\n",
              "                                              presort='deprecated',\n",
              "                                              random_state=None,\n",
              "                                              splitter='best'),\n",
              "             iid='deprecated', n_jobs=None,\n",
              "             param_grid={'criterion': ['gini', 'entropy'],\n",
              "                         'min_samples_split': range(2, 100)},\n",
              "             pre_dispatch='2*n_jobs', refit=True, return_train_score=False,\n",
              "             scoring=None, verbose=0)"
            ]
          },
          "metadata": {
            "tags": []
          },
          "execution_count": 586
        }
      ]
    },
    {
      "cell_type": "code",
      "metadata": {
        "id": "aWvdonQDwiQm",
        "colab": {
          "base_uri": "https://localhost:8080/"
        },
        "outputId": "ae34bdca-57ed-47d5-b338-69dbec39b2ec"
      },
      "source": [
        "grid2.best_params_"
      ],
      "execution_count": null,
      "outputs": [
        {
          "output_type": "execute_result",
          "data": {
            "text/plain": [
              "{'criterion': 'gini', 'min_samples_split': 2}"
            ]
          },
          "metadata": {
            "tags": []
          },
          "execution_count": 587
        }
      ]
    },
    {
      "cell_type": "code",
      "metadata": {
        "id": "_wEZpav_z9Hk",
        "colab": {
          "base_uri": "https://localhost:8080/"
        },
        "outputId": "3ec60399-a61f-45b4-d87a-637b91dab046"
      },
      "source": [
        "grid2.best_score_"
      ],
      "execution_count": null,
      "outputs": [
        {
          "output_type": "execute_result",
          "data": {
            "text/plain": [
              "0.8889705882352942"
            ]
          },
          "metadata": {
            "tags": []
          },
          "execution_count": 588
        }
      ]
    },
    {
      "cell_type": "code",
      "metadata": {
        "id": "DPdFRJMuz9KP"
      },
      "source": [
        "gt2=DecisionTreeClassifier(\n",
        "    criterion='gini',\n",
        "    min_samples_split=2)\n"
      ],
      "execution_count": null,
      "outputs": []
    },
    {
      "cell_type": "code",
      "metadata": {
        "id": "TNPTCNCuz9NE",
        "colab": {
          "base_uri": "https://localhost:8080/"
        },
        "outputId": "c5a6d7a1-0998-4225-b401-60cf7513c9ae"
      },
      "source": [
        "gt_fit = gt2.fit(X_train, Y_train)\n",
        "gt_p1 = gt2.predict(X_train)\n",
        "gtrain_score = accuracy_score(Y_train, gt_p1)*100\n",
        "gtrain_score"
      ],
      "execution_count": null,
      "outputs": [
        {
          "output_type": "execute_result",
          "data": {
            "text/plain": [
              "92.5925925925926"
            ]
          },
          "metadata": {
            "tags": []
          },
          "execution_count": 590
        }
      ]
    },
    {
      "cell_type": "code",
      "metadata": {
        "id": "24EtC-BTz9P5",
        "colab": {
          "base_uri": "https://localhost:8080/"
        },
        "outputId": "1a774ab0-c26f-437a-81af-ff00902ce6c1"
      },
      "source": [
        "gt_pt1 = gt2.predict(X_test)\n",
        "gtest_score = accuracy_score(Y_test, gt_pt1)*100\n",
        "gtest_score"
      ],
      "execution_count": null,
      "outputs": [
        {
          "output_type": "execute_result",
          "data": {
            "text/plain": [
              "77.27272727272727"
            ]
          },
          "metadata": {
            "tags": []
          },
          "execution_count": 591
        }
      ]
    },
    {
      "cell_type": "code",
      "metadata": {
        "id": "cLmSWck00S0t",
        "colab": {
          "base_uri": "https://localhost:8080/",
          "height": 426
        },
        "outputId": "215df433-76f7-45ef-b73f-0f0d9c7d5de3"
      },
      "source": [
        "print(classification_report(Y_test, gt_pt1))\n",
        "rf_cm = confusion_matrix(Y_test, gt_pt1)\n",
        "df_cm3 = pd.DataFrame(rf_cm, range(2), range(2))\n",
        "# plt.figure(figsize=(10,7))\n",
        "sns.set(font_scale=1.4) # for label size\n",
        "sns.heatmap(df_cm3, annot=True, cmap='Blues', annot_kws={\"size\": 16}, fmt='g') # font size\n",
        "plt.show()"
      ],
      "execution_count": null,
      "outputs": [
        {
          "output_type": "stream",
          "text": [
            "              precision    recall  f1-score   support\n",
            "\n",
            "           0       0.81      0.94      0.87        71\n",
            "           1       0.20      0.06      0.09        17\n",
            "\n",
            "    accuracy                           0.77        88\n",
            "   macro avg       0.50      0.50      0.48        88\n",
            "weighted avg       0.69      0.77      0.72        88\n",
            "\n"
          ],
          "name": "stdout"
        },
        {
          "output_type": "display_data",
          "data": {
            "image/png": "[encoded data removed]",
            "text/plain": [
              "<Figure size 432x288 with 2 Axes>"
            ]
          },
          "metadata": {
            "tags": []
          }
        }
      ]
    },
    {
      "cell_type": "markdown",
      "metadata": {
        "id": "gRBul9gl53Jy"
      },
      "source": [
        "**SVM**"
      ]
    },
    {
      "cell_type": "code",
      "metadata": {
        "id": "njRPfYYEDYmT"
      },
      "source": [
        ""
      ],
      "execution_count": null,
      "outputs": []
    },
    {
      "cell_type": "code",
      "metadata": {
        "id": "MpoLiyMIDnqn"
      },
      "source": [
        ""
      ],
      "execution_count": null,
      "outputs": []
    },
    {
      "cell_type": "code",
      "metadata": {
        "id": "UzbWrbKDDowY"
      },
      "source": [
        "one_hot_data1.columns"
      ],
      "execution_count": null,
      "outputs": []
    },
    {
      "cell_type": "code",
      "metadata": {
        "id": "KCz65F0m0S3j"
      },
      "source": [
        "from sklearn import svm"
      ],
      "execution_count": null,
      "outputs": []
    },
    {
      "cell_type": "code",
      "metadata": {
        "id": "7v3dLnlq0S6N"
      },
      "source": [
        "svmf = svm.SVC(C=10000000, kernel='rbf', degree=3)"
      ],
      "execution_count": null,
      "outputs": []
    },
    {
      "cell_type": "code",
      "metadata": {
        "id": "i29hzTUX5Okg"
      },
      "source": [
        "model_svm = svmf.fit(X_train, Y_train)"
      ],
      "execution_count": null,
      "outputs": []
    },
    {
      "cell_type": "code",
      "metadata": {
        "id": "voiIuTon5Onx"
      },
      "source": [
        "pred_svm = model_svm.predict(X_test)"
      ],
      "execution_count": null,
      "outputs": []
    },
    {
      "cell_type": "code",
      "metadata": {
        "id": "czUGWnO75Oq1",
        "colab": {
          "base_uri": "https://localhost:8080/"
        },
        "outputId": "980b90b4-b359-40ba-ac0b-23f494648b13"
      },
      "source": [
        "test_score_svm = accuracy_score(Y_test, pred_svm)*100\n",
        "test_score_svm"
      ],
      "execution_count": null,
      "outputs": [
        {
          "output_type": "execute_result",
          "data": {
            "text/plain": [
              "77.27272727272727"
            ]
          },
          "metadata": {
            "tags": []
          },
          "execution_count": 599
        }
      ]
    },
    {
      "cell_type": "code",
      "metadata": {
        "id": "jNBAwCVS5jem",
        "colab": {
          "base_uri": "https://localhost:8080/",
          "height": 426
        },
        "outputId": "a55ff23a-e2f4-46d1-c890-fba04af241b9"
      },
      "source": [
        "print(classification_report(Y_test, pred_svm ))\n",
        "rf_cm = confusion_matrix(Y_test, pred_svm )\n",
        "df_cm3 = pd.DataFrame(rf_cm, range(2), range(2))\n",
        "# plt.figure(figsize=(10,7))\n",
        "sns.set(font_scale=1.4) # for label size\n",
        "sns.heatmap(df_cm3, annot=True, cmap='Blues', annot_kws={\"size\": 16}, fmt='g') # font size\n",
        "plt.show()"
      ],
      "execution_count": null,
      "outputs": [
        {
          "output_type": "stream",
          "text": [
            "              precision    recall  f1-score   support\n",
            "\n",
            "           0       0.81      0.94      0.87        71\n",
            "           1       0.20      0.06      0.09        17\n",
            "\n",
            "    accuracy                           0.77        88\n",
            "   macro avg       0.50      0.50      0.48        88\n",
            "weighted avg       0.69      0.77      0.72        88\n",
            "\n"
          ],
          "name": "stdout"
        },
        {
          "output_type": "display_data",
          "data": {
            "image/png": "[encoded data removed]",
            "text/plain": [
              "<Figure size 432x288 with 2 Axes>"
            ]
          },
          "metadata": {
            "tags": []
          }
        }
      ]
    },
    {
      "cell_type": "markdown",
      "metadata": {
        "id": "Cs4IayLZ56lm"
      },
      "source": [
        "**LR**"
      ]
    },
    {
      "cell_type": "markdown",
      "metadata": {
        "id": "zIHeuR3p_RPl"
      },
      "source": [
        "Netflix"
      ]
    },
    {
      "cell_type": "code",
      "metadata": {
        "id": "VDOXKjwoAWNn"
      },
      "source": [
        "from sklearn.linear_model import LogisticRegression\n",
        "from sklearn.model_selection import cross_val_score\n"
      ],
      "execution_count": null,
      "outputs": []
    },
    {
      "cell_type": "code",
      "metadata": {
        "id": "HBinauo26AxT",
        "colab": {
          "base_uri": "https://localhost:8080/"
        },
        "outputId": "22f7564b-9179-468b-8281-45113bb9e398"
      },
      "source": [
        "lr = LogisticRegression()\n",
        "columns =['Platforms_Netflix','Age_31-50']\n",
        "lr.fit(one_hot_data1[columns], one_hot_data1['Netflix_Rating_Og'])"
      ],
      "execution_count": null,
      "outputs": [
        {
          "output_type": "execute_result",
          "data": {
            "text/plain": [
              "LogisticRegression(C=1.0, class_weight=None, dual=False, fit_intercept=True,\n",
              "                   intercept_scaling=1, l1_ratio=None, max_iter=100,\n",
              "                   multi_class='auto', n_jobs=None, penalty='l2',\n",
              "                   random_state=None, solver='lbfgs', tol=0.0001, verbose=0,\n",
              "                   warm_start=False)"
            ]
          },
          "metadata": {
            "tags": []
          },
          "execution_count": 609
        }
      ]
    },
    {
      "cell_type": "code",
      "metadata": {
        "id": "EUcwR5rl6Az4"
      },
      "source": [
        "X = one_hot_data1[columns]\n",
        "y = one_hot_data1['Netflix_Rating_Og']\n",
        "\n",
        "train_X, val_X, train_y, val_y = train_test_split(\n",
        "    X, y, test_size=0.20,random_state=0)"
      ],
      "execution_count": null,
      "outputs": []
    },
    {
      "cell_type": "code",
      "metadata": {
        "id": "z0ro4z1X6A2x",
        "colab": {
          "base_uri": "https://localhost:8080/"
        },
        "outputId": "a517ed69-2f8e-4de4-f87a-9d432d92f129"
      },
      "source": [
        "lr = LogisticRegression()\n",
        "lr.fit(train_X, train_y)\n",
        "predictions_netflix = lr.predict(val_X)\n",
        "accuracy = accuracy_score(val_y, predictions_netflix)\n",
        "print(accuracy)\n",
        "from sklearn.metrics import classification_report\n",
        "print(classification_report(val_y,predictions_netflix))"
      ],
      "execution_count": null,
      "outputs": [
        {
          "output_type": "stream",
          "text": [
            "0.62\n",
            "              precision    recall  f1-score   support\n",
            "\n",
            "           1       0.00      0.00      0.00         4\n",
            "           2       0.00      0.00      0.00         3\n",
            "           3       0.00      0.00      0.00         2\n",
            "           4       0.00      0.00      0.00        10\n",
            "           5       0.62      1.00      0.77        31\n",
            "\n",
            "    accuracy                           0.62        50\n",
            "   macro avg       0.12      0.20      0.15        50\n",
            "weighted avg       0.38      0.62      0.47        50\n",
            "\n"
          ],
          "name": "stdout"
        },
        {
          "output_type": "stream",
          "text": [
            "/usr/local/lib/python3.7/dist-packages/sklearn/metrics/_classification.py:1272: UndefinedMetricWarning: Precision and F-score are ill-defined and being set to 0.0 in labels with no predicted samples. Use `zero_division` parameter to control this behavior.\n",
            "  _warn_prf(average, modifier, msg_start, len(result))\n"
          ],
          "name": "stderr"
        }
      ]
    },
    {
      "cell_type": "markdown",
      "metadata": {
        "id": "73qs_Ad9BYol"
      },
      "source": [
        "**Prime**"
      ]
    },
    {
      "cell_type": "code",
      "metadata": {
        "id": "EF2K2llo6A52",
        "colab": {
          "base_uri": "https://localhost:8080/"
        },
        "outputId": "ad67cd56-5ff2-4fb1-d003-068f824f7482"
      },
      "source": [
        "lr = LogisticRegression()\n",
        "columns =['Platforms_Prime','Age_31-50', 'Age_Less than 18']\n",
        "lr.fit(one_hot_data1[columns], one_hot_data1['Prime_Rating_Og'])"
      ],
      "execution_count": null,
      "outputs": [
        {
          "output_type": "execute_result",
          "data": {
            "text/plain": [
              "LogisticRegression(C=1.0, class_weight=None, dual=False, fit_intercept=True,\n",
              "                   intercept_scaling=1, l1_ratio=None, max_iter=100,\n",
              "                   multi_class='auto', n_jobs=None, penalty='l2',\n",
              "                   random_state=None, solver='lbfgs', tol=0.0001, verbose=0,\n",
              "                   warm_start=False)"
            ]
          },
          "metadata": {
            "tags": []
          },
          "execution_count": 612
        }
      ]
    },
    {
      "cell_type": "code",
      "metadata": {
        "id": "7nNl_kr56A8v"
      },
      "source": [
        "X = one_hot_data1[columns]\n",
        "y = one_hot_data1['Prime_Rating_Og']\n",
        "\n",
        "train_X, val_X, train_y, val_y = train_test_split(\n",
        "    X, y, test_size=0.30,random_state=0)"
      ],
      "execution_count": null,
      "outputs": []
    },
    {
      "cell_type": "code",
      "metadata": {
        "id": "eUJQiwlv6BBJ",
        "colab": {
          "base_uri": "https://localhost:8080/"
        },
        "outputId": "1c877eea-f810-45c0-a071-ea5971695df8"
      },
      "source": [
        "lr = LogisticRegression()\n",
        "lr.fit(train_X, train_y)\n",
        "predictions_prime = lr.predict(val_X)\n",
        "accuracy = accuracy_score(val_y, predictions_prime)\n",
        "print(accuracy)\n",
        "from sklearn.metrics import classification_report\n",
        "print(classification_report(val_y,predictions_prime))"
      ],
      "execution_count": null,
      "outputs": [
        {
          "output_type": "stream",
          "text": [
            "0.6266666666666667\n",
            "              precision    recall  f1-score   support\n",
            "\n",
            "           1       0.00      0.00      0.00         4\n",
            "           2       0.00      0.00      0.00         2\n",
            "           3       0.00      0.00      0.00         5\n",
            "           4       0.00      0.00      0.00        17\n",
            "           5       0.63      1.00      0.77        47\n",
            "\n",
            "    accuracy                           0.63        75\n",
            "   macro avg       0.13      0.20      0.15        75\n",
            "weighted avg       0.39      0.63      0.48        75\n",
            "\n"
          ],
          "name": "stdout"
        },
        {
          "output_type": "stream",
          "text": [
            "/usr/local/lib/python3.7/dist-packages/sklearn/metrics/_classification.py:1272: UndefinedMetricWarning: Precision and F-score are ill-defined and being set to 0.0 in labels with no predicted samples. Use `zero_division` parameter to control this behavior.\n",
            "  _warn_prf(average, modifier, msg_start, len(result))\n"
          ],
          "name": "stderr"
        }
      ]
    },
    {
      "cell_type": "markdown",
      "metadata": {
        "id": "PmBLgkFsCmOC"
      },
      "source": [
        "Hotstar"
      ]
    },
    {
      "cell_type": "code",
      "metadata": {
        "id": "GQe1KA2P6BEW",
        "colab": {
          "base_uri": "https://localhost:8080/"
        },
        "outputId": "46ae9d8f-3f7d-46c9-c5f1-fd03f3408f87"
      },
      "source": [
        "lr = LogisticRegression()\n",
        "columns =['Platforms_Hotstar','Age_31-50', 'Age_Less than 18','Age_More than 50']\n",
        "lr.fit(one_hot_data1[columns], one_hot_data1['Hotstar_Rating_Og'])"
      ],
      "execution_count": null,
      "outputs": [
        {
          "output_type": "execute_result",
          "data": {
            "text/plain": [
              "LogisticRegression(C=1.0, class_weight=None, dual=False, fit_intercept=True,\n",
              "                   intercept_scaling=1, l1_ratio=None, max_iter=100,\n",
              "                   multi_class='auto', n_jobs=None, penalty='l2',\n",
              "                   random_state=None, solver='lbfgs', tol=0.0001, verbose=0,\n",
              "                   warm_start=False)"
            ]
          },
          "metadata": {
            "tags": []
          },
          "execution_count": 617
        }
      ]
    },
    {
      "cell_type": "code",
      "metadata": {
        "id": "08ke-_3i6BHQ"
      },
      "source": [
        "X = one_hot_data1[columns]\n",
        "y = one_hot_data1['Hotstar_Rating_Og']\n",
        "\n",
        "train_X, val_X, train_y, val_y = train_test_split(\n",
        "    X, y, test_size=0.20,random_state=0)"
      ],
      "execution_count": null,
      "outputs": []
    },
    {
      "cell_type": "code",
      "metadata": {
        "id": "Yq6OKyV16BJp",
        "colab": {
          "base_uri": "https://localhost:8080/"
        },
        "outputId": "268c90ce-40d4-44eb-9943-2783dacb1595"
      },
      "source": [
        "lr = LogisticRegression()\n",
        "lr.fit(train_X, train_y)\n",
        "predictions_hotstar = lr.predict(val_X)\n",
        "accuracy = accuracy_score(val_y, predictions_hotstar)\n",
        "print(accuracy)\n",
        "from sklearn.metrics import classification_report\n",
        "print(classification_report(val_y,predictions_hotstar))"
      ],
      "execution_count": null,
      "outputs": [
        {
          "output_type": "stream",
          "text": [
            "0.48\n",
            "              precision    recall  f1-score   support\n",
            "\n",
            "           1       0.00      0.00      0.00         8\n",
            "           2       0.00      0.00      0.00         2\n",
            "           3       0.00      0.00      0.00         8\n",
            "           4       0.25      0.25      0.25         8\n",
            "           5       0.52      0.92      0.67        24\n",
            "\n",
            "    accuracy                           0.48        50\n",
            "   macro avg       0.15      0.23      0.18        50\n",
            "weighted avg       0.29      0.48      0.36        50\n",
            "\n"
          ],
          "name": "stdout"
        },
        {
          "output_type": "stream",
          "text": [
            "/usr/local/lib/python3.7/dist-packages/sklearn/metrics/_classification.py:1272: UndefinedMetricWarning: Precision and F-score are ill-defined and being set to 0.0 in labels with no predicted samples. Use `zero_division` parameter to control this behavior.\n",
            "  _warn_prf(average, modifier, msg_start, len(result))\n"
          ],
          "name": "stderr"
        }
      ]
    },
    {
      "cell_type": "code",
      "metadata": {
        "id": "HNcvt0G1DEQm"
      },
      "source": [
        ""
      ],
      "execution_count": null,
      "outputs": []
    },
    {
      "cell_type": "markdown",
      "metadata": {
        "id": "lco1Plr4DEh4"
      },
      "source": [
        "hotstar sport and news"
      ]
    },
    {
      "cell_type": "code",
      "metadata": {
        "id": "8_CQ-9n3Ecmn",
        "colab": {
          "base_uri": "https://localhost:8080/"
        },
        "outputId": "c44da5e7-6f38-412a-fc27-d3b8106fee70"
      },
      "source": [
        "lr = LogisticRegression()\n",
        "columns =['Platforms_Hotstar','Age_31-50', 'Age_Less than 18','Age_More than 50']\n",
        "lr.fit(one_hot_data1[columns], one_hot_data1['Hotstar_Rating_sports'])"
      ],
      "execution_count": null,
      "outputs": [
        {
          "output_type": "execute_result",
          "data": {
            "text/plain": [
              "LogisticRegression(C=1.0, class_weight=None, dual=False, fit_intercept=True,\n",
              "                   intercept_scaling=1, l1_ratio=None, max_iter=100,\n",
              "                   multi_class='auto', n_jobs=None, penalty='l2',\n",
              "                   random_state=None, solver='lbfgs', tol=0.0001, verbose=0,\n",
              "                   warm_start=False)"
            ]
          },
          "metadata": {
            "tags": []
          },
          "execution_count": 620
        }
      ]
    },
    {
      "cell_type": "code",
      "metadata": {
        "id": "24SQohvD6BMW"
      },
      "source": [
        "X = one_hot_data1[columns]\n",
        "y = one_hot_data1['Hotstar_Rating_sports']\n",
        "\n",
        "train_X, val_X, train_y, val_y = train_test_split(\n",
        "    X, y, test_size=0.20,random_state=0)"
      ],
      "execution_count": null,
      "outputs": []
    },
    {
      "cell_type": "code",
      "metadata": {
        "id": "FzivbZ9M6BPl",
        "colab": {
          "base_uri": "https://localhost:8080/"
        },
        "outputId": "efad574d-4efa-4525-bb22-c1353bd82967"
      },
      "source": [
        "lr = LogisticRegression()\n",
        "lr.fit(train_X, train_y)\n",
        "predictions_hotstar = lr.predict(val_X)\n",
        "accuracy = accuracy_score(val_y, predictions_hotstar)\n",
        "print(accuracy)\n",
        "from sklearn.metrics import classification_report\n",
        "print(classification_report(val_y,predictions_hotstar))"
      ],
      "execution_count": null,
      "outputs": [
        {
          "output_type": "stream",
          "text": [
            "0.52\n",
            "              precision    recall  f1-score   support\n",
            "\n",
            "           1       0.00      0.00      0.00         2\n",
            "           3       0.00      0.00      0.00         7\n",
            "           4       0.00      0.00      0.00        14\n",
            "           5       0.54      0.96      0.69        27\n",
            "\n",
            "    accuracy                           0.52        50\n",
            "   macro avg       0.14      0.24      0.17        50\n",
            "weighted avg       0.29      0.52      0.37        50\n",
            "\n"
          ],
          "name": "stdout"
        },
        {
          "output_type": "stream",
          "text": [
            "/usr/local/lib/python3.7/dist-packages/sklearn/metrics/_classification.py:1272: UndefinedMetricWarning: Precision and F-score are ill-defined and being set to 0.0 in labels with no predicted samples. Use `zero_division` parameter to control this behavior.\n",
            "  _warn_prf(average, modifier, msg_start, len(result))\n"
          ],
          "name": "stderr"
        }
      ]
    }
  ]
}