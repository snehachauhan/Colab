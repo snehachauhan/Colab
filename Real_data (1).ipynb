{
  "nbformat": 4,
  "nbformat_minor": 0,
  "metadata": {
    "colab": {
      "name": "Real_data",
      "provenance": [],
      "collapsed_sections": [
        "jXEeZgvXXVIx",
        "rIHvGzeuYOcz",
        "47bVv_TpbtBv",
        "bQtLUT9fb2bX",
        "zkIQvigYZhXi",
        "v35R2gDBr-WE",
        "gGbH5-K7i3Pj",
        "22lWlhavptAK",
        "T6DuCk56px62",
        "TJM3_f73pmGk"
      ],
      "toc_visible": true
    },
    "kernelspec": {
      "display_name": "Python 3",
      "name": "python3"
    },
    "language_info": {
      "name": "python"
    }
  },
  "cells": [
    {
      "cell_type": "code",
      "metadata": {
        "colab": {
          "background_save": true,
          "base_uri": "https://localhost:8080/"
        },
        "id": "UZDcBxSUAKDU",
        "outputId": "95a433ec-6d01-470d-d435-b3a0722740bf"
      },
      "source": [
        "from google.colab import drive\n",
        "drive.mount(\"/content/drive\")"
      ],
      "execution_count": null,
      "outputs": [
        {
          "output_type": "stream",
          "text": [
            "Drive already mounted at /content/drive; to attempt to forcibly remount, call drive.mount(\"/content/drive\", force_remount=True).\n"
          ],
          "name": "stdout"
        }
      ]
    },
    {
      "cell_type": "markdown",
      "metadata": {
        "id": "fdP8ntTlQX_z"
      },
      "source": [
        ""
      ]
    },
    {
      "cell_type": "code",
      "metadata": {
        "colab": {
          "base_uri": "https://localhost:8080/"
        },
        "id": "BlGL47K7AVRx",
        "outputId": "e127abc9-04b7-4a33-dd25-7297f9a0f628"
      },
      "source": [
        "!pip install scikit-plot"
      ],
      "execution_count": null,
      "outputs": [
        {
          "output_type": "stream",
          "text": [
            "Requirement already satisfied: scikit-plot in /usr/local/lib/python3.7/dist-packages (0.3.7)\n",
            "Requirement already satisfied: scipy>=0.9 in /usr/local/lib/python3.7/dist-packages (from scikit-plot) (1.4.1)\n",
            "Requirement already satisfied: scikit-learn>=0.18 in /usr/local/lib/python3.7/dist-packages (from scikit-plot) (0.22.2.post1)\n",
            "Requirement already satisfied: matplotlib>=1.4.0 in /usr/local/lib/python3.7/dist-packages (from scikit-plot) (3.2.2)\n",
            "Requirement already satisfied: joblib>=0.10 in /usr/local/lib/python3.7/dist-packages (from scikit-plot) (1.0.1)\n",
            "Requirement already satisfied: numpy>=1.13.3 in /usr/local/lib/python3.7/dist-packages (from scipy>=0.9->scikit-plot) (1.19.5)\n",
            "Requirement already satisfied: cycler>=0.10 in /usr/local/lib/python3.7/dist-packages (from matplotlib>=1.4.0->scikit-plot) (0.10.0)\n",
            "Requirement already satisfied: kiwisolver>=1.0.1 in /usr/local/lib/python3.7/dist-packages (from matplotlib>=1.4.0->scikit-plot) (1.3.1)\n",
            "Requirement already satisfied: pyparsing!=2.0.4,!=2.1.2,!=2.1.6,>=2.0.1 in /usr/local/lib/python3.7/dist-packages (from matplotlib>=1.4.0->scikit-plot) (2.4.7)\n",
            "Requirement already satisfied: python-dateutil>=2.1 in /usr/local/lib/python3.7/dist-packages (from matplotlib>=1.4.0->scikit-plot) (2.8.1)\n",
            "Requirement already satisfied: six in /usr/local/lib/python3.7/dist-packages (from cycler>=0.10->matplotlib>=1.4.0->scikit-plot) (1.15.0)\n"
          ],
          "name": "stdout"
        }
      ]
    },
    {
      "cell_type": "markdown",
      "metadata": {
        "id": "Dsk2HaEzQZqT"
      },
      "source": [
        "**Import the Packages**"
      ]
    },
    {
      "cell_type": "code",
      "metadata": {
        "id": "YIWFfrjzAVUj"
      },
      "source": [
        "import pandas as pd\n",
        "import numpy as np\n",
        "from sklearn import tree,svm\n",
        "from sklearn.model_selection import train_test_split, GridSearchCV\n",
        "from sklearn.tree import DecisionTreeClassifier\n",
        "from matplotlib import pyplot as plt\n",
        "import seaborn as sns\n",
        "import graphviz\n",
        "from sklearn.tree import export_graphviz\n",
        "from sklearn.metrics import classification_report, confusion_matrix, accuracy_score,roc_curve,auc,recall_score,precision_score\n",
        "from sklearn.ensemble import RandomForestClassifier\n",
        "import scikitplot as skplt\n",
        "%matplotlib inline"
      ],
      "execution_count": null,
      "outputs": []
    },
    {
      "cell_type": "markdown",
      "metadata": {
        "id": "J9vmdyEgQmd0"
      },
      "source": [
        "#**Read the file**"
      ]
    },
    {
      "cell_type": "code",
      "metadata": {
        "id": "mt9_SecpAVXW"
      },
      "source": [
        "data=pd.read_csv(\"/content/drive/MyDrive/Dataset/Project_Data.csv\")"
      ],
      "execution_count": null,
      "outputs": []
    },
    {
      "cell_type": "code",
      "metadata": {
        "colab": {
          "base_uri": "https://localhost:8080/",
          "height": 1000
        },
        "id": "lp8snJS7AVaV",
        "outputId": "a48e6b68-7a81-4d74-a966-b530d031168a"
      },
      "source": [
        "data"
      ],
      "execution_count": null,
      "outputs": [
        {
          "output_type": "execute_result",
          "data": {
            "text/html": [
              "<div>\n",
              "<style scoped>\n",
              "    .dataframe tbody tr th:only-of-type {\n",
              "        vertical-align: middle;\n",
              "    }\n",
              "\n",
              "    .dataframe tbody tr th {\n",
              "        vertical-align: top;\n",
              "    }\n",
              "\n",
              "    .dataframe thead th {\n",
              "        text-align: right;\n",
              "    }\n",
              "</style>\n",
              "<table border=\"1\" class=\"dataframe\">\n",
              "  <thead>\n",
              "    <tr style=\"text-align: right;\">\n",
              "      <th></th>\n",
              "      <th>Timestamp</th>\n",
              "      <th>Do you use  Video Streaming Platforms?</th>\n",
              "      <th>What is your Age?</th>\n",
              "      <th>How frequently you watch or stream online platforms?</th>\n",
              "      <th>What do you watch most on Video Streaming Platforms?</th>\n",
              "      <th>On what basis you frequently choose to watch on the Streaming Platforms?</th>\n",
              "      <th>Which of the following Subscription Based Video Streaming Platform do you currently use?</th>\n",
              "      <th>On what basis do you subscribe any of the above Platforms?</th>\n",
              "      <th>How long you are using these Video Streaming Platforms?</th>\n",
              "      <th>On scale of 5,Can you rate the Netflix? [Original Web Series]</th>\n",
              "      <th>On scale of 5,Can you rate the Netflix? [Movies]</th>\n",
              "      <th>On scale of 5,Can you rate the Netflix? [Documentaries]</th>\n",
              "      <th>On scale of 5,Can you rate the Netflix? [Others]</th>\n",
              "      <th>On scale of 5,Can you rate the Prime? [Original Web Series]</th>\n",
              "      <th>On scale of 5,Can you rate the Prime? [Movies]</th>\n",
              "      <th>On scale of 5,Can you rate the Prime? [Documentaries]</th>\n",
              "      <th>On scale of 5,Can you rate the Prime? [Sports and News]</th>\n",
              "      <th>On scale of 5,Can you rate the Hotstar? [Original Web Series]</th>\n",
              "      <th>On scale of 5,Can you rate the Hotstar? [Movies]</th>\n",
              "      <th>On scale of 5,Can you rate the Hotstar? [Documentaries]</th>\n",
              "      <th>On scale of 5,Can you rate the Hotstar? [Sports and News]</th>\n",
              "      <th>Have you watch or familiar with these original Web Series of Netflix?</th>\n",
              "      <th>Have you watch or familiar with these original Web Series of Prime?</th>\n",
              "      <th>Have you watch or familiar with these original Web Series of Hotstar?</th>\n",
              "      <th>From where did you get the idea of these Web Series?</th>\n",
              "      <th>Choose the features which you think is essential on your streaming platforms.</th>\n",
              "      <th>How was your overall experience of video streaming platform according to Original Series?</th>\n",
              "      <th>suggestions for the improvement of video streaming platforms?</th>\n",
              "    </tr>\n",
              "  </thead>\n",
              "  <tbody>\n",
              "    <tr>\n",
              "      <th>0</th>\n",
              "      <td>5/8/2021 13:40:40</td>\n",
              "      <td>Yes</td>\n",
              "      <td>18-30</td>\n",
              "      <td>Daily</td>\n",
              "      <td>All of the above</td>\n",
              "      <td>All of the above</td>\n",
              "      <td>Prime</td>\n",
              "      <td>Original Web Series</td>\n",
              "      <td>More than 2 Year</td>\n",
              "      <td>4</td>\n",
              "      <td>4</td>\n",
              "      <td>4</td>\n",
              "      <td>3</td>\n",
              "      <td>5</td>\n",
              "      <td>5</td>\n",
              "      <td>5</td>\n",
              "      <td>5</td>\n",
              "      <td>3</td>\n",
              "      <td>2</td>\n",
              "      <td>2</td>\n",
              "      <td>2</td>\n",
              "      <td>Sacred Games, 13 Reason Why, Money Heist</td>\n",
              "      <td>All of the above</td>\n",
              "      <td>None</td>\n",
              "      <td>All of the above</td>\n",
              "      <td>Search Option</td>\n",
              "      <td>Good</td>\n",
              "      <td>Remove Ads/Limit Ads duration</td>\n",
              "    </tr>\n",
              "    <tr>\n",
              "      <th>1</th>\n",
              "      <td>5/8/2021 13:44:41</td>\n",
              "      <td>Yes</td>\n",
              "      <td>18-30</td>\n",
              "      <td>Once or twice in a week</td>\n",
              "      <td>Original Web Series</td>\n",
              "      <td>Story</td>\n",
              "      <td>Netflix</td>\n",
              "      <td>Original Web Series</td>\n",
              "      <td>Between 1 and 2 Year</td>\n",
              "      <td>5</td>\n",
              "      <td>5</td>\n",
              "      <td>5</td>\n",
              "      <td>5</td>\n",
              "      <td>4</td>\n",
              "      <td>4</td>\n",
              "      <td>3</td>\n",
              "      <td>1</td>\n",
              "      <td>3</td>\n",
              "      <td>2</td>\n",
              "      <td>1</td>\n",
              "      <td>1</td>\n",
              "      <td>All of the Above</td>\n",
              "      <td>Mirzapur</td>\n",
              "      <td>None</td>\n",
              "      <td>Social Media</td>\n",
              "      <td>Search Option</td>\n",
              "      <td>Good</td>\n",
              "      <td>Decrease Subscription Price</td>\n",
              "    </tr>\n",
              "    <tr>\n",
              "      <th>2</th>\n",
              "      <td>5/8/2021 13:44:51</td>\n",
              "      <td>Yes</td>\n",
              "      <td>18-30</td>\n",
              "      <td>Once or twice in a week</td>\n",
              "      <td>Movies</td>\n",
              "      <td>Story</td>\n",
              "      <td>Hotstar</td>\n",
              "      <td>All of the above</td>\n",
              "      <td>Between 1 and 2 Year</td>\n",
              "      <td>5</td>\n",
              "      <td>4</td>\n",
              "      <td>4</td>\n",
              "      <td>4</td>\n",
              "      <td>4</td>\n",
              "      <td>3</td>\n",
              "      <td>4</td>\n",
              "      <td>4</td>\n",
              "      <td>4</td>\n",
              "      <td>5</td>\n",
              "      <td>4</td>\n",
              "      <td>5</td>\n",
              "      <td>Sacred Games, Money Heist</td>\n",
              "      <td>Mirzapur, Tandav</td>\n",
              "      <td>Criminal Justice, Arya</td>\n",
              "      <td>All of the above</td>\n",
              "      <td>Recommendation</td>\n",
              "      <td>Excellent</td>\n",
              "      <td>Remove Ads/Limit Ads duration</td>\n",
              "    </tr>\n",
              "    <tr>\n",
              "      <th>3</th>\n",
              "      <td>5/8/2021 13:49:19</td>\n",
              "      <td>Yes</td>\n",
              "      <td>31-50</td>\n",
              "      <td>Monthly</td>\n",
              "      <td>Movies, Documentaries, Sports and News</td>\n",
              "      <td>All of the above</td>\n",
              "      <td>Hotstar</td>\n",
              "      <td>Sports and News</td>\n",
              "      <td>Between 1 and 2 Year</td>\n",
              "      <td>1</td>\n",
              "      <td>1</td>\n",
              "      <td>1</td>\n",
              "      <td>1</td>\n",
              "      <td>1</td>\n",
              "      <td>1</td>\n",
              "      <td>1</td>\n",
              "      <td>1</td>\n",
              "      <td>4</td>\n",
              "      <td>4</td>\n",
              "      <td>5</td>\n",
              "      <td>5</td>\n",
              "      <td>None</td>\n",
              "      <td>None</td>\n",
              "      <td>All of the above</td>\n",
              "      <td>Television</td>\n",
              "      <td>Ease of use</td>\n",
              "      <td>Good</td>\n",
              "      <td>Availability in Languages</td>\n",
              "    </tr>\n",
              "    <tr>\n",
              "      <th>4</th>\n",
              "      <td>5/8/2021 14:39:38</td>\n",
              "      <td>Yes</td>\n",
              "      <td>18-30</td>\n",
              "      <td>Once or twice in a week</td>\n",
              "      <td>Movies</td>\n",
              "      <td>All of the above</td>\n",
              "      <td>All of the above</td>\n",
              "      <td>All of the above</td>\n",
              "      <td>More than 2 Year</td>\n",
              "      <td>3</td>\n",
              "      <td>4</td>\n",
              "      <td>2</td>\n",
              "      <td>1</td>\n",
              "      <td>4</td>\n",
              "      <td>5</td>\n",
              "      <td>4</td>\n",
              "      <td>4</td>\n",
              "      <td>3</td>\n",
              "      <td>3</td>\n",
              "      <td>3</td>\n",
              "      <td>3</td>\n",
              "      <td>Sacred Games, 13 Reason Why</td>\n",
              "      <td>All of the above</td>\n",
              "      <td>Speacial OPS</td>\n",
              "      <td>All of the above</td>\n",
              "      <td>All of the above</td>\n",
              "      <td>Good</td>\n",
              "      <td>Remove Ads/Limit Ads duration</td>\n",
              "    </tr>\n",
              "    <tr>\n",
              "      <th>...</th>\n",
              "      <td>...</td>\n",
              "      <td>...</td>\n",
              "      <td>...</td>\n",
              "      <td>...</td>\n",
              "      <td>...</td>\n",
              "      <td>...</td>\n",
              "      <td>...</td>\n",
              "      <td>...</td>\n",
              "      <td>...</td>\n",
              "      <td>...</td>\n",
              "      <td>...</td>\n",
              "      <td>...</td>\n",
              "      <td>...</td>\n",
              "      <td>...</td>\n",
              "      <td>...</td>\n",
              "      <td>...</td>\n",
              "      <td>...</td>\n",
              "      <td>...</td>\n",
              "      <td>...</td>\n",
              "      <td>...</td>\n",
              "      <td>...</td>\n",
              "      <td>...</td>\n",
              "      <td>...</td>\n",
              "      <td>...</td>\n",
              "      <td>...</td>\n",
              "      <td>...</td>\n",
              "      <td>...</td>\n",
              "      <td>...</td>\n",
              "    </tr>\n",
              "    <tr>\n",
              "      <th>245</th>\n",
              "      <td>5/20/2021 23:23:40</td>\n",
              "      <td>Yes</td>\n",
              "      <td>Less than 18</td>\n",
              "      <td>Monthly</td>\n",
              "      <td>Original Web Series, Movies</td>\n",
              "      <td>Story, Director</td>\n",
              "      <td>Netflix</td>\n",
              "      <td>All of the above</td>\n",
              "      <td>More than 2 Year</td>\n",
              "      <td>4</td>\n",
              "      <td>5</td>\n",
              "      <td>4</td>\n",
              "      <td>4</td>\n",
              "      <td>5</td>\n",
              "      <td>4</td>\n",
              "      <td>4</td>\n",
              "      <td>5</td>\n",
              "      <td>5</td>\n",
              "      <td>4</td>\n",
              "      <td>4</td>\n",
              "      <td>5</td>\n",
              "      <td>All of the Above</td>\n",
              "      <td>All of the above</td>\n",
              "      <td>All of the above</td>\n",
              "      <td>All of the above</td>\n",
              "      <td>All of the above</td>\n",
              "      <td>Good</td>\n",
              "      <td>Availability in Languages</td>\n",
              "    </tr>\n",
              "    <tr>\n",
              "      <th>246</th>\n",
              "      <td>5/20/2021 23:24:20</td>\n",
              "      <td>Yes</td>\n",
              "      <td>31-50</td>\n",
              "      <td>Monthly</td>\n",
              "      <td>Movies</td>\n",
              "      <td>Director</td>\n",
              "      <td>Netflix</td>\n",
              "      <td>Movies</td>\n",
              "      <td>Between 1 and 2 Year</td>\n",
              "      <td>5</td>\n",
              "      <td>4</td>\n",
              "      <td>4</td>\n",
              "      <td>4</td>\n",
              "      <td>5</td>\n",
              "      <td>5</td>\n",
              "      <td>4</td>\n",
              "      <td>4</td>\n",
              "      <td>5</td>\n",
              "      <td>5</td>\n",
              "      <td>4</td>\n",
              "      <td>4</td>\n",
              "      <td>The Witcher, Money Heist</td>\n",
              "      <td>Mirzapur, Tandav</td>\n",
              "      <td>Hostages, Arya</td>\n",
              "      <td>Television</td>\n",
              "      <td>All of the above</td>\n",
              "      <td>Excellent</td>\n",
              "      <td>Improvement in Story ,Casting</td>\n",
              "    </tr>\n",
              "    <tr>\n",
              "      <th>247</th>\n",
              "      <td>5/20/2021 23:25:03</td>\n",
              "      <td>Yes</td>\n",
              "      <td>18-30</td>\n",
              "      <td>Once or twice in a week</td>\n",
              "      <td>Movies, Sports and News</td>\n",
              "      <td>Story, Director</td>\n",
              "      <td>Prime</td>\n",
              "      <td>Movies</td>\n",
              "      <td>Less than 1 Year</td>\n",
              "      <td>5</td>\n",
              "      <td>4</td>\n",
              "      <td>4</td>\n",
              "      <td>3</td>\n",
              "      <td>5</td>\n",
              "      <td>4</td>\n",
              "      <td>4</td>\n",
              "      <td>4</td>\n",
              "      <td>5</td>\n",
              "      <td>4</td>\n",
              "      <td>4</td>\n",
              "      <td>5</td>\n",
              "      <td>Sacred Games, Money Heist</td>\n",
              "      <td>Mirzapur, Breath into the shadow</td>\n",
              "      <td>Hostages, Arya</td>\n",
              "      <td>Television</td>\n",
              "      <td>Ease of use</td>\n",
              "      <td>Good</td>\n",
              "      <td>Remove Ads/Limit Ads duration</td>\n",
              "    </tr>\n",
              "    <tr>\n",
              "      <th>248</th>\n",
              "      <td>5/20/2021 23:25:47</td>\n",
              "      <td>Yes</td>\n",
              "      <td>18-30</td>\n",
              "      <td>Once or twice in a week</td>\n",
              "      <td>Movies, Sports and News</td>\n",
              "      <td>Director</td>\n",
              "      <td>Prime</td>\n",
              "      <td>Movies</td>\n",
              "      <td>Less than 1 Year</td>\n",
              "      <td>5</td>\n",
              "      <td>4</td>\n",
              "      <td>4</td>\n",
              "      <td>3</td>\n",
              "      <td>5</td>\n",
              "      <td>4</td>\n",
              "      <td>4</td>\n",
              "      <td>4</td>\n",
              "      <td>5</td>\n",
              "      <td>4</td>\n",
              "      <td>4</td>\n",
              "      <td>5</td>\n",
              "      <td>Sacred Games, The Witcher</td>\n",
              "      <td>Mirzapur, Made in heaven</td>\n",
              "      <td>Criminal Justice</td>\n",
              "      <td>Television</td>\n",
              "      <td>Recommendation</td>\n",
              "      <td>Excellent</td>\n",
              "      <td>Decrease Subscription Price</td>\n",
              "    </tr>\n",
              "    <tr>\n",
              "      <th>249</th>\n",
              "      <td>5/20/2021 23:26:24</td>\n",
              "      <td>Yes</td>\n",
              "      <td>31-50</td>\n",
              "      <td>Monthly</td>\n",
              "      <td>All of the above</td>\n",
              "      <td>All of the above</td>\n",
              "      <td>All of the above</td>\n",
              "      <td>All of the above</td>\n",
              "      <td>Between 1 and 2 Year</td>\n",
              "      <td>5</td>\n",
              "      <td>4</td>\n",
              "      <td>4</td>\n",
              "      <td>3</td>\n",
              "      <td>5</td>\n",
              "      <td>4</td>\n",
              "      <td>4</td>\n",
              "      <td>5</td>\n",
              "      <td>5</td>\n",
              "      <td>4</td>\n",
              "      <td>3</td>\n",
              "      <td>4</td>\n",
              "      <td>All of the Above</td>\n",
              "      <td>All of the above</td>\n",
              "      <td>All of the above</td>\n",
              "      <td>All of the above</td>\n",
              "      <td>Ease of use</td>\n",
              "      <td>Excellent</td>\n",
              "      <td>Availability in Languages</td>\n",
              "    </tr>\n",
              "  </tbody>\n",
              "</table>\n",
              "<p>250 rows × 28 columns</p>\n",
              "</div>"
            ],
            "text/plain": [
              "              Timestamp  ... suggestions for the improvement of video streaming platforms? \n",
              "0     5/8/2021 13:40:40  ...                      Remove Ads/Limit Ads duration            \n",
              "1     5/8/2021 13:44:41  ...                        Decrease Subscription Price            \n",
              "2     5/8/2021 13:44:51  ...                      Remove Ads/Limit Ads duration            \n",
              "3     5/8/2021 13:49:19  ...                          Availability in Languages            \n",
              "4     5/8/2021 14:39:38  ...                      Remove Ads/Limit Ads duration            \n",
              "..                  ...  ...                                                ...            \n",
              "245  5/20/2021 23:23:40  ...                          Availability in Languages            \n",
              "246  5/20/2021 23:24:20  ...                      Improvement in Story ,Casting            \n",
              "247  5/20/2021 23:25:03  ...                      Remove Ads/Limit Ads duration            \n",
              "248  5/20/2021 23:25:47  ...                        Decrease Subscription Price            \n",
              "249  5/20/2021 23:26:24  ...                          Availability in Languages            \n",
              "\n",
              "[250 rows x 28 columns]"
            ]
          },
          "metadata": {
            "tags": []
          },
          "execution_count": 3800
        }
      ]
    },
    {
      "cell_type": "code",
      "metadata": {
        "colab": {
          "base_uri": "https://localhost:8080/"
        },
        "id": "MDQ10pf1AVdR",
        "outputId": "e4c20363-eb2b-4595-d4a9-a41be6c4f8ef"
      },
      "source": [
        "data.columns"
      ],
      "execution_count": null,
      "outputs": [
        {
          "output_type": "execute_result",
          "data": {
            "text/plain": [
              "Index(['Timestamp', 'Do you use  Video Streaming Platforms?',\n",
              "       'What is your Age?',\n",
              "       'How frequently you watch or stream online platforms?',\n",
              "       'What do you watch most on Video Streaming Platforms?',\n",
              "       'On what basis you frequently choose to watch on the Streaming Platforms?',\n",
              "       'Which of the following Subscription Based Video Streaming Platform do you currently use?',\n",
              "       'On what basis do you subscribe any of the above Platforms?',\n",
              "       'How long you are using these Video Streaming Platforms?',\n",
              "       'On scale of 5,Can you rate the Netflix? [Original Web Series]',\n",
              "       'On scale of 5,Can you rate the Netflix? [Movies]',\n",
              "       'On scale of 5,Can you rate the Netflix? [Documentaries]',\n",
              "       'On scale of 5,Can you rate the Netflix? [Others]',\n",
              "       'On scale of 5,Can you rate the Prime? [Original Web Series]',\n",
              "       'On scale of 5,Can you rate the Prime? [Movies]',\n",
              "       'On scale of 5,Can you rate the Prime? [Documentaries]',\n",
              "       'On scale of 5,Can you rate the Prime? [Sports and News]',\n",
              "       'On scale of 5,Can you rate the Hotstar? [Original Web Series]',\n",
              "       'On scale of 5,Can you rate the Hotstar? [Movies]',\n",
              "       'On scale of 5,Can you rate the Hotstar? [Documentaries]',\n",
              "       'On scale of 5,Can you rate the Hotstar? [Sports and News]',\n",
              "       'Have you watch or familiar with these original Web Series of Netflix?',\n",
              "       'Have you watch or familiar with these original Web Series of Prime?',\n",
              "       'Have you watch or familiar with these original Web Series of Hotstar?',\n",
              "       'From where did you get the idea of these Web Series?',\n",
              "       'Choose the features which you think is essential on your streaming platforms.',\n",
              "       'How was your overall experience of video streaming platform according to Original Series?',\n",
              "       'suggestions for the improvement of video streaming platforms? '],\n",
              "      dtype='object')"
            ]
          },
          "metadata": {
            "tags": []
          },
          "execution_count": 3801
        }
      ]
    },
    {
      "cell_type": "markdown",
      "metadata": {
        "id": "tVfZ8HnuCzVA"
      },
      "source": [
        "#**Change the Column name of the dataset.**"
      ]
    },
    {
      "cell_type": "code",
      "metadata": {
        "id": "54f0yoKQAVgG"
      },
      "source": [
        "data.rename(columns ={\n",
        "        'Do you use  Video Streaming Platforms?':'Video Streaming Platform(Y/N)',\n",
        "        'What is your Age?':'Age',\n",
        "        'How frequently you watch or stream online platforms?':'Frequency',\n",
        "       'What do you watch most on Video Streaming Platforms?':'Most_watched',\n",
        "       'On what basis you frequently choose to watch on the Streaming Platforms?':'Selection',\n",
        "       'Which of the following Subscription Based Video Streaming Platform do you currently use?':'Platforms',\n",
        "       'On what basis do you subscribe any of the above Platforms?':'Subscription',\n",
        "       'How long you are using these Video Streaming Platforms?':'Duration',\n",
        "       'On scale of 5,Can you rate the Netflix? [Original Web Series]':'Netflix_Rating_Og',\n",
        "       'On scale of 5,Can you rate the Netflix? [Movies]':'Netflix_Rating_movie',\n",
        "       'On scale of 5,Can you rate the Netflix? [Documentaries]':'Netflix_Rating_documentry',\n",
        "       'On scale of 5,Can you rate the Netflix? [Others]':'Netflix_Rating_others',\n",
        "       'On scale of 5,Can you rate the Prime? [Original Web Series]':'Prime_Rating_Og',\n",
        "       'On scale of 5,Can you rate the Prime? [Movies]':'Prime_Rating_movie',\n",
        "       'On scale of 5,Can you rate the Prime? [Documentaries]':'Prime_Rating_documentry',\n",
        "       'On scale of 5,Can you rate the Prime? [Sports and News]':'Prime_Rating_others',\n",
        "       'On scale of 5,Can you rate the Hotstar? [Original Web Series]':'Hotstar_Rating_Og',\n",
        "       'On scale of 5,Can you rate the Hotstar? [Movies]':'Hotstar_Rating_movie',\n",
        "       'On scale of 5,Can you rate the Hotstar? [Documentaries]':'Hotstar_Rating_documentry',\n",
        "       'On scale of 5,Can you rate the Hotstar? [Sports and News]':'Hotstar_Rating_sports',\n",
        "       'Have you watch or familiar with these original Web Series of Netflix?':'Netflix_OgSeries',\n",
        "       'Have you watch or familiar with these original Web Series of Prime?':'Prime_OgSeries',\n",
        "       'Have you watch or familiar with these original Web Series of Hotstar?':'Hotstar_OgSeries',\n",
        "       'From where did you get the idea of these Web Series?':'Advertisment',\n",
        "       'Choose the features which you think is essential on your streaming platforms.':'Features',\n",
        "       'How was your overall experience of video streaming platform according to Original Series?':'Overall_Rating',\n",
        "       'suggestions for the improvement of video streaming platforms? ':'Suggestion'},inplace=True\n",
        "                )"
      ],
      "execution_count": null,
      "outputs": []
    },
    {
      "cell_type": "code",
      "metadata": {
        "colab": {
          "base_uri": "https://localhost:8080/"
        },
        "id": "OovDIBUoAVjA",
        "outputId": "eb495fa1-ca49-4bb2-e7e1-3665d66dd5fe"
      },
      "source": [
        "data.columns"
      ],
      "execution_count": null,
      "outputs": [
        {
          "output_type": "execute_result",
          "data": {
            "text/plain": [
              "Index(['Timestamp', 'Video Streaming Platform(Y/N)', 'Age', 'Frequency',\n",
              "       'Most_watched', 'Selection', 'Platforms', 'Subscription', 'Duration',\n",
              "       'Netflix_Rating_Og', 'Netflix_Rating_movie',\n",
              "       'Netflix_Rating_documentry', 'Netflix_Rating_others', 'Prime_Rating_Og',\n",
              "       'Prime_Rating_movie', 'Prime_Rating_documentry', 'Prime_Rating_others',\n",
              "       'Hotstar_Rating_Og', 'Hotstar_Rating_movie',\n",
              "       'Hotstar_Rating_documentry', 'Hotstar_Rating_sports',\n",
              "       'Netflix_OgSeries', 'Prime_OgSeries', 'Hotstar_OgSeries',\n",
              "       'Advertisment', 'Features', 'Overall_Rating', 'Suggestion'],\n",
              "      dtype='object')"
            ]
          },
          "metadata": {
            "tags": []
          },
          "execution_count": 3803
        }
      ]
    },
    {
      "cell_type": "markdown",
      "metadata": {
        "id": "Cne_7QouQ9FD"
      },
      "source": [
        "**display the number of rows and columns**"
      ]
    },
    {
      "cell_type": "code",
      "metadata": {
        "colab": {
          "base_uri": "https://localhost:8080/"
        },
        "id": "N1MMe0wzAVl2",
        "outputId": "1c6eb46f-54bc-48ee-fd36-71b1771de6f6"
      },
      "source": [
        "data.shape"
      ],
      "execution_count": null,
      "outputs": [
        {
          "output_type": "execute_result",
          "data": {
            "text/plain": [
              "(250, 28)"
            ]
          },
          "metadata": {
            "tags": []
          },
          "execution_count": 3804
        }
      ]
    },
    {
      "cell_type": "markdown",
      "metadata": {
        "id": "SHhv135wRGqC"
      },
      "source": [
        "#**display the data type of data**"
      ]
    },
    {
      "cell_type": "code",
      "metadata": {
        "colab": {
          "base_uri": "https://localhost:8080/"
        },
        "id": "ysxIyz8NAVon",
        "outputId": "f7942a93-52ae-4012-df4e-d976cbb9794d"
      },
      "source": [
        "data.dtypes"
      ],
      "execution_count": null,
      "outputs": [
        {
          "output_type": "execute_result",
          "data": {
            "text/plain": [
              "Timestamp                        object\n",
              "Video Streaming Platform(Y/N)    object\n",
              "Age                              object\n",
              "Frequency                        object\n",
              "Most_watched                     object\n",
              "Selection                        object\n",
              "Platforms                        object\n",
              "Subscription                     object\n",
              "Duration                         object\n",
              "Netflix_Rating_Og                 int64\n",
              "Netflix_Rating_movie              int64\n",
              "Netflix_Rating_documentry         int64\n",
              "Netflix_Rating_others             int64\n",
              "Prime_Rating_Og                   int64\n",
              "Prime_Rating_movie                int64\n",
              "Prime_Rating_documentry           int64\n",
              "Prime_Rating_others               int64\n",
              "Hotstar_Rating_Og                 int64\n",
              "Hotstar_Rating_movie              int64\n",
              "Hotstar_Rating_documentry         int64\n",
              "Hotstar_Rating_sports             int64\n",
              "Netflix_OgSeries                 object\n",
              "Prime_OgSeries                   object\n",
              "Hotstar_OgSeries                 object\n",
              "Advertisment                     object\n",
              "Features                         object\n",
              "Overall_Rating                   object\n",
              "Suggestion                       object\n",
              "dtype: object"
            ]
          },
          "metadata": {
            "tags": []
          },
          "execution_count": 3805
        }
      ]
    },
    {
      "cell_type": "code",
      "metadata": {
        "id": "nhN2d3fiYMt5"
      },
      "source": [
        ""
      ],
      "execution_count": null,
      "outputs": []
    },
    {
      "cell_type": "code",
      "metadata": {
        "colab": {
          "base_uri": "https://localhost:8080/"
        },
        "id": "KTz5gKupAVrY",
        "outputId": "a89cebc3-face-4c01-90d7-bf2c7fc6dd68"
      },
      "source": [
        "data.info()"
      ],
      "execution_count": null,
      "outputs": [
        {
          "output_type": "stream",
          "text": [
            "<class 'pandas.core.frame.DataFrame'>\n",
            "RangeIndex: 250 entries, 0 to 249\n",
            "Data columns (total 28 columns):\n",
            " #   Column                         Non-Null Count  Dtype \n",
            "---  ------                         --------------  ----- \n",
            " 0   Timestamp                      250 non-null    object\n",
            " 1   Video Streaming Platform(Y/N)  250 non-null    object\n",
            " 2   Age                            250 non-null    object\n",
            " 3   Frequency                      250 non-null    object\n",
            " 4   Most_watched                   250 non-null    object\n",
            " 5   Selection                      250 non-null    object\n",
            " 6   Platforms                      250 non-null    object\n",
            " 7   Subscription                   250 non-null    object\n",
            " 8   Duration                       250 non-null    object\n",
            " 9   Netflix_Rating_Og              250 non-null    int64 \n",
            " 10  Netflix_Rating_movie           250 non-null    int64 \n",
            " 11  Netflix_Rating_documentry      250 non-null    int64 \n",
            " 12  Netflix_Rating_others          250 non-null    int64 \n",
            " 13  Prime_Rating_Og                250 non-null    int64 \n",
            " 14  Prime_Rating_movie             250 non-null    int64 \n",
            " 15  Prime_Rating_documentry        250 non-null    int64 \n",
            " 16  Prime_Rating_others            250 non-null    int64 \n",
            " 17  Hotstar_Rating_Og              250 non-null    int64 \n",
            " 18  Hotstar_Rating_movie           250 non-null    int64 \n",
            " 19  Hotstar_Rating_documentry      250 non-null    int64 \n",
            " 20  Hotstar_Rating_sports          250 non-null    int64 \n",
            " 21  Netflix_OgSeries               250 non-null    object\n",
            " 22  Prime_OgSeries                 250 non-null    object\n",
            " 23  Hotstar_OgSeries               250 non-null    object\n",
            " 24  Advertisment                   250 non-null    object\n",
            " 25  Features                       250 non-null    object\n",
            " 26  Overall_Rating                 250 non-null    object\n",
            " 27  Suggestion                     250 non-null    object\n",
            "dtypes: int64(12), object(16)\n",
            "memory usage: 54.8+ KB\n"
          ],
          "name": "stdout"
        }
      ]
    },
    {
      "cell_type": "code",
      "metadata": {
        "colab": {
          "base_uri": "https://localhost:8080/",
          "height": 427
        },
        "id": "m-L6PVo5AVuM",
        "outputId": "7c32139d-c06f-46da-89e9-3f884c70c66e"
      },
      "source": [
        "data.corr()"
      ],
      "execution_count": null,
      "outputs": [
        {
          "output_type": "execute_result",
          "data": {
            "text/html": [
              "<div>\n",
              "<style scoped>\n",
              "    .dataframe tbody tr th:only-of-type {\n",
              "        vertical-align: middle;\n",
              "    }\n",
              "\n",
              "    .dataframe tbody tr th {\n",
              "        vertical-align: top;\n",
              "    }\n",
              "\n",
              "    .dataframe thead th {\n",
              "        text-align: right;\n",
              "    }\n",
              "</style>\n",
              "<table border=\"1\" class=\"dataframe\">\n",
              "  <thead>\n",
              "    <tr style=\"text-align: right;\">\n",
              "      <th></th>\n",
              "      <th>Netflix_Rating_Og</th>\n",
              "      <th>Netflix_Rating_movie</th>\n",
              "      <th>Netflix_Rating_documentry</th>\n",
              "      <th>Netflix_Rating_others</th>\n",
              "      <th>Prime_Rating_Og</th>\n",
              "      <th>Prime_Rating_movie</th>\n",
              "      <th>Prime_Rating_documentry</th>\n",
              "      <th>Prime_Rating_others</th>\n",
              "      <th>Hotstar_Rating_Og</th>\n",
              "      <th>Hotstar_Rating_movie</th>\n",
              "      <th>Hotstar_Rating_documentry</th>\n",
              "      <th>Hotstar_Rating_sports</th>\n",
              "    </tr>\n",
              "  </thead>\n",
              "  <tbody>\n",
              "    <tr>\n",
              "      <th>Netflix_Rating_Og</th>\n",
              "      <td>1.000000</td>\n",
              "      <td>0.700059</td>\n",
              "      <td>0.594544</td>\n",
              "      <td>0.490165</td>\n",
              "      <td>0.641548</td>\n",
              "      <td>0.594505</td>\n",
              "      <td>0.435841</td>\n",
              "      <td>0.409887</td>\n",
              "      <td>0.595869</td>\n",
              "      <td>0.460879</td>\n",
              "      <td>0.267590</td>\n",
              "      <td>0.310622</td>\n",
              "    </tr>\n",
              "    <tr>\n",
              "      <th>Netflix_Rating_movie</th>\n",
              "      <td>0.700059</td>\n",
              "      <td>1.000000</td>\n",
              "      <td>0.498765</td>\n",
              "      <td>0.503326</td>\n",
              "      <td>0.528972</td>\n",
              "      <td>0.526944</td>\n",
              "      <td>0.312396</td>\n",
              "      <td>0.432535</td>\n",
              "      <td>0.503144</td>\n",
              "      <td>0.450504</td>\n",
              "      <td>0.244023</td>\n",
              "      <td>0.289490</td>\n",
              "    </tr>\n",
              "    <tr>\n",
              "      <th>Netflix_Rating_documentry</th>\n",
              "      <td>0.594544</td>\n",
              "      <td>0.498765</td>\n",
              "      <td>1.000000</td>\n",
              "      <td>0.651086</td>\n",
              "      <td>0.491358</td>\n",
              "      <td>0.508193</td>\n",
              "      <td>0.563045</td>\n",
              "      <td>0.422858</td>\n",
              "      <td>0.563753</td>\n",
              "      <td>0.542319</td>\n",
              "      <td>0.346399</td>\n",
              "      <td>0.381470</td>\n",
              "    </tr>\n",
              "    <tr>\n",
              "      <th>Netflix_Rating_others</th>\n",
              "      <td>0.490165</td>\n",
              "      <td>0.503326</td>\n",
              "      <td>0.651086</td>\n",
              "      <td>1.000000</td>\n",
              "      <td>0.411768</td>\n",
              "      <td>0.324026</td>\n",
              "      <td>0.362678</td>\n",
              "      <td>0.581964</td>\n",
              "      <td>0.534613</td>\n",
              "      <td>0.455612</td>\n",
              "      <td>0.354062</td>\n",
              "      <td>0.218042</td>\n",
              "    </tr>\n",
              "    <tr>\n",
              "      <th>Prime_Rating_Og</th>\n",
              "      <td>0.641548</td>\n",
              "      <td>0.528972</td>\n",
              "      <td>0.491358</td>\n",
              "      <td>0.411768</td>\n",
              "      <td>1.000000</td>\n",
              "      <td>0.725312</td>\n",
              "      <td>0.617707</td>\n",
              "      <td>0.522822</td>\n",
              "      <td>0.596357</td>\n",
              "      <td>0.478894</td>\n",
              "      <td>0.256065</td>\n",
              "      <td>0.316907</td>\n",
              "    </tr>\n",
              "    <tr>\n",
              "      <th>Prime_Rating_movie</th>\n",
              "      <td>0.594505</td>\n",
              "      <td>0.526944</td>\n",
              "      <td>0.508193</td>\n",
              "      <td>0.324026</td>\n",
              "      <td>0.725312</td>\n",
              "      <td>1.000000</td>\n",
              "      <td>0.591898</td>\n",
              "      <td>0.420470</td>\n",
              "      <td>0.482243</td>\n",
              "      <td>0.545204</td>\n",
              "      <td>0.283144</td>\n",
              "      <td>0.405522</td>\n",
              "    </tr>\n",
              "    <tr>\n",
              "      <th>Prime_Rating_documentry</th>\n",
              "      <td>0.435841</td>\n",
              "      <td>0.312396</td>\n",
              "      <td>0.563045</td>\n",
              "      <td>0.362678</td>\n",
              "      <td>0.617707</td>\n",
              "      <td>0.591898</td>\n",
              "      <td>1.000000</td>\n",
              "      <td>0.581178</td>\n",
              "      <td>0.529110</td>\n",
              "      <td>0.503590</td>\n",
              "      <td>0.391998</td>\n",
              "      <td>0.406669</td>\n",
              "    </tr>\n",
              "    <tr>\n",
              "      <th>Prime_Rating_others</th>\n",
              "      <td>0.409887</td>\n",
              "      <td>0.432535</td>\n",
              "      <td>0.422858</td>\n",
              "      <td>0.581964</td>\n",
              "      <td>0.522822</td>\n",
              "      <td>0.420470</td>\n",
              "      <td>0.581178</td>\n",
              "      <td>1.000000</td>\n",
              "      <td>0.614797</td>\n",
              "      <td>0.500543</td>\n",
              "      <td>0.383990</td>\n",
              "      <td>0.230451</td>\n",
              "    </tr>\n",
              "    <tr>\n",
              "      <th>Hotstar_Rating_Og</th>\n",
              "      <td>0.595869</td>\n",
              "      <td>0.503144</td>\n",
              "      <td>0.563753</td>\n",
              "      <td>0.534613</td>\n",
              "      <td>0.596357</td>\n",
              "      <td>0.482243</td>\n",
              "      <td>0.529110</td>\n",
              "      <td>0.614797</td>\n",
              "      <td>1.000000</td>\n",
              "      <td>0.751668</td>\n",
              "      <td>0.568944</td>\n",
              "      <td>0.412144</td>\n",
              "    </tr>\n",
              "    <tr>\n",
              "      <th>Hotstar_Rating_movie</th>\n",
              "      <td>0.460879</td>\n",
              "      <td>0.450504</td>\n",
              "      <td>0.542319</td>\n",
              "      <td>0.455612</td>\n",
              "      <td>0.478894</td>\n",
              "      <td>0.545204</td>\n",
              "      <td>0.503590</td>\n",
              "      <td>0.500543</td>\n",
              "      <td>0.751668</td>\n",
              "      <td>1.000000</td>\n",
              "      <td>0.575959</td>\n",
              "      <td>0.543472</td>\n",
              "    </tr>\n",
              "    <tr>\n",
              "      <th>Hotstar_Rating_documentry</th>\n",
              "      <td>0.267590</td>\n",
              "      <td>0.244023</td>\n",
              "      <td>0.346399</td>\n",
              "      <td>0.354062</td>\n",
              "      <td>0.256065</td>\n",
              "      <td>0.283144</td>\n",
              "      <td>0.391998</td>\n",
              "      <td>0.383990</td>\n",
              "      <td>0.568944</td>\n",
              "      <td>0.575959</td>\n",
              "      <td>1.000000</td>\n",
              "      <td>0.528857</td>\n",
              "    </tr>\n",
              "    <tr>\n",
              "      <th>Hotstar_Rating_sports</th>\n",
              "      <td>0.310622</td>\n",
              "      <td>0.289490</td>\n",
              "      <td>0.381470</td>\n",
              "      <td>0.218042</td>\n",
              "      <td>0.316907</td>\n",
              "      <td>0.405522</td>\n",
              "      <td>0.406669</td>\n",
              "      <td>0.230451</td>\n",
              "      <td>0.412144</td>\n",
              "      <td>0.543472</td>\n",
              "      <td>0.528857</td>\n",
              "      <td>1.000000</td>\n",
              "    </tr>\n",
              "  </tbody>\n",
              "</table>\n",
              "</div>"
            ],
            "text/plain": [
              "                           Netflix_Rating_Og  ...  Hotstar_Rating_sports\n",
              "Netflix_Rating_Og                   1.000000  ...               0.310622\n",
              "Netflix_Rating_movie                0.700059  ...               0.289490\n",
              "Netflix_Rating_documentry           0.594544  ...               0.381470\n",
              "Netflix_Rating_others               0.490165  ...               0.218042\n",
              "Prime_Rating_Og                     0.641548  ...               0.316907\n",
              "Prime_Rating_movie                  0.594505  ...               0.405522\n",
              "Prime_Rating_documentry             0.435841  ...               0.406669\n",
              "Prime_Rating_others                 0.409887  ...               0.230451\n",
              "Hotstar_Rating_Og                   0.595869  ...               0.412144\n",
              "Hotstar_Rating_movie                0.460879  ...               0.543472\n",
              "Hotstar_Rating_documentry           0.267590  ...               0.528857\n",
              "Hotstar_Rating_sports               0.310622  ...               1.000000\n",
              "\n",
              "[12 rows x 12 columns]"
            ]
          },
          "metadata": {
            "tags": []
          },
          "execution_count": 3807
        }
      ]
    },
    {
      "cell_type": "markdown",
      "metadata": {
        "id": "XvZq-jbVRV_t"
      },
      "source": [
        "#**display the last 20 rows of the data**"
      ]
    },
    {
      "cell_type": "code",
      "metadata": {
        "colab": {
          "base_uri": "https://localhost:8080/",
          "height": 1000
        },
        "id": "H30EUayCAVxI",
        "outputId": "9f9c1e51-e048-42b6-b049-0ccee5ca263f"
      },
      "source": [
        "data.tail(20)"
      ],
      "execution_count": null,
      "outputs": [
        {
          "output_type": "execute_result",
          "data": {
            "text/html": [
              "<div>\n",
              "<style scoped>\n",
              "    .dataframe tbody tr th:only-of-type {\n",
              "        vertical-align: middle;\n",
              "    }\n",
              "\n",
              "    .dataframe tbody tr th {\n",
              "        vertical-align: top;\n",
              "    }\n",
              "\n",
              "    .dataframe thead th {\n",
              "        text-align: right;\n",
              "    }\n",
              "</style>\n",
              "<table border=\"1\" class=\"dataframe\">\n",
              "  <thead>\n",
              "    <tr style=\"text-align: right;\">\n",
              "      <th></th>\n",
              "      <th>Timestamp</th>\n",
              "      <th>Video Streaming Platform(Y/N)</th>\n",
              "      <th>Age</th>\n",
              "      <th>Frequency</th>\n",
              "      <th>Most_watched</th>\n",
              "      <th>Selection</th>\n",
              "      <th>Platforms</th>\n",
              "      <th>Subscription</th>\n",
              "      <th>Duration</th>\n",
              "      <th>Netflix_Rating_Og</th>\n",
              "      <th>Netflix_Rating_movie</th>\n",
              "      <th>Netflix_Rating_documentry</th>\n",
              "      <th>Netflix_Rating_others</th>\n",
              "      <th>Prime_Rating_Og</th>\n",
              "      <th>Prime_Rating_movie</th>\n",
              "      <th>Prime_Rating_documentry</th>\n",
              "      <th>Prime_Rating_others</th>\n",
              "      <th>Hotstar_Rating_Og</th>\n",
              "      <th>Hotstar_Rating_movie</th>\n",
              "      <th>Hotstar_Rating_documentry</th>\n",
              "      <th>Hotstar_Rating_sports</th>\n",
              "      <th>Netflix_OgSeries</th>\n",
              "      <th>Prime_OgSeries</th>\n",
              "      <th>Hotstar_OgSeries</th>\n",
              "      <th>Advertisment</th>\n",
              "      <th>Features</th>\n",
              "      <th>Overall_Rating</th>\n",
              "      <th>Suggestion</th>\n",
              "    </tr>\n",
              "  </thead>\n",
              "  <tbody>\n",
              "    <tr>\n",
              "      <th>230</th>\n",
              "      <td>5/19/2021 21:53:56</td>\n",
              "      <td>Yes</td>\n",
              "      <td>18-30</td>\n",
              "      <td>Monthly</td>\n",
              "      <td>All of the above</td>\n",
              "      <td>All of the above</td>\n",
              "      <td>All of the above</td>\n",
              "      <td>All of the above</td>\n",
              "      <td>More than 2 Year</td>\n",
              "      <td>5</td>\n",
              "      <td>4</td>\n",
              "      <td>4</td>\n",
              "      <td>3</td>\n",
              "      <td>5</td>\n",
              "      <td>4</td>\n",
              "      <td>3</td>\n",
              "      <td>4</td>\n",
              "      <td>5</td>\n",
              "      <td>4</td>\n",
              "      <td>3</td>\n",
              "      <td>5</td>\n",
              "      <td>All of the Above</td>\n",
              "      <td>All of the above</td>\n",
              "      <td>All of the above</td>\n",
              "      <td>Family/Friends Recommendation</td>\n",
              "      <td>Recommendation</td>\n",
              "      <td>Good</td>\n",
              "      <td>Availability in Languages</td>\n",
              "    </tr>\n",
              "    <tr>\n",
              "      <th>231</th>\n",
              "      <td>5/19/2021 21:54:36</td>\n",
              "      <td>Yes</td>\n",
              "      <td>18-30</td>\n",
              "      <td>Monthly</td>\n",
              "      <td>All of the above</td>\n",
              "      <td>All of the above</td>\n",
              "      <td>All of the above</td>\n",
              "      <td>All of the above</td>\n",
              "      <td>More than 2 Year</td>\n",
              "      <td>5</td>\n",
              "      <td>5</td>\n",
              "      <td>4</td>\n",
              "      <td>3</td>\n",
              "      <td>5</td>\n",
              "      <td>4</td>\n",
              "      <td>4</td>\n",
              "      <td>5</td>\n",
              "      <td>5</td>\n",
              "      <td>4</td>\n",
              "      <td>4</td>\n",
              "      <td>3</td>\n",
              "      <td>All of the Above</td>\n",
              "      <td>All of the above</td>\n",
              "      <td>All of the above</td>\n",
              "      <td>All of the above</td>\n",
              "      <td>All of the above</td>\n",
              "      <td>Excellent</td>\n",
              "      <td>Decrease Subscription Price</td>\n",
              "    </tr>\n",
              "    <tr>\n",
              "      <th>232</th>\n",
              "      <td>5/19/2021 21:54:47</td>\n",
              "      <td>Yes</td>\n",
              "      <td>18-30</td>\n",
              "      <td>Daily</td>\n",
              "      <td>Original Web Series, Movies</td>\n",
              "      <td>All of the above</td>\n",
              "      <td>Netflix</td>\n",
              "      <td>Original Web Series</td>\n",
              "      <td>More than 2 Year</td>\n",
              "      <td>5</td>\n",
              "      <td>5</td>\n",
              "      <td>5</td>\n",
              "      <td>3</td>\n",
              "      <td>4</td>\n",
              "      <td>5</td>\n",
              "      <td>4</td>\n",
              "      <td>3</td>\n",
              "      <td>4</td>\n",
              "      <td>5</td>\n",
              "      <td>3</td>\n",
              "      <td>4</td>\n",
              "      <td>All of the Above</td>\n",
              "      <td>None</td>\n",
              "      <td>None</td>\n",
              "      <td>Social Media</td>\n",
              "      <td>Search Option</td>\n",
              "      <td>Good</td>\n",
              "      <td>Decrease Subscription Price</td>\n",
              "    </tr>\n",
              "    <tr>\n",
              "      <th>233</th>\n",
              "      <td>5/19/2021 21:57:57</td>\n",
              "      <td>Yes</td>\n",
              "      <td>18-30</td>\n",
              "      <td>Once or twice in a week</td>\n",
              "      <td>Movies</td>\n",
              "      <td>Story</td>\n",
              "      <td>Prime</td>\n",
              "      <td>Original Web Series</td>\n",
              "      <td>More than 2 Year</td>\n",
              "      <td>5</td>\n",
              "      <td>4</td>\n",
              "      <td>5</td>\n",
              "      <td>4</td>\n",
              "      <td>5</td>\n",
              "      <td>5</td>\n",
              "      <td>4</td>\n",
              "      <td>3</td>\n",
              "      <td>3</td>\n",
              "      <td>4</td>\n",
              "      <td>4</td>\n",
              "      <td>5</td>\n",
              "      <td>None</td>\n",
              "      <td>Breath into the shadow</td>\n",
              "      <td>None</td>\n",
              "      <td>Social Media</td>\n",
              "      <td>Recommendation</td>\n",
              "      <td>Excellent</td>\n",
              "      <td>Improvement in Story ,Casting</td>\n",
              "    </tr>\n",
              "    <tr>\n",
              "      <th>234</th>\n",
              "      <td>5/19/2021 23:15:29</td>\n",
              "      <td>Yes</td>\n",
              "      <td>Less than 18</td>\n",
              "      <td>Daily</td>\n",
              "      <td>Movies</td>\n",
              "      <td>Story</td>\n",
              "      <td>Hotstar</td>\n",
              "      <td>Movies</td>\n",
              "      <td>Between 1 and 2 Year</td>\n",
              "      <td>3</td>\n",
              "      <td>1</td>\n",
              "      <td>3</td>\n",
              "      <td>3</td>\n",
              "      <td>3</td>\n",
              "      <td>1</td>\n",
              "      <td>3</td>\n",
              "      <td>1</td>\n",
              "      <td>2</td>\n",
              "      <td>1</td>\n",
              "      <td>3</td>\n",
              "      <td>1</td>\n",
              "      <td>None</td>\n",
              "      <td>Tandav</td>\n",
              "      <td>All of the above</td>\n",
              "      <td>Family/Friends Recommendation</td>\n",
              "      <td>Recommendation</td>\n",
              "      <td>Good</td>\n",
              "      <td>Remove Ads/Limit Ads duration</td>\n",
              "    </tr>\n",
              "    <tr>\n",
              "      <th>235</th>\n",
              "      <td>5/19/2021 23:18:26</td>\n",
              "      <td>Yes</td>\n",
              "      <td>31-50</td>\n",
              "      <td>Once or twice in a week</td>\n",
              "      <td>All of the above</td>\n",
              "      <td>Story</td>\n",
              "      <td>Prime</td>\n",
              "      <td>Original Web Series</td>\n",
              "      <td>Between 1 and 2 Year</td>\n",
              "      <td>1</td>\n",
              "      <td>2</td>\n",
              "      <td>2</td>\n",
              "      <td>3</td>\n",
              "      <td>1</td>\n",
              "      <td>1</td>\n",
              "      <td>3</td>\n",
              "      <td>3</td>\n",
              "      <td>1</td>\n",
              "      <td>1</td>\n",
              "      <td>3</td>\n",
              "      <td>1</td>\n",
              "      <td>None</td>\n",
              "      <td>All of the above</td>\n",
              "      <td>All of the above</td>\n",
              "      <td>Family/Friends Recommendation</td>\n",
              "      <td>Recommendation</td>\n",
              "      <td>Fair</td>\n",
              "      <td>Improvement in Story ,Casting</td>\n",
              "    </tr>\n",
              "    <tr>\n",
              "      <th>236</th>\n",
              "      <td>5/19/2021 23:31:14</td>\n",
              "      <td>Yes</td>\n",
              "      <td>31-50</td>\n",
              "      <td>Once or twice in a week</td>\n",
              "      <td>Movies, Sports and News</td>\n",
              "      <td>Story</td>\n",
              "      <td>All of the above</td>\n",
              "      <td>All of the above</td>\n",
              "      <td>Between 1 and 2 Year</td>\n",
              "      <td>1</td>\n",
              "      <td>1</td>\n",
              "      <td>2</td>\n",
              "      <td>2</td>\n",
              "      <td>2</td>\n",
              "      <td>1</td>\n",
              "      <td>2</td>\n",
              "      <td>1</td>\n",
              "      <td>1</td>\n",
              "      <td>1</td>\n",
              "      <td>3</td>\n",
              "      <td>1</td>\n",
              "      <td>13 Reason Why</td>\n",
              "      <td>Mirzapur, Tandav</td>\n",
              "      <td>Speacial OPS, Arya</td>\n",
              "      <td>Television</td>\n",
              "      <td>Search Option</td>\n",
              "      <td>Fair</td>\n",
              "      <td>Improvement in Story ,Casting</td>\n",
              "    </tr>\n",
              "    <tr>\n",
              "      <th>237</th>\n",
              "      <td>5/20/2021 10:48:23</td>\n",
              "      <td>Yes</td>\n",
              "      <td>18-30</td>\n",
              "      <td>Daily</td>\n",
              "      <td>Original Web Series</td>\n",
              "      <td>All of the above</td>\n",
              "      <td>Netflix</td>\n",
              "      <td>Original Web Series</td>\n",
              "      <td>More than 2 Year</td>\n",
              "      <td>5</td>\n",
              "      <td>5</td>\n",
              "      <td>4</td>\n",
              "      <td>3</td>\n",
              "      <td>3</td>\n",
              "      <td>4</td>\n",
              "      <td>1</td>\n",
              "      <td>1</td>\n",
              "      <td>1</td>\n",
              "      <td>2</td>\n",
              "      <td>3</td>\n",
              "      <td>3</td>\n",
              "      <td>All of the Above</td>\n",
              "      <td>Mirzapur</td>\n",
              "      <td>None</td>\n",
              "      <td>All of the above</td>\n",
              "      <td>Search Option</td>\n",
              "      <td>Excellent</td>\n",
              "      <td>Decrease Subscription Price</td>\n",
              "    </tr>\n",
              "    <tr>\n",
              "      <th>238</th>\n",
              "      <td>5/20/2021 10:49:17</td>\n",
              "      <td>Yes</td>\n",
              "      <td>31-50</td>\n",
              "      <td>Once or twice in a week</td>\n",
              "      <td>Movies, Documentaries, Sports and News</td>\n",
              "      <td>All of the above</td>\n",
              "      <td>Hotstar</td>\n",
              "      <td>Sports and News</td>\n",
              "      <td>Less than 1 Year</td>\n",
              "      <td>1</td>\n",
              "      <td>1</td>\n",
              "      <td>1</td>\n",
              "      <td>1</td>\n",
              "      <td>1</td>\n",
              "      <td>1</td>\n",
              "      <td>2</td>\n",
              "      <td>2</td>\n",
              "      <td>1</td>\n",
              "      <td>1</td>\n",
              "      <td>4</td>\n",
              "      <td>5</td>\n",
              "      <td>None</td>\n",
              "      <td>None</td>\n",
              "      <td>None</td>\n",
              "      <td>Television</td>\n",
              "      <td>Ease of use</td>\n",
              "      <td>Excellent</td>\n",
              "      <td>Availability in Languages</td>\n",
              "    </tr>\n",
              "    <tr>\n",
              "      <th>239</th>\n",
              "      <td>5/20/2021 11:04:45</td>\n",
              "      <td>Yes</td>\n",
              "      <td>18-30</td>\n",
              "      <td>Daily</td>\n",
              "      <td>Original Web Series, Movies</td>\n",
              "      <td>All of the above</td>\n",
              "      <td>Netflix</td>\n",
              "      <td>Original Web Series</td>\n",
              "      <td>Less than 1 Year</td>\n",
              "      <td>5</td>\n",
              "      <td>4</td>\n",
              "      <td>5</td>\n",
              "      <td>3</td>\n",
              "      <td>4</td>\n",
              "      <td>5</td>\n",
              "      <td>5</td>\n",
              "      <td>4</td>\n",
              "      <td>3</td>\n",
              "      <td>4</td>\n",
              "      <td>3</td>\n",
              "      <td>5</td>\n",
              "      <td>All of the Above</td>\n",
              "      <td>None</td>\n",
              "      <td>None</td>\n",
              "      <td>Social Media</td>\n",
              "      <td>Recommendation</td>\n",
              "      <td>Excellent</td>\n",
              "      <td>Decrease Subscription Price</td>\n",
              "    </tr>\n",
              "    <tr>\n",
              "      <th>240</th>\n",
              "      <td>5/20/2021 11:07:15</td>\n",
              "      <td>Yes</td>\n",
              "      <td>31-50</td>\n",
              "      <td>Daily</td>\n",
              "      <td>All of the above</td>\n",
              "      <td>Story, Director</td>\n",
              "      <td>All of the above</td>\n",
              "      <td>Original Web Series</td>\n",
              "      <td>Between 1 and 2 Year</td>\n",
              "      <td>4</td>\n",
              "      <td>5</td>\n",
              "      <td>5</td>\n",
              "      <td>3</td>\n",
              "      <td>4</td>\n",
              "      <td>5</td>\n",
              "      <td>3</td>\n",
              "      <td>3</td>\n",
              "      <td>3</td>\n",
              "      <td>5</td>\n",
              "      <td>4</td>\n",
              "      <td>5</td>\n",
              "      <td>Sacred Games, Money Heist</td>\n",
              "      <td>Mirzapur, Tandav</td>\n",
              "      <td>Hostages, Criminal Justice</td>\n",
              "      <td>All of the above</td>\n",
              "      <td>Recommendation</td>\n",
              "      <td>Excellent</td>\n",
              "      <td>Availability in Languages</td>\n",
              "    </tr>\n",
              "    <tr>\n",
              "      <th>241</th>\n",
              "      <td>5/20/2021 11:13:54</td>\n",
              "      <td>Yes</td>\n",
              "      <td>18-30</td>\n",
              "      <td>Daily</td>\n",
              "      <td>Movies</td>\n",
              "      <td>Cast, Story</td>\n",
              "      <td>Prime</td>\n",
              "      <td>Original Web Series</td>\n",
              "      <td>Less than 1 Year</td>\n",
              "      <td>5</td>\n",
              "      <td>5</td>\n",
              "      <td>5</td>\n",
              "      <td>4</td>\n",
              "      <td>5</td>\n",
              "      <td>4</td>\n",
              "      <td>4</td>\n",
              "      <td>3</td>\n",
              "      <td>5</td>\n",
              "      <td>4</td>\n",
              "      <td>5</td>\n",
              "      <td>5</td>\n",
              "      <td>None</td>\n",
              "      <td>All of the above</td>\n",
              "      <td>None</td>\n",
              "      <td>Social Media</td>\n",
              "      <td>All of the above</td>\n",
              "      <td>Excellent</td>\n",
              "      <td>Availability in Languages</td>\n",
              "    </tr>\n",
              "    <tr>\n",
              "      <th>242</th>\n",
              "      <td>5/20/2021 11:50:41</td>\n",
              "      <td>Yes</td>\n",
              "      <td>More than 50</td>\n",
              "      <td>Once or twice in a week</td>\n",
              "      <td>Movies</td>\n",
              "      <td>Story</td>\n",
              "      <td>Prime</td>\n",
              "      <td>Movies</td>\n",
              "      <td>Less than 1 Year</td>\n",
              "      <td>3</td>\n",
              "      <td>1</td>\n",
              "      <td>3</td>\n",
              "      <td>3</td>\n",
              "      <td>3</td>\n",
              "      <td>1</td>\n",
              "      <td>3</td>\n",
              "      <td>3</td>\n",
              "      <td>3</td>\n",
              "      <td>1</td>\n",
              "      <td>3</td>\n",
              "      <td>1</td>\n",
              "      <td>None</td>\n",
              "      <td>None</td>\n",
              "      <td>All of the above</td>\n",
              "      <td>Television</td>\n",
              "      <td>Ease of use</td>\n",
              "      <td>Fair</td>\n",
              "      <td>Improvement in Story ,Casting</td>\n",
              "    </tr>\n",
              "    <tr>\n",
              "      <th>243</th>\n",
              "      <td>5/20/2021 11:52:06</td>\n",
              "      <td>Yes</td>\n",
              "      <td>18-30</td>\n",
              "      <td>Daily</td>\n",
              "      <td>Original Web Series</td>\n",
              "      <td>Story</td>\n",
              "      <td>Netflix</td>\n",
              "      <td>Original Web Series</td>\n",
              "      <td>Between 1 and 2 Year</td>\n",
              "      <td>1</td>\n",
              "      <td>2</td>\n",
              "      <td>2</td>\n",
              "      <td>2</td>\n",
              "      <td>1</td>\n",
              "      <td>2</td>\n",
              "      <td>2</td>\n",
              "      <td>2</td>\n",
              "      <td>1</td>\n",
              "      <td>2</td>\n",
              "      <td>2</td>\n",
              "      <td>2</td>\n",
              "      <td>All of the Above</td>\n",
              "      <td>Tandav</td>\n",
              "      <td>Arya</td>\n",
              "      <td>Family/Friends Recommendation</td>\n",
              "      <td>All of the above</td>\n",
              "      <td>Fair</td>\n",
              "      <td>Remove Ads/Limit Ads duration</td>\n",
              "    </tr>\n",
              "    <tr>\n",
              "      <th>244</th>\n",
              "      <td>5/20/2021 11:53:49</td>\n",
              "      <td>Yes</td>\n",
              "      <td>31-50</td>\n",
              "      <td>Monthly</td>\n",
              "      <td>Movies, Sports and News</td>\n",
              "      <td>Story</td>\n",
              "      <td>Hotstar</td>\n",
              "      <td>Movies</td>\n",
              "      <td>Less than 1 Year</td>\n",
              "      <td>1</td>\n",
              "      <td>2</td>\n",
              "      <td>2</td>\n",
              "      <td>2</td>\n",
              "      <td>1</td>\n",
              "      <td>1</td>\n",
              "      <td>2</td>\n",
              "      <td>2</td>\n",
              "      <td>1</td>\n",
              "      <td>2</td>\n",
              "      <td>2</td>\n",
              "      <td>2</td>\n",
              "      <td>Money Heist</td>\n",
              "      <td>All of the above</td>\n",
              "      <td>All of the above</td>\n",
              "      <td>All of the above</td>\n",
              "      <td>All of the above</td>\n",
              "      <td>Excellent</td>\n",
              "      <td>All of the above</td>\n",
              "    </tr>\n",
              "    <tr>\n",
              "      <th>245</th>\n",
              "      <td>5/20/2021 23:23:40</td>\n",
              "      <td>Yes</td>\n",
              "      <td>Less than 18</td>\n",
              "      <td>Monthly</td>\n",
              "      <td>Original Web Series, Movies</td>\n",
              "      <td>Story, Director</td>\n",
              "      <td>Netflix</td>\n",
              "      <td>All of the above</td>\n",
              "      <td>More than 2 Year</td>\n",
              "      <td>4</td>\n",
              "      <td>5</td>\n",
              "      <td>4</td>\n",
              "      <td>4</td>\n",
              "      <td>5</td>\n",
              "      <td>4</td>\n",
              "      <td>4</td>\n",
              "      <td>5</td>\n",
              "      <td>5</td>\n",
              "      <td>4</td>\n",
              "      <td>4</td>\n",
              "      <td>5</td>\n",
              "      <td>All of the Above</td>\n",
              "      <td>All of the above</td>\n",
              "      <td>All of the above</td>\n",
              "      <td>All of the above</td>\n",
              "      <td>All of the above</td>\n",
              "      <td>Good</td>\n",
              "      <td>Availability in Languages</td>\n",
              "    </tr>\n",
              "    <tr>\n",
              "      <th>246</th>\n",
              "      <td>5/20/2021 23:24:20</td>\n",
              "      <td>Yes</td>\n",
              "      <td>31-50</td>\n",
              "      <td>Monthly</td>\n",
              "      <td>Movies</td>\n",
              "      <td>Director</td>\n",
              "      <td>Netflix</td>\n",
              "      <td>Movies</td>\n",
              "      <td>Between 1 and 2 Year</td>\n",
              "      <td>5</td>\n",
              "      <td>4</td>\n",
              "      <td>4</td>\n",
              "      <td>4</td>\n",
              "      <td>5</td>\n",
              "      <td>5</td>\n",
              "      <td>4</td>\n",
              "      <td>4</td>\n",
              "      <td>5</td>\n",
              "      <td>5</td>\n",
              "      <td>4</td>\n",
              "      <td>4</td>\n",
              "      <td>The Witcher, Money Heist</td>\n",
              "      <td>Mirzapur, Tandav</td>\n",
              "      <td>Hostages, Arya</td>\n",
              "      <td>Television</td>\n",
              "      <td>All of the above</td>\n",
              "      <td>Excellent</td>\n",
              "      <td>Improvement in Story ,Casting</td>\n",
              "    </tr>\n",
              "    <tr>\n",
              "      <th>247</th>\n",
              "      <td>5/20/2021 23:25:03</td>\n",
              "      <td>Yes</td>\n",
              "      <td>18-30</td>\n",
              "      <td>Once or twice in a week</td>\n",
              "      <td>Movies, Sports and News</td>\n",
              "      <td>Story, Director</td>\n",
              "      <td>Prime</td>\n",
              "      <td>Movies</td>\n",
              "      <td>Less than 1 Year</td>\n",
              "      <td>5</td>\n",
              "      <td>4</td>\n",
              "      <td>4</td>\n",
              "      <td>3</td>\n",
              "      <td>5</td>\n",
              "      <td>4</td>\n",
              "      <td>4</td>\n",
              "      <td>4</td>\n",
              "      <td>5</td>\n",
              "      <td>4</td>\n",
              "      <td>4</td>\n",
              "      <td>5</td>\n",
              "      <td>Sacred Games, Money Heist</td>\n",
              "      <td>Mirzapur, Breath into the shadow</td>\n",
              "      <td>Hostages, Arya</td>\n",
              "      <td>Television</td>\n",
              "      <td>Ease of use</td>\n",
              "      <td>Good</td>\n",
              "      <td>Remove Ads/Limit Ads duration</td>\n",
              "    </tr>\n",
              "    <tr>\n",
              "      <th>248</th>\n",
              "      <td>5/20/2021 23:25:47</td>\n",
              "      <td>Yes</td>\n",
              "      <td>18-30</td>\n",
              "      <td>Once or twice in a week</td>\n",
              "      <td>Movies, Sports and News</td>\n",
              "      <td>Director</td>\n",
              "      <td>Prime</td>\n",
              "      <td>Movies</td>\n",
              "      <td>Less than 1 Year</td>\n",
              "      <td>5</td>\n",
              "      <td>4</td>\n",
              "      <td>4</td>\n",
              "      <td>3</td>\n",
              "      <td>5</td>\n",
              "      <td>4</td>\n",
              "      <td>4</td>\n",
              "      <td>4</td>\n",
              "      <td>5</td>\n",
              "      <td>4</td>\n",
              "      <td>4</td>\n",
              "      <td>5</td>\n",
              "      <td>Sacred Games, The Witcher</td>\n",
              "      <td>Mirzapur, Made in heaven</td>\n",
              "      <td>Criminal Justice</td>\n",
              "      <td>Television</td>\n",
              "      <td>Recommendation</td>\n",
              "      <td>Excellent</td>\n",
              "      <td>Decrease Subscription Price</td>\n",
              "    </tr>\n",
              "    <tr>\n",
              "      <th>249</th>\n",
              "      <td>5/20/2021 23:26:24</td>\n",
              "      <td>Yes</td>\n",
              "      <td>31-50</td>\n",
              "      <td>Monthly</td>\n",
              "      <td>All of the above</td>\n",
              "      <td>All of the above</td>\n",
              "      <td>All of the above</td>\n",
              "      <td>All of the above</td>\n",
              "      <td>Between 1 and 2 Year</td>\n",
              "      <td>5</td>\n",
              "      <td>4</td>\n",
              "      <td>4</td>\n",
              "      <td>3</td>\n",
              "      <td>5</td>\n",
              "      <td>4</td>\n",
              "      <td>4</td>\n",
              "      <td>5</td>\n",
              "      <td>5</td>\n",
              "      <td>4</td>\n",
              "      <td>3</td>\n",
              "      <td>4</td>\n",
              "      <td>All of the Above</td>\n",
              "      <td>All of the above</td>\n",
              "      <td>All of the above</td>\n",
              "      <td>All of the above</td>\n",
              "      <td>Ease of use</td>\n",
              "      <td>Excellent</td>\n",
              "      <td>Availability in Languages</td>\n",
              "    </tr>\n",
              "  </tbody>\n",
              "</table>\n",
              "</div>"
            ],
            "text/plain": [
              "              Timestamp  ...                     Suggestion\n",
              "230  5/19/2021 21:53:56  ...      Availability in Languages\n",
              "231  5/19/2021 21:54:36  ...    Decrease Subscription Price\n",
              "232  5/19/2021 21:54:47  ...    Decrease Subscription Price\n",
              "233  5/19/2021 21:57:57  ...  Improvement in Story ,Casting\n",
              "234  5/19/2021 23:15:29  ...  Remove Ads/Limit Ads duration\n",
              "235  5/19/2021 23:18:26  ...  Improvement in Story ,Casting\n",
              "236  5/19/2021 23:31:14  ...  Improvement in Story ,Casting\n",
              "237  5/20/2021 10:48:23  ...    Decrease Subscription Price\n",
              "238  5/20/2021 10:49:17  ...      Availability in Languages\n",
              "239  5/20/2021 11:04:45  ...    Decrease Subscription Price\n",
              "240  5/20/2021 11:07:15  ...      Availability in Languages\n",
              "241  5/20/2021 11:13:54  ...      Availability in Languages\n",
              "242  5/20/2021 11:50:41  ...  Improvement in Story ,Casting\n",
              "243  5/20/2021 11:52:06  ...  Remove Ads/Limit Ads duration\n",
              "244  5/20/2021 11:53:49  ...               All of the above\n",
              "245  5/20/2021 23:23:40  ...      Availability in Languages\n",
              "246  5/20/2021 23:24:20  ...  Improvement in Story ,Casting\n",
              "247  5/20/2021 23:25:03  ...  Remove Ads/Limit Ads duration\n",
              "248  5/20/2021 23:25:47  ...    Decrease Subscription Price\n",
              "249  5/20/2021 23:26:24  ...      Availability in Languages\n",
              "\n",
              "[20 rows x 28 columns]"
            ]
          },
          "metadata": {
            "tags": []
          },
          "execution_count": 3808
        }
      ]
    },
    {
      "cell_type": "markdown",
      "metadata": {
        "id": "ytmrx_6BRckG"
      },
      "source": [
        "#**checking duplicate values in data**"
      ]
    },
    {
      "cell_type": "code",
      "metadata": {
        "colab": {
          "base_uri": "https://localhost:8080/",
          "height": 101
        },
        "id": "r6nHZ6PSAV0K",
        "outputId": "ad87b2fd-fd96-4a49-cbb5-4129fde7324b"
      },
      "source": [
        "duplicate=data[data.duplicated()]\n",
        "duplicate"
      ],
      "execution_count": null,
      "outputs": [
        {
          "output_type": "execute_result",
          "data": {
            "text/html": [
              "<div>\n",
              "<style scoped>\n",
              "    .dataframe tbody tr th:only-of-type {\n",
              "        vertical-align: middle;\n",
              "    }\n",
              "\n",
              "    .dataframe tbody tr th {\n",
              "        vertical-align: top;\n",
              "    }\n",
              "\n",
              "    .dataframe thead th {\n",
              "        text-align: right;\n",
              "    }\n",
              "</style>\n",
              "<table border=\"1\" class=\"dataframe\">\n",
              "  <thead>\n",
              "    <tr style=\"text-align: right;\">\n",
              "      <th></th>\n",
              "      <th>Timestamp</th>\n",
              "      <th>Video Streaming Platform(Y/N)</th>\n",
              "      <th>Age</th>\n",
              "      <th>Frequency</th>\n",
              "      <th>Most_watched</th>\n",
              "      <th>Selection</th>\n",
              "      <th>Platforms</th>\n",
              "      <th>Subscription</th>\n",
              "      <th>Duration</th>\n",
              "      <th>Netflix_Rating_Og</th>\n",
              "      <th>Netflix_Rating_movie</th>\n",
              "      <th>Netflix_Rating_documentry</th>\n",
              "      <th>Netflix_Rating_others</th>\n",
              "      <th>Prime_Rating_Og</th>\n",
              "      <th>Prime_Rating_movie</th>\n",
              "      <th>Prime_Rating_documentry</th>\n",
              "      <th>Prime_Rating_others</th>\n",
              "      <th>Hotstar_Rating_Og</th>\n",
              "      <th>Hotstar_Rating_movie</th>\n",
              "      <th>Hotstar_Rating_documentry</th>\n",
              "      <th>Hotstar_Rating_sports</th>\n",
              "      <th>Netflix_OgSeries</th>\n",
              "      <th>Prime_OgSeries</th>\n",
              "      <th>Hotstar_OgSeries</th>\n",
              "      <th>Advertisment</th>\n",
              "      <th>Features</th>\n",
              "      <th>Overall_Rating</th>\n",
              "      <th>Suggestion</th>\n",
              "    </tr>\n",
              "  </thead>\n",
              "  <tbody>\n",
              "  </tbody>\n",
              "</table>\n",
              "</div>"
            ],
            "text/plain": [
              "Empty DataFrame\n",
              "Columns: [Timestamp, Video Streaming Platform(Y/N), Age, Frequency, Most_watched, Selection, Platforms, Subscription, Duration, Netflix_Rating_Og, Netflix_Rating_movie, Netflix_Rating_documentry, Netflix_Rating_others, Prime_Rating_Og, Prime_Rating_movie, Prime_Rating_documentry, Prime_Rating_others, Hotstar_Rating_Og, Hotstar_Rating_movie, Hotstar_Rating_documentry, Hotstar_Rating_sports, Netflix_OgSeries, Prime_OgSeries, Hotstar_OgSeries, Advertisment, Features, Overall_Rating, Suggestion]\n",
              "Index: []"
            ]
          },
          "metadata": {
            "tags": []
          },
          "execution_count": 3809
        }
      ]
    },
    {
      "cell_type": "code",
      "metadata": {
        "colab": {
          "base_uri": "https://localhost:8080/"
        },
        "id": "8TSdDBpJAV22",
        "outputId": "4e5357ad-e9e9-4ce0-947b-26372b3703ea"
      },
      "source": [
        "data.duplicated().sum()"
      ],
      "execution_count": null,
      "outputs": [
        {
          "output_type": "execute_result",
          "data": {
            "text/plain": [
              "0"
            ]
          },
          "metadata": {
            "tags": []
          },
          "execution_count": 3810
        }
      ]
    },
    {
      "cell_type": "markdown",
      "metadata": {
        "id": "K5kuWqrfRkgD"
      },
      "source": [
        "#**checking null values of data**"
      ]
    },
    {
      "cell_type": "code",
      "metadata": {
        "colab": {
          "base_uri": "https://localhost:8080/",
          "height": 460
        },
        "id": "rRL8kcWPAV6G",
        "outputId": "ba77ac52-dc43-47c9-9b84-66a7291037ac"
      },
      "source": [
        "data.isnull()"
      ],
      "execution_count": null,
      "outputs": [
        {
          "output_type": "execute_result",
          "data": {
            "text/html": [
              "<div>\n",
              "<style scoped>\n",
              "    .dataframe tbody tr th:only-of-type {\n",
              "        vertical-align: middle;\n",
              "    }\n",
              "\n",
              "    .dataframe tbody tr th {\n",
              "        vertical-align: top;\n",
              "    }\n",
              "\n",
              "    .dataframe thead th {\n",
              "        text-align: right;\n",
              "    }\n",
              "</style>\n",
              "<table border=\"1\" class=\"dataframe\">\n",
              "  <thead>\n",
              "    <tr style=\"text-align: right;\">\n",
              "      <th></th>\n",
              "      <th>Timestamp</th>\n",
              "      <th>Video Streaming Platform(Y/N)</th>\n",
              "      <th>Age</th>\n",
              "      <th>Frequency</th>\n",
              "      <th>Most_watched</th>\n",
              "      <th>Selection</th>\n",
              "      <th>Platforms</th>\n",
              "      <th>Subscription</th>\n",
              "      <th>Duration</th>\n",
              "      <th>Netflix_Rating_Og</th>\n",
              "      <th>Netflix_Rating_movie</th>\n",
              "      <th>Netflix_Rating_documentry</th>\n",
              "      <th>Netflix_Rating_others</th>\n",
              "      <th>Prime_Rating_Og</th>\n",
              "      <th>Prime_Rating_movie</th>\n",
              "      <th>Prime_Rating_documentry</th>\n",
              "      <th>Prime_Rating_others</th>\n",
              "      <th>Hotstar_Rating_Og</th>\n",
              "      <th>Hotstar_Rating_movie</th>\n",
              "      <th>Hotstar_Rating_documentry</th>\n",
              "      <th>Hotstar_Rating_sports</th>\n",
              "      <th>Netflix_OgSeries</th>\n",
              "      <th>Prime_OgSeries</th>\n",
              "      <th>Hotstar_OgSeries</th>\n",
              "      <th>Advertisment</th>\n",
              "      <th>Features</th>\n",
              "      <th>Overall_Rating</th>\n",
              "      <th>Suggestion</th>\n",
              "    </tr>\n",
              "  </thead>\n",
              "  <tbody>\n",
              "    <tr>\n",
              "      <th>0</th>\n",
              "      <td>False</td>\n",
              "      <td>False</td>\n",
              "      <td>False</td>\n",
              "      <td>False</td>\n",
              "      <td>False</td>\n",
              "      <td>False</td>\n",
              "      <td>False</td>\n",
              "      <td>False</td>\n",
              "      <td>False</td>\n",
              "      <td>False</td>\n",
              "      <td>False</td>\n",
              "      <td>False</td>\n",
              "      <td>False</td>\n",
              "      <td>False</td>\n",
              "      <td>False</td>\n",
              "      <td>False</td>\n",
              "      <td>False</td>\n",
              "      <td>False</td>\n",
              "      <td>False</td>\n",
              "      <td>False</td>\n",
              "      <td>False</td>\n",
              "      <td>False</td>\n",
              "      <td>False</td>\n",
              "      <td>False</td>\n",
              "      <td>False</td>\n",
              "      <td>False</td>\n",
              "      <td>False</td>\n",
              "      <td>False</td>\n",
              "    </tr>\n",
              "    <tr>\n",
              "      <th>1</th>\n",
              "      <td>False</td>\n",
              "      <td>False</td>\n",
              "      <td>False</td>\n",
              "      <td>False</td>\n",
              "      <td>False</td>\n",
              "      <td>False</td>\n",
              "      <td>False</td>\n",
              "      <td>False</td>\n",
              "      <td>False</td>\n",
              "      <td>False</td>\n",
              "      <td>False</td>\n",
              "      <td>False</td>\n",
              "      <td>False</td>\n",
              "      <td>False</td>\n",
              "      <td>False</td>\n",
              "      <td>False</td>\n",
              "      <td>False</td>\n",
              "      <td>False</td>\n",
              "      <td>False</td>\n",
              "      <td>False</td>\n",
              "      <td>False</td>\n",
              "      <td>False</td>\n",
              "      <td>False</td>\n",
              "      <td>False</td>\n",
              "      <td>False</td>\n",
              "      <td>False</td>\n",
              "      <td>False</td>\n",
              "      <td>False</td>\n",
              "    </tr>\n",
              "    <tr>\n",
              "      <th>2</th>\n",
              "      <td>False</td>\n",
              "      <td>False</td>\n",
              "      <td>False</td>\n",
              "      <td>False</td>\n",
              "      <td>False</td>\n",
              "      <td>False</td>\n",
              "      <td>False</td>\n",
              "      <td>False</td>\n",
              "      <td>False</td>\n",
              "      <td>False</td>\n",
              "      <td>False</td>\n",
              "      <td>False</td>\n",
              "      <td>False</td>\n",
              "      <td>False</td>\n",
              "      <td>False</td>\n",
              "      <td>False</td>\n",
              "      <td>False</td>\n",
              "      <td>False</td>\n",
              "      <td>False</td>\n",
              "      <td>False</td>\n",
              "      <td>False</td>\n",
              "      <td>False</td>\n",
              "      <td>False</td>\n",
              "      <td>False</td>\n",
              "      <td>False</td>\n",
              "      <td>False</td>\n",
              "      <td>False</td>\n",
              "      <td>False</td>\n",
              "    </tr>\n",
              "    <tr>\n",
              "      <th>3</th>\n",
              "      <td>False</td>\n",
              "      <td>False</td>\n",
              "      <td>False</td>\n",
              "      <td>False</td>\n",
              "      <td>False</td>\n",
              "      <td>False</td>\n",
              "      <td>False</td>\n",
              "      <td>False</td>\n",
              "      <td>False</td>\n",
              "      <td>False</td>\n",
              "      <td>False</td>\n",
              "      <td>False</td>\n",
              "      <td>False</td>\n",
              "      <td>False</td>\n",
              "      <td>False</td>\n",
              "      <td>False</td>\n",
              "      <td>False</td>\n",
              "      <td>False</td>\n",
              "      <td>False</td>\n",
              "      <td>False</td>\n",
              "      <td>False</td>\n",
              "      <td>False</td>\n",
              "      <td>False</td>\n",
              "      <td>False</td>\n",
              "      <td>False</td>\n",
              "      <td>False</td>\n",
              "      <td>False</td>\n",
              "      <td>False</td>\n",
              "    </tr>\n",
              "    <tr>\n",
              "      <th>4</th>\n",
              "      <td>False</td>\n",
              "      <td>False</td>\n",
              "      <td>False</td>\n",
              "      <td>False</td>\n",
              "      <td>False</td>\n",
              "      <td>False</td>\n",
              "      <td>False</td>\n",
              "      <td>False</td>\n",
              "      <td>False</td>\n",
              "      <td>False</td>\n",
              "      <td>False</td>\n",
              "      <td>False</td>\n",
              "      <td>False</td>\n",
              "      <td>False</td>\n",
              "      <td>False</td>\n",
              "      <td>False</td>\n",
              "      <td>False</td>\n",
              "      <td>False</td>\n",
              "      <td>False</td>\n",
              "      <td>False</td>\n",
              "      <td>False</td>\n",
              "      <td>False</td>\n",
              "      <td>False</td>\n",
              "      <td>False</td>\n",
              "      <td>False</td>\n",
              "      <td>False</td>\n",
              "      <td>False</td>\n",
              "      <td>False</td>\n",
              "    </tr>\n",
              "    <tr>\n",
              "      <th>...</th>\n",
              "      <td>...</td>\n",
              "      <td>...</td>\n",
              "      <td>...</td>\n",
              "      <td>...</td>\n",
              "      <td>...</td>\n",
              "      <td>...</td>\n",
              "      <td>...</td>\n",
              "      <td>...</td>\n",
              "      <td>...</td>\n",
              "      <td>...</td>\n",
              "      <td>...</td>\n",
              "      <td>...</td>\n",
              "      <td>...</td>\n",
              "      <td>...</td>\n",
              "      <td>...</td>\n",
              "      <td>...</td>\n",
              "      <td>...</td>\n",
              "      <td>...</td>\n",
              "      <td>...</td>\n",
              "      <td>...</td>\n",
              "      <td>...</td>\n",
              "      <td>...</td>\n",
              "      <td>...</td>\n",
              "      <td>...</td>\n",
              "      <td>...</td>\n",
              "      <td>...</td>\n",
              "      <td>...</td>\n",
              "      <td>...</td>\n",
              "    </tr>\n",
              "    <tr>\n",
              "      <th>245</th>\n",
              "      <td>False</td>\n",
              "      <td>False</td>\n",
              "      <td>False</td>\n",
              "      <td>False</td>\n",
              "      <td>False</td>\n",
              "      <td>False</td>\n",
              "      <td>False</td>\n",
              "      <td>False</td>\n",
              "      <td>False</td>\n",
              "      <td>False</td>\n",
              "      <td>False</td>\n",
              "      <td>False</td>\n",
              "      <td>False</td>\n",
              "      <td>False</td>\n",
              "      <td>False</td>\n",
              "      <td>False</td>\n",
              "      <td>False</td>\n",
              "      <td>False</td>\n",
              "      <td>False</td>\n",
              "      <td>False</td>\n",
              "      <td>False</td>\n",
              "      <td>False</td>\n",
              "      <td>False</td>\n",
              "      <td>False</td>\n",
              "      <td>False</td>\n",
              "      <td>False</td>\n",
              "      <td>False</td>\n",
              "      <td>False</td>\n",
              "    </tr>\n",
              "    <tr>\n",
              "      <th>246</th>\n",
              "      <td>False</td>\n",
              "      <td>False</td>\n",
              "      <td>False</td>\n",
              "      <td>False</td>\n",
              "      <td>False</td>\n",
              "      <td>False</td>\n",
              "      <td>False</td>\n",
              "      <td>False</td>\n",
              "      <td>False</td>\n",
              "      <td>False</td>\n",
              "      <td>False</td>\n",
              "      <td>False</td>\n",
              "      <td>False</td>\n",
              "      <td>False</td>\n",
              "      <td>False</td>\n",
              "      <td>False</td>\n",
              "      <td>False</td>\n",
              "      <td>False</td>\n",
              "      <td>False</td>\n",
              "      <td>False</td>\n",
              "      <td>False</td>\n",
              "      <td>False</td>\n",
              "      <td>False</td>\n",
              "      <td>False</td>\n",
              "      <td>False</td>\n",
              "      <td>False</td>\n",
              "      <td>False</td>\n",
              "      <td>False</td>\n",
              "    </tr>\n",
              "    <tr>\n",
              "      <th>247</th>\n",
              "      <td>False</td>\n",
              "      <td>False</td>\n",
              "      <td>False</td>\n",
              "      <td>False</td>\n",
              "      <td>False</td>\n",
              "      <td>False</td>\n",
              "      <td>False</td>\n",
              "      <td>False</td>\n",
              "      <td>False</td>\n",
              "      <td>False</td>\n",
              "      <td>False</td>\n",
              "      <td>False</td>\n",
              "      <td>False</td>\n",
              "      <td>False</td>\n",
              "      <td>False</td>\n",
              "      <td>False</td>\n",
              "      <td>False</td>\n",
              "      <td>False</td>\n",
              "      <td>False</td>\n",
              "      <td>False</td>\n",
              "      <td>False</td>\n",
              "      <td>False</td>\n",
              "      <td>False</td>\n",
              "      <td>False</td>\n",
              "      <td>False</td>\n",
              "      <td>False</td>\n",
              "      <td>False</td>\n",
              "      <td>False</td>\n",
              "    </tr>\n",
              "    <tr>\n",
              "      <th>248</th>\n",
              "      <td>False</td>\n",
              "      <td>False</td>\n",
              "      <td>False</td>\n",
              "      <td>False</td>\n",
              "      <td>False</td>\n",
              "      <td>False</td>\n",
              "      <td>False</td>\n",
              "      <td>False</td>\n",
              "      <td>False</td>\n",
              "      <td>False</td>\n",
              "      <td>False</td>\n",
              "      <td>False</td>\n",
              "      <td>False</td>\n",
              "      <td>False</td>\n",
              "      <td>False</td>\n",
              "      <td>False</td>\n",
              "      <td>False</td>\n",
              "      <td>False</td>\n",
              "      <td>False</td>\n",
              "      <td>False</td>\n",
              "      <td>False</td>\n",
              "      <td>False</td>\n",
              "      <td>False</td>\n",
              "      <td>False</td>\n",
              "      <td>False</td>\n",
              "      <td>False</td>\n",
              "      <td>False</td>\n",
              "      <td>False</td>\n",
              "    </tr>\n",
              "    <tr>\n",
              "      <th>249</th>\n",
              "      <td>False</td>\n",
              "      <td>False</td>\n",
              "      <td>False</td>\n",
              "      <td>False</td>\n",
              "      <td>False</td>\n",
              "      <td>False</td>\n",
              "      <td>False</td>\n",
              "      <td>False</td>\n",
              "      <td>False</td>\n",
              "      <td>False</td>\n",
              "      <td>False</td>\n",
              "      <td>False</td>\n",
              "      <td>False</td>\n",
              "      <td>False</td>\n",
              "      <td>False</td>\n",
              "      <td>False</td>\n",
              "      <td>False</td>\n",
              "      <td>False</td>\n",
              "      <td>False</td>\n",
              "      <td>False</td>\n",
              "      <td>False</td>\n",
              "      <td>False</td>\n",
              "      <td>False</td>\n",
              "      <td>False</td>\n",
              "      <td>False</td>\n",
              "      <td>False</td>\n",
              "      <td>False</td>\n",
              "      <td>False</td>\n",
              "    </tr>\n",
              "  </tbody>\n",
              "</table>\n",
              "<p>250 rows × 28 columns</p>\n",
              "</div>"
            ],
            "text/plain": [
              "     Timestamp  Video Streaming Platform(Y/N)  ...  Overall_Rating  Suggestion\n",
              "0        False                          False  ...           False       False\n",
              "1        False                          False  ...           False       False\n",
              "2        False                          False  ...           False       False\n",
              "3        False                          False  ...           False       False\n",
              "4        False                          False  ...           False       False\n",
              "..         ...                            ...  ...             ...         ...\n",
              "245      False                          False  ...           False       False\n",
              "246      False                          False  ...           False       False\n",
              "247      False                          False  ...           False       False\n",
              "248      False                          False  ...           False       False\n",
              "249      False                          False  ...           False       False\n",
              "\n",
              "[250 rows x 28 columns]"
            ]
          },
          "metadata": {
            "tags": []
          },
          "execution_count": 3811
        }
      ]
    },
    {
      "cell_type": "code",
      "metadata": {
        "colab": {
          "base_uri": "https://localhost:8080/"
        },
        "id": "wJZJdIlKAV9F",
        "outputId": "fd924752-787d-40da-a689-0da30384db0b"
      },
      "source": [
        "data.isnull().sum()"
      ],
      "execution_count": null,
      "outputs": [
        {
          "output_type": "execute_result",
          "data": {
            "text/plain": [
              "Timestamp                        0\n",
              "Video Streaming Platform(Y/N)    0\n",
              "Age                              0\n",
              "Frequency                        0\n",
              "Most_watched                     0\n",
              "Selection                        0\n",
              "Platforms                        0\n",
              "Subscription                     0\n",
              "Duration                         0\n",
              "Netflix_Rating_Og                0\n",
              "Netflix_Rating_movie             0\n",
              "Netflix_Rating_documentry        0\n",
              "Netflix_Rating_others            0\n",
              "Prime_Rating_Og                  0\n",
              "Prime_Rating_movie               0\n",
              "Prime_Rating_documentry          0\n",
              "Prime_Rating_others              0\n",
              "Hotstar_Rating_Og                0\n",
              "Hotstar_Rating_movie             0\n",
              "Hotstar_Rating_documentry        0\n",
              "Hotstar_Rating_sports            0\n",
              "Netflix_OgSeries                 0\n",
              "Prime_OgSeries                   0\n",
              "Hotstar_OgSeries                 0\n",
              "Advertisment                     0\n",
              "Features                         0\n",
              "Overall_Rating                   0\n",
              "Suggestion                       0\n",
              "dtype: int64"
            ]
          },
          "metadata": {
            "tags": []
          },
          "execution_count": 3812
        }
      ]
    },
    {
      "cell_type": "markdown",
      "metadata": {
        "id": "rUF1y2_vRuje"
      },
      "source": [
        "#**count of a column**"
      ]
    },
    {
      "cell_type": "code",
      "metadata": {
        "colab": {
          "base_uri": "https://localhost:8080/"
        },
        "id": "emO45gj6I_eu",
        "outputId": "84b36dbf-305d-4f00-b960-93404149d04f"
      },
      "source": [
        "data['Video Streaming Platform(Y/N)'].value_counts()"
      ],
      "execution_count": null,
      "outputs": [
        {
          "output_type": "execute_result",
          "data": {
            "text/plain": [
              "Yes    247\n",
              "No       3\n",
              "Name: Video Streaming Platform(Y/N), dtype: int64"
            ]
          },
          "metadata": {
            "tags": []
          },
          "execution_count": 3813
        }
      ]
    },
    {
      "cell_type": "code",
      "metadata": {
        "colab": {
          "base_uri": "https://localhost:8080/"
        },
        "id": "oSXR3NaDJNrE",
        "outputId": "c0672786-f56a-4abe-f804-19fa1266585f"
      },
      "source": [
        "data['Age'].value_counts()"
      ],
      "execution_count": null,
      "outputs": [
        {
          "output_type": "execute_result",
          "data": {
            "text/plain": [
              "18-30           156\n",
              "31-50            64\n",
              "Less than 18     19\n",
              "More than 50     11\n",
              "Name: Age, dtype: int64"
            ]
          },
          "metadata": {
            "tags": []
          },
          "execution_count": 3814
        }
      ]
    },
    {
      "cell_type": "code",
      "metadata": {
        "colab": {
          "base_uri": "https://localhost:8080/"
        },
        "id": "T2G0k2MHJNtm",
        "outputId": "01b0a2c0-1e45-4282-b636-ee660d00ab6b"
      },
      "source": [
        "data['Frequency'].value_counts()"
      ],
      "execution_count": null,
      "outputs": [
        {
          "output_type": "execute_result",
          "data": {
            "text/plain": [
              "Daily                      102\n",
              "Monthly                     85\n",
              "Once or twice in a week     58\n",
              "None of the above            5\n",
              "Name: Frequency, dtype: int64"
            ]
          },
          "metadata": {
            "tags": []
          },
          "execution_count": 3815
        }
      ]
    },
    {
      "cell_type": "code",
      "metadata": {
        "colab": {
          "base_uri": "https://localhost:8080/"
        },
        "id": "EFNUV_HuJNwP",
        "outputId": "15b8615a-5a35-446c-cf23-1e67c7cb772e"
      },
      "source": [
        "data['Most_watched'].value_counts()"
      ],
      "execution_count": null,
      "outputs": [
        {
          "output_type": "execute_result",
          "data": {
            "text/plain": [
              "All of the above                                                                 95\n",
              "Original Web Series, Movies                                                      34\n",
              "Original Web Series                                                              28\n",
              "Movies                                                                           25\n",
              "Original Web Series, Movies, Documentaries                                       14\n",
              "Movies, Sports and News                                                          11\n",
              "Movies, Documentaries, Sports and News                                            9\n",
              "Original Web Series, Movies, Sports and News                                      8\n",
              "Movies, Documentaries                                                             6\n",
              "Original Web Series, Documentaries                                                4\n",
              "Original Web Series, Sports and News                                              4\n",
              "Sports and News                                                                   2\n",
              "Original Web Series, Movies, Documentaries, Sports and News                       2\n",
              "Original Web Series, Movies, Documentaries, Sports and News, All of the above     2\n",
              "Original Web Series, Documentaries, Sports and News                               2\n",
              "Original Web Series, Movies, Sports and News, All of the above                    1\n",
              "Movies, All of the above                                                          1\n",
              "Documentaries, Sports and News                                                    1\n",
              "Documentaries                                                                     1\n",
              "Name: Most_watched, dtype: int64"
            ]
          },
          "metadata": {
            "tags": []
          },
          "execution_count": 3816
        }
      ]
    },
    {
      "cell_type": "code",
      "metadata": {
        "colab": {
          "base_uri": "https://localhost:8080/"
        },
        "id": "Qut8g0_OJNzO",
        "outputId": "c4d9968e-452f-435b-c949-cc6b60788e07"
      },
      "source": [
        "data['Selection'].value_counts()"
      ],
      "execution_count": null,
      "outputs": [
        {
          "output_type": "execute_result",
          "data": {
            "text/plain": [
              "All of the above                           119\n",
              "Story                                       63\n",
              "Cast, Story                                 29\n",
              "Story, Director                             20\n",
              "Cast, Story, Director                        8\n",
              "Cast, Story, Director, All of the above      2\n",
              "Director                                     2\n",
              "Cast                                         2\n",
              "Cast, Director                               2\n",
              "Story, All of the above                      1\n",
              "Story, Director, All of the above            1\n",
              "Director, All of the above                   1\n",
              "Name: Selection, dtype: int64"
            ]
          },
          "metadata": {
            "tags": []
          },
          "execution_count": 3817
        }
      ]
    },
    {
      "cell_type": "code",
      "metadata": {
        "colab": {
          "base_uri": "https://localhost:8080/"
        },
        "id": "HZIL4ozgJN1z",
        "outputId": "92482aa4-82e7-43b2-f6d2-ce316cf2b01c"
      },
      "source": [
        "data['Platforms'].value_counts()"
      ],
      "execution_count": null,
      "outputs": [
        {
          "output_type": "execute_result",
          "data": {
            "text/plain": [
              "All of the above    97\n",
              "Prime               63\n",
              "Netflix             54\n",
              "Hotstar             36\n",
              "Name: Platforms, dtype: int64"
            ]
          },
          "metadata": {
            "tags": []
          },
          "execution_count": 3818
        }
      ]
    },
    {
      "cell_type": "code",
      "metadata": {
        "colab": {
          "base_uri": "https://localhost:8080/"
        },
        "id": "WnKQDj0hJN4l",
        "outputId": "c1bceacb-dcd3-4796-d0b5-34c94206fa8c"
      },
      "source": [
        "data['Subscription'].value_counts()"
      ],
      "execution_count": null,
      "outputs": [
        {
          "output_type": "execute_result",
          "data": {
            "text/plain": [
              "Original Web Series    100\n",
              "All of the above        76\n",
              "Movies                  49\n",
              "Sports and News         19\n",
              "Documentaries            6\n",
              "Name: Subscription, dtype: int64"
            ]
          },
          "metadata": {
            "tags": []
          },
          "execution_count": 3819
        }
      ]
    },
    {
      "cell_type": "code",
      "metadata": {
        "colab": {
          "base_uri": "https://localhost:8080/"
        },
        "id": "9Pq_2wqDNqc8",
        "outputId": "3717f853-31d9-4c29-898c-8dfd14835b40"
      },
      "source": [
        "data['Duration'].value_counts()"
      ],
      "execution_count": null,
      "outputs": [
        {
          "output_type": "execute_result",
          "data": {
            "text/plain": [
              "More than 2 Year        97\n",
              "Less than 1 Year        78\n",
              "Between 1 and 2 Year    74\n",
              "None                     1\n",
              "Name: Duration, dtype: int64"
            ]
          },
          "metadata": {
            "tags": []
          },
          "execution_count": 3820
        }
      ]
    },
    {
      "cell_type": "code",
      "metadata": {
        "colab": {
          "base_uri": "https://localhost:8080/"
        },
        "id": "pCt7qL5eNqgM",
        "outputId": "1d9281e0-d4ba-4fda-a5a7-f85eb92b5121"
      },
      "source": [
        "data['Advertisment'].value_counts()"
      ],
      "execution_count": null,
      "outputs": [
        {
          "output_type": "execute_result",
          "data": {
            "text/plain": [
              "All of the above                 84\n",
              "Social Media                     75\n",
              "Family/Friends Recommendation    53\n",
              "Television                       38\n",
              "Name: Advertisment, dtype: int64"
            ]
          },
          "metadata": {
            "tags": []
          },
          "execution_count": 3821
        }
      ]
    },
    {
      "cell_type": "code",
      "metadata": {
        "colab": {
          "base_uri": "https://localhost:8080/"
        },
        "id": "NKS2YE66NqjR",
        "outputId": "814d40d0-c85d-423e-a91c-42999f6cd73c"
      },
      "source": [
        "data['Features'].value_counts()"
      ],
      "execution_count": null,
      "outputs": [
        {
          "output_type": "execute_result",
          "data": {
            "text/plain": [
              "Recommendation      73\n",
              "All of the above    72\n",
              "Search Option       53\n",
              "Ease of use         52\n",
              "Name: Features, dtype: int64"
            ]
          },
          "metadata": {
            "tags": []
          },
          "execution_count": 3822
        }
      ]
    },
    {
      "cell_type": "code",
      "metadata": {
        "colab": {
          "base_uri": "https://localhost:8080/"
        },
        "id": "zeBTPgvZNqmL",
        "outputId": "d696d1a1-60cf-4b7b-b149-100aeb5e9605"
      },
      "source": [
        "data['Overall_Rating'].value_counts()"
      ],
      "execution_count": null,
      "outputs": [
        {
          "output_type": "execute_result",
          "data": {
            "text/plain": [
              "Excellent             151\n",
              "Good                   89\n",
              "Fair                    8\n",
              "Improvement Needed      2\n",
              "Name: Overall_Rating, dtype: int64"
            ]
          },
          "metadata": {
            "tags": []
          },
          "execution_count": 3823
        }
      ]
    },
    {
      "cell_type": "code",
      "metadata": {
        "colab": {
          "base_uri": "https://localhost:8080/"
        },
        "id": "dv6dquHuI_hT",
        "outputId": "65d6a57a-ea54-4f76-efdc-1578b1b2b729"
      },
      "source": [
        "data['Suggestion'].value_counts()"
      ],
      "execution_count": null,
      "outputs": [
        {
          "output_type": "execute_result",
          "data": {
            "text/plain": [
              "Remove Ads/Limit Ads duration    81\n",
              "Availability in Languages        67\n",
              "Decrease Subscription Price      51\n",
              "Improvement in Story ,Casting    37\n",
              "All of the above                 14\n",
              "Name: Suggestion, dtype: int64"
            ]
          },
          "metadata": {
            "tags": []
          },
          "execution_count": 3824
        }
      ]
    },
    {
      "cell_type": "markdown",
      "metadata": {
        "id": "vt5y268pJjAD"
      },
      "source": [
        "#Converting the Video Streaming Platform(Y/N) columns into integer."
      ]
    },
    {
      "cell_type": "code",
      "metadata": {
        "id": "5aSq2FKPJhdS"
      },
      "source": [
        "def trans_con(x):\n",
        "    if x =='Yes':\n",
        "        return 1\n",
        "    if x =='No':\n",
        "        return 0"
      ],
      "execution_count": null,
      "outputs": []
    },
    {
      "cell_type": "code",
      "metadata": {
        "colab": {
          "base_uri": "https://localhost:8080/"
        },
        "id": "Y7b4KZfKJiNO",
        "outputId": "8001cbb8-87ef-41e2-8f32-2f9ddd907442"
      },
      "source": [
        "data['Video Streaming Platform(Y/N)'].apply(trans_con)\n"
      ],
      "execution_count": null,
      "outputs": [
        {
          "output_type": "execute_result",
          "data": {
            "text/plain": [
              "0      1\n",
              "1      1\n",
              "2      1\n",
              "3      1\n",
              "4      1\n",
              "      ..\n",
              "245    1\n",
              "246    1\n",
              "247    1\n",
              "248    1\n",
              "249    1\n",
              "Name: Video Streaming Platform(Y/N), Length: 250, dtype: int64"
            ]
          },
          "metadata": {
            "tags": []
          },
          "execution_count": 3826
        }
      ]
    },
    {
      "cell_type": "markdown",
      "metadata": {
        "id": "UtBQsRX8R5rs"
      },
      "source": [
        "#converting frequency column into int"
      ]
    },
    {
      "cell_type": "code",
      "metadata": {
        "id": "EOPWvxtGEtMQ"
      },
      "source": [
        "def trans_conn(x):\n",
        "    if x =='Daily':\n",
        "        return 1\n",
        "    if x =='Monthly':\n",
        "        return 2\n",
        "    if x =='Once or twice in a week':\n",
        "        return 3\n",
        "    if x =='None of the above':\n",
        "        return 0"
      ],
      "execution_count": null,
      "outputs": []
    },
    {
      "cell_type": "code",
      "metadata": {
        "id": "P4VIGkxhE9MR"
      },
      "source": [
        "data['Frequency']=data['Frequency'].apply(trans_conn)"
      ],
      "execution_count": null,
      "outputs": []
    },
    {
      "cell_type": "code",
      "metadata": {
        "id": "KtM9WrWJI_yJ"
      },
      "source": [
        "def trans_conn(x):\n",
        "    if x =='Excellent':\n",
        "        return 1\n",
        "    if x =='Good':\n",
        "        return 2\n",
        "    if x =='Fair':\n",
        "        return 3\n",
        "    if x =='Improvement Needed':\n",
        "        return 0"
      ],
      "execution_count": null,
      "outputs": []
    },
    {
      "cell_type": "code",
      "metadata": {
        "id": "QuOfPYAAI_09"
      },
      "source": [
        "data['Overall_Rating']=data['Overall_Rating'].apply(trans_conn)"
      ],
      "execution_count": null,
      "outputs": []
    },
    {
      "cell_type": "code",
      "metadata": {
        "id": "OxOEa4l0B14r"
      },
      "source": [
        "def trans_conn(x):\n",
        "    if x =='More than 2 Year':\n",
        "        return 1\n",
        "    if x =='Between 1 and 2 Year':\n",
        "        return 2\n",
        "    if x =='Less than 1 Year':\n",
        "        return 3\n",
        "    if x =='None':\n",
        "        return 0"
      ],
      "execution_count": null,
      "outputs": []
    },
    {
      "cell_type": "code",
      "metadata": {
        "id": "7bBXKr11B4PY"
      },
      "source": [
        "data['Duration']=data['Duration'].apply(trans_conn)"
      ],
      "execution_count": null,
      "outputs": []
    },
    {
      "cell_type": "code",
      "metadata": {
        "colab": {
          "base_uri": "https://localhost:8080/",
          "height": 793
        },
        "id": "snc8Yf0IB5Tf",
        "outputId": "b35abc2b-1eaa-49e7-a1ed-64c309de1848"
      },
      "source": [
        "data"
      ],
      "execution_count": null,
      "outputs": [
        {
          "output_type": "execute_result",
          "data": {
            "text/html": [
              "<div>\n",
              "<style scoped>\n",
              "    .dataframe tbody tr th:only-of-type {\n",
              "        vertical-align: middle;\n",
              "    }\n",
              "\n",
              "    .dataframe tbody tr th {\n",
              "        vertical-align: top;\n",
              "    }\n",
              "\n",
              "    .dataframe thead th {\n",
              "        text-align: right;\n",
              "    }\n",
              "</style>\n",
              "<table border=\"1\" class=\"dataframe\">\n",
              "  <thead>\n",
              "    <tr style=\"text-align: right;\">\n",
              "      <th></th>\n",
              "      <th>Timestamp</th>\n",
              "      <th>Video Streaming Platform(Y/N)</th>\n",
              "      <th>Age</th>\n",
              "      <th>Frequency</th>\n",
              "      <th>Most_watched</th>\n",
              "      <th>Selection</th>\n",
              "      <th>Platforms</th>\n",
              "      <th>Subscription</th>\n",
              "      <th>Duration</th>\n",
              "      <th>Netflix_Rating_Og</th>\n",
              "      <th>Netflix_Rating_movie</th>\n",
              "      <th>Netflix_Rating_documentry</th>\n",
              "      <th>Netflix_Rating_others</th>\n",
              "      <th>Prime_Rating_Og</th>\n",
              "      <th>Prime_Rating_movie</th>\n",
              "      <th>Prime_Rating_documentry</th>\n",
              "      <th>Prime_Rating_others</th>\n",
              "      <th>Hotstar_Rating_Og</th>\n",
              "      <th>Hotstar_Rating_movie</th>\n",
              "      <th>Hotstar_Rating_documentry</th>\n",
              "      <th>Hotstar_Rating_sports</th>\n",
              "      <th>Netflix_OgSeries</th>\n",
              "      <th>Prime_OgSeries</th>\n",
              "      <th>Hotstar_OgSeries</th>\n",
              "      <th>Advertisment</th>\n",
              "      <th>Features</th>\n",
              "      <th>Overall_Rating</th>\n",
              "      <th>Suggestion</th>\n",
              "    </tr>\n",
              "  </thead>\n",
              "  <tbody>\n",
              "    <tr>\n",
              "      <th>0</th>\n",
              "      <td>5/8/2021 13:40:40</td>\n",
              "      <td>Yes</td>\n",
              "      <td>18-30</td>\n",
              "      <td>1</td>\n",
              "      <td>All of the above</td>\n",
              "      <td>All of the above</td>\n",
              "      <td>Prime</td>\n",
              "      <td>Original Web Series</td>\n",
              "      <td>1</td>\n",
              "      <td>4</td>\n",
              "      <td>4</td>\n",
              "      <td>4</td>\n",
              "      <td>3</td>\n",
              "      <td>5</td>\n",
              "      <td>5</td>\n",
              "      <td>5</td>\n",
              "      <td>5</td>\n",
              "      <td>3</td>\n",
              "      <td>2</td>\n",
              "      <td>2</td>\n",
              "      <td>2</td>\n",
              "      <td>Sacred Games, 13 Reason Why, Money Heist</td>\n",
              "      <td>All of the above</td>\n",
              "      <td>None</td>\n",
              "      <td>All of the above</td>\n",
              "      <td>Search Option</td>\n",
              "      <td>2</td>\n",
              "      <td>Remove Ads/Limit Ads duration</td>\n",
              "    </tr>\n",
              "    <tr>\n",
              "      <th>1</th>\n",
              "      <td>5/8/2021 13:44:41</td>\n",
              "      <td>Yes</td>\n",
              "      <td>18-30</td>\n",
              "      <td>3</td>\n",
              "      <td>Original Web Series</td>\n",
              "      <td>Story</td>\n",
              "      <td>Netflix</td>\n",
              "      <td>Original Web Series</td>\n",
              "      <td>2</td>\n",
              "      <td>5</td>\n",
              "      <td>5</td>\n",
              "      <td>5</td>\n",
              "      <td>5</td>\n",
              "      <td>4</td>\n",
              "      <td>4</td>\n",
              "      <td>3</td>\n",
              "      <td>1</td>\n",
              "      <td>3</td>\n",
              "      <td>2</td>\n",
              "      <td>1</td>\n",
              "      <td>1</td>\n",
              "      <td>All of the Above</td>\n",
              "      <td>Mirzapur</td>\n",
              "      <td>None</td>\n",
              "      <td>Social Media</td>\n",
              "      <td>Search Option</td>\n",
              "      <td>2</td>\n",
              "      <td>Decrease Subscription Price</td>\n",
              "    </tr>\n",
              "    <tr>\n",
              "      <th>2</th>\n",
              "      <td>5/8/2021 13:44:51</td>\n",
              "      <td>Yes</td>\n",
              "      <td>18-30</td>\n",
              "      <td>3</td>\n",
              "      <td>Movies</td>\n",
              "      <td>Story</td>\n",
              "      <td>Hotstar</td>\n",
              "      <td>All of the above</td>\n",
              "      <td>2</td>\n",
              "      <td>5</td>\n",
              "      <td>4</td>\n",
              "      <td>4</td>\n",
              "      <td>4</td>\n",
              "      <td>4</td>\n",
              "      <td>3</td>\n",
              "      <td>4</td>\n",
              "      <td>4</td>\n",
              "      <td>4</td>\n",
              "      <td>5</td>\n",
              "      <td>4</td>\n",
              "      <td>5</td>\n",
              "      <td>Sacred Games, Money Heist</td>\n",
              "      <td>Mirzapur, Tandav</td>\n",
              "      <td>Criminal Justice, Arya</td>\n",
              "      <td>All of the above</td>\n",
              "      <td>Recommendation</td>\n",
              "      <td>1</td>\n",
              "      <td>Remove Ads/Limit Ads duration</td>\n",
              "    </tr>\n",
              "    <tr>\n",
              "      <th>3</th>\n",
              "      <td>5/8/2021 13:49:19</td>\n",
              "      <td>Yes</td>\n",
              "      <td>31-50</td>\n",
              "      <td>2</td>\n",
              "      <td>Movies, Documentaries, Sports and News</td>\n",
              "      <td>All of the above</td>\n",
              "      <td>Hotstar</td>\n",
              "      <td>Sports and News</td>\n",
              "      <td>2</td>\n",
              "      <td>1</td>\n",
              "      <td>1</td>\n",
              "      <td>1</td>\n",
              "      <td>1</td>\n",
              "      <td>1</td>\n",
              "      <td>1</td>\n",
              "      <td>1</td>\n",
              "      <td>1</td>\n",
              "      <td>4</td>\n",
              "      <td>4</td>\n",
              "      <td>5</td>\n",
              "      <td>5</td>\n",
              "      <td>None</td>\n",
              "      <td>None</td>\n",
              "      <td>All of the above</td>\n",
              "      <td>Television</td>\n",
              "      <td>Ease of use</td>\n",
              "      <td>2</td>\n",
              "      <td>Availability in Languages</td>\n",
              "    </tr>\n",
              "    <tr>\n",
              "      <th>4</th>\n",
              "      <td>5/8/2021 14:39:38</td>\n",
              "      <td>Yes</td>\n",
              "      <td>18-30</td>\n",
              "      <td>3</td>\n",
              "      <td>Movies</td>\n",
              "      <td>All of the above</td>\n",
              "      <td>All of the above</td>\n",
              "      <td>All of the above</td>\n",
              "      <td>1</td>\n",
              "      <td>3</td>\n",
              "      <td>4</td>\n",
              "      <td>2</td>\n",
              "      <td>1</td>\n",
              "      <td>4</td>\n",
              "      <td>5</td>\n",
              "      <td>4</td>\n",
              "      <td>4</td>\n",
              "      <td>3</td>\n",
              "      <td>3</td>\n",
              "      <td>3</td>\n",
              "      <td>3</td>\n",
              "      <td>Sacred Games, 13 Reason Why</td>\n",
              "      <td>All of the above</td>\n",
              "      <td>Speacial OPS</td>\n",
              "      <td>All of the above</td>\n",
              "      <td>All of the above</td>\n",
              "      <td>2</td>\n",
              "      <td>Remove Ads/Limit Ads duration</td>\n",
              "    </tr>\n",
              "    <tr>\n",
              "      <th>...</th>\n",
              "      <td>...</td>\n",
              "      <td>...</td>\n",
              "      <td>...</td>\n",
              "      <td>...</td>\n",
              "      <td>...</td>\n",
              "      <td>...</td>\n",
              "      <td>...</td>\n",
              "      <td>...</td>\n",
              "      <td>...</td>\n",
              "      <td>...</td>\n",
              "      <td>...</td>\n",
              "      <td>...</td>\n",
              "      <td>...</td>\n",
              "      <td>...</td>\n",
              "      <td>...</td>\n",
              "      <td>...</td>\n",
              "      <td>...</td>\n",
              "      <td>...</td>\n",
              "      <td>...</td>\n",
              "      <td>...</td>\n",
              "      <td>...</td>\n",
              "      <td>...</td>\n",
              "      <td>...</td>\n",
              "      <td>...</td>\n",
              "      <td>...</td>\n",
              "      <td>...</td>\n",
              "      <td>...</td>\n",
              "      <td>...</td>\n",
              "    </tr>\n",
              "    <tr>\n",
              "      <th>245</th>\n",
              "      <td>5/20/2021 23:23:40</td>\n",
              "      <td>Yes</td>\n",
              "      <td>Less than 18</td>\n",
              "      <td>2</td>\n",
              "      <td>Original Web Series, Movies</td>\n",
              "      <td>Story, Director</td>\n",
              "      <td>Netflix</td>\n",
              "      <td>All of the above</td>\n",
              "      <td>1</td>\n",
              "      <td>4</td>\n",
              "      <td>5</td>\n",
              "      <td>4</td>\n",
              "      <td>4</td>\n",
              "      <td>5</td>\n",
              "      <td>4</td>\n",
              "      <td>4</td>\n",
              "      <td>5</td>\n",
              "      <td>5</td>\n",
              "      <td>4</td>\n",
              "      <td>4</td>\n",
              "      <td>5</td>\n",
              "      <td>All of the Above</td>\n",
              "      <td>All of the above</td>\n",
              "      <td>All of the above</td>\n",
              "      <td>All of the above</td>\n",
              "      <td>All of the above</td>\n",
              "      <td>2</td>\n",
              "      <td>Availability in Languages</td>\n",
              "    </tr>\n",
              "    <tr>\n",
              "      <th>246</th>\n",
              "      <td>5/20/2021 23:24:20</td>\n",
              "      <td>Yes</td>\n",
              "      <td>31-50</td>\n",
              "      <td>2</td>\n",
              "      <td>Movies</td>\n",
              "      <td>Director</td>\n",
              "      <td>Netflix</td>\n",
              "      <td>Movies</td>\n",
              "      <td>2</td>\n",
              "      <td>5</td>\n",
              "      <td>4</td>\n",
              "      <td>4</td>\n",
              "      <td>4</td>\n",
              "      <td>5</td>\n",
              "      <td>5</td>\n",
              "      <td>4</td>\n",
              "      <td>4</td>\n",
              "      <td>5</td>\n",
              "      <td>5</td>\n",
              "      <td>4</td>\n",
              "      <td>4</td>\n",
              "      <td>The Witcher, Money Heist</td>\n",
              "      <td>Mirzapur, Tandav</td>\n",
              "      <td>Hostages, Arya</td>\n",
              "      <td>Television</td>\n",
              "      <td>All of the above</td>\n",
              "      <td>1</td>\n",
              "      <td>Improvement in Story ,Casting</td>\n",
              "    </tr>\n",
              "    <tr>\n",
              "      <th>247</th>\n",
              "      <td>5/20/2021 23:25:03</td>\n",
              "      <td>Yes</td>\n",
              "      <td>18-30</td>\n",
              "      <td>3</td>\n",
              "      <td>Movies, Sports and News</td>\n",
              "      <td>Story, Director</td>\n",
              "      <td>Prime</td>\n",
              "      <td>Movies</td>\n",
              "      <td>3</td>\n",
              "      <td>5</td>\n",
              "      <td>4</td>\n",
              "      <td>4</td>\n",
              "      <td>3</td>\n",
              "      <td>5</td>\n",
              "      <td>4</td>\n",
              "      <td>4</td>\n",
              "      <td>4</td>\n",
              "      <td>5</td>\n",
              "      <td>4</td>\n",
              "      <td>4</td>\n",
              "      <td>5</td>\n",
              "      <td>Sacred Games, Money Heist</td>\n",
              "      <td>Mirzapur, Breath into the shadow</td>\n",
              "      <td>Hostages, Arya</td>\n",
              "      <td>Television</td>\n",
              "      <td>Ease of use</td>\n",
              "      <td>2</td>\n",
              "      <td>Remove Ads/Limit Ads duration</td>\n",
              "    </tr>\n",
              "    <tr>\n",
              "      <th>248</th>\n",
              "      <td>5/20/2021 23:25:47</td>\n",
              "      <td>Yes</td>\n",
              "      <td>18-30</td>\n",
              "      <td>3</td>\n",
              "      <td>Movies, Sports and News</td>\n",
              "      <td>Director</td>\n",
              "      <td>Prime</td>\n",
              "      <td>Movies</td>\n",
              "      <td>3</td>\n",
              "      <td>5</td>\n",
              "      <td>4</td>\n",
              "      <td>4</td>\n",
              "      <td>3</td>\n",
              "      <td>5</td>\n",
              "      <td>4</td>\n",
              "      <td>4</td>\n",
              "      <td>4</td>\n",
              "      <td>5</td>\n",
              "      <td>4</td>\n",
              "      <td>4</td>\n",
              "      <td>5</td>\n",
              "      <td>Sacred Games, The Witcher</td>\n",
              "      <td>Mirzapur, Made in heaven</td>\n",
              "      <td>Criminal Justice</td>\n",
              "      <td>Television</td>\n",
              "      <td>Recommendation</td>\n",
              "      <td>1</td>\n",
              "      <td>Decrease Subscription Price</td>\n",
              "    </tr>\n",
              "    <tr>\n",
              "      <th>249</th>\n",
              "      <td>5/20/2021 23:26:24</td>\n",
              "      <td>Yes</td>\n",
              "      <td>31-50</td>\n",
              "      <td>2</td>\n",
              "      <td>All of the above</td>\n",
              "      <td>All of the above</td>\n",
              "      <td>All of the above</td>\n",
              "      <td>All of the above</td>\n",
              "      <td>2</td>\n",
              "      <td>5</td>\n",
              "      <td>4</td>\n",
              "      <td>4</td>\n",
              "      <td>3</td>\n",
              "      <td>5</td>\n",
              "      <td>4</td>\n",
              "      <td>4</td>\n",
              "      <td>5</td>\n",
              "      <td>5</td>\n",
              "      <td>4</td>\n",
              "      <td>3</td>\n",
              "      <td>4</td>\n",
              "      <td>All of the Above</td>\n",
              "      <td>All of the above</td>\n",
              "      <td>All of the above</td>\n",
              "      <td>All of the above</td>\n",
              "      <td>Ease of use</td>\n",
              "      <td>1</td>\n",
              "      <td>Availability in Languages</td>\n",
              "    </tr>\n",
              "  </tbody>\n",
              "</table>\n",
              "<p>250 rows × 28 columns</p>\n",
              "</div>"
            ],
            "text/plain": [
              "              Timestamp  ...                     Suggestion\n",
              "0     5/8/2021 13:40:40  ...  Remove Ads/Limit Ads duration\n",
              "1     5/8/2021 13:44:41  ...    Decrease Subscription Price\n",
              "2     5/8/2021 13:44:51  ...  Remove Ads/Limit Ads duration\n",
              "3     5/8/2021 13:49:19  ...      Availability in Languages\n",
              "4     5/8/2021 14:39:38  ...  Remove Ads/Limit Ads duration\n",
              "..                  ...  ...                            ...\n",
              "245  5/20/2021 23:23:40  ...      Availability in Languages\n",
              "246  5/20/2021 23:24:20  ...  Improvement in Story ,Casting\n",
              "247  5/20/2021 23:25:03  ...  Remove Ads/Limit Ads duration\n",
              "248  5/20/2021 23:25:47  ...    Decrease Subscription Price\n",
              "249  5/20/2021 23:26:24  ...      Availability in Languages\n",
              "\n",
              "[250 rows x 28 columns]"
            ]
          },
          "metadata": {
            "tags": []
          },
          "execution_count": 3833
        }
      ]
    },
    {
      "cell_type": "code",
      "metadata": {
        "id": "EeYM7HHvDK5x"
      },
      "source": [
        ""
      ],
      "execution_count": null,
      "outputs": []
    },
    {
      "cell_type": "markdown",
      "metadata": {
        "id": "A5ziIPw-Wbsl"
      },
      "source": [
        "#**Changing the same names of the columns.**"
      ]
    },
    {
      "cell_type": "code",
      "metadata": {
        "id": "qW2fE9XRI_kV"
      },
      "source": [
        "data['Most_watched']=data['Most_watched'].map(lambda x: 'All of the above' if (str(x)=='Original Web Series, Movies, Documentaries, Sports and News' or str(x)=='Movies, All of the above' or str(x)=='Original Web Series, Movies, Documentaries, Sports and News, All of the above' or str(x)=='Original Web Series, Movies, Sports and News, All of the above') else x)\n",
        "data['Selection']=data['Selection'].map(lambda x: 'All of the above' if (str(x)=='Cast, Story, Director, All of the above' or str(x)=='Story, Director, All of the above' or str(x)=='Story, All of the above' or str(x)=='Director, All of the above') else x)\n",
        "data['Netflix_OgSeries']=data['Netflix_OgSeries'].map(lambda x: 'All of the above' if (str(x)=='Sacred Games, 13 Reason Why, The Witcher, Money Heist, All of the Above' or str(x)=='Sacred Games, 13 Reason Why, The Witcher, Money Heist' or str(x)=='13 Reason Why, The Witcher, All of the Above' or str(x)=='The Witcher, Money Heist, All of the Above' or str(x)=='Sacred Games, All of the Above' or str(x)=='Money Heist, All of the Above' or str(x)=='The Witcher, All of the Above' or str(x)=='All of the Above') else x)\n",
        "data['Prime_OgSeries']=data['Prime_OgSeries'].map(lambda x: 'All of the above' if (str(x)=='Mirzapur, Made in heaven, Tandav, Breath into the shadow, All of the above' or str(x)=='Tandav, All of the above' or str(x)=='Mirzapur, Made in heaven, Tandav, Breath into the shadow' or str(x)=='Tandav, Breath into the shadow, All of the above' or str(x)=='Mirzapur, All of the above' or str(x)=='Mirzapur, Made in heaven, All of the above'  or str(x)=='Mirzapur, Tandav, All of the above') else x)\n",
        "data['Hotstar_OgSeries']=data['Hotstar_OgSeries'].map(lambda x: 'All of the above' if (str(x)=='Speacial OPS, Hostages, Criminal Justice, Arya' or str(x)=='Speacial OPS, All of the above' or str(x)=='Speacial OPS, Hostages, Criminal Justice, Arya, All of the above' or str(x)=='Hostages, Arya, All of the above') else x)"
      ],
      "execution_count": null,
      "outputs": []
    },
    {
      "cell_type": "code",
      "metadata": {
        "colab": {
          "base_uri": "https://localhost:8080/"
        },
        "id": "s05w954DI_wC",
        "outputId": "68c85f43-74cc-4d60-abac-31cb028864ed"
      },
      "source": [
        "data['Most_watched'].value_counts()"
      ],
      "execution_count": null,
      "outputs": [
        {
          "output_type": "execute_result",
          "data": {
            "text/plain": [
              "All of the above                                       101\n",
              "Original Web Series, Movies                             34\n",
              "Original Web Series                                     28\n",
              "Movies                                                  25\n",
              "Original Web Series, Movies, Documentaries              14\n",
              "Movies, Sports and News                                 11\n",
              "Movies, Documentaries, Sports and News                   9\n",
              "Original Web Series, Movies, Sports and News             8\n",
              "Movies, Documentaries                                    6\n",
              "Original Web Series, Documentaries                       4\n",
              "Original Web Series, Sports and News                     4\n",
              "Sports and News                                          2\n",
              "Original Web Series, Documentaries, Sports and News      2\n",
              "Documentaries                                            1\n",
              "Documentaries, Sports and News                           1\n",
              "Name: Most_watched, dtype: int64"
            ]
          },
          "metadata": {
            "tags": []
          },
          "execution_count": 3835
        }
      ]
    },
    {
      "cell_type": "markdown",
      "metadata": {
        "id": "KMcBR_gPTAg9"
      },
      "source": [
        "#graph of platfoms"
      ]
    },
    {
      "cell_type": "code",
      "metadata": {
        "colab": {
          "base_uri": "https://localhost:8080/",
          "height": 408
        },
        "id": "zl5XKmJec4sE",
        "outputId": "7987d073-d8a8-4462-fbb8-8a22eff92130"
      },
      "source": [
        "sns.catplot(x=\"Platforms\", kind=\"count\", palette=\"ch:.25\", data=data)\n"
      ],
      "execution_count": null,
      "outputs": [
        {
          "output_type": "execute_result",
          "data": {
            "text/plain": [
              "<seaborn.axisgrid.FacetGrid at 0x7fc8daa10810>"
            ]
          },
          "metadata": {
            "tags": []
          },
          "execution_count": 3836
        },
        {
          "output_type": "display_data",
          "data": {
            "image/png": "[encoded data removed]",
            "text/plain": [
              "<Figure size 360x360 with 1 Axes>"
            ]
          },
          "metadata": {
            "tags": []
          }
        }
      ]
    },
    {
      "cell_type": "markdown",
      "metadata": {
        "id": "HIgMGg4NXACO"
      },
      "source": [
        "#Representation of most watched Types and Subscription"
      ]
    },
    {
      "cell_type": "code",
      "metadata": {
        "colab": {
          "base_uri": "https://localhost:8080/",
          "height": 510
        },
        "id": "JKT0fI0qYplb",
        "outputId": "bddf10be-61b4-42b6-ffe3-14eed9bd3855"
      },
      "source": [
        "data['Most_watched'].value_counts().plot(kind='barh',figsize=(10,8),color=\"brown\")\n",
        "plt.title(\"What do you watch the most on video streaming platform?\")\n",
        "plt.xlim(0,110)\n",
        "plt.show()"
      ],
      "execution_count": null,
      "outputs": [
        {
          "output_type": "display_data",
          "data": {
            "image/png": "[encoded data removed]",
            "text/plain": [
              "<Figure size 720x576 with 1 Axes>"
            ]
          },
          "metadata": {
            "tags": []
          }
        }
      ]
    },
    {
      "cell_type": "code",
      "metadata": {
        "colab": {
          "base_uri": "https://localhost:8080/",
          "height": 510
        },
        "id": "rej1Kl8fclGz",
        "outputId": "460b4276-b6fb-4baa-a34a-427d8a4b1a72"
      },
      "source": [
        "data['Subscription'].value_counts().plot(kind='barh',figsize=(10,8),color=\"brown\")\n",
        "plt.title(\"On what basis you take subscriptions of platfroms?\")\n",
        "plt.xlim(0,110)\n",
        "plt.show()"
      ],
      "execution_count": null,
      "outputs": [
        {
          "output_type": "display_data",
          "data": {
            "image/png": "[encoded data removed]",
            "text/plain": [
              "<Figure size 720x576 with 1 Axes>"
            ]
          },
          "metadata": {
            "tags": []
          }
        }
      ]
    },
    {
      "cell_type": "markdown",
      "metadata": {
        "id": "84kOpXthc2E1"
      },
      "source": [
        "Here we can see that the highest count in most watched is all of the above and after that Original web series and movie and if we see in subscription graph Original web series has the highest count and after that all so we can say that Web series has high impact on subscription for any of the platforms.  "
      ]
    },
    {
      "cell_type": "markdown",
      "metadata": {
        "id": "Rpnsm8WAXKW6"
      },
      "source": [
        "#Presentation of Netflix's Series Count "
      ]
    },
    {
      "cell_type": "code",
      "metadata": {
        "colab": {
          "base_uri": "https://localhost:8080/",
          "height": 510
        },
        "id": "1Zhcam81DcKx",
        "outputId": "3b0aef24-7bc4-4887-ecc5-bb4720211848"
      },
      "source": [
        "data['Netflix_OgSeries'].value_counts().plot(kind='barh',figsize=(10,8),color=\"blue\")\n",
        "plt.title(\"Do you know these series of Netflix?\")\n",
        "plt.xlim(0,120)\n",
        "plt.show()"
      ],
      "execution_count": null,
      "outputs": [
        {
          "output_type": "display_data",
          "data": {
            "image/png": "[encoded data removed]",
            "text/plain": [
              "<Figure size 720x576 with 1 Axes>"
            ]
          },
          "metadata": {
            "tags": []
          }
        }
      ]
    },
    {
      "cell_type": "markdown",
      "metadata": {
        "id": "jXEeZgvXXVIx"
      },
      "source": [
        "#Presentation of Prime's Series Count"
      ]
    },
    {
      "cell_type": "code",
      "metadata": {
        "colab": {
          "base_uri": "https://localhost:8080/"
        },
        "id": "mgxb-h2fD7PB",
        "outputId": "e7fc2a80-c59c-4473-f2bf-fcb256c59360"
      },
      "source": [
        "data['Prime_OgSeries'].value_counts().plot(kind='barh',figsize=(10,8),color=\"blue\")\n",
        "plt.title(\"Do you know these series of Prime?\")\n",
        "plt.xlim(0,130)\n",
        "plt.show()"
      ],
      "execution_count": null,
      "outputs": [
        {
          "output_type": "display_data",
          "data": {
            "image/png": "[encoded data removed]",
            "text/plain": [
              "<Figure size 720x576 with 1 Axes>"
            ]
          },
          "metadata": {
            "tags": []
          }
        }
      ]
    },
    {
      "cell_type": "markdown",
      "metadata": {
        "id": "ilj5BTMpX5XS"
      },
      "source": [
        ""
      ]
    },
    {
      "cell_type": "markdown",
      "metadata": {
        "id": "AEWvMpmMX5cQ"
      },
      "source": [
        "#Presentation of Hotstar's Series Count "
      ]
    },
    {
      "cell_type": "code",
      "metadata": {
        "colab": {
          "base_uri": "https://localhost:8080/",
          "height": 510
        },
        "id": "t1UuVjPeEHpr",
        "outputId": "1452a6f7-0956-4cf9-cc1f-31954b074d83"
      },
      "source": [
        "data['Hotstar_OgSeries'].value_counts().plot(kind='barh',figsize=(10,8),color=\"blue\")\n",
        "plt.title(\"Do you know these series of Hotstar?\")\n",
        "plt.xlim(0,100)\n",
        "plt.show()"
      ],
      "execution_count": null,
      "outputs": [
        {
          "output_type": "display_data",
          "data": {
            "image/png": "[encoded data removed]",
            "text/plain": [
              "<Figure size 720x576 with 1 Axes>"
            ]
          },
          "metadata": {
            "tags": []
          }
        }
      ]
    },
    {
      "cell_type": "markdown",
      "metadata": {
        "id": "rIHvGzeuYOcz"
      },
      "source": [
        "#Selection of Genres "
      ]
    },
    {
      "cell_type": "code",
      "metadata": {
        "colab": {
          "base_uri": "https://localhost:8080/"
        },
        "id": "19De_TtSYprV",
        "outputId": "3cf8664c-2224-490f-caf2-a2ba809b3c40"
      },
      "source": [
        "plt.figure(figsize=(12,8))\n",
        "plt.xticks(rotation=45)\n",
        "ax = sns.countplot(x=\"Selection\", hue=\"Platforms\", data=data , palette=\"cool\")"
      ],
      "execution_count": null,
      "outputs": [
        {
          "output_type": "display_data",
          "data": {
            "image/png": "[encoded data removed]",
            "text/plain": [
              "<Figure size 864x576 with 1 Axes>"
            ]
          },
          "metadata": {
            "tags": []
          }
        }
      ]
    },
    {
      "cell_type": "markdown",
      "metadata": {
        "id": "veFm8eK-ZP8_"
      },
      "source": [
        "#Relation between Overall Rating ,Platform and Age"
      ]
    },
    {
      "cell_type": "markdown",
      "metadata": {
        "id": "FbdESoMXZUYs"
      },
      "source": [
        ""
      ]
    },
    {
      "cell_type": "code",
      "metadata": {
        "colab": {
          "base_uri": "https://localhost:8080/",
          "height": 265
        },
        "id": "DE_fQCTuYpuW",
        "outputId": "242f9f45-dfe0-4c32-d291-16f611dbcec8"
      },
      "source": [
        "g = sns.catplot(x=\"Overall_Rating\", hue=\"Platforms\", col=\"Age\",\n",
        "                data=data, kind=\"count\",\n",
        "                height=4, aspect=0.998,palette=\"cool\");"
      ],
      "execution_count": null,
      "outputs": [
        {
          "output_type": "display_data",
          "data": {
            "image/png": "[encoded data removed]",
            "text/plain": [
              "<Figure size 1326.26x288 with 4 Axes>"
            ]
          },
          "metadata": {
            "tags": []
          }
        }
      ]
    },
    {
      "cell_type": "markdown",
      "metadata": {
        "id": "47bVv_TpbtBv"
      },
      "source": [
        "#Relation between Most Watched and Platfroms."
      ]
    },
    {
      "cell_type": "code",
      "metadata": {
        "id": "MDlKPnHecc4-"
      },
      "source": [
        ""
      ],
      "execution_count": null,
      "outputs": []
    },
    {
      "cell_type": "code",
      "metadata": {
        "colab": {
          "base_uri": "https://localhost:8080/"
        },
        "id": "8ehXxefxndZz",
        "outputId": "47fd4fca-b640-4b16-f11c-70cecfde1194"
      },
      "source": [
        "plt.figure(figsize=(15,10))\n",
        "plt.xticks(rotation=45)\n",
        "plt.xlim(0,70)\n",
        "ax = sns.countplot(y=\"Most_watched\", hue=\"Platforms\", data=data , palette=\"hsv_r\")"
      ],
      "execution_count": null,
      "outputs": [
        {
          "output_type": "display_data",
          "data": {
            "image/png": "[encoded data removed]",
            "text/plain": [
              "<Figure size 1080x720 with 1 Axes>"
            ]
          },
          "metadata": {
            "tags": []
          }
        }
      ]
    },
    {
      "cell_type": "markdown",
      "metadata": {
        "id": "bQtLUT9fb2bX"
      },
      "source": [
        "#Relation Between Subscription and Platfroms"
      ]
    },
    {
      "cell_type": "code",
      "metadata": {
        "colab": {
          "base_uri": "https://localhost:8080/"
        },
        "id": "2_Ix6X8Vb9gi",
        "outputId": "0a116c42-451e-46df-edc1-c5ca884b8d27"
      },
      "source": [
        "plt.figure(figsize=(15,10))\n",
        "plt.xticks(rotation=45)\n",
        "plt.xlim(0,70)\n",
        "ax = sns.countplot(y=\"Subscription\", hue=\"Platforms\", data=data , palette=\"cool\")"
      ],
      "execution_count": null,
      "outputs": [
        {
          "output_type": "display_data",
          "data": {
            "image/png": "[encoded data removed]",
            "text/plain": [
              "<Figure size 1080x720 with 1 Axes>"
            ]
          },
          "metadata": {
            "tags": []
          }
        }
      ]
    },
    {
      "cell_type": "markdown",
      "metadata": {
        "id": "zkIQvigYZhXi"
      },
      "source": [
        "#Converting data into one_hot_encoding."
      ]
    },
    {
      "cell_type": "code",
      "metadata": {
        "colab": {
          "base_uri": "https://localhost:8080/"
        },
        "id": "fgQUgcQOBHBq",
        "outputId": "68b79b1b-a442-4176-bfb4-9d27252ba565"
      },
      "source": [
        "data.columns"
      ],
      "execution_count": null,
      "outputs": [
        {
          "output_type": "execute_result",
          "data": {
            "text/plain": [
              "Index(['Timestamp', 'Video Streaming Platform(Y/N)', 'Age', 'Frequency',\n",
              "       'Most_watched', 'Selection', 'Platforms', 'Subscription', 'Duration',\n",
              "       'Netflix_Rating_Og', 'Netflix_Rating_movie',\n",
              "       'Netflix_Rating_documentry', 'Netflix_Rating_others', 'Prime_Rating_Og',\n",
              "       'Prime_Rating_movie', 'Prime_Rating_documentry', 'Prime_Rating_others',\n",
              "       'Hotstar_Rating_Og', 'Hotstar_Rating_movie',\n",
              "       'Hotstar_Rating_documentry', 'Hotstar_Rating_sports',\n",
              "       'Netflix_OgSeries', 'Prime_OgSeries', 'Hotstar_OgSeries',\n",
              "       'Advertisment', 'Features', 'Overall_Rating', 'Suggestion'],\n",
              "      dtype='object')"
            ]
          },
          "metadata": {
            "tags": []
          },
          "execution_count": 3846
        }
      ]
    },
    {
      "cell_type": "code",
      "metadata": {
        "colab": {
          "base_uri": "https://localhost:8080/"
        },
        "id": "5IztiOZRYpxW",
        "outputId": "c6e52410-74be-4d8d-dc47-860afdf5929b"
      },
      "source": [
        "one_hot_data = pd.get_dummies(data[['Platforms','Age','Overall_Rating','Duration','Frequency','Most_watched']])\n",
        "one_hot_data"
      ],
      "execution_count": null,
      "outputs": [
        {
          "output_type": "execute_result",
          "data": {
            "text/html": [
              "<div>\n",
              "<style scoped>\n",
              "    .dataframe tbody tr th:only-of-type {\n",
              "        vertical-align: middle;\n",
              "    }\n",
              "\n",
              "    .dataframe tbody tr th {\n",
              "        vertical-align: top;\n",
              "    }\n",
              "\n",
              "    .dataframe thead th {\n",
              "        text-align: right;\n",
              "    }\n",
              "</style>\n",
              "<table border=\"1\" class=\"dataframe\">\n",
              "  <thead>\n",
              "    <tr style=\"text-align: right;\">\n",
              "      <th></th>\n",
              "      <th>Overall_Rating</th>\n",
              "      <th>Duration</th>\n",
              "      <th>Frequency</th>\n",
              "      <th>Platforms_All of the above</th>\n",
              "      <th>Platforms_Hotstar</th>\n",
              "      <th>Platforms_Netflix</th>\n",
              "      <th>Platforms_Prime</th>\n",
              "      <th>Age_18-30</th>\n",
              "      <th>Age_31-50</th>\n",
              "      <th>Age_Less than 18</th>\n",
              "      <th>Age_More than 50</th>\n",
              "      <th>Most_watched_All of the above</th>\n",
              "      <th>Most_watched_Documentaries</th>\n",
              "      <th>Most_watched_Documentaries, Sports and News</th>\n",
              "      <th>Most_watched_Movies</th>\n",
              "      <th>Most_watched_Movies, Documentaries</th>\n",
              "      <th>Most_watched_Movies, Documentaries, Sports and News</th>\n",
              "      <th>Most_watched_Movies, Sports and News</th>\n",
              "      <th>Most_watched_Original Web Series</th>\n",
              "      <th>Most_watched_Original Web Series, Documentaries</th>\n",
              "      <th>Most_watched_Original Web Series, Documentaries, Sports and News</th>\n",
              "      <th>Most_watched_Original Web Series, Movies</th>\n",
              "      <th>Most_watched_Original Web Series, Movies, Documentaries</th>\n",
              "      <th>Most_watched_Original Web Series, Movies, Sports and News</th>\n",
              "      <th>Most_watched_Original Web Series, Sports and News</th>\n",
              "      <th>Most_watched_Sports and News</th>\n",
              "    </tr>\n",
              "  </thead>\n",
              "  <tbody>\n",
              "    <tr>\n",
              "      <th>0</th>\n",
              "      <td>2</td>\n",
              "      <td>1</td>\n",
              "      <td>1</td>\n",
              "      <td>0</td>\n",
              "      <td>0</td>\n",
              "      <td>0</td>\n",
              "      <td>1</td>\n",
              "      <td>1</td>\n",
              "      <td>0</td>\n",
              "      <td>0</td>\n",
              "      <td>0</td>\n",
              "      <td>1</td>\n",
              "      <td>0</td>\n",
              "      <td>0</td>\n",
              "      <td>0</td>\n",
              "      <td>0</td>\n",
              "      <td>0</td>\n",
              "      <td>0</td>\n",
              "      <td>0</td>\n",
              "      <td>0</td>\n",
              "      <td>0</td>\n",
              "      <td>0</td>\n",
              "      <td>0</td>\n",
              "      <td>0</td>\n",
              "      <td>0</td>\n",
              "      <td>0</td>\n",
              "    </tr>\n",
              "    <tr>\n",
              "      <th>1</th>\n",
              "      <td>2</td>\n",
              "      <td>2</td>\n",
              "      <td>3</td>\n",
              "      <td>0</td>\n",
              "      <td>0</td>\n",
              "      <td>1</td>\n",
              "      <td>0</td>\n",
              "      <td>1</td>\n",
              "      <td>0</td>\n",
              "      <td>0</td>\n",
              "      <td>0</td>\n",
              "      <td>0</td>\n",
              "      <td>0</td>\n",
              "      <td>0</td>\n",
              "      <td>0</td>\n",
              "      <td>0</td>\n",
              "      <td>0</td>\n",
              "      <td>0</td>\n",
              "      <td>1</td>\n",
              "      <td>0</td>\n",
              "      <td>0</td>\n",
              "      <td>0</td>\n",
              "      <td>0</td>\n",
              "      <td>0</td>\n",
              "      <td>0</td>\n",
              "      <td>0</td>\n",
              "    </tr>\n",
              "    <tr>\n",
              "      <th>2</th>\n",
              "      <td>1</td>\n",
              "      <td>2</td>\n",
              "      <td>3</td>\n",
              "      <td>0</td>\n",
              "      <td>1</td>\n",
              "      <td>0</td>\n",
              "      <td>0</td>\n",
              "      <td>1</td>\n",
              "      <td>0</td>\n",
              "      <td>0</td>\n",
              "      <td>0</td>\n",
              "      <td>0</td>\n",
              "      <td>0</td>\n",
              "      <td>0</td>\n",
              "      <td>1</td>\n",
              "      <td>0</td>\n",
              "      <td>0</td>\n",
              "      <td>0</td>\n",
              "      <td>0</td>\n",
              "      <td>0</td>\n",
              "      <td>0</td>\n",
              "      <td>0</td>\n",
              "      <td>0</td>\n",
              "      <td>0</td>\n",
              "      <td>0</td>\n",
              "      <td>0</td>\n",
              "    </tr>\n",
              "    <tr>\n",
              "      <th>3</th>\n",
              "      <td>2</td>\n",
              "      <td>2</td>\n",
              "      <td>2</td>\n",
              "      <td>0</td>\n",
              "      <td>1</td>\n",
              "      <td>0</td>\n",
              "      <td>0</td>\n",
              "      <td>0</td>\n",
              "      <td>1</td>\n",
              "      <td>0</td>\n",
              "      <td>0</td>\n",
              "      <td>0</td>\n",
              "      <td>0</td>\n",
              "      <td>0</td>\n",
              "      <td>0</td>\n",
              "      <td>0</td>\n",
              "      <td>1</td>\n",
              "      <td>0</td>\n",
              "      <td>0</td>\n",
              "      <td>0</td>\n",
              "      <td>0</td>\n",
              "      <td>0</td>\n",
              "      <td>0</td>\n",
              "      <td>0</td>\n",
              "      <td>0</td>\n",
              "      <td>0</td>\n",
              "    </tr>\n",
              "    <tr>\n",
              "      <th>4</th>\n",
              "      <td>2</td>\n",
              "      <td>1</td>\n",
              "      <td>3</td>\n",
              "      <td>1</td>\n",
              "      <td>0</td>\n",
              "      <td>0</td>\n",
              "      <td>0</td>\n",
              "      <td>1</td>\n",
              "      <td>0</td>\n",
              "      <td>0</td>\n",
              "      <td>0</td>\n",
              "      <td>0</td>\n",
              "      <td>0</td>\n",
              "      <td>0</td>\n",
              "      <td>1</td>\n",
              "      <td>0</td>\n",
              "      <td>0</td>\n",
              "      <td>0</td>\n",
              "      <td>0</td>\n",
              "      <td>0</td>\n",
              "      <td>0</td>\n",
              "      <td>0</td>\n",
              "      <td>0</td>\n",
              "      <td>0</td>\n",
              "      <td>0</td>\n",
              "      <td>0</td>\n",
              "    </tr>\n",
              "    <tr>\n",
              "      <th>...</th>\n",
              "      <td>...</td>\n",
              "      <td>...</td>\n",
              "      <td>...</td>\n",
              "      <td>...</td>\n",
              "      <td>...</td>\n",
              "      <td>...</td>\n",
              "      <td>...</td>\n",
              "      <td>...</td>\n",
              "      <td>...</td>\n",
              "      <td>...</td>\n",
              "      <td>...</td>\n",
              "      <td>...</td>\n",
              "      <td>...</td>\n",
              "      <td>...</td>\n",
              "      <td>...</td>\n",
              "      <td>...</td>\n",
              "      <td>...</td>\n",
              "      <td>...</td>\n",
              "      <td>...</td>\n",
              "      <td>...</td>\n",
              "      <td>...</td>\n",
              "      <td>...</td>\n",
              "      <td>...</td>\n",
              "      <td>...</td>\n",
              "      <td>...</td>\n",
              "      <td>...</td>\n",
              "    </tr>\n",
              "    <tr>\n",
              "      <th>245</th>\n",
              "      <td>2</td>\n",
              "      <td>1</td>\n",
              "      <td>2</td>\n",
              "      <td>0</td>\n",
              "      <td>0</td>\n",
              "      <td>1</td>\n",
              "      <td>0</td>\n",
              "      <td>0</td>\n",
              "      <td>0</td>\n",
              "      <td>1</td>\n",
              "      <td>0</td>\n",
              "      <td>0</td>\n",
              "      <td>0</td>\n",
              "      <td>0</td>\n",
              "      <td>0</td>\n",
              "      <td>0</td>\n",
              "      <td>0</td>\n",
              "      <td>0</td>\n",
              "      <td>0</td>\n",
              "      <td>0</td>\n",
              "      <td>0</td>\n",
              "      <td>1</td>\n",
              "      <td>0</td>\n",
              "      <td>0</td>\n",
              "      <td>0</td>\n",
              "      <td>0</td>\n",
              "    </tr>\n",
              "    <tr>\n",
              "      <th>246</th>\n",
              "      <td>1</td>\n",
              "      <td>2</td>\n",
              "      <td>2</td>\n",
              "      <td>0</td>\n",
              "      <td>0</td>\n",
              "      <td>1</td>\n",
              "      <td>0</td>\n",
              "      <td>0</td>\n",
              "      <td>1</td>\n",
              "      <td>0</td>\n",
              "      <td>0</td>\n",
              "      <td>0</td>\n",
              "      <td>0</td>\n",
              "      <td>0</td>\n",
              "      <td>1</td>\n",
              "      <td>0</td>\n",
              "      <td>0</td>\n",
              "      <td>0</td>\n",
              "      <td>0</td>\n",
              "      <td>0</td>\n",
              "      <td>0</td>\n",
              "      <td>0</td>\n",
              "      <td>0</td>\n",
              "      <td>0</td>\n",
              "      <td>0</td>\n",
              "      <td>0</td>\n",
              "    </tr>\n",
              "    <tr>\n",
              "      <th>247</th>\n",
              "      <td>2</td>\n",
              "      <td>3</td>\n",
              "      <td>3</td>\n",
              "      <td>0</td>\n",
              "      <td>0</td>\n",
              "      <td>0</td>\n",
              "      <td>1</td>\n",
              "      <td>1</td>\n",
              "      <td>0</td>\n",
              "      <td>0</td>\n",
              "      <td>0</td>\n",
              "      <td>0</td>\n",
              "      <td>0</td>\n",
              "      <td>0</td>\n",
              "      <td>0</td>\n",
              "      <td>0</td>\n",
              "      <td>0</td>\n",
              "      <td>1</td>\n",
              "      <td>0</td>\n",
              "      <td>0</td>\n",
              "      <td>0</td>\n",
              "      <td>0</td>\n",
              "      <td>0</td>\n",
              "      <td>0</td>\n",
              "      <td>0</td>\n",
              "      <td>0</td>\n",
              "    </tr>\n",
              "    <tr>\n",
              "      <th>248</th>\n",
              "      <td>1</td>\n",
              "      <td>3</td>\n",
              "      <td>3</td>\n",
              "      <td>0</td>\n",
              "      <td>0</td>\n",
              "      <td>0</td>\n",
              "      <td>1</td>\n",
              "      <td>1</td>\n",
              "      <td>0</td>\n",
              "      <td>0</td>\n",
              "      <td>0</td>\n",
              "      <td>0</td>\n",
              "      <td>0</td>\n",
              "      <td>0</td>\n",
              "      <td>0</td>\n",
              "      <td>0</td>\n",
              "      <td>0</td>\n",
              "      <td>1</td>\n",
              "      <td>0</td>\n",
              "      <td>0</td>\n",
              "      <td>0</td>\n",
              "      <td>0</td>\n",
              "      <td>0</td>\n",
              "      <td>0</td>\n",
              "      <td>0</td>\n",
              "      <td>0</td>\n",
              "    </tr>\n",
              "    <tr>\n",
              "      <th>249</th>\n",
              "      <td>1</td>\n",
              "      <td>2</td>\n",
              "      <td>2</td>\n",
              "      <td>1</td>\n",
              "      <td>0</td>\n",
              "      <td>0</td>\n",
              "      <td>0</td>\n",
              "      <td>0</td>\n",
              "      <td>1</td>\n",
              "      <td>0</td>\n",
              "      <td>0</td>\n",
              "      <td>1</td>\n",
              "      <td>0</td>\n",
              "      <td>0</td>\n",
              "      <td>0</td>\n",
              "      <td>0</td>\n",
              "      <td>0</td>\n",
              "      <td>0</td>\n",
              "      <td>0</td>\n",
              "      <td>0</td>\n",
              "      <td>0</td>\n",
              "      <td>0</td>\n",
              "      <td>0</td>\n",
              "      <td>0</td>\n",
              "      <td>0</td>\n",
              "      <td>0</td>\n",
              "    </tr>\n",
              "  </tbody>\n",
              "</table>\n",
              "<p>250 rows × 26 columns</p>\n",
              "</div>"
            ],
            "text/plain": [
              "     Overall_Rating  ...  Most_watched_Sports and News\n",
              "0                 2  ...                             0\n",
              "1                 2  ...                             0\n",
              "2                 1  ...                             0\n",
              "3                 2  ...                             0\n",
              "4                 2  ...                             0\n",
              "..              ...  ...                           ...\n",
              "245               2  ...                             0\n",
              "246               1  ...                             0\n",
              "247               2  ...                             0\n",
              "248               1  ...                             0\n",
              "249               1  ...                             0\n",
              "\n",
              "[250 rows x 26 columns]"
            ]
          },
          "metadata": {
            "tags": []
          },
          "execution_count": 3847
        }
      ]
    },
    {
      "cell_type": "code",
      "metadata": {
        "colab": {
          "base_uri": "https://localhost:8080/"
        },
        "id": "7P-P8DywYp1c",
        "outputId": "0fca42d4-23a2-4bc6-fd83-760a2429a72b"
      },
      "source": [
        "one_hot_data = pd.get_dummies(data[['Platforms','Age','Overall_Rating','Duration','Frequency','Most_watched']],drop_first=True)\n",
        "one_hot_data"
      ],
      "execution_count": null,
      "outputs": [
        {
          "output_type": "execute_result",
          "data": {
            "text/html": [
              "<div>\n",
              "<style scoped>\n",
              "    .dataframe tbody tr th:only-of-type {\n",
              "        vertical-align: middle;\n",
              "    }\n",
              "\n",
              "    .dataframe tbody tr th {\n",
              "        vertical-align: top;\n",
              "    }\n",
              "\n",
              "    .dataframe thead th {\n",
              "        text-align: right;\n",
              "    }\n",
              "</style>\n",
              "<table border=\"1\" class=\"dataframe\">\n",
              "  <thead>\n",
              "    <tr style=\"text-align: right;\">\n",
              "      <th></th>\n",
              "      <th>Overall_Rating</th>\n",
              "      <th>Duration</th>\n",
              "      <th>Frequency</th>\n",
              "      <th>Platforms_Hotstar</th>\n",
              "      <th>Platforms_Netflix</th>\n",
              "      <th>Platforms_Prime</th>\n",
              "      <th>Age_31-50</th>\n",
              "      <th>Age_Less than 18</th>\n",
              "      <th>Age_More than 50</th>\n",
              "      <th>Most_watched_Documentaries</th>\n",
              "      <th>Most_watched_Documentaries, Sports and News</th>\n",
              "      <th>Most_watched_Movies</th>\n",
              "      <th>Most_watched_Movies, Documentaries</th>\n",
              "      <th>Most_watched_Movies, Documentaries, Sports and News</th>\n",
              "      <th>Most_watched_Movies, Sports and News</th>\n",
              "      <th>Most_watched_Original Web Series</th>\n",
              "      <th>Most_watched_Original Web Series, Documentaries</th>\n",
              "      <th>Most_watched_Original Web Series, Documentaries, Sports and News</th>\n",
              "      <th>Most_watched_Original Web Series, Movies</th>\n",
              "      <th>Most_watched_Original Web Series, Movies, Documentaries</th>\n",
              "      <th>Most_watched_Original Web Series, Movies, Sports and News</th>\n",
              "      <th>Most_watched_Original Web Series, Sports and News</th>\n",
              "      <th>Most_watched_Sports and News</th>\n",
              "    </tr>\n",
              "  </thead>\n",
              "  <tbody>\n",
              "    <tr>\n",
              "      <th>0</th>\n",
              "      <td>2</td>\n",
              "      <td>1</td>\n",
              "      <td>1</td>\n",
              "      <td>0</td>\n",
              "      <td>0</td>\n",
              "      <td>1</td>\n",
              "      <td>0</td>\n",
              "      <td>0</td>\n",
              "      <td>0</td>\n",
              "      <td>0</td>\n",
              "      <td>0</td>\n",
              "      <td>0</td>\n",
              "      <td>0</td>\n",
              "      <td>0</td>\n",
              "      <td>0</td>\n",
              "      <td>0</td>\n",
              "      <td>0</td>\n",
              "      <td>0</td>\n",
              "      <td>0</td>\n",
              "      <td>0</td>\n",
              "      <td>0</td>\n",
              "      <td>0</td>\n",
              "      <td>0</td>\n",
              "    </tr>\n",
              "    <tr>\n",
              "      <th>1</th>\n",
              "      <td>2</td>\n",
              "      <td>2</td>\n",
              "      <td>3</td>\n",
              "      <td>0</td>\n",
              "      <td>1</td>\n",
              "      <td>0</td>\n",
              "      <td>0</td>\n",
              "      <td>0</td>\n",
              "      <td>0</td>\n",
              "      <td>0</td>\n",
              "      <td>0</td>\n",
              "      <td>0</td>\n",
              "      <td>0</td>\n",
              "      <td>0</td>\n",
              "      <td>0</td>\n",
              "      <td>1</td>\n",
              "      <td>0</td>\n",
              "      <td>0</td>\n",
              "      <td>0</td>\n",
              "      <td>0</td>\n",
              "      <td>0</td>\n",
              "      <td>0</td>\n",
              "      <td>0</td>\n",
              "    </tr>\n",
              "    <tr>\n",
              "      <th>2</th>\n",
              "      <td>1</td>\n",
              "      <td>2</td>\n",
              "      <td>3</td>\n",
              "      <td>1</td>\n",
              "      <td>0</td>\n",
              "      <td>0</td>\n",
              "      <td>0</td>\n",
              "      <td>0</td>\n",
              "      <td>0</td>\n",
              "      <td>0</td>\n",
              "      <td>0</td>\n",
              "      <td>1</td>\n",
              "      <td>0</td>\n",
              "      <td>0</td>\n",
              "      <td>0</td>\n",
              "      <td>0</td>\n",
              "      <td>0</td>\n",
              "      <td>0</td>\n",
              "      <td>0</td>\n",
              "      <td>0</td>\n",
              "      <td>0</td>\n",
              "      <td>0</td>\n",
              "      <td>0</td>\n",
              "    </tr>\n",
              "    <tr>\n",
              "      <th>3</th>\n",
              "      <td>2</td>\n",
              "      <td>2</td>\n",
              "      <td>2</td>\n",
              "      <td>1</td>\n",
              "      <td>0</td>\n",
              "      <td>0</td>\n",
              "      <td>1</td>\n",
              "      <td>0</td>\n",
              "      <td>0</td>\n",
              "      <td>0</td>\n",
              "      <td>0</td>\n",
              "      <td>0</td>\n",
              "      <td>0</td>\n",
              "      <td>1</td>\n",
              "      <td>0</td>\n",
              "      <td>0</td>\n",
              "      <td>0</td>\n",
              "      <td>0</td>\n",
              "      <td>0</td>\n",
              "      <td>0</td>\n",
              "      <td>0</td>\n",
              "      <td>0</td>\n",
              "      <td>0</td>\n",
              "    </tr>\n",
              "    <tr>\n",
              "      <th>4</th>\n",
              "      <td>2</td>\n",
              "      <td>1</td>\n",
              "      <td>3</td>\n",
              "      <td>0</td>\n",
              "      <td>0</td>\n",
              "      <td>0</td>\n",
              "      <td>0</td>\n",
              "      <td>0</td>\n",
              "      <td>0</td>\n",
              "      <td>0</td>\n",
              "      <td>0</td>\n",
              "      <td>1</td>\n",
              "      <td>0</td>\n",
              "      <td>0</td>\n",
              "      <td>0</td>\n",
              "      <td>0</td>\n",
              "      <td>0</td>\n",
              "      <td>0</td>\n",
              "      <td>0</td>\n",
              "      <td>0</td>\n",
              "      <td>0</td>\n",
              "      <td>0</td>\n",
              "      <td>0</td>\n",
              "    </tr>\n",
              "    <tr>\n",
              "      <th>...</th>\n",
              "      <td>...</td>\n",
              "      <td>...</td>\n",
              "      <td>...</td>\n",
              "      <td>...</td>\n",
              "      <td>...</td>\n",
              "      <td>...</td>\n",
              "      <td>...</td>\n",
              "      <td>...</td>\n",
              "      <td>...</td>\n",
              "      <td>...</td>\n",
              "      <td>...</td>\n",
              "      <td>...</td>\n",
              "      <td>...</td>\n",
              "      <td>...</td>\n",
              "      <td>...</td>\n",
              "      <td>...</td>\n",
              "      <td>...</td>\n",
              "      <td>...</td>\n",
              "      <td>...</td>\n",
              "      <td>...</td>\n",
              "      <td>...</td>\n",
              "      <td>...</td>\n",
              "      <td>...</td>\n",
              "    </tr>\n",
              "    <tr>\n",
              "      <th>245</th>\n",
              "      <td>2</td>\n",
              "      <td>1</td>\n",
              "      <td>2</td>\n",
              "      <td>0</td>\n",
              "      <td>1</td>\n",
              "      <td>0</td>\n",
              "      <td>0</td>\n",
              "      <td>1</td>\n",
              "      <td>0</td>\n",
              "      <td>0</td>\n",
              "      <td>0</td>\n",
              "      <td>0</td>\n",
              "      <td>0</td>\n",
              "      <td>0</td>\n",
              "      <td>0</td>\n",
              "      <td>0</td>\n",
              "      <td>0</td>\n",
              "      <td>0</td>\n",
              "      <td>1</td>\n",
              "      <td>0</td>\n",
              "      <td>0</td>\n",
              "      <td>0</td>\n",
              "      <td>0</td>\n",
              "    </tr>\n",
              "    <tr>\n",
              "      <th>246</th>\n",
              "      <td>1</td>\n",
              "      <td>2</td>\n",
              "      <td>2</td>\n",
              "      <td>0</td>\n",
              "      <td>1</td>\n",
              "      <td>0</td>\n",
              "      <td>1</td>\n",
              "      <td>0</td>\n",
              "      <td>0</td>\n",
              "      <td>0</td>\n",
              "      <td>0</td>\n",
              "      <td>1</td>\n",
              "      <td>0</td>\n",
              "      <td>0</td>\n",
              "      <td>0</td>\n",
              "      <td>0</td>\n",
              "      <td>0</td>\n",
              "      <td>0</td>\n",
              "      <td>0</td>\n",
              "      <td>0</td>\n",
              "      <td>0</td>\n",
              "      <td>0</td>\n",
              "      <td>0</td>\n",
              "    </tr>\n",
              "    <tr>\n",
              "      <th>247</th>\n",
              "      <td>2</td>\n",
              "      <td>3</td>\n",
              "      <td>3</td>\n",
              "      <td>0</td>\n",
              "      <td>0</td>\n",
              "      <td>1</td>\n",
              "      <td>0</td>\n",
              "      <td>0</td>\n",
              "      <td>0</td>\n",
              "      <td>0</td>\n",
              "      <td>0</td>\n",
              "      <td>0</td>\n",
              "      <td>0</td>\n",
              "      <td>0</td>\n",
              "      <td>1</td>\n",
              "      <td>0</td>\n",
              "      <td>0</td>\n",
              "      <td>0</td>\n",
              "      <td>0</td>\n",
              "      <td>0</td>\n",
              "      <td>0</td>\n",
              "      <td>0</td>\n",
              "      <td>0</td>\n",
              "    </tr>\n",
              "    <tr>\n",
              "      <th>248</th>\n",
              "      <td>1</td>\n",
              "      <td>3</td>\n",
              "      <td>3</td>\n",
              "      <td>0</td>\n",
              "      <td>0</td>\n",
              "      <td>1</td>\n",
              "      <td>0</td>\n",
              "      <td>0</td>\n",
              "      <td>0</td>\n",
              "      <td>0</td>\n",
              "      <td>0</td>\n",
              "      <td>0</td>\n",
              "      <td>0</td>\n",
              "      <td>0</td>\n",
              "      <td>1</td>\n",
              "      <td>0</td>\n",
              "      <td>0</td>\n",
              "      <td>0</td>\n",
              "      <td>0</td>\n",
              "      <td>0</td>\n",
              "      <td>0</td>\n",
              "      <td>0</td>\n",
              "      <td>0</td>\n",
              "    </tr>\n",
              "    <tr>\n",
              "      <th>249</th>\n",
              "      <td>1</td>\n",
              "      <td>2</td>\n",
              "      <td>2</td>\n",
              "      <td>0</td>\n",
              "      <td>0</td>\n",
              "      <td>0</td>\n",
              "      <td>1</td>\n",
              "      <td>0</td>\n",
              "      <td>0</td>\n",
              "      <td>0</td>\n",
              "      <td>0</td>\n",
              "      <td>0</td>\n",
              "      <td>0</td>\n",
              "      <td>0</td>\n",
              "      <td>0</td>\n",
              "      <td>0</td>\n",
              "      <td>0</td>\n",
              "      <td>0</td>\n",
              "      <td>0</td>\n",
              "      <td>0</td>\n",
              "      <td>0</td>\n",
              "      <td>0</td>\n",
              "      <td>0</td>\n",
              "    </tr>\n",
              "  </tbody>\n",
              "</table>\n",
              "<p>250 rows × 23 columns</p>\n",
              "</div>"
            ],
            "text/plain": [
              "     Overall_Rating  ...  Most_watched_Sports and News\n",
              "0                 2  ...                             0\n",
              "1                 2  ...                             0\n",
              "2                 1  ...                             0\n",
              "3                 2  ...                             0\n",
              "4                 2  ...                             0\n",
              "..              ...  ...                           ...\n",
              "245               2  ...                             0\n",
              "246               1  ...                             0\n",
              "247               2  ...                             0\n",
              "248               1  ...                             0\n",
              "249               1  ...                             0\n",
              "\n",
              "[250 rows x 23 columns]"
            ]
          },
          "metadata": {
            "tags": []
          },
          "execution_count": 3848
        }
      ]
    },
    {
      "cell_type": "code",
      "metadata": {
        "colab": {
          "base_uri": "https://localhost:8080/"
        },
        "id": "MuI73LeP0rP9",
        "outputId": "75bcaa50-932c-4b83-e541-da5367bc8166"
      },
      "source": [
        "one_hot_data.columns"
      ],
      "execution_count": null,
      "outputs": [
        {
          "output_type": "execute_result",
          "data": {
            "text/plain": [
              "Index(['Overall_Rating', 'Duration', 'Frequency', 'Platforms_Hotstar',\n",
              "       'Platforms_Netflix', 'Platforms_Prime', 'Age_31-50', 'Age_Less than 18',\n",
              "       'Age_More than 50', 'Most_watched_Documentaries',\n",
              "       'Most_watched_Documentaries, Sports and News', 'Most_watched_Movies',\n",
              "       'Most_watched_Movies, Documentaries',\n",
              "       'Most_watched_Movies, Documentaries, Sports and News',\n",
              "       'Most_watched_Movies, Sports and News',\n",
              "       'Most_watched_Original Web Series',\n",
              "       'Most_watched_Original Web Series, Documentaries',\n",
              "       'Most_watched_Original Web Series, Documentaries, Sports and News',\n",
              "       'Most_watched_Original Web Series, Movies',\n",
              "       'Most_watched_Original Web Series, Movies, Documentaries',\n",
              "       'Most_watched_Original Web Series, Movies, Sports and News',\n",
              "       'Most_watched_Original Web Series, Sports and News',\n",
              "       'Most_watched_Sports and News'],\n",
              "      dtype='object')"
            ]
          },
          "metadata": {
            "tags": []
          },
          "execution_count": 3849
        }
      ]
    },
    {
      "cell_type": "code",
      "metadata": {
        "colab": {
          "base_uri": "https://localhost:8080/"
        },
        "id": "OlNbZ8Q5EL9j",
        "outputId": "86029d6b-e0c9-4151-84c7-1268b08770fe"
      },
      "source": [
        "one_hot_data.tail(20)"
      ],
      "execution_count": null,
      "outputs": [
        {
          "output_type": "execute_result",
          "data": {
            "text/html": [
              "<div>\n",
              "<style scoped>\n",
              "    .dataframe tbody tr th:only-of-type {\n",
              "        vertical-align: middle;\n",
              "    }\n",
              "\n",
              "    .dataframe tbody tr th {\n",
              "        vertical-align: top;\n",
              "    }\n",
              "\n",
              "    .dataframe thead th {\n",
              "        text-align: right;\n",
              "    }\n",
              "</style>\n",
              "<table border=\"1\" class=\"dataframe\">\n",
              "  <thead>\n",
              "    <tr style=\"text-align: right;\">\n",
              "      <th></th>\n",
              "      <th>Overall_Rating</th>\n",
              "      <th>Duration</th>\n",
              "      <th>Frequency</th>\n",
              "      <th>Platforms_Hotstar</th>\n",
              "      <th>Platforms_Netflix</th>\n",
              "      <th>Platforms_Prime</th>\n",
              "      <th>Age_31-50</th>\n",
              "      <th>Age_Less than 18</th>\n",
              "      <th>Age_More than 50</th>\n",
              "      <th>Most_watched_Documentaries</th>\n",
              "      <th>Most_watched_Documentaries, Sports and News</th>\n",
              "      <th>Most_watched_Movies</th>\n",
              "      <th>Most_watched_Movies, Documentaries</th>\n",
              "      <th>Most_watched_Movies, Documentaries, Sports and News</th>\n",
              "      <th>Most_watched_Movies, Sports and News</th>\n",
              "      <th>Most_watched_Original Web Series</th>\n",
              "      <th>Most_watched_Original Web Series, Documentaries</th>\n",
              "      <th>Most_watched_Original Web Series, Documentaries, Sports and News</th>\n",
              "      <th>Most_watched_Original Web Series, Movies</th>\n",
              "      <th>Most_watched_Original Web Series, Movies, Documentaries</th>\n",
              "      <th>Most_watched_Original Web Series, Movies, Sports and News</th>\n",
              "      <th>Most_watched_Original Web Series, Sports and News</th>\n",
              "      <th>Most_watched_Sports and News</th>\n",
              "    </tr>\n",
              "  </thead>\n",
              "  <tbody>\n",
              "    <tr>\n",
              "      <th>230</th>\n",
              "      <td>2</td>\n",
              "      <td>1</td>\n",
              "      <td>2</td>\n",
              "      <td>0</td>\n",
              "      <td>0</td>\n",
              "      <td>0</td>\n",
              "      <td>0</td>\n",
              "      <td>0</td>\n",
              "      <td>0</td>\n",
              "      <td>0</td>\n",
              "      <td>0</td>\n",
              "      <td>0</td>\n",
              "      <td>0</td>\n",
              "      <td>0</td>\n",
              "      <td>0</td>\n",
              "      <td>0</td>\n",
              "      <td>0</td>\n",
              "      <td>0</td>\n",
              "      <td>0</td>\n",
              "      <td>0</td>\n",
              "      <td>0</td>\n",
              "      <td>0</td>\n",
              "      <td>0</td>\n",
              "    </tr>\n",
              "    <tr>\n",
              "      <th>231</th>\n",
              "      <td>1</td>\n",
              "      <td>1</td>\n",
              "      <td>2</td>\n",
              "      <td>0</td>\n",
              "      <td>0</td>\n",
              "      <td>0</td>\n",
              "      <td>0</td>\n",
              "      <td>0</td>\n",
              "      <td>0</td>\n",
              "      <td>0</td>\n",
              "      <td>0</td>\n",
              "      <td>0</td>\n",
              "      <td>0</td>\n",
              "      <td>0</td>\n",
              "      <td>0</td>\n",
              "      <td>0</td>\n",
              "      <td>0</td>\n",
              "      <td>0</td>\n",
              "      <td>0</td>\n",
              "      <td>0</td>\n",
              "      <td>0</td>\n",
              "      <td>0</td>\n",
              "      <td>0</td>\n",
              "    </tr>\n",
              "    <tr>\n",
              "      <th>232</th>\n",
              "      <td>2</td>\n",
              "      <td>1</td>\n",
              "      <td>1</td>\n",
              "      <td>0</td>\n",
              "      <td>1</td>\n",
              "      <td>0</td>\n",
              "      <td>0</td>\n",
              "      <td>0</td>\n",
              "      <td>0</td>\n",
              "      <td>0</td>\n",
              "      <td>0</td>\n",
              "      <td>0</td>\n",
              "      <td>0</td>\n",
              "      <td>0</td>\n",
              "      <td>0</td>\n",
              "      <td>0</td>\n",
              "      <td>0</td>\n",
              "      <td>0</td>\n",
              "      <td>1</td>\n",
              "      <td>0</td>\n",
              "      <td>0</td>\n",
              "      <td>0</td>\n",
              "      <td>0</td>\n",
              "    </tr>\n",
              "    <tr>\n",
              "      <th>233</th>\n",
              "      <td>1</td>\n",
              "      <td>1</td>\n",
              "      <td>3</td>\n",
              "      <td>0</td>\n",
              "      <td>0</td>\n",
              "      <td>1</td>\n",
              "      <td>0</td>\n",
              "      <td>0</td>\n",
              "      <td>0</td>\n",
              "      <td>0</td>\n",
              "      <td>0</td>\n",
              "      <td>1</td>\n",
              "      <td>0</td>\n",
              "      <td>0</td>\n",
              "      <td>0</td>\n",
              "      <td>0</td>\n",
              "      <td>0</td>\n",
              "      <td>0</td>\n",
              "      <td>0</td>\n",
              "      <td>0</td>\n",
              "      <td>0</td>\n",
              "      <td>0</td>\n",
              "      <td>0</td>\n",
              "    </tr>\n",
              "    <tr>\n",
              "      <th>234</th>\n",
              "      <td>2</td>\n",
              "      <td>2</td>\n",
              "      <td>1</td>\n",
              "      <td>1</td>\n",
              "      <td>0</td>\n",
              "      <td>0</td>\n",
              "      <td>0</td>\n",
              "      <td>1</td>\n",
              "      <td>0</td>\n",
              "      <td>0</td>\n",
              "      <td>0</td>\n",
              "      <td>1</td>\n",
              "      <td>0</td>\n",
              "      <td>0</td>\n",
              "      <td>0</td>\n",
              "      <td>0</td>\n",
              "      <td>0</td>\n",
              "      <td>0</td>\n",
              "      <td>0</td>\n",
              "      <td>0</td>\n",
              "      <td>0</td>\n",
              "      <td>0</td>\n",
              "      <td>0</td>\n",
              "    </tr>\n",
              "    <tr>\n",
              "      <th>235</th>\n",
              "      <td>3</td>\n",
              "      <td>2</td>\n",
              "      <td>3</td>\n",
              "      <td>0</td>\n",
              "      <td>0</td>\n",
              "      <td>1</td>\n",
              "      <td>1</td>\n",
              "      <td>0</td>\n",
              "      <td>0</td>\n",
              "      <td>0</td>\n",
              "      <td>0</td>\n",
              "      <td>0</td>\n",
              "      <td>0</td>\n",
              "      <td>0</td>\n",
              "      <td>0</td>\n",
              "      <td>0</td>\n",
              "      <td>0</td>\n",
              "      <td>0</td>\n",
              "      <td>0</td>\n",
              "      <td>0</td>\n",
              "      <td>0</td>\n",
              "      <td>0</td>\n",
              "      <td>0</td>\n",
              "    </tr>\n",
              "    <tr>\n",
              "      <th>236</th>\n",
              "      <td>3</td>\n",
              "      <td>2</td>\n",
              "      <td>3</td>\n",
              "      <td>0</td>\n",
              "      <td>0</td>\n",
              "      <td>0</td>\n",
              "      <td>1</td>\n",
              "      <td>0</td>\n",
              "      <td>0</td>\n",
              "      <td>0</td>\n",
              "      <td>0</td>\n",
              "      <td>0</td>\n",
              "      <td>0</td>\n",
              "      <td>0</td>\n",
              "      <td>1</td>\n",
              "      <td>0</td>\n",
              "      <td>0</td>\n",
              "      <td>0</td>\n",
              "      <td>0</td>\n",
              "      <td>0</td>\n",
              "      <td>0</td>\n",
              "      <td>0</td>\n",
              "      <td>0</td>\n",
              "    </tr>\n",
              "    <tr>\n",
              "      <th>237</th>\n",
              "      <td>1</td>\n",
              "      <td>1</td>\n",
              "      <td>1</td>\n",
              "      <td>0</td>\n",
              "      <td>1</td>\n",
              "      <td>0</td>\n",
              "      <td>0</td>\n",
              "      <td>0</td>\n",
              "      <td>0</td>\n",
              "      <td>0</td>\n",
              "      <td>0</td>\n",
              "      <td>0</td>\n",
              "      <td>0</td>\n",
              "      <td>0</td>\n",
              "      <td>0</td>\n",
              "      <td>1</td>\n",
              "      <td>0</td>\n",
              "      <td>0</td>\n",
              "      <td>0</td>\n",
              "      <td>0</td>\n",
              "      <td>0</td>\n",
              "      <td>0</td>\n",
              "      <td>0</td>\n",
              "    </tr>\n",
              "    <tr>\n",
              "      <th>238</th>\n",
              "      <td>1</td>\n",
              "      <td>3</td>\n",
              "      <td>3</td>\n",
              "      <td>1</td>\n",
              "      <td>0</td>\n",
              "      <td>0</td>\n",
              "      <td>1</td>\n",
              "      <td>0</td>\n",
              "      <td>0</td>\n",
              "      <td>0</td>\n",
              "      <td>0</td>\n",
              "      <td>0</td>\n",
              "      <td>0</td>\n",
              "      <td>1</td>\n",
              "      <td>0</td>\n",
              "      <td>0</td>\n",
              "      <td>0</td>\n",
              "      <td>0</td>\n",
              "      <td>0</td>\n",
              "      <td>0</td>\n",
              "      <td>0</td>\n",
              "      <td>0</td>\n",
              "      <td>0</td>\n",
              "    </tr>\n",
              "    <tr>\n",
              "      <th>239</th>\n",
              "      <td>1</td>\n",
              "      <td>3</td>\n",
              "      <td>1</td>\n",
              "      <td>0</td>\n",
              "      <td>1</td>\n",
              "      <td>0</td>\n",
              "      <td>0</td>\n",
              "      <td>0</td>\n",
              "      <td>0</td>\n",
              "      <td>0</td>\n",
              "      <td>0</td>\n",
              "      <td>0</td>\n",
              "      <td>0</td>\n",
              "      <td>0</td>\n",
              "      <td>0</td>\n",
              "      <td>0</td>\n",
              "      <td>0</td>\n",
              "      <td>0</td>\n",
              "      <td>1</td>\n",
              "      <td>0</td>\n",
              "      <td>0</td>\n",
              "      <td>0</td>\n",
              "      <td>0</td>\n",
              "    </tr>\n",
              "    <tr>\n",
              "      <th>240</th>\n",
              "      <td>1</td>\n",
              "      <td>2</td>\n",
              "      <td>1</td>\n",
              "      <td>0</td>\n",
              "      <td>0</td>\n",
              "      <td>0</td>\n",
              "      <td>1</td>\n",
              "      <td>0</td>\n",
              "      <td>0</td>\n",
              "      <td>0</td>\n",
              "      <td>0</td>\n",
              "      <td>0</td>\n",
              "      <td>0</td>\n",
              "      <td>0</td>\n",
              "      <td>0</td>\n",
              "      <td>0</td>\n",
              "      <td>0</td>\n",
              "      <td>0</td>\n",
              "      <td>0</td>\n",
              "      <td>0</td>\n",
              "      <td>0</td>\n",
              "      <td>0</td>\n",
              "      <td>0</td>\n",
              "    </tr>\n",
              "    <tr>\n",
              "      <th>241</th>\n",
              "      <td>1</td>\n",
              "      <td>3</td>\n",
              "      <td>1</td>\n",
              "      <td>0</td>\n",
              "      <td>0</td>\n",
              "      <td>1</td>\n",
              "      <td>0</td>\n",
              "      <td>0</td>\n",
              "      <td>0</td>\n",
              "      <td>0</td>\n",
              "      <td>0</td>\n",
              "      <td>1</td>\n",
              "      <td>0</td>\n",
              "      <td>0</td>\n",
              "      <td>0</td>\n",
              "      <td>0</td>\n",
              "      <td>0</td>\n",
              "      <td>0</td>\n",
              "      <td>0</td>\n",
              "      <td>0</td>\n",
              "      <td>0</td>\n",
              "      <td>0</td>\n",
              "      <td>0</td>\n",
              "    </tr>\n",
              "    <tr>\n",
              "      <th>242</th>\n",
              "      <td>3</td>\n",
              "      <td>3</td>\n",
              "      <td>3</td>\n",
              "      <td>0</td>\n",
              "      <td>0</td>\n",
              "      <td>1</td>\n",
              "      <td>0</td>\n",
              "      <td>0</td>\n",
              "      <td>1</td>\n",
              "      <td>0</td>\n",
              "      <td>0</td>\n",
              "      <td>1</td>\n",
              "      <td>0</td>\n",
              "      <td>0</td>\n",
              "      <td>0</td>\n",
              "      <td>0</td>\n",
              "      <td>0</td>\n",
              "      <td>0</td>\n",
              "      <td>0</td>\n",
              "      <td>0</td>\n",
              "      <td>0</td>\n",
              "      <td>0</td>\n",
              "      <td>0</td>\n",
              "    </tr>\n",
              "    <tr>\n",
              "      <th>243</th>\n",
              "      <td>3</td>\n",
              "      <td>2</td>\n",
              "      <td>1</td>\n",
              "      <td>0</td>\n",
              "      <td>1</td>\n",
              "      <td>0</td>\n",
              "      <td>0</td>\n",
              "      <td>0</td>\n",
              "      <td>0</td>\n",
              "      <td>0</td>\n",
              "      <td>0</td>\n",
              "      <td>0</td>\n",
              "      <td>0</td>\n",
              "      <td>0</td>\n",
              "      <td>0</td>\n",
              "      <td>1</td>\n",
              "      <td>0</td>\n",
              "      <td>0</td>\n",
              "      <td>0</td>\n",
              "      <td>0</td>\n",
              "      <td>0</td>\n",
              "      <td>0</td>\n",
              "      <td>0</td>\n",
              "    </tr>\n",
              "    <tr>\n",
              "      <th>244</th>\n",
              "      <td>1</td>\n",
              "      <td>3</td>\n",
              "      <td>2</td>\n",
              "      <td>1</td>\n",
              "      <td>0</td>\n",
              "      <td>0</td>\n",
              "      <td>1</td>\n",
              "      <td>0</td>\n",
              "      <td>0</td>\n",
              "      <td>0</td>\n",
              "      <td>0</td>\n",
              "      <td>0</td>\n",
              "      <td>0</td>\n",
              "      <td>0</td>\n",
              "      <td>1</td>\n",
              "      <td>0</td>\n",
              "      <td>0</td>\n",
              "      <td>0</td>\n",
              "      <td>0</td>\n",
              "      <td>0</td>\n",
              "      <td>0</td>\n",
              "      <td>0</td>\n",
              "      <td>0</td>\n",
              "    </tr>\n",
              "    <tr>\n",
              "      <th>245</th>\n",
              "      <td>2</td>\n",
              "      <td>1</td>\n",
              "      <td>2</td>\n",
              "      <td>0</td>\n",
              "      <td>1</td>\n",
              "      <td>0</td>\n",
              "      <td>0</td>\n",
              "      <td>1</td>\n",
              "      <td>0</td>\n",
              "      <td>0</td>\n",
              "      <td>0</td>\n",
              "      <td>0</td>\n",
              "      <td>0</td>\n",
              "      <td>0</td>\n",
              "      <td>0</td>\n",
              "      <td>0</td>\n",
              "      <td>0</td>\n",
              "      <td>0</td>\n",
              "      <td>1</td>\n",
              "      <td>0</td>\n",
              "      <td>0</td>\n",
              "      <td>0</td>\n",
              "      <td>0</td>\n",
              "    </tr>\n",
              "    <tr>\n",
              "      <th>246</th>\n",
              "      <td>1</td>\n",
              "      <td>2</td>\n",
              "      <td>2</td>\n",
              "      <td>0</td>\n",
              "      <td>1</td>\n",
              "      <td>0</td>\n",
              "      <td>1</td>\n",
              "      <td>0</td>\n",
              "      <td>0</td>\n",
              "      <td>0</td>\n",
              "      <td>0</td>\n",
              "      <td>1</td>\n",
              "      <td>0</td>\n",
              "      <td>0</td>\n",
              "      <td>0</td>\n",
              "      <td>0</td>\n",
              "      <td>0</td>\n",
              "      <td>0</td>\n",
              "      <td>0</td>\n",
              "      <td>0</td>\n",
              "      <td>0</td>\n",
              "      <td>0</td>\n",
              "      <td>0</td>\n",
              "    </tr>\n",
              "    <tr>\n",
              "      <th>247</th>\n",
              "      <td>2</td>\n",
              "      <td>3</td>\n",
              "      <td>3</td>\n",
              "      <td>0</td>\n",
              "      <td>0</td>\n",
              "      <td>1</td>\n",
              "      <td>0</td>\n",
              "      <td>0</td>\n",
              "      <td>0</td>\n",
              "      <td>0</td>\n",
              "      <td>0</td>\n",
              "      <td>0</td>\n",
              "      <td>0</td>\n",
              "      <td>0</td>\n",
              "      <td>1</td>\n",
              "      <td>0</td>\n",
              "      <td>0</td>\n",
              "      <td>0</td>\n",
              "      <td>0</td>\n",
              "      <td>0</td>\n",
              "      <td>0</td>\n",
              "      <td>0</td>\n",
              "      <td>0</td>\n",
              "    </tr>\n",
              "    <tr>\n",
              "      <th>248</th>\n",
              "      <td>1</td>\n",
              "      <td>3</td>\n",
              "      <td>3</td>\n",
              "      <td>0</td>\n",
              "      <td>0</td>\n",
              "      <td>1</td>\n",
              "      <td>0</td>\n",
              "      <td>0</td>\n",
              "      <td>0</td>\n",
              "      <td>0</td>\n",
              "      <td>0</td>\n",
              "      <td>0</td>\n",
              "      <td>0</td>\n",
              "      <td>0</td>\n",
              "      <td>1</td>\n",
              "      <td>0</td>\n",
              "      <td>0</td>\n",
              "      <td>0</td>\n",
              "      <td>0</td>\n",
              "      <td>0</td>\n",
              "      <td>0</td>\n",
              "      <td>0</td>\n",
              "      <td>0</td>\n",
              "    </tr>\n",
              "    <tr>\n",
              "      <th>249</th>\n",
              "      <td>1</td>\n",
              "      <td>2</td>\n",
              "      <td>2</td>\n",
              "      <td>0</td>\n",
              "      <td>0</td>\n",
              "      <td>0</td>\n",
              "      <td>1</td>\n",
              "      <td>0</td>\n",
              "      <td>0</td>\n",
              "      <td>0</td>\n",
              "      <td>0</td>\n",
              "      <td>0</td>\n",
              "      <td>0</td>\n",
              "      <td>0</td>\n",
              "      <td>0</td>\n",
              "      <td>0</td>\n",
              "      <td>0</td>\n",
              "      <td>0</td>\n",
              "      <td>0</td>\n",
              "      <td>0</td>\n",
              "      <td>0</td>\n",
              "      <td>0</td>\n",
              "      <td>0</td>\n",
              "    </tr>\n",
              "  </tbody>\n",
              "</table>\n",
              "</div>"
            ],
            "text/plain": [
              "     Overall_Rating  ...  Most_watched_Sports and News\n",
              "230               2  ...                             0\n",
              "231               1  ...                             0\n",
              "232               2  ...                             0\n",
              "233               1  ...                             0\n",
              "234               2  ...                             0\n",
              "235               3  ...                             0\n",
              "236               3  ...                             0\n",
              "237               1  ...                             0\n",
              "238               1  ...                             0\n",
              "239               1  ...                             0\n",
              "240               1  ...                             0\n",
              "241               1  ...                             0\n",
              "242               3  ...                             0\n",
              "243               3  ...                             0\n",
              "244               1  ...                             0\n",
              "245               2  ...                             0\n",
              "246               1  ...                             0\n",
              "247               2  ...                             0\n",
              "248               1  ...                             0\n",
              "249               1  ...                             0\n",
              "\n",
              "[20 rows x 23 columns]"
            ]
          },
          "metadata": {
            "tags": []
          },
          "execution_count": 3850
        }
      ]
    },
    {
      "cell_type": "code",
      "metadata": {
        "id": "Uf-yHr2nGd4t"
      },
      "source": [
        ""
      ],
      "execution_count": null,
      "outputs": []
    },
    {
      "cell_type": "code",
      "metadata": {
        "id": "d8l9ZzIcGd7l"
      },
      "source": [
        ""
      ],
      "execution_count": null,
      "outputs": []
    },
    {
      "cell_type": "code",
      "metadata": {
        "colab": {
          "base_uri": "https://localhost:8080/"
        },
        "id": "zQiGNrEjndWz",
        "outputId": "84a64046-0fec-4f8e-add9-27e213686d2f"
      },
      "source": [
        "one_hot_data.tail(20)"
      ],
      "execution_count": null,
      "outputs": [
        {
          "output_type": "execute_result",
          "data": {
            "text/html": [
              "<div>\n",
              "<style scoped>\n",
              "    .dataframe tbody tr th:only-of-type {\n",
              "        vertical-align: middle;\n",
              "    }\n",
              "\n",
              "    .dataframe tbody tr th {\n",
              "        vertical-align: top;\n",
              "    }\n",
              "\n",
              "    .dataframe thead th {\n",
              "        text-align: right;\n",
              "    }\n",
              "</style>\n",
              "<table border=\"1\" class=\"dataframe\">\n",
              "  <thead>\n",
              "    <tr style=\"text-align: right;\">\n",
              "      <th></th>\n",
              "      <th>Overall_Rating</th>\n",
              "      <th>Duration</th>\n",
              "      <th>Frequency</th>\n",
              "      <th>Platforms_Hotstar</th>\n",
              "      <th>Platforms_Netflix</th>\n",
              "      <th>Platforms_Prime</th>\n",
              "      <th>Age_31-50</th>\n",
              "      <th>Age_Less than 18</th>\n",
              "      <th>Age_More than 50</th>\n",
              "      <th>Most_watched_Documentaries</th>\n",
              "      <th>Most_watched_Documentaries, Sports and News</th>\n",
              "      <th>Most_watched_Movies</th>\n",
              "      <th>Most_watched_Movies, Documentaries</th>\n",
              "      <th>Most_watched_Movies, Documentaries, Sports and News</th>\n",
              "      <th>Most_watched_Movies, Sports and News</th>\n",
              "      <th>Most_watched_Original Web Series</th>\n",
              "      <th>Most_watched_Original Web Series, Documentaries</th>\n",
              "      <th>Most_watched_Original Web Series, Documentaries, Sports and News</th>\n",
              "      <th>Most_watched_Original Web Series, Movies</th>\n",
              "      <th>Most_watched_Original Web Series, Movies, Documentaries</th>\n",
              "      <th>Most_watched_Original Web Series, Movies, Sports and News</th>\n",
              "      <th>Most_watched_Original Web Series, Sports and News</th>\n",
              "      <th>Most_watched_Sports and News</th>\n",
              "    </tr>\n",
              "  </thead>\n",
              "  <tbody>\n",
              "    <tr>\n",
              "      <th>230</th>\n",
              "      <td>2</td>\n",
              "      <td>1</td>\n",
              "      <td>2</td>\n",
              "      <td>0</td>\n",
              "      <td>0</td>\n",
              "      <td>0</td>\n",
              "      <td>0</td>\n",
              "      <td>0</td>\n",
              "      <td>0</td>\n",
              "      <td>0</td>\n",
              "      <td>0</td>\n",
              "      <td>0</td>\n",
              "      <td>0</td>\n",
              "      <td>0</td>\n",
              "      <td>0</td>\n",
              "      <td>0</td>\n",
              "      <td>0</td>\n",
              "      <td>0</td>\n",
              "      <td>0</td>\n",
              "      <td>0</td>\n",
              "      <td>0</td>\n",
              "      <td>0</td>\n",
              "      <td>0</td>\n",
              "    </tr>\n",
              "    <tr>\n",
              "      <th>231</th>\n",
              "      <td>1</td>\n",
              "      <td>1</td>\n",
              "      <td>2</td>\n",
              "      <td>0</td>\n",
              "      <td>0</td>\n",
              "      <td>0</td>\n",
              "      <td>0</td>\n",
              "      <td>0</td>\n",
              "      <td>0</td>\n",
              "      <td>0</td>\n",
              "      <td>0</td>\n",
              "      <td>0</td>\n",
              "      <td>0</td>\n",
              "      <td>0</td>\n",
              "      <td>0</td>\n",
              "      <td>0</td>\n",
              "      <td>0</td>\n",
              "      <td>0</td>\n",
              "      <td>0</td>\n",
              "      <td>0</td>\n",
              "      <td>0</td>\n",
              "      <td>0</td>\n",
              "      <td>0</td>\n",
              "    </tr>\n",
              "    <tr>\n",
              "      <th>232</th>\n",
              "      <td>2</td>\n",
              "      <td>1</td>\n",
              "      <td>1</td>\n",
              "      <td>0</td>\n",
              "      <td>1</td>\n",
              "      <td>0</td>\n",
              "      <td>0</td>\n",
              "      <td>0</td>\n",
              "      <td>0</td>\n",
              "      <td>0</td>\n",
              "      <td>0</td>\n",
              "      <td>0</td>\n",
              "      <td>0</td>\n",
              "      <td>0</td>\n",
              "      <td>0</td>\n",
              "      <td>0</td>\n",
              "      <td>0</td>\n",
              "      <td>0</td>\n",
              "      <td>1</td>\n",
              "      <td>0</td>\n",
              "      <td>0</td>\n",
              "      <td>0</td>\n",
              "      <td>0</td>\n",
              "    </tr>\n",
              "    <tr>\n",
              "      <th>233</th>\n",
              "      <td>1</td>\n",
              "      <td>1</td>\n",
              "      <td>3</td>\n",
              "      <td>0</td>\n",
              "      <td>0</td>\n",
              "      <td>1</td>\n",
              "      <td>0</td>\n",
              "      <td>0</td>\n",
              "      <td>0</td>\n",
              "      <td>0</td>\n",
              "      <td>0</td>\n",
              "      <td>1</td>\n",
              "      <td>0</td>\n",
              "      <td>0</td>\n",
              "      <td>0</td>\n",
              "      <td>0</td>\n",
              "      <td>0</td>\n",
              "      <td>0</td>\n",
              "      <td>0</td>\n",
              "      <td>0</td>\n",
              "      <td>0</td>\n",
              "      <td>0</td>\n",
              "      <td>0</td>\n",
              "    </tr>\n",
              "    <tr>\n",
              "      <th>234</th>\n",
              "      <td>2</td>\n",
              "      <td>2</td>\n",
              "      <td>1</td>\n",
              "      <td>1</td>\n",
              "      <td>0</td>\n",
              "      <td>0</td>\n",
              "      <td>0</td>\n",
              "      <td>1</td>\n",
              "      <td>0</td>\n",
              "      <td>0</td>\n",
              "      <td>0</td>\n",
              "      <td>1</td>\n",
              "      <td>0</td>\n",
              "      <td>0</td>\n",
              "      <td>0</td>\n",
              "      <td>0</td>\n",
              "      <td>0</td>\n",
              "      <td>0</td>\n",
              "      <td>0</td>\n",
              "      <td>0</td>\n",
              "      <td>0</td>\n",
              "      <td>0</td>\n",
              "      <td>0</td>\n",
              "    </tr>\n",
              "    <tr>\n",
              "      <th>235</th>\n",
              "      <td>3</td>\n",
              "      <td>2</td>\n",
              "      <td>3</td>\n",
              "      <td>0</td>\n",
              "      <td>0</td>\n",
              "      <td>1</td>\n",
              "      <td>1</td>\n",
              "      <td>0</td>\n",
              "      <td>0</td>\n",
              "      <td>0</td>\n",
              "      <td>0</td>\n",
              "      <td>0</td>\n",
              "      <td>0</td>\n",
              "      <td>0</td>\n",
              "      <td>0</td>\n",
              "      <td>0</td>\n",
              "      <td>0</td>\n",
              "      <td>0</td>\n",
              "      <td>0</td>\n",
              "      <td>0</td>\n",
              "      <td>0</td>\n",
              "      <td>0</td>\n",
              "      <td>0</td>\n",
              "    </tr>\n",
              "    <tr>\n",
              "      <th>236</th>\n",
              "      <td>3</td>\n",
              "      <td>2</td>\n",
              "      <td>3</td>\n",
              "      <td>0</td>\n",
              "      <td>0</td>\n",
              "      <td>0</td>\n",
              "      <td>1</td>\n",
              "      <td>0</td>\n",
              "      <td>0</td>\n",
              "      <td>0</td>\n",
              "      <td>0</td>\n",
              "      <td>0</td>\n",
              "      <td>0</td>\n",
              "      <td>0</td>\n",
              "      <td>1</td>\n",
              "      <td>0</td>\n",
              "      <td>0</td>\n",
              "      <td>0</td>\n",
              "      <td>0</td>\n",
              "      <td>0</td>\n",
              "      <td>0</td>\n",
              "      <td>0</td>\n",
              "      <td>0</td>\n",
              "    </tr>\n",
              "    <tr>\n",
              "      <th>237</th>\n",
              "      <td>1</td>\n",
              "      <td>1</td>\n",
              "      <td>1</td>\n",
              "      <td>0</td>\n",
              "      <td>1</td>\n",
              "      <td>0</td>\n",
              "      <td>0</td>\n",
              "      <td>0</td>\n",
              "      <td>0</td>\n",
              "      <td>0</td>\n",
              "      <td>0</td>\n",
              "      <td>0</td>\n",
              "      <td>0</td>\n",
              "      <td>0</td>\n",
              "      <td>0</td>\n",
              "      <td>1</td>\n",
              "      <td>0</td>\n",
              "      <td>0</td>\n",
              "      <td>0</td>\n",
              "      <td>0</td>\n",
              "      <td>0</td>\n",
              "      <td>0</td>\n",
              "      <td>0</td>\n",
              "    </tr>\n",
              "    <tr>\n",
              "      <th>238</th>\n",
              "      <td>1</td>\n",
              "      <td>3</td>\n",
              "      <td>3</td>\n",
              "      <td>1</td>\n",
              "      <td>0</td>\n",
              "      <td>0</td>\n",
              "      <td>1</td>\n",
              "      <td>0</td>\n",
              "      <td>0</td>\n",
              "      <td>0</td>\n",
              "      <td>0</td>\n",
              "      <td>0</td>\n",
              "      <td>0</td>\n",
              "      <td>1</td>\n",
              "      <td>0</td>\n",
              "      <td>0</td>\n",
              "      <td>0</td>\n",
              "      <td>0</td>\n",
              "      <td>0</td>\n",
              "      <td>0</td>\n",
              "      <td>0</td>\n",
              "      <td>0</td>\n",
              "      <td>0</td>\n",
              "    </tr>\n",
              "    <tr>\n",
              "      <th>239</th>\n",
              "      <td>1</td>\n",
              "      <td>3</td>\n",
              "      <td>1</td>\n",
              "      <td>0</td>\n",
              "      <td>1</td>\n",
              "      <td>0</td>\n",
              "      <td>0</td>\n",
              "      <td>0</td>\n",
              "      <td>0</td>\n",
              "      <td>0</td>\n",
              "      <td>0</td>\n",
              "      <td>0</td>\n",
              "      <td>0</td>\n",
              "      <td>0</td>\n",
              "      <td>0</td>\n",
              "      <td>0</td>\n",
              "      <td>0</td>\n",
              "      <td>0</td>\n",
              "      <td>1</td>\n",
              "      <td>0</td>\n",
              "      <td>0</td>\n",
              "      <td>0</td>\n",
              "      <td>0</td>\n",
              "    </tr>\n",
              "    <tr>\n",
              "      <th>240</th>\n",
              "      <td>1</td>\n",
              "      <td>2</td>\n",
              "      <td>1</td>\n",
              "      <td>0</td>\n",
              "      <td>0</td>\n",
              "      <td>0</td>\n",
              "      <td>1</td>\n",
              "      <td>0</td>\n",
              "      <td>0</td>\n",
              "      <td>0</td>\n",
              "      <td>0</td>\n",
              "      <td>0</td>\n",
              "      <td>0</td>\n",
              "      <td>0</td>\n",
              "      <td>0</td>\n",
              "      <td>0</td>\n",
              "      <td>0</td>\n",
              "      <td>0</td>\n",
              "      <td>0</td>\n",
              "      <td>0</td>\n",
              "      <td>0</td>\n",
              "      <td>0</td>\n",
              "      <td>0</td>\n",
              "    </tr>\n",
              "    <tr>\n",
              "      <th>241</th>\n",
              "      <td>1</td>\n",
              "      <td>3</td>\n",
              "      <td>1</td>\n",
              "      <td>0</td>\n",
              "      <td>0</td>\n",
              "      <td>1</td>\n",
              "      <td>0</td>\n",
              "      <td>0</td>\n",
              "      <td>0</td>\n",
              "      <td>0</td>\n",
              "      <td>0</td>\n",
              "      <td>1</td>\n",
              "      <td>0</td>\n",
              "      <td>0</td>\n",
              "      <td>0</td>\n",
              "      <td>0</td>\n",
              "      <td>0</td>\n",
              "      <td>0</td>\n",
              "      <td>0</td>\n",
              "      <td>0</td>\n",
              "      <td>0</td>\n",
              "      <td>0</td>\n",
              "      <td>0</td>\n",
              "    </tr>\n",
              "    <tr>\n",
              "      <th>242</th>\n",
              "      <td>3</td>\n",
              "      <td>3</td>\n",
              "      <td>3</td>\n",
              "      <td>0</td>\n",
              "      <td>0</td>\n",
              "      <td>1</td>\n",
              "      <td>0</td>\n",
              "      <td>0</td>\n",
              "      <td>1</td>\n",
              "      <td>0</td>\n",
              "      <td>0</td>\n",
              "      <td>1</td>\n",
              "      <td>0</td>\n",
              "      <td>0</td>\n",
              "      <td>0</td>\n",
              "      <td>0</td>\n",
              "      <td>0</td>\n",
              "      <td>0</td>\n",
              "      <td>0</td>\n",
              "      <td>0</td>\n",
              "      <td>0</td>\n",
              "      <td>0</td>\n",
              "      <td>0</td>\n",
              "    </tr>\n",
              "    <tr>\n",
              "      <th>243</th>\n",
              "      <td>3</td>\n",
              "      <td>2</td>\n",
              "      <td>1</td>\n",
              "      <td>0</td>\n",
              "      <td>1</td>\n",
              "      <td>0</td>\n",
              "      <td>0</td>\n",
              "      <td>0</td>\n",
              "      <td>0</td>\n",
              "      <td>0</td>\n",
              "      <td>0</td>\n",
              "      <td>0</td>\n",
              "      <td>0</td>\n",
              "      <td>0</td>\n",
              "      <td>0</td>\n",
              "      <td>1</td>\n",
              "      <td>0</td>\n",
              "      <td>0</td>\n",
              "      <td>0</td>\n",
              "      <td>0</td>\n",
              "      <td>0</td>\n",
              "      <td>0</td>\n",
              "      <td>0</td>\n",
              "    </tr>\n",
              "    <tr>\n",
              "      <th>244</th>\n",
              "      <td>1</td>\n",
              "      <td>3</td>\n",
              "      <td>2</td>\n",
              "      <td>1</td>\n",
              "      <td>0</td>\n",
              "      <td>0</td>\n",
              "      <td>1</td>\n",
              "      <td>0</td>\n",
              "      <td>0</td>\n",
              "      <td>0</td>\n",
              "      <td>0</td>\n",
              "      <td>0</td>\n",
              "      <td>0</td>\n",
              "      <td>0</td>\n",
              "      <td>1</td>\n",
              "      <td>0</td>\n",
              "      <td>0</td>\n",
              "      <td>0</td>\n",
              "      <td>0</td>\n",
              "      <td>0</td>\n",
              "      <td>0</td>\n",
              "      <td>0</td>\n",
              "      <td>0</td>\n",
              "    </tr>\n",
              "    <tr>\n",
              "      <th>245</th>\n",
              "      <td>2</td>\n",
              "      <td>1</td>\n",
              "      <td>2</td>\n",
              "      <td>0</td>\n",
              "      <td>1</td>\n",
              "      <td>0</td>\n",
              "      <td>0</td>\n",
              "      <td>1</td>\n",
              "      <td>0</td>\n",
              "      <td>0</td>\n",
              "      <td>0</td>\n",
              "      <td>0</td>\n",
              "      <td>0</td>\n",
              "      <td>0</td>\n",
              "      <td>0</td>\n",
              "      <td>0</td>\n",
              "      <td>0</td>\n",
              "      <td>0</td>\n",
              "      <td>1</td>\n",
              "      <td>0</td>\n",
              "      <td>0</td>\n",
              "      <td>0</td>\n",
              "      <td>0</td>\n",
              "    </tr>\n",
              "    <tr>\n",
              "      <th>246</th>\n",
              "      <td>1</td>\n",
              "      <td>2</td>\n",
              "      <td>2</td>\n",
              "      <td>0</td>\n",
              "      <td>1</td>\n",
              "      <td>0</td>\n",
              "      <td>1</td>\n",
              "      <td>0</td>\n",
              "      <td>0</td>\n",
              "      <td>0</td>\n",
              "      <td>0</td>\n",
              "      <td>1</td>\n",
              "      <td>0</td>\n",
              "      <td>0</td>\n",
              "      <td>0</td>\n",
              "      <td>0</td>\n",
              "      <td>0</td>\n",
              "      <td>0</td>\n",
              "      <td>0</td>\n",
              "      <td>0</td>\n",
              "      <td>0</td>\n",
              "      <td>0</td>\n",
              "      <td>0</td>\n",
              "    </tr>\n",
              "    <tr>\n",
              "      <th>247</th>\n",
              "      <td>2</td>\n",
              "      <td>3</td>\n",
              "      <td>3</td>\n",
              "      <td>0</td>\n",
              "      <td>0</td>\n",
              "      <td>1</td>\n",
              "      <td>0</td>\n",
              "      <td>0</td>\n",
              "      <td>0</td>\n",
              "      <td>0</td>\n",
              "      <td>0</td>\n",
              "      <td>0</td>\n",
              "      <td>0</td>\n",
              "      <td>0</td>\n",
              "      <td>1</td>\n",
              "      <td>0</td>\n",
              "      <td>0</td>\n",
              "      <td>0</td>\n",
              "      <td>0</td>\n",
              "      <td>0</td>\n",
              "      <td>0</td>\n",
              "      <td>0</td>\n",
              "      <td>0</td>\n",
              "    </tr>\n",
              "    <tr>\n",
              "      <th>248</th>\n",
              "      <td>1</td>\n",
              "      <td>3</td>\n",
              "      <td>3</td>\n",
              "      <td>0</td>\n",
              "      <td>0</td>\n",
              "      <td>1</td>\n",
              "      <td>0</td>\n",
              "      <td>0</td>\n",
              "      <td>0</td>\n",
              "      <td>0</td>\n",
              "      <td>0</td>\n",
              "      <td>0</td>\n",
              "      <td>0</td>\n",
              "      <td>0</td>\n",
              "      <td>1</td>\n",
              "      <td>0</td>\n",
              "      <td>0</td>\n",
              "      <td>0</td>\n",
              "      <td>0</td>\n",
              "      <td>0</td>\n",
              "      <td>0</td>\n",
              "      <td>0</td>\n",
              "      <td>0</td>\n",
              "    </tr>\n",
              "    <tr>\n",
              "      <th>249</th>\n",
              "      <td>1</td>\n",
              "      <td>2</td>\n",
              "      <td>2</td>\n",
              "      <td>0</td>\n",
              "      <td>0</td>\n",
              "      <td>0</td>\n",
              "      <td>1</td>\n",
              "      <td>0</td>\n",
              "      <td>0</td>\n",
              "      <td>0</td>\n",
              "      <td>0</td>\n",
              "      <td>0</td>\n",
              "      <td>0</td>\n",
              "      <td>0</td>\n",
              "      <td>0</td>\n",
              "      <td>0</td>\n",
              "      <td>0</td>\n",
              "      <td>0</td>\n",
              "      <td>0</td>\n",
              "      <td>0</td>\n",
              "      <td>0</td>\n",
              "      <td>0</td>\n",
              "      <td>0</td>\n",
              "    </tr>\n",
              "  </tbody>\n",
              "</table>\n",
              "</div>"
            ],
            "text/plain": [
              "     Overall_Rating  ...  Most_watched_Sports and News\n",
              "230               2  ...                             0\n",
              "231               1  ...                             0\n",
              "232               2  ...                             0\n",
              "233               1  ...                             0\n",
              "234               2  ...                             0\n",
              "235               3  ...                             0\n",
              "236               3  ...                             0\n",
              "237               1  ...                             0\n",
              "238               1  ...                             0\n",
              "239               1  ...                             0\n",
              "240               1  ...                             0\n",
              "241               1  ...                             0\n",
              "242               3  ...                             0\n",
              "243               3  ...                             0\n",
              "244               1  ...                             0\n",
              "245               2  ...                             0\n",
              "246               1  ...                             0\n",
              "247               2  ...                             0\n",
              "248               1  ...                             0\n",
              "249               1  ...                             0\n",
              "\n",
              "[20 rows x 23 columns]"
            ]
          },
          "metadata": {
            "tags": []
          },
          "execution_count": 3851
        }
      ]
    },
    {
      "cell_type": "code",
      "metadata": {
        "colab": {
          "base_uri": "https://localhost:8080/"
        },
        "id": "km9QTltUYp3H",
        "outputId": "b771a7c8-0a22-49e1-faa1-6e1403b53a95"
      },
      "source": [
        "one_hot_data[\"Platforms_Netflix\"].value_counts()"
      ],
      "execution_count": null,
      "outputs": [
        {
          "output_type": "execute_result",
          "data": {
            "text/plain": [
              "0    196\n",
              "1     54\n",
              "Name: Platforms_Netflix, dtype: int64"
            ]
          },
          "metadata": {
            "tags": []
          },
          "execution_count": 3852
        }
      ]
    },
    {
      "cell_type": "code",
      "metadata": {
        "id": "1zQM13WA7Zwq"
      },
      "source": [
        ""
      ],
      "execution_count": null,
      "outputs": []
    },
    {
      "cell_type": "markdown",
      "metadata": {
        "id": "peangVIn7eBK"
      },
      "source": [
        ""
      ]
    },
    {
      "cell_type": "markdown",
      "metadata": {
        "id": "v35R2gDBr-WE"
      },
      "source": [
        "#Decision Tree"
      ]
    },
    {
      "cell_type": "markdown",
      "metadata": {
        "id": "PflInjTn7cQO"
      },
      "source": [
        "#Netflix"
      ]
    },
    {
      "cell_type": "code",
      "metadata": {
        "id": "G9l387pWfgDI"
      },
      "source": [
        "one_hot_data[\"Movie\"] = one_hot_data[\"Most_watched_Movies\"].map(str) + one_hot_data[\"Most_watched_Original Web Series, Movies\"].map(str)\n",
        "one_hot_data.loc[(one_hot_data.Movie == '01'),'Movie']='1'\n",
        "one_hot_data.loc[(one_hot_data.Movie == '10'),'Movie']='1'\n",
        "one_hot_data.loc[(one_hot_data.Movie == '00'),'Movie']='0'"
      ],
      "execution_count": null,
      "outputs": []
    },
    {
      "cell_type": "code",
      "metadata": {
        "colab": {
          "base_uri": "https://localhost:8080/"
        },
        "id": "ijZHHJYXfh7x",
        "outputId": "3a24e77c-46ab-45a8-b1a2-b7c75405d768"
      },
      "source": [
        "one_hot_data.columns"
      ],
      "execution_count": null,
      "outputs": [
        {
          "output_type": "execute_result",
          "data": {
            "text/plain": [
              "Index(['Overall_Rating', 'Duration', 'Frequency', 'Platforms_Hotstar',\n",
              "       'Platforms_Netflix', 'Platforms_Prime', 'Age_31-50', 'Age_Less than 18',\n",
              "       'Age_More than 50', 'Most_watched_Documentaries',\n",
              "       'Most_watched_Documentaries, Sports and News', 'Most_watched_Movies',\n",
              "       'Most_watched_Movies, Documentaries',\n",
              "       'Most_watched_Movies, Documentaries, Sports and News',\n",
              "       'Most_watched_Movies, Sports and News',\n",
              "       'Most_watched_Original Web Series',\n",
              "       'Most_watched_Original Web Series, Documentaries',\n",
              "       'Most_watched_Original Web Series, Documentaries, Sports and News',\n",
              "       'Most_watched_Original Web Series, Movies',\n",
              "       'Most_watched_Original Web Series, Movies, Documentaries',\n",
              "       'Most_watched_Original Web Series, Movies, Sports and News',\n",
              "       'Most_watched_Original Web Series, Sports and News',\n",
              "       'Most_watched_Sports and News', 'Movie'],\n",
              "      dtype='object')"
            ]
          },
          "metadata": {
            "tags": []
          },
          "execution_count": 3854
        }
      ]
    },
    {
      "cell_type": "code",
      "metadata": {
        "colab": {
          "base_uri": "https://localhost:8080/"
        },
        "id": "sSpCY7-v8UoM",
        "outputId": "86373056-6439-4612-af83-7f80f66fd71b"
      },
      "source": [
        "one_hot_data.columns"
      ],
      "execution_count": null,
      "outputs": [
        {
          "output_type": "execute_result",
          "data": {
            "text/plain": [
              "Index(['Overall_Rating', 'Duration', 'Frequency', 'Platforms_Hotstar',\n",
              "       'Platforms_Netflix', 'Platforms_Prime', 'Age_31-50', 'Age_Less than 18',\n",
              "       'Age_More than 50', 'Most_watched_Documentaries',\n",
              "       'Most_watched_Documentaries, Sports and News', 'Most_watched_Movies',\n",
              "       'Most_watched_Movies, Documentaries',\n",
              "       'Most_watched_Movies, Documentaries, Sports and News',\n",
              "       'Most_watched_Movies, Sports and News',\n",
              "       'Most_watched_Original Web Series',\n",
              "       'Most_watched_Original Web Series, Documentaries',\n",
              "       'Most_watched_Original Web Series, Documentaries, Sports and News',\n",
              "       'Most_watched_Original Web Series, Movies',\n",
              "       'Most_watched_Original Web Series, Movies, Documentaries',\n",
              "       'Most_watched_Original Web Series, Movies, Sports and News',\n",
              "       'Most_watched_Original Web Series, Sports and News',\n",
              "       'Most_watched_Sports and News', 'Movie'],\n",
              "      dtype='object')"
            ]
          },
          "metadata": {
            "tags": []
          },
          "execution_count": 3855
        }
      ]
    },
    {
      "cell_type": "code",
      "metadata": {
        "id": "HyDyAlj1k4Ss"
      },
      "source": [
        "train, test = train_test_split(one_hot_data, test_size =0.30)"
      ],
      "execution_count": null,
      "outputs": []
    },
    {
      "cell_type": "code",
      "metadata": {
        "colab": {
          "base_uri": "https://localhost:8080/"
        },
        "id": "5-d_mwea8pSH",
        "outputId": "fe7ce2cf-4f7b-4411-81d8-a431b887a562"
      },
      "source": [
        "train.shape"
      ],
      "execution_count": null,
      "outputs": [
        {
          "output_type": "execute_result",
          "data": {
            "text/plain": [
              "(175, 24)"
            ]
          },
          "metadata": {
            "tags": []
          },
          "execution_count": 3857
        }
      ]
    },
    {
      "cell_type": "code",
      "metadata": {
        "colab": {
          "base_uri": "https://localhost:8080/"
        },
        "id": "xjgkRaYm8pcB",
        "outputId": "90121c97-a989-4447-d8f6-3347c489a3a2"
      },
      "source": [
        "test.shape"
      ],
      "execution_count": null,
      "outputs": [
        {
          "output_type": "execute_result",
          "data": {
            "text/plain": [
              "(75, 24)"
            ]
          },
          "metadata": {
            "tags": []
          },
          "execution_count": 3858
        }
      ]
    },
    {
      "cell_type": "code",
      "metadata": {
        "colab": {
          "background_save": true
        },
        "id": "njgC1YuUYp70",
        "outputId": "b0f80111-dc30-4008-925d-cc59c7a5191d"
      },
      "source": [
        "features=['Overall_Rating','Movie','Most_watched_Original Web Series', 'Frequency','Age_31-50','Age_Less than 18']"
      ],
      "execution_count": null,
      "outputs": [
        {
          "output_type": "error",
          "ename": "SyntaxError",
          "evalue": "ignored",
          "traceback": [
            "\u001b[0;36m  File \u001b[0;32m\"<ipython-input-3795-43afdc51a1b3>\"\u001b[0;36m, line \u001b[0;32m1\u001b[0m\n\u001b[0;31m    features=['Overall_Rating','Movie','Most_watched_Original Web Series', 'Frequency','Age_31-50','Age_Less than 18]\u001b[0m\n\u001b[0m                                                                                                                     ^\u001b[0m\n\u001b[0;31mSyntaxError\u001b[0m\u001b[0;31m:\u001b[0m EOL while scanning string literal\n"
          ]
        }
      ]
    },
    {
      "cell_type": "code",
      "metadata": {
        "id": "_ryB3uiOYp9x"
      },
      "source": [
        "X_train =train[features]\n",
        "Y_train =train[\"Platforms_Netflix\"]\n",
        "\n",
        "X_test = test[features]\n",
        "Y_test = test[\"Platforms_Netflix\"]"
      ],
      "execution_count": null,
      "outputs": []
    },
    {
      "cell_type": "code",
      "metadata": {
        "id": "gCSnHLoYlgOm"
      },
      "source": [
        "from sklearn.model_selection import GridSearchCV"
      ],
      "execution_count": null,
      "outputs": []
    },
    {
      "cell_type": "code",
      "metadata": {
        "id": "2F0AsfTklgRa"
      },
      "source": [
        "gdtree = DecisionTreeClassifier()"
      ],
      "execution_count": null,
      "outputs": []
    },
    {
      "cell_type": "code",
      "metadata": {
        "id": "tcy2jVkQlgUW"
      },
      "source": [
        "param_dict ={ \n",
        "    \"criterion\": ['gini', 'entropy'], \n",
        "    \"min_samples_split\":range(2,100)\n",
        "    }"
      ],
      "execution_count": null,
      "outputs": []
    },
    {
      "cell_type": "code",
      "metadata": {
        "id": "vB-8zgt8lgWz"
      },
      "source": [
        "grid =GridSearchCV(gdtree,param_grid=param_dict, cv=5)"
      ],
      "execution_count": null,
      "outputs": []
    },
    {
      "cell_type": "code",
      "metadata": {
        "colab": {
          "base_uri": "https://localhost:8080/"
        },
        "id": "qZg8oWqDlgZ2",
        "outputId": "3a5be563-70dc-4f56-e98e-ed09563318ef"
      },
      "source": [
        "grid.fit(X_train,Y_train)"
      ],
      "execution_count": null,
      "outputs": [
        {
          "output_type": "execute_result",
          "data": {
            "text/plain": [
              "GridSearchCV(cv=5, error_score=nan,\n",
              "             estimator=DecisionTreeClassifier(ccp_alpha=0.0, class_weight=None,\n",
              "                                              criterion='gini', max_depth=None,\n",
              "                                              max_features=None,\n",
              "                                              max_leaf_nodes=None,\n",
              "                                              min_impurity_decrease=0.0,\n",
              "                                              min_impurity_split=None,\n",
              "                                              min_samples_leaf=1,\n",
              "                                              min_samples_split=2,\n",
              "                                              min_weight_fraction_leaf=0.0,\n",
              "                                              presort='deprecated',\n",
              "                                              random_state=None,\n",
              "                                              splitter='best'),\n",
              "             iid='deprecated', n_jobs=None,\n",
              "             param_grid={'criterion': ['gini', 'entropy'],\n",
              "                         'min_samples_split': range(2, 100)},\n",
              "             pre_dispatch='2*n_jobs', refit=True, return_train_score=False,\n",
              "             scoring=None, verbose=0)"
            ]
          },
          "metadata": {
            "tags": []
          },
          "execution_count": 3866
        }
      ]
    },
    {
      "cell_type": "code",
      "metadata": {
        "colab": {
          "base_uri": "https://localhost:8080/"
        },
        "id": "lmZw5m4Mlgco",
        "outputId": "322caadb-f881-4789-b841-bd21526aa043"
      },
      "source": [
        "grid.best_params_"
      ],
      "execution_count": null,
      "outputs": [
        {
          "output_type": "execute_result",
          "data": {
            "text/plain": [
              "{'criterion': 'gini', 'min_samples_split': 18}"
            ]
          },
          "metadata": {
            "tags": []
          },
          "execution_count": 3867
        }
      ]
    },
    {
      "cell_type": "code",
      "metadata": {
        "colab": {
          "base_uri": "https://localhost:8080/"
        },
        "id": "8gg0K2O6lgfP",
        "outputId": "c76c800f-c0a6-4f41-9af2-ff83a7ab4e54"
      },
      "source": [
        "grid.best_score_"
      ],
      "execution_count": null,
      "outputs": [
        {
          "output_type": "execute_result",
          "data": {
            "text/plain": [
              "0.8057142857142857"
            ]
          },
          "metadata": {
            "tags": []
          },
          "execution_count": 3868
        }
      ]
    },
    {
      "cell_type": "code",
      "metadata": {
        "id": "IYI_qYFFlgjd"
      },
      "source": [
        "from sklearn.metrics import accuracy_score"
      ],
      "execution_count": null,
      "outputs": []
    },
    {
      "cell_type": "code",
      "metadata": {
        "colab": {
          "background_save": true
        },
        "id": "YzTbLh1El1yT"
      },
      "source": [
        "gt1=DecisionTreeClassifier(\n",
        "    criterion='gini',\n",
        "    min_samples_split=21)"
      ],
      "execution_count": null,
      "outputs": []
    },
    {
      "cell_type": "code",
      "metadata": {
        "colab": {
          "background_save": true
        },
        "id": "WOURTUfPl11X"
      },
      "source": [
        "gt_fit = gt1.fit(X_train, Y_train)\n",
        "gt_p1 = gt1.predict(X_train)"
      ],
      "execution_count": null,
      "outputs": []
    },
    {
      "cell_type": "code",
      "metadata": {
        "colab": {
          "background_save": true,
          "base_uri": "https://localhost:8080/"
        },
        "id": "7wlGdxmal15x",
        "outputId": "d20b7f7f-88f0-47e4-b39f-646cdecfb497"
      },
      "source": [
        "gtrain_score = accuracy_score(Y_train, gt_p1)*100\n",
        "gtrain_score"
      ],
      "execution_count": null,
      "outputs": [
        {
          "output_type": "execute_result",
          "data": {
            "text/plain": [
              "85.80246913580247"
            ]
          },
          "metadata": {
            "tags": []
          },
          "execution_count": 0
        }
      ]
    },
    {
      "cell_type": "code",
      "metadata": {
        "colab": {
          "background_save": true,
          "base_uri": "https://localhost:8080/"
        },
        "id": "jXaTkhjjl17z",
        "outputId": "4cfaa7ea-b572-4fc1-8fdc-6b3a0c66c8a4"
      },
      "source": [
        "gt_pt1 = gt1.predict(X_test)\n",
        "gtest_score = accuracy_score(Y_test, gt_pt1)*100\n",
        "gtest_score"
      ],
      "execution_count": null,
      "outputs": [
        {
          "output_type": "execute_result",
          "data": {
            "text/plain": [
              "87.5"
            ]
          },
          "metadata": {
            "tags": []
          },
          "execution_count": 0
        }
      ]
    },
    {
      "cell_type": "code",
      "metadata": {
        "colab": {
          "background_save": true,
          "base_uri": "https://localhost:8080/",
          "height": 433
        },
        "id": "J-dM-1aql19v",
        "outputId": "0b557128-ba31-4ce5-ea40-4d5326762b27"
      },
      "source": [
        "print(classification_report(Y_test, gt_pt1))\n",
        "rf_cm = confusion_matrix(Y_test, gt_pt1)\n",
        "df_cm3 = pd.DataFrame(rf_cm, range(2), range(2))\n",
        "# plt.figure(figsize=(10,7))\n",
        "sns.set(font_scale=1.4) # for label size\n",
        "sns.heatmap(df_cm3, annot=True, cmap='Blues', annot_kws={\"size\": 16}, fmt='g') # font size\n",
        "plt.show()"
      ],
      "execution_count": null,
      "outputs": [
        {
          "output_type": "stream",
          "text": [
            "              precision    recall  f1-score   support\n",
            "\n",
            "           0       0.88      0.99      0.93        77\n",
            "           1       0.50      0.09      0.15        11\n",
            "\n",
            "    accuracy                           0.88        88\n",
            "   macro avg       0.69      0.54      0.54        88\n",
            "weighted avg       0.84      0.88      0.84        88\n",
            "\n"
          ],
          "name": "stdout"
        },
        {
          "output_type": "display_data",
          "data": {
            "image/png": "[encoded data removed]",
            "text/plain": [
              "<Figure size 432x288 with 2 Axes>"
            ]
          },
          "metadata": {
            "tags": []
          }
        }
      ]
    },
    {
      "cell_type": "markdown",
      "metadata": {
        "id": "nuRc2kSKt_Hy"
      },
      "source": [
        "**Prime**"
      ]
    },
    {
      "cell_type": "code",
      "metadata": {
        "colab": {
          "background_save": true
        },
        "id": "S7ttEf4Kf1hu"
      },
      "source": [
        "train, test = train_test_split(one_hot_data, test_size =0.30)"
      ],
      "execution_count": null,
      "outputs": []
    },
    {
      "cell_type": "code",
      "metadata": {
        "colab": {
          "background_save": true,
          "base_uri": "https://localhost:8080/"
        },
        "id": "lhuCD-9ff1pu",
        "outputId": "0c704e96-17e1-4745-f5b6-ab8ff2754065"
      },
      "source": [
        "train.shape"
      ],
      "execution_count": null,
      "outputs": [
        {
          "output_type": "execute_result",
          "data": {
            "text/plain": [
              "(175, 24)"
            ]
          },
          "metadata": {
            "tags": []
          },
          "execution_count": 0
        }
      ]
    },
    {
      "cell_type": "code",
      "metadata": {
        "colab": {
          "background_save": true,
          "base_uri": "https://localhost:8080/"
        },
        "id": "TD7-b5pFf1zq",
        "outputId": "ea0e447b-a5bf-4004-cf63-d89f1761f52c"
      },
      "source": [
        "test.shape"
      ],
      "execution_count": null,
      "outputs": [
        {
          "output_type": "execute_result",
          "data": {
            "text/plain": [
              "(75, 24)"
            ]
          },
          "metadata": {
            "tags": []
          },
          "execution_count": 0
        }
      ]
    },
    {
      "cell_type": "code",
      "metadata": {
        "colab": {
          "background_save": true,
          "base_uri": "https://localhost:8080/"
        },
        "id": "Mp403SM1vXji",
        "outputId": "e4b2fde6-f1bd-4bf3-9aec-1e836e15140c"
      },
      "source": [
        "one_hot_data.columns"
      ],
      "execution_count": null,
      "outputs": [
        {
          "output_type": "execute_result",
          "data": {
            "text/plain": [
              "Index(['Overall_Rating', 'Duration', 'Frequency', 'Platforms_Hotstar',\n",
              "       'Platforms_Netflix', 'Platforms_Prime', 'Age_31-50', 'Age_Less than 18',\n",
              "       'Age_More than 50', 'Most_watched_Documentaries',\n",
              "       'Most_watched_Documentaries, Sports and News', 'Most_watched_Movies',\n",
              "       'Most_watched_Movies, Documentaries',\n",
              "       'Most_watched_Movies, Documentaries, Sports and News',\n",
              "       'Most_watched_Movies, Sports and News',\n",
              "       'Most_watched_Original Web Series',\n",
              "       'Most_watched_Original Web Series, Documentaries',\n",
              "       'Most_watched_Original Web Series, Documentaries, Sports and News',\n",
              "       'Most_watched_Original Web Series, Movies',\n",
              "       'Most_watched_Original Web Series, Movies, Documentaries',\n",
              "       'Most_watched_Original Web Series, Movies, Sports and News',\n",
              "       'Most_watched_Original Web Series, Sports and News',\n",
              "       'Most_watched_Sports and News', 'Movie'],\n",
              "      dtype='object')"
            ]
          },
          "metadata": {
            "tags": []
          },
          "execution_count": 0
        }
      ]
    },
    {
      "cell_type": "code",
      "metadata": {
        "colab": {
          "background_save": true
        },
        "id": "3xVDDt55uJDL"
      },
      "source": [
        "features=['Overall_Rating','Most_watched_Original Web Series','Movie','Most_watched_Original Web Series, Movies, Sports and News','Frequency','Age_31-50', 'Age_Less than 18']"
      ],
      "execution_count": null,
      "outputs": []
    },
    {
      "cell_type": "code",
      "metadata": {
        "colab": {
          "background_save": true
        },
        "id": "Ohcd4f8YuSvF"
      },
      "source": [
        "X_train =train[features]\n",
        "Y_train =train[\"Platforms_Prime\"]\n",
        "\n",
        "X_test = test[features]\n",
        "Y_test = test[\"Platforms_Prime\"]"
      ],
      "execution_count": null,
      "outputs": []
    },
    {
      "cell_type": "code",
      "metadata": {
        "colab": {
          "background_save": true
        },
        "id": "GmGlmU1NuSxw"
      },
      "source": [
        "gdtree = DecisionTreeClassifier()"
      ],
      "execution_count": null,
      "outputs": []
    },
    {
      "cell_type": "code",
      "metadata": {
        "colab": {
          "background_save": true
        },
        "id": "JqUjVwmGuS0O"
      },
      "source": [
        "param_dict ={ \n",
        "    \"criterion\": ['gini', 'entropy'], \n",
        "    \"min_samples_split\":range(2,100)\n",
        "    \n",
        "    }"
      ],
      "execution_count": null,
      "outputs": []
    },
    {
      "cell_type": "code",
      "metadata": {
        "colab": {
          "background_save": true
        },
        "id": "zZh7fNYyuS5N"
      },
      "source": [
        "grid1 =GridSearchCV(gdtree,param_grid=param_dict, cv=10)"
      ],
      "execution_count": null,
      "outputs": []
    },
    {
      "cell_type": "code",
      "metadata": {
        "colab": {
          "background_save": true,
          "base_uri": "https://localhost:8080/"
        },
        "id": "bZvyZqc3uS72",
        "outputId": "fffafb90-4a8d-4924-87f3-77d542c8ed00"
      },
      "source": [
        "grid1.fit(X_train,Y_train)"
      ],
      "execution_count": null,
      "outputs": [
        {
          "output_type": "execute_result",
          "data": {
            "text/plain": [
              "GridSearchCV(cv=10, error_score=nan,\n",
              "             estimator=DecisionTreeClassifier(ccp_alpha=0.0, class_weight=None,\n",
              "                                              criterion='gini', max_depth=None,\n",
              "                                              max_features=None,\n",
              "                                              max_leaf_nodes=None,\n",
              "                                              min_impurity_decrease=0.0,\n",
              "                                              min_impurity_split=None,\n",
              "                                              min_samples_leaf=1,\n",
              "                                              min_samples_split=2,\n",
              "                                              min_weight_fraction_leaf=0.0,\n",
              "                                              presort='deprecated',\n",
              "                                              random_state=None,\n",
              "                                              splitter='best'),\n",
              "             iid='deprecated', n_jobs=None,\n",
              "             param_grid={'criterion': ['gini', 'entropy'],\n",
              "                         'min_samples_split': range(2, 100)},\n",
              "             pre_dispatch='2*n_jobs', refit=True, return_train_score=False,\n",
              "             scoring=None, verbose=0)"
            ]
          },
          "metadata": {
            "tags": []
          },
          "execution_count": 0
        }
      ]
    },
    {
      "cell_type": "code",
      "metadata": {
        "colab": {
          "background_save": true,
          "base_uri": "https://localhost:8080/"
        },
        "id": "DSzJvoP9uS-U",
        "outputId": "2d8b46a8-ac7e-4ac4-a862-e0a4c9073537"
      },
      "source": [
        "grid1.best_params_"
      ],
      "execution_count": null,
      "outputs": [
        {
          "output_type": "execute_result",
          "data": {
            "text/plain": [
              "{'criterion': 'gini', 'min_samples_split': 95}"
            ]
          },
          "metadata": {
            "tags": []
          },
          "execution_count": 0
        }
      ]
    },
    {
      "cell_type": "code",
      "metadata": {
        "colab": {
          "background_save": true,
          "base_uri": "https://localhost:8080/"
        },
        "id": "At-ip1pxuTAV",
        "outputId": "9e4ecbea-06eb-443f-f660-7ef77fea8cca"
      },
      "source": [
        "grid1.best_score_"
      ],
      "execution_count": null,
      "outputs": [
        {
          "output_type": "execute_result",
          "data": {
            "text/plain": [
              "0.7601307189542483"
            ]
          },
          "metadata": {
            "tags": []
          },
          "execution_count": 0
        }
      ]
    },
    {
      "cell_type": "code",
      "metadata": {
        "colab": {
          "background_save": true
        },
        "id": "aOHVMKQcuJGZ"
      },
      "source": [
        "gt1=DecisionTreeClassifier(\n",
        "    criterion='gini',\n",
        "    min_samples_split=2)\n"
      ],
      "execution_count": null,
      "outputs": []
    },
    {
      "cell_type": "code",
      "metadata": {
        "colab": {
          "background_save": true,
          "base_uri": "https://localhost:8080/"
        },
        "id": "TU2LzZVOwKNB",
        "outputId": "234f07eb-48b7-4bb9-bb7a-afa7dde0a8af"
      },
      "source": [
        "gt_fit = gt1.fit(X_train, Y_train)\n",
        "gt_p1 = gt1.predict(X_train)\n",
        "gtrain_score = accuracy_score(Y_train, gt_p1)*100\n",
        "gtrain_score"
      ],
      "execution_count": null,
      "outputs": [
        {
          "output_type": "execute_result",
          "data": {
            "text/plain": [
              "83.42857142857143"
            ]
          },
          "metadata": {
            "tags": []
          },
          "execution_count": 0
        }
      ]
    },
    {
      "cell_type": "code",
      "metadata": {
        "colab": {
          "background_save": true,
          "base_uri": "https://localhost:8080/"
        },
        "id": "TMReVxPBwKP1",
        "outputId": "0a5be11d-1164-4f8d-be3b-78a6ce724cce"
      },
      "source": [
        "gt_pt1 = gt1.predict(X_test)\n",
        "prime_score = accuracy_score(Y_test, gt_pt1)*100\n",
        "prime_score"
      ],
      "execution_count": null,
      "outputs": [
        {
          "output_type": "execute_result",
          "data": {
            "text/plain": [
              "73.33333333333333"
            ]
          },
          "metadata": {
            "tags": []
          },
          "execution_count": 0
        }
      ]
    },
    {
      "cell_type": "code",
      "metadata": {
        "colab": {
          "background_save": true,
          "base_uri": "https://localhost:8080/",
          "height": 433
        },
        "id": "Ec28qASDwKS3",
        "outputId": "d885be85-1b0f-42d6-9be7-f0d474dc4576"
      },
      "source": [
        "print(classification_report(Y_test, gt_pt1))\n",
        "rf_cm = confusion_matrix(Y_test, gt_pt1)\n",
        "df_cm3 = pd.DataFrame(rf_cm, range(2), range(2))\n",
        "# plt.figure(figsize=(10,7))\n",
        "sns.set(font_scale=1.4) # for label size\n",
        "sns.heatmap(df_cm3, annot=True, cmap='Blues', annot_kws={\"size\": 16}, fmt='g') # font size\n",
        "plt.show()"
      ],
      "execution_count": null,
      "outputs": [
        {
          "output_type": "stream",
          "text": [
            "              precision    recall  f1-score   support\n",
            "\n",
            "           0       0.77      0.89      0.83        54\n",
            "           1       0.54      0.33      0.41        21\n",
            "\n",
            "    accuracy                           0.73        75\n",
            "   macro avg       0.66      0.61      0.62        75\n",
            "weighted avg       0.71      0.73      0.71        75\n",
            "\n"
          ],
          "name": "stdout"
        },
        {
          "output_type": "display_data",
          "data": {
            "image/png": "[encoded data removed]",
            "text/plain": [
              "<Figure size 432x288 with 2 Axes>"
            ]
          },
          "metadata": {
            "tags": []
          }
        }
      ]
    },
    {
      "cell_type": "markdown",
      "metadata": {
        "id": "lr0ZMpyDwe4i"
      },
      "source": [
        "**Hotstar**"
      ]
    },
    {
      "cell_type": "code",
      "metadata": {
        "colab": {
          "background_save": true
        },
        "id": "VGUw_XR0gxXv"
      },
      "source": [
        "train, test = train_test_split(one_hot_data, test_size =0.35)"
      ],
      "execution_count": null,
      "outputs": []
    },
    {
      "cell_type": "code",
      "metadata": {
        "colab": {
          "background_save": true
        },
        "id": "DfaQES6XwiBV"
      },
      "source": [
        "features=['Overall_Rating','Most_watched_Original Web Series','Most_watched_Movies','Most_watched_Movies, Documentaries, Sports and News','Most_watched_Sports and News','Most_watched_Original Web Series, Movies, Documentaries','Most_watched_Original Web Series, Sports and News', 'Age_31-50', 'Age_Less than 18', 'Age_More than 50']"
      ],
      "execution_count": null,
      "outputs": []
    },
    {
      "cell_type": "code",
      "metadata": {
        "colab": {
          "background_save": true
        },
        "id": "ovnlrEF0wiD9"
      },
      "source": [
        "X_train =train[features]\n",
        "Y_train =train[\"Platforms_Hotstar\"]\n",
        "\n",
        "X_test = test[features]\n",
        "Y_test = test[\"Platforms_Hotstar\"]"
      ],
      "execution_count": null,
      "outputs": []
    },
    {
      "cell_type": "code",
      "metadata": {
        "colab": {
          "background_save": true
        },
        "id": "vT0wqPNIwiIO"
      },
      "source": [
        "param_dict ={ \n",
        "    \"criterion\": ['gini', 'entropy'], \n",
        "    \"min_samples_split\":range(2,100)\n",
        "    \n",
        "    }"
      ],
      "execution_count": null,
      "outputs": []
    },
    {
      "cell_type": "code",
      "metadata": {
        "colab": {
          "background_save": true
        },
        "id": "05t0dsJPwiLT"
      },
      "source": [
        "grid2 =GridSearchCV(gdtree,param_grid=param_dict, cv=10)"
      ],
      "execution_count": null,
      "outputs": []
    },
    {
      "cell_type": "code",
      "metadata": {
        "colab": {
          "background_save": true
        },
        "id": "Yl5UjvYEwiNt",
        "outputId": "f3920381-d323-4659-ff49-bf634d66db49"
      },
      "source": [
        "grid2.fit(X_train,Y_train)"
      ],
      "execution_count": null,
      "outputs": [
        {
          "output_type": "execute_result",
          "data": {
            "text/plain": [
              "GridSearchCV(cv=10, error_score=nan,\n",
              "             estimator=DecisionTreeClassifier(ccp_alpha=0.0, class_weight=None,\n",
              "                                              criterion='gini', max_depth=None,\n",
              "                                              max_features=None,\n",
              "                                              max_leaf_nodes=None,\n",
              "                                              min_impurity_decrease=0.0,\n",
              "                                              min_impurity_split=None,\n",
              "                                              min_samples_leaf=1,\n",
              "                                              min_samples_split=2,\n",
              "                                              min_weight_fraction_leaf=0.0,\n",
              "                                              presort='deprecated',\n",
              "                                              random_state=None,\n",
              "                                              splitter='best'),\n",
              "             iid='deprecated', n_jobs=None,\n",
              "             param_grid={'criterion': ['gini', 'entropy'],\n",
              "                         'min_samples_split': range(2, 100)},\n",
              "             pre_dispatch='2*n_jobs', refit=True, return_train_score=False,\n",
              "             scoring=None, verbose=0)"
            ]
          },
          "metadata": {
            "tags": []
          },
          "execution_count": 0
        }
      ]
    },
    {
      "cell_type": "code",
      "metadata": {
        "colab": {
          "background_save": true
        },
        "id": "aWvdonQDwiQm",
        "outputId": "2ff71452-c2c8-40f6-a81e-eb657b0b769a"
      },
      "source": [
        "grid2.best_params_"
      ],
      "execution_count": null,
      "outputs": [
        {
          "output_type": "execute_result",
          "data": {
            "text/plain": [
              "{'criterion': 'entropy', 'min_samples_split': 7}"
            ]
          },
          "metadata": {
            "tags": []
          },
          "execution_count": 0
        }
      ]
    },
    {
      "cell_type": "code",
      "metadata": {
        "colab": {
          "background_save": true
        },
        "id": "_wEZpav_z9Hk",
        "outputId": "12decb78-c9cb-436e-c608-97966074b88d"
      },
      "source": [
        "grid2.best_score_"
      ],
      "execution_count": null,
      "outputs": [
        {
          "output_type": "execute_result",
          "data": {
            "text/plain": [
              "0.8584558823529411"
            ]
          },
          "metadata": {
            "tags": []
          },
          "execution_count": 0
        }
      ]
    },
    {
      "cell_type": "code",
      "metadata": {
        "colab": {
          "background_save": true
        },
        "id": "DPdFRJMuz9KP"
      },
      "source": [
        "gt2=DecisionTreeClassifier(\n",
        "    criterion='gini',\n",
        "    min_samples_split=29)\n"
      ],
      "execution_count": null,
      "outputs": []
    },
    {
      "cell_type": "code",
      "metadata": {
        "colab": {
          "background_save": true
        },
        "id": "TNPTCNCuz9NE",
        "outputId": "fd2ef2d1-e94f-42e3-b7a5-2b9316158d07"
      },
      "source": [
        "gt_fit = gt2.fit(X_train, Y_train)\n",
        "gt_p1 = gt2.predict(X_train)\n",
        "gtrain_score = accuracy_score(Y_train, gt_p1)*100\n",
        "gtrain_score"
      ],
      "execution_count": null,
      "outputs": [
        {
          "output_type": "execute_result",
          "data": {
            "text/plain": [
              "88.27160493827161"
            ]
          },
          "metadata": {
            "tags": []
          },
          "execution_count": 0
        }
      ]
    },
    {
      "cell_type": "code",
      "metadata": {
        "colab": {
          "background_save": true
        },
        "id": "24EtC-BTz9P5",
        "outputId": "d9f40750-b3b6-4755-863c-43fc427ac212"
      },
      "source": [
        "gt_pt1 = gt2.predict(X_test)\n",
        "hotstar_score = accuracy_score(Y_test, gt_pt1)*100\n",
        "hotstar_score"
      ],
      "execution_count": null,
      "outputs": [
        {
          "output_type": "execute_result",
          "data": {
            "text/plain": [
              "82.95454545454545"
            ]
          },
          "metadata": {
            "tags": []
          },
          "execution_count": 0
        }
      ]
    },
    {
      "cell_type": "code",
      "metadata": {
        "colab": {
          "background_save": true
        },
        "id": "cLmSWck00S0t",
        "outputId": "19fc5582-1c5b-4f7a-9051-e4a193c52a7a"
      },
      "source": [
        "print(classification_report(Y_test, gt_pt1))\n",
        "rf_cm = confusion_matrix(Y_test, gt_pt1)\n",
        "df_cm3 = pd.DataFrame(rf_cm, range(2), range(2))\n",
        "# plt.figure(figsize=(10,7))\n",
        "sns.set(font_scale=1.4) # for label size\n",
        "sns.heatmap(df_cm3, annot=True, cmap='Blues', annot_kws={\"size\": 16}, fmt='g') # font size\n",
        "plt.show()"
      ],
      "execution_count": null,
      "outputs": [
        {
          "output_type": "stream",
          "text": [
            "/usr/local/lib/python3.7/dist-packages/sklearn/metrics/_classification.py:1272: UndefinedMetricWarning: Precision and F-score are ill-defined and being set to 0.0 in labels with no predicted samples. Use `zero_division` parameter to control this behavior.\n",
            "  _warn_prf(average, modifier, msg_start, len(result))\n"
          ],
          "name": "stderr"
        },
        {
          "output_type": "stream",
          "text": [
            "              precision    recall  f1-score   support\n",
            "\n",
            "           0       0.83      1.00      0.91        73\n",
            "           1       0.00      0.00      0.00        15\n",
            "\n",
            "    accuracy                           0.83        88\n",
            "   macro avg       0.41      0.50      0.45        88\n",
            "weighted avg       0.69      0.83      0.75        88\n",
            "\n"
          ],
          "name": "stdout"
        },
        {
          "output_type": "display_data",
          "data": {
            "image/png": "[encoded data removed]",
            "text/plain": [
              "<Figure size 432x288 with 2 Axes>"
            ]
          },
          "metadata": {
            "tags": []
          }
        }
      ]
    },
    {
      "cell_type": "markdown",
      "metadata": {
        "id": "gGbH5-K7i3Pj"
      },
      "source": [
        "#Comparison of accuracy of the decision tree."
      ]
    },
    {
      "cell_type": "code",
      "metadata": {
        "colab": {
          "background_save": true
        },
        "id": "GZ1-nhPleRpS",
        "outputId": "4299919a-6ade-4181-f260-04c7d8bb1682"
      },
      "source": [
        "modelacc = pd.DataFrame({\"Netflix_DT\": [gtest_score],\n",
        "                               \"Prime_DT\": [prime_score],\n",
        "                               \"Hotstar_DT\": [hotstar_score],\n",
        "                              })\n",
        "modelacc.plot.bar(align='edge', width=1,figsize=(10,8),ec=\"black\");\n",
        "plt.xlabel('Models', fontsize=20)\n",
        "plt.ylabel('Scores',fontsize=20)\n",
        "plt.legend(fontsize=15);"
      ],
      "execution_count": null,
      "outputs": [
        {
          "output_type": "display_data",
          "data": {
            "image/png": "[encoded data removed]",
            "text/plain": [
              "<Figure size 720x576 with 1 Axes>"
            ]
          },
          "metadata": {
            "tags": []
          }
        }
      ]
    },
    {
      "cell_type": "markdown",
      "metadata": {
        "id": "gRBul9gl53Jy"
      },
      "source": [
        "**SVM**"
      ]
    },
    {
      "cell_type": "markdown",
      "metadata": {
        "id": "22lWlhavptAK"
      },
      "source": [
        "#svm for Netflix"
      ]
    },
    {
      "cell_type": "code",
      "metadata": {
        "colab": {
          "background_save": true
        },
        "id": "arDEALG4eg-L"
      },
      "source": [
        ""
      ],
      "execution_count": null,
      "outputs": []
    },
    {
      "cell_type": "code",
      "metadata": {
        "colab": {
          "background_save": true
        },
        "id": "vJc_i9QqehJJ",
        "outputId": "67a25a2b-dd4d-45ba-b1a4-335dd317b96c"
      },
      "source": [
        "one_hot_data"
      ],
      "execution_count": null,
      "outputs": [
        {
          "output_type": "execute_result",
          "data": {
            "text/html": [
              "<div>\n",
              "<style scoped>\n",
              "    .dataframe tbody tr th:only-of-type {\n",
              "        vertical-align: middle;\n",
              "    }\n",
              "\n",
              "    .dataframe tbody tr th {\n",
              "        vertical-align: top;\n",
              "    }\n",
              "\n",
              "    .dataframe thead th {\n",
              "        text-align: right;\n",
              "    }\n",
              "</style>\n",
              "<table border=\"1\" class=\"dataframe\">\n",
              "  <thead>\n",
              "    <tr style=\"text-align: right;\">\n",
              "      <th></th>\n",
              "      <th>Overall_Rating</th>\n",
              "      <th>Duration</th>\n",
              "      <th>Frequency</th>\n",
              "      <th>Platforms_Hotstar</th>\n",
              "      <th>Platforms_Netflix</th>\n",
              "      <th>Platforms_Prime</th>\n",
              "      <th>Age_31-50</th>\n",
              "      <th>Age_Less than 18</th>\n",
              "      <th>Age_More than 50</th>\n",
              "      <th>Most_watched_Documentaries</th>\n",
              "      <th>Most_watched_Documentaries, Sports and News</th>\n",
              "      <th>Most_watched_Movies</th>\n",
              "      <th>Most_watched_Movies, Documentaries</th>\n",
              "      <th>Most_watched_Movies, Documentaries, Sports and News</th>\n",
              "      <th>Most_watched_Movies, Sports and News</th>\n",
              "      <th>Most_watched_Original Web Series</th>\n",
              "      <th>Most_watched_Original Web Series, Documentaries</th>\n",
              "      <th>Most_watched_Original Web Series, Documentaries, Sports and News</th>\n",
              "      <th>Most_watched_Original Web Series, Movies</th>\n",
              "      <th>Most_watched_Original Web Series, Movies, Documentaries</th>\n",
              "      <th>Most_watched_Original Web Series, Movies, Sports and News</th>\n",
              "      <th>Most_watched_Original Web Series, Sports and News</th>\n",
              "      <th>Most_watched_Sports and News</th>\n",
              "      <th>Movie</th>\n",
              "    </tr>\n",
              "  </thead>\n",
              "  <tbody>\n",
              "    <tr>\n",
              "      <th>0</th>\n",
              "      <td>2</td>\n",
              "      <td>1</td>\n",
              "      <td>1</td>\n",
              "      <td>0</td>\n",
              "      <td>0</td>\n",
              "      <td>1</td>\n",
              "      <td>0</td>\n",
              "      <td>0</td>\n",
              "      <td>0</td>\n",
              "      <td>0</td>\n",
              "      <td>0</td>\n",
              "      <td>0</td>\n",
              "      <td>0</td>\n",
              "      <td>0</td>\n",
              "      <td>0</td>\n",
              "      <td>0</td>\n",
              "      <td>0</td>\n",
              "      <td>0</td>\n",
              "      <td>0</td>\n",
              "      <td>0</td>\n",
              "      <td>0</td>\n",
              "      <td>0</td>\n",
              "      <td>0</td>\n",
              "      <td>0</td>\n",
              "    </tr>\n",
              "    <tr>\n",
              "      <th>1</th>\n",
              "      <td>2</td>\n",
              "      <td>2</td>\n",
              "      <td>3</td>\n",
              "      <td>0</td>\n",
              "      <td>1</td>\n",
              "      <td>0</td>\n",
              "      <td>0</td>\n",
              "      <td>0</td>\n",
              "      <td>0</td>\n",
              "      <td>0</td>\n",
              "      <td>0</td>\n",
              "      <td>0</td>\n",
              "      <td>0</td>\n",
              "      <td>0</td>\n",
              "      <td>0</td>\n",
              "      <td>1</td>\n",
              "      <td>0</td>\n",
              "      <td>0</td>\n",
              "      <td>0</td>\n",
              "      <td>0</td>\n",
              "      <td>0</td>\n",
              "      <td>0</td>\n",
              "      <td>0</td>\n",
              "      <td>0</td>\n",
              "    </tr>\n",
              "    <tr>\n",
              "      <th>2</th>\n",
              "      <td>1</td>\n",
              "      <td>2</td>\n",
              "      <td>3</td>\n",
              "      <td>1</td>\n",
              "      <td>0</td>\n",
              "      <td>0</td>\n",
              "      <td>0</td>\n",
              "      <td>0</td>\n",
              "      <td>0</td>\n",
              "      <td>0</td>\n",
              "      <td>0</td>\n",
              "      <td>1</td>\n",
              "      <td>0</td>\n",
              "      <td>0</td>\n",
              "      <td>0</td>\n",
              "      <td>0</td>\n",
              "      <td>0</td>\n",
              "      <td>0</td>\n",
              "      <td>0</td>\n",
              "      <td>0</td>\n",
              "      <td>0</td>\n",
              "      <td>0</td>\n",
              "      <td>0</td>\n",
              "      <td>1</td>\n",
              "    </tr>\n",
              "    <tr>\n",
              "      <th>3</th>\n",
              "      <td>2</td>\n",
              "      <td>2</td>\n",
              "      <td>2</td>\n",
              "      <td>1</td>\n",
              "      <td>0</td>\n",
              "      <td>0</td>\n",
              "      <td>1</td>\n",
              "      <td>0</td>\n",
              "      <td>0</td>\n",
              "      <td>0</td>\n",
              "      <td>0</td>\n",
              "      <td>0</td>\n",
              "      <td>0</td>\n",
              "      <td>1</td>\n",
              "      <td>0</td>\n",
              "      <td>0</td>\n",
              "      <td>0</td>\n",
              "      <td>0</td>\n",
              "      <td>0</td>\n",
              "      <td>0</td>\n",
              "      <td>0</td>\n",
              "      <td>0</td>\n",
              "      <td>0</td>\n",
              "      <td>0</td>\n",
              "    </tr>\n",
              "    <tr>\n",
              "      <th>4</th>\n",
              "      <td>2</td>\n",
              "      <td>1</td>\n",
              "      <td>3</td>\n",
              "      <td>0</td>\n",
              "      <td>0</td>\n",
              "      <td>0</td>\n",
              "      <td>0</td>\n",
              "      <td>0</td>\n",
              "      <td>0</td>\n",
              "      <td>0</td>\n",
              "      <td>0</td>\n",
              "      <td>1</td>\n",
              "      <td>0</td>\n",
              "      <td>0</td>\n",
              "      <td>0</td>\n",
              "      <td>0</td>\n",
              "      <td>0</td>\n",
              "      <td>0</td>\n",
              "      <td>0</td>\n",
              "      <td>0</td>\n",
              "      <td>0</td>\n",
              "      <td>0</td>\n",
              "      <td>0</td>\n",
              "      <td>1</td>\n",
              "    </tr>\n",
              "    <tr>\n",
              "      <th>...</th>\n",
              "      <td>...</td>\n",
              "      <td>...</td>\n",
              "      <td>...</td>\n",
              "      <td>...</td>\n",
              "      <td>...</td>\n",
              "      <td>...</td>\n",
              "      <td>...</td>\n",
              "      <td>...</td>\n",
              "      <td>...</td>\n",
              "      <td>...</td>\n",
              "      <td>...</td>\n",
              "      <td>...</td>\n",
              "      <td>...</td>\n",
              "      <td>...</td>\n",
              "      <td>...</td>\n",
              "      <td>...</td>\n",
              "      <td>...</td>\n",
              "      <td>...</td>\n",
              "      <td>...</td>\n",
              "      <td>...</td>\n",
              "      <td>...</td>\n",
              "      <td>...</td>\n",
              "      <td>...</td>\n",
              "      <td>...</td>\n",
              "    </tr>\n",
              "    <tr>\n",
              "      <th>245</th>\n",
              "      <td>2</td>\n",
              "      <td>1</td>\n",
              "      <td>2</td>\n",
              "      <td>0</td>\n",
              "      <td>1</td>\n",
              "      <td>0</td>\n",
              "      <td>0</td>\n",
              "      <td>1</td>\n",
              "      <td>0</td>\n",
              "      <td>0</td>\n",
              "      <td>0</td>\n",
              "      <td>0</td>\n",
              "      <td>0</td>\n",
              "      <td>0</td>\n",
              "      <td>0</td>\n",
              "      <td>0</td>\n",
              "      <td>0</td>\n",
              "      <td>0</td>\n",
              "      <td>1</td>\n",
              "      <td>0</td>\n",
              "      <td>0</td>\n",
              "      <td>0</td>\n",
              "      <td>0</td>\n",
              "      <td>1</td>\n",
              "    </tr>\n",
              "    <tr>\n",
              "      <th>246</th>\n",
              "      <td>1</td>\n",
              "      <td>2</td>\n",
              "      <td>2</td>\n",
              "      <td>0</td>\n",
              "      <td>1</td>\n",
              "      <td>0</td>\n",
              "      <td>1</td>\n",
              "      <td>0</td>\n",
              "      <td>0</td>\n",
              "      <td>0</td>\n",
              "      <td>0</td>\n",
              "      <td>1</td>\n",
              "      <td>0</td>\n",
              "      <td>0</td>\n",
              "      <td>0</td>\n",
              "      <td>0</td>\n",
              "      <td>0</td>\n",
              "      <td>0</td>\n",
              "      <td>0</td>\n",
              "      <td>0</td>\n",
              "      <td>0</td>\n",
              "      <td>0</td>\n",
              "      <td>0</td>\n",
              "      <td>1</td>\n",
              "    </tr>\n",
              "    <tr>\n",
              "      <th>247</th>\n",
              "      <td>2</td>\n",
              "      <td>3</td>\n",
              "      <td>3</td>\n",
              "      <td>0</td>\n",
              "      <td>0</td>\n",
              "      <td>1</td>\n",
              "      <td>0</td>\n",
              "      <td>0</td>\n",
              "      <td>0</td>\n",
              "      <td>0</td>\n",
              "      <td>0</td>\n",
              "      <td>0</td>\n",
              "      <td>0</td>\n",
              "      <td>0</td>\n",
              "      <td>1</td>\n",
              "      <td>0</td>\n",
              "      <td>0</td>\n",
              "      <td>0</td>\n",
              "      <td>0</td>\n",
              "      <td>0</td>\n",
              "      <td>0</td>\n",
              "      <td>0</td>\n",
              "      <td>0</td>\n",
              "      <td>0</td>\n",
              "    </tr>\n",
              "    <tr>\n",
              "      <th>248</th>\n",
              "      <td>1</td>\n",
              "      <td>3</td>\n",
              "      <td>3</td>\n",
              "      <td>0</td>\n",
              "      <td>0</td>\n",
              "      <td>1</td>\n",
              "      <td>0</td>\n",
              "      <td>0</td>\n",
              "      <td>0</td>\n",
              "      <td>0</td>\n",
              "      <td>0</td>\n",
              "      <td>0</td>\n",
              "      <td>0</td>\n",
              "      <td>0</td>\n",
              "      <td>1</td>\n",
              "      <td>0</td>\n",
              "      <td>0</td>\n",
              "      <td>0</td>\n",
              "      <td>0</td>\n",
              "      <td>0</td>\n",
              "      <td>0</td>\n",
              "      <td>0</td>\n",
              "      <td>0</td>\n",
              "      <td>0</td>\n",
              "    </tr>\n",
              "    <tr>\n",
              "      <th>249</th>\n",
              "      <td>1</td>\n",
              "      <td>2</td>\n",
              "      <td>2</td>\n",
              "      <td>0</td>\n",
              "      <td>0</td>\n",
              "      <td>0</td>\n",
              "      <td>1</td>\n",
              "      <td>0</td>\n",
              "      <td>0</td>\n",
              "      <td>0</td>\n",
              "      <td>0</td>\n",
              "      <td>0</td>\n",
              "      <td>0</td>\n",
              "      <td>0</td>\n",
              "      <td>0</td>\n",
              "      <td>0</td>\n",
              "      <td>0</td>\n",
              "      <td>0</td>\n",
              "      <td>0</td>\n",
              "      <td>0</td>\n",
              "      <td>0</td>\n",
              "      <td>0</td>\n",
              "      <td>0</td>\n",
              "      <td>0</td>\n",
              "    </tr>\n",
              "  </tbody>\n",
              "</table>\n",
              "<p>250 rows × 24 columns</p>\n",
              "</div>"
            ],
            "text/plain": [
              "     Overall_Rating  Duration  ...  Most_watched_Sports and News  Movie\n",
              "0                 2         1  ...                             0      0\n",
              "1                 2         2  ...                             0      0\n",
              "2                 1         2  ...                             0      1\n",
              "3                 2         2  ...                             0      0\n",
              "4                 2         1  ...                             0      1\n",
              "..              ...       ...  ...                           ...    ...\n",
              "245               2         1  ...                             0      1\n",
              "246               1         2  ...                             0      1\n",
              "247               2         3  ...                             0      0\n",
              "248               1         3  ...                             0      0\n",
              "249               1         2  ...                             0      0\n",
              "\n",
              "[250 rows x 24 columns]"
            ]
          },
          "metadata": {
            "tags": []
          },
          "execution_count": 0
        }
      ]
    },
    {
      "cell_type": "code",
      "metadata": {
        "colab": {
          "background_save": true
        },
        "id": "EqOdBMWxehZS"
      },
      "source": [
        ""
      ],
      "execution_count": null,
      "outputs": []
    },
    {
      "cell_type": "code",
      "metadata": {
        "colab": {
          "background_save": true
        },
        "id": "KCz65F0m0S3j"
      },
      "source": [
        "from sklearn import svm"
      ],
      "execution_count": null,
      "outputs": []
    },
    {
      "cell_type": "code",
      "metadata": {
        "colab": {
          "background_save": true
        },
        "id": "F99ebD2RrGkL"
      },
      "source": [
        "train, test = train_test_split(one_hot_data, test_size =0.35)"
      ],
      "execution_count": null,
      "outputs": []
    },
    {
      "cell_type": "code",
      "metadata": {
        "colab": {
          "background_save": true
        },
        "id": "6C0AcjFTrIqU",
        "outputId": "98b14aef-c01d-4fad-a171-af8addfb9416"
      },
      "source": [
        "train.shape"
      ],
      "execution_count": null,
      "outputs": [
        {
          "output_type": "execute_result",
          "data": {
            "text/plain": [
              "(162, 24)"
            ]
          },
          "metadata": {
            "tags": []
          },
          "execution_count": 0
        }
      ]
    },
    {
      "cell_type": "code",
      "metadata": {
        "colab": {
          "background_save": true
        },
        "id": "N7wjwRlLrI0k",
        "outputId": "0ac4eb78-3949-48aa-ba8b-eb1a524ffe31"
      },
      "source": [
        "test.shape"
      ],
      "execution_count": null,
      "outputs": [
        {
          "output_type": "execute_result",
          "data": {
            "text/plain": [
              "(88, 24)"
            ]
          },
          "metadata": {
            "tags": []
          },
          "execution_count": 0
        }
      ]
    },
    {
      "cell_type": "code",
      "metadata": {
        "colab": {
          "background_save": true
        },
        "id": "6ommLP21p14A"
      },
      "source": [
        "features=['Overall_Rating','Age_31-50', 'Age_Less than 18','Most_watched_Movies','Most_watched_Original Web Series','Most_watched_Original Web Series, Movies','Most_watched_Movies, Documentaries' ]"
      ],
      "execution_count": null,
      "outputs": []
    },
    {
      "cell_type": "code",
      "metadata": {
        "colab": {
          "background_save": true
        },
        "id": "9HKgG2-Vp16X"
      },
      "source": [
        "X_train =train[features]\n",
        "Y_train =train[\"Platforms_Netflix\"]\n",
        "\n",
        "X_test = test[features]\n",
        "Y_test = test[\"Platforms_Netflix\"]"
      ],
      "execution_count": null,
      "outputs": []
    },
    {
      "cell_type": "code",
      "metadata": {
        "colab": {
          "background_save": true
        },
        "id": "0PPtJvc-p188"
      },
      "source": [
        "svmf = svm.SVC(C=10000000, kernel='rbf', degree=3)"
      ],
      "execution_count": null,
      "outputs": []
    },
    {
      "cell_type": "code",
      "metadata": {
        "colab": {
          "background_save": true
        },
        "id": "83Mw2jDzp1_d"
      },
      "source": [
        "model_svm = svmf.fit(X_train, Y_train)"
      ],
      "execution_count": null,
      "outputs": []
    },
    {
      "cell_type": "code",
      "metadata": {
        "colab": {
          "background_save": true
        },
        "id": "tjgMN_eIp2CT"
      },
      "source": [
        "pred_svm = model_svm.predict(X_test)"
      ],
      "execution_count": null,
      "outputs": []
    },
    {
      "cell_type": "code",
      "metadata": {
        "colab": {
          "background_save": true
        },
        "id": "_ioHYpm3p2FT",
        "outputId": "c55e6144-4a6c-4740-9704-93634e73898e"
      },
      "source": [
        "test_score_svm_netflix= accuracy_score(Y_test, pred_svm)*100\n",
        "test_score_svm_netflix"
      ],
      "execution_count": null,
      "outputs": [
        {
          "output_type": "execute_result",
          "data": {
            "text/plain": [
              "79.54545454545455"
            ]
          },
          "metadata": {
            "tags": []
          },
          "execution_count": 0
        }
      ]
    },
    {
      "cell_type": "code",
      "metadata": {
        "colab": {
          "background_save": true
        },
        "id": "GT4KTmFwsPu2",
        "outputId": "7f495632-b855-41dd-b1bd-fbfce5a95d6f"
      },
      "source": [
        "print(classification_report(Y_test, pred_svm ))\n",
        "rf_cm = confusion_matrix(Y_test, pred_svm )\n",
        "df_cm3 = pd.DataFrame(rf_cm, range(2), range(2))\n",
        "# plt.figure(figsize=(10,7))\n",
        "sns.set(font_scale=1.4) # for label size\n",
        "sns.heatmap(df_cm3, annot=True, cmap='Blues', annot_kws={\"size\": 16}, fmt='g') # font size\n",
        "plt.show()"
      ],
      "execution_count": null,
      "outputs": [
        {
          "output_type": "stream",
          "text": [
            "              precision    recall  f1-score   support\n",
            "\n",
            "           0       0.83      0.94      0.88        71\n",
            "           1       0.43      0.18      0.25        17\n",
            "\n",
            "    accuracy                           0.80        88\n",
            "   macro avg       0.63      0.56      0.57        88\n",
            "weighted avg       0.75      0.80      0.76        88\n",
            "\n"
          ],
          "name": "stdout"
        },
        {
          "output_type": "display_data",
          "data": {
            "image/png": "[encoded data removed]",
            "text/plain": [
              "<Figure size 432x288 with 2 Axes>"
            ]
          },
          "metadata": {
            "tags": []
          }
        }
      ]
    },
    {
      "cell_type": "markdown",
      "metadata": {
        "id": "T6DuCk56px62"
      },
      "source": [
        "#SVM for Prime"
      ]
    },
    {
      "cell_type": "code",
      "metadata": {
        "colab": {
          "background_save": true
        },
        "id": "ZQfav3Whbho6"
      },
      "source": [
        "train, test = train_test_split(one_hot_data, test_size =0.20)"
      ],
      "execution_count": null,
      "outputs": []
    },
    {
      "cell_type": "code",
      "metadata": {
        "colab": {
          "background_save": true
        },
        "id": "eSikCjq0bj9p",
        "outputId": "f82e2155-c60a-4d67-a2fc-113348100e6c"
      },
      "source": [
        "train.shape"
      ],
      "execution_count": null,
      "outputs": [
        {
          "output_type": "execute_result",
          "data": {
            "text/plain": [
              "(200, 24)"
            ]
          },
          "metadata": {
            "tags": []
          },
          "execution_count": 0
        }
      ]
    },
    {
      "cell_type": "code",
      "metadata": {
        "colab": {
          "background_save": true
        },
        "id": "jq5GhnM3bkax",
        "outputId": "fadcb9a4-1ce1-4a67-f989-75d68f16c11d"
      },
      "source": [
        "test.shape"
      ],
      "execution_count": null,
      "outputs": [
        {
          "output_type": "execute_result",
          "data": {
            "text/plain": [
              "(50, 24)"
            ]
          },
          "metadata": {
            "tags": []
          },
          "execution_count": 0
        }
      ]
    },
    {
      "cell_type": "code",
      "metadata": {
        "colab": {
          "background_save": true
        },
        "id": "oWrl-auIa1xm"
      },
      "source": [
        "features=['Overall_Rating','Most_watched_Original Web Series','Most_watched_Movies','Most_watched_Original Web Series, Movies','Most_watched_Movies', 'Most_watched_Original Web Series, Movies, Documentaries','Most_watched_Original Web Series, Documentaries','Age_31-50']"
      ],
      "execution_count": null,
      "outputs": []
    },
    {
      "cell_type": "code",
      "metadata": {
        "colab": {
          "background_save": true
        },
        "id": "_tf3gbpwa10U"
      },
      "source": [
        "X_train =train[features]\n",
        "Y_train =train[\"Platforms_Prime\"]\n",
        "\n",
        "X_test = test[features]\n",
        "Y_test = test[\"Platforms_Prime\"]"
      ],
      "execution_count": null,
      "outputs": []
    },
    {
      "cell_type": "code",
      "metadata": {
        "colab": {
          "background_save": true
        },
        "id": "cJc1MKK5a128"
      },
      "source": [
        "svmf = svm.SVC(C=10000000, kernel='rbf', degree=3)"
      ],
      "execution_count": null,
      "outputs": []
    },
    {
      "cell_type": "code",
      "metadata": {
        "colab": {
          "background_save": true
        },
        "id": "ocmOruKTa15s"
      },
      "source": [
        "model_svm = svmf.fit(X_train, Y_train)"
      ],
      "execution_count": null,
      "outputs": []
    },
    {
      "cell_type": "code",
      "metadata": {
        "colab": {
          "background_save": true
        },
        "id": "7zAI50HVa18o"
      },
      "source": [
        "pred_svm = model_svm.predict(X_test)"
      ],
      "execution_count": null,
      "outputs": []
    },
    {
      "cell_type": "code",
      "metadata": {
        "colab": {
          "background_save": true
        },
        "id": "hL7cepG_a1_n",
        "outputId": "032fa978-af4a-4b17-e4d2-994364178f0e"
      },
      "source": [
        "test_score_svm = accuracy_score(Y_test, pred_svm)*100\n",
        "test_score_svm"
      ],
      "execution_count": null,
      "outputs": [
        {
          "output_type": "execute_result",
          "data": {
            "text/plain": [
              "72.0"
            ]
          },
          "metadata": {
            "tags": []
          },
          "execution_count": 0
        }
      ]
    },
    {
      "cell_type": "code",
      "metadata": {
        "colab": {
          "background_save": true
        },
        "id": "Q2oPcl_ebVaT",
        "outputId": "dca0bc88-1338-4e58-c09a-f25ee203b6c2"
      },
      "source": [
        "print(classification_report(Y_test, pred_svm ))\n",
        "rf_cm = confusion_matrix(Y_test, pred_svm )\n",
        "df_cm3 = pd.DataFrame(rf_cm, range(2), range(2))\n",
        "# plt.figure(figsize=(10,7))\n",
        "sns.set(font_scale=1.4) # for label size\n",
        "sns.heatmap(df_cm3, annot=True, cmap='Blues', annot_kws={\"size\": 16}, fmt='g') # font size\n",
        "plt.show()"
      ],
      "execution_count": null,
      "outputs": [
        {
          "output_type": "stream",
          "text": [
            "/usr/local/lib/python3.7/dist-packages/sklearn/metrics/_classification.py:1272: UndefinedMetricWarning: Precision and F-score are ill-defined and being set to 0.0 in labels with no predicted samples. Use `zero_division` parameter to control this behavior.\n",
            "  _warn_prf(average, modifier, msg_start, len(result))\n"
          ],
          "name": "stderr"
        },
        {
          "output_type": "stream",
          "text": [
            "              precision    recall  f1-score   support\n",
            "\n",
            "           0       0.72      1.00      0.84        36\n",
            "           1       0.00      0.00      0.00        14\n",
            "\n",
            "    accuracy                           0.72        50\n",
            "   macro avg       0.36      0.50      0.42        50\n",
            "weighted avg       0.52      0.72      0.60        50\n",
            "\n"
          ],
          "name": "stdout"
        },
        {
          "output_type": "display_data",
          "data": {
            "image/png": "[encoded data removed]",
            "text/plain": [
              "<Figure size 432x288 with 2 Axes>"
            ]
          },
          "metadata": {
            "tags": []
          }
        }
      ]
    },
    {
      "cell_type": "markdown",
      "metadata": {
        "id": "TJM3_f73pmGk"
      },
      "source": [
        "#for Hotstar"
      ]
    },
    {
      "cell_type": "code",
      "metadata": {
        "colab": {
          "background_save": true
        },
        "id": "C5A6cltncha9"
      },
      "source": [
        "train, test = train_test_split(one_hot_data, test_size =0.35)"
      ],
      "execution_count": null,
      "outputs": []
    },
    {
      "cell_type": "code",
      "metadata": {
        "colab": {
          "background_save": true
        },
        "id": "Pj7AuNFlci9K",
        "outputId": "365eaddf-8d0a-4cd9-fb24-89bae62463f9"
      },
      "source": [
        "train.shape"
      ],
      "execution_count": null,
      "outputs": [
        {
          "output_type": "execute_result",
          "data": {
            "text/plain": [
              "(162, 24)"
            ]
          },
          "metadata": {
            "tags": []
          },
          "execution_count": 0
        }
      ]
    },
    {
      "cell_type": "code",
      "metadata": {
        "colab": {
          "background_save": true
        },
        "id": "Yt-T8NV8cjAb",
        "outputId": "365eaeeb-b3a3-4441-c81e-56826083fd6e"
      },
      "source": [
        "test.shape"
      ],
      "execution_count": null,
      "outputs": [
        {
          "output_type": "execute_result",
          "data": {
            "text/plain": [
              "(88, 24)"
            ]
          },
          "metadata": {
            "tags": []
          },
          "execution_count": 0
        }
      ]
    },
    {
      "cell_type": "code",
      "metadata": {
        "colab": {
          "background_save": true
        },
        "id": "zt8XmEAUpdt9"
      },
      "source": [
        "features=['Overall_Rating','Most_watched_Original Web Series','Most_watched_Movies','Most_watched_Movies, Documentaries, Sports and News','Most_watched_Sports and News','Most_watched_Original Web Series, Movies, Documentaries','Most_watched_Original Web Series, Sports and News', 'Age_31-50', 'Age_Less than 18', 'Age_More than 50']"
      ],
      "execution_count": null,
      "outputs": []
    },
    {
      "cell_type": "code",
      "metadata": {
        "colab": {
          "background_save": true
        },
        "id": "0SDR6kqUpdxK"
      },
      "source": [
        "X_train =train[features]\n",
        "Y_train =train[\"Platforms_Hotstar\"]\n",
        "\n",
        "X_test = test[features]\n",
        "Y_test = test[\"Platforms_Hotstar\"]"
      ],
      "execution_count": null,
      "outputs": []
    },
    {
      "cell_type": "code",
      "metadata": {
        "colab": {
          "background_save": true
        },
        "id": "7v3dLnlq0S6N"
      },
      "source": [
        "svmf = svm.SVC(C=10000000, kernel='rbf', degree=3)"
      ],
      "execution_count": null,
      "outputs": []
    },
    {
      "cell_type": "code",
      "metadata": {
        "colab": {
          "background_save": true
        },
        "id": "i29hzTUX5Okg"
      },
      "source": [
        "model_svm = svmf.fit(X_train, Y_train)"
      ],
      "execution_count": null,
      "outputs": []
    },
    {
      "cell_type": "code",
      "metadata": {
        "colab": {
          "background_save": true
        },
        "id": "voiIuTon5Onx"
      },
      "source": [
        "pred_svm = model_svm.predict(X_test)"
      ],
      "execution_count": null,
      "outputs": []
    },
    {
      "cell_type": "code",
      "metadata": {
        "colab": {
          "background_save": true
        },
        "id": "czUGWnO75Oq1",
        "outputId": "d6324542-c438-4658-dba6-219d3ce52467"
      },
      "source": [
        "test_score_svm_hotstar = accuracy_score(Y_test, pred_svm)*100\n",
        "test_score_svm_hotstar"
      ],
      "execution_count": null,
      "outputs": [
        {
          "output_type": "execute_result",
          "data": {
            "text/plain": [
              "87.5"
            ]
          },
          "metadata": {
            "tags": []
          },
          "execution_count": 0
        }
      ]
    },
    {
      "cell_type": "code",
      "metadata": {
        "colab": {
          "background_save": true
        },
        "id": "jNBAwCVS5jem",
        "outputId": "ecbc733c-5c7c-473d-9b22-c6cc76c8dd87"
      },
      "source": [
        "print(classification_report(Y_test, pred_svm ))\n",
        "rf_cm = confusion_matrix(Y_test, pred_svm )\n",
        "df_cm3 = pd.DataFrame(rf_cm, range(2), range(2))\n",
        "# plt.figure(figsize=(10,7))\n",
        "sns.set(font_scale=1.4) # for label size\n",
        "sns.heatmap(df_cm3, annot=True, cmap='Blues', annot_kws={\"size\": 16}, fmt='g') # font size\n",
        "plt.show()"
      ],
      "execution_count": null,
      "outputs": [
        {
          "output_type": "stream",
          "text": [
            "              precision    recall  f1-score   support\n",
            "\n",
            "           0       0.90      0.96      0.93        77\n",
            "           1       0.50      0.27      0.35        11\n",
            "\n",
            "    accuracy                           0.88        88\n",
            "   macro avg       0.70      0.62      0.64        88\n",
            "weighted avg       0.85      0.88      0.86        88\n",
            "\n"
          ],
          "name": "stdout"
        },
        {
          "output_type": "display_data",
          "data": {
            "image/png": "[encoded data removed]",
            "text/plain": [
              "<Figure size 432x288 with 2 Axes>"
            ]
          },
          "metadata": {
            "tags": []
          }
        }
      ]
    },
    {
      "cell_type": "code",
      "metadata": {
        "colab": {
          "background_save": true
        },
        "id": "lauybEBLlQfJ",
        "outputId": "f27ffb5a-42c0-4825-9950-e321b7d8ccf1"
      },
      "source": [
        "modelacc = pd.DataFrame({\"Netflix_svm\": [test_score_svm_netflix],\n",
        "                               \"Prime_svm\": [test_score_svm],\n",
        "                               \"Hotstar_svm\": [test_score_svm_hotstar],\n",
        "                              })\n",
        "modelacc.plot.bar(align='edge', width=1,figsize=(10,8),ec=\"black\");\n",
        "plt.xlabel('Models', fontsize=20)\n",
        "plt.ylabel('Scores',fontsize=20)\n",
        "plt.legend(fontsize=15);"
      ],
      "execution_count": null,
      "outputs": [
        {
          "output_type": "display_data",
          "data": {
            "image/png": "[encoded data removed]",
            "text/plain": [
              "<Figure size 720x576 with 1 Axes>"
            ]
          },
          "metadata": {
            "tags": []
          }
        }
      ]
    },
    {
      "cell_type": "markdown",
      "metadata": {
        "id": "Cs4IayLZ56lm"
      },
      "source": [
        "**LR**"
      ]
    },
    {
      "cell_type": "markdown",
      "metadata": {
        "id": "zIHeuR3p_RPl"
      },
      "source": [
        "Netflix"
      ]
    },
    {
      "cell_type": "code",
      "metadata": {
        "colab": {
          "background_save": true
        },
        "id": "sL2QCyxLYpHd",
        "outputId": "a184471a-cfd0-4984-c011-c2c0d5cce974"
      },
      "source": [
        "one_hot_data1 = pd.get_dummies(data[['Platforms','Most_watched','Age','Netflix_Rating_Og','Prime_Rating_Og','Hotstar_Rating_Og','Netflix_Rating_movie',\n",
        "       'Netflix_Rating_documentry', 'Netflix_Rating_others','Prime_Rating_movie', 'Prime_Rating_documentry', 'Prime_Rating_others','Hotstar_Rating_movie',\n",
        "       'Hotstar_Rating_documentry', 'Hotstar_Rating_sports']])\n",
        "one_hot_data1"
      ],
      "execution_count": null,
      "outputs": [
        {
          "output_type": "execute_result",
          "data": {
            "text/html": [
              "<div>\n",
              "<style scoped>\n",
              "    .dataframe tbody tr th:only-of-type {\n",
              "        vertical-align: middle;\n",
              "    }\n",
              "\n",
              "    .dataframe tbody tr th {\n",
              "        vertical-align: top;\n",
              "    }\n",
              "\n",
              "    .dataframe thead th {\n",
              "        text-align: right;\n",
              "    }\n",
              "</style>\n",
              "<table border=\"1\" class=\"dataframe\">\n",
              "  <thead>\n",
              "    <tr style=\"text-align: right;\">\n",
              "      <th></th>\n",
              "      <th>Netflix_Rating_Og</th>\n",
              "      <th>Prime_Rating_Og</th>\n",
              "      <th>Hotstar_Rating_Og</th>\n",
              "      <th>Netflix_Rating_movie</th>\n",
              "      <th>Netflix_Rating_documentry</th>\n",
              "      <th>Netflix_Rating_others</th>\n",
              "      <th>Prime_Rating_movie</th>\n",
              "      <th>Prime_Rating_documentry</th>\n",
              "      <th>Prime_Rating_others</th>\n",
              "      <th>Hotstar_Rating_movie</th>\n",
              "      <th>Hotstar_Rating_documentry</th>\n",
              "      <th>Hotstar_Rating_sports</th>\n",
              "      <th>Platforms_All of the above</th>\n",
              "      <th>Platforms_Hotstar</th>\n",
              "      <th>Platforms_Netflix</th>\n",
              "      <th>Platforms_Prime</th>\n",
              "      <th>Most_watched_All of the above</th>\n",
              "      <th>Most_watched_Documentaries</th>\n",
              "      <th>Most_watched_Documentaries, Sports and News</th>\n",
              "      <th>Most_watched_Movies</th>\n",
              "      <th>Most_watched_Movies, Documentaries</th>\n",
              "      <th>Most_watched_Movies, Documentaries, Sports and News</th>\n",
              "      <th>Most_watched_Movies, Sports and News</th>\n",
              "      <th>Most_watched_Original Web Series</th>\n",
              "      <th>Most_watched_Original Web Series, Documentaries</th>\n",
              "      <th>Most_watched_Original Web Series, Documentaries, Sports and News</th>\n",
              "      <th>Most_watched_Original Web Series, Movies</th>\n",
              "      <th>Most_watched_Original Web Series, Movies, Documentaries</th>\n",
              "      <th>Most_watched_Original Web Series, Movies, Sports and News</th>\n",
              "      <th>Most_watched_Original Web Series, Sports and News</th>\n",
              "      <th>Most_watched_Sports and News</th>\n",
              "      <th>Age_18-30</th>\n",
              "      <th>Age_31-50</th>\n",
              "      <th>Age_Less than 18</th>\n",
              "      <th>Age_More than 50</th>\n",
              "    </tr>\n",
              "  </thead>\n",
              "  <tbody>\n",
              "    <tr>\n",
              "      <th>0</th>\n",
              "      <td>4</td>\n",
              "      <td>5</td>\n",
              "      <td>3</td>\n",
              "      <td>4</td>\n",
              "      <td>4</td>\n",
              "      <td>3</td>\n",
              "      <td>5</td>\n",
              "      <td>5</td>\n",
              "      <td>5</td>\n",
              "      <td>2</td>\n",
              "      <td>2</td>\n",
              "      <td>2</td>\n",
              "      <td>0</td>\n",
              "      <td>0</td>\n",
              "      <td>0</td>\n",
              "      <td>1</td>\n",
              "      <td>1</td>\n",
              "      <td>0</td>\n",
              "      <td>0</td>\n",
              "      <td>0</td>\n",
              "      <td>0</td>\n",
              "      <td>0</td>\n",
              "      <td>0</td>\n",
              "      <td>0</td>\n",
              "      <td>0</td>\n",
              "      <td>0</td>\n",
              "      <td>0</td>\n",
              "      <td>0</td>\n",
              "      <td>0</td>\n",
              "      <td>0</td>\n",
              "      <td>0</td>\n",
              "      <td>1</td>\n",
              "      <td>0</td>\n",
              "      <td>0</td>\n",
              "      <td>0</td>\n",
              "    </tr>\n",
              "    <tr>\n",
              "      <th>1</th>\n",
              "      <td>5</td>\n",
              "      <td>4</td>\n",
              "      <td>3</td>\n",
              "      <td>5</td>\n",
              "      <td>5</td>\n",
              "      <td>5</td>\n",
              "      <td>4</td>\n",
              "      <td>3</td>\n",
              "      <td>1</td>\n",
              "      <td>2</td>\n",
              "      <td>1</td>\n",
              "      <td>1</td>\n",
              "      <td>0</td>\n",
              "      <td>0</td>\n",
              "      <td>1</td>\n",
              "      <td>0</td>\n",
              "      <td>0</td>\n",
              "      <td>0</td>\n",
              "      <td>0</td>\n",
              "      <td>0</td>\n",
              "      <td>0</td>\n",
              "      <td>0</td>\n",
              "      <td>0</td>\n",
              "      <td>1</td>\n",
              "      <td>0</td>\n",
              "      <td>0</td>\n",
              "      <td>0</td>\n",
              "      <td>0</td>\n",
              "      <td>0</td>\n",
              "      <td>0</td>\n",
              "      <td>0</td>\n",
              "      <td>1</td>\n",
              "      <td>0</td>\n",
              "      <td>0</td>\n",
              "      <td>0</td>\n",
              "    </tr>\n",
              "    <tr>\n",
              "      <th>2</th>\n",
              "      <td>5</td>\n",
              "      <td>4</td>\n",
              "      <td>4</td>\n",
              "      <td>4</td>\n",
              "      <td>4</td>\n",
              "      <td>4</td>\n",
              "      <td>3</td>\n",
              "      <td>4</td>\n",
              "      <td>4</td>\n",
              "      <td>5</td>\n",
              "      <td>4</td>\n",
              "      <td>5</td>\n",
              "      <td>0</td>\n",
              "      <td>1</td>\n",
              "      <td>0</td>\n",
              "      <td>0</td>\n",
              "      <td>0</td>\n",
              "      <td>0</td>\n",
              "      <td>0</td>\n",
              "      <td>1</td>\n",
              "      <td>0</td>\n",
              "      <td>0</td>\n",
              "      <td>0</td>\n",
              "      <td>0</td>\n",
              "      <td>0</td>\n",
              "      <td>0</td>\n",
              "      <td>0</td>\n",
              "      <td>0</td>\n",
              "      <td>0</td>\n",
              "      <td>0</td>\n",
              "      <td>0</td>\n",
              "      <td>1</td>\n",
              "      <td>0</td>\n",
              "      <td>0</td>\n",
              "      <td>0</td>\n",
              "    </tr>\n",
              "    <tr>\n",
              "      <th>3</th>\n",
              "      <td>1</td>\n",
              "      <td>1</td>\n",
              "      <td>4</td>\n",
              "      <td>1</td>\n",
              "      <td>1</td>\n",
              "      <td>1</td>\n",
              "      <td>1</td>\n",
              "      <td>1</td>\n",
              "      <td>1</td>\n",
              "      <td>4</td>\n",
              "      <td>5</td>\n",
              "      <td>5</td>\n",
              "      <td>0</td>\n",
              "      <td>1</td>\n",
              "      <td>0</td>\n",
              "      <td>0</td>\n",
              "      <td>0</td>\n",
              "      <td>0</td>\n",
              "      <td>0</td>\n",
              "      <td>0</td>\n",
              "      <td>0</td>\n",
              "      <td>1</td>\n",
              "      <td>0</td>\n",
              "      <td>0</td>\n",
              "      <td>0</td>\n",
              "      <td>0</td>\n",
              "      <td>0</td>\n",
              "      <td>0</td>\n",
              "      <td>0</td>\n",
              "      <td>0</td>\n",
              "      <td>0</td>\n",
              "      <td>0</td>\n",
              "      <td>1</td>\n",
              "      <td>0</td>\n",
              "      <td>0</td>\n",
              "    </tr>\n",
              "    <tr>\n",
              "      <th>4</th>\n",
              "      <td>3</td>\n",
              "      <td>4</td>\n",
              "      <td>3</td>\n",
              "      <td>4</td>\n",
              "      <td>2</td>\n",
              "      <td>1</td>\n",
              "      <td>5</td>\n",
              "      <td>4</td>\n",
              "      <td>4</td>\n",
              "      <td>3</td>\n",
              "      <td>3</td>\n",
              "      <td>3</td>\n",
              "      <td>1</td>\n",
              "      <td>0</td>\n",
              "      <td>0</td>\n",
              "      <td>0</td>\n",
              "      <td>0</td>\n",
              "      <td>0</td>\n",
              "      <td>0</td>\n",
              "      <td>1</td>\n",
              "      <td>0</td>\n",
              "      <td>0</td>\n",
              "      <td>0</td>\n",
              "      <td>0</td>\n",
              "      <td>0</td>\n",
              "      <td>0</td>\n",
              "      <td>0</td>\n",
              "      <td>0</td>\n",
              "      <td>0</td>\n",
              "      <td>0</td>\n",
              "      <td>0</td>\n",
              "      <td>1</td>\n",
              "      <td>0</td>\n",
              "      <td>0</td>\n",
              "      <td>0</td>\n",
              "    </tr>\n",
              "    <tr>\n",
              "      <th>...</th>\n",
              "      <td>...</td>\n",
              "      <td>...</td>\n",
              "      <td>...</td>\n",
              "      <td>...</td>\n",
              "      <td>...</td>\n",
              "      <td>...</td>\n",
              "      <td>...</td>\n",
              "      <td>...</td>\n",
              "      <td>...</td>\n",
              "      <td>...</td>\n",
              "      <td>...</td>\n",
              "      <td>...</td>\n",
              "      <td>...</td>\n",
              "      <td>...</td>\n",
              "      <td>...</td>\n",
              "      <td>...</td>\n",
              "      <td>...</td>\n",
              "      <td>...</td>\n",
              "      <td>...</td>\n",
              "      <td>...</td>\n",
              "      <td>...</td>\n",
              "      <td>...</td>\n",
              "      <td>...</td>\n",
              "      <td>...</td>\n",
              "      <td>...</td>\n",
              "      <td>...</td>\n",
              "      <td>...</td>\n",
              "      <td>...</td>\n",
              "      <td>...</td>\n",
              "      <td>...</td>\n",
              "      <td>...</td>\n",
              "      <td>...</td>\n",
              "      <td>...</td>\n",
              "      <td>...</td>\n",
              "      <td>...</td>\n",
              "    </tr>\n",
              "    <tr>\n",
              "      <th>245</th>\n",
              "      <td>4</td>\n",
              "      <td>5</td>\n",
              "      <td>5</td>\n",
              "      <td>5</td>\n",
              "      <td>4</td>\n",
              "      <td>4</td>\n",
              "      <td>4</td>\n",
              "      <td>4</td>\n",
              "      <td>5</td>\n",
              "      <td>4</td>\n",
              "      <td>4</td>\n",
              "      <td>5</td>\n",
              "      <td>0</td>\n",
              "      <td>0</td>\n",
              "      <td>1</td>\n",
              "      <td>0</td>\n",
              "      <td>0</td>\n",
              "      <td>0</td>\n",
              "      <td>0</td>\n",
              "      <td>0</td>\n",
              "      <td>0</td>\n",
              "      <td>0</td>\n",
              "      <td>0</td>\n",
              "      <td>0</td>\n",
              "      <td>0</td>\n",
              "      <td>0</td>\n",
              "      <td>1</td>\n",
              "      <td>0</td>\n",
              "      <td>0</td>\n",
              "      <td>0</td>\n",
              "      <td>0</td>\n",
              "      <td>0</td>\n",
              "      <td>0</td>\n",
              "      <td>1</td>\n",
              "      <td>0</td>\n",
              "    </tr>\n",
              "    <tr>\n",
              "      <th>246</th>\n",
              "      <td>5</td>\n",
              "      <td>5</td>\n",
              "      <td>5</td>\n",
              "      <td>4</td>\n",
              "      <td>4</td>\n",
              "      <td>4</td>\n",
              "      <td>5</td>\n",
              "      <td>4</td>\n",
              "      <td>4</td>\n",
              "      <td>5</td>\n",
              "      <td>4</td>\n",
              "      <td>4</td>\n",
              "      <td>0</td>\n",
              "      <td>0</td>\n",
              "      <td>1</td>\n",
              "      <td>0</td>\n",
              "      <td>0</td>\n",
              "      <td>0</td>\n",
              "      <td>0</td>\n",
              "      <td>1</td>\n",
              "      <td>0</td>\n",
              "      <td>0</td>\n",
              "      <td>0</td>\n",
              "      <td>0</td>\n",
              "      <td>0</td>\n",
              "      <td>0</td>\n",
              "      <td>0</td>\n",
              "      <td>0</td>\n",
              "      <td>0</td>\n",
              "      <td>0</td>\n",
              "      <td>0</td>\n",
              "      <td>0</td>\n",
              "      <td>1</td>\n",
              "      <td>0</td>\n",
              "      <td>0</td>\n",
              "    </tr>\n",
              "    <tr>\n",
              "      <th>247</th>\n",
              "      <td>5</td>\n",
              "      <td>5</td>\n",
              "      <td>5</td>\n",
              "      <td>4</td>\n",
              "      <td>4</td>\n",
              "      <td>3</td>\n",
              "      <td>4</td>\n",
              "      <td>4</td>\n",
              "      <td>4</td>\n",
              "      <td>4</td>\n",
              "      <td>4</td>\n",
              "      <td>5</td>\n",
              "      <td>0</td>\n",
              "      <td>0</td>\n",
              "      <td>0</td>\n",
              "      <td>1</td>\n",
              "      <td>0</td>\n",
              "      <td>0</td>\n",
              "      <td>0</td>\n",
              "      <td>0</td>\n",
              "      <td>0</td>\n",
              "      <td>0</td>\n",
              "      <td>1</td>\n",
              "      <td>0</td>\n",
              "      <td>0</td>\n",
              "      <td>0</td>\n",
              "      <td>0</td>\n",
              "      <td>0</td>\n",
              "      <td>0</td>\n",
              "      <td>0</td>\n",
              "      <td>0</td>\n",
              "      <td>1</td>\n",
              "      <td>0</td>\n",
              "      <td>0</td>\n",
              "      <td>0</td>\n",
              "    </tr>\n",
              "    <tr>\n",
              "      <th>248</th>\n",
              "      <td>5</td>\n",
              "      <td>5</td>\n",
              "      <td>5</td>\n",
              "      <td>4</td>\n",
              "      <td>4</td>\n",
              "      <td>3</td>\n",
              "      <td>4</td>\n",
              "      <td>4</td>\n",
              "      <td>4</td>\n",
              "      <td>4</td>\n",
              "      <td>4</td>\n",
              "      <td>5</td>\n",
              "      <td>0</td>\n",
              "      <td>0</td>\n",
              "      <td>0</td>\n",
              "      <td>1</td>\n",
              "      <td>0</td>\n",
              "      <td>0</td>\n",
              "      <td>0</td>\n",
              "      <td>0</td>\n",
              "      <td>0</td>\n",
              "      <td>0</td>\n",
              "      <td>1</td>\n",
              "      <td>0</td>\n",
              "      <td>0</td>\n",
              "      <td>0</td>\n",
              "      <td>0</td>\n",
              "      <td>0</td>\n",
              "      <td>0</td>\n",
              "      <td>0</td>\n",
              "      <td>0</td>\n",
              "      <td>1</td>\n",
              "      <td>0</td>\n",
              "      <td>0</td>\n",
              "      <td>0</td>\n",
              "    </tr>\n",
              "    <tr>\n",
              "      <th>249</th>\n",
              "      <td>5</td>\n",
              "      <td>5</td>\n",
              "      <td>5</td>\n",
              "      <td>4</td>\n",
              "      <td>4</td>\n",
              "      <td>3</td>\n",
              "      <td>4</td>\n",
              "      <td>4</td>\n",
              "      <td>5</td>\n",
              "      <td>4</td>\n",
              "      <td>3</td>\n",
              "      <td>4</td>\n",
              "      <td>1</td>\n",
              "      <td>0</td>\n",
              "      <td>0</td>\n",
              "      <td>0</td>\n",
              "      <td>1</td>\n",
              "      <td>0</td>\n",
              "      <td>0</td>\n",
              "      <td>0</td>\n",
              "      <td>0</td>\n",
              "      <td>0</td>\n",
              "      <td>0</td>\n",
              "      <td>0</td>\n",
              "      <td>0</td>\n",
              "      <td>0</td>\n",
              "      <td>0</td>\n",
              "      <td>0</td>\n",
              "      <td>0</td>\n",
              "      <td>0</td>\n",
              "      <td>0</td>\n",
              "      <td>0</td>\n",
              "      <td>1</td>\n",
              "      <td>0</td>\n",
              "      <td>0</td>\n",
              "    </tr>\n",
              "  </tbody>\n",
              "</table>\n",
              "<p>250 rows × 35 columns</p>\n",
              "</div>"
            ],
            "text/plain": [
              "     Netflix_Rating_Og  Prime_Rating_Og  ...  Age_Less than 18  Age_More than 50\n",
              "0                    4                5  ...                 0                 0\n",
              "1                    5                4  ...                 0                 0\n",
              "2                    5                4  ...                 0                 0\n",
              "3                    1                1  ...                 0                 0\n",
              "4                    3                4  ...                 0                 0\n",
              "..                 ...              ...  ...               ...               ...\n",
              "245                  4                5  ...                 1                 0\n",
              "246                  5                5  ...                 0                 0\n",
              "247                  5                5  ...                 0                 0\n",
              "248                  5                5  ...                 0                 0\n",
              "249                  5                5  ...                 0                 0\n",
              "\n",
              "[250 rows x 35 columns]"
            ]
          },
          "metadata": {
            "tags": []
          },
          "execution_count": 0
        }
      ]
    },
    {
      "cell_type": "code",
      "metadata": {
        "colab": {
          "background_save": true
        },
        "id": "kY2G52vbhcFD",
        "outputId": "d25bd559-349e-4f8a-c8ed-e309cc92ba89"
      },
      "source": [
        "one_hot_data1 = pd.get_dummies(data[['Platforms','Most_watched','Age','Netflix_Rating_Og','Prime_Rating_Og','Hotstar_Rating_Og','Netflix_Rating_movie',\n",
        "       'Netflix_Rating_documentry', 'Netflix_Rating_others','Prime_Rating_movie', 'Prime_Rating_documentry', 'Prime_Rating_others','Hotstar_Rating_movie',\n",
        "       'Hotstar_Rating_documentry', 'Hotstar_Rating_sports']],drop_first=True)\n",
        "one_hot_data1"
      ],
      "execution_count": null,
      "outputs": [
        {
          "output_type": "execute_result",
          "data": {
            "text/html": [
              "<div>\n",
              "<style scoped>\n",
              "    .dataframe tbody tr th:only-of-type {\n",
              "        vertical-align: middle;\n",
              "    }\n",
              "\n",
              "    .dataframe tbody tr th {\n",
              "        vertical-align: top;\n",
              "    }\n",
              "\n",
              "    .dataframe thead th {\n",
              "        text-align: right;\n",
              "    }\n",
              "</style>\n",
              "<table border=\"1\" class=\"dataframe\">\n",
              "  <thead>\n",
              "    <tr style=\"text-align: right;\">\n",
              "      <th></th>\n",
              "      <th>Netflix_Rating_Og</th>\n",
              "      <th>Prime_Rating_Og</th>\n",
              "      <th>Hotstar_Rating_Og</th>\n",
              "      <th>Netflix_Rating_movie</th>\n",
              "      <th>Netflix_Rating_documentry</th>\n",
              "      <th>Netflix_Rating_others</th>\n",
              "      <th>Prime_Rating_movie</th>\n",
              "      <th>Prime_Rating_documentry</th>\n",
              "      <th>Prime_Rating_others</th>\n",
              "      <th>Hotstar_Rating_movie</th>\n",
              "      <th>Hotstar_Rating_documentry</th>\n",
              "      <th>Hotstar_Rating_sports</th>\n",
              "      <th>Platforms_Hotstar</th>\n",
              "      <th>Platforms_Netflix</th>\n",
              "      <th>Platforms_Prime</th>\n",
              "      <th>Most_watched_Documentaries</th>\n",
              "      <th>Most_watched_Documentaries, Sports and News</th>\n",
              "      <th>Most_watched_Movies</th>\n",
              "      <th>Most_watched_Movies, Documentaries</th>\n",
              "      <th>Most_watched_Movies, Documentaries, Sports and News</th>\n",
              "      <th>Most_watched_Movies, Sports and News</th>\n",
              "      <th>Most_watched_Original Web Series</th>\n",
              "      <th>Most_watched_Original Web Series, Documentaries</th>\n",
              "      <th>Most_watched_Original Web Series, Documentaries, Sports and News</th>\n",
              "      <th>Most_watched_Original Web Series, Movies</th>\n",
              "      <th>Most_watched_Original Web Series, Movies, Documentaries</th>\n",
              "      <th>Most_watched_Original Web Series, Movies, Sports and News</th>\n",
              "      <th>Most_watched_Original Web Series, Sports and News</th>\n",
              "      <th>Most_watched_Sports and News</th>\n",
              "      <th>Age_31-50</th>\n",
              "      <th>Age_Less than 18</th>\n",
              "      <th>Age_More than 50</th>\n",
              "    </tr>\n",
              "  </thead>\n",
              "  <tbody>\n",
              "    <tr>\n",
              "      <th>0</th>\n",
              "      <td>4</td>\n",
              "      <td>5</td>\n",
              "      <td>3</td>\n",
              "      <td>4</td>\n",
              "      <td>4</td>\n",
              "      <td>3</td>\n",
              "      <td>5</td>\n",
              "      <td>5</td>\n",
              "      <td>5</td>\n",
              "      <td>2</td>\n",
              "      <td>2</td>\n",
              "      <td>2</td>\n",
              "      <td>0</td>\n",
              "      <td>0</td>\n",
              "      <td>1</td>\n",
              "      <td>0</td>\n",
              "      <td>0</td>\n",
              "      <td>0</td>\n",
              "      <td>0</td>\n",
              "      <td>0</td>\n",
              "      <td>0</td>\n",
              "      <td>0</td>\n",
              "      <td>0</td>\n",
              "      <td>0</td>\n",
              "      <td>0</td>\n",
              "      <td>0</td>\n",
              "      <td>0</td>\n",
              "      <td>0</td>\n",
              "      <td>0</td>\n",
              "      <td>0</td>\n",
              "      <td>0</td>\n",
              "      <td>0</td>\n",
              "    </tr>\n",
              "    <tr>\n",
              "      <th>1</th>\n",
              "      <td>5</td>\n",
              "      <td>4</td>\n",
              "      <td>3</td>\n",
              "      <td>5</td>\n",
              "      <td>5</td>\n",
              "      <td>5</td>\n",
              "      <td>4</td>\n",
              "      <td>3</td>\n",
              "      <td>1</td>\n",
              "      <td>2</td>\n",
              "      <td>1</td>\n",
              "      <td>1</td>\n",
              "      <td>0</td>\n",
              "      <td>1</td>\n",
              "      <td>0</td>\n",
              "      <td>0</td>\n",
              "      <td>0</td>\n",
              "      <td>0</td>\n",
              "      <td>0</td>\n",
              "      <td>0</td>\n",
              "      <td>0</td>\n",
              "      <td>1</td>\n",
              "      <td>0</td>\n",
              "      <td>0</td>\n",
              "      <td>0</td>\n",
              "      <td>0</td>\n",
              "      <td>0</td>\n",
              "      <td>0</td>\n",
              "      <td>0</td>\n",
              "      <td>0</td>\n",
              "      <td>0</td>\n",
              "      <td>0</td>\n",
              "    </tr>\n",
              "    <tr>\n",
              "      <th>2</th>\n",
              "      <td>5</td>\n",
              "      <td>4</td>\n",
              "      <td>4</td>\n",
              "      <td>4</td>\n",
              "      <td>4</td>\n",
              "      <td>4</td>\n",
              "      <td>3</td>\n",
              "      <td>4</td>\n",
              "      <td>4</td>\n",
              "      <td>5</td>\n",
              "      <td>4</td>\n",
              "      <td>5</td>\n",
              "      <td>1</td>\n",
              "      <td>0</td>\n",
              "      <td>0</td>\n",
              "      <td>0</td>\n",
              "      <td>0</td>\n",
              "      <td>1</td>\n",
              "      <td>0</td>\n",
              "      <td>0</td>\n",
              "      <td>0</td>\n",
              "      <td>0</td>\n",
              "      <td>0</td>\n",
              "      <td>0</td>\n",
              "      <td>0</td>\n",
              "      <td>0</td>\n",
              "      <td>0</td>\n",
              "      <td>0</td>\n",
              "      <td>0</td>\n",
              "      <td>0</td>\n",
              "      <td>0</td>\n",
              "      <td>0</td>\n",
              "    </tr>\n",
              "    <tr>\n",
              "      <th>3</th>\n",
              "      <td>1</td>\n",
              "      <td>1</td>\n",
              "      <td>4</td>\n",
              "      <td>1</td>\n",
              "      <td>1</td>\n",
              "      <td>1</td>\n",
              "      <td>1</td>\n",
              "      <td>1</td>\n",
              "      <td>1</td>\n",
              "      <td>4</td>\n",
              "      <td>5</td>\n",
              "      <td>5</td>\n",
              "      <td>1</td>\n",
              "      <td>0</td>\n",
              "      <td>0</td>\n",
              "      <td>0</td>\n",
              "      <td>0</td>\n",
              "      <td>0</td>\n",
              "      <td>0</td>\n",
              "      <td>1</td>\n",
              "      <td>0</td>\n",
              "      <td>0</td>\n",
              "      <td>0</td>\n",
              "      <td>0</td>\n",
              "      <td>0</td>\n",
              "      <td>0</td>\n",
              "      <td>0</td>\n",
              "      <td>0</td>\n",
              "      <td>0</td>\n",
              "      <td>1</td>\n",
              "      <td>0</td>\n",
              "      <td>0</td>\n",
              "    </tr>\n",
              "    <tr>\n",
              "      <th>4</th>\n",
              "      <td>3</td>\n",
              "      <td>4</td>\n",
              "      <td>3</td>\n",
              "      <td>4</td>\n",
              "      <td>2</td>\n",
              "      <td>1</td>\n",
              "      <td>5</td>\n",
              "      <td>4</td>\n",
              "      <td>4</td>\n",
              "      <td>3</td>\n",
              "      <td>3</td>\n",
              "      <td>3</td>\n",
              "      <td>0</td>\n",
              "      <td>0</td>\n",
              "      <td>0</td>\n",
              "      <td>0</td>\n",
              "      <td>0</td>\n",
              "      <td>1</td>\n",
              "      <td>0</td>\n",
              "      <td>0</td>\n",
              "      <td>0</td>\n",
              "      <td>0</td>\n",
              "      <td>0</td>\n",
              "      <td>0</td>\n",
              "      <td>0</td>\n",
              "      <td>0</td>\n",
              "      <td>0</td>\n",
              "      <td>0</td>\n",
              "      <td>0</td>\n",
              "      <td>0</td>\n",
              "      <td>0</td>\n",
              "      <td>0</td>\n",
              "    </tr>\n",
              "    <tr>\n",
              "      <th>...</th>\n",
              "      <td>...</td>\n",
              "      <td>...</td>\n",
              "      <td>...</td>\n",
              "      <td>...</td>\n",
              "      <td>...</td>\n",
              "      <td>...</td>\n",
              "      <td>...</td>\n",
              "      <td>...</td>\n",
              "      <td>...</td>\n",
              "      <td>...</td>\n",
              "      <td>...</td>\n",
              "      <td>...</td>\n",
              "      <td>...</td>\n",
              "      <td>...</td>\n",
              "      <td>...</td>\n",
              "      <td>...</td>\n",
              "      <td>...</td>\n",
              "      <td>...</td>\n",
              "      <td>...</td>\n",
              "      <td>...</td>\n",
              "      <td>...</td>\n",
              "      <td>...</td>\n",
              "      <td>...</td>\n",
              "      <td>...</td>\n",
              "      <td>...</td>\n",
              "      <td>...</td>\n",
              "      <td>...</td>\n",
              "      <td>...</td>\n",
              "      <td>...</td>\n",
              "      <td>...</td>\n",
              "      <td>...</td>\n",
              "      <td>...</td>\n",
              "    </tr>\n",
              "    <tr>\n",
              "      <th>245</th>\n",
              "      <td>4</td>\n",
              "      <td>5</td>\n",
              "      <td>5</td>\n",
              "      <td>5</td>\n",
              "      <td>4</td>\n",
              "      <td>4</td>\n",
              "      <td>4</td>\n",
              "      <td>4</td>\n",
              "      <td>5</td>\n",
              "      <td>4</td>\n",
              "      <td>4</td>\n",
              "      <td>5</td>\n",
              "      <td>0</td>\n",
              "      <td>1</td>\n",
              "      <td>0</td>\n",
              "      <td>0</td>\n",
              "      <td>0</td>\n",
              "      <td>0</td>\n",
              "      <td>0</td>\n",
              "      <td>0</td>\n",
              "      <td>0</td>\n",
              "      <td>0</td>\n",
              "      <td>0</td>\n",
              "      <td>0</td>\n",
              "      <td>1</td>\n",
              "      <td>0</td>\n",
              "      <td>0</td>\n",
              "      <td>0</td>\n",
              "      <td>0</td>\n",
              "      <td>0</td>\n",
              "      <td>1</td>\n",
              "      <td>0</td>\n",
              "    </tr>\n",
              "    <tr>\n",
              "      <th>246</th>\n",
              "      <td>5</td>\n",
              "      <td>5</td>\n",
              "      <td>5</td>\n",
              "      <td>4</td>\n",
              "      <td>4</td>\n",
              "      <td>4</td>\n",
              "      <td>5</td>\n",
              "      <td>4</td>\n",
              "      <td>4</td>\n",
              "      <td>5</td>\n",
              "      <td>4</td>\n",
              "      <td>4</td>\n",
              "      <td>0</td>\n",
              "      <td>1</td>\n",
              "      <td>0</td>\n",
              "      <td>0</td>\n",
              "      <td>0</td>\n",
              "      <td>1</td>\n",
              "      <td>0</td>\n",
              "      <td>0</td>\n",
              "      <td>0</td>\n",
              "      <td>0</td>\n",
              "      <td>0</td>\n",
              "      <td>0</td>\n",
              "      <td>0</td>\n",
              "      <td>0</td>\n",
              "      <td>0</td>\n",
              "      <td>0</td>\n",
              "      <td>0</td>\n",
              "      <td>1</td>\n",
              "      <td>0</td>\n",
              "      <td>0</td>\n",
              "    </tr>\n",
              "    <tr>\n",
              "      <th>247</th>\n",
              "      <td>5</td>\n",
              "      <td>5</td>\n",
              "      <td>5</td>\n",
              "      <td>4</td>\n",
              "      <td>4</td>\n",
              "      <td>3</td>\n",
              "      <td>4</td>\n",
              "      <td>4</td>\n",
              "      <td>4</td>\n",
              "      <td>4</td>\n",
              "      <td>4</td>\n",
              "      <td>5</td>\n",
              "      <td>0</td>\n",
              "      <td>0</td>\n",
              "      <td>1</td>\n",
              "      <td>0</td>\n",
              "      <td>0</td>\n",
              "      <td>0</td>\n",
              "      <td>0</td>\n",
              "      <td>0</td>\n",
              "      <td>1</td>\n",
              "      <td>0</td>\n",
              "      <td>0</td>\n",
              "      <td>0</td>\n",
              "      <td>0</td>\n",
              "      <td>0</td>\n",
              "      <td>0</td>\n",
              "      <td>0</td>\n",
              "      <td>0</td>\n",
              "      <td>0</td>\n",
              "      <td>0</td>\n",
              "      <td>0</td>\n",
              "    </tr>\n",
              "    <tr>\n",
              "      <th>248</th>\n",
              "      <td>5</td>\n",
              "      <td>5</td>\n",
              "      <td>5</td>\n",
              "      <td>4</td>\n",
              "      <td>4</td>\n",
              "      <td>3</td>\n",
              "      <td>4</td>\n",
              "      <td>4</td>\n",
              "      <td>4</td>\n",
              "      <td>4</td>\n",
              "      <td>4</td>\n",
              "      <td>5</td>\n",
              "      <td>0</td>\n",
              "      <td>0</td>\n",
              "      <td>1</td>\n",
              "      <td>0</td>\n",
              "      <td>0</td>\n",
              "      <td>0</td>\n",
              "      <td>0</td>\n",
              "      <td>0</td>\n",
              "      <td>1</td>\n",
              "      <td>0</td>\n",
              "      <td>0</td>\n",
              "      <td>0</td>\n",
              "      <td>0</td>\n",
              "      <td>0</td>\n",
              "      <td>0</td>\n",
              "      <td>0</td>\n",
              "      <td>0</td>\n",
              "      <td>0</td>\n",
              "      <td>0</td>\n",
              "      <td>0</td>\n",
              "    </tr>\n",
              "    <tr>\n",
              "      <th>249</th>\n",
              "      <td>5</td>\n",
              "      <td>5</td>\n",
              "      <td>5</td>\n",
              "      <td>4</td>\n",
              "      <td>4</td>\n",
              "      <td>3</td>\n",
              "      <td>4</td>\n",
              "      <td>4</td>\n",
              "      <td>5</td>\n",
              "      <td>4</td>\n",
              "      <td>3</td>\n",
              "      <td>4</td>\n",
              "      <td>0</td>\n",
              "      <td>0</td>\n",
              "      <td>0</td>\n",
              "      <td>0</td>\n",
              "      <td>0</td>\n",
              "      <td>0</td>\n",
              "      <td>0</td>\n",
              "      <td>0</td>\n",
              "      <td>0</td>\n",
              "      <td>0</td>\n",
              "      <td>0</td>\n",
              "      <td>0</td>\n",
              "      <td>0</td>\n",
              "      <td>0</td>\n",
              "      <td>0</td>\n",
              "      <td>0</td>\n",
              "      <td>0</td>\n",
              "      <td>1</td>\n",
              "      <td>0</td>\n",
              "      <td>0</td>\n",
              "    </tr>\n",
              "  </tbody>\n",
              "</table>\n",
              "<p>250 rows × 32 columns</p>\n",
              "</div>"
            ],
            "text/plain": [
              "     Netflix_Rating_Og  Prime_Rating_Og  ...  Age_Less than 18  Age_More than 50\n",
              "0                    4                5  ...                 0                 0\n",
              "1                    5                4  ...                 0                 0\n",
              "2                    5                4  ...                 0                 0\n",
              "3                    1                1  ...                 0                 0\n",
              "4                    3                4  ...                 0                 0\n",
              "..                 ...              ...  ...               ...               ...\n",
              "245                  4                5  ...                 1                 0\n",
              "246                  5                5  ...                 0                 0\n",
              "247                  5                5  ...                 0                 0\n",
              "248                  5                5  ...                 0                 0\n",
              "249                  5                5  ...                 0                 0\n",
              "\n",
              "[250 rows x 32 columns]"
            ]
          },
          "metadata": {
            "tags": []
          },
          "execution_count": 0
        }
      ]
    },
    {
      "cell_type": "code",
      "metadata": {
        "colab": {
          "background_save": true
        },
        "id": "_5Nzvv-6hdhA",
        "outputId": "f8e0a6de-205c-404c-8b33-69a98aa8984e"
      },
      "source": [
        "one_hot_data1.columns"
      ],
      "execution_count": null,
      "outputs": [
        {
          "output_type": "execute_result",
          "data": {
            "text/plain": [
              "Index(['Netflix_Rating_Og', 'Prime_Rating_Og', 'Hotstar_Rating_Og',\n",
              "       'Netflix_Rating_movie', 'Netflix_Rating_documentry',\n",
              "       'Netflix_Rating_others', 'Prime_Rating_movie',\n",
              "       'Prime_Rating_documentry', 'Prime_Rating_others',\n",
              "       'Hotstar_Rating_movie', 'Hotstar_Rating_documentry',\n",
              "       'Hotstar_Rating_sports', 'Platforms_Hotstar', 'Platforms_Netflix',\n",
              "       'Platforms_Prime', 'Most_watched_Documentaries',\n",
              "       'Most_watched_Documentaries, Sports and News', 'Most_watched_Movies',\n",
              "       'Most_watched_Movies, Documentaries',\n",
              "       'Most_watched_Movies, Documentaries, Sports and News',\n",
              "       'Most_watched_Movies, Sports and News',\n",
              "       'Most_watched_Original Web Series',\n",
              "       'Most_watched_Original Web Series, Documentaries',\n",
              "       'Most_watched_Original Web Series, Documentaries, Sports and News',\n",
              "       'Most_watched_Original Web Series, Movies',\n",
              "       'Most_watched_Original Web Series, Movies, Documentaries',\n",
              "       'Most_watched_Original Web Series, Movies, Sports and News',\n",
              "       'Most_watched_Original Web Series, Sports and News',\n",
              "       'Most_watched_Sports and News', 'Age_31-50', 'Age_Less than 18',\n",
              "       'Age_More than 50'],\n",
              "      dtype='object')"
            ]
          },
          "metadata": {
            "tags": []
          },
          "execution_count": 0
        }
      ]
    },
    {
      "cell_type": "code",
      "metadata": {
        "colab": {
          "background_save": true
        },
        "id": "VDOXKjwoAWNn"
      },
      "source": [
        "from sklearn.linear_model import LogisticRegression\n",
        "from sklearn.model_selection import cross_val_score\n"
      ],
      "execution_count": null,
      "outputs": []
    },
    {
      "cell_type": "code",
      "metadata": {
        "colab": {
          "background_save": true
        },
        "id": "HBinauo26AxT",
        "outputId": "796d6e4f-08af-45cc-cd3a-f48170fd342f"
      },
      "source": [
        "lr = LogisticRegression()\n",
        "columns =['Platforms_Netflix','Age_31-50','Age_Less than 18','Age_More than 50']\n",
        "lr.fit(one_hot_data1[columns], one_hot_data1['Netflix_Rating_Og'])"
      ],
      "execution_count": null,
      "outputs": [
        {
          "output_type": "execute_result",
          "data": {
            "text/plain": [
              "LogisticRegression(C=1.0, class_weight=None, dual=False, fit_intercept=True,\n",
              "                   intercept_scaling=1, l1_ratio=None, max_iter=100,\n",
              "                   multi_class='auto', n_jobs=None, penalty='l2',\n",
              "                   random_state=None, solver='lbfgs', tol=0.0001, verbose=0,\n",
              "                   warm_start=False)"
            ]
          },
          "metadata": {
            "tags": []
          },
          "execution_count": 0
        }
      ]
    },
    {
      "cell_type": "code",
      "metadata": {
        "colab": {
          "background_save": true
        },
        "id": "EUcwR5rl6Az4"
      },
      "source": [
        "X = one_hot_data1[columns]\n",
        "y = one_hot_data1['Netflix_Rating_Og']\n",
        "\n",
        "train_X, val_X, train_y, val_y = train_test_split(\n",
        "    X, y, test_size=0.20,random_state=0)"
      ],
      "execution_count": null,
      "outputs": []
    },
    {
      "cell_type": "code",
      "metadata": {
        "colab": {
          "background_save": true
        },
        "id": "z0ro4z1X6A2x",
        "outputId": "9c2ab3a8-2d48-4d8c-afb4-27d1a8a492c7"
      },
      "source": [
        "lr = LogisticRegression()\n",
        "lr.fit(train_X, train_y)\n",
        "predictions_netflix = lr.predict(val_X)\n",
        "accuracy_netflix = accuracy_score(val_y, predictions_netflix)\n",
        "print(accuracy_netflix)\n",
        "from sklearn.metrics import classification_report\n",
        "print(classification_report(val_y,predictions_netflix))"
      ],
      "execution_count": null,
      "outputs": [
        {
          "output_type": "stream",
          "text": [
            "0.6\n",
            "              precision    recall  f1-score   support\n",
            "\n",
            "           1       0.00      0.00      0.00         4\n",
            "           2       0.00      0.00      0.00         3\n",
            "           3       0.00      0.00      0.00         2\n",
            "           4       0.00      0.00      0.00        10\n",
            "           5       0.61      0.97      0.75        31\n",
            "\n",
            "    accuracy                           0.60        50\n",
            "   macro avg       0.12      0.19      0.15        50\n",
            "weighted avg       0.38      0.60      0.47        50\n",
            "\n"
          ],
          "name": "stdout"
        },
        {
          "output_type": "stream",
          "text": [
            "/usr/local/lib/python3.7/dist-packages/sklearn/metrics/_classification.py:1272: UndefinedMetricWarning: Precision and F-score are ill-defined and being set to 0.0 in labels with no predicted samples. Use `zero_division` parameter to control this behavior.\n",
            "  _warn_prf(average, modifier, msg_start, len(result))\n"
          ],
          "name": "stderr"
        }
      ]
    },
    {
      "cell_type": "markdown",
      "metadata": {
        "id": "73qs_Ad9BYol"
      },
      "source": [
        "**Prime**"
      ]
    },
    {
      "cell_type": "code",
      "metadata": {
        "colab": {
          "background_save": true
        },
        "id": "EF2K2llo6A52",
        "outputId": "671df98b-d9ef-423e-a65b-a7e6f5abc949"
      },
      "source": [
        "lr = LogisticRegression()\n",
        "columns =['Platforms_Prime','Age_31-50','Age_Less than 18','Age_More than 50']\n",
        "lr.fit(one_hot_data1[columns], one_hot_data1['Prime_Rating_Og'])"
      ],
      "execution_count": null,
      "outputs": [
        {
          "output_type": "execute_result",
          "data": {
            "text/plain": [
              "LogisticRegression(C=1.0, class_weight=None, dual=False, fit_intercept=True,\n",
              "                   intercept_scaling=1, l1_ratio=None, max_iter=100,\n",
              "                   multi_class='auto', n_jobs=None, penalty='l2',\n",
              "                   random_state=None, solver='lbfgs', tol=0.0001, verbose=0,\n",
              "                   warm_start=False)"
            ]
          },
          "metadata": {
            "tags": []
          },
          "execution_count": 0
        }
      ]
    },
    {
      "cell_type": "code",
      "metadata": {
        "colab": {
          "background_save": true
        },
        "id": "7nNl_kr56A8v"
      },
      "source": [
        "X = one_hot_data1[columns]\n",
        "y = one_hot_data1['Prime_Rating_Og']\n",
        "\n",
        "train_X, val_X, train_y, val_y = train_test_split(\n",
        "    X, y, test_size=0.25,random_state=0)"
      ],
      "execution_count": null,
      "outputs": []
    },
    {
      "cell_type": "code",
      "metadata": {
        "colab": {
          "background_save": true
        },
        "id": "eUJQiwlv6BBJ",
        "outputId": "32509de2-4b8a-48ce-d9b6-1201a90c66de"
      },
      "source": [
        "lr = LogisticRegression()\n",
        "lr.fit(train_X, train_y)\n",
        "predictions_prime = lr.predict(val_X)\n",
        "accuracy_prime = accuracy_score(val_y, predictions_prime)\n",
        "print(accuracy_prime)\n",
        "from sklearn.metrics import classification_report\n",
        "print(classification_report(val_y,predictions_prime))"
      ],
      "execution_count": null,
      "outputs": [
        {
          "output_type": "stream",
          "text": [
            "0.6349206349206349\n",
            "              precision    recall  f1-score   support\n",
            "\n",
            "           1       0.00      0.00      0.00         3\n",
            "           2       0.00      0.00      0.00         2\n",
            "           3       0.00      0.00      0.00         5\n",
            "           4       0.00      0.00      0.00        13\n",
            "           5       0.63      1.00      0.78        40\n",
            "\n",
            "    accuracy                           0.63        63\n",
            "   macro avg       0.13      0.20      0.16        63\n",
            "weighted avg       0.40      0.63      0.49        63\n",
            "\n"
          ],
          "name": "stdout"
        },
        {
          "output_type": "stream",
          "text": [
            "/usr/local/lib/python3.7/dist-packages/sklearn/metrics/_classification.py:1272: UndefinedMetricWarning: Precision and F-score are ill-defined and being set to 0.0 in labels with no predicted samples. Use `zero_division` parameter to control this behavior.\n",
            "  _warn_prf(average, modifier, msg_start, len(result))\n"
          ],
          "name": "stderr"
        }
      ]
    },
    {
      "cell_type": "markdown",
      "metadata": {
        "id": "PmBLgkFsCmOC"
      },
      "source": [
        "Hotstar"
      ]
    },
    {
      "cell_type": "code",
      "metadata": {
        "colab": {
          "background_save": true
        },
        "id": "GQe1KA2P6BEW",
        "outputId": "74b9984d-b672-4f48-cc5e-77f83d12b431"
      },
      "source": [
        "lr = LogisticRegression()\n",
        "columns =['Platforms_Hotstar','Age_31-50', 'Age_Less than 18','Age_More than 50']\n",
        "lr.fit(one_hot_data1[columns], one_hot_data1['Hotstar_Rating_Og'])"
      ],
      "execution_count": null,
      "outputs": [
        {
          "output_type": "execute_result",
          "data": {
            "text/plain": [
              "LogisticRegression(C=1.0, class_weight=None, dual=False, fit_intercept=True,\n",
              "                   intercept_scaling=1, l1_ratio=None, max_iter=100,\n",
              "                   multi_class='auto', n_jobs=None, penalty='l2',\n",
              "                   random_state=None, solver='lbfgs', tol=0.0001, verbose=0,\n",
              "                   warm_start=False)"
            ]
          },
          "metadata": {
            "tags": []
          },
          "execution_count": 0
        }
      ]
    },
    {
      "cell_type": "code",
      "metadata": {
        "colab": {
          "background_save": true
        },
        "id": "08ke-_3i6BHQ"
      },
      "source": [
        "X = one_hot_data1[columns]\n",
        "y = one_hot_data1['Hotstar_Rating_Og']\n",
        "\n",
        "train_X, val_X, train_y, val_y = train_test_split(\n",
        "    X, y, test_size=0.30,random_state=0)"
      ],
      "execution_count": null,
      "outputs": []
    },
    {
      "cell_type": "code",
      "metadata": {
        "colab": {
          "background_save": true
        },
        "id": "Yq6OKyV16BJp",
        "outputId": "ddaad5ce-9023-4c9d-8983-64ce045beae9"
      },
      "source": [
        "lr = LogisticRegression()\n",
        "lr.fit(train_X, train_y)\n",
        "predictions_hotstar = lr.predict(val_X)\n",
        "accuracy_hotstar = accuracy_score(val_y, predictions_hotstar)\n",
        "print(accuracy_hotstar)\n",
        "from sklearn.metrics import classification_report\n",
        "print(classification_report(val_y,predictions_hotstar))"
      ],
      "execution_count": null,
      "outputs": [
        {
          "output_type": "stream",
          "text": [
            "0.5066666666666667\n",
            "              precision    recall  f1-score   support\n",
            "\n",
            "           1       0.00      0.00      0.00        10\n",
            "           2       0.00      0.00      0.00         2\n",
            "           3       0.00      0.00      0.00        12\n",
            "           4       0.40      0.27      0.32        15\n",
            "           5       0.52      0.94      0.67        36\n",
            "\n",
            "    accuracy                           0.51        75\n",
            "   macro avg       0.18      0.24      0.20        75\n",
            "weighted avg       0.33      0.51      0.39        75\n",
            "\n"
          ],
          "name": "stdout"
        },
        {
          "output_type": "stream",
          "text": [
            "/usr/local/lib/python3.7/dist-packages/sklearn/metrics/_classification.py:1272: UndefinedMetricWarning: Precision and F-score are ill-defined and being set to 0.0 in labels with no predicted samples. Use `zero_division` parameter to control this behavior.\n",
            "  _warn_prf(average, modifier, msg_start, len(result))\n"
          ],
          "name": "stderr"
        }
      ]
    },
    {
      "cell_type": "code",
      "metadata": {
        "colab": {
          "background_save": true
        },
        "id": "AhEr1V3HmFzt",
        "outputId": "5de49375-f872-4cc2-f4fd-78657d0d0f6c"
      },
      "source": [
        "modelacc = pd.DataFrame({\"Netflix_LR\": [accuracy_netflix],\n",
        "                               \"Prime_LR\": [accuracy_prime],\n",
        "                               \"Hotstar_LR\": [accuracy_hotstar],\n",
        "                              })\n",
        "modelacc.plot.bar(align='edge', width=1,figsize=(10,8),ec=\"black\");\n",
        "plt.xlabel('Models', fontsize=20)\n",
        "plt.ylabel('Scores',fontsize=20)\n",
        "plt.legend(fontsize=15);"
      ],
      "execution_count": null,
      "outputs": [
        {
          "output_type": "display_data",
          "data": {
            "image/png": "[encoded data removed]",
            "text/plain": [
              "<Figure size 720x576 with 1 Axes>"
            ]
          },
          "metadata": {
            "tags": []
          }
        }
      ]
    }
  ]
}